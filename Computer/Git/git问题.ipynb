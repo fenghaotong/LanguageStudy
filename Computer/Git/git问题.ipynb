{
 "cells": [
  {
   "cell_type": "markdown",
   "metadata": {},
   "source": [
    "# 操作git过程中遇到的问题及解决方法"
   ]
  },
  {
   "cell_type": "markdown",
   "metadata": {},
   "source": [
    "## 问题1 \n",
    "\n",
    "```git\n",
    "error: RPC failed; result=22, HTTP code = 411\n",
    "```"
   ]
  },
  {
   "cell_type": "markdown",
   "metadata": {},
   "source": [
    "> 解决方法： \n",
    "\n",
    "```git\n",
    "git config http.postBuffer 504288000\n",
    "```"
   ]
  },
  {
   "cell_type": "markdown",
   "metadata": {},
   "source": [
    "## 问题2\n",
    "\n",
    "```\n",
    "remote: error: File DATA/sdss_S82standards.npy is 145.95 MB; this exceeds GitHub's file size limit of 100.00 MB\n",
    "```"
   ]
  },
  {
   "cell_type": "markdown",
   "metadata": {},
   "source": [
    "> 解决办法\n",
    "\n",
    "使用GIT LFS\n",
    "\n",
    "```git\n",
    "\n",
    "git lfs install\n",
    "\n",
    "git lfs track \"file_name\"\n",
    "\n",
    "git add filename\n",
    "\n",
    "git commit -m \"desc\"\n",
    "\n",
    "git push\n",
    "```"
   ]
  },
  {
   "cell_type": "code",
   "execution_count": null,
   "metadata": {
    "collapsed": true
   },
   "outputs": [],
   "source": []
  }
 ],
 "metadata": {
  "kernelspec": {
   "display_name": "Python 3",
   "language": "python",
   "name": "python3"
  },
  "language_info": {
   "codemirror_mode": {
    "name": "ipython",
    "version": 3
   },
   "file_extension": ".py",
   "mimetype": "text/x-python",
   "name": "python",
   "nbconvert_exporter": "python",
   "pygments_lexer": "ipython3",
   "version": "3.6.1"
  }
 },
 "nbformat": 4,
 "nbformat_minor": 2
}
