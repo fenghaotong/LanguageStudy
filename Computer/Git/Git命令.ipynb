{
 "cells": [
  {
   "cell_type": "markdown",
   "metadata": {},
   "source": [
    "# Git命令"
   ]
  },
  {
   "cell_type": "markdown",
   "metadata": {},
   "source": [
    "## 过程：add----commit-----push\n",
    "\n",
    "- 添加到暂存区：“git add .”\n",
    "- 提交到仓库 ： “git commit -m ‘ something to write’ ”\n",
    "- 查看状态： “git status”\n",
    "- 移除文件：“git rm [file]”\n",
    "- 查看历史：“git log”\n",
    "- 撤销暂存：“git reset HEAD [file]”\n",
    "- 误删回复：“git checkout -- [file]”\n",
    "- 撤销提交：“git commit --amend”\n",
    "- 版本回退：“git reset --hard HEAD^”（HEAD上面的尖角表示回退到上个版本，两个表示回退到上上了版本，以此类推  或者“git reset --hard [id]”）\n",
    "- 查看远程仓库：“git remote -v”\n",
    "- 添加远程仓库：“git remote add[shortname]  [url]”\n",
    "- 抓取数据：“git fench [remote-name]”\n",
    "- 更新到最新版本：“git pull”（对于clone到本地的别人的仓库）\n",
    "- 将本地数据更新到远程仓库：“git push [remote-name]  [branch]”\n",
    "> 例如推送到默认的origin仓库的master分支\n",
    "> git push origin master\n"
   ]
  },
  {
   "cell_type": "markdown",
   "metadata": {},
   "source": [
    "## 关于git你不知道的事"
   ]
  },
  {
   "cell_type": "markdown",
   "metadata": {},
   "source": [
    "### git log -p FILE\n",
    "\n",
    "- 查看README.md的修改历史\n",
    "> git log -p README.md"
   ]
  },
  {
   "cell_type": "markdown",
   "metadata": {},
   "source": [
    "### git log -S ’PATTERN’\n",
    "\n",
    "- 例如，搜索修改符合stupid的历史：\n",
    "> git log -S 'stupid'"
   ]
  },
  {
   "cell_type": "markdown",
   "metadata": {},
   "source": [
    "### git add -p\n",
    "\n",
    "- 交互式的保存和取消保存变化，使用：\n",
    "> git add -p"
   ]
  },
  {
   "cell_type": "markdown",
   "metadata": {},
   "source": [
    "### git rm –cached FILE\n",
    "\n",
    "- 这个命令只删除远程文件，例如：\n",
    "> git rm --cached database.yml    \n",
    "删除database.yml被保存的记录，但是不影响本地文件。这对删除已经推送过的忽略文件记录而且不影响本地文件是非常的方便的。\n",
    "\n"
   ]
  },
  {
   "cell_type": "markdown",
   "metadata": {},
   "source": [
    "### git log ..BRANCH\n",
    "\n",
    "- 这个命令返回某个非HEAD分支的提交记录。假如你在一个功能分支，输入：\n",
    "> git log ..master    \n",
    "返回全部master分支的历史记录，包括未被合并到当前分支的提交记录。\n",
    "\n"
   ]
  },
  {
   "cell_type": "markdown",
   "metadata": {},
   "source": [
    "### git branch –merged & git branch –no-merged\n",
    "\n",
    "- 这个命令返回已合并分支列表或未合并的分支列表。这个命令对合并前检查非常有用。例如，在一个功能分支，输入\n",
    "> git branch --no-merged    \n",
    "返回未合并到该分支的分支列表。\n",
    "\n"
   ]
  },
  {
   "cell_type": "markdown",
   "metadata": {},
   "source": [
    "### git branch –contains SHA\n",
    "\n",
    "- 返回包含某个指定sha的分支列表。例如：\n",
    "> git branch --contains 2f8e2b    \n",
    "显示全部包含提交2f832b的分支。这个命令对于验证git cherry-pick完成非常有帮助。\n",
    "\n"
   ]
  },
  {
   "cell_type": "markdown",
   "metadata": {},
   "source": [
    "### git status -s\n",
    "\n",
    "- 返回一个简单版的git status。我设置这个命令为默认git status来减少噪音。\n",
    "\n"
   ]
  },
  {
   "cell_type": "markdown",
   "metadata": {},
   "source": [
    "### git reflog\n",
    "\n",
    "- 显示你在本地已完成的操作列表。\n",
    "\n",
    "\n"
   ]
  },
  {
   "cell_type": "markdown",
   "metadata": {},
   "source": [
    "### git shortlog -sn\n",
    "\n",
    "- 显示提交记录的参与者列表。和GitHub的参与者列表相同。"
   ]
  },
  {
   "cell_type": "code",
   "execution_count": null,
   "metadata": {
    "collapsed": true
   },
   "outputs": [],
   "source": []
  }
 ],
 "metadata": {
  "kernelspec": {
   "display_name": "Python [Root]",
   "language": "python",
   "name": "Python [Root]"
  },
  "language_info": {
   "codemirror_mode": {
    "name": "ipython",
    "version": 3
   },
   "file_extension": ".py",
   "mimetype": "text/x-python",
   "name": "python",
   "nbconvert_exporter": "python",
   "pygments_lexer": "ipython3",
   "version": "3.5.1"
  }
 },
 "nbformat": 4,
 "nbformat_minor": 0
}
