{
 "cells": [
  {
   "cell_type": "markdown",
   "metadata": {},
   "source": [
    "# 理解shell"
   ]
  },
  {
   "cell_type": "markdown",
   "metadata": {},
   "source": [
    "## shell的类型"
   ]
  },
  {
   "cell_type": "markdown",
   "metadata": {},
   "source": [
    "- 可直接输入/bin/dash命令启动shell\n",
    "```bash\n",
    "$ /bin/dash\n",
    "$\n",
    "```"
   ]
  },
  {
   "cell_type": "markdown",
   "metadata": {},
   "source": [
    "## shell 的父子关系"
   ]
  },
  {
   "cell_type": "markdown",
   "metadata": {},
   "source": [
    "- 在CLI提示符后输入/bin/bash命令或其他等效的bash命令时，会创建一个新的shell程序。这个shell程序被称为子shell（child shell）。子shell也拥有CLI提示符，同样会等待命令输入。\n",
    "- 当输入bash、生成子shell的时候，你是看不到任何相关的信息的，因此需要另一条命令帮助我们理清这一切。第4章中讲过的ps命令能够派上用场，在生成子shell的前后配合选项-f来使用。"
   ]
  },
  {
   "cell_type": "markdown",
   "metadata": {},
   "source": [
    "- bash命令行参数\n",
    "\n",
    "| 参 数 |描 述|\n",
    "|:--:|:--|\n",
    "|-c |string 从string中读取命令并进行处理|\n",
    "|-i |启动一个能够接收用户输入的交互shell|\n",
    "|-l |以登录shell的形式启动|\n",
    "|-r |启动一个受限shell，用户会被限制在默认目录中|\n",
    "|-s |从标准输入中读取命令|"
   ]
  },
  {
   "cell_type": "markdown",
   "metadata": {},
   "source": [
    "### 进程列表\n",
    "- 你可以在一行中指定要依次运行的一系列命令。这可以通过命令列表来实现，只需要在命令\n",
    "之间加入分号（;）即可。"
   ]
  },
  {
   "cell_type": "markdown",
   "metadata": {},
   "source": [
    "```bash\n",
    "$ pwd ; ls ; cd /etc ; pwd ; cd ; pwd ; ls\n",
    "```"
   ]
  },
  {
   "cell_type": "markdown",
   "metadata": {},
   "source": [
    "- 在上面的例子中，所有的命令依次执行，不存在任何问题。不过这并不是进程列表。命令列表要想成为进程列表，这些命令必须包含在括号里。\n",
    "\n",
    "```bash\n",
    "$ (pwd ; ls ; cd /etc ; pwd ; cd ; pwd ; ls)\n",
    "```"
   ]
  },
  {
   "cell_type": "markdown",
   "metadata": {},
   "source": [
    "###  别出心裁的子shell用法\n"
   ]
  },
  {
   "cell_type": "markdown",
   "metadata": {},
   "source": [
    "## 理解shell 的内建命令"
   ]
  },
  {
   "cell_type": "markdown",
   "metadata": {},
   "source": [
    "- history命令：查看命令历史\n",
    "- !!命令，bash首先会显示出从shell的历史记录中唤回的命令。然后执行该命令。\n",
    "- 命令别名"
   ]
  }
 ],
 "metadata": {
  "anaconda-cloud": {},
  "kernelspec": {
   "display_name": "Python [Root]",
   "language": "python",
   "name": "Python [Root]"
  },
  "language_info": {
   "codemirror_mode": {
    "name": "ipython",
    "version": 3
   },
   "file_extension": ".py",
   "mimetype": "text/x-python",
   "name": "python",
   "nbconvert_exporter": "python",
   "pygments_lexer": "ipython3",
   "version": "3.5.1"
  }
 },
 "nbformat": 4,
 "nbformat_minor": 0
}
