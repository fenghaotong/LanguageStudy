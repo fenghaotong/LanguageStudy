{
 "cells": [
  {
   "cell_type": "markdown",
   "metadata": {},
   "source": [
    "# 第四章 更多的bash shell命令\n"
   ]
  },
  {
   "cell_type": "markdown",
   "metadata": {},
   "source": [
    "## 监控程序"
   ]
  },
  {
   "cell_type": "markdown",
   "metadata": {},
   "source": [
    "### 进程查看\n",
    "\n",
    "- ps命令"
   ]
  },
  {
   "cell_type": "markdown",
   "metadata": {},
   "source": [
    "- ps命令本身并不能提供太多信息\n",
    "- Linux系统中使用的GNU ps命令支持3种不同的命令行参数\n",
    "    - Unix类型参数，前面有一短划线；\n",
    "    - BSD类型参数，前面没有短划线\n",
    "    - GNU长参数，前面有双短划线。"
   ]
  },
  {
   "cell_type": "markdown",
   "metadata": {},
   "source": [
    "### 实时进程监控"
   ]
  },
  {
   "cell_type": "markdown",
   "metadata": {},
   "source": [
    "- ps命令只能显示特定时间点的信息，如果需要查明经常在内存中换进换出的进程的趋势，ps命令就无能为力了。\n",
    "- top命令可以"
   ]
  },
  {
   "cell_type": "markdown",
   "metadata": {},
   "source": [
    "### 停止进程"
   ]
  },
  {
   "cell_type": "markdown",
   "metadata": {},
   "source": [
    "- kill命令"
   ]
  },
  {
   "cell_type": "markdown",
   "metadata": {},
   "source": [
    "## 监控磁盘空间"
   ]
  },
  {
   "cell_type": "markdown",
   "metadata": {},
   "source": [
    "### 挂载介质"
   ]
  },
  {
   "cell_type": "markdown",
   "metadata": {},
   "source": [
    "- mount命令用于挂载介质。默认情况下，mount命令显示系统当前挂在的介质设备列表\n",
    "- mount命令提供了4条信息\n",
    "    - 介质的设备信息\n",
    "    - 介质在虚拟目录中的挂在点\n",
    "    - 文件系统类型\n",
    "    - 一挂载介质的访问状态\n",
    "    "
   ]
  },
  {
   "cell_type": "code",
   "execution_count": null,
   "metadata": {
    "collapsed": true
   },
   "outputs": [],
   "source": []
  }
 ],
 "metadata": {
  "anaconda-cloud": {},
  "kernelspec": {
   "display_name": "Python [Root]",
   "language": "python",
   "name": "Python [Root]"
  },
  "language_info": {
   "codemirror_mode": {
    "name": "ipython",
    "version": 3
   },
   "file_extension": ".py",
   "mimetype": "text/x-python",
   "name": "python",
   "nbconvert_exporter": "python",
   "pygments_lexer": "ipython3",
   "version": "3.5.1"
  }
 },
 "nbformat": 4,
 "nbformat_minor": 0
}
