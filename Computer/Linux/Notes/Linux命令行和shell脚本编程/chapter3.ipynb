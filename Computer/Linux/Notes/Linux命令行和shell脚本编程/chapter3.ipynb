{
 "cells": [
  {
   "cell_type": "markdown",
   "metadata": {},
   "source": [
    "# 第三章 基本的bash shell命令"
   ]
  },
  {
   "cell_type": "markdown",
   "metadata": {
    "collapsed": true
   },
   "source": [
    "## 启动shell"
   ]
  },
  {
   "cell_type": "markdown",
   "metadata": {},
   "source": [
    "- bash命令行参数\n",
    "\n",
    "|参数|描述|\n",
    "|:----:|:-----|\n",
    "|-c string|从字符串读取命令并进行处理|\n",
    "|-r|启动受限制shell，将用户限制在默认目录|\n",
    "|-i|启动交互shell，允许用户的输入|\n",
    "|-s|从标准输入中读取命令|"
   ]
  },
  {
   "cell_type": "markdown",
   "metadata": {},
   "source": [
    "## shell提示符"
   ]
  },
  {
   "cell_type": "markdown",
   "metadata": {},
   "source": [
    "** 控制命令行提示符的环境变量有两个 **\n",
    "\n",
    "- PS1：控制默认命令行提示符的格式。\n",
    "- PS2：控制第二层命令行提示符的格式。"
   ]
  },
  {
   "cell_type": "markdown",
   "metadata": {},
   "source": [
    "- bash shell提示符字符\n",
    "\n",
    "|字符|描述|\n",
    "|:---:|:-----|\n",
    "|\\a|铃声字符|\n",
    "|\\d|格式为“日月年”的日期|\n",
    "|\\e|ASCLL转义字符|\n",
    "|\\h|本地主机名|\n",
    "|\\H|完全合格的限定域主机名|\n",
    "|\\j|shell当前管理的作业数|\n",
    "|\\l|shell终端设备名的基本名称|\n",
    "|\\n|ASCll换行字符|\n",
    "|\\r|ASCll回车|\n",
    "|\\s|shell名称|\n",
    "|\\t|格式为“小时：分钟：秒”的24小时制的当前时间|\n",
    "|\\T|格式为“小时：分钟：秒”的12小时制的当前时间|\n",
    "|\\@|格式为am/pm的12小时制的当前时间|\n",
    "|\\u|当前用户的用户名|\n",
    "|\\v|bash shell的版本|\n",
    "|\\V|bash shell的发布级别|\n",
    "|\\w|当前工作目录|\n",
    "|\\W|当前工作目录的基本名称|\n",
    "|\\!|该命令的bash shell历史数|\n",
    "|\\#|该命令的命令数量|\n",
    "|\\$|如果是普通用户，则为美元符号;如果是超级用户，则为英镑符号|\n",
    "|\\nnn|对应于八进制nnn的字符|\n",
    "|`\\`\\|斜杠|\n",
    "|`\\`]|控制码序列的开头|\n",
    "|`\\`]|控制码序列的结尾|"
   ]
  },
  {
   "cell_type": "markdown",
   "metadata": {},
   "source": [
    "## bash手册"
   ]
  },
  {
   "cell_type": "markdown",
   "metadata": {},
   "source": [
    "- 输入man bash命令可查看bash shell的信息"
   ]
  },
  {
   "cell_type": "markdown",
   "metadata": {},
   "source": [
    "## 文件系统导航"
   ]
  },
  {
   "cell_type": "markdown",
   "metadata": {},
   "source": [
    "|目录|用法|\n",
    "|:----:|:-----|\n",
    "|/|虚拟目录的根目录，通常此处没有文件|\n",
    "|/bin|二进制目录，存储许多GNU用户级别的实用程序|\n",
    "|/boot|引导目录，存储引导文件|\n",
    "|/dev|设备目录，Linux在该目录中创建设备节点|\n",
    "|/etc|系统配置文件目录|\n",
    "|/home|主目录，Linux在该目录中创建用户目录|\n",
    "|/lib|库目录，存储系统和程序库文件|\n",
    "|/media|媒体目录，可移动媒体设备常用的挂载点|\n",
    "|/mnt|挂载目录，另一个可移动媒体设备常用的挂载点|\n",
    "|/opt|可选目录，常用于存储可选软件包|\n",
    "|/root|根主目录|\n",
    "|/sbin|系统二进制目录，存储许多GNU管理级别的实用程序|\n",
    "|/tmp|临时目录，可以在该目录中创建和销毁临时工作文件|\n",
    "|/usr|用户安转软件的目录|\n",
    "|/var|可变目录，用于经常更改的文件，比如日志文件|"
   ]
  },
  {
   "cell_type": "markdown",
   "metadata": {},
   "source": [
    "** 浏览目录 **\n",
    "\n",
    "- cd命令"
   ]
  },
  {
   "cell_type": "markdown",
   "metadata": {},
   "source": [
    "## 文件和目录列表"
   ]
  },
  {
   "cell_type": "markdown",
   "metadata": {},
   "source": [
    "## 文件处理"
   ]
  },
  {
   "cell_type": "markdown",
   "metadata": {},
   "source": [
    "- cp -l file file:硬链接\n",
    "- cp -s file file：软链接"
   ]
  },
  {
   "cell_type": "markdown",
   "metadata": {},
   "source": [
    "## 查看文件内容"
   ]
  },
  {
   "cell_type": "markdown",
   "metadata": {},
   "source": [
    "- stat命令提供文件系统中文件状态（缺少文件类型）\n",
    "- file可以查看文件类型"
   ]
  },
  {
   "cell_type": "markdown",
   "metadata": {},
   "source": [
    "### 查看整个文件"
   ]
  },
  {
   "cell_type": "markdown",
   "metadata": {},
   "source": [
    "- cat命令\n",
    "- more命令"
   ]
  },
  {
   "cell_type": "markdown",
   "metadata": {},
   "source": [
    "### 查看部分文件"
   ]
  },
  {
   "cell_type": "markdown",
   "metadata": {},
   "source": [
    "- tail命令"
   ]
  },
  {
   "cell_type": "markdown",
   "metadata": {},
   "source": [
    "|参数|描述|\n",
    "|:---:|:----|\n",
    "|-c bytes|显示文件最后bytes个字节|\n",
    "|-n lines|显示文件最后lines行|\n",
    "|-f|保持tail程序的激活状态，并继续显示添加到文件的新行|\n",
    "|--pid=PID|与-f一起使用，跟踪文件直到进程ID为PID的进程终止|\n",
    "|-s sec|与-f一起使用，迭代之间休眠sec秒|\n",
    "|-v|始终显示给定文件名的输出标题|\n",
    "|-q|绝不显示给定文件名的输出标题|"
   ]
  },
  {
   "cell_type": "code",
   "execution_count": null,
   "metadata": {
    "collapsed": true
   },
   "outputs": [],
   "source": []
  }
 ],
 "metadata": {
  "anaconda-cloud": {},
  "kernelspec": {
   "display_name": "Python [Root]",
   "language": "python",
   "name": "Python [Root]"
  },
  "language_info": {
   "codemirror_mode": {
    "name": "ipython",
    "version": 3
   },
   "file_extension": ".py",
   "mimetype": "text/x-python",
   "name": "python",
   "nbconvert_exporter": "python",
   "pygments_lexer": "ipython3",
   "version": "3.5.1"
  }
 },
 "nbformat": 4,
 "nbformat_minor": 0
}
