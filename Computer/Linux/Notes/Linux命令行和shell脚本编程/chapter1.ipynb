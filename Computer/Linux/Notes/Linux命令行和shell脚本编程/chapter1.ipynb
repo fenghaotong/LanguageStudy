{
 "cells": [
  {
   "cell_type": "markdown",
   "metadata": {
    "collapsed": true
   },
   "source": [
    "# 第一章 Linux shell入门"
   ]
  },
  {
   "cell_type": "markdown",
   "metadata": {},
   "source": [
    "内核主要有以下4种功能\n",
    "- 系统内存管理\n",
    "- 软件程序管理\n",
    "- 硬件管理\n",
    "- 文件系统管理"
   ]
  },
  {
   "cell_type": "markdown",
   "metadata": {},
   "source": [
    "## GNU实用程序"
   ]
  },
  {
   "cell_type": "markdown",
   "metadata": {},
   "source": [
    "### 核心GNU实用程序\n",
    "\n",
    "- GNU项目的主要目的是使Unix系统管理员有一个类似Unix的环境，这个侧重点使得移植了许多常用的Unix系统命令实用程序，提供给Linux系统的核心实用程序包称为coreutils软件包。\n"
   ]
  },
  {
   "cell_type": "markdown",
   "metadata": {},
   "source": [
    "GNU coreutils软件包由3部分组成：\n",
    "\n",
    "- 处理文件的实用程序\n",
    "- 操作文本的实用程序\n",
    "- 管理进程的实用程序"
   ]
  },
  {
   "cell_type": "markdown",
   "metadata": {},
   "source": [
    "### shell"
   ]
  },
  {
   "cell_type": "markdown",
   "metadata": {},
   "source": [
    "|shell|描述|\n",
    "|:---:|:----|\n",
    "|ash|一个简单的轻量级shell，运行于低内存环境，但与bash shell完全兼容|\n",
    "|korn|与Bourne shell兼容的编程shell，但支持高级编程功能，如关联数组和浮点算法|\n",
    "|tcsh|在shell脚本吸收了c编程语言元素的shell|\n",
    "|zsh|吸收了bash、tcsh、korn等shell功能的高级shell，还提供高级编程功能，共享历史文件和主题提示符|"
   ]
  },
  {
   "cell_type": "code",
   "execution_count": null,
   "metadata": {
    "collapsed": true
   },
   "outputs": [],
   "source": []
  }
 ],
 "metadata": {
  "anaconda-cloud": {},
  "kernelspec": {
   "display_name": "Python [Root]",
   "language": "python",
   "name": "Python [Root]"
  },
  "language_info": {
   "codemirror_mode": {
    "name": "ipython",
    "version": 3
   },
   "file_extension": ".py",
   "mimetype": "text/x-python",
   "name": "python",
   "nbconvert_exporter": "python",
   "pygments_lexer": "ipython3",
   "version": "3.5.1"
  }
 },
 "nbformat": 4,
 "nbformat_minor": 0
}
