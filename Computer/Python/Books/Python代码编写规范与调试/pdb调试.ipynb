{
 "cells": [
  {
   "cell_type": "markdown",
   "metadata": {
    "collapsed": true
   },
   "source": [
    "# pdb调试"
   ]
  },
  {
   "cell_type": "markdown",
   "metadata": {},
   "source": [
    "** 在python中使用pdb模块可以进行调试 **\n",
    " \n",
    "```python\n",
    "import pdb   \n",
    "pdb.set_trace()\n",
    "\n",
    "```"
   ]
  },
  {
   "cell_type": "markdown",
   "metadata": {},
   "source": [
    "** 也可以使用python -m pdb mysqcript.py这样的方式 **\n",
    "\n",
    "    (Pdb) 会自动停在第一行，等待调试,这时你可以看看 帮助\n",
    "\n",
    "    (Pdb) h\n",
    "    "
   ]
  },
  {
   "cell_type": "markdown",
   "metadata": {},
   "source": [
    "** 说明下这几个关键 命令 **\n",
    "\n",
    "- 断点设置  \n",
    "\n",
    "   1. (Pdb)b  10 #断点设置在本py的第10行  \n",
    "   2. 或(Pdb)b  ots.py:20 #断点设置到 ots.py第20行  \n",
    "   3. 删除断点（Pdb）b #查看断点编号  \n",
    "   4. (Pdb)cl 2 #删除第2个断点  \n"
   ]
  },
  {
   "cell_type": "markdown",
   "metadata": {},
   "source": [
    "- 运行 \n",
    "\n",
    "    1. (Pdb)n #单步运行   \n",
    "    2. (Pdb)s #细点运行 也就是会下到，方法   \n",
    "    3. (Pdb)c #跳到下个断点  "
   ]
  },
  {
   "cell_type": "markdown",
   "metadata": {},
   "source": [
    "- 查看\n",
    "    1. (Pdb)p param #查看当前 变量值\n",
    "    2. (Pdb)l #查看运行到某处代码\n",
    "    3. (Pdb)a #查看全部栈内变量\n",
    "    4. (Pdb)w 列出目前call stack 中的所在层。\n",
    "    5. (Pdb)d 在call stack中往下移一层\n",
    "    6. (Pdb)u 在call stack中往上移一层。如果在上移一层之后按下 n ,则会在上移之后的一层执行下一个叙述,之前的 function call 就自动返回。 \n",
    "    7. (Pdb)cl 清除指定的断点。如果没有带参数,则清除所有断点。 \n",
    "    8. (Pdb)disable 取消所有断点的功能,但仍然保留这些断点。 \n",
    "    9. (Pdb)enable 恢复断点的功能。\n",
    "    10. (Pdb)ignore 设定断点的忽略次数。如果没指定 count,其初始 为 0。当 count 为 0 时,断点会正常动作。若有指定 count,则每次执行到该中断, count 就少 1,直到 count 数为 0。 \n",
    "    11. (Pdb)condition bpnumber [condition]\n",
    "    12. (Pdb)j(ump) lineNo. 跳到某行执行。只有在 call stack 的最底部才能作用。 \n",
    "    13. (Pdb)l  列出目前所在档案中的位置。连续地 l 命令会一直列到档案结尾,可以使用指定行数或范围来打印。 \n",
    "    14. (Pdb)pp 和 p 命令类似,但是使用 pprint module(没用过 pprint,详情请参考 Python Library Reference)。 \n",
    "    15. (Pdb)alias 以一个\"别名\"代替\"一群除错命令\",有点类似 c/c++ 的 macro(详情请参考 Python Library Reference)。 \n",
    "    16. (Pdb)unalias 取消某个 alias。 \n",
    "    17. (Pdb)[!]statement 在目前的环境(context)中执行叙述。"
   ]
  },
  {
   "cell_type": "code",
   "execution_count": null,
   "metadata": {
    "collapsed": true
   },
   "outputs": [],
   "source": []
  }
 ],
 "metadata": {
  "anaconda-cloud": {},
  "kernelspec": {
   "display_name": "Python [Root]",
   "language": "python",
   "name": "Python [Root]"
  },
  "language_info": {
   "codemirror_mode": {
    "name": "ipython",
    "version": 3
   },
   "file_extension": ".py",
   "mimetype": "text/x-python",
   "name": "python",
   "nbconvert_exporter": "python",
   "pygments_lexer": "ipython3",
   "version": "3.5.2"
  }
 },
 "nbformat": 4,
 "nbformat_minor": 0
}
