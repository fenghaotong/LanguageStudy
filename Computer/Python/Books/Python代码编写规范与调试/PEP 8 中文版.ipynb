{
 "cells": [
  {
   "cell_type": "markdown",
   "metadata": {},
   "source": [
    "# PEP 8\n",
    "\n",
    "- [x] 简介\n",
    "- [x] 一致性建议\n",
    "- [x] 代码的布局\n",
    "- [x] 导入\n",
    "- [x] 表达式与语句中的空白符\n",
    "- [x] 注释\n",
    "- [x] 命名约定\n",
    "- [x] 程序设计建议"
   ]
  },
  {
   "cell_type": "markdown",
   "metadata": {
    "collapsed": true
   },
   "source": [
    "## 简介\n",
    "\n",
    "- 本文档给出的编码约定，来源于 Python 主发行版标准库中的代码。Python 的 C 语言实现所使用的 C 语言风格指南，请参考PEP7。\n",
    "\n",
    "- 本文档与 PEP 257（文档字符串规范）都来自于 Guido1) 的 Python Style Guido 论文原文，另外有来自 Barry's style guide 的补充。\n",
    "\n",
    "- 随着 Python 语言自身的改变，本指南也在持续演进，新的编码约定被认同，而旧的矣被废弃。\n",
    "\n",
    "- 许多项目都有一套专有的编码风格指南，当冲突发生时，应以项目编码规范为优先。\n"
   ]
  },
  {
   "cell_type": "markdown",
   "metadata": {},
   "source": [
    "## 一致性建议\n",
    "\n",
    "- Guido的关键点之一是：代码更多是用来读而不是写。本指南旨在改善Python代码的可读性，即PEP 20所说的“可读性计数\"(Readability counts)。\n",
    "\n",
    "- 风格指南强调一致性。项目、模块或函数保持一致都很重要。\n",
    "\n",
    "- 最重要的是知道何时不一致, 有时风格指南并不适用。当有疑惑时运用你的最佳判断，参考其他例子并多问！\n",
    "\n",
    ">特别注意：不要因为遵守本PEP而破坏向后兼容性！\n",
    "\n",
    "部分可以违背指南情况：\n",
    "\n",
    "- 遵循指南会降低可读性。\n",
    "\n",
    "- 与周围其他代码不一致。\n",
    "\n",
    "- 代码在引入指南完成，暂时没有理由修改。\n",
    "\n",
    "- 旧版本兼容。"
   ]
  },
  {
   "cell_type": "markdown",
   "metadata": {},
   "source": [
    "## 代码布局\n",
    "\n",
    "### 缩进\n",
    "\n",
    "每次缩进使用四个空格\n",
    "\n",
    "续行3)应该与被圆括号、方括号、花括号包裹起来的其他元素对齐，或者使用悬挂式缩进。当使用悬挂式缩进时，应该遵循这些注意事项：第一行不能有参数，应该使用进一步的缩进来将续行与其他行区分开。"
   ]
  },
  {
   "cell_type": "markdown",
   "metadata": {},
   "source": [
    "符合本约定的代码\n",
    "```python\n",
    "# Aligned with opening delimiter\n",
    "foo = long_function_name(var_one, var_two,\n",
    "                         var_three, var_four)\n",
    " \n",
    "# More indentation included to distinguish this from the rest.\n",
    "def long_function_name(\n",
    "        var_one, var_two, var_three,\n",
    "        var_four):\n",
    "    print(var_one)\n",
    "```"
   ]
  },
  {
   "cell_type": "markdown",
   "metadata": {},
   "source": [
    "不符合本约定的代码\n",
    "\n",
    "```python\n",
    "# Arguments on first line forbidden when not using vertical alignment\n",
    "foo = long_function_name(var_one, var_two,\n",
    "    var_three, var_four)\n",
    " \n",
    "# Further indentation required as indentation is not distinguishable\n",
    "def long_function_name(\n",
    "    var_one, var_two, var_three,\n",
    "    var_four):\n",
    "    print(var_one)\n",
    "```"
   ]
  },
  {
   "cell_type": "markdown",
   "metadata": {},
   "source": [
    "可选的符合约定的代码\n",
    "```python\n",
    "# Extra indentation is not necessary.\n",
    "foo = long_function_name(\n",
    "  var_one, var_two,\n",
    "  var_three, var_four)\n",
    "```"
   ]
  },
  {
   "cell_type": "markdown",
   "metadata": {},
   "source": [
    "结尾的方括号/圆括号/花括号应该被放置在多行内容的最后一行的第一个非空字符的正下方，如下所示："
   ]
  },
  {
   "cell_type": "markdown",
   "metadata": {},
   "source": [
    "```python\n",
    "my_list = [\n",
    "    1, 2, 3,\n",
    "    4, 5, 6,\n",
    "    ]\n",
    "result = some_function_that_takes_arguments(\n",
    "    'a', 'b', 'c',\n",
    "    'd', 'e', 'f',\n",
    "    )\n",
    "```"
   ]
  },
  {
   "cell_type": "markdown",
   "metadata": {},
   "source": [
    "或者被放置在多行内容的起始行的第一个字符的正下方，如下所示："
   ]
  },
  {
   "cell_type": "markdown",
   "metadata": {},
   "source": [
    "```python\n",
    "my_list = [\n",
    "    1, 2, 3,\n",
    "    4, 5, 6,\n",
    "]\n",
    "result = some_function_that_takes_arguments(\n",
    "    'a', 'b', 'c',\n",
    "    'd', 'e', 'f',\n",
    ")\n",
    "```"
   ]
  },
  {
   "cell_type": "markdown",
   "metadata": {},
   "source": [
    "### 制表符还是空格\n",
    "\n",
    "空格是首选的缩进方式\n",
    "\n",
    "- 为了保持一致性，在使用了制表符作为缩进的代码中，应该保持使用制表符。\n",
    "\n",
    "- python3不支持空格和制表符缩进混用\n",
    "\n",
    "- Pyhton2中的混用缩进代码也应该被转换为统一使用空格"
   ]
  },
  {
   "cell_type": "markdown",
   "metadata": {},
   "source": [
    "### 单行最大长度\n",
    "\n",
    "将所有行限制在79个字符内\n",
    "\n",
    "- 对于那些具有很少的结构约束（例如文档字符串、注释）的代码段来说，最大行长度应该在在72个字符以内。\n",
    "\n",
    "- 一些团队更喜欢较长的单行代码。如果某个团队对单行代码长度的问题达成了共识，并且由该团队专门维护其代码的话，在将文档字符串与注释保持在72个字符以 内的前提下，将名义上的单行代码的最大长度从80个字符提升到100个也是可以的（有效的将实际字符最大长度提高到了99个）。\n",
    "\n",
    "- Python 标准库是保守的，选择了将单行代码长度限制在79个字符以内（文档字符串/注释72个字符以内）。\n",
    "\n",
    "- 最为推荐的长行换行方式是在圆括号、方括号、花括号内的 Python 隐式行续。相比于使用反斜杠来转义续行，应该优先使用将长行放置于圆括号内来隐式续行的方式。"
   ]
  },
  {
   "cell_type": "markdown",
   "metadata": {},
   "source": [
    "而某些时候反斜杠也是适于使用的。例如，较长的with语句不能使用隐式行续，就需要使用反斜杠了:\n",
    "\n",
    "```python\n",
    "with open('/path/to/some/file/you/want/to/read') as file_1, \\\n",
    "        open('/path/to/some/file/being/written', 'w') as file_2:\n",
    "    file_2.write(file_1.read())\n",
    "```"
   ]
  },
  {
   "cell_type": "markdown",
   "metadata": {},
   "source": [
    "确保使用适当的行续缩进。在二元操作符两端，换行的推荐位置是在操作符之后，而不是操作符之前。以下是一些例子：\n",
    "```python\n",
    "class Rectangle(Blob): \n",
    "    def __init__(self, width, height,\n",
    "                 color='black', emphasis=None, highlight=0):\n",
    "        if (width == 0 and height == 0 and\n",
    "                color == 'red' and emphasis == 'strong' or\n",
    "                highlight > 100):\n",
    "            raise ValueError(\"sorry, you lose\")\n",
    "        if width == 0 and height == 0 and (color == 'red' or\n",
    "                                           emphasis is None):\n",
    "            raise ValueError(\"I don't think so -- values are %s, %s\" %\n",
    "                             (width, height))\n",
    "        Blob.__init__(self, width, height,\n",
    "                      color, emphasis, highlight)\n",
    "                      \n",
    "```"
   ]
  },
  {
   "cell_type": "markdown",
   "metadata": {},
   "source": [
    "### 空白行\n",
    "\n",
    "- 使用两个空白行来分隔顶级函数定义、类定义。\n",
    "\n",
    "- 使用单个空白行来分隔类内的方法定义。"
   ]
  },
  {
   "cell_type": "markdown",
   "metadata": {},
   "source": [
    "### 源文件编码\n",
    "\n",
    "- 在 Python 的核心发布版中，应该主要使用 UTF-8 编码（或者在 Python 2 中使用 ASCII）。\n",
    "\n",
    "- 在 Python 2 中使用 ASCII ，在 Python 3 中使用 UTF-8 时不应该在文件中进行编码声明。"
   ]
  },
  {
   "cell_type": "markdown",
   "metadata": {},
   "source": [
    "## 导入\n"
   ]
  },
  {
   "cell_type": "markdown",
   "metadata": {},
   "source": [
    "import语句通常独立成行，例如：\n",
    "\n",
    "```python\n",
    "#符合约定的代码\n",
    "import os\n",
    "import sys\n",
    "\n",
    "#不符合约定的代码\n",
    "import os,sys\n",
    "\n",
    "#但这样的import也是合理的\n",
    "from subprocess import Popen, PIPE\n",
    "```"
   ]
  },
  {
   "cell_type": "markdown",
   "metadata": {},
   "source": [
    "Import语句总应该方法源代码文件的最前端，即模块注释和文档字符串之后，全局变量和常量定义之前"
   ]
  },
  {
   "cell_type": "markdown",
   "metadata": {},
   "source": [
    "多条 Import 语句总应该遵循这样的顺序书写：\n",
    "\n",
    "1. 标准库的导入 \n",
    "\n",
    "2. 相关第三方库导入 \n",
    "\n",
    "3. 本地应用/库的相关导入 \n",
    "\n",
    "在每组 import 语句应该使用空白行分隔。"
   ]
  },
  {
   "cell_type": "markdown",
   "metadata": {},
   "source": [
    "建议使用绝对导入形式的 import 语句，它不仅更易读，并且在配置错误（例如某个包中的目录以 sys.path 结尾时)时有更良好的导入行为（至少有更好的报错）：\n",
    "```python\n",
    "import mypkg.sibling\n",
    "from mypkg import sibling\n",
    "from mypkg.sibling import example\n",
    "```"
   ]
  },
  {
   "cell_type": "markdown",
   "metadata": {},
   "source": [
    "相比于绝对导入，清晰的相对导入其实也是可以接受的，特别是当使用绝对导入需要处理不必要的复杂包布局时。\n",
    "```python\n",
    "from . import sibling\n",
    "from .sibling import example\n",
    "```\n",
    "\n",
    "Python 标准库代码应该避免复杂的包布局，并且总是使用绝对导入。\n",
    "\n",
    "Python 3 中不应该使用相对导入，并且 Python 3 中该功能已被移除。\n"
   ]
  },
  {
   "cell_type": "markdown",
   "metadata": {},
   "source": [
    "当在某个包含类的模块中导入类时，这样的书写方式是合理的：\n",
    "```python\n",
    "from myclass import MyClass\n",
    "from foo.bar.yourclass import YourClass\n",
    "```\n",
    "但如果这样的书写方式引起类名冲突，则请这样书写：\n",
    "```python\n",
    "import myclass\n",
    "import foo.bar.yourclass\n",
    "```\n",
    "并使用 “myclass.MyClass” 和 “foo.bar.yourclass.YourClass” 来对其进行引用。"
   ]
  },
  {
   "cell_type": "markdown",
   "metadata": {},
   "source": [
    "## 表达式与语句中的空白符"
   ]
  },
  {
   "cell_type": "markdown",
   "metadata": {},
   "source": [
    "### 小问题\n",
    "\n",
    "在以下情况中避免使用额外的空格：\n",
    "\n",
    "在圆括号、方括号、花括号内 "
   ]
  },
  {
   "cell_type": "markdown",
   "metadata": {},
   "source": [
    "```python\n",
    "#符合约定的代码\n",
    "spam(ham[1], {eggs: 2})\n",
    "#不符合约定的代码\n",
    "spam( ham[ 1 ], { eggs: 2 } )\n",
    "```"
   ]
  },
  {
   "cell_type": "markdown",
   "metadata": {},
   "source": [
    "在逗号、分号、冒号之前：   \n",
    "```python\n",
    "#符合约定的代码\n",
    "if x == 4: print x, y; x, y = y, x\n",
    "#不符合约定的代码\n",
    "if x == 4 : print x , y ; x , y = y , x\n",
    "```"
   ]
  },
  {
   "cell_type": "markdown",
   "metadata": {},
   "source": [
    "在函数调用的参数列表的左括号前 \n",
    "```python\n",
    "#符合约定代码\n",
    "spam(1)\n",
    "#不符合约定的代码\n",
    "spam (1)\n",
    "```"
   ]
  },
  {
   "cell_type": "markdown",
   "metadata": {},
   "source": [
    "在切片或索引的左方括号前 \n",
    "```python\n",
    "#符合约定的代码\n",
    "dict['key'] = list[index]\n",
    "#不符合约定的代码\n",
    "dict ['key'] = list [index]\n",
    "```"
   ]
  },
  {
   "cell_type": "markdown",
   "metadata": {},
   "source": [
    "在赋值（或其他）操作符两侧的多余一个的空格 \n",
    "```python\n",
    "#符合约定的代码\n",
    "x = 1\n",
    "y = 2\n",
    "long_variable = 3\n",
    "#不符合约定的代码\n",
    "x             = 1\n",
    "y             = 2\n",
    "long_variable = 3\n",
    "```"
   ]
  },
  {
   "cell_type": "markdown",
   "metadata": {},
   "source": [
    "### 其他建议\n",
    "\n",
    "总是在下列二元操作符的两端使用单个空格：赋值操作符(=)，参数赋值(+=, -= 等)，比较操作符(==, <, >, !=, <>, ⇐, >=, in, not in, is, is not)，布尔操作符(and, or, not)。\n",
    "\n",
    "加入使用了多个具有不同优先级的操作符，考虑在低优先级的操作符两侧使用空格。请自行判断，无论怎样，不要使用多余一个空格，并且保持二元操作符两端的空格数量一致。"
   ]
  },
  {
   "cell_type": "markdown",
   "metadata": {},
   "source": [
    "```python\n",
    "#符合约定的代码\n",
    "i = i + 1\n",
    "submitted += 1\n",
    "x = x*2 - 1\n",
    "hypot2 = x*x + y*y\n",
    "c = (a+b) * (a-b)\n",
    "#不符合约定的代码\n",
    "i=i+1\n",
    "submitted +=1\n",
    "x = x * 2 - 1\n",
    "hypot2 = x * x + y * y\n",
    "c = (a + b) * (a - b)\n",
    "```"
   ]
  },
  {
   "cell_type": "markdown",
   "metadata": {},
   "source": [
    "不要在指示关键字参数或参数默认值的 = 符号两端使用空格。 \n",
    "```python\n",
    "#符合约定的代码\n",
    "def complex(real, imag=0.0):\n",
    "    return magic(r=real, i=imag)\n",
    "#不符合约定的代码\n",
    "def complex(real, imag = 0.0):\n",
    "    return magic(r = real, i = imag)\n",
    "```"
   ]
  },
  {
   "cell_type": "markdown",
   "metadata": {},
   "source": [
    "不建议使用符合语句（在一个物理行中存在多条语句）。 \n",
    "```python\n",
    "#符合建议的代码\n",
    "if foo == 'blah':\n",
    "    do_blah_thing()\n",
    "do_one()\n",
    "do_two()\n",
    "do_three()\n",
    "#不符合建议的代码\n",
    "if foo == 'blah': do_blah_thing()\n",
    "do_one(); do_two(); do_three()\n",
    "```"
   ]
  },
  {
   "cell_type": "markdown",
   "metadata": {},
   "source": [
    "虽然有时把较短小的 if/for/while 语句放在同一物理行内也是可以的，但千万不要对多子句的语句也这样做，同时也是为了避免折叠长行。 \n",
    "```python\n",
    "#不符合约定的代码\n",
    "if foo == 'blah': do_blah_thing()\n",
    "for x in lst: total += x\n",
    "while t < 10: t = delay()\n",
    "#绝对不要这样写\n",
    "if foo == 'blah': do_blah_thing()\n",
    "else: do_non_blah_thing()\n",
    " \n",
    "try: something()\n",
    "finally: cleanup()\n",
    " \n",
    "do_one(); do_two(); do_three(long, argument,\n",
    "                             list, like, this)\n",
    " \n",
    "if foo == 'blah': one(); two(); three()\n",
    "```"
   ]
  },
  {
   "cell_type": "markdown",
   "metadata": {},
   "source": [
    "## 注释\n",
    "\n",
    "- 与代码相矛盾的注释不如没有，请时刻保持注释随代码更新。\n",
    "\n",
    "- 注释应该是完整的句子。短语注释或整句注释都应当以大写字母开头，除非该注释以首字母小写的标示符开头。\n",
    "\n",
    "- 段小注释后的句号可以省略，而在注释块中，每个完整的句子都应该以句号结尾。\n",
    "\n",
    "- 在句尾句号之后，应该跟上两个空白符。\n",
    "\n",
    "- 当撰写英文注释时，参考《英文写作指南》\n",
    "\n",
    "- 非英语程序员也请使用英文书写注释，除非你120%的保证，不会有不使用你的语言的人阅读你的代码。\n"
   ]
  },
  {
   "cell_type": "markdown",
   "metadata": {},
   "source": [
    "### 块注释\n",
    "\n",
    "通常块注释用来阐述跟在其后的代码，并且与代码一样重要，块注释的每一行都应该以一个#符号加一个空白符开头\n",
    "\n",
    "块注释内的自然段以#开头的空行进行分割"
   ]
  },
  {
   "cell_type": "markdown",
   "metadata": {},
   "source": [
    "### 行内注释\n",
    "\n",
    "尽量少的使用行内注释。\n",
    "\n",
    "行内注释应该与语句在同一行内，与语句之间以至少两个空白符分割，并且以一个#符号加一个空白符开头\n",
    "\n",
    "行内注释不是非常必要的，并且当注释语义显而易见时会分散阅读者的注意力|"
   ]
  },
  {
   "cell_type": "markdown",
   "metadata": {},
   "source": [
    "例如不要撰写这样的注释：\n",
    "\n",
    "```python\n",
    "x = x + 1   # Increment x\n",
    "```"
   ]
  },
  {
   "cell_type": "markdown",
   "metadata": {},
   "source": [
    "但某些时候，行内注释也是很有用的\n",
    "```python\n",
    "x = x + 1      # Compensate for border\n",
    "```"
   ]
  },
  {
   "cell_type": "markdown",
   "metadata": {},
   "source": [
    "### 文档字符串\n",
    "\n",
    "关于编写好文档字符串的约定，请参考 [PEP 257](https://www.python.org/dev/peps/pep-0257/)\n",
    "\n",
    "请为所有的公开模块、类和方法编写文档字符串。对于非公开的方法，文档字符串不是必须的，但是仍应该为其撰写注释，表明其用途。方法注释应写在方法定义行之下。"
   ]
  },
  {
   "cell_type": "markdown",
   "metadata": {},
   "source": [
    "PEP 257 描述了良好文档字符串的编写规范。注意，以 “”“ 结尾的文档字符串应该以该符号单独成行，最好前面还有一行空白行。 例如：\n",
    "```python\n",
    "\n",
    "\"\"\"Return a foobang\n",
    " \n",
    "Optional plotz says to frobnicate the bizbaz first.\n",
    " \n",
    "\"\"\"\n",
    "```\n",
    "对于单行的文档字符串来说，将 ”“” 放在该行的末尾也是可以的。\n"
   ]
  },
  {
   "cell_type": "markdown",
   "metadata": {},
   "source": [
    "## 命名约定\n",
    "\n",
    "Python库的命名约定有点混乱，不可能完全一致。但依然有些普遍推荐的命名规范的。新的模块和包 (包括第三方的框架) 应该遵循这些标准。对不同风格的已有的库，建议保持内部的一致性。"
   ]
  },
  {
   "cell_type": "markdown",
   "metadata": {},
   "source": [
    "** 最重要的原则 **\n",
    "\n",
    "用户可见的API命名应遵循使用约定而不是实现。"
   ]
  },
  {
   "cell_type": "markdown",
   "metadata": {},
   "source": [
    "** 描述：命名风格 **\n",
    "\n",
    "有多种命名风格：\n",
    "\n",
    "- b(单个小写字母)\n",
    "\n",
    "- B(单个大写字母)\n",
    "\n",
    "- lowercase(小写串)\n",
    "\n",
    "- lower_case_with_underscores(带下划线的小写)\n",
    "\n",
    "- UPPERCASE(大写串)\n",
    "\n",
    "- UPPER_CASE_WITH_UNDERSCORES(带下划线的大写串)\n",
    "\n",
    "- CapitalizedWords(首字母大写的单词串或驼峰缩写）\n",
    "\n"
   ]
  },
  {
   "cell_type": "markdown",
   "metadata": {},
   "source": [
    "注意: 使用大写缩写时，缩写使用大写字母更好。故 HTTPServerError 比 HttpServerError 更好。\n",
    "\n",
    "- mixedCase(混合大小写，第一个单词是小写)\n",
    "\n",
    "- Capitalized_Words_With_Underscores（带下划线，首字母大写，丑陋）\n",
    "\n",
    "还有一种风格使用短前缀分组名字。这在Python中不常用， 但出于完整性提一下。例如，os.stat()返回的元组有st_mode, st_size, st_mtime等等这样的名字(与POSIX系统调用结构体一致)。\n",
    "\n",
    "X11库的所有公开函数以X开头, Python中通常认为是不必要的，因为属性和方法名有对象作前缀，而函数名有模块名为前缀。\n",
    "\n"
   ]
  },
  {
   "cell_type": "markdown",
   "metadata": {},
   "source": [
    "下面讲述首尾有下划线的情况:\n",
    "\n",
    "- `_single_leading_underscore`:(单前置下划线): 弱内部使用标志。 例如\"from M import \" 不会导入以下划线开头的对象。\n",
    "\n",
    "- `single_trailing_underscore_`(单后置下划线): 用于避免与 Python关键词的冲突。 例如：\n",
    "\n",
    ">Tkinter.Toplevel(master, class_='ClassName')\n",
    "\n",
    "- `__double_leading_underscore`(双前置下划线): 当用于命名类属性，会触发名字重整。 (在类FooBar中，`__boo`变成` _FooBar__boo`)。\n",
    "\n",
    "- `__double_leading_and_trailing_underscore__`(双前后下划线)：用户名字空间的魔法对象或属性。例如:`__init__` , `__import__` or `__file__`，不要自己发明这样的名字。"
   ]
  },
  {
   "cell_type": "markdown",
   "metadata": {},
   "source": [
    "** 命名约定规范 **\n",
    "\n",
    "- 避免采用的名字\n",
    "\n",
    "    决不要用字符'l'(小写字母el)，'O'(大写字母oh)，或 'I'(大写字母eye) 作为单个字符的变量名。一些字体中，这些字符不能与数字1和0区别。用'L' 代替'l'时。"
   ]
  },
  {
   "cell_type": "markdown",
   "metadata": {},
   "source": [
    "- 包和模块名\n",
    "\n",
    "    模块名要简短，全部用小写字母，可使用下划线以提高可读性。包名和模块名类似，但不推荐使用下划线。\n",
    "\n",
    "    模块名对应到文件名，有些文件系统不区分大小写且截短长名字，在 Unix上不是问题，但当把代码迁移到 Mac、Windows 或 DOS 上时，就可能是个问题。当然随着系统的演进，这个问题已经不是经常出现。\n",
    "\n",
    "    另外有些模块底层用C或C++ 书写，并有对应的高层Python模块，C/C++模块名有一个前置下划线 (如：`_socket`)。"
   ]
  },
  {
   "cell_type": "markdown",
   "metadata": {},
   "source": [
    "- 类名\n",
    "\n",
    "    遵循CapWord。\n",
    "\n",
    "    接口需要文档化并且可以调用时，可能使用函数的命名规则。\n",
    "\n",
    "    注意大部分内置的名字是单个单词（或两个），CapWord只适用于异常名称和内置的常量。"
   ]
  },
  {
   "cell_type": "markdown",
   "metadata": {},
   "source": [
    "- 异常名\n",
    "\n",
    "    如果确实是错误，需要在类名添加后缀 \"Error\"。"
   ]
  },
  {
   "cell_type": "markdown",
   "metadata": {},
   "source": [
    "- 全局变量名\n",
    "\n",
    "    变量尽量只用于模块内部，约定类似函数。\n",
    "\n",
    "    对设计为通过 \"from M import \" 来使用的模块，应采用 __all__ 机制来防止导入全局变量；或者为全局变量加一个前置下划线。"
   ]
  },
  {
   "cell_type": "markdown",
   "metadata": {},
   "source": [
    "- 函数名\n",
    "\n",
    "    函数名应该为小写，必要时可用下划线分隔单词以增加可读性。 mixedCase(混合大小写)仅被允许用于兼容性考虑(如: threading.py)。\n",
    "\n",
    "- 函数和方法的参数\n",
    "\n",
    "    实例方法第一个参数是 'self'。\n",
    "\n",
    "    类方法第一个参数是 'cls'。\n",
    "\n",
    "    如果函数的参数名与保留关键字冲突，通常在参数名后加一个下划线。\n",
    "\n"
   ]
  },
  {
   "cell_type": "markdown",
   "metadata": {},
   "source": [
    "- 方法名和实例变量\n",
    "\n",
    "    同函数命名规则。\n",
    "\n",
    "    非公开方法和实例变量增加一个前置下划线。\n",
    "\n",
    "    为避免与子类命名冲突，采用两个前置下划线来触发重整。类Foo属性名为`__a`， 不能以 `Foo.__a`访问。(执著的用户还是可以通过`Foo._Foo__a`。) 通常双前置下划线仅被用来避免与基类的属性发生命名冲突。\n",
    "\n",
    "- 常量\n",
    "\n",
    "    常量通常在模块级定义,由大写字母用下划线分隔组成。比如括MAX_OVERFLOW和TOTAL。\n"
   ]
  },
  {
   "cell_type": "markdown",
   "metadata": {},
   "source": [
    "\n",
    "- 继承设计\n",
    "\n",
    "    考虑类的方法和实例变量(统称为属性)是否公开。如果有疑问，选择不公开；把其改为公开比把公开属性改为非公开要容易。\n",
    "\n",
    "    公开属性可供所有人使用，并通常向后兼容。非公开属性不给第三方使用、可变甚至被移除。\n",
    "\n",
    "    这里不使用术语\"private\"， Python中没有属性是真正私有的。\n",
    "\n",
    "    另一类属性是子类API(在其他语言中通常称为 \"protected\")。 一些类被设计为基类，可以扩展和修改。\n",
    "\n",
    "谨记这些Python指南：\n",
    "\n",
    ">1.公开属性应该没有前导下划线。\n",
    "\n",
    ">2.如果公开属性名和保留关键字冲突，可以添加后置下划线\n",
    "\n",
    ">3.简单的公开数据属性，最好只公开属性名，没有复杂的访问/修改方法，python的Property提供了很好的封装方法。 d.如果不希望子类使用的属性，考虑用两个前置下划线(没有后置下划线)命名。\n",
    "\n"
   ]
  },
  {
   "cell_type": "markdown",
   "metadata": {},
   "source": [
    "** 公共和内部接口 **\n",
    "\n",
    "任何向后兼容的保证只适用于公共接口。\n",
    "\n",
    "文档化的接口通常是公共的，除非明说明是临时的或为内部接口、其他所有接口默认是内部的。\n",
    "\n",
    "为了更好地支持内省，模块要在__all__属性列出公共API。\n",
    "\n",
    "内部接口要有前置下划线。\n",
    "\n",
    "如果命名空间(包、模块或类)是内部的，里面的接口也是内部的。\n",
    "\n",
    "导入名称应视为实现细节。其他模块不能间接访名字，除非在模块的API文档中明确记载，如os.path中或包的`__init__`暴露了子模块。"
   ]
  },
  {
   "cell_type": "markdown",
   "metadata": {
    "collapsed": true
   },
   "source": [
    "## 程序设计建议"
   ]
  },
  {
   "cell_type": "markdown",
   "metadata": {},
   "source": [
    "- 代码应该用不损害其他Python实现的方式去编写（PyPy, Jython, IronPython, Cython, Psyco 等）\n",
    "\n",
    "    例如，不要依赖于CPython的高效内置字符连接语句a += b or a = a + b.这些语句在Jython中运行较慢。在性能敏感的库中，应该用''.join() 来取代。这样可以保证在不同的实现中，字符链接花费的时间都呈线性。"
   ]
  },
  {
   "cell_type": "markdown",
   "metadata": {},
   "source": [
    "- 与诸如None这样的字符比较时，要使用is or is not，永远不要用等于操作。\n",
    "\n",
    "    同样地，在测试一个变量或参数默认值为None被设置为其他值时（比如if x表示if x is not None时），要注意。 这个值应该有一个能在布尔逻辑的上下文中为false的类型（比如容器）。"
   ]
  },
  {
   "cell_type": "markdown",
   "metadata": {},
   "source": [
    "- 用\"is not\"代替\"not ... is\"。前者的可读性更好。   \n",
    "\n",
    "```python\n",
    "# Yes\n",
    "if foo is not None\n",
    "\n",
    "# No\n",
    "if not foo is None\n",
    "```"
   ]
  },
  {
   "cell_type": "markdown",
   "metadata": {},
   "source": [
    "- 使用基于类的异常。\n",
    "\n",
    "比较排序操作最好是实现所有六个操作，而不是代码中实现比较逻辑。functools.total_ordering()装饰符可以生成缺失的比较方法。\n",
    "\n",
    "`\n",
    "__eq__，__ne__，__lt__，__lt__，__gt__，____）\n",
    "`\n",
    "\n",
    "PEP207 比较标准表明反射规则由Python完成。因此解释器可能会交换参数的位置，比如替换y > x为x < y，所以有必要实现这5种方法。"
   ]
  },
  {
   "cell_type": "markdown",
   "metadata": {},
   "source": [
    "- 使用函数定义def代替lambda赋值给标识符：\n",
    "\n",
    "```python\n",
    "# Yes\n",
    "def f(x): \n",
    "    return 2*x\n",
    "\n",
    "# No\n",
    "f = lambda x: 2*x\n",
    "\n",
    "```\n",
    "\n",
    "前者更适合回调和字符串表示。"
   ]
  },
  {
   "cell_type": "markdown",
   "metadata": {},
   "source": [
    "- 异常类继承自Exception，而不是BaseException。\n",
    "\n",
    "    源于异常，而不是BaseException例外。从BaseException直接继承的例外情况追赶他们几乎总是错误的事情做保留。\n",
    "\n",
    "    要设计基于层次的异常，捕捉到需要的异常，而不是异常引发的位置。能回答：“出了什么问题？”，而不是仅仅指出“问题发生”(更多参考：PEP3151 重构OS和IO异常层次）\n",
    "\n"
   ]
  },
  {
   "cell_type": "markdown",
   "metadata": {},
   "source": [
    "- 适当使用异常链。在Python3中\"raise X from Y\"明确表示更换且保留了原来的traceback。\n",
    "\n",
    "    替换内部异常(在Python2: \"raise X\"或\"raise X from None\")时，确保相关细节转移到新的异常（如转换KeyError为AttributeError保存属性名，或在新的异常中嵌入原始异常)。\n",
    "\n",
    "- Python2中用\" raise ValueError('message')\"代替\"raise ValueError, 'message'\"\n",
    "\n",
    "    后者不兼容Python3语法。前者续行方便。\n",
    "\n"
   ]
  },
  {
   "cell_type": "markdown",
   "metadata": {},
   "source": [
    "- 捕获异常时尽量指明具体异常，而不是空\"except:\"子句。比如：\n",
    "\n",
    "```python\n",
    "\n",
    "# Yes\n",
    "try:\n",
    "    import platform_specific_module\n",
    "except ImportError:\n",
    "    platform_specific_module = None\n",
    "```\n",
    "\n",
    "空\"except:\"子句(相当于except Exception)会捕捉SystemExit和KeyboardInterrupt异常，难以用Control-C中断程序，并可掩盖其他问题。如果 你捕捉信号错误之外所有的异常，使用\"except Exception\"。\n",
    "\n",
    "空\"except:\"子句适用的情况两种情况：\n",
    "\n",
    "> a, 打印出或记录了traceback，至少让用户将知道已发生错误。     \n",
    ">b, 代码需要做一些清理工作，并用 raise转发了异常。这样try...finally可以捕捉到它。\n",
    "\n"
   ]
  },
  {
   "cell_type": "markdown",
   "metadata": {},
   "source": [
    "- Python 2.6以后建议用as显示绑定异常名：\n",
    "\n",
    "```python\n",
    "\n",
    "# Yes\n",
    "try:\n",
    "    process_data()\n",
    "except Exception as exc:\n",
    "    raise DataProcessingFailedError(str(exc))\n",
    "```\n",
    "\n",
    "    这样才能兼容Python3语法并避免歧义。\n",
    "\n",
    "- 捕捉操作系统错误时，建议使用Python 3.3引入显式异常层次，支持内省errno值。\n",
    "\n"
   ]
  },
  {
   "cell_type": "markdown",
   "metadata": {},
   "source": [
    "- 此外所有try/except子句的代码要尽可的少，以免屏蔽其他的错误。\n",
    "\n",
    "```python\n",
    "# Yes\n",
    "try:\n",
    "    value = collection[key]\n",
    "except KeyError:\n",
    "    return key_not_found(key)\n",
    "else:\n",
    "    return handle_value(value)\n",
    "\n",
    "# No\n",
    "try:\n",
    "    # 太泛了!\n",
    "    return handle_value(collection[key])\n",
    "except KeyError:\n",
    "    # 会捕捉到handle_value()中的KeyError\n",
    "    return key_not_found(key)\n",
    "```"
   ]
  },
  {
   "cell_type": "markdown",
   "metadata": {},
   "source": [
    "- 本地资源建议使用with语句，以确保即时清理。当然try / finally语句也是可以接受的。\n",
    "\n",
    "- 上下文管理器在做获取和释放资源之外的事情时，应通过独立的函数或方法。例如：\n",
    "\n",
    "```python\n",
    "# Yes\n",
    "with conn.begin_transaction():\n",
    "    do_stuff_in_transaction(conn)\n",
    "\n",
    "# No\n",
    "with conn:\n",
    "    do_stuff_in_transaction(conn)\n",
    "    \n",
    "```\n",
    "    后者指明enter和exit方法。\n",
    "\n"
   ]
  },
  {
   "cell_type": "markdown",
   "metadata": {},
   "source": [
    "- 函数或者方法在没有返回时要明确返回None。\n",
    "\n",
    "```python\n",
    "# Yesdef foo(x):\n",
    "    if x >= 0:\n",
    "        return math.sqrt(x)\n",
    "    else:\n",
    "        return Nonedef bar(x):\n",
    "    if x < 0:\n",
    "        return None\n",
    "    return math.sqrt(x)# Nodef foo(x):\n",
    "    if x >= 0:\n",
    "        return math.sqrt(x)def bar(x):\n",
    "    if x < 0:\n",
    "        return\n",
    "    return math.sqrt(x)\n",
    "```"
   ]
  },
  {
   "cell_type": "markdown",
   "metadata": {},
   "source": [
    "- 使用字符串方法而不是string模块。\n",
    "\n",
    "    python 2.0以后字符串方法总是更快，且Unicode字符串相同的API。\n",
    "\n",
    "\n",
    "- 使用使用 .startswith()和.endswith()代替字符串切片来检查前缀和后缀。and\n",
    "\n",
    "    startswith()和endswith更简洁，利于减少错误。例如：\n",
    "    \n",
    "```python\n",
    "# Yes\n",
    "if foo.startswith('bar'):\n",
    "\n",
    "# No\n",
    "if foo[:3] == 'bar':\n",
    "```"
   ]
  },
  {
   "cell_type": "markdown",
   "metadata": {},
   "source": [
    "- 使用isinstance()代替对象类型的比较：\n",
    "\n",
    "```python\n",
    "# Yes\n",
    "if isinstance(obj, int):\n",
    "\n",
    "# No\n",
    "if type(obj) is type(1):\n",
    "```\n",
    "\n",
    "- 检查是否是字符串时，注意Python 2中str和unicode有公共的基类:\n",
    "\n",
    "    if isinstance(obj, basestring): 在 Python 2.2 中，types 模块为此定义了 StringTypes 类型，例如：\n",
    "\n",
    "```python\n",
    "# Yes\n",
    "if isinstance(obj, basestring):\n",
    "\n",
    "```\n",
    "\n",
    "Python3中Unicode和basestring的不再存在(只有str)和字节对象不再是字符串(是整数序列)"
   ]
  },
  {
   "cell_type": "markdown",
   "metadata": {},
   "source": [
    "- 对序列(字符串、列表 、元组), 空序列为false:\n",
    "\n",
    "```python\n",
    "# Yes\n",
    "if not seq:\n",
    "   pass\n",
    "if seq:\n",
    "   pass\n",
    "\n",
    "# No\n",
    "if len(seq):\n",
    "   pass\n",
    "if not len(seq):\n",
    "   pass\n",
    " ```\n",
    "- 字符串后面不要有大量拖尾空格。\n",
    "\n"
   ]
  },
  {
   "cell_type": "markdown",
   "metadata": {},
   "source": [
    "- 不要用 == 进行布尔比较\n",
    "\n",
    "```python\n",
    "# Yes\n",
    "if greeting::\n",
    "    pass\n",
    "\n",
    "# No\n",
    "if greeting == True\n",
    "   pass\n",
    "if greeting is True: # Worse\n",
    "   pass\n",
    "```"
   ]
  },
  {
   "cell_type": "code",
   "execution_count": null,
   "metadata": {
    "collapsed": true
   },
   "outputs": [],
   "source": []
  }
 ],
 "metadata": {
  "anaconda-cloud": {},
  "celltoolbar": "Slideshow",
  "kernelspec": {
   "display_name": "Python [Root]",
   "language": "python",
   "name": "Python [Root]"
  },
  "language_info": {
   "codemirror_mode": {
    "name": "ipython",
    "version": 3
   },
   "file_extension": ".py",
   "mimetype": "text/x-python",
   "name": "python",
   "nbconvert_exporter": "python",
   "pygments_lexer": "ipython3",
   "version": "3.5.2"
  }
 },
 "nbformat": 4,
 "nbformat_minor": 0
}
