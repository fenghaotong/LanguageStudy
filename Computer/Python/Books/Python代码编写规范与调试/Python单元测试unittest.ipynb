{
 "cells": [
  {
   "cell_type": "markdown",
   "metadata": {},
   "source": [
    "# unittest\n",
    "\n",
    "- [x] 测试"
   ]
  },
  {
   "cell_type": "markdown",
   "metadata": {
    "collapsed": true
   },
   "source": [
    "## 测试\n",
    "### 单元测试\n",
    "- 单元测试是用来对一个模块、一个函数或者一个类来进行正确性检验的测试工作。"
   ]
  },
  {
   "cell_type": "markdown",
   "metadata": {},
   "source": [
    "比如对函数abs()，我们可以编写出以下几个测试用例：\n",
    "\n",
    "- 输入正数，比如1、1.2、0.99，期待返回值与输入相同；\n",
    "\n",
    "- 输入负数，比如-1、-1.2、-0.99，期待返回值与输入相反；\n",
    "\n",
    "- 输入0，期待返回0；\n",
    "\n",
    "- 输入非数值类型，比如None、[]、{}，期待抛出TypeError。\n",
    "\n",
    "把上面的测试用例放到一个测试模块里，就是一个完整的单元测试。"
   ]
  },
  {
   "cell_type": "markdown",
   "metadata": {},
   "source": [
    "如果单元测试通过，说明我们测试的这个函数能够正常工作。如果单元测试不通过，要么函数有bug，要么测试条件输入不正确，总之，需要修复使单元测试能够通过。\n",
    "\n",
    "单元测试通过后有什么意义呢？如果我们对abs()函数代码做了修改，只需要再跑一遍单元测试，如果通过，说明我们的修改不会对abs()函数原有的行为造成影响，如果测试不通过，说明我们的修改与原有行为不一致，要么修改代码，要么修改测试。\n",
    "\n"
   ]
  },
  {
   "cell_type": "markdown",
   "metadata": {},
   "source": [
    "*我们先编写一个类Dict*     mydict.py\n",
    "```mydict.py\n",
    "class Dict(dict):\n",
    "\n",
    "    def __init__(self, **kw):\n",
    "        super().__init__(**kw)\n",
    "\n",
    "    def __getattr__(self, key):\n",
    "        try:\n",
    "            return self[key]\n",
    "        except KeyError:\n",
    "            raise AttributeError(r\"'Dict' object has no attribute '%s'\" % key)\n",
    "\n",
    "    def __setattr__(self, key, value):\n",
    "        self[key] = value\n",
    "        \n",
    "```"
   ]
  },
  {
   "cell_type": "markdown",
   "metadata": {},
   "source": [
    "为了编写单元测试，我们需要引入Python自带的unittest模块，编写mydict_test.py如下："
   ]
  },
  {
   "cell_type": "markdown",
   "metadata": {},
   "source": [
    "```mydict_test.py\n",
    "import unittest\n",
    "from mydict import Dict\n",
    "\n",
    "class TestDict(unittest.TestCase):\n",
    "\n",
    "    def test_init(self):\n",
    "        d = Dict(a=1, b='test')\n",
    "        self.assertEqual(d.a, 1)\n",
    "        self.assertEqual(d.b, 'test')\n",
    "        self.assertTrue(isinstance(d, dict))\n",
    "\n",
    "    def test_key(self):\n",
    "        d = Dict()\n",
    "        d['key'] = 'value'\n",
    "        self.assertEqual(d.key, 'value')\n",
    "\n",
    "    def test_attr(self):\n",
    "        d = Dict()\n",
    "        d.key = 'value'\n",
    "        self.assertTrue('key' in d)\n",
    "        self.assertEqual(d['key'], 'value')\n",
    "\n",
    "    def test_keyerror(self):\n",
    "        d = Dict()\n",
    "        with self.assertRaises(KeyError):\n",
    "            value = d['empty']\n",
    "\n",
    "    def test_attrerror(self):\n",
    "        d = Dict()\n",
    "        with self.assertRaises(AttributeError):\n",
    "            value = d.empty\n",
    "\n",
    "if __name__ == '__main__':\n",
    "    unittest.main()\n",
    "    \n",
    "```"
   ]
  },
  {
   "cell_type": "markdown",
   "metadata": {},
   "source": [
    "编写单元程序时，我们需要编写一个测试类，从unittest.Testcase继承\n",
    "\n",
    "以test开头的方法就是测试方法，不以test开头的方法不被认为是测试方法，测试的时候不会被执行。\n",
    "\n",
    "对每一类测试都需要编写一个test_xxx()方法。由于unittest.TestCase提供了很多内置的条件判断，我们只需要调用这些方法就可以断言输出是否是我们所期望的。最常用的断言就是assertEqual()：\n",
    "```python\n",
    "self.assertEqual(abs(-1), 1) # 断言函数返回的结果与1相等\n",
    "```"
   ]
  },
  {
   "cell_type": "markdown",
   "metadata": {},
   "source": [
    "另一种重要的断言就是期待抛出指定类型的Error，比如通过d['empty']访问不存在的key时，断言会抛出KeyError：\n",
    "```python\n",
    "with self.assertRaises(KeyError):\n",
    "    value = d['empty']\n",
    "```   \n",
    "而通过d.empty访问不存在的key时，我们期待抛出AttributeError：\n",
    "```python\n",
    "with self.assertRaises(AttributeError):\n",
    "    value = d.empty\n",
    "    \n",
    "```"
   ]
  },
  {
   "cell_type": "markdown",
   "metadata": {},
   "source": [
    "一旦编写好单元测试，我们就可以运行单元测试。最简单的运行方式是在mydict_test.py的最后加上两行代码：\n",
    "```python\n",
    "if __name__ == '__main__':\n",
    "    unittest.main()\n",
    "```"
   ]
  },
  {
   "cell_type": "markdown",
   "metadata": {},
   "source": [
    "然后在脚本里运行\n",
    "```python\n",
    "python mydict_test.py\n",
    "```"
   ]
  },
  {
   "cell_type": "markdown",
   "metadata": {},
   "source": [
    "### 文档测试\n",
    "- 我们在读python文档的时候，可以看到很多的文档都有示例代码。可以把这些示例代码在python的交互式环境下输入并执行，结果与文档中的实例代码显示的一致。\n",
    "\n",
    "- 这些代码与其说明可以写在注释中，然后，有一些工具来自动生成文档，既然这些代码本身就可以粘贴出来直接运行，那么可不可以直接执行写在注释里面的代码呢？\n",
    "\n",
    "如下例，当我们编写注释的时候，如果写上这样的注释："
   ]
  },
  {
   "cell_type": "code",
   "execution_count": 1,
   "metadata": {
    "collapsed": false
   },
   "outputs": [],
   "source": [
    "def abs(n):\n",
    "    '''\n",
    "    Function to get absolute value of number.\n",
    "\n",
    "    Example:\n",
    "\n",
    "    >>> abs(1)\n",
    "    1\n",
    "    >>> abs(-1)\n",
    "    1\n",
    "    >>> abs(0)\n",
    "    0\n",
    "    '''\n",
    "    if n >= 0:\n",
    "        return n \n",
    "    else: \n",
    "        return -n\n",
    "if __name__ == \"__main__\":\n",
    "    import doctest\n",
    "    doctest.testmod()"
   ]
  },
  {
   "cell_type": "markdown",
   "metadata": {},
   "source": [
    "Python内置的“文档测试”（doctest）模块可以直接提取注释中的代码并执行测试。\n",
    "\n",
    "doctest严格按照Python交互式命令行的输入和输出来判断测试结果是否正确。只有测试异常的时候，可以用...表示中间一大段烦人的输出。\n",
    "\n",
    "注意到最后3行代码。当模块正常导入时，doctest不会被执行。只有在命令行直接运行时，才执行doctest。所以，不必担心doctest会在非测试环境下执行。"
   ]
  },
  {
   "cell_type": "code",
   "execution_count": 2,
   "metadata": {
    "collapsed": false
   },
   "outputs": [
    {
     "name": "stdout",
     "output_type": "stream",
     "text": [
      "**********************************************************************\n",
      "File \"__main__\", line 9, in __main__.abs\n",
      "Failed example:\n",
      "    abs(-1)\n",
      "Expected:\n",
      "    1\n",
      "Got nothing\n",
      "**********************************************************************\n",
      "1 items had failures:\n",
      "   1 of   3 in __main__.abs\n",
      "***Test Failed*** 1 failures.\n"
     ]
    }
   ],
   "source": [
    "def abs(n):\n",
    "    '''\n",
    "    Function to get absolute value of number.\n",
    "\n",
    "    Example:\n",
    "\n",
    "    >>> abs(1)\n",
    "    1\n",
    "    >>> abs(-1)\n",
    "    1\n",
    "    >>> abs(0)\n",
    "    0\n",
    "    '''\n",
    "    if n >= 0:\n",
    "        return n \n",
    "if __name__=='__main__':\n",
    "    import doctest\n",
    "    doctest.testmod()"
   ]
  },
  {
   "cell_type": "code",
   "execution_count": null,
   "metadata": {
    "collapsed": true
   },
   "outputs": [],
   "source": []
  }
 ],
 "metadata": {
  "anaconda-cloud": {},
  "celltoolbar": "Slideshow",
  "kernelspec": {
   "display_name": "Python [Root]",
   "language": "python",
   "name": "Python [Root]"
  },
  "language_info": {
   "codemirror_mode": {
    "name": "ipython",
    "version": 3
   },
   "file_extension": ".py",
   "mimetype": "text/x-python",
   "name": "python",
   "nbconvert_exporter": "python",
   "pygments_lexer": "ipython3",
   "version": "3.5.1"
  }
 },
 "nbformat": 4,
 "nbformat_minor": 0
}
