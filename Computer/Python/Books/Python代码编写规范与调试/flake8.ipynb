{
 "cells": [
  {
   "cell_type": "markdown",
   "metadata": {
    "collapsed": true
   },
   "source": [
    "# flake8（代码规范利器）\n",
    "\n",
    "概述\n",
    "\n",
    "flake8是下面三个工具的封装：\n",
    "\n",
    "- 1）PyFlakes\n",
    "\n",
    "- 2）Pep8\n",
    "\n",
    "- 3）NedBatchelder’s McCabe script\n",
    "\n",
    "Flake8的下载地址：https://pypi.python.org/pypi/flake8/ 优点是可扩展。\n"
   ]
  },
  {
   "cell_type": "markdown",
   "metadata": {},
   "source": [
    "- Flake8通过启动单独的flake8脚本运行所有工具，它在一个Per文件中显示告警，合并到输出中。\n",
    "\n",
    "也增加一些特征：\n",
    "\n",
    "1）包含这行文件将被忽略：#flake8: noqa\n",
    "\n",
    "2）结尾包含#noqa注释的行将不发布告警\n",
    "\n",
    "3）GIT和Mercurial钩子\n",
    "\n",
    "4）McCabe复杂度检查器\n",
    "\n",
    "5）可以通过flake8.extension入口点扩展\n",
    "\n"
   ]
  },
  {
   "cell_type": "markdown",
   "metadata": {},
   "source": [
    "## 安装\n",
    "\n",
    "- 下载源码后解压缩进行安装：python setup.py install\n",
    "\n",
    "- 快速安装：pipinstall flake8\n",
    "\n",
    "## 使用\n",
    "\n",
    "为了运行flake8只需在任意目录或Python模块上调用它。\n",
    "\n",
    "```\n",
    "$ flake8 coolproject\n",
    "coolproject/mod.py:97:1: F401 'shutil'imported but unused\n",
    "coolproject/mod.py:625:17: E225 missingwhitespace around operato\n",
    "coolproject/mod.py:729:1: F811 redefinitionof function 'readlines' from line 723\n",
    "coolproject/mod.py:1028:1: F841 localvariable 'errors' is assigned to but never used\n",
    "```\n",
    "\n"
   ]
  },
  {
   "cell_type": "markdown",
   "metadata": {},
   "source": [
    "PyFlakes和Pep8（和可选的插件）的输出将合并起来一起返回。\n",
    "\n",
    "Flake8提供一个扩展选项：--max-complexity，如果函数的McCabe复杂度比给定的值更高将发出一个告警。缺省它是不激活的。\n",
    "```\n",
    "$ flake8 --max-complexity 12 coolproject\n",
    "\n",
    "coolproject/mod.py:97:1: F401 'shutil'imported but unused\n",
    "\n",
    "coolproject/mod.py:625:17: E225 missingwhitespace around operator\n",
    "\n",
    "coolproject/mod.py:729:1: F811 redefinitionof unused 'readlines' from line 723\n",
    "\n",
    "coolproject/mod.py:939:1: C901'Checker.check_all' is too complex (12)\n",
    "\n",
    "coolproject/mod.py:1028:1: F841 localvariable 'errors' is assigned to but never used\n",
    "\n",
    "coolproject/mod.py:1204:1: C901 'selftest'is too complex (14)\n",
    "```\n",
    "\n",
    "该特征对于检查非常复杂的代码相当有用。根据McCabe，低于10的任何代码都太复杂了。\n",
    "\n"
   ]
  },
  {
   "cell_type": "markdown",
   "metadata": {},
   "source": [
    "## VIM配置\n",
    "\n",
    "如果希望在Vim中使用flake8，使用vundle进行安装。\n",
    "```\n",
    "Flake8 plugin for Vim.\n",
    "\n",
    "Bundle 'nvie/vim-flake8'\n",
    "\n",
    "compiler plugin for python stylechecking tool.\n",
    "\n",
    "Bundle 'vim-scripts/pylint.vim'\n",
    "\n",
    "autocmd FileType python compiler pylint\n",
    "```\n",
    "\n",
    "vundle的官方网址：https://github.com/gmarik/vundle\n",
    "\n",
    "简单可用的vimrc，下载方法如下：\n",
    "\n",
    "git clone https://github.com/icocoa/icocoa-vimrc.git--recursive vimrc // icocoa is my another account in GitHub\n"
   ]
  },
  {
   "cell_type": "markdown",
   "metadata": {},
   "source": [
    "## Pychecker\n",
    "\n",
    "官方网址：http://pychecker.sourceforge.net/\n",
    "\n",
    "http://sourceforge.net/projects/pychecker/\n",
    "\n",
    "https://pypi.python.org/pypi/PyChecker\n"
   ]
  },
  {
   "cell_type": "markdown",
   "metadata": {},
   "source": [
    "### 概述\n",
    "\n",
    "PyChecker是Python代码的静态分析工具，它能够帮助查找Python代码的bug，而且能够对代码的复杂度和格式等提出警告。\n",
    "\n",
    "PyChecker可以工作在多种方式之下。首先，PyChecker会导入所检查文件中包含的模块，检查导入是否正确，同时检查文件中的函数、类和方法等。\n",
    "\n",
    "PyChecker可以检查出来的问题有如下几种：\n",
    "\n",
    "- 1）全局量没有找到，比如没有导入模块\n",
    "\n",
    "- 2）传递给函数、方法、构造器的参数数目错误\n",
    "\n",
    "- 3）传递给内建函数和方法的参数数目错误\n",
    "\n",
    "- 4）字符串格式化信息不匹配\n",
    "\n",
    "- 5）使用不存在的类方法和属性\n",
    "\n",
    "- 6）覆盖函数时改变了签名\n",
    "\n",
    "- 7）在同一作用域中重定义了函数、类、方法\n",
    "\n",
    "- 8）使用未初始化的变量\n",
    "\n",
    "- 9）方法的第一个参数不是self\n",
    "\n",
    "- 10）未使用的全局量和本地量（模块或变量）\n",
    "\n",
    "- 11）未使用的函数/方法的参数（不包括self）\n",
    "\n",
    "- 12）模块、类、函数和方法中没有docstring\n",
    "\n"
   ]
  },
  {
   "cell_type": "markdown",
   "metadata": {},
   "source": [
    "###  安装\n",
    "\n",
    "从官网下载最新版本的PyChecker之后，解压安装即可：\n",
    "```\n",
    "python setup.pyinstall\n",
    "```\n",
    "\n",
    "### 基本使用\n",
    "```\n",
    "pychecker setup.py\n",
    "```\n",
    "使用--only参数可以只检查自身的语法问题。   \n",
    "```\n",
    "pychecker --only setup.py\n",
    "```\n",
    "参数和选项说明：pychecker[options] file1.py file2.py ...\n",
    "\n",
    "--only 只给出命令行的文件的警告，默认为no\n",
    "\n",
    "-#，--limit 显示的最大警告数，默认为10\n",
    "\n",
    "--no-shadowbuiltin 检查是否有变量覆盖了内建变量，默认为off\n",
    "\n",
    "-q，--stdlib 忽略标准库的文件的警告，默认为off\n",
    "\n",
    "-T，--argsused 未使用的方法/函数的关键字，默认为on\n",
    "\n"
   ]
  },
  {
   "cell_type": "markdown",
   "metadata": {},
   "source": [
    "### 配置\n",
    "\n",
    "修改默认配置和行为：.pycheckrc文件，该文件放置在$HOME目录下，--rcfile选项可以生成一份默认的配置文件。\n",
    "\n",
    "要禁止一些模块/函数/类/方法的警告信息，可以在.pycheckrc文件中定义一个禁止字典，键类似：“module”，“module.function”，“module.class”等。\n",
    "\n",
    "或者直接在代码中定义：\n",
    "```\n",
    "__pychecker__ ='no-namedargs maxreturns=0 unsednames=foo,bar'\n",
    "```\n",
    "其中__pychecker__格式的值和在禁止字典中的值是一样的。\n",
    "\n",
    "在代码文件中导入PyChecker模块及使用：\n",
    "```\n",
    "import pychecker.checker\n",
    "```\n"
   ]
  },
  {
   "cell_type": "markdown",
   "metadata": {},
   "source": [
    "这将会检查所有在PyChecker之后导入的模块，之前的不检查。\n",
    "\n",
    "如果不能传递命令行参数，可以使用：\n",
    "```\n",
    "os.environ['PYCHECKER']= 'command line options here'\n",
    "```\n",
    "等价于在shell环境中设置PYCHECKER：\n",
    "```\n",
    "PYCHECKER='no-namedargsmaxreturns=0' /path/to/your/program\n",
    "```\n",
    "要关闭警告，可以在导入PyChecker之前，加上：\n",
    "```\n",
    "os.environ['PYCHECKER_DISABLED']= 1\n",
    "```\n",
    "等价于在shell环境中设置PYCHECKER_DISABLED：\n",
    "```\n",
    "PYCHECKER_DISABLED=1/path/to/your/program\n",
    "```\n"
   ]
  },
  {
   "cell_type": "markdown",
   "metadata": {},
   "source": [
    "## Pylint（推荐）\n",
    "\n",
    "PyLint的下载地址：https://pypi.python.org/pypi/pylint\n",
    "\n",
    "PyLint的官网：http://www.pylint.org/\n",
    "\n"
   ]
  },
  {
   "cell_type": "markdown",
   "metadata": {},
   "source": [
    "### 概述\n",
    "\n",
    "PyLint是Python源代码分析器，它查找编程错误，帮助执行一个代码标准和嗅探一些代码味道。\n",
    "\n",
    "缺省情况下，PyLint启用许多规则。它具有高度可配置性，从代码内部处理程序控制它。另外，编写插件添加到自己的检查中是可能的。\n",
    "\n",
    "注意：相比于PyChecker，Pylint是一个高阶的Python代码分析工具，它分析Python代码中的错误，查找不符合代码风格标准（Pylint 默认使用的代码风格是 PEP 8）和有潜在问题的代码。目前 Pylint 的最新版本是 pylint-1.2.1。可以检查一行代码的长度、变量名是否符合规范等。运行两次可以看出代码是否改进，分数是否有所提高，10分满分。\n",
    "\n",
    "Pylint是一个 Python 代码分析工具，它分析 Python 代码中的错误，查找不符合代码风格标准（Pylint 默认使用的代码风格是 PEP 8，具体信息，请参阅参考资料）和有潜在问题的代码。\n",
    "\n"
   ]
  },
  {
   "cell_type": "markdown",
   "metadata": {},
   "source": [
    "- 1）Pylint 是一个 Python 工具，除了平常代码分析工具的作用之外，它提供了更多的功能：如检查一行代码的长度，变量名是否符合命名标准，一个声明过的接口是否被真正实现等等。\n",
    "\n",
    "- 2）Pylint 的一个很大的好处是它的高可配置性，高可定制性，并且可以很容易写小插件来添加功能。\n",
    "\n",
    "- 3）如果运行两次Pylint，它会同时显示出当前和上次的运行结果，从而可以看出代码质量是否得到了改进。\n",
    "\n",
    "- 4）目前在 eclipse 的 pydev 插件中也集成了Pylint。\n",
    "\n"
   ]
  },
  {
   "cell_type": "markdown",
   "metadata": {},
   "source": [
    "Pylint要求astroid（越新越好）和logilab-common(版本>= 0.53)软件包。\n",
    "\n",
    "https://bitbucket.org/logilab/astroid\n",
    "\n",
    "http://www.logilab.org/projects/common\n",
    "\n",
    "### 安装\n",
    "\n",
    "从源码发行版安装，解压Tar包并且运行：\n",
    "\n",
    "python setup.py install\n",
    "\n",
    "快速安装方法：pipinstall pylint\n",
    "\n",
    "你必须使用类似的方法安装依赖。对于Debian和RPM安装包，根据你Linux发行版中使用你的常用工具。\n",
    "\n"
   ]
  },
  {
   "cell_type": "markdown",
   "metadata": {},
   "source": [
    "PyDev中对Python的语法检查使用了PyLint，配置它是需要注意下面几点：\n",
    "\n",
    "- 1）首先要安装logilab-asting和logilab-common。\n",
    "\n",
    "- 2）然后要让这两个包正常工作，要对logilab-common做些动作：\n",
    "\n",
    "    proc.py line(115)\n",
    "\n",
    " \n",
    "\n",
    "    fromsignal import * #signal, SIGXCPU, SIGKILL, SIGUSR2, SIGUSR1\n",
    "\n",
    "    fromos import * #killpg, getpid, setpgrp\n",
    "\n",
    "    fromthreading import Timer, currentThread, Thread, Event\n",
    "\n",
    "    fromtime import time\n",
    "\n",
    " \n",
    "\n",
    "    #from resource import getrlimit, setrlimit,RLIMIT_CPU, RLIMIT_AS\n",
    "\n"
   ]
  },
  {
   "cell_type": "markdown",
   "metadata": {},
   "source": [
    "### 错误提示说明\n",
    "\n",
    "- (C) 惯例。违反了编码风格标准\n",
    "\n",
    "- (R) 重构。写得非常糟糕的代码。\n",
    "\n",
    "- (W) 警告。某些 Python 特定的问题。\n",
    "\n",
    "- (E) 错误。很可能是代码中的错误。\n",
    "\n",
    "- (F) 致命错误。阻止 Pylint 进一步运行的错误。\n",
    "\n"
   ]
  },
  {
   "cell_type": "markdown",
   "metadata": {},
   "source": [
    "### 运行\n",
    "\n",
    "从命令行调用Pylint，使用方法如下：\n",
    "```\n",
    "pylint [options] module_or_package\n",
    "```\n",
    "你应该给PyLint传递一个Python包或模块的名称。Pylint将导入该包或模块，因此你应该注意你的PYTHONPATH，因为它是一个常见错误分析模块的安装版本，而不是开发版本。\n",
    "\n",
    "也可以分析Python文件，但是有一些限制。记住Pylint将尝试转换文件名为模块名，只有成功才能处理文件。"
   ]
  },
  {
   "cell_type": "code",
   "execution_count": null,
   "metadata": {
    "collapsed": true
   },
   "outputs": [],
   "source": []
  }
 ],
 "metadata": {
  "anaconda-cloud": {},
  "kernelspec": {
   "display_name": "Python [Root]",
   "language": "python",
   "name": "Python [Root]"
  },
  "language_info": {
   "codemirror_mode": {
    "name": "ipython",
    "version": 3
   },
   "file_extension": ".py",
   "mimetype": "text/x-python",
   "name": "python",
   "nbconvert_exporter": "python",
   "pygments_lexer": "ipython3",
   "version": "3.5.1"
  }
 },
 "nbformat": 4,
 "nbformat_minor": 0
}
