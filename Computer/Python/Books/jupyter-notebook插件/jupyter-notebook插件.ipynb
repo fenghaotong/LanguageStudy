{
 "cells": [
  {
   "cell_type": "markdown",
   "metadata": {},
   "source": [
    "# jupyter-notebook插件"
   ]
  },
  {
   "cell_type": "markdown",
   "metadata": {},
   "source": [
    "## rise\n",
    "\n",
    "从已有的一个 notebook 创建一个 powerpoint 风格的报告"
   ]
  },
  {
   "cell_type": "markdown",
   "metadata": {},
   "source": [
    "安装步骤\n",
    "\n",
    "```shell\n",
    "pip install rise\n",
    "\n",
    "jupyter-nbextension install rise --py --sys-prefix\n",
    "jupyter-nbextension enable rise --py --sys-prefix\n",
    "```"
   ]
  },
  {
   "cell_type": "code",
   "execution_count": null,
   "metadata": {
    "collapsed": true
   },
   "outputs": [],
   "source": []
  }
 ],
 "metadata": {
  "kernelspec": {
   "display_name": "Python 3",
   "language": "python",
   "name": "python3"
  },
  "language_info": {
   "codemirror_mode": {
    "name": "ipython",
    "version": 3
   },
   "file_extension": ".py",
   "mimetype": "text/x-python",
   "name": "python",
   "nbconvert_exporter": "python",
   "pygments_lexer": "ipython3",
   "version": "3.6.1"
  }
 },
 "nbformat": 4,
 "nbformat_minor": 2
}
