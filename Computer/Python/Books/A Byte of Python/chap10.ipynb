{
 "cells": [
  {
   "cell_type": "markdown",
   "metadata": {},
   "source": [
    "# 第十章 数据结构\n",
    "\n",
    "- [x] 序列\n",
    "- [x] 列表\n",
    "- [x] 元组 \n",
    "- [x] 字典\n",
    "- [x] 集合"
   ]
  },
  {
   "cell_type": "markdown",
   "metadata": {},
   "source": [
    "## 序列\n",
    "\n",
    "- 列表、元组和字符串都是序列\n",
    "- 序列的主要特点是索成员检验和索引操作符\n",
    "- 切片操作|"
   ]
  },
  {
   "cell_type": "markdown",
   "metadata": {},
   "source": [
    "## 列表\n",
    "- 一个可变的数据类型\n",
    "- 有中括号创建"
   ]
  },
  {
   "cell_type": "markdown",
   "metadata": {},
   "source": [
    "## 元组\n",
    "- 不可变的数据类型\n",
    "- 用括号加逗号构成"
   ]
  },
  {
   "cell_type": "markdown",
   "metadata": {},
   "source": [
    "## 字典\n",
    "\n",
    "- 用大括号创建\n",
    "- 一个键对应一个值，键和值中间用冒号，键值对之间用逗号\n",
    "- 可变的数据类型"
   ]
  },
  {
   "cell_type": "markdown",
   "metadata": {},
   "source": [
    "## 集合\n",
    "- 是没有顺序的简单对象的聚集"
   ]
  }
 ],
 "metadata": {
  "kernelspec": {
   "display_name": "Python [Root]",
   "language": "python",
   "name": "Python [Root]"
  },
  "language_info": {
   "codemirror_mode": {
    "name": "ipython",
    "version": 3
   },
   "file_extension": ".py",
   "mimetype": "text/x-python",
   "name": "python",
   "nbconvert_exporter": "python",
   "pygments_lexer": "ipython3",
   "version": "3.5.1"
  }
 },
 "nbformat": 4,
 "nbformat_minor": 0
}
