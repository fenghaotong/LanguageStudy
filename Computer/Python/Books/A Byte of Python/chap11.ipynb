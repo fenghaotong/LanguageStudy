{
 "cells": [
  {
   "cell_type": "markdown",
   "metadata": {},
   "source": [
    "# 第十一章 解决问题"
   ]
  },
  {
   "cell_type": "code",
   "execution_count": 6,
   "metadata": {
    "collapsed": false
   },
   "outputs": [
    {
     "name": "stdout",
     "output_type": "stream",
     "text": [
      "E:\\Backup\\20160712202158.zip\n",
      "zip - qr E:\\Backup\\20160712202158.zip \"C:\\My Documents\"C:\\Code\n",
      "Backup FAILED\n"
     ]
    }
   ],
   "source": [
    "import os\n",
    "import time\n",
    "\n",
    "source = ['\"C:\\\\My Documents\"', 'C:\\\\Code']\n",
    "target_dir = 'E:\\\\Backup'\n",
    "\n",
    "target = target_dir + os.sep + time.strftime('%Y%m%d%H%M%S') + '.zip'\n",
    "\n",
    "print(target)\n",
    "\n",
    "zip_command = \"zip - qr {0} {1}\".format(target, ''.join(source))\n",
    "\n",
    "print(zip_command)\n",
    "\n",
    "if os.system(zip_command) == 0:\n",
    "    print('Successful backup to',target)\n",
    "else:\n",
    "    print(\"Backup FAILED\")"
   ]
  },
  {
   "cell_type": "code",
   "execution_count": 3,
   "metadata": {
    "collapsed": false
   },
   "outputs": [
    {
     "name": "stdout",
     "output_type": "stream",
     "text": [
      "Help on built-in function system in module nt:\n",
      "\n",
      "system(command)\n",
      "    Execute the command in a subshell.\n",
      "\n"
     ]
    }
   ],
   "source": [
    "help(os.system)"
   ]
  },
  {
   "cell_type": "code",
   "execution_count": null,
   "metadata": {
    "collapsed": true
   },
   "outputs": [],
   "source": []
  }
 ],
 "metadata": {
  "kernelspec": {
   "display_name": "Python [Root]",
   "language": "python",
   "name": "Python [Root]"
  },
  "language_info": {
   "codemirror_mode": {
    "name": "ipython",
    "version": 3
   },
   "file_extension": ".py",
   "mimetype": "text/x-python",
   "name": "python",
   "nbconvert_exporter": "python",
   "pygments_lexer": "ipython3",
   "version": "3.5.1"
  }
 },
 "nbformat": 4,
 "nbformat_minor": 0
}
