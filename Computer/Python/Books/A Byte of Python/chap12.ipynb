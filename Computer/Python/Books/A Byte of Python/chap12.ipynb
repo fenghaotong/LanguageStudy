{
 "cells": [
  {
   "cell_type": "markdown",
   "metadata": {},
   "source": [
    "# 第十二章 面向对象编程\n"
   ]
  },
  {
   "cell_type": "markdown",
   "metadata": {},
   "source": [
    "## 类和对象变量\n",
    "\n",
    "- 类的变量是由一个类的所有对象共享使用，只有一个类变量的拷贝，所以当某个对象对类的变量做了改动时，这个改动会反映到所有其他的实例上，\n",
    "- 对象的变量是由类的每个对象、实例拥有。因此每个对象都有自己对这个域的一份拷贝，即他不是共享的，在同一个类的不同实例中，虽然对象的变量有相同的名称，但是是互相不相关的"
   ]
  },
  {
   "cell_type": "code",
   "execution_count": 1,
   "metadata": {
    "collapsed": false
   },
   "outputs": [
    {
     "name": "stdout",
     "output_type": "stream",
     "text": [
      "(Initialize R2-D2)\n",
      "Greetings, my master call me R2-D2.\n",
      "We have 1 robots.\n",
      "(Initialize C-3P0)\n",
      "Greetings, my master call me C-3P0.\n",
      "We have 2 robots.\n",
      "\n",
      "Robots can do some work here.\n",
      "\n",
      "Robots have finished their work. So let's destroy them.\n",
      "R2-D2 is being destroyed!\n",
      "There are still 1 robots working.\n",
      "C-3P0 is being destroyed!\n",
      "C-3P0 was the last one.\n",
      "We have 0 robots.\n"
     ]
    }
   ],
   "source": [
    "class Robot:\n",
    "    '''Represents a robot, with a name.'''\n",
    "\n",
    "    #A class variable, counting the number of robots\n",
    "    population = 0\n",
    "\n",
    "    def __init__(self,name):\n",
    "        '''Initializes the data.'''\n",
    "        self.name = name\n",
    "        print('(Initialize {0})'.format(self.name))\n",
    "\n",
    "        #When this person is created, the robot\n",
    "        # adds to the population\n",
    "        Robot.population += 1\n",
    "\n",
    "    def __del__(self):\n",
    "        '''I am dying.'''\n",
    "        print('{0} is being destroyed!'.format(self.name))\n",
    "\n",
    "        Robot.population -= 1\n",
    "\n",
    "        if Robot.population == 0:\n",
    "            print('{0} was the last one.'.format(self.name))\n",
    "        else:\n",
    "            print('There are still {0:d} robots working.'.format(Robot.population))\n",
    "\n",
    "    def sayHi(self):\n",
    "        '''Greeting by the robot.\n",
    "\n",
    "        Yeah, they can do that.'''\n",
    "        print('Greetings, my master call me {0}.'.format(self.name))\n",
    "\n",
    "    def howMany():\n",
    "        '''Prints the current population.'''\n",
    "        print('We have {0:d} robots.'.format(Robot.population))\n",
    "    howMany = staticmethod(howMany)\n",
    "\n",
    "droid1 = Robot('R2-D2')\n",
    "droid1.sayHi()\n",
    "Robot.howMany()\n",
    "droid2 = Robot('C-3P0')\n",
    "droid2.sayHi()\n",
    "Robot.howMany()\n",
    "\n",
    "print(\"\\nRobots can do some work here.\\n\")\n",
    "\n",
    "print(\"Robots have finished their work. So let's destroy them.\")\n",
    "\n",
    "del droid1\n",
    "del droid2\n",
    "\n",
    "Robot.howMany()"
   ]
  },
  {
   "cell_type": "markdown",
   "metadata": {},
   "source": [
    "population 属于Robot 类，因此是一个类变量。name 变量属于对象（用self 给其赋值），因此是一个对象变量。"
   ]
  },
  {
   "cell_type": "markdown",
   "metadata": {},
   "source": [
    "- 一个继承的例子"
   ]
  },
  {
   "cell_type": "code",
   "execution_count": 6,
   "metadata": {
    "collapsed": false
   },
   "outputs": [
    {
     "name": "stdout",
     "output_type": "stream",
     "text": [
      "(Initialize SchoolMember:Mrs.Shrividya)\n",
      "(Initialized Teacher:Mrs.Shrividya)\n",
      "(Initialize SchoolMember:Swaroop)\n",
      "(Initialized Student:Swaroop)\n",
      "\n",
      "Name:\"Mrs.Shrividya\" Age:\"30\"Salary:\"30000\"\n",
      "Name:\"Swaroop\" Age:\"25\"Marks:\"75\"\n"
     ]
    }
   ],
   "source": [
    "class SchoolMember:\n",
    "    '''Represent any school member.'''\n",
    "    def __init__(self,name,age):\n",
    "        self.name = name\n",
    "        self.age = age\n",
    "        print('(Initialize SchoolMember:{0})'.format(self.name))\n",
    "\n",
    "    def tell(self):\n",
    "        '''Tell my details.'''\n",
    "        print('Name:\"{0}\" Age:\"{1}\"'.format(self.name,self.age),end='')\n",
    "\n",
    "class Teacher(SchoolMember):\n",
    "    '''Repressent a teacher.'''\n",
    "    def __init__(self,name,age,salary):\n",
    "        SchoolMember.__init__(self,name,age)\n",
    "        self.salary = salary\n",
    "        print('(Initialized Teacher:{0})'.format(self.name))\n",
    "\n",
    "    def tell(self):\n",
    "        SchoolMember.tell(self)\n",
    "        print('Salary:\"{0:d}\"'.format(self.salary))\n",
    "\n",
    "class Student(SchoolMember):\n",
    "    '''Represents a student'''\n",
    "    def __init__(self,name,age,marks):\n",
    "        SchoolMember.__init__(self,name,age)\n",
    "        self.marks = marks\n",
    "        print('(Initialized Student:{0})'.format(self.name))\n",
    "\n",
    "    def tell(self):\n",
    "        SchoolMember.tell(self)\n",
    "        print('Marks:\"{0:d}\"'.format(self.marks))\n",
    "\n",
    "t = Teacher('Mrs.Shrividya',30,30000)\n",
    "s = Student('Swaroop',25,75)\n",
    "\n",
    "print()\n",
    "\n",
    "members = [t,s]\n",
    "for member in members:\n",
    "    member.tell() # work for both Teacher and Students"
   ]
  },
  {
   "cell_type": "code",
   "execution_count": null,
   "metadata": {
    "collapsed": true
   },
   "outputs": [],
   "source": []
  }
 ],
 "metadata": {
  "kernelspec": {
   "display_name": "Python [Root]",
   "language": "python",
   "name": "Python [Root]"
  },
  "language_info": {
   "codemirror_mode": {
    "name": "ipython",
    "version": 3
   },
   "file_extension": ".py",
   "mimetype": "text/x-python",
   "name": "python",
   "nbconvert_exporter": "python",
   "pygments_lexer": "ipython3",
   "version": "3.5.1"
  }
 },
 "nbformat": 4,
 "nbformat_minor": 0
}
