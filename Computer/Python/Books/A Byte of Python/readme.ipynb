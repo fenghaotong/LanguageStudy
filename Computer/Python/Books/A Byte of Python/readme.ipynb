{
 "cells": [
  {
   "cell_type": "markdown",
   "metadata": {},
   "source": [
    "# A Byte of Python\n",
    "\n",
    "读书笔记@冯浩通"
   ]
  },
  {
   "cell_type": "markdown",
   "metadata": {},
   "source": [
    "## 目标和要求\n",
    "\n",
    "- 这本书写的比较基础，打算用两天的时间看完\n",
    "- 再熟悉一遍Python语法"
   ]
  },
  {
   "cell_type": "markdown",
   "metadata": {},
   "source": [
    "## 目录\n",
    "\n",
    "- [x] [第一章 前言](chap01.ipynb)（不再写）\n",
    "- [x] [第二章 Python介绍](chap02.ipynb)（不再写）\n",
    "- [x] [第三章 安装](chap03.ipynb)（不再写）\n",
    "- [x] [第四章 最初的步骤](chap04.ipynb)（不再写）\n",
    "- [x] [第五章 基础](chap05.ipynb)\n",
    "- [x] [第六章 操作符和表达式](chap06.ipynb)\n",
    "- [x] [第七章 控制流](chap07.ipynb)\n",
    "- [x] [第八章 函数](chap08.ipynb)\n",
    "- [x] [第九章 模块](chap09.ipynb)\n",
    "- [x] [第十章 数据结构](chap10.ipynb)\n",
    "- [x] [第十一章 解决问题](chap11.ipynb)\n",
    "- [x] [第十二章 面向对象编程](chap12.ipynb)\n",
    "- [x] [第十三章 输入输出](chap13.ipynb)\n",
    "- [x] [第十四章 异常](chap14.ipynb)\n",
    "- [x] [第十五章 标准库](chap15.ipynb)\n",
    "- [x] [第十六章 更多内容](chap16.ipynb)"
   ]
  },
  {
   "cell_type": "code",
   "execution_count": null,
   "metadata": {
    "collapsed": true
   },
   "outputs": [],
   "source": []
  }
 ],
 "metadata": {
  "anaconda-cloud": {},
  "kernelspec": {
   "display_name": "Python [Root]",
   "language": "python",
   "name": "Python [Root]"
  },
  "language_info": {
   "codemirror_mode": {
    "name": "ipython",
    "version": 3
   },
   "file_extension": ".py",
   "mimetype": "text/x-python",
   "name": "python",
   "nbconvert_exporter": "python",
   "pygments_lexer": "ipython3",
   "version": "3.5.1"
  }
 },
 "nbformat": 4,
 "nbformat_minor": 0
}
