{
 "cells": [
  {
   "cell_type": "markdown",
   "metadata": {},
   "source": [
    "# 第五章 基础"
   ]
  },
  {
   "cell_type": "markdown",
   "metadata": {},
   "source": [
    "- 数：Python中数的类型有三种：整数、浮点数和复数\n",
    ">Pyhton中不区分“long int”，可以任意长\n",
    "- 字符串：字符串是字符的序列\n",
    "- 单引号：可以用单引号指定字符串，如‘Quote me on this’，所有的空格和制表符都照样保留\n",
    "- 双引号：单引号和双引号用法相同，在一种情况下不同\n",
    "- 三引号：可以指示一个多行的字符串，在里面可以任意的使用单引号和双引号\n",
    "- 转义字符：用反斜杠来转义字符“\\”\n",
    "- 自然字符串：在字符串前面加上r或者R来指定自然字符串\n",
    "- 字符串是不可变的：一旦定义好了一个字符串，就不能改变它\n",
    "- 字符串按字面意义连接\n",
    "- format方法：\n",
    ">一个字符串能使用确定的格式，随后，可以调用format 方法来代替这些格式，参数要\n",
    "与format 方法的参数保持一致。\n",
    "观察首次使用0 的地方，这与format 方法的第一个参变量name 相一致。类似地，\n",
    "第二个格式1 与format 方法的第二个参变量age 相一致。"
   ]
  },
  {
   "cell_type": "markdown",
   "metadata": {},
   "source": [
    "- 变量：Python中给变量赋值不要要定义或声明数据类型\n",
    "- 标识符的命名：标识符是由字母、数字、下划线组成，第一个字符必须是字母或者下划线\n",
    "- 数据类型：变量的不同类型值，称为数据类型，基本数据类型是数字和字符串\n",
    "- 对象：Python中一切皆为对象\n",
    "- 缩进：不要混合使用制表符和空格表示缩进，每个缩进层次只用单个制表符和两个或四个空格。"
   ]
  },
  {
   "cell_type": "code",
   "execution_count": null,
   "metadata": {
    "collapsed": true
   },
   "outputs": [],
   "source": []
  }
 ],
 "metadata": {
  "kernelspec": {
   "display_name": "Python [Root]",
   "language": "python",
   "name": "Python [Root]"
  },
  "language_info": {
   "codemirror_mode": {
    "name": "ipython",
    "version": 3
   },
   "file_extension": ".py",
   "mimetype": "text/x-python",
   "name": "python",
   "nbconvert_exporter": "python",
   "pygments_lexer": "ipython3",
   "version": "3.5.1"
  }
 },
 "nbformat": 4,
 "nbformat_minor": 0
}
