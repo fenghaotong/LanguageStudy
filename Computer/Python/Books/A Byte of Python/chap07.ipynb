{
 "cells": [
  {
   "cell_type": "markdown",
   "metadata": {},
   "source": [
    "# 第七章 控制流\n",
    "\n",
    "- [x] if语句\n",
    "- [x] while语句\n",
    "- [x] for循环\n",
    "- [x] break语句\n",
    "- [x] continue语句"
   ]
  },
  {
   "cell_type": "markdown",
   "metadata": {},
   "source": [
    "## if语句\n",
    "- elif和else子句是可选的\n",
    "- Python没有switch语句，你可以使用if...elif...else语句来完成同样的工作"
   ]
  },
  {
   "cell_type": "markdown",
   "metadata": {},
   "source": [
    "## while语句\n",
    "\n",
    "- 只要在一个条件为真的情况，一直重复执行一块语句\n",
    "- 有一个可选的else从句"
   ]
  },
  {
   "cell_type": "markdown",
   "metadata": {},
   "source": [
    "## for循环\n",
    "\n",
    "- for..in是另外一个循环语句，它在一序列的对象上迭代逐一使用序列中的每个项目"
   ]
  },
  {
   "cell_type": "markdown",
   "metadata": {},
   "source": [
    "## break语句\n",
    "\n",
    "- 用来终止循环语句\n",
    "- 如果从for或while循环中终止，任何对应的循环else块都不执行"
   ]
  },
  {
   "cell_type": "markdown",
   "metadata": {},
   "source": [
    "## continue语句\n",
    "- 用来跳出当前循环块中的剩余语句"
   ]
  },
  {
   "cell_type": "code",
   "execution_count": null,
   "metadata": {
    "collapsed": true
   },
   "outputs": [],
   "source": []
  }
 ],
 "metadata": {
  "kernelspec": {
   "display_name": "Python [Root]",
   "language": "python",
   "name": "Python [Root]"
  },
  "language_info": {
   "codemirror_mode": {
    "name": "ipython",
    "version": 3
   },
   "file_extension": ".py",
   "mimetype": "text/x-python",
   "name": "python",
   "nbconvert_exporter": "python",
   "pygments_lexer": "ipython3",
   "version": "3.5.1"
  }
 },
 "nbformat": 4,
 "nbformat_minor": 0
}
