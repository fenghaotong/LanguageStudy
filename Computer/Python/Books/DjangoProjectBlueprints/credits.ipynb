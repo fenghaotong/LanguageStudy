{
 "cells": [
  {
   "cell_type": "markdown",
   "metadata": {},
   "source": [
    "# Credits"
   ]
  },
  {
   "cell_type": "markdown",
   "metadata": {},
   "source": [
    "* Author\n",
    "    - Asad Jibran Ahmed\n",
    "* Reviewer\n",
    "    - Jaakko Tulkki\n",
    "* Commissioning Editor\n",
    "    - Julian Ursell\n",
    "* Acquisition Editor\n",
    "    - Larissa Pinto\n",
    "* Content Development Editor\n",
    "    - Parshva Sheth\n",
    "* Technical Editor\n",
    "    - Danish Shaikh\n",
    "* Copy Editor\n",
    "    - Tasneem Fatehi\n",
    "* Project Coordinator\n",
    "    - Nikhil Nair\n",
    "* Proofreader\n",
    "    - Safis Editing\n",
    "* Indexer\n",
    "    - Mariammal Chettiyar\n",
    "* Production Coordinator\n",
    "    - Arvindkumar Gupta\n",
    "* Cover Work\n",
    "    - Arvindkumar Gupta"
   ]
  }
 ],
 "metadata": {
  "kernelspec": {
   "display_name": "Python 3",
   "language": "python",
   "name": "python3"
  },
  "language_info": {
   "codemirror_mode": {
    "name": "ipython",
    "version": 3
   },
   "file_extension": ".py",
   "mimetype": "text/x-python",
   "name": "python",
   "nbconvert_exporter": "python",
   "pygments_lexer": "ipython3",
   "version": "3.5.1"
  }
 },
 "nbformat": 4,
 "nbformat_minor": 0
}
