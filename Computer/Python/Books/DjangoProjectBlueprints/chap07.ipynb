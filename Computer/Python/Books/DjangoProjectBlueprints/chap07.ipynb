{
 "cells": [
  {
   "cell_type": "markdown",
   "metadata": {},
   "source": [
    "# Chapter 7: Form Mason – a Monkey of your own\n"
   ]
  },
  {
   "cell_type": "markdown",
   "metadata": {},
   "source": [
    "In our journey to learn Django, we have traveled far. We started from baby steps,\n",
    "learning to set up databases, basic views, and templates. We then moved on to more\n",
    "difficult stuff such as management commands and the Django shell. This is the last\n",
    "chapter in that journey, where we use all the knowledge that we have gained, and\n",
    "use it to create one of the most complicated applications yet. It's always fun to end\n",
    "things with a bang, and that's what we'll do here!"
   ]
  },
  {
   "cell_type": "markdown",
   "metadata": {},
   "source": [
    "You might have heard of SurveyMonkey (<www.surveymonkey.com>) or Wufoo\n",
    "(<www.wufoo.com>). If not, these are web applications that allow you to create custom\n",
    "forms to gather data from audiences. You use the control panel available on these\n",
    "sites to set up a form, defining all the fields and how they should be validated, and\n",
    "configuring some basic stuff such as what the form should look like, what theme it\n",
    "should use, and so on. After configuring the form, you get a link to a web page that\n",
    "displays that form."
   ]
  },
  {
   "cell_type": "markdown",
   "metadata": {},
   "source": [
    "You then send this link out to the intended audience and they fill it in, with their\n",
    "responses being saved. As part of your control panel, you also get a web page where\n",
    "you can view and filter these responses."
   ]
  },
  {
   "cell_type": "markdown",
   "metadata": {},
   "source": [
    "Services like these make it dead simple for even the least computer-savvy people to\n",
    "create online surveys and gather data for any purpose from a wide audience. This\n",
    "seems like a cool service that we will replicate in this chapter. It will also be the most\n",
    "complex application that we will have created, as it requires us to dive deep into\n",
    "Django and understand how Django forms work behind the scenes. In a sense, you\n",
    "will learn about the magic that makes Django tick. Exciting, isn't it!"
   ]
  },
  {
   "cell_type": "markdown",
   "metadata": {},
   "source": [
    "## Code pack"
   ]
  },
  {
   "cell_type": "markdown",
   "metadata": {},
   "source": [
    "This chapter does not have a code pack because almost all of the stuff that we are\n",
    "about to do here is new. Plus, we will do a lot of exploring in this chapter as well.\n",
    "This is both fun and shows you one of the many ways of approaching a tough project."
   ]
  },
  {
   "cell_type": "markdown",
   "metadata": {},
   "source": [
    "As there is no code pack to work from, you'll need to start the project by yourself.\n",
    "First, as always, create a new virtual environment for the new project. Next, with\n",
    "the environment activated, install Django and run the following:"
   ]
  },
  {
   "cell_type": "markdown",
   "metadata": {},
   "source": [
    "```sh\n",
    "> django-admin.py startproject formmason\n",
    "```"
   ]
  },
  {
   "cell_type": "markdown",
   "metadata": {},
   "source": [
    "This should create a `formmason` folder with our new Django project, ready for us\n",
    "to start working on. Use the cd command to get into this folder and create a new\n",
    "application that we'll be using to hold our views, models, and so on:"
   ]
  },
  {
   "cell_type": "markdown",
   "metadata": {},
   "source": [
    "```sh\n",
    "python manage.py startapp main\n",
    "```"
   ]
  },
  {
   "cell_type": "markdown",
   "metadata": {},
   "source": [
    "Finally, add the main application to our list of `INSTALLED_APPS` in `formmason/settings.py`. Once that's done, we're ready to start!"
   ]
  },
  {
   "cell_type": "markdown",
   "metadata": {},
   "source": [
    "## Looking at a Django form"
   ]
  },
  {
   "cell_type": "markdown",
   "metadata": {},
   "source": [
    "As our aim is to allow users to create dynamic forms based on parameters stored in a\n",
    "database, a good place to start is to look at how a Django form works under the hood\n",
    "and what options we have to customize it. First, let's create a basic form. Create a\n",
    "new `main/forms.py` file and add the following code to it:"
   ]
  },
  {
   "cell_type": "markdown",
   "metadata": {},
   "source": [
    "```python\n",
    "from django import forms\n",
    "\n",
    "class SampleForm(forms.Form):\n",
    "    name = forms.CharField()\n",
    "    age = forms.IntegerField()\n",
    "    address = forms.CharField(required=False)\n",
    "    gender = forms.ChoiceField(choices=(('M', 'Male'), ('F', 'Female')))\n",
    "```"
   ]
  },
  {
   "cell_type": "markdown",
   "metadata": {},
   "source": [
    "This is a pretty basic form. However, it has a variety of form fields that we can look\n",
    "at. Let's play around a bit in the shell, which you can start as follows:"
   ]
  },
  {
   "cell_type": "markdown",
   "metadata": {},
   "source": [
    "```sh\n",
    "> python manage.py shell\n",
    "```"
   ]
  },
  {
   "cell_type": "markdown",
   "metadata": {},
   "source": [
    "> tips\n",
    "\n",
    "> I usually like to install another package called ipython. When you\n",
    "start the Django shell with ipython installed, you get an enhanced\n",
    "version of the basic shell with a lot of cool features such as\n",
    "autocomplete and a much better looking interface. I always install\n",
    "it in any Django project because I almost always use the shell at the\n",
    "start of the project to play around. I highly advise you to install it as\n",
    "well when you start a new Django project."
   ]
  },
  {
   "cell_type": "markdown",
   "metadata": {},
   "source": [
    "Import our form in the shell as follows:"
   ]
  },
  {
   "cell_type": "markdown",
   "metadata": {},
   "source": [
    "```python\n",
    "> from main.forms import SampleForm\n",
    "```"
   ]
  },
  {
   "cell_type": "markdown",
   "metadata": {},
   "source": [
    "In the same shell, type the following:"
   ]
  },
  {
   "cell_type": "markdown",
   "metadata": {},
   "source": [
    "```python\n",
    "> form = SampleForm()\n",
    "> form.fields\n",
    "OrderedDict([('name', <django.forms.fields.CharField at 0x10fc79510>),\n",
    "('age', <django.forms.fields.IntegerField at 0x10fc79490>),\n",
    "('address', <django.forms.fields.CharField at 0x10fc79090>),\n",
    "('gender', <django.forms.fields.ChoiceField at 0x10fc792d0>)])\n",
    "```\n",
    "            "
   ]
  },
  {
   "cell_type": "markdown",
   "metadata": {},
   "source": [
    "The first line of code simply created an instance of our form class. It's the second line\n",
    "where the fun begins. However, I'll first explain the OrderedDict data structure\n",
    "a bit."
   ]
  },
  {
   "cell_type": "markdown",
   "metadata": {},
   "source": [
    "As the name suggests, `OrderedDict` is a dictionary that maintains the order in which\n",
    "its elements were inserted. A normal dictionary in Python has no fixed order. If you\n",
    "insert three elements into a dictionary with keys A, B, and C, and then you ask for the\n",
    "keys back using the `keys()` method on the dictionary instance, the order in which\n",
    "you will get them back is not guaranteed, which is why normal built-in dictionaries\n",
    "are said to be unordered."
   ]
  },
  {
   "cell_type": "markdown",
   "metadata": {},
   "source": [
    "In contrast, the keys in `OrderedDict`, which is from the `collections` library (part\n",
    "of the Python standard library), are guaranteed to be in the same order that you\n",
    "inserted them in. So if you were to iterate over the keys using either the keys()\n",
    "or `items()` method, you would always get them back in the same order that you\n",
    "inserted them."
   ]
  },
  {
   "cell_type": "markdown",
   "metadata": {},
   "source": [
    "Getting back to the output, you will see that the dictionary printed has the same keys\n",
    "as the names of the fields that we used when we created our `SampleForm` class. The\n",
    "values of these keys are the `Field` subclasses (`CharField`, `IntegerField`, and so on)\n",
    "that we used in our form."
   ]
  },
  {
   "cell_type": "markdown",
   "metadata": {},
   "source": [
    "Let's try something. In the shell, type the following and look at the output:"
   ]
  },
  {
   "cell_type": "markdown",
   "metadata": {},
   "source": [
    "```python\n",
    "> form.name\n",
    "---------------------------------------------------------------------\n",
    "------\n",
    "AttributeError Traceback (most recent call\n",
    "last)\n",
    "<ipython-input-16-1174e5d9164a> in <module>()\n",
    "----> 1 form.name\n",
    "AttributeError: 'SampleForm' object has no attribute 'name'\n",
    "```"
   ]
  },
  {
   "cell_type": "markdown",
   "metadata": {},
   "source": [
    "It seems that the `name` attribute that we defined on our `SampleForm` class is no longer\n",
    "there. Weird, huh?"
   ]
  },
  {
   "cell_type": "markdown",
   "metadata": {},
   "source": [
    "So far you have learned two facts about a Django form. The first, that the fields\n",
    "attribute on a form instance contains a mapping of field names to the `Field` classes.\n",
    "Second, that the field attributes we defined when creating our `SampleForm` class are\n",
    "not accessible on the instance"
   ]
  },
  {
   "cell_type": "markdown",
   "metadata": {},
   "source": [
    "Putting these two facts together gives us some indication of what Django does with\n",
    "the `SampleForm` class when creating an instance of it. It removes the `field` attributes\n",
    "and adds them to the `fields` dictionary. After a form instance is created, the only\n",
    "way to find out the fields that are defined on it is the `fields` dictionary attribute."
   ]
  },
  {
   "cell_type": "markdown",
   "metadata": {},
   "source": [
    "So, if we wanted to add another field to a form after the class has been defined\n",
    "and we could not change the code of the class itself, we could add an instance of a\n",
    "`Field` subclass to the `fields` attribute on the form instance. Let's try it out and see\n",
    "if this works."
   ]
  },
  {
   "cell_type": "markdown",
   "metadata": {},
   "source": [
    "> tips\n",
    "\n",
    "> I lied a little when I said that Django removes the field attributes\n",
    "from a `SampleForm` class when creating an instance of it. In reality,\n",
    "the `SampleForm` class also has its field attributes removed. If you\n",
    "typed `SampleForm.name` in the shell, you would get a similar\n",
    "AttributeError. However, this information is not relevant to our\n",
    "current task, and the reason why this happens is complicated so I\n",
    "won't go into it in this book. If you want all the details, check out the\n",
    "source for the django.forms.Form class."
   ]
  },
  {
   "cell_type": "markdown",
   "metadata": {},
   "source": [
    "### Adding an extra field to a SampleForm instance"
   ]
  },
  {
   "cell_type": "markdown",
   "metadata": {},
   "source": [
    "We will now try an experiment. We will create an instance of our `SampleForm` with\n",
    "some valid test data, and then we will add another field to the `fields` attribute on\n",
    "our instance. We will then call the `is_valid()` method to see if our form instance\n",
    "considers the dynamically added field when validating the data provided earlier.\n",
    "Let's see what happens. In the Django shell, enter the following commands"
   ]
  },
  {
   "cell_type": "markdown",
   "metadata": {},
   "source": [
    "```python\n",
    "> from main.forms import SampleForm\n",
    "> test_data = {'name': 'Jibran', 'age': 27, 'gender': 'M'}\n",
    "> form = SampleForm(test_data)\n",
    "> from django import forms\n",
    "> form.fields['country'] = forms.CharField()\n",
    "> form.is_valid()\n",
    "False\n",
    "> form.errors\n",
    "{'country': [u'This field is required.']}\n",
    "```"
   ]
  },
  {
   "cell_type": "markdown",
   "metadata": {},
   "source": [
    "Nice! It seems like our idea worked. Even though we added the `country` field after\n",
    "our` SampleForm` had been instantiated and provided the data, the form validation\n",
    "did consider our new field. As the `country` field was not part of the `test_data`\n",
    "dictionary and the field is required, the form validation failed and the `errors` list\n",
    "included the appropriate error."
   ]
  },
  {
   "cell_type": "markdown",
   "metadata": {},
   "source": [
    "Now that we have a technique to achieve our objective, let's create some views and\n",
    "templates to render a dynamic form."
   ]
  },
  {
   "cell_type": "markdown",
   "metadata": {},
   "source": [
    "## Generating dynamic forms "
   ]
  },
  {
   "cell_type": "markdown",
   "metadata": {},
   "source": [
    "Before we get to the code, we have to decide on a data format to specify the structure\n",
    "of our dynamic forms. **JSON** is one of the most popular, if not the most popular, data\n",
    "storage and exchange formats on the web right now. You will probably be aware of\n",
    "what JSON, is and how it works and what it looks like. However, if you're not, here's\n",
    "a quick introduction."
   ]
  },
  {
   "cell_type": "markdown",
   "metadata": {},
   "source": [
    "JSON stands for JavaScript Object Notation. It uses the same format that JavaScript\n",
    "uses to declare objects. The biggest benefit for us Python guys is that it is almost\n",
    "exactly the same as the dictionary declaration syntax in Python. Let's say that we\n",
    "want to store some details about a user. In JSON, here is what that information\n",
    "would look like:"
   ]
  },
  {
   "cell_type": "markdown",
   "metadata": {},
   "source": [
    "```json\n",
    "{\n",
    "    \"name\": \"Jibran\",\n",
    "    \"age\": 27,\n",
    "    \"country\": \"Pakistan\"\n",
    "}\n",
    "```"
   ]
  },
  {
   "cell_type": "markdown",
   "metadata": {},
   "source": [
    "As you can see, we can even copy and paste this into our Python code and it would\n",
    "be a valid dictionary definition, which makes it very easy for us to work with."
   ]
  },
  {
   "cell_type": "markdown",
   "metadata": {},
   "source": [
    "JSON has a number of benefits over other data storage/exchange formats:\n",
    "* It's text only, so no need to have special tools built around it for the viewing\n",
    "and parsing.\n",
    "* Parsing JSON is very easy, and most languages have a library for this. Python\n",
    "comes with a standard library to parse JSON.\n",
    "* It's simple to write by hand.\n",
    "* It can be stored in a number of ways without needing to do anything special.\n",
    "We will use this fact later on to store JSON in our database as a simple text\n",
    "field."
   ]
  },
  {
   "cell_type": "markdown",
   "metadata": {},
   "source": [
    "Now that you know a bit about JSON, let's see how to use it. We will store\n",
    "information about how to construct a dynamic form in JSON. We will then use the\n",
    "Python standard library `json` to convert the JSON string to a Python dictionary,\n",
    "which we will then iterate over and create our form."
   ]
  },
  {
   "cell_type": "markdown",
   "metadata": {},
   "source": [
    "> tips\n",
    "\n",
    "> For this section, we will hardcode the JSON that we use in order to\n",
    "generate the form. Later on, we will allow our users to create and\n",
    "store the JSON themselves in a database from a control panel that\n",
    "we will make for them."
   ]
  },
  {
   "cell_type": "markdown",
   "metadata": {},
   "source": [
    "We will look at how to define the form fields in JSON and generate a dynamic form\n",
    "from this schema. We will also create an HTML form to render our form so we can\n",
    "test that everything works as expected."
   ]
  },
  {
   "cell_type": "markdown",
   "metadata": {},
   "source": [
    "Let's look at the format for a simple form that can be used to collect basic\n",
    "demographic information about people:"
   ]
  },
  {
   "cell_type": "markdown",
   "metadata": {},
   "source": [
    "```json\n",
    "{\n",
    "    \"name\": \"string\",\n",
    "    \"age\": \"number\",\n",
    "    \"city\": \"string\",\n",
    "    \"country\": \"string\",\n",
    "    \"time_lived_in_current_city\": \"string\"\n",
    "}\n",
    "```"
   ]
  },
  {
   "cell_type": "markdown",
   "metadata": {},
   "source": [
    "This is the sample JSON that we will use in this section to generate and display\n",
    "our dynamic form. This structure is a simple dictionary with strings for the values.\n",
    "We have to write code to parse this dictionary and create a Django form out of this\n",
    "information."
   ]
  },
  {
   "cell_type": "markdown",
   "metadata": {},
   "source": [
    "### Generating a form out of JSON"
   ]
  },
  {
   "cell_type": "markdown",
   "metadata": {},
   "source": [
    "The first thing that we will need to do is convert the JSON data that our view will\n",
    "get to a Python dictionary so that we can iterate over it. Python comes with the json\n",
    "module as part of the standard library that will handle the parsing for us. You can\n",
    "read the documentation for it at <https://docs.python.org/3/library/json.html>. It is dead simple to use, however, so let's just dive in."
   ]
  },
  {
   "cell_type": "markdown",
   "metadata": {},
   "source": [
    "Open up `main/views.py` and add this code:"
   ]
  },
  {
   "cell_type": "markdown",
   "metadata": {},
   "source": [
    "```python\n",
    "import json\n",
    "from django import forms\n",
    "from django.views.generic import FormView\n",
    "\n",
    "class CustomFormView(FormView):\n",
    "    template_name = \"custom_form.html\"\n",
    "\n",
    "    def get_form(self):\n",
    "        form_structure_json = \"\"\"{\n",
    "            \"name\": \"string\",\n",
    "            \"age\": \"number\",\n",
    "            \"city\": \"string\",\n",
    "            \"country\": \"string\",\n",
    "            \"time_lived_in_current_city\": \"string\"}\n",
    "            \"\"\"\n",
    "\n",
    "        form_structure = json.loads(form_structure_json)\n",
    "        custom_form = forms.Form(**self.get_form_kwargs())\n",
    "        \n",
    "        for key, value in form_structure.items():\n",
    "        field_class = self.get_field_class_from_type(value)\n",
    "        if field_class is not None:\n",
    "            custom_form.fields[key] = field_class()\n",
    "        else:\n",
    "            raise TypeError(\"Invalid field type {}\".format(value))\n",
    "        \n",
    "        return custom_form\n",
    "\n",
    "    def get_field_class_from_type(self, value_type):\n",
    "        if value_type == \"string\":\n",
    "            return forms.CharField\n",
    "        elif value_type == \"number\":\n",
    "            return forms.IntegerField\n",
    "        else:\n",
    "            return None\n",
    "```"
   ]
  },
  {
   "cell_type": "markdown",
   "metadata": {},
   "source": [
    "There are a couple of things to explain here. However, let's first get the view working\n",
    "and see if it does what we want. Then I'll explain what this code does. Next, let's\n",
    "create the `main/templates/custom_form.html` template. You will need to create\n",
    "the `templates` folder under the `main/` folder first. Put this code in there:"
   ]
  },
  {
   "cell_type": "markdown",
   "metadata": {},
   "source": [
    "```html\n",
    "<html>\n",
    "<head>\n",
    "    <meta http-equiv=\"content-type\" content=\"text/html; charset=utf-8\"\n",
    "    />\n",
    "    <title>Custom Form Demo</title>\n",
    "</head>\n",
    "<body>\n",
    "    <h1>Custom Form</h1>\n",
    "    <form action=\"\" method=\"post\">{% csrf_token %}\n",
    "        {{ form.as_p }}\n",
    "        <input type=\"submit\" value=\"Submit\" />\n",
    "    </form>\n",
    "</body>\n",
    "</html>\n",
    "```"
   ]
  },
  {
   "cell_type": "markdown",
   "metadata": {},
   "source": [
    "Finally, put the following code in `formmason/urls.py` to include our new view:"
   ]
  },
  {
   "cell_type": "markdown",
   "metadata": {},
   "source": [
    "```python\n",
    "from django.conf.urls import url\n",
    "from main.views import CustomFormView\n",
    "\n",
    "urlpatterns = [\n",
    "        url(r'^$', CustomFormView.as_view(), name='custom-form'),\n",
    "    ]\n",
    "```"
   ]
  },
  {
   "cell_type": "markdown",
   "metadata": {},
   "source": [
    "That's it for now. To test it out, run the development server using the runserver\n",
    "command and then open up `http://127.0.0.1:8000` in any browser. You should\n",
    "see a screen similar to this:"
   ]
  },
  {
   "cell_type": "markdown",
   "metadata": {},
   "source": [
    "![Form Custom](img/Mason_CustomForm.png)"
   ]
  },
  {
   "cell_type": "markdown",
   "metadata": {},
   "source": [
    "Try submitting an incomplete form and the page should be rendered with the correct\n",
    "error messages. Try to complete the form and submit it. Now you should see an\n",
    "error page, with the ImproperlyConfigured: *No URL to redirect to. Provide\n",
    "a success_url* error. This error comes from our use of the `FormView` generic view.\n",
    "When the form is valid, it expects `success_url` to be defined so that the user can be\n",
    "redirected to it. We don't have anywhere to redirect the user to, so we will ignore this\n",
    "for now. Let's take a look at the code and see what we have done here."
   ]
  },
  {
   "cell_type": "markdown",
   "metadata": {},
   "source": [
    ">tips\n",
    "\n",
    "> This example also highlighted the power of generic views. By just\n",
    "redefining one function, get_form, we were able to use all the\n",
    "features of FormView with a form that is generated dynamically.\n",
    "As the Django generic views are made with modularity in mind,\n",
    "the rest of the view does not care how the form is created, just that\n",
    "the get_form method returns a valid form."
   ]
  },
  {
   "cell_type": "markdown",
   "metadata": {},
   "source": [
    "Most of the action happens in the `get_form` method of our CustomFormView, so let's\n",
    "start there. The first line of code defines the JSON data structure that we will use to\n",
    "generate our form. As I've mentioned before, this data will eventually be coming\n",
    "from a database backend; however, for testing purposes, we are hardcoding it for\n",
    "now. Next, we use the `json.loads` method to convert the JSON string to a Python\n",
    "object. This conversion process is pretty intuitive. The JSON string that we have is a\n",
    "dictionary with keys for name, age, city, country, and `time_lived_in_current_city`. The Python object that we get from `json.loads` is a dictionary as well, with\n",
    "the same key/value pairs. You can also have arrays in your JSON string and loading\n",
    "it would give you a Python list. JSON has support for nested objects, so you could\n",
    "have an array of dictionaries or a dictionary with an array for a value."
   ]
  },
  {
   "cell_type": "markdown",
   "metadata": {},
   "source": [
    "Next, we create an instance of the base `django.forms.Form` class. As we saw in our\n",
    "experimentation before, we can take an instance of a Django form and add fields to\n",
    "it. Instead of creating an empty form class and using that, we just use the base Form\n",
    "class from Django directly. To the constructor of the form class, we pass whatever we\n",
    "receive from `self.get_form_kwargs()`. This method is part of the Django `FormView`\n",
    "class and depending on the request type creates the correct keyword arguments to\n",
    "be passed to a Form class. For instance, if the request was a POST/PUT request, `get_form_kwargs()` would return a dictionary that contains the `data` keyword argument\n",
    "so that we can use the form to validate and take further action on the data."
   ]
  },
  {
   "cell_type": "markdown",
   "metadata": {},
   "source": [
    "The interesting bit happens next, when we loop over the items list of our custom\n",
    "fields data. The `items()` method on the data that we loaded from JSON returns a list\n",
    "as follows:"
   ]
  },
  {
   "cell_type": "markdown",
   "metadata": {},
   "source": [
    "```python\n",
    "[('name', 'string'), ('age', 'number'), ('city', 'string'),\n",
    "('country', 'string'), ('time_lived_in_city', 'string')]\n",
    "```"
   ]
  },
  {
   "cell_type": "markdown",
   "metadata": {},
   "source": [
    "We loop over this list, assigning each of these item pairs to variables key and value\n",
    "in the `for` loop. We then pass the values to the `get_field_class_from_type`\n",
    "method, which decides which of the available form field classes to use for the type\n",
    "of data passed. The method's code is a simple if/else, which returns a field class or\n",
    "`None` if it was passed an invalid type."
   ]
  },
  {
   "cell_type": "markdown",
   "metadata": {},
   "source": [
    "We use the return value of this method, which is a class, and assign an instance of\n",
    "it to the form's `fields` attribute dictionary. *Note that we assign an instance of the field class and not the class itself*. The name of the field is the key from our JSON dictionary.\n",
    "We also do some basic error handling, raising `TypeError` if we cannot find a\n",
    "matching field class for the type we got in our JSON data dictionary."
   ]
  },
  {
   "cell_type": "markdown",
   "metadata": {},
   "source": [
    "Finally, we return our customized form class. From there on, the Django FormView\n",
    "takes over and either renders the form, with errors if necessary, or redirects the user\n",
    "to the success URL if the form data submitted by the user was valid. As we didn't\n",
    "define any success URL, we get an error when we submit a valid form."
   ]
  },
  {
   "cell_type": "markdown",
   "metadata": {},
   "source": [
    "That's it. That is all the code that we need to create a dynamically generated form.\n",
    "We can add a couple of more features such as custom validation or advanced\n",
    "features such as supporting choice fields with a limited set of choices, but I'll\n",
    "leave that as an interesting project for you to try on your own."
   ]
  },
  {
   "cell_type": "markdown",
   "metadata": {},
   "source": [
    "That's it. That is all the code that we need to create a dynamically generated form.\n",
    "We can add a couple of more features such as custom validation or advanced\n",
    "features such as supporting choice fields with a limited set of choices, but I'll\n",
    "leave that as an interesting project for you to try on your own."
   ]
  },
  {
   "cell_type": "markdown",
   "metadata": {},
   "source": [
    "Next, let's take a look at how we can store the JSON data that defines our custom\n",
    "form in a database. We'll create a model for it and allow the user to create multiple\n",
    "forms with different fields from an admin panel."
   ]
  },
  {
   "cell_type": "markdown",
   "metadata": {},
   "source": [
    "## A model for our JSON"
   ]
  },
  {
   "cell_type": "markdown",
   "metadata": {},
   "source": [
    "As I have mentioned earlier, one of the biggest benefits of using JSON as the\n",
    "definition format for our forms is that it uses just simple text data to encode the\n",
    "definition of complex objects. While some databases such as PostgreSQL have a\n",
    "column type for JSON, others do not. However, because we are dealing with simple\n",
    "text data, we don't need one! We can store our JSON data in a simple `TextField`\n",
    "and then encode and decode the data to and from a Python dictionary whenever\n",
    "required. In fact, there are many people in the Django community who have already\n",
    "dealt with this problem and open sourced their solutions for us to use."
   ]
  },
  {
   "cell_type": "markdown",
   "metadata": {},
   "source": [
    "One such package that I have used in the past is django-jsonfield. You can find it\n",
    "at <https://github.com/bradjasper/django-jsonfield>, and we will be using it\n",
    "in our project. First, install the required package by typing the following command in\n",
    "your command line. Make sure to have the virtual environment activated first so that\n",
    "it is installed in the correct location."
   ]
  },
  {
   "cell_type": "markdown",
   "metadata": {},
   "source": [
    "```sh\n",
    "> pip install jsonfield\n",
    "```"
   ]
  },
  {
   "cell_type": "markdown",
   "metadata": {},
   "source": [
    "With the package installed, we can create a model for our form. Open up `main/models.py` and change it to have the following code:"
   ]
  },
  {
   "cell_type": "markdown",
   "metadata": {},
   "source": [
    "```python\n",
    "from __future__ import unicode_literals\n",
    "from django.db import models\n",
    "from jsonfield import JSONField\n",
    "\n",
    "class FormSchema(models.Model):\n",
    "    title = models.CharField(max_length=100)\n",
    "    schema = JSONField()\n",
    "    \n",
    "```"
   ]
  },
  {
   "cell_type": "markdown",
   "metadata": {},
   "source": [
    "Save the file and then create and run migrations so that Django creates the tables for\n",
    "our new model. In the command line, run the following commands:"
   ]
  },
  {
   "cell_type": "markdown",
   "metadata": {},
   "source": [
    "```\n",
    "> python manage.py makemigrations main\n",
    "Migrations for 'main':\n",
    "0001_initial.py:\n",
    "- Create model FormSchema\n",
    "> python manage.py migrate\n",
    "Operations to perform:\n",
    "Apply all migrations: sessions, contenttypes, admin, main, auth\n",
    "Running migrations:\n",
    "Rendering model states... DONE\n",
    "Applying contenttypes.0001_initial... OK\n",
    "Applying auth.0001_initial... OK\n",
    "Applying admin.0001_initial... OK\n",
    "Applying admin.0002_logentry_remove_auto_add... OK\n",
    "Applying contenttypes.0002_remove_content_type_name... OK\n",
    "Applying auth.0002_alter_permission_name_max_length... OK\n",
    "Applying auth.0003_alter_user_email_max_length... OK\n",
    "Applying auth.0004_alter_user_username_opts... OK\n",
    "Applying auth.0005_alter_user_last_login_null... OK\n",
    "Applying auth.0006_require_contenttypes_0002... OK\n",
    "Applying auth.0007_alter_validators_add_error_messages... OK\n",
    "Applying sessions.0001_initial... OK\n",
    "```"
   ]
  },
  {
   "cell_type": "markdown",
   "metadata": {},
   "source": [
    "With the migrations done, let's see how we can use this model. Instead of writing the\n",
    "code for the view, I like to start by doing a bit of experimentation in the Django shell.\n",
    "Open it up by typing as follows:"
   ]
  },
  {
   "cell_type": "markdown",
   "metadata": {},
   "source": [
    "```sh\n",
    "> python manage.py shell\n",
    "```"
   ]
  },
  {
   "cell_type": "markdown",
   "metadata": {},
   "source": [
    "Then type in the following to test out our new model:"
   ]
  },
  {
   "cell_type": "markdown",
   "metadata": {},
   "source": [
    "```python\n",
    "> from main.models import FormSchema\n",
    "> fs = FormSchema()\n",
    "> fs.title = 'My First Form'\n",
    "> fs.schema = {'name': 'string', 'age': 'number', 'city': 'string',\n",
    "'country': 'string', 'time_lived_in_current_city': 'string'}\n",
    "> fs.save()\n",
    "> FormSchema.objects.get(pk=1).schema\n",
    "{u'age': u'number',\n",
    " u'city': u'string',\n",
    " u'country': u'string',\n",
    " u'name': u'string',\n",
    " u'time_lived_in_current_city': u'string'}\n",
    "```"
   ]
  },
  {
   "cell_type": "markdown",
   "metadata": {},
   "source": [
    "What we have done here should be pretty simple for you to understand by now.\n",
    "The important thing to note here is the value that we assigned to the schema field.\n",
    "Instead of using a string representation of the JSON data, we simply assigned a\n",
    "Python dictionary to it. The `JSONField` class we used as the field class in our model\n",
    "does the heavy lifting of converting from a Python dictionary to a JSON string when\n",
    "saving to the database."
   ]
  },
  {
   "cell_type": "markdown",
   "metadata": {},
   "source": [
    "The reverse is also the same. Notice how, in the last line of our shell session, we\n",
    "simply accessed the schema field directly and got a Python dictionary back instead of\n",
    "the string JSON data that is actually saved in the database. This makes working with\n",
    "JSON transparent to us."
   ]
  },
  {
   "cell_type": "markdown",
   "metadata": {},
   "source": [
    "> tips\n",
    "\n",
    "> You might be wondering why I am asking you to experiment in this\n",
    "chapter and play around in the shell, whereas in the previous chapters, I\n",
    "just showed you the relevant view/model/template code directly.\n",
    "Like I mentioned at the start of this chapter, this chapter is about showing\n",
    "you how to arrive at a solution by yourself instead of me holding your\n",
    "hand and showing you the end result immediately.\n",
    "\n"
   ]
  },
  {
   "cell_type": "markdown",
   "metadata": {},
   "source": [
    "> All good Django developers that I know have a similar method of\n",
    "developing solutions for the projects that they work on. They experiment\n",
    "a bit, and in doing so figure out a solution to the problem they are\n",
    "working on. Everyone has a different way of experimenting though. Some\n",
    "people, like me, use the Django shell a lot. Others write test code in views\n",
    "and models. Others might create simple Django management commands\n",
    "to do the same. However, everyone goes through the same process."
   ]
  },
  {
   "cell_type": "markdown",
   "metadata": {},
   "source": [
    "> We find a problem that needs to be solved, we research it a bit, and then\n",
    "experiment with the various methods of solving it, finally choosing one\n",
    "which we like the best. You will eventually develop a method that you\n",
    "are comfortable with. In the meanwhile, I'll be walking you through my\n",
    "method and you can use this if you like."
   ]
  },
  {
   "cell_type": "markdown",
   "metadata": {},
   "source": [
    "We now have a FormSchema object in our database, so let's create a view that can use\n",
    "this object to generate a form. In `main/views.py`, first import our new model near\n",
    "the top:"
   ]
  },
  {
   "cell_type": "markdown",
   "metadata": {},
   "source": [
    "```python\n",
    "from main.models import FormSchema\n",
    "```"
   ]
  },
  {
   "cell_type": "markdown",
   "metadata": {},
   "source": [
    "Then change the `get_form` method in our `CustomFormView` to match this:"
   ]
  },
  {
   "cell_type": "markdown",
   "metadata": {},
   "source": [
    "```python\n",
    "def get_form(self):\n",
    "    form_structure = FormSchema.objects.get(pk=1).schema\n",
    "    \n",
    "    custom_form = forms.Form(**self.get_form_kwargs())\n",
    "    for key, value in form_structure.items():\n",
    "        field_class = self.get_field_class_from_type(value)\n",
    "        if field_class is not None:\n",
    "            custom_form.fields[key] = field_class()\n",
    "        else:\n",
    "            raise TypeError(\"Invalid field type {}\".format(value))\n",
    "    \n",
    "    return custom_form\n",
    "```"
   ]
  },
  {
   "cell_type": "markdown",
   "metadata": {},
   "source": [
    "I have highlighted the new line. We have removed the hardcoded JSON string that\n",
    "we used and instead assigned the `schema` field's value from our database object to\n",
    "the `form_structure` variable. The rest of the code stays the same. Try opening the\n",
    "home page for the application again. You'll find that the frontend has stayed the\n",
    "same. The interactions will be the same as well. You can try to submit invalid or\n",
    "incomplete data and it will show you the errors as before. Trying to submit a valid\n",
    "form will still result in the error about success URL not being defined."
   ]
  },
  {
   "cell_type": "markdown",
   "metadata": {},
   "source": [
    "Next, let's create a better frontend for our users. We'll create a list view where the\n",
    "user can see a list of all forms available on the site and a form view that displays the\n",
    "actual form and handles the interactions."
   ]
  },
  {
   "cell_type": "markdown",
   "metadata": {},
   "source": [
    "## Creating a better user interface"
   ]
  },
  {
   "cell_type": "markdown",
   "metadata": {},
   "source": [
    "There isn't anything complicated about what we'll do here. It should be very easy for\n",
    "you to follow along, so I'll just give you the code to write and leave the explanation,\n",
    "as we have done all of this many times before in the previous chapters."
   ]
  },
  {
   "cell_type": "markdown",
   "metadata": {},
   "source": [
    "Start by creating a `templates` directory in the project root. Next, add it to the list of\n",
    "`DIRS` in the `TEMPLATES` configuration variable in our `formmason/settings.py` file.\n",
    "The `settings.py` file already has a `TEMPLATES` variable configured, so go ahead and\n",
    "replace the `DIRS` list in this dictionary with the value that you see here:"
   ]
  },
  {
   "cell_type": "markdown",
   "metadata": {},
   "source": [
    "```python\n",
    "TEMPLATES = [\n",
    "    { \n",
    "        'BACKEND': 'django.template.backends.django.DjangoTemplates',\n",
    "        'DIRS': [\n",
    "            os.path.join(BASE_DIR, 'templates'),\n",
    "        ],\n",
    "        'APP_DIRS': True,\n",
    "        'OPTIONS': {\n",
    "            'context_processors': [\n",
    "                'django.template.context_processors.debug',\n",
    "                'django.template.context_processors.request',\n",
    "                'django.contrib.auth.context_processors.auth',\n",
    "                'django.contrib.messages.context_processors.messages',\n",
    "            ],\n",
    "        },\n",
    "    },\n",
    "]\n",
    "```"
   ]
  },
  {
   "cell_type": "markdown",
   "metadata": {},
   "source": [
    "Next, create a `base.html` template in the new `templates` directory that you just\n",
    "created and put this code in there:"
   ]
  },
  {
   "cell_type": "markdown",
   "metadata": {},
   "source": [
    "```html\n",
    "<html>\n",
    "<head>\n",
    "    <meta http-equiv=\"content-type\" content=\"text/html; charset=utf-8\"\n",
    "    />\n",
    "    <title>Form Mason</title>\n",
    "</head>\n",
    "<body>\n",
    "    <a href=\"{% url 'home' %}\">Home</a>\n",
    "    {% block content %}\n",
    "    {% endblock %}\n",
    "</body>\n",
    "</html>\n",
    "```"
   ]
  },
  {
   "cell_type": "markdown",
   "metadata": {},
   "source": [
    "Modify `main/templates/custom_form.html` to match this:"
   ]
  },
  {
   "cell_type": "markdown",
   "metadata": {},
   "source": [
    "```html\n",
    "{% extends \"base.html\" %}\n",
    "\n",
    "{% block content %}\n",
    "    <h1>Custom Form</h1>\n",
    "    <form action=\"\" method=\"post\">{% csrf_token %}\n",
    "        {{ form.as_p }}\n",
    "        <input type=\"submit\" value=\"Submit\" />\n",
    "    </form>\n",
    "{% endblock %}\n",
    "```"
   ]
  },
  {
   "cell_type": "markdown",
   "metadata": {},
   "source": [
    "Change `main/views.py` to this:"
   ]
  },
  {
   "cell_type": "markdown",
   "metadata": {},
   "source": [
    "```python\n",
    "from django import forms\n",
    "from django.views.generic import FormView\n",
    "from django.views.generic import ListView\n",
    "from main.models import FormSchema\n",
    "\n",
    "\n",
    "class HomePageView(ListView):\n",
    "    model = FormSchema\n",
    "    template_name = \"home.html\"\n",
    "\n",
    "\n",
    "class CustomFormView(FormView):\n",
    "    template_name = \"custom_form.html\"\n",
    "\n",
    "    def get_form(self):\n",
    "        form_structure = FormSchema.objects.get(pk=self.kwargs[\"form_pk\"]).schema\n",
    "        \n",
    "        custom_form = forms.Form(**self.get_form_kwargs())\n",
    "        for key, value in form_structure.items():\n",
    "            field_class = self.get_field_class_from_type(value)\n",
    "            if field_class is not None:\n",
    "                custom_form.fields[key] = field_class()\n",
    "            else:\n",
    "                raise TypeError(\"Invalid field type {}\".format(value))\n",
    "        \n",
    "        return custom_form\n",
    "\n",
    "    def get_field_class_from_type(self, value_type):\n",
    "        if value_type == \"string\":\n",
    "            return forms.CharField\n",
    "        elif value_type == \"number\":\n",
    "            return forms.IntegerField\n",
    "        else:\n",
    "            return None\n",
    "```"
   ]
  },
  {
   "cell_type": "markdown",
   "metadata": {},
   "source": [
    "Create a new home template at `main/templates/home.html` and give it the\n",
    "following code:"
   ]
  },
  {
   "cell_type": "markdown",
   "metadata": {},
   "source": [
    "```html\n",
    "{% extends \"base.html\" %}\n",
    "\n",
    "{% block content %}\n",
    "    <h1>Available Forms</h1>\n",
    "    {% if object_list %}\n",
    "    <ul>\n",
    "        {% for form in object_list %}\n",
    "        <li><a href=\"{% url 'custom-form' form_pk=form.pk %}\">{{ form.\n",
    "        title }}</a></li>\n",
    "        {% endfor %}\n",
    "    </ul>\n",
    "    {% endif %}\n",
    "{% endblock %}\n",
    "```"
   ]
  },
  {
   "cell_type": "markdown",
   "metadata": {},
   "source": [
    "Finally, change `formmason/urls.py` to match this:"
   ]
  },
  {
   "cell_type": "markdown",
   "metadata": {},
   "source": [
    "```python\n",
    "from django.conf.urls import url\n",
    "from main.views import CustomFormView\n",
    "from main.views import HomePageView\n",
    "\n",
    "urlpatterns = [\n",
    "    url(r'^$', HomePageView.as_view(), name='home'),\n",
    "    url(r'^form/(?P<form_pk>\\d+)/$', CustomFormView.as_view(), name='custom-form'),\n",
    "]\n",
    "```"
   ]
  },
  {
   "cell_type": "markdown",
   "metadata": {},
   "source": [
    "Once you have done all this, open up the home page for the application again at\n",
    "`http://127.0.0.1:8000`, and you should see a page similar to this:"
   ]
  },
  {
   "cell_type": "markdown",
   "metadata": {},
   "source": [
    "![Form Masion: Available Forms](img/Mason_Forms.png)"
   ]
  },
  {
   "cell_type": "markdown",
   "metadata": {},
   "source": [
    "that we had before; the only difference is that now it is served at the URL,\n",
    "`http://127.0.0.1:8000/form/1/`."
   ]
  },
  {
   "cell_type": "markdown",
   "metadata": {},
   "source": [
    "Like I said, all this is pretty basic stuff that we have done repeatedly in the past few\n",
    "chapters. One thing that might be new is our use of `self.kwargs['form_pk']` in the\n",
    "`CustomFormView.get_form` method. Here's the relevant line:"
   ]
  },
  {
   "cell_type": "markdown",
   "metadata": {},
   "source": [
    "```python\n",
    "form_structure = FormSchema.objects.get(pk=self.kwargs[\"form_pk\"]).schema\n",
    "```"
   ]
  },
  {
   "cell_type": "markdown",
   "metadata": {},
   "source": [
    "For any generic view that Django provides (except for the base `View` class), self.\n",
    "kwargs is a dictionary of all named parameters that matched the URL pattern. If you\n",
    "look at our `formmason/urls.py` file, we defined the URL for our custom form page\n",
    "like this:"
   ]
  },
  {
   "cell_type": "markdown",
   "metadata": {},
   "source": [
    "```python\n",
    "url(r'^form/(?P<form_pk>\\d+)/$', CustomFormView.as_view(), name='custom-form')\n",
    "```"
   ]
  },
  {
   "cell_type": "markdown",
   "metadata": {},
   "source": [
    "In our view, the `form_pk` parameter defined in the regex pattern for the URL is\n",
    "available in `self.kwargs`. Likewise, any non-keyword parameters in the URL\n",
    "pattern are available for use in `self.args`."
   ]
  },
  {
   "cell_type": "markdown",
   "metadata": {},
   "source": [
    "Now that we have a useable user interface, we will move on to storing the form\n",
    "responses in our database and giving our customers a page to view these responses."
   ]
  },
  {
   "cell_type": "markdown",
   "metadata": {},
   "source": [
    "## Saving the responses"
   ]
  },
  {
   "cell_type": "markdown",
   "metadata": {},
   "source": [
    "We want to save the response of the user filling in one of our dynamic forms. As\n",
    "the data from a dynamic form will also be dynamic, we need to store an unknown\n",
    "number of fields and their values in our database. As we have already seen, JSON is\n",
    "a reasonable way to store such data. Let's create a new model in `main/models.py` to\n",
    "store the responses:"
   ]
  },
  {
   "cell_type": "markdown",
   "metadata": {},
   "source": [
    "```python\n",
    "class FormResponse(models.Model):\n",
    "    form = models.ForeignKey(FormSchema)\n",
    "    response = JSONField()\n",
    "```\n"
   ]
  },
  {
   "cell_type": "markdown",
   "metadata": {},
   "source": [
    "Next, create and run the migrations to add this new model to our database:"
   ]
  },
  {
   "cell_type": "markdown",
   "metadata": {},
   "source": [
    "```sh\n",
    "> python manage.py makemigrations main\n",
    "Migrations for 'main':\n",
    "  0002_formresponse.py:\n",
    "    - Create model FormResponse\n",
    "\n",
    "> python manage.py migrate main\n",
    "Operations to perform:\n",
    "  Apply all migrations: main\n",
    "Running migrations:\n",
    "  Rendering model states... DONE\n",
    "  Applying main.0002_formresponse... OK\n",
    "```  "
   ]
  },
  {
   "cell_type": "markdown",
   "metadata": {},
   "source": [
    "Now that we have our model, we need to save valid responses for our forms in this\n",
    "model. The `form_valid` method of `CustomFormView` is the correct place to add this\n",
    "logic. First, we need to import a few things from Django and our new model at the\n",
    "top of our `main/views.py` file:"
   ]
  },
  {
   "cell_type": "markdown",
   "metadata": {},
   "source": [
    "```python\n",
    "from django.core.urlresolvers import reverse\n",
    "from django.http.response import HttpResponseRedirect\n",
    "from main.models import FormResponse\n",
    "```"
   ]
  },
  {
   "cell_type": "markdown",
   "metadata": {},
   "source": [
    "Then, add a `form_valid` method with this code to the `CustomFormView` class:"
   ]
  },
  {
   "cell_type": "markdown",
   "metadata": {},
   "source": [
    "```python\n",
    "def form_valid(self, form):\n",
    "    custom_form = FormSchema.objects.get(pk=self.kwargs[\"form_pk\"])\n",
    "    user_response = form.cleaned_data\n",
    "\n",
    "    form_response = FormResponse(form=custom_form, response=user_response)\n",
    "    form_response.save()\n",
    "\n",
    "    return HttpResponseRedirect(reverse('home'))\n",
    "```"
   ]
  },
  {
   "cell_type": "markdown",
   "metadata": {},
   "source": [
    "That's it. Now try submitting the custom form that we created earlier and if the data\n",
    "was valid, you should be redirected to the home page after your response was saved.\n",
    "Right now, we have no way to see these responses in the frontend; however, we can\n",
    "use the Django shell to make sure that our data has been saved. Start the shell with\n",
    "the following command:"
   ]
  },
  {
   "cell_type": "markdown",
   "metadata": {},
   "source": [
    "```sh\n",
    "> python manage.py shell\n",
    "```"
   ]
  },
  {
   "cell_type": "markdown",
   "metadata": {},
   "source": [
    "Then use the following lines of code to see the response that was saved:"
   ]
  },
  {
   "cell_type": "markdown",
   "metadata": {},
   "source": [
    "```sh\n",
    "> from main.models import FormResponse\n",
    "> FormResponse.objects.all()[0].response\n",
    "{u'age': 27,\n",
    " u'city': u'Dubai',\n",
    " u'country': u'UAE',\n",
    " u'name': u'Jibran',\n",
    " u'time_lived_in_current_city': u'3 years'}\n",
    "```"
   ]
  },
  {
   "cell_type": "markdown",
   "metadata": {},
   "source": [
    "You should see the data that you entered when saving the form. Now let's create a\n",
    "screen where our customers can see the responses for their custom forms."
   ]
  },
  {
   "cell_type": "markdown",
   "metadata": {},
   "source": [
    "## Showing the responses"
   ]
  },
  {
   "cell_type": "markdown",
   "metadata": {},
   "source": [
    "The code in this section is pretty simple and should not have any surprises for you.\n",
    "First, let's create the view in `main/views.py`:"
   ]
  },
  {
   "cell_type": "markdown",
   "metadata": {},
   "source": [
    "```python\n",
    "class FormResponsesListView(ListView):\n",
    "    template_name = \"form_responses.html\"\n",
    "\n",
    "    def get_context_data(self, **kwargs):\n",
    "        ctx = super(FormResponsesListView, self).get_context_data(**kwargs)\n",
    "        ctx[\"form\"] = self.get_form()\n",
    "\n",
    "        return ctx\n",
    "\n",
    "    def get_queryset(self):\n",
    "        form = self.get_form()\n",
    "        return FormResponse.objects.filter(form=form)\n",
    "\n",
    "    def get_form(self):\n",
    "        return FormSchema.objects.get(pk=self.kwargs[\"form_pk\"])\n",
    "```        "
   ]
  },
  {
   "cell_type": "markdown",
   "metadata": {},
   "source": [
    "Next, create the `main/templates/form_responses.html` template:"
   ]
  },
  {
   "cell_type": "markdown",
   "metadata": {},
   "source": [
    "```html\n",
    "{% extends \"base.html\" %}\n",
    "\n",
    "{% block content %}\n",
    "<h1>Responses for {{ form.title }}</h1>\n",
    "{% if object_list %}\n",
    "<ul>\n",
    "    {% for response in object_list %}\n",
    "    <li>{{ response.response }}</li>\n",
    "    {% endfor %}\n",
    "</ul>\n",
    "{% endif %}\n",
    "{% endblock %}\n",
    "```"
   ]
  },
  {
   "cell_type": "markdown",
   "metadata": {},
   "source": [
    "In `formmason/urls.py`, import our new view:"
   ]
  },
  {
   "cell_type": "markdown",
   "metadata": {},
   "source": [
    "```python\n",
    "from main.views import FormResponsesListView\n",
    "```"
   ]
  },
  {
   "cell_type": "markdown",
   "metadata": {},
   "source": [
    "Add this URL pattern to the urlpatterns list:"
   ]
  },
  {
   "cell_type": "markdown",
   "metadata": {},
   "source": [
    "```python\n",
    "url(r'^form/(?P<form_pk>\\d+)/responses/$', FormResponsesListView.as_view(), name='form-responses'),\n",
    "```"
   ]
  },
  {
   "cell_type": "markdown",
   "metadata": {},
   "source": [
    "Finally, edit `main/templates/home.html` to add a link to this new view:"
   ]
  },
  {
   "cell_type": "markdown",
   "metadata": {},
   "source": [
    "```html\n",
    "{% extends \"base.html\" %}\n",
    "\n",
    "{% block content %}\n",
    "    <h1>Available Forms</h1>\n",
    "    {% if object_list %}\n",
    "    <ul>\n",
    "        {% for form in object_list %}\n",
    "        <li>\n",
    "            <a href=\"{% url 'custom-form' form_pk=form.pk %}\">{{ form.title }}</a><br />\n",
    "            <a href=\"{% url 'form-responses' form_pk=form.pk %}\">See Responses</a>\n",
    "        </li>\n",
    "        {% endfor %}\n",
    "    </ul>\n",
    "    {% endif %}\n",
    "{% endblock %}\n",
    "```"
   ]
  },
  {
   "cell_type": "markdown",
   "metadata": {},
   "source": [
    "The new line of code is highlighted. After making all these changes, open the home\n",
    "page and you should see the **See Responses** links for the new view next to each of\n",
    "the existing form links:"
   ]
  },
  {
   "cell_type": "markdown",
   "metadata": {},
   "source": [
    "![Form Mason: See Response](img/Mason_Responses.png)"
   ]
  },
  {
   "cell_type": "markdown",
   "metadata": {},
   "source": [
    "Clicking on the link should take you to a page as follows:"
   ]
  },
  {
   "cell_type": "markdown",
   "metadata": {},
   "source": [
    "![Form Mason: Responses for My First Form](img/Mason_ResponsesResult.png)"
   ]
  },
  {
   "cell_type": "markdown",
   "metadata": {},
   "source": [
    "While it does get the job done, it is very crude. We can do better. Let's improve this."
   ]
  },
  {
   "cell_type": "markdown",
   "metadata": {},
   "source": [
    "### An improved responses list"
   ]
  },
  {
   "cell_type": "markdown",
   "metadata": {},
   "source": [
    "What we'd like is to show the responses in a tabular fashion with the field names as\n",
    "the header and response values for these fields underneath them. Let's start out by\n",
    "modifying our view code. In `main/views.py`, first import `TemplateView` as we will\n",
    "no longer be using `ListView` as the base class for our FormResponsesListView:"
   ]
  },
  {
   "cell_type": "markdown",
   "metadata": {},
   "source": [
    "```python\n",
    "from django.views.generic import TemplateView\n",
    "```"
   ]
  },
  {
   "cell_type": "markdown",
   "metadata": {},
   "source": [
    "Next, modify `FormResponsesListView` to match the following code:"
   ]
  },
  {
   "cell_type": "markdown",
   "metadata": {},
   "source": [
    "class FormResponsesListView(TemplateView):\n",
    "    template_name = \"form_responses.html\"\n",
    "\n",
    "    def get_context_data(self, **kwargs):\n",
    "        ctx = super(FormResponsesListView, self).get_context_data(**kwargs)\n",
    "\n",
    "        form = self.get_form()\n",
    "        schema = form.schema\n",
    "        form_fields = schema.keys()\n",
    "        ctx[\"headers\"] = form_fields\n",
    "        ctx[\"form\"] = form\n",
    "        \n",
    "        responses = self.get_queryset()\n",
    "        responses_list = list()\n",
    "        for response in responses:\n",
    "            response_values = list()\n",
    "            response_data = response.response\n",
    "\n",
    "            for field_name in form_fields:\n",
    "                if field_name in response_data:\n",
    "                    response_values.append(response_data[field_name])\n",
    "            else:\n",
    "                response_values.append('')\n",
    "            responses_list.append(response_values)\n",
    "\n",
    "        ctx[\"object_list\"] = responses_list\n",
    "\n",
    "        return ctx\n",
    "\n",
    "    def get_queryset(self):\n",
    "        form = self.get_form()\n",
    "        return FormResponse.objects.filter(form=form)\n",
    "\n",
    "    def get_form(self):\n",
    "        return FormSchema.objects.get(pk=self.kwargs[\"form_pk\"])\n",
    "```        "
   ]
  },
  {
   "cell_type": "markdown",
   "metadata": {},
   "source": [
    "The major changes here are in the `get_context_data` method. We also changed the\n",
    "base class to `TemplateVie`w from ListView. Let's look at what we are doing in the\n",
    "`get_context_data` method."
   ]
  },
  {
   "cell_type": "markdown",
   "metadata": {},
   "source": [
    "First, we use the `keys` method on the JSON form schema, which is saved in the\n",
    "FormSchema model, to create a list of field headers. We pass this to the template in\n",
    "the `headers` context variable."
   ]
  },
  {
   "cell_type": "markdown",
   "metadata": {},
   "source": [
    "The slightly complicated part comes next. We loop over each of the `FormResponse`\n",
    "objects in our database. For each response object, we then loop over the form field\n",
    "names and get that attribute from the response data. We do this because, in the\n",
    "Django template, there is no way to get a value from a dictionary with a variable key\n",
    "name. We could create a custom template tag; however, that would add unnecessary\n",
    "complexity. Instead, we do the same thing in our view, where it is easier. For each\n",
    "response object, we create a list of values that is in the same order as the field headers.\n",
    "We then add this list of field values to our list of responses. The reason that our data is\n",
    "structured in this way becomes clear when we look at our template."
   ]
  },
  {
   "cell_type": "markdown",
   "metadata": {},
   "source": [
    "Finally, we assign the list of responses to the `object_list` template context variable\n",
    "and return the context. Next, let's change the `main/templates/form_responses.html` template to match the following:"
   ]
  },
  {
   "cell_type": "markdown",
   "metadata": {},
   "source": [
    "```html\n",
    "{% extends \"base.html\" %}\n",
    "\n",
    "{% block content %}\n",
    "<h1>Responses for {{ form.title }}</h1>\n",
    "{% if object_list %}\n",
    "<table border=\"1px\">\n",
    "    <tr>\n",
    "        {% for field_name in headers %}\n",
    "        <th>{{ field_name }}</th>\n",
    "        {% endfor %}\n",
    "    </tr>\n",
    "    {% for response in object_list %}\n",
    "    <tr>\n",
    "        {% for field_value in response %}\n",
    "        <td>{{ field_value }}</td>\n",
    "        {% endfor %}\n",
    "    </tr>\n",
    "    {% endfor %}\n",
    "</table>\n",
    "{% endif %}\n",
    "{% endblock %}\n",
    "```"
   ]
  },
  {
   "cell_type": "markdown",
   "metadata": {},
   "source": [
    "If you understood how our data was structured in the view, the template should be\n",
    "simple enough to follow. These are all the changes that we need to make for now."
   ]
  },
  {
   "cell_type": "markdown",
   "metadata": {},
   "source": [
    "If you open the responses page again, you should now see a neatly aligned table, as\n",
    "shown in the following screenshot:"
   ]
  },
  {
   "cell_type": "markdown",
   "metadata": {},
   "source": [
    "![Form Mason: Responses for My First Form](img/Mason_Responses2.png)"
   ]
  },
  {
   "cell_type": "markdown",
   "metadata": {},
   "source": [
    "We have so far created a page to list the available forms, a page to submit data with\n",
    "a dynamic form, and a page to show those responses. Our application is nearly done.\n",
    "However, we are still missing a page that allows customers to create a custom form.\n",
    "Let's tackle this next."
   ]
  },
  {
   "cell_type": "markdown",
   "metadata": {},
   "source": [
    "## Designing a form creation interface"
   ]
  },
  {
   "cell_type": "markdown",
   "metadata": {},
   "source": [
    "We want to provide our users with a friendly interface to edit the structure of their\n",
    "dynamic forms. The ideal interface would be something that allows users to drag\n",
    "and drop their fields and set the properties for these fields using simple click and\n",
    "type operations on a web page. However, creating an interface like this is a major\n",
    "undertaking and a project on its own. It requires a team of frontend developers and\n",
    "designers to create something that user friendly."
   ]
  },
  {
   "cell_type": "markdown",
   "metadata": {},
   "source": [
    "Unfortunately, we can't create something like that as an interface like that is more\n",
    "of a frontend project than something related to Django. However, if you want, it is a\n",
    "good exercise if you are looking to improve your frontend skills."
   ]
  },
  {
   "cell_type": "markdown",
   "metadata": {},
   "source": [
    "For this project, we will create a simple Django form where the user can manually\n",
    "enter the JSON to define the structure of their forms. We will provide basic\n",
    "validation and editing capabilities. So let's start by creating our form. Change the\n",
    "`main/forms.py` file to match the following code:"
   ]
  },
  {
   "cell_type": "markdown",
   "metadata": {},
   "source": [
    "```python\n",
    "import json\n",
    "from django import forms\n",
    "\n",
    "\n",
    "class NewDynamicFormForm(forms.Form):\n",
    "    form_pk = forms.CharField(widget=forms.HiddenInput(), required=False)\n",
    "    title = forms.CharField()\n",
    "    schema = forms.CharField(widget=forms.Textarea())\n",
    "\n",
    "    def clean_schema(self):\n",
    "        schema = self.cleaned_data[\"schema\"]\n",
    "        try:\n",
    "            schema = json.loads(schema)\n",
    "        except:\n",
    "            raise forms.ValidationError(\"Invalid JSON. Please submit valid JSON for the schema\")\n",
    "\n",
    "        return schema\n",
    "```"
   ]
  },
  {
   "cell_type": "markdown",
   "metadata": {},
   "source": [
    "The form itself is pretty simple. However, we need to take a closer look at the\n",
    "`clean_schema` method. When the `is_valid()` method is called on a Django form, it\n",
    "goes through a couple of steps. The exact details can be found in the documentation\n",
    "at <https://docs.djangoproject.com/en/stable/ref/forms/validation/>.\n",
    "However, a good approximation is that Django calls two different types of clean\n",
    "methods on the form class. First, it looks for methods named clean_<fieldname>\n",
    "for each field defined on the form. This method should return the cleaned value of\n",
    "the field that will then be stored in the `cleaned_data` dictionary of the form. Next,\n",
    "Django calls the `clean` method on the form class. This method is meant to clean\n",
    "data for fields that depend on each other as dependent cleaning should not be done\n",
    "in individual `clean_<fieldname>` methods. The `clean` method should return a\n",
    "dictionary that will replace the form's `cleaned_data` dictionary completely."
   ]
  },
  {
   "cell_type": "markdown",
   "metadata": {},
   "source": [
    "if the data is not in the expected format. If `ValidationError` is raised in a\n",
    "`clean_<fieldname>` method, the error is tied to that field and displayed next to it\n",
    "when the form is rendered. If the error is raised in the general `clean` method, the\n",
    "error is displayed in the form error list that is displayed right before the form fields\n",
    "start in the HTML of the form."
   ]
  },
  {
   "cell_type": "markdown",
   "metadata": {},
   "source": [
    "As we wish to make sure that the data entered by the user in the schema field is\n",
    "valid JSON, we use `json.loads` on the user-entered data and raise an exception if\n",
    "the call fails. One important thing to note is that we return a modified version of the\n",
    "schema if our `clean_schema` call succeeds. This is because, in our model, we need\n",
    "to save a Python dictionary instead of a JSON string. Our `JSONField` model field\n",
    "handles the necessary conversion from a Python object to a JSON string when saving\n",
    "to the database."
   ]
  },
  {
   "cell_type": "markdown",
   "metadata": {},
   "source": [
    "Another side note is that the `clean_schema` method is not given any arguments. It\n",
    "must get the value for the schema field from the form's cleaned_data dictionary.\n",
    "With our form created, let's add a view to `main/views.py` to display this form. First,\n",
    "import our new form and the `json` library at the top:"
   ]
  },
  {
   "cell_type": "markdown",
   "metadata": {},
   "source": [
    "```python\n",
    "import json\n",
    "from main.forms import NewDynamicFormForm\n",
    "```"
   ]
  },
  {
   "cell_type": "markdown",
   "metadata": {},
   "source": [
    "Then add the following code to the view:"
   ]
  },
  {
   "cell_type": "markdown",
   "metadata": {},
   "source": [
    "```python\n",
    "class CreateEditFormView(FormView):\n",
    "    form_class = NewDynamicFormForm\n",
    "    template_name = \"create_edit_form.html\"\n",
    "\n",
    "    def get_initial(self):\n",
    "        if \"form_pk\" in self.kwargs:\n",
    "            form = FormSchema.objects.get(pk=self.kwargs[\"form_pk\"])\n",
    "            initial = {\n",
    "                \"form_pk\": form.pk,\n",
    "                \"title\": form.title,\n",
    "                \"schema\": json.dumps(form.schema)\n",
    "            }\n",
    "        else:\n",
    "            initial = {}\n",
    "\n",
    "        return initial\n",
    "\n",
    "    def get_context_data(self, **kwargs):\n",
    "        ctx = super(CreateEditFormView, self).get_context_data(**kwargs)\n",
    "        if \"form_pk\" in self.kwargs:\n",
    "            ctx[\"form_pk\"] = self.kwargs[\"form_pk\"]\n",
    "\n",
    "        return ctx\n",
    "\n",
    "    def form_valid(self, form):\n",
    "        cleaned_data = form.cleaned_data\n",
    "        if cleaned_data.get(\"form_pk\"):\n",
    "            old_form = FormSchema.objects.get(pk=cleaned_data[\"form_pk\"])\n",
    "            old_form.title = cleaned_data[\"title\"]\n",
    "            old_form.schema = cleaned_data[\"schema\"]\n",
    "            old_form.save()\n",
    "        else:\n",
    "            new_form = FormSchema(title=cleaned_data[\"title\"],\n",
    "            schema=cleaned_data[\"schema\"])\n",
    "            new_form.save()\n",
    "\n",
    "        return HttpResponseRedirect(reverse(\"home\"))\n",
    "```"
   ]
  },
  {
   "cell_type": "markdown",
   "metadata": {},
   "source": [
    "Next, create the `main/templates/create_edit_form.html` file and put this code in\n",
    "there:"
   ]
  },
  {
   "cell_type": "markdown",
   "metadata": {},
   "source": [
    "```html\n",
    "{% extends \"base.html\" %}\n",
    "\n",
    "{% block content %}\n",
    "<h1>Create/Edit Form</h1>\n",
    "\n",
    "{% if form_pk %}\n",
    "<form action=\"{% url 'edit-form' form_pk=form_pk%}\" method=\"post\">{% csrf_token %}\n",
    "{% else %}\n",
    "<form action=\"{% url 'create-form' %}\" method=\"post\">{% csrf_token %}\n",
    "{% endif %}\n",
    "\n",
    "{{ form.as_p }}\n",
    "<input type=\"submit\" value=\"Create Form\" />\n",
    "</form>\n",
    "{% endblock %}\n",
    "```"
   ]
  },
  {
   "cell_type": "markdown",
   "metadata": {},
   "source": [
    "Finally, import this new view in our `formmason/urls.py` and add two patterns for it\n",
    "to the `urlpatterns` file. Here is the final `formmason/urls.py` f﻿ile:"
   ]
  },
  {
   "cell_type": "markdown",
   "metadata": {},
   "source": [
    "```python\n",
    "from django.conf.urls import url\n",
    "from main.views import CreateEditFormView\n",
    "from main.views import CustomFormView\n",
    "from main.views import FormResponsesListView\n",
    "from main.views import HomePageView\n",
    "urlpatterns = [\n",
    "    url(r'^$', HomePageView.as_view(), name='home'),\n",
    "    url(r'^form/(?P<form_pk>\\d+)/$', CustomFormView.as_view(),\n",
    "    name='custom-form'),\n",
    "    url(r'^form/(?P<form_pk>\\d+)/responses/$', FormResponsesListView.\n",
    "    as_view(), name='form-responses'),\n",
    "    url(r'form/new/$', CreateEditFormView.as_view(), name='createform'),\n",
    "    url(r'form/(?P<form_pk>\\d+)/edit/$', CreateEditFormView.as_view(),\n",
    "    name='edit-form'),\n",
    "]\n",
    "```"
   ]
  },
  {
   "cell_type": "markdown",
   "metadata": {},
   "source": [
    "We are using the same view twice—once as a create view and once as an edit view.\n",
    "If you look at the code for the view, we provide the form with initial data from a\n",
    "FormSchema object if the `form_pk` keyword argument was matched from the URL.\n",
    "If it wasn't, we know that we are creating a new form and our initial data dictionary\n",
    "is empty. One thing to note is that in the initial data, we use `json.dumps(form.schema)` to provide the initial value for the schema field. This is the reverse of what\n",
    "we do in the `clean_schema` method of our form. That's because `form.schema` is a\n",
    "Python object; however, our frontend needs to show the JSON for the structure. So\n",
    "we convert from a Python object to a JSON string using the json.dumps method."
   ]
  },
  {
   "cell_type": "markdown",
   "metadata": {},
   "source": [
    "We handle both the cases—new form creation and form editing—in the `form_valid`\n",
    "method of our view. On successfully saving or creating our form, we redirect the\n",
    "user to the home page again."
   ]
  },
  {
   "cell_type": "markdown",
   "metadata": {},
   "source": [
    "The last thing we need to do is add links to our base template and home page to\n",
    "create and edit forms. First, add this link right after the link for **Home** in `templates/base.html`:"
   ]
  },
  {
   "cell_type": "markdown",
   "metadata": {},
   "source": [
    "```html\n",
    "<a href=\"{% url 'create-form' %}\">Create New Form</a>\n",
    "```"
   ]
  },
  {
   "cell_type": "markdown",
   "metadata": {},
   "source": [
    "In `main/templates/home.html`, add this after the link for **See Responses**:"
   ]
  },
  {
   "cell_type": "markdown",
   "metadata": {},
   "source": [
    "```html\n",
    "<br /><a href=\"{% url 'edit-form' form_pk=form.pk %}\">Edit Form</a>\n",
    "```"
   ]
  },
  {
   "cell_type": "markdown",
   "metadata": {},
   "source": [
    "That's it. Let's test it out. Open the home page at `http://127.0.0.1:8000/` first and\n",
    "you should see something similar to the following screenshot:"
   ]
  },
  {
   "cell_type": "markdown",
   "metadata": {},
   "source": [
    "![Form Mason: Available Forms](img/Mason_Forms2.png)"
   ]
  },
  {
   "cell_type": "markdown",
   "metadata": {},
   "source": [
    "Click on the **Edit Form** button and you should see the following page:"
   ]
  },
  {
   "cell_type": "markdown",
   "metadata": {},
   "source": [
    "![Form Mason: Create/Edit Form](img/Mason_EditForm.png)"
   ]
  },
  {
   "cell_type": "markdown",
   "metadata": {},
   "source": [
    "Let's change the title to something new and then type this in the `Schema` field:"
   ]
  },
  {
   "cell_type": "markdown",
   "metadata": {},
   "source": [
    "```python\n",
    "{\"years_of_experience\": \"number\", \"occupation\": \"string\"}\n",
    "```"
   ]
  },
  {
   "cell_type": "markdown",
   "metadata": {},
   "source": [
    "Click on the **Create New Form** link. This should save the form and take you back\n",
    "to the home page. The title of your form on the home page should be changed to\n",
    "whatever you edited it to. Click on the link to see the form, and you should see a\n",
    "screen similar to this:"
   ]
  },
  {
   "cell_type": "markdown",
   "metadata": {},
   "source": [
    "![Form Mason: Custom Form](img/Mason_CustomForm.png)"
   ]
  },
  {
   "cell_type": "markdown",
   "metadata": {},
   "source": [
    "Nice! Our form has changed to match the schema that we entered while editing\n",
    "the form. Let's take a look at what our responses page looks like. Submit some test\n",
    "data with the new form schema and open up the responses page. You should see\n",
    "something like this:"
   ]
  },
  {
   "cell_type": "markdown",
   "metadata": {},
   "source": [
    "![Form Mason: Responses for Edited Form](img/Mason_ResponsesForEditedForm.png)"
   ]
  },
  {
   "cell_type": "markdown",
   "metadata": {},
   "source": [
    "This page works as expected, without having to change any of the code. You'll see\n",
    "that the previous responses are no longer visible; however, there seems to be some\n",
    "empty cells above the latest response. We'll look into fixing this and other small\n",
    "issues next. However, our application is complete except for a few small fixes that we\n",
    "need to do."
   ]
  },
  {
   "cell_type": "markdown",
   "metadata": {},
   "source": [
    "You should use the **Create New Form** link at the top of the pages as well to create a\n",
    "new form and test it out. It should work as expected."
   ]
  },
  {
   "cell_type": "markdown",
   "metadata": {},
   "source": [
    "## Small fixes"
   ]
  },
  {
   "cell_type": "markdown",
   "metadata": {},
   "source": [
    "I noticed three small errors while working on this last section that I'd like to fix. First\n",
    "of all, if you take a closer look at the form submission page (where the user can enter\n",
    "data in a custom form), you'll notice that the heading on the top says **Custom Form**.\n",
    "This is from our first test, when our form schema was defined in a hardcoded JSON\n",
    "string and didn't have a title. As our form model now has a title field, edit `main/templates/custom_form.html` and change the `h1` tag to match the following:"
   ]
  },
  {
   "cell_type": "markdown",
   "metadata": {},
   "source": [
    "```html\n",
    "<h1>{{ form_schema.title }}</h1>\n",
    "```"
   ]
  },
  {
   "cell_type": "markdown",
   "metadata": {},
   "source": [
    "Next, edit `CustomFormView` in `main/views.py` and add the this `get_context_data` method to the class:"
   ]
  },
  {
   "cell_type": "markdown",
   "metadata": {},
   "source": [
    "```python\n",
    "def get_context_data(self, **kwargs):\n",
    "    ctx = super(CustomFormView, self).get_context_data(**kwargs)\n",
    "\n",
    "    form_schema = FormSchema.objects.get(pk=self.kwargs[\"form_pk\"])\n",
    "    ctx[\"form_schema\"] = form_schema\n",
    "\n",
    "    return ctx\n",
    "```"
   ]
  },
  {
   "cell_type": "markdown",
   "metadata": {},
   "source": [
    "Look at the form detail page again. This time, the heading should reflect the form\n",
    "title, as shown in the following screenshot:"
   ]
  },
  {
   "cell_type": "markdown",
   "metadata": {},
   "source": [
    "![Form Mason: Edited Form](img/Mason_EditForm2.png)"
   ]
  },
  {
   "cell_type": "markdown",
   "metadata": {},
   "source": [
    "The next error that I noticed was on the form editing page. Right now, whether you\n",
    "are creating a new form or editing an existing one, the heading always says `Create/Edit Form` and the **Submit** button always says **Create New Form((. Let's modify our\n",
    "`main/templates/create_edit_form.html` template to tell the user explicitly what\n",
    "action they are taking. Here is the final code for the template:"
   ]
  },
  {
   "cell_type": "markdown",
   "metadata": {},
   "source": [
    "```html\n",
    "{% extends \"base.html\" %}\n",
    "\n",
    "{% block content %}\n",
    "{% if form_pk %}\n",
    "    <h1>Edit Form</h1>\n",
    "{% else %}\n",
    "    <h1>Create Form</h1>\n",
    "{% endif %}\n",
    "\n",
    "{% if form_pk %}\n",
    "<form action=\"{% url 'edit-form' form_pk=form_pk%}\" method=\"post\">{%\n",
    "csrf_token %}\n",
    "{% else %}\n",
    "<form action=\"{% url 'create-form' %}\" method=\"post\">{% csrf_token %}\n",
    "{% endif %}\n",
    "    {{ form.as_p }}\n",
    "    {% if form_pk %}\n",
    "        <input type=\"submit\" value=\"Save Form\" />\n",
    "    {% else %}\n",
    "        <input type=\"submit\" value=\"Create Form\" />\n",
    "    {% endif %}\n",
    "</form>\n",
    "{% endblock %}\n",
    "```"
   ]
  },
  {
   "cell_type": "markdown",
   "metadata": {},
   "source": [
    "Now if you edit an existing form or create a new one, the heading and button should\n",
    "match that action:"
   ]
  },
  {
   "cell_type": "markdown",
   "metadata": {},
   "source": [
    "![Form Mason: Edit Form](img/Mason_SaveForm.png)"
   ]
  },
  {
   "cell_type": "markdown",
   "metadata": {},
   "source": [
    "The last issue I saw was on the responses page. If you edit a form that already has\n",
    "responses and the new form has none of the fields that the old form had, you will\n",
    "see some empty table rows at the start. That's because even though our view code\n",
    "doesn't include any data for those rows, it still includes an empty row. Let's fix this\n",
    "by modifying the `get_context_data` method of `FormResponsesListView` in `main/views.py`. Look for this piece of code:"
   ]
  },
  {
   "cell_type": "markdown",
   "metadata": {},
   "source": [
    "```python\n",
    "for field_name in form_fields:\n",
    "    if field_name in response_data:\n",
    "        response_values.append(response_data[field_name])\n",
    "    else:\n",
    "        response_values.append('')\n",
    "responses_list.append(response_values)\n",
    "```"
   ]
  },
  {
   "cell_type": "markdown",
   "metadata": {},
   "source": [
    "Change it to the following:"
   ]
  },
  {
   "cell_type": "markdown",
   "metadata": {},
   "source": [
    "```python\n",
    "for field_name in form_fields:\n",
    "    if field_name in response_data:\n",
    "        response_values.append(response_data[field_name])\n",
    "    else:\n",
    "        response_values.append('')\n",
    "if any(response_values):\n",
    "    responses_list.append(response_values)\n",
    "```"
   ]
  },
  {
   "cell_type": "markdown",
   "metadata": {},
   "source": [
    "The last two lines, the highlighted ones, are the changes. The `any` function is a builtin\n",
    "Python method that returns `True` if any of the values in the given list evaluates\n",
    "to True. If our `responses_list` contains all empty strings, which is the case if our\n",
    "new form structure has no fields that overlap with the old form structure, the if\n",
    "condition will fail and we will not include a completely empty row in our responses\n",
    "list. Try looking at the responses list page again and you should see that the empty\n",
    "rows have now disappeared:"
   ]
  },
  {
   "cell_type": "markdown",
   "metadata": {},
   "source": [
    "![Form Mason: Responses for Edited Form](img/Mason_ResponsesForEditedForm2.png)"
   ]
  },
  {
   "cell_type": "markdown",
   "metadata": {},
   "source": [
    "That's it. Our last, and most ambitious, application is complete. Congratulations! You\n",
    "have come a long way from the simple blog that we created at the start of this book.\n",
    "You should now be ready to tackle any web application project that comes your way."
   ]
  },
  {
   "cell_type": "markdown",
   "metadata": {},
   "source": [
    "## Summary"
   ]
  },
  {
   "cell_type": "markdown",
   "metadata": {},
   "source": [
    "This chapter was more about exploration than new concepts. The only major new\n",
    "concept that you learned was about the inner workings of Django forms, and this\n",
    "section took up fewer than five pages. The rest of the chapter was about finding\n",
    "solutions to problems that we encountered along the way."
   ]
  },
  {
   "cell_type": "markdown",
   "metadata": {},
   "source": [
    "As I said at the start of this chapter, this was the most complicated application that\n",
    "we have created in the book. It s also likely to be one of the more complicated\n",
    "applications you will create at the start of your career. It is by no means a polished\n",
    "product; that's more because we didn't do any frontend work, rather than some lack\n",
    "of features in the Django backend."
   ]
  },
  {
   "cell_type": "markdown",
   "metadata": {},
   "source": [
    "While the knowledge we gained about Django forms in this chapter will prove\n",
    "invaluable to you, I would like the main takeaway from it to be the approach to\n",
    "solving problems. We found a problem we needed to solve, we experimented in the\n",
    "Django shell, and we found a solution. Sometimes it's a bit more complicated than\n",
    "that. You probably need to search the Internet for existing solutions or ask your\n",
    "colleagues. However, after finding answers that seem to be relevant to your problem,\n",
    "you will always have to go back to the experimentation and make sure that the\n",
    "solution really does solve your problem."
   ]
  },
  {
   "cell_type": "markdown",
   "metadata": {},
   "source": [
    "The way I showed you how to play around in the Django shell is just one of the\n",
    "many ways that you can choose to experiment with different solutions. As I've\n",
    "mentioned before, everyone has their own technique. Some use management\n",
    "commands, some use simple Python scripts, and some write test code in the views.\n",
    "In the end, you will come up with a way that you like the best."
   ]
  },
  {
   "cell_type": "markdown",
   "metadata": {},
   "source": [
    "Another thing that I hope you take away from this chapter is the use of external\n",
    "libraries to help solve our problems. When we needed a way to store JSON in our\n",
    "database, we used the jsonfield library that was available as open source instead\n",
    "of rolling our own custom solution. This has benefits and drawbacks. The benefits\n",
    "are that if you find a package, such as `jsonfield` that is widely used, you will get\n",
    "a solution that has been tested by many before you. Due to that testing, the library\n",
    "will be much more stable than what you, or any person, can come up with on your\n",
    "own. The drawback of using something external is that you have no control over\n",
    "the direction the project takes and in some projects, you'll have to painstakingly go\n",
    "over the code for the external library to make sure that it meets any regulations your\n",
    "project might have about external code usage.\n"
   ]
  },
  {
   "cell_type": "markdown",
   "metadata": {},
   "source": [
    "However, personally, I prefer to use a tried and tested third-party library every time\n",
    "over creating something by myself. For me, the pros usually outweigh the cons.\n"
   ]
  },
  {
   "cell_type": "markdown",
   "metadata": {},
   "source": [
    "That's it! This was the final chapter in this epic journey that we started with a simple\n",
    "blog! We have come a long way from where we started; however, I'm sure that your\n",
    "journey as a Django web developer is just starting. You have many more exciting\n",
    "things to look forward to, and I wish you the best of luck in this journey. I hope you\n",
    "enjoyed reading this book as much as I enjoyed writing it. Bon voyage!"
   ]
  }
 ],
 "metadata": {
  "anaconda-cloud": {},
  "kernelspec": {
   "display_name": "Python [Root]",
   "language": "python",
   "name": "Python [Root]"
  },
  "language_info": {
   "codemirror_mode": {
    "name": "ipython",
    "version": 3
   },
   "file_extension": ".py",
   "mimetype": "text/x-python",
   "name": "python",
   "nbconvert_exporter": "python",
   "pygments_lexer": "ipython3",
   "version": "3.5.1"
  }
 },
 "nbformat": 4,
 "nbformat_minor": 0
}
