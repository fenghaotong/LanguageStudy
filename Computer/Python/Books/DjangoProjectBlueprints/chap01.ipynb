{
 "cells": [
  {
   "cell_type": "markdown",
   "metadata": {},
   "source": [
    "# Blueblog – a Blogging Platform"
   ]
  },
  {
   "cell_type": "markdown",
   "metadata": {},
   "source": [
    "We are going to start with a simple blogging platform in Django. In recent years,\n",
    "Django has emerged as one of the clear leaders in web frameworks. When most\n",
    "people decide to start using a web framework, their searches lead them to either\n",
    "Ruby on Rails (RoR) or Django. Both are mature, stable, and extensively used.\n",
    "It appears that the decision to use one or the other depends mostly on which\n",
    "programming language you're familiar with. Rubyists go with RoR, Pythonistas\n",
    "go with Django. In terms of features, both can be used to achieve the same results,\n",
    "although they have different approaches to how things are done.\n",
    "\n",
    "* emerge  \n",
    "vi. 浮现；摆脱；暴露"
   ]
  },
  {
   "cell_type": "markdown",
   "metadata": {},
   "source": [
    "One of the most popular blogging platforms these days is Medium, widely used by\n",
    "a number of high profile bloggers. Its popularity stems from its elegant theme, and\n",
    "simple-to-use interface. I'll walk you through creating a similar application in Django,\n",
    "with a few surprise features that most blogging platforms don't have. This will give\n",
    "you a taste of things to come, and show you just how versatile Django can be."
   ]
  },
  {
   "cell_type": "markdown",
   "metadata": {},
   "source": [
    "Before starting any software development project, it's a good idea to have a rough\n",
    "roadmap of what we would like to achieve. Here's a list of features that our blogging\n",
    "platform will have:"
   ]
  },
  {
   "cell_type": "markdown",
   "metadata": {},
   "source": [
    "* User should be able to register an account and create their blogs\n",
    "* Users should be able to tweak the settings of their blogs\n",
    "* There should be simple interface for users to create and edit blog posts\n",
    "* Users should be able to share their blog posts on other blogs on the platform"
   ]
  },
  {
   "cell_type": "markdown",
   "metadata": {},
   "source": [
    "I know this seems like a lot of work, but Django comes with a couple of contrib\n",
    "packages that speed up our work considerably."
   ]
  },
  {
   "cell_type": "markdown",
   "metadata": {},
   "source": [
    "## The contrib packages"
   ]
  },
  {
   "cell_type": "markdown",
   "metadata": {},
   "source": [
    "The contrib packages are a part of Django that contain some very useful\n",
    "applications that the Django developers decided should be shipped with Django.\n",
    "The included applications provide an impressive set of features, including some that\n",
    "we'll be using in this application:"
   ]
  },
  {
   "cell_type": "markdown",
   "metadata": {},
   "source": [
    "* **Admin** is a full featured CMS that can be used to manage the content of a\n",
    "Django site. The Admin application is an important reason for the popularity\n",
    "of Django. We'll use this to provide an interface for site administrators to\n",
    "moderate and manage the data in our application\n"
   ]
  },
  {
   "cell_type": "markdown",
   "metadata": {},
   "source": [
    "* **Auth** provides user registration and authentication without requiring us to\n",
    "do any work. We'll be using this module to allow users to sign up, sign in,\n",
    "and manage their profiles in our application"
   ]
  },
  {
   "cell_type": "markdown",
   "metadata": {},
   "source": [
    "> notes  \n",
    "> There are a lot more goodies in the contrib module. I suggest you\n",
    "take a look at the complete list at <https://docs.djangoproject.\n",
    "com/en/stable/ref/contrib/#contrib-packages>.\n",
    "I usually end up using at least three of the contrib packages in all\n",
    "my Django projects. They provide often-required features like user\n",
    "registration and management, and free you to work on the core parts\n",
    "of your project, providing a solid foundation to build upon."
   ]
  },
  {
   "cell_type": "markdown",
   "metadata": {},
   "source": [
    "## Setting up our development environment"
   ]
  },
  {
   "cell_type": "markdown",
   "metadata": {},
   "source": [
    "For this first chapter, I'll go into some details about setting up the development\n",
    "environment. For later chapters, I'll only be providing minimal instructions. For\n",
    "further details about how I setup the development environment and why, take a look\n",
    "at _Appendix, Development Environment Setup Details and Debugging Techniques_."
   ]
  },
  {
   "cell_type": "markdown",
   "metadata": {},
   "source": [
    "Let's start by creating the directory structure for our project, setting up the virtual\n",
    "environment and configuring some base Django settings that need to be set up in\n",
    "every project. Let's call our blogging platform BlueBlog."
   ]
  },
  {
   "cell_type": "markdown",
   "metadata": {},
   "source": [
    "> notes  \n",
    "> Detailed explanations of the steps you're about to see are given\n",
    "in Appendix, Development Environment Setup Details and Debugging\n",
    "Techniques. Please refer to that if you're unsure about why we're\n",
    "doing something or what a particular command does."
   ]
  },
  {
   "cell_type": "markdown",
   "metadata": {},
   "source": [
    "To start a new project, you need to first open up your terminal program. In Mac\n",
    "OS X, it is the built-in terminal. In Linux, the terminal is named separately for each\n",
    "distribution, but you should not have trouble finding it; try searching your program\n",
    "list for the word terminal and something relevant should show up. In Windows,\n",
    "the terminal program is called the command line. You'll need to start the relevant\n",
    "program depending on your operating system."
   ]
  },
  {
   "cell_type": "markdown",
   "metadata": {},
   "source": [
    "> notes  \n",
    "> If you are using the Windows operating system, you will need to\n",
    "slightly modify the commands shown in the book. Please refer to the\n",
    "Developing on Windows section of Appendix, Development Environment\n",
    "Setup Details and Debugging Techniques for details."
   ]
  },
  {
   "cell_type": "markdown",
   "metadata": {},
   "source": [
    "Open the relevant terminal program for your operating system and start by creating\n",
    "the directory structure for our project; cd (ing) into the root project directory using\n",
    "the commands shown below:"
   ]
  },
  {
   "cell_type": "markdown",
   "metadata": {},
   "source": [
    "```sh\n",
    "> mkdir –p blueblog\n",
    "> cd blueblog\n",
    "```"
   ]
  },
  {
   "cell_type": "markdown",
   "metadata": {},
   "source": [
    "Next let's create the virtual environment, install Django, and start our project:"
   ]
  },
  {
   "cell_type": "markdown",
   "metadata": {},
   "source": [
    "```sh\n",
    "> pyvenv blueblogEnv\n",
    "> source blueblogEnv/bin/activate\n",
    "> pip install django\n",
    "> django-admin.py startproject blueblog src\n",
    "```"
   ]
  },
  {
   "cell_type": "markdown",
   "metadata": {},
   "source": [
    "With that out of the way, we're ready to start developing our blogging platform."
   ]
  },
  {
   "cell_type": "markdown",
   "metadata": {},
   "source": [
    "### Database settings "
   ]
  },
  {
   "cell_type": "markdown",
   "metadata": {},
   "source": [
    "Open up the settings found at `$PROJECT_DIR/src/blueblog/settings.py` in your\n",
    "favorite editor and make sure that the DATABASES settings variable matches this:"
   ]
  },
  {
   "cell_type": "markdown",
   "metadata": {},
   "source": [
    "```python\n",
    "DATABASES = {\n",
    "    'default': {\n",
    "        'ENGINE': 'django.db.backends.sqlite3',\n",
    "        'NAME': os.path.join(BASE_DIR, 'db.sqlite3'),\n",
    "    }\n",
    "}\n",
    "```"
   ]
  },
  {
   "cell_type": "markdown",
   "metadata": {},
   "source": [
    "In order to initialize the database file, run the following commands:"
   ]
  },
  {
   "cell_type": "markdown",
   "metadata": {},
   "source": [
    "```sh\n",
    "> cd src\n",
    "> python manage.py migrate\n",
    "```"
   ]
  },
  {
   "cell_type": "markdown",
   "metadata": {},
   "source": [
    "### Static files settings "
   ]
  },
  {
   "cell_type": "markdown",
   "metadata": {},
   "source": [
    "The last step in setting up our development environment, is configuring the\n",
    "staticfiles contrib application. The staticfiles application provides a number\n",
    "of features that make it easy to manage the static files (css, images, JavaScript) of\n",
    "your projects. While our usage will be minimal, you should look at the Django\n",
    "documentation for staticfiles in further detail, since it is used quite heavily in most\n",
    "real world Django projects. You can find the documentation at <https://docs.\n",
    "djangoproject.com/en/stable/howto/static-files/>."
   ]
  },
  {
   "cell_type": "markdown",
   "metadata": {},
   "source": [
    "In order to set up the staticfiles application we have to configure a few settings in the\n",
    "`settings.py` file. First, make sure that `django.contrib.staticfiles` is added to\n",
    "the `INSTALLED_APPS`. Django should have done that by default."
   ]
  },
  {
   "cell_type": "markdown",
   "metadata": {},
   "source": [
    "Next, set `STATIC_URL` to whatever URL you want your static files to be served\n",
    "from. I usually leave this to the default value, `/static/`. This is the URL that Django\n",
    "will put in your templates when you use the static template tag to get the path to a\n",
    "static file."
   ]
  },
  {
   "cell_type": "markdown",
   "metadata": {},
   "source": [
    "### A base template "
   ]
  },
  {
   "cell_type": "markdown",
   "metadata": {},
   "source": [
    "Next let's setup a base template that all the other templates in our application will\n",
    "inherit from. I prefer to have templates that are used by more than one application of\n",
    "a project in a directory named templates in the project source folder. To set that up,\n",
    "add `os.path.join(BASE_DIR, 'templates')` to the DIRS array of the `TEMPLATES`\n",
    "config dictionary in the settings file, and then create a directory named templates in\n",
    "`$PROJECT_ROOT/src`. Next, using your favorite text editor, create a file named base.\n",
    "html in the new folder with the following content:"
   ]
  },
  {
   "cell_type": "markdown",
   "metadata": {},
   "source": [
    "```html\n",
    "<html>\n",
    "<head>\n",
    "    <title>BlueBlog</title>\n",
    "</head>\n",
    "<body>\n",
    "    {% block content %}\n",
    "    {% endblock %}\n",
    "</body>\n",
    "</html>\n",
    "```"
   ]
  },
  {
   "cell_type": "markdown",
   "metadata": {},
   "source": [
    "Much like Python classes inheriting from other classes, Django templates can\n",
    "also inherit from other templates. And just like Python classes can have functions\n",
    "overridden by their subclasses, Django templates can also define blocks that children\n",
    "templates can override. Our base.html template provides one block for inheriting\n",
    "templates to override, called **content**."
   ]
  },
  {
   "cell_type": "markdown",
   "metadata": {},
   "source": [
    "The reason for using template inheritance is code reuse. We should put HTML that\n",
    "we want to be visible on every page of our site, such as headers, footers, copyright\n",
    "notices, meta tags, and so on, in the base template. Then, any template inheriting\n",
    "from it will automatically get all that common HTML included automatically, and\n",
    "we will only need to override the HTML code for the block we want to customize.\n",
    "You'll see this principal of creating and overriding blocks in base templates used\n",
    "throughout the projects in this book."
   ]
  },
  {
   "cell_type": "markdown",
   "metadata": {},
   "source": [
    "## User accounts "
   ]
  },
  {
   "cell_type": "markdown",
   "metadata": {},
   "source": [
    "With the database setup out of the way, let's start creating our application. If you\n",
    "remember, the first thing on our list of features is to allow users to register accounts\n",
    "on our site. As I've mentioned before, we'll be using the auth package from the\n",
    "Django contrib packages to provide user account features."
   ]
  },
  {
   "cell_type": "markdown",
   "metadata": {},
   "source": [
    "In order to use the auth package, we'll need to add it our `INSTALLED_APPS` list in the\n",
    "settings file (found at `$PROJECT_ROOT/src/blueblog/settings.py`). In the settings\n",
    "file, find the line defining INSTALLED_APPS and make sure that the string `django.contrib.auth` is part of the list. It should be by default, but for some reason if it's\n",
    "not there, add it manually."
   ]
  },
  {
   "cell_type": "markdown",
   "metadata": {},
   "source": [
    "You'll see that Django has included the auth package and couple of other contrib\n",
    "applications to the list by default. A new Django project includes these applications\n",
    "by default because almost all Django projects end up using these."
   ]
  },
  {
   "cell_type": "markdown",
   "metadata": {},
   "source": [
    ">notes  \n",
    "> If you need to add the auth application to the list, remember to\n",
    "use quotes to surround the application name."
   ]
  },
  {
   "cell_type": "markdown",
   "metadata": {},
   "source": [
    "We also need to make sure that the `MIDDLEWARE_CLASSES` list contains `django.contrib.sessions.middleware.SessionMiddleware`, `django.contrib.auth.middleware.AuthenticationMiddleware`, and `django.contrib.auth.middleware.SessionAuthenticationMiddleware`. These middleware classes give us access to the logged in user in our views, and also make sure that if I change the\n",
    "password for my account, I'm logged out from all other devices that I previously\n",
    "logged on to."
   ]
  },
  {
   "cell_type": "markdown",
   "metadata": {},
   "source": [
    "As you learn more about the various contrib applications and their purpose, you can\n",
    "start removing any that you know you won't need in your project. Now, let's add the\n",
    "URLs, views and templates that allow the users to register with our application."
   ]
  },
  {
   "cell_type": "markdown",
   "metadata": {},
   "source": [
    "### A user accounts app "
   ]
  },
  {
   "cell_type": "markdown",
   "metadata": {},
   "source": [
    "In order to create the various views, URLs, and templates related to user accounts,\n",
    "we'll start a new application. To do so, type the following in your command line:"
   ]
  },
  {
   "cell_type": "markdown",
   "metadata": {},
   "source": [
    "```sh\n",
    "> python manage.py startapp accounts\n",
    "```"
   ]
  },
  {
   "cell_type": "markdown",
   "metadata": {},
   "source": [
    "This should create a new accounts folder inside the `src` folder. We'll add code that\n",
    "deals with user accounts in files found inside this folder. To let Django know that we\n",
    "want to use this application in our project, add the application name (accounts) to the\n",
    "`INSTALLED_APPS` setting variable; making sure to surround it in quotes."
   ]
  },
  {
   "cell_type": "markdown",
   "metadata": {},
   "source": [
    "### Account registration"
   ]
  },
  {
   "cell_type": "markdown",
   "metadata": {},
   "source": [
    "The first feature we will work on is user registration. Let's start by writing the code\n",
    "for the registration view inside `accounts/views.py`. Make sure that the contents of\n",
    "`views.py` match what is shown here:"
   ]
  },
  {
   "cell_type": "markdown",
   "metadata": {},
   "source": [
    "```python\n",
    "from django.contrib.auth.forms import UserCreationForm\n",
    "from django.core.urlresolvers import reverse\n",
    "from django.views.generic import CreateView\n",
    "\n",
    "class UserRegistrationView(CreateView):\n",
    "    form_class = UserCreationForm\n",
    "    template_name = 'user_registration.html'\n",
    "\n",
    "    def get_success_url(self):\n",
    "        return reverse('home')\n",
    "```"
   ]
  },
  {
   "cell_type": "markdown",
   "metadata": {},
   "source": [
    "I'll explain what each line of this code is doing in a bit. But first, I'd like you to get to\n",
    "a state where you can register a new user and see for yourself how the flow works.\n",
    "Next, we'll create the template for this view. In order to create the template, you\n",
    "first need to create a new folder called `templates` inside the `accounts` folder. The\n",
    "name of the folder is important, since Django automatically searches for templates in\n",
    "folders of that name. To create this folder, just type the following command:"
   ]
  },
  {
   "cell_type": "markdown",
   "metadata": {},
   "source": [
    "```sh\n",
    "> mkdir accounts/templates\n",
    "```"
   ]
  },
  {
   "cell_type": "markdown",
   "metadata": {},
   "source": [
    "Next, create a new file called `user_registration.html` inside the templates folder\n",
    "and type in the code shown below:"
   ]
  },
  {
   "cell_type": "markdown",
   "metadata": {},
   "source": [
    "```html\n",
    "{% extends \"base.html\" %}\n",
    "{% block content %}\n",
    "\n",
    "<h1>Create New User</h1>\n",
    "<form action=\"\" method=\"post\">{% csrf_token %}\n",
    "    {{ form.as_p }}\n",
    "    <input type=\"submit\" value=\"Create Account\" />\n",
    "</form>\n",
    "{% endblock %}\n",
    "```"
   ]
  },
  {
   "cell_type": "markdown",
   "metadata": {},
   "source": [
    "Finally, remove the existing code in `blueblog/urls.py` and replace it with this:"
   ]
  },
  {
   "cell_type": "markdown",
   "metadata": {},
   "source": [
    "```python\n",
    "from django.conf.urls import include\n",
    "from django.conf.urls import url\n",
    "from django.contrib import admin\n",
    "from django.views.generic import TemplateView\n",
    "from accounts.views import UserRegistrationView\n",
    "\n",
    "urlpatterns = [\n",
    "    url(r'^admin/', include(admin.site.urls)),\n",
    "    url(r'^$', TemplateView.as_view(template_name='base.html'), name='home'),\n",
    "    url(r'^new-user/$', UserRegistrationView.as_view(), name='user_registration'),\n",
    "]\n",
    "```"
   ]
  },
  {
   "cell_type": "markdown",
   "metadata": {},
   "source": [
    "That's all the code we need to get user registration in our project! Let's do a quick\n",
    "demonstration. Run the development server by typing the following command:"
   ]
  },
  {
   "cell_type": "markdown",
   "metadata": {},
   "source": [
    "```sh\n",
    "> python manage.py runserver\n",
    "```"
   ]
  },
  {
   "cell_type": "markdown",
   "metadata": {},
   "source": [
    "In your browser, visit <http://127.0.0.1:8000/new-user/> and you'll see a user\n",
    "registration form. Fill that in, and click submit. You'll be taken to a blank page on\n",
    "successful registration. If there are some errors the form will be shown again with the\n",
    "appropriate error messages. Let's verify that our new account was indeed created in\n",
    "our database."
   ]
  },
  {
   "cell_type": "markdown",
   "metadata": {},
   "source": [
    "For the next step, we will need to have an administrator account. The Django auth\n",
    "contrib application can assign permissions to user accounts. The user with the\n",
    "highest level of permission is called the **super user**. The super user account has free\n",
    "reign over the application and can perform any administrator actions. To create a\n",
    "super user account, run this command:"
   ]
  },
  {
   "cell_type": "markdown",
   "metadata": {},
   "source": [
    "```sh\n",
    "> python manage.py createsuperuser\n",
    "```"
   ]
  },
  {
   "cell_type": "markdown",
   "metadata": {},
   "source": [
    "> notes \n",
    "\n",
    "> Since you already have the runserver command running in your\n",
    "terminal, you will need to quit it first by pressing Ctrl + C in the terminal.\n",
    "You can then run the createsuperuser command in the same terminal.\n",
    "After running the createsuperuser command, you'll need to start the\n",
    "runserver command again to browse the site.\n",
    "\n",
    "> If you want to keep the runserver command running and run the\n",
    "createsuperuser command in a new terminal window, you will need\n",
    "to make sure you activate the virtual environment for this application by\n",
    "running the same source blueblogEnv/bin/activate command that\n",
    "we ran earlier when we created our new project."
   ]
  },
  {
   "cell_type": "markdown",
   "metadata": {},
   "source": [
    "After you have created the account visit <http://127.0.0.1:8000/admin/> and log\n",
    "in with the admin account. You will see a link titled Users. Click that and you should\n",
    "see a list of users registered in our app. It will include the user you just created.\n"
   ]
  },
  {
   "cell_type": "markdown",
   "metadata": {},
   "source": [
    "Congrats! In most other frameworks, getting to this point with a working user\n",
    "registration feature would take a lot more effort. Django, with it's batteries included\n",
    "approach, allows us to do the same with a minimum of effort.\n"
   ]
  },
  {
   "cell_type": "markdown",
   "metadata": {},
   "source": [
    "Next, I'll explain what each line of code that you wrote does."
   ]
  },
  {
   "cell_type": "markdown",
   "metadata": {},
   "source": [
    "#### Generic views"
   ]
  },
  {
   "cell_type": "markdown",
   "metadata": {},
   "source": [
    "Here's the code for the user registration view again:"
   ]
  },
  {
   "cell_type": "markdown",
   "metadata": {},
   "source": [
    "```python\n",
    "class UserRegistrationView(CreateView):\n",
    "    form_class = UserCreationForm\n",
    "    template_name = 'user_registration.html'\n",
    "        \n",
    "    def get_success_url(self):\n",
    "        return reverse('home')\n",
    "```"
   ]
  },
  {
   "cell_type": "markdown",
   "metadata": {},
   "source": [
    "Our view is pretty short for something that does such a lot of work. That's because\n",
    "instead of writing code from scratch to handle all the work, we use one of the most\n",
    "useful features of Django, generic views. Generic views are base classes included\n",
    "with Django that provide functionality commonly required by a lot of web apps. The\n",
    "power of generic views comes from the ability to customize them to a great degree\n",
    "with ease."
   ]
  },
  {
   "cell_type": "markdown",
   "metadata": {},
   "source": [
    "> notes  \n",
    "\n",
    "> You can read more about Django generic views in the\n",
    "documentation available at <https://docs.djangoproject.\n",
    "com/en/stable/topics/class-based-views/>."
   ]
  },
  {
   "cell_type": "markdown",
   "metadata": {},
   "source": [
    "Here, we're using the `CreateView` generic view. This generic view can display a\n",
    "ModelForm using a template and on submission can either redisplay the page with\n",
    "errors if the form data was invalid or call the save method on the form and redirect the\n",
    "user to a configurable URL. The `CreateView` can be configured in a number of ways.\n"
   ]
  },
  {
   "cell_type": "markdown",
   "metadata": {},
   "source": [
    "If you want a `ModelForm` to be created automatically from some Django model,\n",
    "just set the `mode`l attribute to the `model` class, and the form will be generated\n",
    "automatically from the fields of the model. If you want the form only show certain\n",
    "fields from the model, use the `fields` attribute to list the fields you want, exactly like\n",
    "you'd do when using a `ModelForm`.\n"
   ]
  },
  {
   "cell_type": "markdown",
   "metadata": {},
   "source": [
    "In our case, instead of having a `ModelForm` generated automatically, we're providing\n",
    "one of our own; UserCreationForm. We do this by setting the `form_class` attribute\n",
    "on the view. This form, which is part of the auth contrib app, provides the fields and\n",
    "a `save` method that can be used to create a new user. As we start developing more\n",
    "complicated applications in later chapter, you'll see that this theme of composing\n",
    "solutions from small reusable parts provided by Django is a common practice in\n",
    "Django web app development, and in my opinion is one of the best features of\n",
    "the framework.\n"
   ]
  },
  {
   "cell_type": "markdown",
   "metadata": {},
   "source": [
    "Finally, we define a `get_success_url` function that does a simple reverse URL and\n",
    "returns the generated URL. The `CreateView` calls this function to get URL to redirect\n",
    "the user to when a valid form is submitted and saved successfully. To get something\n",
    "up and running quickly, we left out a real success page and just redirected the user\n",
    "to a blank page. We'll fix this later."
   ]
  },
  {
   "cell_type": "markdown",
   "metadata": {},
   "source": [
    "#### Template and URLs"
   ]
  },
  {
   "cell_type": "markdown",
   "metadata": {},
   "source": [
    "The template, which extends the base template we created earlier simply displays the\n",
    "form passed to it by the `CreateView` using the `form.as_p` method, which you might\n",
    "have seen in the simple Django projects you may have worked on before."
   ]
  },
  {
   "cell_type": "markdown",
   "metadata": {},
   "source": [
    "The `urls.py` file is a bit more interesting. You should be familiar with most of it, the\n",
    "parts where we include the admin site URLs and the part where we assign our view\n",
    "a URL. It's the usage of `TemplateView` that I want to explain here.\n"
   ]
  },
  {
   "cell_type": "markdown",
   "metadata": {},
   "source": [
    "Like the `CreateView`, the `TemplateView` is another generic view provided to us\n",
    "by Django. As the name suggests, this view can render and display a template\n",
    "to the user. It has a number of customization options. The most important one is\n",
    "`template_name`, which tells it which template to render and display to the user.\n"
   ]
  },
  {
   "cell_type": "markdown",
   "metadata": {},
   "source": [
    "We could have created another view class that subclassed the TemplateView, and\n",
    "customized it by setting attributes and overriding functions like we did for our\n",
    "registration view. But I wanted to show you another method of using a generic view\n",
    "in Django. If you only need to customize some basic parameters of a generic view;\n",
    "in this case we only wanted to set the `template_name` parameter of the view, you\n",
    "can just pass the values as `key=value` pairs as function keyword arguments to the\n",
    "`as_view` method of the class when including it in the `urls.py` file. Here, we pass\n",
    "the template name which the view renders when the user access it's URL. Since we\n",
    "just needed a placeholder URL to redirect the user to, we simply use the blank `base.html` template."
   ]
  },
  {
   "cell_type": "markdown",
   "metadata": {},
   "source": [
    "> tips \n",
    "\n",
    "> This technique of customizing generic views by passing key/value\n",
    "pairs only makes sense when you're interested in customizing very\n",
    "basic attributes, like we do here. In case you want more complicated\n",
    "customizations, I advice you subclass the view, otherwise you will\n",
    "quickly get messy code that is difficult to maintain."
   ]
  },
  {
   "cell_type": "markdown",
   "metadata": {},
   "source": [
    "### Login and logout"
   ]
  },
  {
   "cell_type": "markdown",
   "metadata": {},
   "source": [
    "With registration out of the way, let's write code to provide users with the ability\n",
    "to log in and log out. To start, the user needs some way to go to the login and\n",
    "registration pages from any page on the site. To do this, we'll need to add header\n",
    "links to our template. This is the perfect opportunity to demonstrate how template\n",
    "inheritance can lead to much cleaner and less code in our templates."
   ]
  },
  {
   "cell_type": "markdown",
   "metadata": {},
   "source": [
    "Add the following lines right after the `body` tag in our `base.html` file:"
   ]
  },
  {
   "cell_type": "markdown",
   "metadata": {},
   "source": [
    "```html\n",
    "{% block header %}\n",
    "<ul>\n",
    "    <li><a href=\"\">Login</a></li>\n",
    "    <li><a href=\"\">Logout</a></li>\n",
    "    <li><a href=\"{% url \"user_registration\"%}\">Register Account</a></\n",
    "    li>\n",
    "</ul>\n",
    "{% endblock %}\n",
    "```"
   ]
  },
  {
   "cell_type": "markdown",
   "metadata": {},
   "source": [
    "If you open the home page for our site now (at <http://127.0.0.1:8000/>), you\n",
    "should see that we now have three links on what was previously a blank page. It\n",
    "should look similar to the following screenshot:"
   ]
  },
  {
   "cell_type": "markdown",
   "metadata": {},
   "source": [
    "![BlueBlog](img/BlueBlog01.png)"
   ]
  },
  {
   "cell_type": "markdown",
   "metadata": {},
   "source": [
    "Click on the **Register Account** link. You'll see the registration form we had before,\n",
    "and the same three links again. Note how we only added those links to the `base.html` template. But since the user registration template extends the base template,\n",
    "it got those links without any effort on our part. This is where template inheritance\n",
    "really shines."
   ]
  },
  {
   "cell_type": "markdown",
   "metadata": {},
   "source": [
    "You might have noticed that the `href` for the login/logout links is empty. Let's start\n",
    "with the login part."
   ]
  },
  {
   "cell_type": "markdown",
   "metadata": {},
   "source": [
    "#### The login view "
   ]
  },
  {
   "cell_type": "markdown",
   "metadata": {},
   "source": [
    "Let's define the URL first. In `blueblog/urls.py` import the login view from the\n",
    "auth app:"
   ]
  },
  {
   "cell_type": "markdown",
   "metadata": {},
   "source": [
    "```python\n",
    "from django.contrib.auth.views import login\n",
    "```"
   ]
  },
  {
   "cell_type": "markdown",
   "metadata": {},
   "source": [
    "Next, add this to the urlpatterns list:"
   ]
  },
  {
   "cell_type": "markdown",
   "metadata": {},
   "source": [
    "```python\n",
    "url(r'^login/$', login, {'template_name': 'login.html'}, name='login'),\n",
    "```"
   ]
  },
  {
   "cell_type": "markdown",
   "metadata": {},
   "source": [
    "Then create a new file inside `accounts/templates` called `login.html`. Put in the\n",
    "following content:"
   ]
  },
  {
   "cell_type": "markdown",
   "metadata": {},
   "source": [
    "```html\n",
    "{% extends \"base.html\" %}\n",
    "{% block content %}\n",
    "<h1>Login</h1>\n",
    "<form action=\"{% url \"login\" %}\" method=\"post\">{% csrf_token %}\n",
    "    {{ form.as_p }}\n",
    "    <input type=\"hidden\" name=\"next\" value=\"{{ next }}\" />\n",
    "    <input type=\"submit\" value=\"Submit\" />\n",
    "</form>\n",
    "{% endblock %}\n",
    "```"
   ]
  },
  {
   "cell_type": "markdown",
   "metadata": {},
   "source": [
    "Finally, open up `blueblog/settings.py` and add the following line to the end of\n",
    "the file:"
   ]
  },
  {
   "cell_type": "markdown",
   "metadata": {},
   "source": [
    "\n",
    "```python\n",
    "LOGIN_REDIRECT_URL = '/'\n",
    "```"
   ]
  },
  {
   "cell_type": "markdown",
   "metadata": {},
   "source": [
    "Let's go over what we've done here. First, notice that instead of creating our own\n",
    "code to handle the login feature, we used the view provided by the auth app. We\n",
    "import it using from `django.contrib.auth.views import login`. Next, we\n",
    "associate it with the login/URL. If you remember the user registration part, we\n",
    "passed the template name to the home page view as a keyword parameter in the\n",
    "`as_view()` function. That approach is used for class-based views. For old-style view\n",
    "functions, we can pass a dictionary to the url function that is passed as keyword\n",
    "arguments to the view. Here, we use the template we created in login.html."
   ]
  },
  {
   "cell_type": "markdown",
   "metadata": {},
   "source": [
    "If you look at the documentation for the login view (<https://docs.djangoproject.com/en/stable/topics/auth/default/#django.contrib.auth.views.login>), you'll see that on successfully logging in, it redirects the user to\n",
    "settings.LOGIN_REDIRECT_URL. By default, this setting has a value of `/accounts/\n",
    "profile/`. Since we don't have such a URL defined, we change the setting to point to\n",
    "our home page URL instead."
   ]
  },
  {
   "cell_type": "markdown",
   "metadata": {},
   "source": [
    "Next, let's define the logout view."
   ]
  },
  {
   "cell_type": "markdown",
   "metadata": {},
   "source": [
    "#### The logout view "
   ]
  },
  {
   "cell_type": "markdown",
   "metadata": {},
   "source": [
    "In `blueblog/urls.py` import the logout view using `from django.contrib.auth.views import logout` and add the following to the urlpatterns list:"
   ]
  },
  {
   "cell_type": "markdown",
   "metadata": {},
   "source": [
    "```python\n",
    "url(r'^logout/$', logout, {'next_page': '/login/'}, name='logout'),\n",
    "```"
   ]
  },
  {
   "cell_type": "markdown",
   "metadata": {},
   "source": [
    "And that's it. The logout view doesn't need a template; it just needs to be configured\n",
    "with a URL to redirect the user to after login them out. We just redirect the user back\n",
    "to the login page."
   ]
  },
  {
   "cell_type": "markdown",
   "metadata": {},
   "source": [
    "#### Navigation links "
   ]
  },
  {
   "cell_type": "markdown",
   "metadata": {},
   "source": [
    "Having added the login/logout view, we need to make the links we added in our\n",
    "navigation menu earlier take the user to those views. Change the list of links we had\n",
    "in `templates/base.html` to the following:"
   ]
  },
  {
   "cell_type": "markdown",
   "metadata": {},
   "source": [
    "```html\n",
    "<ul>\n",
    "    {% if request.user.is_authenticated %}\n",
    "    <li><a href=\"{% url \"logout\" %}\">Logout</a></li>\n",
    "    {% else %}\n",
    "    <li><a href=\"{% url \"login\" %}\">Login</a></li>\n",
    "    <li><a href=\"{% url \"user_registration\"%}\">Register Account</a></li>\n",
    "    {% endif %}\n",
    "</ul>\n",
    "```"
   ]
  },
  {
   "cell_type": "markdown",
   "metadata": {},
   "source": [
    "This will show the **Login and Register Account** links to the user if they aren't\n",
    "already logged in. If they are logged in, which we check using the `request.user.is_authenticated` function, they are only shown the **Logout** link. You can test all of\n",
    "these links yourself and see how little code was needed to make such a major feature\n",
    "of our site work. This is all possible because of the contrib applications that Django provides."
   ]
  },
  {
   "cell_type": "markdown",
   "metadata": {},
   "source": [
    "## The blog"
   ]
  },
  {
   "cell_type": "markdown",
   "metadata": {},
   "source": [
    "With the user registration out of the way, let's get started with the blogging side of\n",
    "the application. We'll create a new application for the blog, so in the console, type in\n",
    "the following:"
   ]
  },
  {
   "cell_type": "markdown",
   "metadata": {},
   "source": [
    "```sh\n",
    "> python manage.py startapp blog\n",
    "> mkdir blog/templates\n",
    "```"
   ]
  },
  {
   "cell_type": "markdown",
   "metadata": {},
   "source": [
    "Add the blog application to the list of `INSTALLED_APPS` in our `settings.py` file.\n",
    "With the app created and installed, let's start with the models we'll be using."
   ]
  },
  {
   "cell_type": "markdown",
   "metadata": {},
   "source": [
    "### Models"
   ]
  },
  {
   "cell_type": "markdown",
   "metadata": {},
   "source": [
    "In `blog/models.py`, type the code shown below:"
   ]
  },
  {
   "cell_type": "markdown",
   "metadata": {},
   "source": [
    "```python\n",
    "from django.contrib.auth.models import User\n",
    "from django.db import models\n",
    "\n",
    "\n",
    "class Blog(models.Model):\n",
    "    owner = models.ForeignKey(User, editable=False)\n",
    "    title = models.CharField(max_length=500)\n",
    "    slug = models.CharField(max_length=500, editable=False)\n",
    "    \n",
    "    \n",
    "class BlogPost(models.Model):\n",
    "    blog = models.ForeignKey(Blog)\n",
    "    title = models.CharField(max_length=500)\n",
    "    body = models.TextField()\n",
    "    \n",
    "    is_published = models.BooleanField(default=False)\n",
    "    \n",
    "    slug = models.SlugField(max_length=500, editable=False)\n",
    "```"
   ]
  },
  {
   "cell_type": "markdown",
   "metadata": {},
   "source": [
    "After typing in this code, run the following commands to create the database tables\n",
    "for these models:"
   ]
  },
  {
   "cell_type": "markdown",
   "metadata": {},
   "source": [
    "```sh\n",
    "> python manage.py makemigrations blog\n",
    "> python manage.py migrate blog\n",
    "```"
   ]
  },
  {
   "cell_type": "markdown",
   "metadata": {},
   "source": [
    "This will create the database tables necessary to support our new models. The\n",
    "models are pretty basic. One field type that you might not have used before is the\n",
    "**SlugField**. A slug is a piece of text that is used to uniquely identify something. In\n",
    "our case, we use two slug fields to identify both our blog and our blog post. Since\n",
    "the fields are non-editable, we'll have to write the code to give them some values\n",
    "ourselves. We'll look into that later."
   ]
  },
  {
   "cell_type": "markdown",
   "metadata": {},
   "source": [
    "### Creating a blog view"
   ]
  },
  {
   "cell_type": "markdown",
   "metadata": {},
   "source": [
    "Let's create a view where the user can setup his blog. Let's make the form that the\n",
    "user will use to create a new blog. Create a new file `blog/forms.py` and enter the\n",
    "following:"
   ]
  },
  {
   "cell_type": "markdown",
   "metadata": {},
   "source": [
    "```python\n",
    "from django import forms\n",
    "from blog.models import Blog\n",
    "\n",
    "\n",
    "class BlogForm(forms.ModelForm):\n",
    "    class Meta:\n",
    "        model = Blog\n",
    "        fields = ['title' ]\n",
    "```"
   ]
  },
  {
   "cell_type": "markdown",
   "metadata": {},
   "source": [
    "This creates a model form that allows edits to only the **title** field of our `Blog` model.\n",
    "Let's create a template and view to go along with this form."
   ]
  },
  {
   "cell_type": "markdown",
   "metadata": {},
   "source": [
    "Create a file called `blog/templates/blog_settings.html` and type in the following\n",
    "HTML code:"
   ]
  },
  {
   "cell_type": "markdown",
   "metadata": {},
   "source": [
    "```html\n",
    "{% extends \"base.html\" %}\n",
    "\n",
    "{% block content %}\n",
    "<h1>Blog Settings</h1>\n",
    "<form action=\"{% url \"new-blog\" %}\" method=\"post\">{% csrf_token %}\n",
    "    {{ form.as_p }}\n",
    "\n",
    "    <input type=\"submit\" value=\"Submit\" />\n",
    "</form>\n",
    "{% endblock %}\n",
    "```"
   ]
  },
  {
   "cell_type": "markdown",
   "metadata": {},
   "source": [
    "As you may have noticed, I've used the `url` tag on the blog-settings named URL, but\n",
    "haven't created that URL pattern yet. We'll do that after we create the view, but just\n",
    "remember the name for later and make sure our URL gets the same name."
   ]
  },
  {
   "cell_type": "markdown",
   "metadata": {},
   "source": [
    "> notes\n",
    "\n",
    "> There is no right order in which to create your view, template\n",
    "and URLs. It's up to you to decide whichever you are more\n",
    "comfortable with."
   ]
  },
  {
   "cell_type": "markdown",
   "metadata": {},
   "source": [
    "In your `blog/views.py` file, add the following code to create the view:"
   ]
  },
  {
   "cell_type": "markdown",
   "metadata": {},
   "source": [
    "```python\n",
    "from django.core.urlresolvers import reverse\n",
    "from django.http.response import HttpResponseRedirect\n",
    "from django.utils.text import slugify\n",
    "from django.views.generic import CreateView\n",
    "from blog.forms import BlogForm\n",
    "\n",
    "\n",
    "class NewBlogView(CreateView):\n",
    "    form_class = BlogForm\n",
    "    template_name = 'blog_settings.html'\n",
    "\n",
    "    def form_valid(self, form):\n",
    "        blog_obj = form.save(commit=False)\n",
    "        blog_obj.owner = self.request.user\n",
    "        blog_obj.slug = slugify(blog_obj.title)\n",
    "        blog_obj.save()\n",
    "        return HttpResponseRedirect(reverse('home'))\n",
    "```"
   ]
  },
  {
   "cell_type": "markdown",
   "metadata": {},
   "source": [
    "Modify `blueblog/urls.py`. Add this to the top of the file from `blog.views import\n",
    "NewBlogView` and add this to the `urlpatterns` list:"
   ]
  },
  {
   "cell_type": "markdown",
   "metadata": {},
   "source": [
    "```python\n",
    "url(r'^blog/new/$', NewBlogView.as_view(), name='new-blog'),\n",
    "```"
   ]
  },
  {
   "cell_type": "markdown",
   "metadata": {},
   "source": [
    "As a final step, we need some way for the user to access our new view. Change the\n",
    "header block in `base.html` to look like this:"
   ]
  },
  {
   "cell_type": "markdown",
   "metadata": {},
   "source": [
    "```html\n",
    "{% block header %}\n",
    "<ul>\n",
    "    {% if request.user.is_authenticated %}\n",
    "    <li><a href=\"{% url \"new-blog\" %}\">Create New Blog</a></li>\n",
    "    <li><a href=\"{% url \"logout\" %}\">Logout</a></li>\n",
    "    {% else %}\n",
    "    <li><a href=\"{% url \"login\" %}\">Login</a></li>\n",
    "    <li><a href=\"{% url \"user_registration\"%}\">Register Account</a></li>\n",
    "    {% endif %}\n",
    "</ul>\n",
    "{% endblock %}\n",
    "```"
   ]
  },
  {
   "cell_type": "markdown",
   "metadata": {},
   "source": [
    "To test our latest feature, open up the home page at <http://127.0.0.1:8000>\n",
    "and click the **Create New Blog** link. It will present a form where you can enter the\n",
    "blog title and save your new blog. The page should look similar to the following\n",
    "screenshot:"
   ]
  },
  {
   "cell_type": "markdown",
   "metadata": {},
   "source": [
    "![Blog Setting](img/BlueBlog_NewBlog.png)"
   ]
  },
  {
   "cell_type": "markdown",
   "metadata": {},
   "source": [
    "Most of the code we have added is pretty basic. The interesting part is the\n",
    "`NewBlogView`. Let's look at how it works. First of all, notice that we subclass it\n",
    "from the `CreateView` generic view. The create view allows us to easily display and\n",
    "process a form that will create a new object of the given model. To configure it, we\n",
    "can either set the `model` and `fields` attribute of the view, which the create view will\n",
    "then use to generate a model form, or we can manually create a model form and\n",
    "assign it to the view, like we've done here."
   ]
  },
  {
   "cell_type": "markdown",
   "metadata": {},
   "source": [
    "We also configure the template that will be used to display the form. We then define\n",
    "the `form_valid` function, which the create view calls when the form is submitted\n",
    "with valid data. In our implementation, we call the model forms `save` method with\n",
    "the `commit` keyword parameter set to False. This tells the form to create a new\n",
    "object of our model with the data it was passed, but not to save the created object to\n",
    "the database. Then we set the owner of the new blog object to the logged in user and\n",
    "set its slug to a slugified version of the title entered by the user. slugify is one of the\n",
    "many utility functions that Django provides. Once we've modified the blog object per\n",
    "our requirement, we save it and return an `HttpResponseRedirect` from the `form_valid` function. This response is returned to the browser which then takes the user to\n",
    "the home page."
   ]
  },
  {
   "cell_type": "markdown",
   "metadata": {},
   "source": [
    "Until now, we've made do with a blank page with just a navigation bar as our\n",
    "home page. But it has a serious problem. Start by creating a new blog by following\n",
    "the link in the navigation bar. On successfully creating a new blog, we are redirected\n",
    "back to the home page, where we are again greeted with a link to create another\n",
    "blog. But this isn't the behavior we want. Ideally, our users should be limited to one\n",
    "blog per account."
   ]
  },
  {
   "cell_type": "markdown",
   "metadata": {},
   "source": [
    "Let's fix this. First, we'll restrict the blog creation view to only allow users to create a\n",
    "blog if they don't already have one. Import `HttpResponseForbidden` and the `Blog`\n",
    "model in `blog/views.py`:"
   ]
  },
  {
   "cell_type": "markdown",
   "metadata": {},
   "source": [
    "```python\n",
    "from django.http.response import HttpResponseForbidden\n",
    "from blog.models import Blog\n",
    "```"
   ]
  },
  {
   "cell_type": "markdown",
   "metadata": {},
   "source": [
    "Add a `dispatch` method to the `NewBlogView` class with the following code:"
   ]
  },
  {
   "cell_type": "markdown",
   "metadata": {},
   "source": [
    "```python\n",
    "def dispatch(self, request, *args, **kwargs):\n",
    "    user = request.user\n",
    "    if Blog.objects.filter(owner=user).exists():\n",
    "        return HttpResponseForbidden ('You can not create more than one blogs per account')\n",
    "    else:\n",
    "    return super(NewBlogView, self).dispatch(request, *args, **kwargs)\n",
    "```"
   ]
  },
  {
   "cell_type": "markdown",
   "metadata": {},
   "source": [
    "The dispatch method is one of the most useful methods to override on generic\n",
    "views. It is the first method that is called when the view URL is hit, and decides\n",
    "based on the request type whether to call the `get` or `post` methods on the view class\n",
    "to process the request. Thus, if you ever want to have some code that is run on all\n",
    "request types (GET, POST, HEAD, PUT, and so on), dispatch is the best method\n",
    "to override."
   ]
  },
  {
   "cell_type": "markdown",
   "metadata": {},
   "source": [
    "In this case, we make sure that the user doesn't already have a blog object associated\n",
    "with their account. If they do, we return the `Not Allowed` response by using the\n",
    "`HttpResponseForbidden` response class. Try it out. You shouldn't even be able to\n",
    "access the new blog page now if you have already created a blog before and should\n",
    "see an error instead."
   ]
  },
  {
   "cell_type": "markdown",
   "metadata": {},
   "source": [
    "One last thing. Try accessing the URL `http://127.0.0.1:8000/blog/new/` after\n",
    "logging out. Notice how you'll get an `AnonymousUser` object is not iterable error. This\n",
    "is because even though you're not logged in as a registered user, the code for the\n",
    "view still assumes that you are. Also, you should not be able to access the new blog\n",
    "page without logging in first. To fix this, first put these two import lines at the top of\n",
    "`blog/views.py`:"
   ]
  },
  {
   "cell_type": "markdown",
   "metadata": {},
   "source": [
    "```python\n",
    "from django.utils.decorators import method_decorator\n",
    "from django.contrib.auth.decorators import login_required\n",
    "```"
   ]
  },
  {
   "cell_type": "markdown",
   "metadata": {},
   "source": [
    "Then change the definition line of the dispatch method to match the following:"
   ]
  },
  {
   "cell_type": "markdown",
   "metadata": {},
   "source": [
    "```python\n",
    "@method_decorator(login_required)\n",
    "def dispatch(self, request, *args, **kwargs):\n",
    "```"
   ]
  },
  {
   "cell_type": "markdown",
   "metadata": {},
   "source": [
    "If you try to access the page now without logging in first, you should see a `Page not\n",
    "found (404)` Django error page. If you look at the URL for that page, you'll see that\n",
    "Django is trying to serve the `/accounts/login/` URL. That's the default behavior for\n",
    "the `login_required` decorator. To fix this we need to change the value of the `LOGIN_URL` variable in our settings file. Put this in `blueblog/settings.py`:"
   ]
  },
  {
   "cell_type": "markdown",
   "metadata": {},
   "source": [
    "```python\n",
    "LOGIN_URL = '/login/'\n",
    "```"
   ]
  },
  {
   "cell_type": "markdown",
   "metadata": {},
   "source": [
    "Try accessing `http://localhost:8000/blog/new/` now and you will be redirected\n",
    "to the login page. If you put in the correct username/password combination, you\n",
    "will be logged in and taken to the page you were trying to access before, the **Create\n",
    "New Blog** page. This functionality is provided to us for free because we use the\n",
    "built-in login view of Django."
   ]
  },
  {
   "cell_type": "markdown",
   "metadata": {},
   "source": [
    "We'll discuss the `method_decorator` and the `login_required` decorator in later\n",
    "chapters. If you want more info on these now, look at their documentation in the\n",
    "Django docs. It does an excellent job of explaining both."
   ]
  },
  {
   "cell_type": "markdown",
   "metadata": {},
   "source": [
    "You will find the documentation for `login_required` at <https://docs.djangoproject.com/en/stable/topics/auth/default/#the-loginrequired-\n",
    "decorator>. For the `method_decorator`, you can look at <https://docs.djangoproject.com/en/stable/topics/class-based-views/intro/#decorating-the-class>."
   ]
  },
  {
   "cell_type": "markdown",
   "metadata": {},
   "source": [
    "### The home page "
   ]
  },
  {
   "cell_type": "markdown",
   "metadata": {},
   "source": [
    "It's high time that we created a proper home page for our users instead of showing a\n",
    "blank page with some navigation links. Also, it seems very unprofessional to show\n",
    "users the **Create New Blog** link when it leads to an error page. Let's fix all these\n",
    "issues by creating a home page view that contains a bit of intelligence. We'll put the\n",
    "code for our home page view in the blog application. Technically it can go anywhere,\n",
    "but I personally like to put such views in either the main application of the project\n",
    "(the blog in this case) or create a new application for such common views. In your\n",
    "`blog/views.py` file, import the `TemplateView` generic view from `django.views.generic import TemplateView` and put the following code for the view:"
   ]
  },
  {
   "cell_type": "markdown",
   "metadata": {},
   "source": [
    "```python\n",
    "class HomeView(TemplateView):\n",
    "    template_name = 'home.html'\n",
    "\n",
    "    def get_context_data(self, **kwargs):\n",
    "        ctx = super(HomeView, self).get_context_data(**kwargs)\n",
    "\n",
    "        if self.request.user.is_authenticated():\n",
    "            ctx['has_blog'] = Blog.objects.filter(owner=self.request.user).exists()\n",
    "\n",
    "        return ctx\n",
    "```"
   ]
  },
  {
   "cell_type": "markdown",
   "metadata": {},
   "source": [
    "Tie this new view to the home page URL by importing it in `blueblog/urls.py`\n",
    "using `from blog.views import HomeView` and changing the existing root URL\n",
    "config from `url(r'^$', TemplateView.as_view(template_name='base.html'),\n",
    "name='home')`, to `url(r'^$', HomeView.as_view(), name='home'),`."
   ]
  },
  {
   "cell_type": "markdown",
   "metadata": {},
   "source": [
    "Since the `TemplateView` class is no longer required, you can remove it from the\n",
    "imports. You should already have a good idea of what we're doing here. The\n",
    "only new thing is the `TemplateView` and it's `get_context_data` method. The\n",
    "`TemplateView` is another one of Djangos built-in generic views. We configure it by\n",
    "providing a template file name and the view renders that template by passing it the\n",
    "dictionary returned by our `get_context_data` function as the context. Here, we\n",
    "are setting the `has_blog` context variable to `True` if the user has an existing blog\n",
    "associated with his account."
   ]
  },
  {
   "cell_type": "markdown",
   "metadata": {},
   "source": [
    "With our view done, we'll need to make a few changes to our `base.html` template\n",
    "and add a new `home.html` template. For the `base.html` template, change the code in\n",
    "the header block to match:"
   ]
  },
  {
   "cell_type": "markdown",
   "metadata": {},
   "source": [
    "```html\n",
    "{% block header %}\n",
    "<ul>\n",
    "    {% if request.user.is_authenticated %}\n",
    "    {% block logged_in_nav %}{% endblock %}\n",
    "    <li><a href=\"{% url \"logout\" %}\">Logout</a></li>\n",
    "    {% else %}\n",
    "    <li><a href=\"{% url \"login\" %}\">Login</a></li>\n",
    "    <li><a href=\"{% url \"user_registration\"%}\">Register Account</a></li>\n",
    "    {% endif %}\n",
    "</ul>\n",
    "{% endblock %}\n",
    "```"
   ]
  },
  {
   "cell_type": "markdown",
   "metadata": {},
   "source": [
    "We've removed the **Create New Blog** link and replaced it with another block called\n",
    "`logged_in_nav`. The idea is that each page that inherits from the base template can\n",
    "add navigation links here to be shown to a logged in user. Finally, create a new file\n",
    "called `blog/templates/home.html` and add the following code:"
   ]
  },
  {
   "cell_type": "markdown",
   "metadata": {},
   "source": [
    "```html\n",
    "{% extends \"base.html\" %}\n",
    "\n",
    "{% block logged_in_nav %}\n",
    "{% if not has_blog %}\n",
    "<li><a href=\"{% url \"new-blog\" %}\">Create New Blog</a></li>\n",
    "{% else %}\n",
    "<li><a href=\"\">Edit Blog Settings</a></li>\n",
    "{% endif %}\n",
    "{% endblock %}\n",
    "```"
   ]
  },
  {
   "cell_type": "markdown",
   "metadata": {},
   "source": [
    "Just like we discussed, the home page template overrides the `logged_in_nav` block\n",
    "to add a link to create a new blog if the user doesn't have an existing blog, or to edit\n",
    "the settings for the existing blog. You can test that all of our changes work by visiting\n",
    "the home page with a user that has a blog already created, and a new user without a\n",
    "blog. You'll see that link to create a new blog only shows up if the user hasn't already\n",
    "created one."
   ]
  },
  {
   "cell_type": "markdown",
   "metadata": {},
   "source": [
    "Next, let's work on the settings view."
   ]
  },
  {
   "cell_type": "markdown",
   "metadata": {},
   "source": [
    "### The blog settings view "
   ]
  },
  {
   "cell_type": "markdown",
   "metadata": {},
   "source": [
    "Put the code for the view in `blog/views.py`:"
   ]
  },
  {
   "cell_type": "markdown",
   "metadata": {},
   "source": [
    "```python\n",
    "class UpdateBlogView(UpdateView):\n",
    "    form_class = BlogForm\n",
    "    template_name = 'blog_settings.html'\n",
    "    success_url = '/'\n",
    "    model = Blog\n",
    "    \n",
    "    @method_decorator(login_required)\n",
    "    def dispatch(self, request, *args, **kwargs):\n",
    "        return super(UpdateBlogView, self).dispatch(request, *args, **kwargs)\n",
    "```"
   ]
  },
  {
   "cell_type": "markdown",
   "metadata": {},
   "source": [
    "You'll need to import `UpdateView` from `django.views.generi`c. Also, update the\n",
    "`get_context_data` method of the `HomeView` in the same file to match this one:"
   ]
  },
  {
   "cell_type": "markdown",
   "metadata": {},
   "source": [
    "```python\n",
    "def get_context_data(self, **kwargs):\n",
    "    ctx = super(HomeView, self).get_context_data(**kwargs)\n",
    "\n",
    "    if self.request.user.is_authenticated():\n",
    "        if Blog.objects.filter(owner=self.request.user).exists():\n",
    "            ctx['has_blog'] = True\n",
    "            ctx['blog'] = Blog.objects.get(owner=self.request.user)\n",
    "    return ctx\n",
    "```"
   ]
  },
  {
   "cell_type": "markdown",
   "metadata": {},
   "source": [
    "Change the `blog/templates/blog_settings.html` to look like the following:"
   ]
  },
  {
   "cell_type": "markdown",
   "metadata": {},
   "source": [
    "```html\n",
    "{% extends \"base.html\" %}\n",
    "\n",
    "{% block content %}\n",
    "<h1>Blog Settings</h1>\n",
    "<form action=\"\" method=\"post\">{% csrf_token %}\n",
    "    {{ form.as_p }}\n",
    "    \n",
    "    <input type=\"submit\" value=\"Submit\" />\n",
    "</form>\n",
    "{% endblock %}\n",
    "```"
   ]
  },
  {
   "cell_type": "markdown",
   "metadata": {},
   "source": [
    "The only change we've done is to remove the URL we defined explicitly in the form\n",
    "action before. This way, the form will always submit to whatever URL it is served\n",
    "from. This is important as we'll see later."
   ]
  },
  {
   "cell_type": "markdown",
   "metadata": {},
   "source": [
    "Update `blog/templates/home.html` as shown in the following code:"
   ]
  },
  {
   "cell_type": "markdown",
   "metadata": {},
   "source": [
    "```html\n",
    "{% extends \"base.html\" %}\n",
    "\n",
    "{% block logged_in_nav %}\n",
    "{% if not has_blog %}\n",
    "<li><a href=\"{% url \"new-blog\" %}\">Create New Blog</a></li>\n",
    "{% else %}\n",
    "<li><a href=\"{% url \"update-blog\" pk=blog.pk %}\">Edit Blog Settings</a></li>\n",
    "{% endif %}\n",
    "{% endblock %}\n",
    "```"
   ]
  },
  {
   "cell_type": "markdown",
   "metadata": {},
   "source": [
    "Finally, import the `UpdateBlogView` in `blueblog/urls.py` and add the following to\n",
    "the urlpatterns."
   ]
  },
  {
   "cell_type": "markdown",
   "metadata": {},
   "source": [
    "```python\n",
    "url(r'^blog/(?P<pk>\\d+)/update/$', UpdateBlogView.as_view(),\n",
    "name='update-blog'),\n",
    "```"
   ]
  },
  {
   "cell_type": "markdown",
   "metadata": {},
   "source": [
    "That's it. Visit the home page with the user you used to create the blog in the last\n",
    "section and this time you'll see a link to edit your blog instead of creating a new one.\n",
    "The interesting thing to look at here in the `UpdateView` subclass; `UpdateBlogView`.\n",
    "We only defined the form class, the template name, the success URL and the model\n",
    "to get a complete working update view. With these things configured, and our URLs\n",
    "set up so that the primary key of the object we want to edit is passed to our view\n",
    "as the keyword argument named pk, the `UpdateView` displays a form tied to the\n",
    "instance of the model we want to edit. In the home view, we add the users blog to\n",
    "the context and use it in the home template to generate a URL for the update view."
   ]
  },
  {
   "cell_type": "markdown",
   "metadata": {},
   "source": [
    "In the form, we needed to change the action attribute of the form so that on submit,\n",
    "it posted to the current page. Since we use the same template in both the create and\n",
    "update views, we need the form to submit to whatever URL it is rendered from.\n",
    "As you'll see in the upcoming projects as well, it is a common practice in Django to\n",
    "use the same template with similar views. And the way Django generic views are\n",
    "structured makes it easier to do."
   ]
  },
  {
   "cell_type": "markdown",
   "metadata": {},
   "source": [
    "### Creating and editing blog posts"
   ]
  },
  {
   "cell_type": "markdown",
   "metadata": {},
   "source": [
    "Let's create the views that users can use to create and edit blog posts. Let's start with\n",
    "creating a new blog post. We already created the model earlier, so let's start with the\n",
    "form and template we'll use. In `blog/forms.py`, create this form:"
   ]
  },
  {
   "cell_type": "markdown",
   "metadata": {},
   "source": [
    "```python\n",
    "class BlogPostForm(forms.ModelForm):\n",
    "    class Meta:\n",
    "        model = BlogPost\n",
    "        fields = ['title',\n",
    "                  'body']\n",
    "```            "
   ]
  },
  {
   "cell_type": "markdown",
   "metadata": {},
   "source": [
    "You'll need to import the `BlogPost` model as well. For the template, create a new file\n",
    "`blog/templates/blog_post.html`, and add the following content:"
   ]
  },
  {
   "cell_type": "markdown",
   "metadata": {},
   "source": [
    "```html\n",
    "{% extends \"base.html\" %}\n",
    "\n",
    "{% block content %}\n",
    "<h1>Create New Blog Post</h1>\n",
    "<form action=\"\" method=\"post\">{% csrf_token %}\n",
    "    {{ form.as_p }}\n",
    "\n",
    "    <input type=\"submit\" value=\"Submit\" />\n",
    "</form>\n",
    "{% endblock %}\n",
    "```"
   ]
  },
  {
   "cell_type": "markdown",
   "metadata": {},
   "source": [
    "In `blog/views.py`, import the `BlogPostForm` and `BlogPost` model and then create\n",
    "the `NewBlogPostView`:"
   ]
  },
  {
   "cell_type": "markdown",
   "metadata": {},
   "source": [
    "```python\n",
    "class NewBlogPostView(CreateView):\n",
    "    form_class = BlogPostForm\n",
    "    template_name = 'blog_post.html'\n",
    "\n",
    "    @method_decorator(login_required)\n",
    "    def dispatch(self, request, *args, **kwargs):\n",
    "        return super(NewBlogPostView, self).dispatch(request, *args, **kwargs)\n",
    "\n",
    "    def form_valid(self, form):\n",
    "        blog_post_obj = form.save(commit=False)\n",
    "        blog_post_obj.blog = Blog.objects.get(owner=self.request.user)\n",
    "        blog_post_obj.slug = slugify(blog_post_obj.title)\n",
    "        blog_post_obj.is_published = True\n",
    "        \n",
    "        blog_post_obj.save()\n",
    "        \n",
    "        return HttpResponseRedirect(reverse('home'))\n",
    "```"
   ]
  },
  {
   "cell_type": "markdown",
   "metadata": {},
   "source": [
    "In `blueblog/urls.py`, import the preceding view and add the following URL\n",
    "pattern:"
   ]
  },
  {
   "cell_type": "markdown",
   "metadata": {},
   "source": [
    "```python\n",
    "url(r'blog/post/new/$', NewBlogPostView.as_view(), name='new-blogpost'),\n",
    "```"
   ]
  },
  {
   "cell_type": "markdown",
   "metadata": {},
   "source": [
    "And finally, change the homepage template `blog/template/home.html` to link to\n",
    "our new page:"
   ]
  },
  {
   "cell_type": "markdown",
   "metadata": {},
   "source": [
    "```html\n",
    "{% extends \"base.html\" %}\n",
    "\n",
    "{% block logged_in_nav %}\n",
    "    {% if not has_blog %}\n",
    "    <li><a href=\"{% url \"new-blog\" %}\">Create New Blog</a></li>\n",
    "    {% else %}\n",
    "    <li><a href=\"{% url \"update-blog\" pk=blog.pk %}\">Edit Blog Settings</a></li>\n",
    "    <li><a href=\"{% url \"new-blog-post\" %}\">Create New Blog Post</a></li>\n",
    "    {% endif %}\n",
    "{% endblock %}\n",
    "```"
   ]
  },
  {
   "cell_type": "markdown",
   "metadata": {},
   "source": [
    "All of this code should be pretty familiar to you by now. We've used model forms\n",
    "and generic views to get the functionality we need, and all we needed to do was\n",
    "configure some stuff. We haven't written one line of code to create the relevant form\n",
    "fields, validate the user input, and to handle the various error and success scenarios."
   ]
  },
  {
   "cell_type": "markdown",
   "metadata": {},
   "source": [
    "You can test out our new view by using the **Create New Blog Post** link in the\n",
    "navigation on the home page."
   ]
  },
  {
   "cell_type": "markdown",
   "metadata": {},
   "source": [
    "### Editing blog posts"
   ]
  },
  {
   "cell_type": "markdown",
   "metadata": {},
   "source": [
    "As we did before with the Blog model, we'll create an edit view for the blog post\n",
    "using the same template as the create view. But first, we need to add a way for the\n",
    "user to see his blog posts with links to the edit page. To keep things simple, let's\n",
    "add this list to our home page view. In the **HomeView**, edit the `get_context_data`\n",
    "method to match the following:"
   ]
  },
  {
   "cell_type": "markdown",
   "metadata": {},
   "source": [
    "```python\n",
    "def get_context_data(self, **kwargs):\n",
    "    ctx = super(HomeView, self).get_context_data(**kwargs)\n",
    "\n",
    "    if self.request.user.is_authenticated():\n",
    "        if Blog.objects.filter(owner=self.request.user).exists():\n",
    "        ctx['has_blog'] = True\n",
    "        blog = Blog.objects.get(owner=self.request.user)\n",
    "        ctx['blog'] = blog\n",
    "        ctx['blog_posts'] = BlogPost.objects.filter(blog=blog)\n",
    "\n",
    "    return ctx\n",
    "```"
   ]
  },
  {
   "cell_type": "markdown",
   "metadata": {},
   "source": [
    "At the end of `blog/templates/home.html`; after the `logged_in_nav` block ends,\n",
    "add the following code to override the content block and show the blog posts:"
   ]
  },
  {
   "cell_type": "markdown",
   "metadata": {},
   "source": [
    "```html\n",
    "{% block content %}\n",
    "<h1>Blog Posts</h1>\n",
    "<ul>\n",
    "    {% for post in blog_posts %}\n",
    "    <li>{{ post.title }} | <a href=\"\">Edit Post</a></li>\n",
    "    {% endfor %}\n",
    "</ul>\n",
    "{% endblock %}\n",
    "```"
   ]
  },
  {
   "cell_type": "markdown",
   "metadata": {},
   "source": [
    "If you visit the home page now, you'll see a list of posts that the user has made. Let's\n",
    "create the functionality to edit the posts. Create the following view in `blog/views.py`:"
   ]
  },
  {
   "cell_type": "markdown",
   "metadata": {},
   "source": [
    "```python\n",
    "class UpdateBlogPostView(UpdateView):\n",
    "    form_class = BlogPostForm\n",
    "    template_name = 'blog_post.html'\n",
    "    success_url = '/'\n",
    "    model = BlogPost\n",
    "\n",
    "    @method_decorator(login_required)\n",
    "    def dispatch(self, request, *args, **kwargs):\n",
    "        return super(UpdateBlogPostView, self).dispatch(request, *args, **kwargs)\n",
    "```"
   ]
  },
  {
   "cell_type": "markdown",
   "metadata": {},
   "source": [
    "Import this view into your `blueblog/urls.py` file and add the following pattern:"
   ]
  },
  {
   "cell_type": "markdown",
   "metadata": {},
   "source": [
    "```python\n",
    "url(r'blog/post/(?P<pk>\\d+)/update/$', UpdateBlogPostView.as_view(),\n",
    "name='update-blog-post'),\n",
    "```"
   ]
  },
  {
   "cell_type": "markdown",
   "metadata": {},
   "source": [
    "Edit the list of blog posts we created earlier in the home page template to add the\n",
    "URL for editing a post:"
   ]
  },
  {
   "cell_type": "markdown",
   "metadata": {},
   "source": [
    "```html\n",
    "{% for post in blog_posts %}\n",
    "<li>{{ post.title }} | <a href=\"{% url \"update-blog-post\" pk=post.pk %}\">Edit Post</a></li>\n",
    "{% endfor %}\n",
    "```"
   ]
  },
  {
   "cell_type": "markdown",
   "metadata": {},
   "source": [
    "If you open the home page now, you'll see that you can click on the Edit Post link\n",
    "and that it takes you to the editing page for the blog post. One last thing we need\n",
    "to fix is the title of the edit blog post page. You may have noticed that even when\n",
    "editing, the title said **Create New Blog Post**. In order to fix this, replace the h1 tag\n",
    "inside `blog/templates/blog_post.html` with the following:"
   ]
  },
  {
   "cell_type": "markdown",
   "metadata": {},
   "source": [
    "```html\n",
    "<h1>{% if object %}Edit{% else %}Create{% endif %} Blog Post</h1>\n",
    "```"
   ]
  },
  {
   "cell_type": "markdown",
   "metadata": {},
   "source": [
    "The context passed to the template by the UpdateView includes a variable called\n",
    "object. This is the instance that the user is currently editing. We check for the\n",
    "existence of this variable in the template. If we find it, we know that we're editing an\n",
    "existing blog post. If not, we know it's a new blog post being created. We detect this\n",
    "and set the title accordingly."
   ]
  },
  {
   "cell_type": "markdown",
   "metadata": {},
   "source": [
    "### Viewing blog posts"
   ]
  },
  {
   "cell_type": "markdown",
   "metadata": {},
   "source": [
    "To add a view to show blog posts, add the following view class to `blog/views.py`:"
   ]
  },
  {
   "cell_type": "markdown",
   "metadata": {},
   "source": [
    "```python\n",
    "class BlogPostDetailsView(DetailView):\n",
    "    model = BlogPost\n",
    "    template_name = 'blog_post_details.html'\n",
    "```"
   ]
  },
  {
   "cell_type": "markdown",
   "metadata": {},
   "source": [
    "Remember to import `DetailView` generic view from `django.views.generic`.\n",
    "Next, create the `blog/templates/blog_post_details.html` template with the\n",
    "following code:"
   ]
  },
  {
   "cell_type": "markdown",
   "metadata": {},
   "source": [
    "```html\n",
    "{% extends \"base.html\" %}\n",
    "\n",
    "{% block content %}\n",
    "<h1>{{ object.title }}</h1>\n",
    "<p>{{ object.body }}</p>\n",
    "{% endblock %}\n",
    "```"
   ]
  },
  {
   "cell_type": "markdown",
   "metadata": {},
   "source": [
    "Import the details view and add the following URL pattern to the `urls.py` file:"
   ]
  },
  {
   "cell_type": "markdown",
   "metadata": {},
   "source": [
    "```python\n",
    "url(r'blog/post/(?P<pk>\\d+)/$', BlogPostDetailsView.as_view(),\n",
    "name='blog-post-details'),\n",
    "```"
   ]
  },
  {
   "cell_type": "markdown",
   "metadata": {},
   "source": [
    "Finally, change the list of blog posts in the home page template to link to the post\n",
    "details page from the post title:"
   ]
  },
  {
   "cell_type": "markdown",
   "metadata": {},
   "source": [
    "```html\n",
    "{% for post in blog_posts %}\n",
    "<li><a href=\"{% url \"blog-post-details\" pk=post.pk %}\">{{ post.\n",
    "title }}</a> | <a href=\"{% url \"update-blog-post\" pk=post.pk %}\">Edit\n",
    "Post</a></li>\n",
    "{% endfor %}\n",
    "```"
   ]
  },
  {
   "cell_type": "markdown",
   "metadata": {},
   "source": [
    "On the home page, the blog post titles should now link to the details page."
   ]
  },
  {
   "cell_type": "markdown",
   "metadata": {},
   "source": [
    "## Multiple users"
   ]
  },
  {
   "cell_type": "markdown",
   "metadata": {},
   "source": [
    "Until now, we've only been playing with a single user account and making our site\n",
    "work for that one user. Let's get to the exciting part and add sharing posts to other\n",
    "users blogs. However, once multiple users get added to the mix, there is one thing\n",
    "we should look at before moving forward."
   ]
  },
  {
   "cell_type": "markdown",
   "metadata": {},
   "source": [
    "### Security"
   ]
  },
  {
   "cell_type": "markdown",
   "metadata": {},
   "source": [
    "To demonstrate the complete lack of security in our application, let's create a new\n",
    "user account. Log out using the header link and register a new account. Next, log in\n",
    "with that user. You should end up on the home page and should not see any blog\n",
    "posts in the list."
   ]
  },
  {
   "cell_type": "markdown",
   "metadata": {},
   "source": [
    "Now, type in the URL `http://127.0.0.1:8000/blog/post/1/update/`. You\n",
    "should see the blog post we created from our first user in the edit view. Change\n",
    "either the title or the body of the blog post and click save. You are redirected back\n",
    "to the home page and it appears that the save has succeeded. Log in back to the\n",
    "first account and you'll see that the title of the blog post has been updated. This is a\n",
    "serious security breach and must be fixed, otherwise, any user can edit the blog posts\n",
    "for any other user without any restrictions."
   ]
  },
  {
   "cell_type": "markdown",
   "metadata": {},
   "source": [
    "The simple way in which we are able to solve this problem again demonstrates the\n",
    "power and simplicity of the Django framework. Add the following method to the\n",
    "`UpdateBlogPostView` class:"
   ]
  },
  {
   "cell_type": "markdown",
   "metadata": {},
   "source": [
    "```html\n",
    "def get_queryset(self):\n",
    "    queryset = super(UpdateBlogPostView, self).get_queryset()\n",
    "    return queryset.filter(blog__owner=self.request.user)\n",
    "```"
   ]
  },
  {
   "cell_type": "markdown",
   "metadata": {},
   "source": [
    "That's it! Try opening `http://127.0.0.1:8000/blog/post/1/update/` again. This\n",
    "time instead of allowing you to edit the blog post of another user, you see a 404 page."
   ]
  },
  {
   "cell_type": "markdown",
   "metadata": {},
   "source": [
    "What this small piece of code does can be understood after looking at how the\n",
    "`UpdateView` generic view works. The generic view calls a number of small methods,\n",
    "each of which does a specific job. Here's a list of some of the methods that are defined\n",
    "by the `UpdateView` class:"
   ]
  },
  {
   "cell_type": "markdown",
   "metadata": {},
   "source": [
    "* `get_object`\n",
    "* `get_queryset`\n",
    "* `get_context_object_name`\n",
    "* `get_context_data`\n",
    "* `get_slug_field`"
   ]
  },
  {
   "cell_type": "markdown",
   "metadata": {},
   "source": [
    "The thing about having small methods like these is that in order to change the\n",
    "functionality of subclasses, we can override only one of these and fulfill our purpose,\n",
    "like we've done here. Read the Django documentation to figure out what these and\n",
    "many of the other methods used by the generic views do."
   ]
  },
  {
   "cell_type": "markdown",
   "metadata": {},
   "source": [
    "For our case, the `get_queryset` method, as the name suggests, gets the queryset\n",
    "within which the object to edit is searched for. We get the default queryset from\n",
    "the super method (which just returns a `self.model.objects.all()`) and return a\n",
    "version further filtered to only include blog posts owned by the currently logged in\n",
    "user. You should be familiar with relationship filters. If these are new to you, read the\n",
    "Django tutorial to familiarize yourself with the basics of filtering model querysets."
   ]
  },
  {
   "cell_type": "markdown",
   "metadata": {},
   "source": [
    "The reason you now see a 404 if you try to access someone else's blog post is that\n",
    "when the `CreateView` tries to get the object to edit, it receives a queryset that only\n",
    "includes blog posts owned by the currently logged in user. Since we're trying to edit\n",
    "someone else's blog post, it's not included in that queryset. Not finding the object to\n",
    "edit, the `CreateView` returns a 404."
   ]
  },
  {
   "cell_type": "markdown",
   "metadata": {},
   "source": [
    "### Sharing blog post "
   ]
  },
  {
   "cell_type": "markdown",
   "metadata": {},
   "source": [
    "The blog post sharing feature allows users to select the blog of another user they\n",
    "would like to share their blog posts with. This would allow users to gain more\n",
    "readers by sharing their content on the blogs of more popular writers, and readers\n",
    "would get to read more relevant content in one place instead of needing to discover\n",
    "more blogs. "
   ]
  },
  {
   "cell_type": "markdown",
   "metadata": {},
   "source": [
    "The first step in making sharing possible is to add a field on the BlogPost model to\n",
    "indicate which blogs the post is shared with. Add this field to the BlogPost model in\n",
    "`blog/models.py`:"
   ]
  },
  {
   "cell_type": "markdown",
   "metadata": {},
   "source": [
    "```python\n",
    "shared_to = models.ManyToManyField(Blog, related_name='shared_posts')\n",
    "```"
   ]
  },
  {
   "cell_type": "markdown",
   "metadata": {},
   "source": [
    "We are simply adding a basic Django many to many relationship field. If you'd like\n",
    "to review your knowledge of the features a many to many field provides, I advice\n",
    "you take a look at the Django tutorial again, specifically, the part that deals with\n",
    "M2M relationships."
   ]
  },
  {
   "cell_type": "markdown",
   "metadata": {},
   "source": [
    "One thing to note about the new field is that we had to specify related_name\n",
    "explicitly. As you might know, whenever you associate a model with another using\n",
    "any relationship field (`ForeignKey`, `OneToMany`, `ManyToMany`) Django automatically\n",
    "adds an attribute to the other model that allows easy access to the linked model."
   ]
  },
  {
   "cell_type": "markdown",
   "metadata": {},
   "source": [
    "Before we added the `shared_to` field, the `BlogPost` model already had a\n",
    "`ForeignKey` pointed at the `Blog` model. If you looked at the attributes available on\n",
    "the `Blog` model (using the shell), you would have found a `blogpost_set` attribute,\n",
    "which was a manager object that allowed access to `BlogPost` models that referenced\n",
    "that `Blog`. If we try to add the `ManyToMany` field without a `related_name`, Django\n",
    "would complain because the new relationship would also try to add a reverse\n",
    "relationship, also called `blogpost_set`. Because of this we need to give the reverse\n",
    "relationship another name."
   ]
  },
  {
   "cell_type": "markdown",
   "metadata": {},
   "source": [
    "After defining the M2M relationship, you can now access blog posts shared with a\n",
    "blog model by using the `shared_posts` attributes `all()` method on the `Blog` model.\n",
    "We'll see an example of that later."
   ]
  },
  {
   "cell_type": "markdown",
   "metadata": {},
   "source": [
    "After defining the new field, run the following commands to migrate your DB to\n",
    "create the new relationship:"
   ]
  },
  {
   "cell_type": "markdown",
   "metadata": {},
   "source": [
    "```sh\n",
    "> python manage.py makemigrations blog\n",
    "> python manage.py migrate blog\n",
    "```"
   ]
  },
  {
   "cell_type": "markdown",
   "metadata": {},
   "source": [
    "Next, let's create the view that allows the user to select a blog to share their post with.\n",
    "Add this to `blog/views.py`:"
   ]
  },
  {
   "cell_type": "markdown",
   "metadata": {},
   "source": [
    "```python\n",
    "class ShareBlogPostView(TemplateView):\n",
    "    template_name = 'share_blog_post.html'\n",
    "\n",
    "    @method_decorator(login_required)\n",
    "    def dispatch(self, request, *args, **kwargs):\n",
    "        return super(ShareBlogPostView, self).dispatch(request, *args, **kwargs)\n",
    "\n",
    "    def get_context_data(self, pk, **kwargs):\n",
    "        blog_post = BlogPost.objects.get(pk=pk)\n",
    "        currently_shared_with = blog_post.shared_to.all()\n",
    "        currently_shared_with_ids = map(lambda x: x.pk, currently_shared_with)\n",
    "        exclude_from_can_share_list = [blog_post.blog.pk] +\n",
    "            list(currently_shared_with_ids)\n",
    "        can_be_shared_with = Blog.objects.exclude(pk__in=exclude_from_can_share_list)\n",
    "        \n",
    "        return {'post': blog_post,\n",
    "                'is_shared_with': currently_shared_with,\n",
    "                'can_be_shared_with': can_be_shared_with }\n",
    "```"
   ]
  },
  {
   "cell_type": "markdown",
   "metadata": {},
   "source": [
    "This view is a subclass of the template view. You should have a pretty good\n",
    "idea of how it works by now. The important bit to look at here is the code inside the\n",
    "`get_context_data` method. First, we get the blog post object using the `id` passed in\n",
    "the keyword arguments gathered from the parsed URL pattern. Next, we get a list of\n",
    "all blog objects this post has been shared with. We do this because we don't want to\n",
    "confuse the user by allowing sharing to a blog that the post is already shared with."
   ]
  },
  {
   "cell_type": "markdown",
   "metadata": {},
   "source": [
    "The next line of code uses the Python built-in `map` method on the queryset of the\n",
    "blogs the post is shared with. `map` is one of the most useful methods when working\n",
    "with any kind of lists (or list-like objects) in Python. It takes as it's first argument\n",
    "a function that takes a single argument and returns one argument, and a list as it's\n",
    "second argument. `ma`p then calls the given function on each element in the input list\n",
    "and gathers the results in a final list that is returned. Here, we use a `lambda` to extract\n",
    "the ID of the blog objects that this post is already shared with."
   ]
  },
  {
   "cell_type": "markdown",
   "metadata": {},
   "source": [
    "Finally, we can get the list of blog objects that this post can be shared with. We use\n",
    "the `exclude` method to not include the blog objects the post is already shared with.\n",
    "We pass this to the template in the context. Next, let's take a look at the template that\n",
    "you need to create in `blog/templates/share_blog_post.html`:"
   ]
  },
  {
   "cell_type": "markdown",
   "metadata": {},
   "source": [
    "```html\n",
    "{% extends \"base.html\" %}\n",
    "\n",
    "{% block content %}\n",
    "{% if can_be_shared_with %}\n",
    "<h2>Share {{ post.title }}</h2>\n",
    "<ul>\n",
    "    {% for blog in can_be_shared_with %}\n",
    "    <li><a href=\"{% url \"share-post-with-blog\" post_pk=post.pk blog_\n",
    "    pk=blog.pk %}\">{{ blog.title }}</a></li>\n",
    "    {% endfor %}\n",
    "</ul>\n",
    "{% endif %}\n",
    "\n",
    "{% if is_shared_with %}\n",
    "<h2>Stop sharing with:</h2>\n",
    "<ul>\n",
    "    {% for blog in is_shared_with %}\n",
    "    <li><a href=\"{% url \"stop-sharing-post-with-blog\" post_pk=post.pk\n",
    "    blog_pk=blog.pk %}\">{{ blog.title }}</a></li>\n",
    "    {% endfor %}\n",
    "</ul>\n",
    "{% endif %}\n",
    "{% endblock %}\n",
    "```"
   ]
  },
  {
   "cell_type": "markdown",
   "metadata": {},
   "source": [
    "There's nothing special in this template. Let's move on to the two URLs and views\n",
    "that this refers to, since without those we can't render this template. First, let's look at\n",
    "`SharepostWithBlog`, which you need to create in `blog/views.py`. You will need to\n",
    "add this import line to the top of the file as well:"
   ]
  },
  {
   "cell_type": "markdown",
   "metadata": {},
   "source": [
    "```python\n",
    "from django.views.generic import View\n",
    "```"
   ]
  },
  {
   "cell_type": "markdown",
   "metadata": {},
   "source": [
    "The code for the view is this:"
   ]
  },
  {
   "cell_type": "markdown",
   "metadata": {},
   "source": [
    "```python\n",
    "class SharePostWithBlog(View):\n",
    "    @method_decorator(login_required)\n",
    "    def dispatch(self, request, *args, **kwargs):\n",
    "        return super(SharePostWithBlog, self).dispatch(request, *args, **kwargs)\n",
    "\n",
    "    def get(self, request, post_pk, blog_pk):\n",
    "        blog_post = BlogPost.objects.get(pk=post_pk)\n",
    "        if blog_post.blog.owner != request.user:\n",
    "            return HttpResponseForbidden('You can only share posts that you created')\n",
    "\n",
    "        blog = Blog.objects.get(pk=blog_pk)\n",
    "        blog_post.shared_to.add(blog)\n",
    "\n",
    "        return HttpResponseRedirect(reverse('home'))\n",
    "```"
   ]
  },
  {
   "cell_type": "markdown",
   "metadata": {},
   "source": [
    "Import this into `blueblog/urls.py` and add it with the following URL pattern:"
   ]
  },
  {
   "cell_type": "markdown",
   "metadata": {},
   "source": [
    "```python\n",
    "url(r'blog/post/(?P<pk>\\d+)/share/$', SharePostWithBlog.as_view(),\n",
    "name='share-blog-post-with-blog'),\n",
    "```"
   ]
  },
  {
   "cell_type": "markdown",
   "metadata": {},
   "source": [
    "Unlike all our previous views, this view doesn't fit nicely into any of the generic\n",
    "views that Django provides. But Django has a base generic view that makes our life\n",
    "easier than creating a function that handles the request."
   ]
  },
  {
   "cell_type": "markdown",
   "metadata": {},
   "source": [
    "The `View` generic view is used whenever you need something completely custom\n",
    "to handle a request. Like all generic views, it has a dispatch method that you can\n",
    "override to intercept a request before any further processing is done. Here, we make\n",
    "sure that the user is logged in before allowing them to proceed."
   ]
  },
  {
   "cell_type": "markdown",
   "metadata": {},
   "source": [
    "In a `View` subclass, you create methods with the same name as the request types\n",
    "you want to handle. Here, we create a `get` method as we only care about handling\n",
    "`GET` requests. The `View` class takes care of calling our method when the correct\n",
    "request method is used by the client. In our get method, we're doing a basic check\n",
    "to see if the user owns the blog post. If they do, we add the blog to the `shared_to`\n",
    "`ManyToMany relationship of the `BlogPost` model."
   ]
  },
  {
   "cell_type": "markdown",
   "metadata": {},
   "source": [
    "The last view we need to create is one to allow the user to remove a blog post they\n",
    "have already shared. The code for that is shown here:"
   ]
  },
  {
   "cell_type": "markdown",
   "metadata": {},
   "source": [
    "```python\n",
    "class StopSharingPostWithBlog(View):\n",
    "    @method_decorator(login_required)\n",
    "    def dispatch(self, request, *args, **kwargs):\n",
    "        return super(StopSharingPostWithBlog, self).dispatch(request, *args, **kwargs)\n",
    "\n",
    "    def get(self, request, post_pk, blog_pk):\n",
    "        blog_post = BlogPost.objects.get(pk=post_pk)\n",
    "        if blog_post.blog.owner != request.user:\n",
    "            return HttpResponseForbidden('You can only stop sharing posts that you created')\n",
    "\n",
    "        blog = Blog.objects.get(pk=blog_pk)\n",
    "        blog_post.shared_to.remove(blog)\n",
    "\n",
    "        return HttpResponseRedirect(reverse('home'))\n",
    "```        "
   ]
  },
  {
   "cell_type": "markdown",
   "metadata": {},
   "source": [
    "Like the `SharePostWithBlog` view, this one subclasses the `View` generic view. The\n",
    "code is almost exactly the same as the previous view. The only difference is that in\n",
    "the previous view we used `blog_post.shared_to.add`, whereas in this view we use\n",
    "the `blog_post.shared_to.remove` method."
   ]
  },
  {
   "cell_type": "markdown",
   "metadata": {},
   "source": [
    "Finally, import these two views into `blueblog/urls.py` and add the following\n",
    "patterns:"
   ]
  },
  {
   "cell_type": "markdown",
   "metadata": {},
   "source": [
    "```python\n",
    "url(r'blog/post/(?P<post_pk>\\d+)/share/to/(?P<blog_pk>\\d+)/$',\n",
    "SharePostWithBlog.as_view(), name='share-post-with-blog'),\n",
    "\n",
    "url(r'blog/post/(?P<post_pk>\\d+)/stop/share/to/(?P<blog_pk>\\\n",
    "d+)/$', StopSharingPostWithBlog.as_view(), name='stop-sharing-postwith-\n",
    "blog'),\n",
    "```"
   ]
  },
  {
   "cell_type": "markdown",
   "metadata": {},
   "source": [
    "In order to show a link to the share this post page, edit the `home.html` template to\n",
    "change the entire code inside the `content` block to this:"
   ]
  },
  {
   "cell_type": "markdown",
   "metadata": {},
   "source": [
    "```html\n",
    "{% if blog_posts %}\n",
    "<h2>Blog Posts</h2>\n",
    "<ul>\n",
    "    {% for post in blog_posts %}\n",
    "    <li>\n",
    "        <a href=\"{% url \"blog-post-details\" pk=post.pk %}\">{{ post.\n",
    "        title }}</a> |\n",
    "        <a href=\"{% url \"update-blog-post\" pk=post.pk %}\">Edit Post</\n",
    "        a> |\n",
    "        <a href=\"{% url \"share-blog-post\" pk=post.pk %}\">Share Post</\n",
    "        a>\n",
    "    </li>\n",
    "    {% endfor %}\n",
    "</ul>\n",
    "{% endif %}\n",
    "```"
   ]
  },
  {
   "cell_type": "markdown",
   "metadata": {},
   "source": [
    "And that's it. Now when you visit the home page, each blog post should have a\n",
    "**Share Post** link next to it. When you click it, you'll see a second page with links to\n",
    "share the blog post on other user blogs. Clicking the link should share your post and\n",
    "also show a corresponding remove link on the same page. Of course, in order to test\n",
    "this, you should create a second user account and add a blog using that account."
   ]
  },
  {
   "cell_type": "markdown",
   "metadata": {},
   "source": [
    "One last thing we should do is modify the `get_context_data` method of the\n",
    "**HomeView** to also include shared posts in the blog post list:"
   ]
  },
  {
   "cell_type": "markdown",
   "metadata": {},
   "source": [
    "```python\n",
    "def get_context_data(self, **kwargs):\n",
    "    ctx = super(HomeView, self).get_context_data(**kwargs)\n",
    "\n",
    "    if self.request.user.is_authenticated():\n",
    "        if Blog.objects.filter(owner=self.request.user).exists():\n",
    "        ctx['has_blog'] = True\n",
    "        blog = Blog.objects.get(owner=self.request.user)\n",
    "\n",
    "        ctx['blog'] = blog\n",
    "        ctx['blog_posts'] = BlogPost.objects.filter(blog=blog)\n",
    "        ctx['shared_posts'] = blog.shared_posts.all()\n",
    "\n",
    "return ctx\n",
    "```"
   ]
  },
  {
   "cell_type": "markdown",
   "metadata": {},
   "source": [
    "Add this to the bottom of the content block inside the `blog/templates/home.html`\n",
    "template:"
   ]
  },
  {
   "cell_type": "markdown",
   "metadata": {},
   "source": [
    "```html\n",
    "{% if shared_posts %}\n",
    "<h2>Shared Blog Posts</h2>\n",
    "<ul>\n",
    "    {% for post in shared_posts %}\n",
    "    <li>\n",
    "        <a href=\"{% url \"blog-post-details\" pk=post.pk %}\">{{ post.\n",
    "        title }}</a>\n",
    "    </li>\n",
    "    {% endfor %}\n",
    "</ul>\n",
    "{% endif %}\n",
    "{% endblock %}\n",
    "```"
   ]
  },
  {
   "cell_type": "markdown",
   "metadata": {},
   "source": [
    "And that's it, our first application is complete! If you open the home page now, you\n",
    "should see a **Share Post** link next to each blog post. Clicking this should open up\n",
    "another page where you can select which blog to share this post with. To test it you\n",
    "should create another blog with the other account we created earlier when we were\n",
    "looking at the security of our application. Once you have another blog configured,\n",
    "your share blog post page should look similar to this:"
   ]
  },
  {
   "cell_type": "markdown",
   "metadata": {},
   "source": [
    "![Share First Post](img/BlueBlog_Share.png)"
   ]
  },
  {
   "cell_type": "markdown",
   "metadata": {},
   "source": [
    "Clicking the title of the other blog should share the post and take you back to the\n",
    "home page. If you click the **Share Post** link again on the same post, you should now\n",
    "see a heading saying **Stop sharing with**, and the name of the blog you shared this\n",
    "post with."
   ]
  },
  {
   "cell_type": "markdown",
   "metadata": {},
   "source": [
    "If you log in to the other account now, you should see that the post is now shared\n",
    "there, and is listed under the **Shared Blog Posts** section."
   ]
  },
  {
   "cell_type": "markdown",
   "metadata": {
    "collapsed": true
   },
   "source": [
    "## Summary"
   ]
  },
  {
   "cell_type": "markdown",
   "metadata": {},
   "source": [
    "In this chapter, we've seen how to start our application and set it up properly so\n",
    "that we can develop things rapidly. We've looked at using template inheritance to\n",
    "achieve code reuse and give our site common elements such as navigation bars.\n",
    "Here's a list of topics we have covered so far:"
   ]
  },
  {
   "cell_type": "markdown",
   "metadata": {},
   "source": [
    "* Basic project layout and setup with sqlite3 database\n",
    "* Simple Django form and model form usage\n",
    "* Django contrib apps\n",
    "* Using `django.contrib.auth` to add user registration and authentication to\n",
    "an application\n",
    "* Template inheritance\n",
    "* Generic views for editing and displaying database objects\n",
    "* Database migrations"
   ]
  },
  {
   "cell_type": "markdown",
   "metadata": {},
   "source": [
    "We'll use the lessons we've learned here throughout the rest of the chapters in\n",
    "this book."
   ]
  }
 ],
 "metadata": {
  "anaconda-cloud": {},
  "kernelspec": {
   "display_name": "Python 3",
   "language": "python",
   "name": "python3"
  },
  "language_info": {
   "codemirror_mode": {
    "name": "ipython",
    "version": 3
   },
   "file_extension": ".py",
   "mimetype": "text/x-python",
   "name": "python",
   "nbconvert_exporter": "python",
   "pygments_lexer": "ipython3",
   "version": "3.6.1"
  }
 },
 "nbformat": 4,
 "nbformat_minor": 1
}
