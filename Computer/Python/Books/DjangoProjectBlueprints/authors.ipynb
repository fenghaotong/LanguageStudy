{
 "cells": [
  {
   "cell_type": "markdown",
   "metadata": {},
   "source": [
    "# About the Author"
   ]
  },
  {
   "cell_type": "markdown",
   "metadata": {},
   "source": [
    "** Asad Jibran Ahmed** is an experienced programmer who has worked mostly with\n",
    "Django-based web applications for the past 5 years. Based in Dubai, UAE, he has\n",
    "worked with some of the biggest web properties in the region, including Dubizzle,\n",
    "the number one classifieds platform in UAE; _Nabbesh_, one of the top freelancing\n",
    "platforms in the MENA region; and Just Property, a hot and rising name in the\n",
    "property portal space of the region."
   ]
  },
  {
   "cell_type": "markdown",
   "metadata": {},
   "source": [
    "His experience with such big names has given him a keen insight into how to\n",
    "design performant, stable, and user friendly web applications, all the while using\n",
    "programming practices that make sure that the code base is maintainable for years."
   ]
  },
  {
   "cell_type": "markdown",
   "metadata": {},
   "source": [
    "> I'd like to thank my parents for all the love and support they gave\n",
    "me when I was playing around with computers as a child. If it had\n",
    "not been for their encouragement in those early years, I might not be\n",
    "a programmer today, and this book might not exist.\n"
   ]
  },
  {
   "cell_type": "markdown",
   "metadata": {},
   "source": [
    "> Also, to all my siblings and friends, I'd like to say thank you for putting up with it all."
   ]
  }
 ],
 "metadata": {
  "kernelspec": {
   "display_name": "Python 3",
   "language": "python",
   "name": "python3"
  },
  "language_info": {
   "codemirror_mode": {
    "name": "ipython",
    "version": 3
   },
   "file_extension": ".py",
   "mimetype": "text/x-python",
   "name": "python",
   "nbconvert_exporter": "python",
   "pygments_lexer": "ipython3",
   "version": "3.5.1"
  }
 },
 "nbformat": 4,
 "nbformat_minor": 0
}
