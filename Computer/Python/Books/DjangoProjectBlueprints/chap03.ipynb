{
 "cells": [
  {
   "cell_type": "markdown",
   "metadata": {},
   "source": [
    "# Chapter 3: Djagios – a Nagios Clone in Django"
   ]
  },
  {
   "cell_type": "markdown",
   "metadata": {},
   "source": [
    "In this chapter, we'll be creating a server status monitoring solution similar to Nagios. It is understandable if you have never heard of Nagios as it is not something that comes up in day-to-day conversations between web developers. In a nutshell, Nagios can tell you the status of your servers (which can be in the thousands) in one screen. You can configure alerts based on conditions, for example, if some critical\n",
    "server becomes unresponsive, so that you can be on top of problems before your users start to notice any service degradation. Nagios is an amazing piece of software that is used by millions of organizations around the world."
   ]
  },
  {
   "cell_type": "markdown",
   "metadata": {},
   "source": [
    "Our goal in this chapter is to create something similar, albeit very simple. Our Nagios clone, creatively named Djagios, will allow users to set up monitoring for simple stats from their servers. We will allow the monitoring of the following:\n",
    "\n",
    "- System load\n",
    "- Disk usage"
   ]
  },
  {
   "cell_type": "markdown",
   "metadata": {},
   "source": [
    "We will also be developing a web page where this data will be shown to the user in a nice tabular format. The user will also see an overview of how their servers are doing, and if any alerts are active on those systems."
   ]
  },
  {
   "cell_type": "markdown",
   "metadata": {},
   "source": [
    "Here are some of the things that we will be looking at in this chapter:\n",
    "\n",
    "- What Django management commands are and how to create a custom one\n",
    "- Using the Django shell to test out small pieces of code quickly\n",
    "- Complicated validation of Django Model fields\n",
    "- Slightly more complicated uses of the built-in generic views\n",
    "- Creating an API endpoint to accept data from external sources\n",
    "- Securing these API endpoints with simple shared secret keys\n",
    "- Testing API endpoints using simple tools"
   ]
  },
  {
   "cell_type": "markdown",
   "metadata": {},
   "source": [
    "## Code pack"
   ]
  },
  {
   "cell_type": "markdown",
   "metadata": {},
   "source": [
    "This chapter's code pack has a basic Django application setup with a SQLite database already configured. However, there isn't much code in the code pack because this chapter did not require user accounts or any other pre-existing setup. You can unzip the code pack, create a new virtual environment, activate it, and run the following commands from within the code folder to get up and running:\n",
    "\n"
   ]
  },
  {
   "cell_type": "markdown",
   "metadata": {},
   "source": [
    "```sh\n",
    "> pip install django\n",
    "> python manage.py migrate\n",
    "```"
   ]
  },
  {
   "cell_type": "markdown",
   "metadata": {},
   "source": [
    "## Requirements"
   ]
  },
  {
   "cell_type": "markdown",
   "metadata": {},
   "source": [
    "Let's talk a bit about what we want from our end product before we start writing\n",
    "up some code. As mentioned before, we're looking to create a server monitoring\n",
    "solution. What exactly will it do? How can we implement the required functionality?"
   ]
  },
  {
   "cell_type": "markdown",
   "metadata": {},
   "source": [
    "As our inspiration for Djagios is Nagios, let's look at how Nagios works. While\n",
    "Nagios is a huge application with understandably complex programming, it is in the\n",
    "end a client-server application. The server, which is just another computer, contains\n",
    "the Nagios installation. The clients, which are the systems that you want to monitor,\n",
    "run small plugin scripts that gather data and push it to the server. The server takes\n",
    "these data points and, based on how it's configured, sends out alerts if required. It\n",
    "also stores these data points and can show them in a simple tabular layout, giving\n",
    "you an instant overview of all the computer systems in your infrastructure.\n"
   ]
  },
  {
   "cell_type": "markdown",
   "metadata": {},
   "source": [
    "\n",
    "We'll be creating something similar. Our server will be a Django application that will\n",
    "accept data points using an HTTP endpoint. The application will also include a web\n",
    "page where all these data points will be shown next to the client they came from. Our\n",
    "clients will be simple shell scripts that upload the data to our server."
   ]
  },
  {
   "cell_type": "markdown",
   "metadata": {},
   "source": [
    "> For the rest of the chapter, I will call the Django application,\n",
    "the server, and the systems that you want to monitor, the\n",
    "node. These are common terms used in many other projects\n",
    "that you will encounter in your programming career and they\n",
    "often mean similar things in those other projects."
   ]
  },
  {
   "cell_type": "markdown",
   "metadata": {},
   "source": [
    "Instead of developing all of these things at once, we'll take an incremental approach.\n",
    "We'll first create the models to store our data points. Next, instead of moving directly\n",
    "to creating the HTTP endpoint to accept the data points and client-side plugin\n",
    "scripts, we'll take a simpler approach and come up with a way to generate some\n",
    "fake data to test. An finally, we will create the web page to show our users the latest\n",
    "status of the client nodes and the triggered alerts.\n"
   ]
  },
  {
   "cell_type": "markdown",
   "metadata": {},
   "source": [
    "\n",
    "With fake data to test, we can be confident that our status page and alerting system\n",
    "are working correctly. We can then move forward to the next step, which will be\n",
    "creating the HTTP endpoint to gather data points from clients and client-side plugin\n",
    "scripts.\n"
   ]
  },
  {
   "cell_type": "markdown",
   "metadata": {},
   "source": [
    "\n",
    "In real-world projects, this incremental approach to building software systems\n",
    "is often the best way to complete projects. Create simple features and test them\n",
    "extensively to make sure that they work. Once you are confident of their correctness,\n",
    "add more functionality and repeat the testing phase. This way is analogous to how\n",
    "a tall building is constructed. If you are confident that the foundation is strong, you\n",
    "can build one floor at a time without worrying if the whole thing will fall down on\n",
    "your head."
   ]
  },
  {
   "cell_type": "markdown",
   "metadata": {},
   "source": [
    "## The model\n",
    "\n",
    "What information should we record for the data points? We definitely need the name\n",
    "of the node that is sending the data. We also need to record the time at which we\n",
    "got the data point so that we can figure out the latest status of the node. Of course,\n",
    "we need to know the type and value of the data point. The type of the data point is\n",
    "simply the name of the quantity that we are measuring, such as CPU usage, memory\n",
    "usage, uptime, and so on.\n"
   ]
  },
  {
   "cell_type": "markdown",
   "metadata": {},
   "source": [
    "For now, I think these are all the things that we need to measure:\n",
    "- Node name\n",
    "- Date and time\n",
    "- Type\n",
    "- Value"
   ]
  },
  {
   "cell_type": "markdown",
   "metadata": {},
   "source": [
    "While thinking about which fields we needed in our model, I thought of another\n",
    "approach. It involved having a different model for each data point type, so we could\n",
    "have Django models named SystemLoad, MemoryUsage, DiskUsage, Uptime, and so\n",
    "on. However, once I thought about it further, I figured out that doing so would be\n",
    "very restrictive as now we'd need to define a new model every time we wanted to\n",
    "measure something new. Having the type of the data point as another field in our\n",
    "model gives us a lot of flexibility in terms of recording new types of information.\n"
   ]
  },
  {
   "cell_type": "markdown",
   "metadata": {},
   "source": [
    "As you'll see later on, there are pros and cons to both approaches."
   ]
  },
  {
   "cell_type": "markdown",
   "metadata": {},
   "source": [
    "Let's start a new Django application in our project. In your command line, type the\n",
    "following, making sure that your virtual environment is activated and that you are in\n",
    "the project folder:\n",
    "\n"
   ]
  },
  {
   "cell_type": "markdown",
   "metadata": {},
   "source": [
    "```\n",
    "> python manage.py startapp data_collector\n",
    "```"
   ]
  },
  {
   "cell_type": "markdown",
   "metadata": {},
   "source": [
    "Add this new app to the list of INSTALLED_APPS in djagios/settings.py, and then\n",
    "add our data point model to data_collector/models.py:\n",
    "\n"
   ]
  },
  {
   "cell_type": "markdown",
   "metadata": {},
   "source": [
    "```\n",
    "class DataPoint(models.Model):\n",
    "    node_name = models.CharField(max_length=250)\n",
    "    datetime = models.DateTimeField(auto_now_add=True)\n",
    "    data_type = models.CharField(max_length=100)\n",
    "    data_value = models.FloatField()\n",
    "```\n",
    "\n"
   ]
  },
  {
   "cell_type": "markdown",
   "metadata": {},
   "source": [
    "Save the file and then run migrations to add it to our database:\n"
   ]
  },
  {
   "cell_type": "markdown",
   "metadata": {},
   "source": [
    "\n",
    "```\n",
    "> python manage.py makemigrations data_collector\n",
    "> python manage.py migrate\n",
    "```\n",
    "\n"
   ]
  },
  {
   "cell_type": "markdown",
   "metadata": {},
   "source": [
    "While the model is pretty simple, there is one thing you should be aware of. To\n",
    "keep things simple, I made the decision to store only numeric values; hence, the\n",
    "data_value field is of the FloatField type. If this were a real-world project, you\n",
    "would have a set of requirements that would dictate if you could make the same\n",
    "compromise. You might have to record text values as well, for instance, the status\n",
    "of some service you might be running. For Djagios, we are OK with numeric values\n",
    "only as all the stats that we want to measure are just numbers."
   ]
  },
  {
   "cell_type": "markdown",
   "metadata": {},
   "source": [
    "## Fake data generation\n",
    "\n"
   ]
  },
  {
   "cell_type": "markdown",
   "metadata": {},
   "source": [
    "Before moving on to the next step, which is creating the status page, we should come\n",
    "up with a way to generate some fake data. This will help us while creating the status\n",
    "page and debug any issues that we encounter along the way. Without any data, we\n",
    "could spend time creating the perfect status page, only to find out later when we add\n",
    "data that some aspect of it, such as the design or data layout scheme, won't work."
   ]
  },
  {
   "cell_type": "markdown",
   "metadata": {},
   "source": [
    "## Django management commands\n",
    "\n"
   ]
  },
  {
   "cell_type": "markdown",
   "metadata": {},
   "source": [
    "Django has a very useful feature called management commands. It allows us to\n",
    "create Python scripts that can interact with the rest of the Django app code we write,\n",
    "including our models.\n"
   ]
  },
  {
   "cell_type": "markdown",
   "metadata": {},
   "source": [
    "The reason we can't just write a simple Python script that imports our models is that\n",
    "Django, like all web frameworks, has many dependencies and requires a complex\n",
    "setup to make sure that every thing is configured properly before we can use its\n",
    "features. For example, accessing the database depends on Django knowing where\n",
    "the settings file is because it contains the configuration for the database. Without\n",
    "knowing how to read the database, you can't query the models."
   ]
  },
  {
   "cell_type": "markdown",
   "metadata": {},
   "source": [
    "Let's conduct a little test. Make sure that your virtual environment is activated\n",
    "and that you are in the project directory. Next, start up the Python shell by typing\n",
    "the following:"
   ]
  },
  {
   "cell_type": "markdown",
   "metadata": {},
   "source": [
    "```sh\n",
    "> python\n",
    "```"
   ]
  },
  {
   "cell_type": "markdown",
   "metadata": {},
   "source": [
    "This will start a new Python interactive shell where you can type Python statements\n",
    "and have them executed immediately. You'll know that you are in a Python shell\n",
    "because your prompt will change to >>>. Now, let's try importing our DataPoint\n",
    "model in this shell:"
   ]
  },
  {
   "cell_type": "markdown",
   "metadata": {},
   "source": [
    "```sh\n",
    ">>> from data_collector.models import DataPoint\n",
    "```"
   ]
  },
  {
   "cell_type": "markdown",
   "metadata": {},
   "source": [
    "Press Enter and you might be surprised by the huge error message that is printed.\n",
    "Don't worry, you don't need to read all of it. The most important part is the last\n",
    "line. It will be similar to this (though not exactly as it might change slightly between\n",
    "different Django versions):"
   ]
  },
  {
   "cell_type": "markdown",
   "metadata": {},
   "source": [
    "> django.core.exceptions.ImproperlyConfigured: Requested setting\n",
    "DEFAULT_INDEX_TABLESPACE, but settings are not configured. You must\n",
    "either define the environment variable DJANGO_SETTINGS_MODULE or call\n",
    "settings.configure() before accessing settings."
   ]
  },
  {
   "cell_type": "markdown",
   "metadata": {},
   "source": [
    "It looks intimidating, but let's look at it in parts. The first part before the colon : is\n",
    "the exception name. Here, Django raised the ImproperlyConfigured exception.\n",
    "Then there is a sentence telling you that some setting was requested, but settings are\n",
    "not yet configured. The last sentence is a helpful message about how to fix this.\n",
    "\n"
   ]
  },
  {
   "cell_type": "markdown",
   "metadata": {},
   "source": [
    "While you can take the steps that are listed in the error message and get your scripts\n",
    "to run outside of Django, using a management command is almost always the best\n",
    "option. With a management command, you don't need to set up Django manually.\n",
    "It's done for you automatically before your script is run and you can avoid having\n",
    "to worry about setting environment variables such as DJANGO_SETTINGS_MODULE or\n",
    "calling settings.configure().\n",
    "\n"
   ]
  },
  {
   "cell_type": "markdown",
   "metadata": {},
   "source": [
    "To create a new management command, we first have to create two new Python\n",
    "modules to hold our command script. Type the following in your command line\n",
    "from the project root directory:\n",
    "\n"
   ]
  },
  {
   "cell_type": "markdown",
   "metadata": {},
   "source": [
    "```sh\n",
    "> mkdir -p data_collector/management/commands\n",
    "> touch data_collector/management/__init__.py\n",
    "> touch data_collector/management/commands/__init__.py\n",
    "```"
   ]
  },
  {
   "cell_type": "markdown",
   "metadata": {},
   "source": [
    "What these commands do is create a module called management under the\n",
    "data_collector module folder, and then create another module called commands\n",
    "in the management module. We do this by first creating the folders for the modules\n",
    "and then creating empty `__init__.py` files so that Python recognizes these folders\n",
    "as modules.\n"
   ]
  },
  {
   "cell_type": "markdown",
   "metadata": {},
   "source": [
    "Next, let's try creating a simple management command that just prints out a list ofthe data points that we have in our database so far. Create a new `data_collector/management/commands/sample_data.py` file and give it the following content:"
   ]
  },
  {
   "cell_type": "markdown",
   "metadata": {},
   "source": [
    "```sh\n",
    "from django.core.management import BaseCommand\n",
    "from data_collector.models import DataPoint\n",
    "\n",
    "class Command(BaseCommand):\n",
    "    def handle(self, *args, **options):\n",
    "        print('All data points:')\n",
    "        print(DataPoint.objects.all())\n",
    "```"
   ]
  },
  {
   "cell_type": "markdown",
   "metadata": {},
   "source": [
    "Save this file and go back to your command prompt. Then run the following\n",
    "command:\n",
    "\n"
   ]
  },
  {
   "cell_type": "markdown",
   "metadata": {},
   "source": [
    "```sh\n",
    "> python manage.py sample_data\n",
    "```"
   ]
  },
  {
   "cell_type": "markdown",
   "metadata": {},
   "source": [
    "You should see the following output:   \n",
    "```\n",
    "All data points:    \n",
    "[]\n",
    "\n",
    "```"
   ]
  },
  {
   "cell_type": "markdown",
   "metadata": {},
   "source": [
    "That's it. That's all there is to creating Django management commands. As you can\n",
    "see, we were able to use methods on our DataPoint model in a script that was run\n",
    "on the command line, as opposed to being run as part of an HTTP response view. A\n",
    "few things to note about Django management commands are as follows:\n"
   ]
  },
  {
   "cell_type": "markdown",
   "metadata": {},
   "source": [
    "- Your command has the same name as the name of the file that contains the command.\n",
    "- In order to be a valid management command, the source file should always define a Command class, which will be a base class of BaseCommand.\n",
    "- Django will call the handle method of your Command class. This method is the starting point of whatever functionality you want to provide from your script."
   ]
  },
  {
   "cell_type": "markdown",
   "metadata": {},
   "source": [
    "We'll take a look at the `*args and **options` parameters next when we modify the sample_data.py command to actually add sample data. If you want further information about Django management commands, you should look at the documentation at https://docs.djangoproject.com/en/stable/howto/custommanagement-commands/.\n",
    "\n"
   ]
  },
  {
   "cell_type": "markdown",
   "metadata": {},
   "source": [
    "Let's modify our command class to add fake data. Here's the modified Command\n",
    "class code:"
   ]
  },
  {
   "cell_type": "markdown",
   "metadata": {},
   "source": [
    "```sh\n",
    "class Command(BaseCommand):\n",
    "    def add_arguments(self, parser):\n",
    "        parser.add_argument('node_name', type=str)\n",
    "        parser.add_argument('data_type', type=str)\n",
    "        parser.add_argument('data_value', type=float)\n",
    "    def handle(self, *args, **options):\n",
    "        node_name = options['node_name']\n",
    "        data_type = options['data_type']\n",
    "        data_value = options['data_value']\n",
    "        new_data_point = DataPoint(node_name=node_name, data_type=data_type, data_value=data_value)\n",
    "        new_data_point.save()\n",
    "        print('All data points:')\n",
    "        print(DataPoint.objects.all())\n",
    "```"
   ]
  },
  {
   "cell_type": "markdown",
   "metadata": {},
   "source": [
    "There are a couple of new things here. Let's look at the add_arguments method first.\n",
    "Most management commands need arguments to do something useful. As we're\n",
    "adding sample data to the database, our command will need the values to add. These\n",
    "are provided to the command in the form of arguments on the command line. If you\n",
    "don't have much experience with working with command lines, arguments are all\n",
    "the things that you type after the command name. For example, let's take a look at\n",
    "the command we use to create new Django applications in a project:\n",
    "\n"
   ]
  },
  {
   "cell_type": "markdown",
   "metadata": {},
   "source": [
    "```sh\n",
    "> python manage.py startapp APP_NAME\n",
    "```\n"
   ]
  },
  {
   "cell_type": "markdown",
   "metadata": {},
   "source": [
    "Here, we use the startapp Django management command, which is a built-in\n",
    "command, and the app name is an argument to the app.\n"
   ]
  },
  {
   "cell_type": "markdown",
   "metadata": {},
   "source": [
    "We want our custom command to accept three arguments: the node name, data type,\n",
    "and value of the data point. In the add_arguments method, we tell Django to require\n",
    "and parse three arguments for this command.\n"
   ]
  },
  {
   "cell_type": "markdown",
   "metadata": {},
   "source": [
    "The options parameter to the handle method is a dictionary that holds all the\n",
    "arguments that were defined and passed to the command by the user. In the handle\n",
    "method, we simply assign the values for each option to a variable. In case the user\n",
    "misses or adds extra arguments while calling the command, Django will print an\n",
    "error message as well as inform them of what the required parameters are. For\n",
    "example, if I call the command now without any parameter, here's what happens:"
   ]
  },
  {
   "cell_type": "markdown",
   "metadata": {},
   "source": [
    "```sh\n",
    "> python manage.py sample_data\n",
    "usage: manage.py sample_data [-h] [--version] [-v {0,1,2,3}]\n",
    "                    [--settings SETTINGS] [--pythonpath\n",
    "PYTHONPATH]\n",
    "                    [--traceback] [--no-color]\n",
    "                    node_name data_type data_value\n",
    "manage.py sample_data: error: the following arguments are required:\n",
    "node_name, data_type, data_value\n",
    "```"
   ]
  },
  {
   "cell_type": "markdown",
   "metadata": {},
   "source": [
    "This is useful information if the user forgets how to use a management command.\n"
   ]
  },
  {
   "cell_type": "markdown",
   "metadata": {},
   "source": [
    "Now that we have the argument values in variables, we create a new data point and\n",
    "save it. Finally, we print out all the data points that we have in the database. Let's try\n",
    "running our command now and see what output we get:"
   ]
  },
  {
   "cell_type": "markdown",
   "metadata": {},
   "source": [
    "```sh\n",
    "> python manage.py sample_data web01 load 5\n",
    "All data points:\n",
    "[<DataPoint: DataPoint object>]\n",
    "```"
   ]
  },
  {
   "cell_type": "markdown",
   "metadata": {},
   "source": [
    "While the command successfully created a new data point, the output isn't very\n",
    "helpful. We have no idea what information this data point holds. Let's fix this."
   ]
  },
  {
   "cell_type": "markdown",
   "metadata": {},
   "source": [
    "## A better model representation\n"
   ]
  },
  {
   "cell_type": "markdown",
   "metadata": {},
   "source": [
    "Whenever Django prints out a model instance, it first tries to see if there is a `__str__`\n",
    "method defined for the model class. If it finds this method, it uses the output from it;\n",
    "otherwise, it falls back to a default implementation that just prints the class name, as\n",
    "we can see here. To make Django print out a more useful representation for our data\n",
    "point model, add this `__str__` method to our `DataPoint` model class:"
   ]
  },
  {
   "cell_type": "markdown",
   "metadata": {},
   "source": [
    "```sh\n",
    "def __str__(self):\n",
    "    return 'DataPoint for {}. {} = {}'.format(self.node_name, self.data_type, self.data_value)\n",
    "```"
   ]
  },
  {
   "cell_type": "markdown",
   "metadata": {},
   "source": [
    "Let's run our sample_data command again now and see how its output has changed:"
   ]
  },
  {
   "cell_type": "markdown",
   "metadata": {},
   "source": [
    "```sh\n",
    "> python manage.py sample_data web01 load 1.0\n",
    "All data points:\n",
    "[<DataPoint: DataPoint for web01. load = 5.0>, <DataPoint: DataPoint\n",
    "for web01. load = 1.0]\n",
    "```"
   ]
  },
  {
   "cell_type": "markdown",
   "metadata": {},
   "source": [
    "That's better. Now we see that the data point we added has been saved to the\n",
    "database correctly. Go ahead and create a couple of more data points. Use as many\n",
    "different node names as you want, but try to keep the data type limited to one of\n",
    "load or disk_usage as we'll be creating code specific to these data types later. Here's\n",
    "the sample data that I added to my database for reference:"
   ]
  },
  {
   "cell_type": "markdown",
   "metadata": {},
   "source": [
    "|Node name| Data type| Data value|\n",
    "|:---:|:---:|:---|\n",
    "|web01| load| 5.0|\n",
    "|web01| load| 1.0|\n",
    "|web01| load| 1.5|\n",
    "|web01| disk|`_usage 0.5`|\n",
    "|web02| load| 7.0|\n",
    "|web02| load| 9.0|\n",
    "|web02| disk_usage| 0.85|\n",
    "|dbmaster| disk_usage| 0.8|\n",
    "|dbmaster| disk_usage| 0.95|"
   ]
  },
  {
   "cell_type": "markdown",
   "metadata": {},
   "source": [
    "Now that we have a way to add sample data and added some to our database, let's\n",
    "create the status page that will show all this data to our users."
   ]
  },
  {
   "cell_type": "markdown",
   "metadata": {},
   "source": [
    "## Status page\n"
   ]
  },
  {
   "cell_type": "markdown",
   "metadata": {},
   "source": [
    "Our status page needs to show the user the status of their complete infrastructure in\n",
    "one view. To do so, a table feels like the appropriate design component. As the most\n",
    "important information to the user is going to be the latest status of their servers, our\n",
    "status page will need to show only one table row per node and list only the latest\n",
    "values for each different data type that we have in the database for that node.\n"
   ]
  },
  {
   "cell_type": "markdown",
   "metadata": {},
   "source": [
    "For the sample data that I added to my database, we would ideally want a table\n",
    "similar to this on the status page:"
   ]
  },
  {
   "cell_type": "markdown",
   "metadata": {},
   "source": [
    "![ ](img/VPLNWDR.png)"
   ]
  },
  {
   "cell_type": "markdown",
   "metadata": {},
   "source": [
    "As you can see, we only mention each node once, and group the different data types\n",
    "so that all information about a node is shown in one place and the user doesn't have\n",
    "to search through the table to find what they are looking for. As a bonus, we also\n",
    "show the last updated time in a nice way instead of just showing the time of the\n",
    "latest data point.\n"
   ]
  },
  {
   "cell_type": "markdown",
   "metadata": {},
   "source": [
    "If you are thinking that showing our data points in a nice and consolidated manner\n",
    "like this will not be simple, I'm afraid you are right. We could get all the data points\n",
    "from the database in one query using `DataPoint.objects.all()` and then group\n",
    "them in our Python code, but that would be inefficient once the number of data\n",
    "points in our database grows. For server monitoring solutions, it isn't uncommon\n",
    "to have a couple of million data points. We can't go about getting and grouping all\n",
    "the million data points every time the user wants to see the status page. That would\n",
    "make loading the page unbearably slow.\n"
   ]
  },
  {
   "cell_type": "markdown",
   "metadata": {},
   "source": [
    "Luckily for us, SQL—the language used to query data from databases—provides us\n",
    "with some very powerful constructs that we can use to get just the information we\n",
    "want, without having to go through all the rows of data that we could have in our\n",
    "data points table. Let's think about what we need."
   ]
  },
  {
   "cell_type": "markdown",
   "metadata": {},
   "source": [
    "For starters, we'd like to know the different node names in our database. For each\n",
    "node name, we also need to know the types of data that are available for it. In our\n",
    "example, while both **web01** and **web02** have the **load** and **disk_usage** data type\n",
    "available, the **dbmaster** node only has data for the **disk_usage** data type (or metric).\n",
    "For cases like this, the SQL language provides us with a DISTINCT query clause.\n",
    "Adding DISTINCT to our query instructs the database to return unique rows only.\n",
    "That is, all duplicate rows are only returned once. This way, we can get a list of all the\n",
    "different nodes and data types in our database without having to go over each record.\n"
   ]
  },
  {
   "cell_type": "markdown",
   "metadata": {},
   "source": [
    "We need to experiment a bit to figure out how to translate the SQL query into\n",
    "something we can use with the Django ORM. We could write our view code and\n",
    "then keep changing it to figure out the right way to get the data we want, but that is\n",
    "very cumbersome. Instead, Django provides us with a very convenient shell to do\n",
    "these kinds of experimentations.\n"
   ]
  },
  {
   "cell_type": "markdown",
   "metadata": {},
   "source": [
    "If you remember, at the start of this chapter, I showed you why you couldn't just\n",
    "start a Python shell and import the model. Django complained about not having been\n",
    "set up properly before being used. Instead, Django has its own way of launching a\n",
    "Python shell, one that makes sure that all the dependencies of setting up Django are\n",
    "met before you start using the shell. To start this shell, type the following:"
   ]
  },
  {
   "cell_type": "markdown",
   "metadata": {},
   "source": [
    "```sh\n",
    "> python manage.py shell\n",
    "```"
   ]
  },
  {
   "cell_type": "markdown",
   "metadata": {},
   "source": [
    "Like before, this will put you in a Python shell, which you can tell by the changed\n",
    "prompt. Now, let's try importing our DataPoint model:\n"
   ]
  },
  {
   "cell_type": "markdown",
   "metadata": {},
   "source": [
    "```sh\n",
    ">>> from data_collector.models import DataPoint\n",
    "```\n"
   ]
  },
  {
   "cell_type": "markdown",
   "metadata": {},
   "source": [
    "This time you shouldn't get any errors. Now type the following:\n"
   ]
  },
  {
   "cell_type": "markdown",
   "metadata": {},
   "source": [
    "```\n",
    ">>> DataPoint.objects.all()\n",
    "[<DataPoint: DataPoint for web01. load = 5.0>, <DataPoint: DataPoint\n",
    "for web01. load = 1.0>, <DataPoint: DataPoint for web01. load = 1.5>,\n",
    "<DataPoint: DataPoint for web02. load = 7.0>, <DataPoint: DataPoint for\n",
    "web02. load = 9.0>, <DataPoint: DataPoint for dbmaster. disk_usage =\n",
    "0.8>, <DataPoint: DataPoint for dbmaster. disk_usage = 0.95>, <DataPoint:\n",
    "DataPoint for web01. disk_usage = 0.5>, <DataPoint: DataPoint for web02.\n",
    "disk_usage = 0.85>]\n",
    "```\n"
   ]
  },
  {
   "cell_type": "markdown",
   "metadata": {},
   "source": [
    "As you can see, you can query the model and see the output of the query\n",
    "immediately. The Django shell is one of the most useful components in Django, and\n",
    "you will often find yourself experimenting in the shell to figure out the correct way\n",
    "to do something before you write the final code in your views."
   ]
  },
  {
   "cell_type": "markdown",
   "metadata": {},
   "source": [
    "So, back to our problem of getting distinct node names and data types from our\n",
    "database. If you search the Django documentation for the distinct keyword, you\n",
    "should see this link in the results:\n",
    "```\n",
    "https://docs.djangoproject.com/en/stable/ref/models/querysets/#distinct.\n",
    "```\n",
    "\n"
   ]
  },
  {
   "cell_type": "markdown",
   "metadata": {},
   "source": [
    "If you read what the documentation says, you should figure out that this is exactly\n",
    "what we need in order to use the DISTINCT clause. But how do we use it? Let's try it\n",
    "out in the shell:\n",
    "\n"
   ]
  },
  {
   "cell_type": "markdown",
   "metadata": {},
   "source": [
    "```sh\n",
    ">>> DataPoint.objects.all().distinct()\n",
    "[<DataPoint: DataPoint for web01. load = 5.0>, <DataPoint: DataPoint\n",
    "for web01. load = 1.0>, <DataPoint: DataPoint for web01. load = 1.5>,\n",
    "<DataPoint: DataPoint for web02. load = 7.0>, <DataPoint: DataPoint for\n",
    "web02. load = 9.0>, <DataPoint: DataPoint for dbmaster. disk_usage =\n",
    "0.8>, <DataPoint: DataPoint for dbmaster. disk_usage = 0.95>, <DataPoint:\n",
    "DataPoint for web01. disk_usage = 0.5>, <DataPoint: DataPoint for web02.\n",
    "disk_usage = 0.85>]\n",
    "```"
   ]
  },
  {
   "cell_type": "markdown",
   "metadata": {},
   "source": [
    "Hmm? That didn't change anything. Why not? Let's think about what is happening\n",
    "here. We asked Django to query the database for all the data points and then return\n",
    "only one row for each duplicated data. If you are familiar with SQL, the distinct\n",
    "clause works by comparing each field in the rows of data you selected. However, as\n",
    "by default Django selects all the rows from a database table when querying a model,\n",
    "the data that the SQL query sees also includes the primary key, which is by definition\n",
    "unique for each row. This is why we see all of our data, even though we have used\n",
    "the distinct clause.\n"
   ]
  },
  {
   "cell_type": "markdown",
   "metadata": {},
   "source": [
    "In order to make use of the distinct clause, we need to limit the fields in the data that\n",
    "we are asking the database to return to us. For our particular use case, we only need\n",
    "to know the unique pairs of node name and data type. The Django ORM provides\n",
    "another method, values, that we can use to limit the fields that Django selects. Let's\n",
    "try it out first without the distinct clause to see what data it returns:\n"
   ]
  },
  {
   "cell_type": "markdown",
   "metadata": {},
   "source": [
    "```sh\n",
    ">>> DataPoint.objects.all().values('node_name', 'data_type')\n",
    "[{'data_type': u'load', 'node_name': u'web01'}, {'data_type': u'load',\n",
    "'node_name': u'web01'}, {'data_type': u'load', 'node_name': u'web01'},\n",
    "{'data_type': u'load', 'node_name': u'web02'}, {'data_type': u'load',\n",
    "'node_name': u'web02'}, {'data_type': u'disk_usage', 'node_name':\n",
    "u'dbmaster'}, {'data_type': u'disk_usage', 'node_name': u'dbmaster'},\n",
    "{'data_type': u'disk_usage', 'node_name': u'web01'}, {'data_type':\n",
    "u'disk_usage', 'node_name': u'web02'}]\n",
    "```"
   ]
  },
  {
   "cell_type": "markdown",
   "metadata": {},
   "source": [
    "That seems to do the trick. Now our data only includes the two fields that we wanted\n",
    "to run the distinct query on. Let's add the distinct clause as well and see what we get:\n"
   ]
  },
  {
   "cell_type": "markdown",
   "metadata": {},
   "source": [
    "```sh\n",
    ">>> DataPoint.objects.all().values('node_name', 'data_type').distinct()\n",
    "[{'data_type': u'load', 'node_name': u'web01'}, {'data_type': u'load',\n",
    "'node_name': u'web02'}, {'data_type': u'disk_usage', 'node_name':\n",
    "u'dbmaster'}, {'data_type': u'disk_usage', 'node_name': u'web01'},\n",
    "{'data_type': u'disk_usage', 'node_name': u'web02'}]\n",
    "```\n"
   ]
  },
  {
   "cell_type": "markdown",
   "metadata": {},
   "source": [
    "Voila! That seems to have done the trick. Now our Django ORM query only returns\n",
    "unique pairs of node names and data types, which is exactly what we needed.\n"
   ]
  },
  {
   "cell_type": "markdown",
   "metadata": {},
   "source": [
    "One important thing to note is that after we added the `values` method to the ORM\n",
    "query, the returned data was no longer our `DataPoint` model class. Instead, it was\n",
    "dictionaries with just the field values that we asked for. Thus, any functions that you\n",
    "have defined on the model are not accessible on these dictionaries. If you think about\n",
    "it, this is obvious because without the complete fields, Django has no way to populate\n",
    "the model objects. It also won't matter if you listed all of your model fields in the\n",
    "`values` method arguments. It will still only return dictionaries, not the model objects.\n"
   ]
  },
  {
   "cell_type": "markdown",
   "metadata": {},
   "source": [
    "Now that we have figured out how to get the data in the format we want, without\n",
    "having to loop over each row of data in our database, let's create the template, view,\n",
    "and URL configuration for our status page. Starting with the view code, change\n",
    "`data_collector/views.py` to have these contents:"
   ]
  },
  {
   "cell_type": "markdown",
   "metadata": {},
   "source": [
    "```sh\n",
    "from django.views.generic import TemplateView\n",
    "from data_collector.models import DataPoint\n",
    "\n",
    "class StatusView(TemplateView):\n",
    "    template_name = 'status.html'\n",
    "    def get_context_data(self, **kwargs):\n",
    "        ctx = super(StatusView, self).get_context_data(**kwargs)\n",
    "        nodes_and_data_types = DataPoint.objects.all().values('node_name', 'data_type').distinct()\n",
    "        status_data_dict = dict()\n",
    "        for node_and_data_type_pair in nodes_and_data_types:\n",
    "            node_name = node_and_data_type_pair['node_name']\n",
    "            data_type = node_and_data_type_pair['data_type']\n",
    "            data_point_map = status_data_dict.setdefault(node_name,dict())\n",
    "            data_point_map[data_type] = DataPoint.objects.filter(node_name=node_name, data_type=data_type).latest('datetime')\n",
    "        ctx['status_data_dict'] = status_data_dict\n",
    "        return ctx\n",
    "```"
   ]
  },
  {
   "cell_type": "markdown",
   "metadata": {},
   "source": [
    "It's a little complicated, so let's break it up into parts. First, we get a list of node name\n",
    "and data type pairs, using the query we came up with before. The result of the query,\n",
    "which we store in nodes_and_data_types, is similar to the following:\n"
   ]
  },
  {
   "cell_type": "markdown",
   "metadata": {},
   "source": [
    "```sh\n",
    "[{'data_type': u'load', 'node_name': u'web01'}, {'data_type': u'load',\n",
    "'node_name': u'web02'}, {'data_type': u'disk_usage', 'node_name':\n",
    "u'dbmaster'}, {\n",
    "'data_type': u'disk_usage', 'node_name': u'web01'}, {'data_type':\n",
    "u'disk_usage', 'node_name': u'web02'}]\n",
    "```"
   ]
  },
  {
   "cell_type": "markdown",
   "metadata": {},
   "source": [
    "As we've seen before, this is a list of all unique node name and data type pairs in our\n",
    "database. So, as our dbmaster node doesn't have any data for the load data type, you\n",
    "won't find that pair in this list. I'll explain in a while why running the distinct query\n",
    "helps us reduce the amount of load we need to put on our database.\n"
   ]
  },
  {
   "cell_type": "markdown",
   "metadata": {},
   "source": [
    "Next, we loop over each of these pairs; that's the for loop you can see in the code. For\n",
    "each node name and data type pair, we run a query to get us the latest data point.\n",
    "First, we filter down to only the data points that we are interested in—those that\n",
    "match the node name and data type we specified. Then, we call the `latest` method\n",
    "and get the most recently updated data point.\n"
   ]
  },
  {
   "cell_type": "markdown",
   "metadata": {},
   "source": [
    "The latest method takes the name of a field, orders the query using this field, and\n",
    "then returns the last row of data as per that ordering. It should be noted that `latest`\n",
    "can work with any field type that can be ordered, including numbers, not just date\n",
    "time fields.\n"
   ]
  },
  {
   "cell_type": "markdown",
   "metadata": {},
   "source": [
    "I would like to point out the use of `setdefault` here. Calling `setdefault` on\n",
    "a dictionary makes sure that if the key provided doesn't exist in the dictionary\n",
    "already, the value passed as the second parameter is set for that key. This is a pretty\n",
    "useful pattern that I and a lot of Python programmers use when we are creating a\n",
    "dictionary in which all the keys need to have values of the same type—a dictionary\n",
    "in this case.\n"
   ]
  },
  {
   "cell_type": "markdown",
   "metadata": {},
   "source": [
    "This allows us to ignore the scenario in which the key does not previously exist in the\n",
    "dictionary. Without using setdefault, we would first have to check whether the key\n",
    "exists. If it did, we would modify that. If it didn't, we would create a new dictionary,\n",
    "modify that, and then assign it to `status_data_dict.`"
   ]
  },
  {
   "cell_type": "markdown",
   "metadata": {},
   "source": [
    "The `setdefault` method returns the value of the given key as well, whether it had\n",
    "to set it to the default value or not. We save that in the `data_point_map` variable in\n",
    "our code.\n"
   ]
  },
  {
   "cell_type": "markdown",
   "metadata": {},
   "source": [
    "Finally, we add the `status_data_dict` dictionary to the context and return it.\n",
    "We'll see in our template how we go over this data and display it to the user. I said\n",
    "earlier that I would explain how the distinct query helped us reduce the load on\n",
    "the database. Let's look at an example scenario. Assume that we have the same\n",
    "three nodes in our infrastructure that we saw in our sample data: web01, web02,\n",
    "and dbmaster. Let's say that we have had monitoring running for one whole day,\n",
    "collecting stats for both load and disk usage on all three nodes every minute. Doing\n",
    "the math, we should have the following:\n"
   ]
  },
  {
   "cell_type": "markdown",
   "metadata": {},
   "source": [
    "Number of nodes x number of data types x number of hours x 60:\n"
   ]
  },
  {
   "cell_type": "markdown",
   "metadata": {},
   "source": [
    "```\n",
    "3 x 2 x 24 x 60 = 8640\n",
    "```"
   ]
  },
  {
   "cell_type": "markdown",
   "metadata": {},
   "source": [
    "Thus, our data base has 8,640 data point objects. Now, with the code that we have\n",
    "in our view, we will only need to retrieve six data point objects from the database to\n",
    "show the user an updated status page plus the one distinct query. If we had to get\n",
    "all the data points, we would have to transfer the data for all those 8,640 data points\n",
    "from the database, and then use only six of them.\n"
   ]
  },
  {
   "cell_type": "markdown",
   "metadata": {},
   "source": [
    "For the template, create a folder called` templates` in the `data_collector` directory.\n",
    "Then, create a `status.html` file in the template folder and give it the following\n",
    "content:"
   ]
  },
  {
   "cell_type": "markdown",
   "metadata": {},
   "source": [
    "```sh\n",
    "{% extends \"base.html\" %}\n",
    "{% load humanize %}\n",
    "{% block content %}\n",
    "<h1>Status</h1>\n",
    "<table>\n",
    "<tbody>\n",
    "    <tr>\n",
    "        <th>Node Name</th>\n",
    "        <th>Metric</th>\n",
    "        <th>Value</th>\n",
    "        <th>Last Updated</th>\n",
    "    </tr>\n",
    "    {% for node_name, data_type_to_data_point_map in status_data_dict.items %}\n",
    "        {% for data_type, data_point in data_type_to_data_point_map.items %}\n",
    "            <tr>\n",
    "                <td>{% if forloop.first %}{{ node_name }}{% endif %}</td>\n",
    "                <td>{{ data_type }}</td>\n",
    "                <td>{{ data_point.data_value }}</td>\n",
    "                <td>{{ data_point.datetime|naturaltime }}</td>\n",
    "            </tr>\n",
    "        {% endfor %}\n",
    "    {% endfor %}\n",
    "</tbody>\n",
    "</table>\n",
    "{% endblock %}\n",
    "```"
   ]
  },
  {
   "cell_type": "markdown",
   "metadata": {},
   "source": [
    "There shouldn't be many surprises here. Ignoring the `load humanize` line, our\n",
    "template simply creates a table using the data dictionary that we generated in our\n",
    "view earlier. The two nested `for` loops might look a bit complicated, but looking at\n",
    "the data that we are looping over should make things clear:\n"
   ]
  },
  {
   "cell_type": "markdown",
   "metadata": {},
   "source": [
    "```sh\n",
    "{u'dbmaster': {u'disk_usage': <DataPoint: DataPoint for dbmaster.disk_usage = 0.95>},\n",
    "u'web01': {u'disk_usage': <DataPoint: DataPoint for web01. disk_usage= 0.5>,\n",
    "u'load': <DataPoint: DataPoint for web01. load = 1.5>},\n",
    "u'web02': {u'disk_usage': <DataPoint: DataPoint for web02. disk_usage= 0.85>,\n",
    "u'load': <DataPoint: DataPoint for web02. load = 9.0>}}\n",
    "```"
   ]
  },
  {
   "cell_type": "markdown",
   "metadata": {},
   "source": [
    "The first for loop gets the node name and dictionary mapping data type to the latest\n",
    "data point. The inner for loop then iterates over the data type and the latest data\n",
    "point for the type and generates the table rows. We use the `forloop.first` flag\n",
    "to print the node name only if the inner loop is running for the first time. Django\n",
    "provides a few other useful flags related to for loops in templates. Take a look\n",
    "at the documentation at` https://docs.djangoproject.com/en/stable/ref/templates/builtins/#for.`"
   ]
  },
  {
   "cell_type": "markdown",
   "metadata": {},
   "source": [
    "When we print the `datetime` field for a data point, we use the `naturaltime` filter.\n",
    "This filter is part of the humanize template tags provided as part of Django, which\n",
    "is why we needed to use the `load humanize` line at the start of the template. The\n",
    "`naturaltime` template filter outputs a date time value in a format that is easy for\n",
    "humans to understand, for example, two seconds ago, one hour ago, 20 minutes ago,\n",
    "and so on. You need to add `django.contrib.humanize to the list of `INSTALLED_\n",
    "APPS` in `djagios/settings.py` before you can load the `humanize` template tags."
   ]
  },
  {
   "cell_type": "markdown",
   "metadata": {},
   "source": [
    "The final step in completing our status page is to add it to the URL configuration. As\n",
    "the status page is what the user wants to see most often from a monitoring system,\n",
    "let's make it the home page. Make the URL configuration file at `djagios/urls.py`\n",
    "contain the following content:\n"
   ]
  },
  {
   "cell_type": "markdown",
   "metadata": {},
   "source": [
    "```sh\n",
    "from django.conf.urls import url\n",
    "from data_collector.views import StatusView\n",
    "\n",
    "urlpatterns = [\n",
    "    url(r'^$', StatusView.as_view(), name='status'),\n",
    "]\n",
    "```\n"
   ]
  },
  {
   "cell_type": "markdown",
   "metadata": {},
   "source": [
    "That's it. Run the development server:\n"
   ]
  },
  {
   "cell_type": "markdown",
   "metadata": {},
   "source": [
    "```sh\n",
    "> python manage.py runserver\n",
    "```\n"
   ]
  },
  {
   "cell_type": "markdown",
   "metadata": {},
   "source": [
    "Access the status page at http://127.0.0.1:8000. If you have followed the steps so\n",
    "far, you should see a status page similar to the following one. Of course, your page\n",
    "will show data from your database:"
   ]
  },
  {
   "cell_type": "markdown",
   "metadata": {},
   "source": [
    "![status](img/status.png)"
   ]
  },
  {
   "cell_type": "markdown",
   "metadata": {},
   "source": [
    "## Alerts\n",
    "\n"
   ]
  },
  {
   "cell_type": "markdown",
   "metadata": {
    "collapsed": true
   },
   "source": [
    "Now that we have a basic status page up and running, let's talk about allowing the\n",
    "user to configure some alert conditions. For now, we will inform the user of any alert\n",
    "condition by showing that node's information in red color on the status page.\n",
    "\n"
   ]
  },
  {
   "cell_type": "markdown",
   "metadata": {},
   "source": [
    "First, we need to figure out what kind of alerts we want our users to set. From there,\n",
    "we can figure out the technical details. So, let's think about it. Given that the data\n",
    "types we are recording all have numeric values, it makes sense that the user should\n",
    "be able to set thresholds. They can, for instance, set an alert if the system load of any\n",
    "node goes above 1.0 or if the disk usage of a node goes above 80%.\n",
    "\n"
   ]
  },
  {
   "cell_type": "markdown",
   "metadata": {},
   "source": [
    "Furthermore, maybe our users don't want to have the same alert conditions for\n",
    "each node. A database node is expected to handle a lot of system load, so maybe our\n",
    "users want to have a separate alert condition for the database node. Finally, if they\n",
    "are doing maintenance on some of the nodes, they may want to stop some alerts\n",
    "from triggering.\n",
    "\n"
   ]
  },
  {
   "cell_type": "markdown",
   "metadata": {},
   "source": [
    "From all this, it seems that our alerts need to have fields to hold the following:\n",
    "\n",
    "- Data type on which to trigger \n",
    "- Maximum value to trigger on\n",
    "- Minimum value to trigger on\n",
    "- Node name to trigger on\n",
    "- If the alert is currently active"
   ]
  },
  {
   "cell_type": "markdown",
   "metadata": {},
   "source": [
    "Of these, the data type and active status are required fields that should never be null.\n",
    "The node name can be an empty string in which the alert conditions will be checked\n",
    "for each node. If the node name is not an empty string, it will be checked for nodes\n",
    "whose names match the provided string exactly.\n"
   ]
  },
  {
   "cell_type": "markdown",
   "metadata": {},
   "source": [
    "As for the maximum and minimum values, one of those is required. This is so that\n",
    "the user may set alerts for just the maximum value without having to care about the\n",
    "minimum value for the data points. This will require manual validation in the model."
   ]
  },
  {
   "cell_type": "markdown",
   "metadata": {},
   "source": [
    "## The model"
   ]
  },
  {
   "cell_type": "markdown",
   "metadata": {},
   "source": [
    "Let's look at the model. To keep things simple, we'll use the `data_collector` app\n",
    "instead of creating a new one for alerts. Here is the code for our `Alert` model. Put\n",
    "this in `data_collector/models.p`y after the `DataPoint` model code:\n"
   ]
  },
  {
   "cell_type": "markdown",
   "metadata": {},
   "source": [
    "```sh\n",
    "class Alert(models.Model):\n",
    "    data_type = models.CharField(max_length=100)\n",
    "    min_value = models.FloatField(null=True, blank=True)\n",
    "    max_value = models.FloatField(null=True, blank=True)\n",
    "    node_name = models.CharField(max_length=250, blank=True)\n",
    "    is_active = models.BooleanField(default=True)\n",
    "    def save(self, *args, **kwargs):\n",
    "        if self.min_value is None and self.max_value is None:\n",
    "            raise models.exceptions.ValidationError('Both min and max value can not be empty for an alert')\n",
    "        super(Alert, self).save(*args, **kwargs)\n",
    "```"
   ]
  },
  {
   "cell_type": "markdown",
   "metadata": {},
   "source": [
    "Due to our special requirements for the min and max fields, we had to override the\n",
    "`save` method. As you can probably tell, our custom `save` method raises an error if\n",
    "both the min and max values are not set. As there is no way to express this condition\n",
    "with normal Django field configuration, we have to override the `save` method and\n",
    "add our custom logic here. This is a pretty common thing to do in Django if you have\n",
    "some custom validation requirements that depend on more than one field.\n",
    "\n"
   ]
  },
  {
   "cell_type": "markdown",
   "metadata": {},
   "source": [
    "One more thing to note is the `blank=True` parameter to the min and max\n",
    "FloatField. This is required so that any model forms constructed from this model,\n",
    "which we will use for the `create` and `update` views later, allow blank values for\n",
    "these fields.\n"
   ]
  },
  {
   "cell_type": "markdown",
   "metadata": {},
   "source": [
    "Make and run migrations to add this to your database.\n"
   ]
  },
  {
   "cell_type": "markdown",
   "metadata": {},
   "source": [
    "```sh\n",
    "> python manage.py makemigrations data_collector\n",
    "> python manage.py migrate data_collector\n",
    "```"
   ]
  },
  {
   "cell_type": "markdown",
   "metadata": {},
   "source": [
    "## Management views\n",
    "\n"
   ]
  },
  {
   "cell_type": "markdown",
   "metadata": {},
   "source": [
    "The users will need some views that they can use to manage alerts. They will need\n",
    "pages to view all the alerts defined in the system, a page to create new alerts and edit\n",
    "existing ones, and some way to delete alerts they no longer require. All of these are\n",
    "achievable using the generic view provided by Django and some templates. Let's get\n",
    "to it!\n"
   ]
  },
  {
   "cell_type": "markdown",
   "metadata": {},
   "source": [
    "\n",
    "First, let's look at the list view first. Add this to `data_collector/views.py`:"
   ]
  },
  {
   "cell_type": "markdown",
   "metadata": {},
   "source": [
    "```sh\n",
    "class AlertListView(ListView):\n",
    "    template_name = 'alerts_list.html'\n",
    "    model = Alert\n",
    "```"
   ]
  },
  {
   "cell_type": "markdown",
   "metadata": {},
   "source": [
    "Remember to import `ListView` from `django.views.generic` and `Alert` from\n",
    "`data_collector.models`. Next, create the `alerts_list.html` template file in\n",
    "`data_collector/templates` and give it the following content:"
   ]
  },
  {
   "cell_type": "markdown",
   "metadata": {},
   "source": [
    "```html\n",
    "{% extends \"base.html\" %}\n",
    "\n",
    "{% block content %}\n",
    "<h1>Defined Alerts</h1>\n",
    "\n",
    "{% if object_list %}\n",
    "<table>\n",
    "    <tr>\n",
    "        <th>Data Type</th>\n",
    "        <th>Min Value</th>\n",
    "        <th>Max Value</th>\n",
    "        <th>Node Name</th>\n",
    "        <th>Is Active</th>\n",
    "    </tr>\n",
    "    \n",
    "    {% for alert in object_list %}\n",
    "    <tr>\n",
    "        <td>{{ alert.data_type }}</td>\n",
    "        <td>{{ alert.min_value }}</td>\n",
    "        <td>{{ alert.max_value }}</td>\n",
    "        <td>{{ alert.node_name }}</td>\n",
    "        <td>{{ alert.is_active }}</td>\n",
    "    </tr>\n",
    "    {% endfor %}\n",
    "</table>\n",
    "{% else %}\n",
    "<i>No alerts defined</i>\n",
    "{% endif %}\n",
    "{% endblock %}\n",
    "```"
   ]
  },
  {
   "cell_type": "markdown",
   "metadata": {},
   "source": [
    "Finally, edit `djagios/urls.py`. Import the new view, and then add this to the\n",
    "URL patterns:\n",
    "\n"
   ]
  },
  {
   "cell_type": "markdown",
   "metadata": {},
   "source": [
    "```sh\n",
    "url(r'^alerts/$', AlertListView.as_view(), name='alerts-list'),\n",
    "```"
   ]
  },
  {
   "cell_type": "markdown",
   "metadata": {},
   "source": [
    "To test it out, open `http://127.0.0.1:8000/alerts/`. You should see the No\n",
    "Alerts Defined message. The list view is pretty basic. The `ListVew` generic view renders a template with all the objects for the specified model, providing the list of objects in the `object_list` template context variable. Next, let's look at the view to create new alerts."
   ]
  },
  {
   "cell_type": "markdown",
   "metadata": {},
   "source": [
    "In the `data_collector/view.py` file, first import the following:\n"
   ]
  },
  {
   "cell_type": "markdown",
   "metadata": {},
   "source": [
    "```sh\n",
    "from django.core.urlresolvers import reverse\n",
    "from django.views.generic import CreateView\n",
    "```\n"
   ]
  },
  {
   "cell_type": "markdown",
   "metadata": {},
   "source": [
    "Then add this view class:\n"
   ]
  },
  {
   "cell_type": "markdown",
   "metadata": {},
   "source": [
    "```sh\n",
    "class NewAlertView(CreateView):\n",
    "    template_name = 'create_or_update_alert.html'\n",
    "    model = Alert\n",
    "    fields = [\n",
    "        'data_type', 'min_value', 'max_value', 'node_name', 'is_active'\n",
    "    ]\n",
    "    def get_success_url(self):\n",
    "        return reverse('alerts-list')\n",
    "```"
   ]
  },
  {
   "cell_type": "markdown",
   "metadata": {},
   "source": [
    "Nothing new in the view code. The template code is quite simple as well. Put this\n",
    "code in `data_collector/templates/create_or_update_alert.html`:"
   ]
  },
  {
   "cell_type": "markdown",
   "metadata": {},
   "source": [
    "```sh\n",
    "{% extends \"base.html\" %}\n",
    "\n",
    "{% block content %}\n",
    "{% if object %}\n",
    "<h1>Update Alert</h1>\n",
    "{% else %}\n",
    "<h1>New Alert</h1>\n",
    "{% endif %}\n",
    "\n",
    "<form action=\"\" method=\"post\">{% csrf_token %}\n",
    "    {{ form.as_p }}\n",
    "    <input type=\"submit\" value=\"{% if object %}Update{% else %}\n",
    "Create{% endif %}\" />\n",
    "    <a href=\"{% url 'alerts-list' %}\">Cancel</a>\n",
    "</form>\n",
    "{% endblock %}\n",
    "```"
   ]
  },
  {
   "cell_type": "markdown",
   "metadata": {},
   "source": [
    "As in previous chapters, we use the `object` context variable to decide if this template\n",
    "was used from `CreateView` or `UpdateView` and change some elements based on this.\n",
    "Otherwise, it's pretty straightforward. Let's see the code for `UpdateView` as well:"
   ]
  },
  {
   "cell_type": "markdown",
   "metadata": {},
   "source": [
    "```sh\n",
    "class EditAlertView(UpdateView):\n",
    "    template_name = 'create_or_update_alert.html'\n",
    "    model = Alert\n",
    "    fields = [\n",
    "        'data_type', 'min_value', 'max_value', 'node_name', 'is_active'\n",
    "    ]\n",
    "    \n",
    "    def get_success_url(self):\n",
    "        return reverse('alerts-list')\n",
    "```"
   ]
  },
  {
   "cell_type": "markdown",
   "metadata": {},
   "source": [
    "It's an almost identical copy of the previous create view. Make sure that you have\n",
    "imported the `UpdateView` generic view. We still need to add both of these views to\n",
    "our URL configuration. In the `djagios/urls.py` file, import both `NewAlertView` and\n",
    "`EditAlertView` and add these patterns:"
   ]
  },
  {
   "cell_type": "markdown",
   "metadata": {},
   "source": [
    "```sh\n",
    "url(r'^alerts/new/$', NewAlertView.as_view(), name='alerts-new'),\n",
    "url(r'^alerts/(?P<pk>\\d+)/edit/$', EditAlertView.as_view(),name='alerts-edit'),\n",
    "```"
   ]
  },
  {
   "cell_type": "markdown",
   "metadata": {},
   "source": [
    "Before we can test these views, we should add links to allow users to get to these\n",
    "views. Modify the `alerts_list.html` template to match this code:"
   ]
  },
  {
   "cell_type": "markdown",
   "metadata": {},
   "source": [
    "```html\n",
    "{% extends \"base.html\" %}\n",
    "\n",
    "{% block content %}\n",
    "<h1>Defined Alerts</h1>\n",
    "\n",
    "{% if object_list %}\n",
    "<table>\n",
    "    <tr>\n",
    "        <th>Data Type</th>\n",
    "        <th>Min Value</th>\n",
    "        <th>Max Value</th>\n",
    "        <th>Node Name</th>\n",
    "        <th>Is Active</th>\n",
    "    </tr>\n",
    "    \n",
    "    {% for alert in object_list %}\n",
    "    <tr>\n",
    "        <td>{{ alert.data_type }}</td>\n",
    "        <td>{{ alert.min_value }}</td>\n",
    "        <td>{{ alert.max_value }}</td>\n",
    "        <td>{{ alert.node_name }}</td>\n",
    "        <td>{{ alert.is_active }}</td>\n",
    "        <td><a href=\"{% url 'alerts-edit' pk=alert.pk %}\">Edit</a></td>\n",
    "    </tr>\n",
    "    {% endfor %}\n",
    "</table>\n",
    "\n",
    "{% else %}\n",
    "<i>No alerts defined</i>\n",
    "{% endif %}\n",
    "<p><a href=\"{% url 'alerts-new' %}\">Add New Alert</a></p>\n",
    "{% endblock %}\n",
    "```"
   ]
  },
  {
   "cell_type": "markdown",
   "metadata": {},
   "source": [
    "Two new lines, which are highlighted, have been added. Now, let's see what our\n",
    "alerts list page looks like. As before, open `http://127.0.0.1:8000/alerts/` in\n",
    "your browser. You should see a page as follows:"
   ]
  },
  {
   "cell_type": "markdown",
   "metadata": {},
   "source": [
    "![Difined Alerts](img/Difined Alerts.png)"
   ]
  },
  {
   "cell_type": "markdown",
   "metadata": {},
   "source": [
    "Click on the Add New Alert link and you should see the form to create an alert. Fill\n",
    "it in with some sample data and click on the Create button. If your form didn't have\n",
    "any errors, you should be back to the alerts list view and your screen should now list\n",
    "the new alert, as shown in the following screenshot:"
   ]
  },
  {
   "cell_type": "markdown",
   "metadata": {},
   "source": [
    "![Difined Alerts new](img/Difined Alerts new.png)"
   ]
  },
  {
   "cell_type": "markdown",
   "metadata": {},
   "source": [
    "All that's left now is to allow users the option to delete their alerts. For this, create\n",
    "a view that subclasses from the generic DeleteView, remembering to import\n",
    "`DeleteView `from `django.views.generic` first. Here's the code you should put in\n",
    "`data_collector/view.py`:"
   ]
  },
  {
   "cell_type": "markdown",
   "metadata": {},
   "source": [
    "```sh\n",
    "class DeleteAlertView(DeleteView):\n",
    "    template_name = 'delete_alert.html'\n",
    "    model = Alert\n",
    "    def get_success_url(self):\n",
    "        return reverse('alerts-list')\n",
    "```"
   ]
  },
  {
   "cell_type": "markdown",
   "metadata": {},
   "source": [
    "Create a new `data_collector/templates/delete_alert.html` template:"
   ]
  },
  {
   "cell_type": "markdown",
   "metadata": {},
   "source": [
    "```html\n",
    "{% extends \"base.html\" %}\n",
    "\n",
    "{% block content %}\n",
    "<h1>Delete alert?</h1>\n",
    "<p>Are you sure you want to delete this alert?</p>\n",
    "<form action=\"\" method=\"post\">{% csrf_token %}\n",
    "    {{ form.as_p }}\n",
    "    <input type=\"submit\" value=\"Delete\" />\n",
    "    <a href=\"{% url 'alerts-list' %}\">Cancel</a>\n",
    "</form>\n",
    "{% endblock %}\n",
    "```"
   ]
  },
  {
   "cell_type": "markdown",
   "metadata": {},
   "source": [
    "Next, import `DeleteAlertView` in `djagios/urls.py` and add this new pattern:\n"
   ]
  },
  {
   "cell_type": "markdown",
   "metadata": {},
   "source": [
    "```sh\n",
    "url(r'^alerts/(?P<pk>\\d+)/delete/$', DeleteAlertView.as_view(),name='alerts-delete'),\n",
    "```"
   ]
  },
  {
   "cell_type": "markdown",
   "metadata": {},
   "source": [
    "Finally, let's add a link to the delete view from the alerts list page. Edit the `alerts_\n",
    "list.html` template and add this line right after the Edit link:"
   ]
  },
  {
   "cell_type": "markdown",
   "metadata": {},
   "source": [
    "```html\n",
    "<td><a href=\"{% url 'alerts-delete' pk=alert.pk %}\">Delete</a></td>\n",
    "```"
   ]
  },
  {
   "cell_type": "markdown",
   "metadata": {},
   "source": [
    "Now when you open the alerts list view, you should see a Delete link. Your screen\n",
    "should look similar to the following screenshot:"
   ]
  },
  {
   "cell_type": "markdown",
   "metadata": {},
   "source": [
    "![Difined Alerts new](img/Difined Alerts new2.png)"
   ]
  },
  {
   "cell_type": "markdown",
   "metadata": {},
   "source": [
    "If you click on the Delete link, you should see a confirmation page. If you confirm\n",
    "the deletion, you will see that your alert will be gone from the list page. These are\n",
    "all the views that we will need to manage alerts. Let's move on to detecting alert\n",
    "conditions and showing them in the status page."
   ]
  },
  {
   "cell_type": "markdown",
   "metadata": {},
   "source": [
    "## Showing triggered alerts on the status page\n",
    "\n"
   ]
  },
  {
   "cell_type": "markdown",
   "metadata": {},
   "source": [
    "As I said before, we want our users to see any nodes that have an alert triggered\n",
    "highlighted on the status page. Say that they defined an alert for when the disk usage\n",
    "on any node goes beyond `0.85` and the latest data point that we have for dbmaster\n",
    "disk usage has the value 0.9. When the user visits the status page, we would like the\n",
    "row showing the disk usage of the dbmaster node to be highlighted in red so that the\n",
    "user is immediately aware of the alert and is able to take actions to correct this."
   ]
  },
  {
   "cell_type": "markdown",
   "metadata": {},
   "source": [
    "Change `StatusView` in `data_collector/view.py` to match the following code. The\n",
    "changed bits are highlighted:"
   ]
  },
  {
   "cell_type": "markdown",
   "metadata": {},
   "source": [
    "```sh\n",
    "class StatusView(TemplateView):\n",
    "    template_name = 'status.html'\n",
    "    \n",
    "    def get_context_data(self, **kwargs):\n",
    "        ctx = super(StatusView, self).get_context_data(**kwargs)\n",
    "        \n",
    "        alerts = Alert.objects.filter(is_active=True)\n",
    "        \n",
    "        nodes_and_data_types = DataPoint.objects.all().values('node_name', 'data_type').distinct()\n",
    "        \n",
    "        status_data_dict = dict()\n",
    "        for node_and_data_type_pair in nodes_and_data_types:\n",
    "            node_name = node_and_data_type_pair['node_name']\n",
    "            data_type = node_and_data_type_pair['data_type']\n",
    "            \n",
    "            latest_data_point = DataPoint.objects.filter(node_name=node_name, data_type=data_type).latest('datetime')\n",
    "                \n",
    "            latest_data_point.has_alert = self.does_have_alert(latest_data_point, alerts)\n",
    "                \n",
    "            data_point_map = status_data_dict.setdefault(node_name,dict())\n",
    "            data_point_map[data_type] = latest_data_point\n",
    "            \n",
    "        ctx['status_data_dict'] = status_data_dict\n",
    "        \n",
    "        return ctx\n",
    "        \n",
    "    def does_have_alert(self, data_point, alerts):\n",
    "        for alert in alerts:\n",
    "            if alert.node_name and data_point.node_name != alert.node_name:\n",
    "                continue\n",
    "            if alert.data_type != data_point.data_type:\n",
    "                continue\n",
    "            if alert.min_value is not None and data_point.data_value < alert.min_value:\n",
    "                return True\n",
    "            if alert.max_value is not None and data_point.data_value > alert.max_value:\n",
    "                return True\n",
    "        return False\n",
    "```"
   ]
  },
  {
   "cell_type": "markdown",
   "metadata": {},
   "source": [
    "What we have done here is to check, for each data point that we retrieve, whether it\n",
    "triggers any alert. We do this by comparing the min and max values in every alert\n",
    "with the data point value, but only if the data point data type and node name match\n",
    "those in the alert. If the data point value is outside of the alert range, we mark the\n",
    "data point as having triggered an alert.\n"
   ]
  },
  {
   "cell_type": "markdown",
   "metadata": {},
   "source": [
    "This is another technique often used by me in a number of projects I've done. As\n",
    "models are just Python objects, you can attach extra information to them on the fly.\n",
    "No need to define` has_alert` on the `DataPoint` class. Just add it to the objects when\n",
    "needed. Be careful though. It's not a good programming practice to do something\n",
    "like this, because someone trying to understand the `DataPoint` class will have no\n",
    "idea that the `has_alert` attribute event exists unless they look at the code for the\n",
    "view class. As we only use this attribute in the view and template, it's fine for us.\n",
    "However, if we passed the `DataPoint` objects around and more code started using\n",
    "this attribute, it would be much better to define it on the class itself so that anyone\n",
    "looking at the class code would know it existed."
   ]
  },
  {
   "cell_type": "markdown",
   "metadata": {},
   "source": [
    "We need to modify the `status.html` template as well to make use of the `has_alert`\n",
    "attribute that we have added to the data points. Change it to match the following\n",
    "code. As before, the modified portions have been highlighted:"
   ]
  },
  {
   "cell_type": "markdown",
   "metadata": {},
   "source": [
    "```html\n",
    "{% extends \"base.html\" %}\n",
    "\n",
    "{% load humanize %}\n",
    "\n",
    "{% block content %}\n",
    "<h1>Status</h1>\n",
    "\n",
    "<table>\n",
    "    <tbody>\n",
    "        <tr>\n",
    "            <th>Node Name</th>\n",
    "            <th>Metric</th>\n",
    "            <th>Value</th>\n",
    "            <th>Last Updated</th>\n",
    "        </tr>\n",
    "        \n",
    "        {% for node_name, data_type_to_data_point_map in status_data_dict.items %}\n",
    "            {% for data_type, data_point in data_type_to_data_point_map.items %}\n",
    "            <tr {% if data_point.has_alert %}class=\"has-alert\"{% endif%}>\n",
    "                <td>{% if forloop.first %}{{ node_name }}{% endif %}</td>\n",
    "                <td>{{ data_type }}</td>\n",
    "                <td>{{ data_point.data_value }}</td>\n",
    "                <td>{{ data_point.datetime|naturaltime }}</td>\n",
    "            </tr>\n",
    "            {% endfor %}\n",
    "        {% endfor %}\n",
    "    </tbody>\n",
    "</table>\n",
    "\n",
    "<style type=\"text/css\" media=\"all\">\n",
    "    tr.has-alert td:not(:first-child) {\n",
    "        color: red;\n",
    "    }\n",
    "</style>\n",
    "{% endblock %}\n",
    "```"
   ]
  },
  {
   "cell_type": "markdown",
   "metadata": {},
   "source": [
    "That's it. In order to test it out, you need to create some `Alert `objects that will be\n",
    "triggered by `DataPoints` in your database. For the sample data that I used, I created\n",
    "one `Alert` object with the disk_usage data type and a max value of 0.5. After\n",
    "creating the alert, my status screen highlighted the nodes that triggered the alert.\n",
    "You screen will show something similar:"
   ]
  },
  {
   "cell_type": "markdown",
   "metadata": {},
   "source": [
    "![status](img/status1.png)"
   ]
  },
  {
   "cell_type": "markdown",
   "metadata": {},
   "source": [
    "To test whether our highlighting code works correctly, I added another data point\n",
    "for the dbmaster disk usage metric, using the following command:"
   ]
  },
  {
   "cell_type": "markdown",
   "metadata": {},
   "source": [
    "```sh\n",
    "> python manage.py sample_data dbmaster disk_usage 0.2\n",
    "```"
   ]
  },
  {
   "cell_type": "markdown",
   "metadata": {},
   "source": [
    "After refreshing the status page, the alert condition for the dbmaster node\n",
    "disappeared. You should do a similar test to see for yourself."
   ]
  },
  {
   "cell_type": "markdown",
   "metadata": {},
   "source": [
    "That's it! It's been hard work, but our monitoring tool is now starting to shape up.\n",
    "We have a status page that shows the latest node statuses, highlighting any that\n",
    "have alerts. The highlights disappear once the alert condition is resolved. We have\n",
    "a page to manage our alerts as well. All in all, we can say that the user-facing parts\n",
    "of the application are almost finished. One thing that would be pretty helpful is a\n",
    "navigation bar. Add this just after the start of the `body` tag in `templates/base.html`:"
   ]
  },
  {
   "cell_type": "markdown",
   "metadata": {},
   "source": [
    "```html\n",
    "<ul>\n",
    "    <li><a href=\"{% url 'status' %}\">Home</a></li>\n",
    "    <li><a href=\"{% url 'alerts-list' %}\">Alerts</a></li>\n",
    "</ul>\n",
    "```"
   ]
  },
  {
   "cell_type": "markdown",
   "metadata": {},
   "source": [
    "Refresh the status page and you should see a simple navigation menu at the top of\n",
    "the page."
   ]
  },
  {
   "cell_type": "markdown",
   "metadata": {},
   "source": [
    "## Accepting data from remote systems\n"
   ]
  },
  {
   "cell_type": "markdown",
   "metadata": {},
   "source": [
    "Now that users can see the status of their infrastructure and manage alerts, it's time\n",
    "to move on to the next step: getting data from real sources instead of using Django\n",
    "management commands to input sample data."
   ]
  },
  {
   "cell_type": "markdown",
   "metadata": {},
   "source": [
    "To do so, we will create an API endpoint that accepts data from remote systems. An\n",
    "API endpoint is just a fancy name for a Django view that doesn't have a template to\n",
    "render. The response from an API endpoint is typically either just a 200 OK status or\n",
    "a JSON response. API endpoints are not meant to be used by human users. Instead,\n",
    "they are meant to be used by different software systems to connect together and\n",
    "share information."
   ]
  },
  {
   "cell_type": "markdown",
   "metadata": {},
   "source": [
    "The API endpoint that we need to create will be a simple view that accepts a POST\n",
    "request with all the information needed to create a new DataPoint object. To make\n",
    "sure that malicious users can't spam our database with random data, we will also\n",
    "add a simple authentication mechanism to our API endpoint so that it will accept\n",
    "data only from authorized sources."
   ]
  },
  {
   "cell_type": "markdown",
   "metadata": {},
   "source": [
    "To create an API endpoint, we'll use the `django.view.generic.View` class,\n",
    "implementing only the POST handler. To parse the request data, we'll be creating a\n",
    "model form on the fly. Edit `data_collector/views.py` and add the following code:"
   ]
  },
  {
   "cell_type": "markdown",
   "metadata": {},
   "source": [
    "```python\n",
    "from django.forms.models import modelform_factory\n",
    "from django.http.response import HttpResponse\n",
    "from django.http.response import HttpResponseBadRequest\n",
    "from django.http.response import HttpResponseForbidden\n",
    "from django.views.generic import View\n",
    "\n",
    "class RecordDataApiView(View):\n",
    "    def post(self, request, *args, **kwargs):\n",
    "        # Check if the secret key matches\n",
    "        if request.META.get('HTTP_AUTH_SECRET') != 'supersecretkey':\n",
    "            return HttpResponseForbidden('Auth key incorrect')\n",
    "        form_class = modelform_factory(DataPoint, fields=['node_name','data_type', 'data_value'])\n",
    "        form = form_class(request.POST)\n",
    "        if form.is_valid():\n",
    "            form.save()\n",
    "            return HttpResponse()\n",
    "        else:\n",
    "            return HttpResponseBadRequest()\n",
    "```"
   ]
  },
  {
   "cell_type": "markdown",
   "metadata": {},
   "source": [
    "There are a couple of new things here that we need to look at. Firstly, we have used\n",
    "the `META` attribute on the request object to access a request. If you have knowledge of\n",
    "how the HTTP protocol works, you should be familiar with headers. If not, a good\n",
    "explanation is available at `https://www.jmarshall.com/easy/http/`. Explaining\n",
    "headers in detail is beyond the scope of this book, but simply stated, headers are\n",
    "extra pieces of information added to an HTTP request by the client. We'll see how to\n",
    "add them in the next section when we test our API view.\n",
    "\n"
   ]
  },
  {
   "cell_type": "markdown",
   "metadata": {},
   "source": [
    "Django automatically normalizes all header names and adds them to the `META`\n",
    "dictionary. Here, we are using a custom header Auth-Secret to make sure that\n",
    "only clients that have our secret key can use this view."
   ]
  },
  {
   "cell_type": "markdown",
   "metadata": {},
   "source": [
    ">More information about what goes into the META dictionary and how it is consturcted is available in the Django docs at https://docs.djangoproject.com/en/stable/ref/ request-response/#django.http.HttpRequest.META."
   ]
  },
  {
   "cell_type": "markdown",
   "metadata": {},
   "source": [
    "The next thing that we need to look at is the `modelform_factor`y function. It's\n",
    "a neat little function provided by Django that returns a `ModelForm` subclass for\n",
    "the given model. You can customize the model form to a certain degree using the\n",
    "arguments to this function. Here, we limit the number of fields that can be edited.\n",
    "Why use a model form in the first place?\n"
   ]
  },
  {
   "cell_type": "markdown",
   "metadata": {},
   "source": [
    "What we wanted from the API endpoint was a method to create new `DataPoint`\n",
    "models. Model forms provide exactly the functionality that we need to do this plus\n",
    "they handle data validation for us. We could have created a separate model form\n",
    "class in a `forms.py` file and then used that in our view as we have done before, but\n",
    "there are two reasons we didn't.\n"
   ]
  },
  {
   "cell_type": "markdown",
   "metadata": {},
   "source": [
    "Firstly, this was the only place in our code where we use a model form for the\n",
    "`DataPoint` method. If we needed to use it in other places as well, defining the model\n",
    "form in a single place would be the best programming practice. However, as we\n",
    "don't, we can get away with defining the model form dynamically where we need it.\n"
   ]
  },
  {
   "cell_type": "markdown",
   "metadata": {},
   "source": [
    "Secondly, we didn't need any customizations to the model form class. If we wanted\n",
    "to, say, override the `save` method as we've done previously, we would have been\n",
    "forced to define the class instead of using the `modelform_factory` method."
   ]
  },
  {
   "cell_type": "markdown",
   "metadata": {},
   "source": [
    "After getting the model form class, we use it like any model form class to either\n",
    "create the new data point or return a response indicating that the data validation\n",
    "failed. To make our new endpoint available via a URL, import the following in\n",
    "djagios/urls.py:"
   ]
  },
  {
   "cell_type": "markdown",
   "metadata": {},
   "source": [
    "```python\n",
    "from django.views.decorators.csrf import csrf_exempt\n",
    "from data_collector.views import RecordDataApiView\n",
    "```"
   ]
  },
  {
   "cell_type": "markdown",
   "metadata": {},
   "source": [
    "Then, add this URL pattern:\n"
   ]
  },
  {
   "cell_type": "markdown",
   "metadata": {},
   "source": [
    "```\n",
    "url(r'^record/$', csrf_exempt(RecordDataApiView.as_view()),name='record-data'),\n",
    "```"
   ]
  },
  {
   "cell_type": "markdown",
   "metadata": {},
   "source": [
    "The `csrf_exempt` decorator is used because, by default, Django uses CSRF\n",
    "protection for POST requests. However, this is usually used on web forms, not API\n",
    "endpoints. So we have to disable it, otherwise Django won't allow our POST request\n",
    "to succeed. Now, let's look at how to test out our new view."
   ]
  },
  {
   "cell_type": "markdown",
   "metadata": {},
   "source": [
    ">You can get more information about CSRF protection provided by Django at `https://docs.djangoproject.com/en/stable/ref/csrf/.`"
   ]
  },
  {
   "cell_type": "markdown",
   "metadata": {},
   "source": [
    "## Testing API endpoints\n"
   ]
  },
  {
   "cell_type": "markdown",
   "metadata": {},
   "source": [
    "\n",
    "You can't simply test this API endpoint in your browser because it's a POST request\n",
    "and there's no template that can render a form in your browser. However, a lot\n",
    "of great tools are available to make manual POST requests. The one that I suggest\n",
    "you use is Postman. It's a Google Chrome app, so you don't need to install any\n",
    "dependencies. As long as you have Google Chrome installed on your machine, you\n",
    "can get Postman from `https://www.getpostman.com/`. After you have installed\n",
    "it, start it up and you should see a screen similar to the following one. Don't\n",
    "worry if your Postman screen isn't exactly the same. It can be that the version you\n",
    "downloaded is a newer one. The main parts of Postman should be the same."
   ]
  },
  {
   "cell_type": "markdown",
   "metadata": {},
   "source": [
    "![Testing API endpoints_1](img/Testing API endpoints_1.png)"
   ]
  },
  {
   "cell_type": "markdown",
   "metadata": {},
   "source": [
    "Using Postman is simple. I will walk you through the entire process step by step,\n",
    "including an image for each step to make it clear what I mean. At the end of this\n",
    "process, we should be able to use our API endpoint to generate a new data point.\n"
   ]
  },
  {
   "cell_type": "markdown",
   "metadata": {},
   "source": [
    "As a side note, if you are using a Linux- or Unix-based OS, such as Ubuntu or Mac\n",
    "OS X, and are more comfortable using the command line, you can use the curl\n",
    "utility to make the POST request. It is usually faster for simpler requests. To make\n",
    "the same request using `curl` as the one I demonstrate here in Postman, type this on\n",
    "your command prompt:"
   ]
  },
  {
   "cell_type": "markdown",
   "metadata": {},
   "source": [
    "```sh\n",
    "> curl http://127.0.0.1:8000/record/ -H 'Auth-Secret: supersecretkey' -d\n",
    "node_name=web01 -d data_type=disk_usage -d data_value=0.2\n",
    "```"
   ]
  },
  {
   "cell_type": "markdown",
   "metadata": {},
   "source": [
    "To make this request using Postman, perform the following steps:\n",
    "\n",
    "1. Select the request type. We want to make a POST request, so select POST from the drop-down menu:"
   ]
  },
  {
   "cell_type": "markdown",
   "metadata": {},
   "source": [
    "![Testing API endpoints_2](img/Testing API endpoints_2.png)"
   ]
  },
  {
   "cell_type": "markdown",
   "metadata": {},
   "source": [
    "2.Enter the URL you want to make the request to. In our case, it is\n",
    "http://127.0.0.1:8000/record/:"
   ]
  },
  {
   "cell_type": "markdown",
   "metadata": {},
   "source": [
    "![Testing API endpoints_3](img/Testing API endpoints_3.png)"
   ]
  },
  {
   "cell_type": "markdown",
   "metadata": {},
   "source": [
    "3.Add our custom authentication header. Open up the Headers tab and add the Auth-Secret header with a value of supersecretkey:"
   ]
  },
  {
   "cell_type": "markdown",
   "metadata": {},
   "source": [
    "![Testing API endpoints_4](img/Testing API endpoints_4.png)"
   ]
  },
  {
   "cell_type": "markdown",
   "metadata": {},
   "source": [
    "4.Finally, add our POST parameters to the Body section. The sample data that I used was as follows:\n",
    "- node_name: web01\n",
    "- data_type: disk_usage\n",
    "-  data_value: 0.72"
   ]
  },
  {
   "cell_type": "markdown",
   "metadata": {},
   "source": [
    "![Testing API endpoints_5](img/Testing API endpoints_5.png)"
   ]
  },
  {
   "cell_type": "markdown",
   "metadata": {},
   "source": [
    "That's it. Our request is now set up. Click on the Send button next to the URL textbox\n",
    "and you should see an empty response below the body parameters. To confirm that\n",
    "the request worked properly, look at the status code of the response.\n",
    "It should be 200 OK:"
   ]
  },
  {
   "cell_type": "markdown",
   "metadata": {},
   "source": [
    "![Testing API endpoints_6](img/Testing API endpoints_6.png)"
   ]
  },
  {
   "cell_type": "markdown",
   "metadata": {},
   "source": [
    "Open up the status page for our application at `http://127.0.0.1:8000/` and you\n",
    "should see the latest data point value displayed there. That's it, we're done!"
   ]
  },
  {
   "cell_type": "markdown",
   "metadata": {},
   "source": [
    "> As explained at the start of this section, you can also use\n",
    "command-line tools such as `curl` to upload data to the\n",
    "API. Using such tools, you can come up with shell scripts\n",
    "that automatically update the web app with real data from\n",
    "your computer systems. This is how Nagios and a lot of data\n",
    "monitoring tools operate as well. The servers have API endpoints\n",
    "that listen for data, and then simple scripts gather and upload\n",
    "data to the servers from the client nodes."
   ]
  },
  {
   "cell_type": "markdown",
   "metadata": {},
   "source": [
    "## Summary\n",
    "\n"
   ]
  },
  {
   "cell_type": "markdown",
   "metadata": {},
   "source": [
    "This was a pretty demanding chapter, and you learned a lot of new information.\n",
    "\n"
   ]
  },
  {
   "cell_type": "markdown",
   "metadata": {},
   "source": [
    "For starters, we looked at Django management commands. They are an important\n",
    "feature of Django. All Django commands that you run, such as `python manage.py`\n",
    "startapp, are management commands as well, so you should already know how\n",
    "powerful they can be. In bigger projects, you almost always have a few management\n",
    "commands to automate your tasks for you.\n",
    "\n"
   ]
  },
  {
   "cell_type": "markdown",
   "metadata": {},
   "source": [
    "We also looked at how Django creates a string representation of our models using\n",
    "the `__str__` method on our model class. It's not just used when printing to the\n",
    "console either. Any time you try to use your model objects as strings, even in your\n",
    "templates, Django uses this representation, so it's important to have a good format\n",
    "that can immediately give you all the important information about an object.\n"
   ]
  },
  {
   "cell_type": "markdown",
   "metadata": {},
   "source": [
    "\n",
    "This chapter also introduced advance query methods, specifically the `distinct` and\n",
    "`values` methods that allow you to issue more complicated SQL queries to get data in\n",
    "exactly the format you want from the database. However, this is just the beginning.\n",
    "In later chapters, we might need to use more complicated query methods. You might\n",
    "want to look at the Django documentation for `queryset` methods at `https://docs.djangoproject.com/en/stable/ref/models/querysets/` to learn about more\n",
    "methods of querying the databases that Django provides.\n",
    "\n"
   ]
  },
  {
   "cell_type": "markdown",
   "metadata": {},
   "source": [
    "In addition to getting data from the database in a format that we wanted, we also\n",
    "looked at preparing a somewhat complicated data structure with the data to pass all\n",
    "the required information to templates, and then saw how to use that data structure in\n",
    "our templates.\n"
   ]
  },
  {
   "cell_type": "markdown",
   "metadata": {},
   "source": [
    "\n",
    "Often, you have complicated data validation rules that you need to ensure are\n",
    "passing before you can save data to a database. We looked at how to achieve\n",
    "this in this chapter by overriding the `save` method of our model classes.\n",
    "\n"
   ]
  },
  {
   "cell_type": "markdown",
   "metadata": {},
   "source": [
    "Finally, you learned how to create simple API endpoints and how to test them\n",
    "using `curl` or Postman. Overall, this was a big chapter that introduced a lot of\n",
    "new concepts that will be used in later chapters."
   ]
  },
  {
   "cell_type": "code",
   "execution_count": null,
   "metadata": {
    "collapsed": true
   },
   "outputs": [],
   "source": []
  }
 ],
 "metadata": {
  "kernelspec": {
   "display_name": "Python 3",
   "language": "python",
   "name": "python3"
  },
  "language_info": {
   "codemirror_mode": {
    "name": "ipython",
    "version": 3
   },
   "file_extension": ".py",
   "mimetype": "text/x-python",
   "name": "python",
   "nbconvert_exporter": "python",
   "pygments_lexer": "ipython3",
   "version": "3.5.1"
  }
 },
 "nbformat": 4,
 "nbformat_minor": 0
}
