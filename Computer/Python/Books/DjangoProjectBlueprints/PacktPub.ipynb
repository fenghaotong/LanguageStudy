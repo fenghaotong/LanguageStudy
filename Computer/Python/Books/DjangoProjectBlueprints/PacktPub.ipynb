{
 "cells": [
  {
   "cell_type": "markdown",
   "metadata": {},
   "source": [
    "# www.PacktPub.com"
   ]
  },
  {
   "cell_type": "markdown",
   "metadata": {},
   "source": [
    "## eBooks, discount offers, and more"
   ]
  },
  {
   "cell_type": "markdown",
   "metadata": {},
   "source": [
    "Did you know that Packt offers eBook versions of every book published, with PDF\n",
    "and ePub files available? You can upgrade to the eBook version at <www.PacktPub.com>\n",
    "and as a print book customer, you are entitled to a discount on the eBook copy. Get in\n",
    "touch with us at <customercare@packtpub.com> for more details."
   ]
  },
  {
   "cell_type": "markdown",
   "metadata": {},
   "source": [
    "At <www.PacktPub.com>, you can also read a collection of free technical articles, sign\n",
    "up for a range of free newsletters and receive exclusive discounts and offers on Packt\n",
    "books and eBooks."
   ]
  },
  {
   "cell_type": "markdown",
   "metadata": {},
   "source": [
    "<https://www2.packtpub.com/books/subscription/packtlib>"
   ]
  },
  {
   "cell_type": "markdown",
   "metadata": {},
   "source": [
    "Do you need instant solutions to your IT questions? PacktLib is Packt's online digital\n",
    "book library. Here, you can search, access, and read Packt's entire library of books."
   ]
  },
  {
   "cell_type": "markdown",
   "metadata": {},
   "source": [
    "## Why subscribe?"
   ]
  },
  {
   "cell_type": "markdown",
   "metadata": {},
   "source": [
    "* Fully searchable across every book published by Packt\n",
    "* Copy and paste, print, and bookmark content\n",
    "* On demand and accessible via a web browser"
   ]
  }
 ],
 "metadata": {
  "kernelspec": {
   "display_name": "Python 3",
   "language": "python",
   "name": "python3"
  },
  "language_info": {
   "codemirror_mode": {
    "name": "ipython",
    "version": 3
   },
   "file_extension": ".py",
   "mimetype": "text/x-python",
   "name": "python",
   "nbconvert_exporter": "python",
   "pygments_lexer": "ipython3",
   "version": "3.5.1"
  }
 },
 "nbformat": 4,
 "nbformat_minor": 0
}
