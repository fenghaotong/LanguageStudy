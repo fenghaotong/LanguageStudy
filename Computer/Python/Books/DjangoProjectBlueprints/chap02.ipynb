{
 "cells": [
  {
   "cell_type": "markdown",
   "metadata": {},
   "source": [
    "# Chapter 2: Discuss – a Hacker News Clone"
   ]
  },
  {
   "cell_type": "markdown",
   "metadata": {},
   "source": [
    "In this chapter, we'll be creating a web app similar to Hacker News or Reddit, where\n",
    "users can share and discuss links to web content. We'll call the application Discuss.\n",
    "To keep things simple, we'll be emulating the minimalistic look of Hacker News,\n",
    "which is text only and has a very simple interface. Reddit, on the other hand, is much\n",
    "more visually rich and has a lot of extra features that we won't be adding to our site."
   ]
  },
  {
   "cell_type": "markdown",
   "metadata": {},
   "source": [
    "Here's an outline of what we'll be covering in this chapter:\n",
    "* Allowing users to submit their own content\n",
    "* Allowing users to vote on content submitted by other users\n",
    "* Ranking the user-submitted content based on simple algorithms\n",
    "* Preventing spammers from abusing our site using captchas"
   ]
  },
  {
   "cell_type": "markdown",
   "metadata": {},
   "source": [
    "## Chapter code packs"
   ]
  },
  {
   "cell_type": "markdown",
   "metadata": {},
   "source": [
    "If you have developed a few Django applications, you'll probably know that for most\n",
    "applications, a lot of the code and configurations that you do when starting out is the\n",
    "same. You set up the database in the same way, maybe changing the **Database (DB)**\n",
    "name and user/pass pairs, you set up your media, static URL, and root paths, and\n",
    "then you add user authentication using the built-in `auth contrib` application and\n",
    "the provided views, only creating minimal templates that are good enough to get the\n",
    "job done in the start."
   ]
  },
  {
   "cell_type": "markdown",
   "metadata": {},
   "source": [
    "Walking you through the basic setup at the start of every chapter would be very\n",
    "boring—both for you to read and for me to write. Instead, I've provided what I call\n",
    "**Code Packs**. These are `zip` files that contain the Django application already set up so\n",
    "that we can jump straight to the interesting parts of the code instead of having to go\n",
    "through the tedious setup process again and again."
   ]
  },
  {
   "cell_type": "markdown",
   "metadata": {},
   "source": [
    "Don't worry, I won't skip any new Django features that we haven't looked at yet. Each\n",
    "code pack contains code that has already been explained to you in previous chapters.\n",
    "For instance, the code pack for this chapter contains a Django application that has the\n",
    "user registration, login, and logout views, templates, and URLs already set up. This is\n",
    "the stuff that we have already looked at in detail in the previous chapter."
   ]
  },
  {
   "cell_type": "markdown",
   "metadata": {},
   "source": [
    "To use these code packs, you will need to download them, unzip them in the project\n",
    "root folder, and create a virtual environment for them. Then, you'll need to run the\n",
    "following command to have Django installed in your new virtual environment:"
   ]
  },
  {
   "cell_type": "markdown",
   "metadata": {},
   "source": [
    "```sh\n",
    "> pip install django\n",
    "> python manage.py migrate\n",
    "```"
   ]
  },
  {
   "cell_type": "markdown",
   "metadata": {},
   "source": [
    "Once you've done all these steps, you'll be ready to start working on the fun parts\n",
    "of the application. For all the following chapters, I've given you the link to the code\n",
    "pack and I assume that you have already extracted and set up a virtual environment\n",
    "for it."
   ]
  },
  {
   "cell_type": "markdown",
   "metadata": {},
   "source": [
    "> tips\n",
    "\n",
    "> If you are not sure how to use the code packs, there is `Readme.txt`\n",
    "in each ZIP file. You should read this to figure out how to get started\n",
    "using the code pack."
   ]
  },
  {
   "cell_type": "markdown",
   "metadata": {},
   "source": [
    "## Requirements "
   ]
  },
  {
   "cell_type": "markdown",
   "metadata": {},
   "source": [
    "For any complex application, it is always a good idea to know what features we\n",
    "need to work on before we jump into coding. Let's look at what we want to create\n",
    "in this chapter."
   ]
  },
  {
   "cell_type": "markdown",
   "metadata": {},
   "source": [
    "We want to have a Django-based link sharing and discussion site like Hacker News.\n",
    "The site should have user accounts, allow users to share links, have a page where\n",
    "these links are listed in some defined order, and allow users to vote and comment on\n",
    "those links."
   ]
  },
  {
   "cell_type": "markdown",
   "metadata": {},
   "source": [
    "Additionally, we'd like to have safeguards against spammers and malicious users\n",
    "who would degrade the content quality of our site if left unchecked."
   ]
  },
  {
   "cell_type": "markdown",
   "metadata": {},
   "source": [
    "In a list form, here are the features that we want our application to provide:\n",
    "* User registration and authentication (already provided in the code pack)\n",
    "* Link submission by users\n",
    "* Voting on links submitted by other users\n",
    "* Commenting on the submissions and replying to comments by other users\n",
    "* An algorithm to rank the submitted links in some defined order that\n",
    "depends on a number of factors including the votes for that link, number of\n",
    "comments, and age of the submission\n",
    "* A way to disallow spammers from creating scripts that can automatically\n",
    "flood our site with submissions"
   ]
  },
  {
   "cell_type": "markdown",
   "metadata": {},
   "source": [
    "## Starting out"
   ]
  },
  {
   "cell_type": "markdown",
   "metadata": {},
   "source": [
    "By now you should have the application ready to test if you've followed the\n",
    "instructions given at the start of the chapter. Let's see what it looks like at the\n",
    "moment. Start the application by running the following command in your terminal\n",
    "from the application folder. You'll need to make sure that your virtual environment\n",
    "is activated before you can run this command:"
   ]
  },
  {
   "cell_type": "markdown",
   "metadata": {},
   "source": [
    "```sh\n",
    "> python manage.py runserver\n",
    "```"
   ]
  },
  {
   "cell_type": "markdown",
   "metadata": {},
   "source": [
    "Open `http://127.0.0.1:8000` in your browser and you should see the following\n",
    "basic page:"
   ]
  },
  {
   "cell_type": "markdown",
   "metadata": {},
   "source": [
    "![Welcome to Discuss](img/Discuss_Welcome.png)"
   ]
  },
  {
   "cell_type": "markdown",
   "metadata": {},
   "source": [
    "As you can see, we have links for **Login** and **Create New Account**. You should go\n",
    "ahead and create a new account. Log in with this account and you'll see the two links\n",
    "replaced with a **Logout** link. This is the basic application setup that we'll use moving\n",
    "forward. You should make sure that you are able to use the application at this point,\n",
    "as all further development will be built on top of this."
   ]
  },
  {
   "cell_type": "markdown",
   "metadata": {},
   "source": [
    "## Link submission"
   ]
  },
  {
   "cell_type": "markdown",
   "metadata": {},
   "source": [
    "Let's look at what features we want to be related with link submissions. This is just a\n",
    "part of the features list that we saw at the start of the chapter:\n",
    "* Link submission by users\n",
    "* Voting on links submitted by other users\n",
    "* Commenting on the submissions and replying to comments by other users"
   ]
  },
  {
   "cell_type": "markdown",
   "metadata": {},
   "source": [
    "Let's think about what models we'll need to implement this. First, we need a model\n",
    "to hold information about a single submission, such as the title, URL, who submitted\n",
    "the link, and at what time. Next, we need a way to track votes on submissions by\n",
    "users. This can be implemented by a `ManyToMany` field from the submission model to\n",
    "the `User` model. This way, whenever a user votes for a submission, we just add them\n",
    "to the set of related objects and remove them if they decide to take back their vote."
   ]
  },
  {
   "cell_type": "markdown",
   "metadata": {},
   "source": [
    "Commenting as a feature is separate from link submissions because it can be\n",
    "implemented as a separate model that links to the submission model with\n",
    "ForeignKey. We'll look at commenting in the next section. For now, we'll\n",
    "concentrate on link submissions."
   ]
  },
  {
   "cell_type": "markdown",
   "metadata": {},
   "source": [
    "To start out, let's create a new application in our project for link submission-related\n",
    "features. Run the following command in your CLI:"
   ]
  },
  {
   "cell_type": "markdown",
   "metadata": {},
   "source": [
    "```sh\n",
    "> python manage.py startapp links\n",
    "```"
   ]
  },
  {
   "cell_type": "markdown",
   "metadata": {},
   "source": [
    "Then, add our newly created app to the INSTALLED_APPS settings variable. Now\n",
    "we're ready to write code."
   ]
  },
  {
   "cell_type": "markdown",
   "metadata": {},
   "source": [
    "Let's start with the models. Here's the code for `Link` model. This code should be in\n",
    "`links/models.py`:"
   ]
  },
  {
   "cell_type": "markdown",
   "metadata": {},
   "source": [
    "```python\n",
    "from django.contrib.auth.models import User\n",
    "from django.db import models\n",
    "\n",
    "\n",
    "class Link(models.Model):\n",
    "    title = models.CharField(max_length=100)\n",
    "    url = models.URLField()\n",
    "    submitted_by = models.ForeignKey(User)\n",
    "    upvotes = models.ManyToManyField(User, related_name='votes')\n",
    "    submitted_on = models.DateTimeField(auto_now_add=True, editable=False)\n",
    "```"
   ]
  },
  {
   "cell_type": "markdown",
   "metadata": {},
   "source": [
    "Note that we had to set `related_name` for the `upvotes` field. If we hadn't done this,\n",
    "we would get an error from Django when we try to run our application. Django\n",
    "would have complained about having two relationships to the `User` model from the\n",
    "Link model, both trying to create a reverse relationship named link. To fix this, we\n",
    "explicitly named the reverse relationship from the `User` model to the `Link` model via\n",
    "the `upvotes` field. The `User` model should now have an attribute called votes, which\n",
    "can be used to get a list of submissions that the user has voted on."
   ]
  },
  {
   "cell_type": "markdown",
   "metadata": {},
   "source": [
    "Once you've saved this code, you'll need to make and run migrations in order for\n",
    "Django to create database tables for the new model. To do so, type the following\n",
    "commands:"
   ]
  },
  {
   "cell_type": "markdown",
   "metadata": {},
   "source": [
    "```sh\n",
    "> python manage.py makemigrations\n",
    "> python manage.py migrate\n",
    "```"
   ]
  },
  {
   "cell_type": "markdown",
   "metadata": {},
   "source": [
    "Next, let's work on the templates and views. We'll customize the generic `CreateView`\n",
    "that we've seen in the previous chapter for the view. Put this code in `links/views.py`:"
   ]
  },
  {
   "cell_type": "markdown",
   "metadata": {},
   "source": [
    "```python\n",
    "from django.contrib.auth.decorators import login_required\n",
    "from django.core.urlresolvers import reverse\n",
    "from django.http.response import HttpResponseRedirect\n",
    "from django.utils.decorators import method_decorator\n",
    "from django.views.generic import CreateView\n",
    "from links.models import Link\n",
    "\n",
    "\n",
    "class NewSubmissionView(CreateView):\n",
    "    model = Link\n",
    "    fields = ('title', \n",
    "           'url')\n",
    "    template_name = 'new_submission.html'\n",
    "\n",
    "    @method_decorator(login_required)\n",
    "    def dispatch(self, *args, **kwargs):\n",
    "        return super(NewSubmissionView, self).dispatch(*args, **kwargs)\n",
    "\n",
    "    def form_valid(self, form):\n",
    "        new_link = form.save(commit=False)\n",
    "        new_link.submitted_by = self.request.user\n",
    "        new_link.save()\n",
    "\n",
    "        self.object = new_link\n",
    "        return HttpResponseRedirect(self.get_success_url())\n",
    "\n",
    "    def get_success_url(self):\n",
    "        return reverse('home')\n",
    "```"
   ]
  },
  {
   "cell_type": "markdown",
   "metadata": {},
   "source": [
    "This should look familiar to the `CreateView` subclasses that we have already created\n",
    "in the previous chapter. However, look closer! This time, we don't define a custom\n",
    "form class. Instead, we just point to the model—`Link` in this case—and `CreateView`\n",
    "automagically creates a model form for us. This is the power of built-in Django\n",
    "generic views. They give you multiple options to get what you want, depending on\n",
    "how much customization you need to do."
   ]
  },
  {
   "cell_type": "markdown",
   "metadata": {},
   "source": [
    "We define the `model` and `fields` attributes. The `model` attribute is self-explanatory.\n",
    "The `fields` attribute has the same meaning here as it has in a `ModelForm` subclass.\n",
    "It tells Django which fields we want to be made editable. In our `link` model, the title\n",
    "and submission URL are the only two fields that we want the user to control, so we\n",
    "put these in the fields list."
   ]
  },
  {
   "cell_type": "markdown",
   "metadata": {},
   "source": [
    "Another important thing to look at here is the `form_valid` function. Note that it\n",
    "doesn't have any calls to super. Unlike our previous code, where we always called\n",
    "the parent class method for methods that we had overridden, we do no such thing\n",
    "here. That's because `form_valid` of` CreateView` calls the `save()` method of the\n",
    "form. This will try to save the new link object without giving us the chance to set its\n",
    "submitted_by field. As the submitted_by field is required and can't be null, the\n",
    "object won't be saved and we'll have to deal with a database exception."
   ]
  },
  {
   "cell_type": "markdown",
   "metadata": {},
   "source": [
    "So instead, we chose to not call the `form_valid` method on the parent class and\n",
    "wrote the code for it ourselves. To do so, I needed to know what the base method\n",
    "did. So I looked up the documentation for it at <https://docs.djangoproject.com/en/1.9/ref/class-based-views/mixins-editing/#django.views.generic.edit.ModelFormMixin.form_valid>:"
   ]
  },
  {
   "cell_type": "markdown",
   "metadata": {},
   "source": [
    "> *\"Saves the form instance, sets the current object for the view, and redirects to\n",
    "get_success_url().\"*"
   ]
  },
  {
   "cell_type": "markdown",
   "metadata": {},
   "source": [
    "If you look at our code for the `form_valid` function, you will see that we do\n",
    "exactly the same thing. If you're ever faced with a similar situation, the Django\n",
    "documentation is the best resource to clear things up. It has some of the best\n",
    "documentation that I have ever encountered in any of the open source projects\n",
    "that I have used."
   ]
  },
  {
   "cell_type": "markdown",
   "metadata": {},
   "source": [
    "Finally, we need the template and URL configuration for the link submission feature.\n",
    "Create a new folder called `templates` in the `links` directory and save this code in a\n",
    "file called `new_submission.html`:"
   ]
  },
  {
   "cell_type": "markdown",
   "metadata": {},
   "source": [
    "```html\n",
    "{% extends \"base.html\" %}\n",
    "\n",
    "{% block content %}\n",
    "    <h1>New Submission</h1>\n",
    "    <form action=\"\" method=\"post\">{% csrf_token %}\n",
    "        {{ form.as_p }}\n",
    "        <input type=\"submit\" value=\"Submit\" />\n",
    "    </form>\n",
    "{% endblock %}\n",
    "```"
   ]
  },
  {
   "cell_type": "markdown",
   "metadata": {},
   "source": [
    "In `discuss/urls.py`, import the new view:"
   ]
  },
  {
   "cell_type": "markdown",
   "metadata": {},
   "source": [
    "```python\n",
    "from links.views import NewSubmissionView\n",
    "```"
   ]
  },
  {
   "cell_type": "markdown",
   "metadata": {},
   "source": [
    "Create a new URL configuration for this view:"
   ]
  },
  {
   "cell_type": "markdown",
   "metadata": {},
   "source": [
    "```python\n",
    "url(r'^new-submission/$', NewSubmissionView.as_view(), name='newsubmission'),\n",
    "```"
   ]
  },
  {
   "cell_type": "markdown",
   "metadata": {},
   "source": [
    "That's it. All the code that we need to get a basic link submission process up is\n",
    "written. However, to be able to test it out, we'll need to give the user some way of\n",
    "accessing this new view. The navigation bar in our base.html template seems like a\n",
    "good place to put the link in for this. Change the code for the `nav` HTML tag in `base.html` in the `templates` directory in the project root to match the following code:"
   ]
  },
  {
   "cell_type": "markdown",
   "metadata": {},
   "source": [
    "```html\n",
    "<nav>\n",
    "    <ul>\n",
    "        {% if request.user.is_authenticated %}\n",
    "        <li><a href=\"{% url \"new-submission\" %}\">Submit New Link</a></li>\n",
    "        <li><a href=\"{% url \"logout\" %}\">Logout</a></li>\n",
    "        {% else %}\n",
    "        <li><a href=\"{% url \"login\" %}\">Login</a></li>\n",
    "        <li><a href=\"{% url \"user-registration\"%}\">Create New Account</a></li>\n",
    "        {% endif %}\n",
    "    </ul>\n",
    "</nav>\n",
    "```"
   ]
  },
  {
   "cell_type": "markdown",
   "metadata": {},
   "source": [
    "To test it out, run the development server and open the home page. You'll see a\n",
    "**Submit New Link** option in the navigation menu on the top. Click on it and you'll\n",
    "see a page similar to the following one. Fill in the data and click on submit. If the\n",
    "data that you've filled in doesn't have any errors, you should be redirected to the\n",
    "home page."
   ]
  },
  {
   "cell_type": "markdown",
   "metadata": {},
   "source": [
    "![New Submission](img/Discuss_NewSubmission.png)"
   ]
  },
  {
   "cell_type": "markdown",
   "metadata": {},
   "source": [
    "While this works, this isn't the best user experience. Redirecting the user to the home\n",
    "page without giving them any feedback on whether their link was submitted is not\n",
    "good. Let's fix this next. We'll create a details page for the submissions and if the user\n",
    "was successful in submitting a new link, we'll take them to the details page."
   ]
  },
  {
   "cell_type": "markdown",
   "metadata": {},
   "source": [
    "Let's start with the view. We'll use the DetailView generic view provided by Django.\n",
    "In your `links/views.py` file, import DetailView:"
   ]
  },
  {
   "cell_type": "markdown",
   "metadata": {},
   "source": [
    "```python\n",
    "from django.views.generic import DetailView\n",
    "```"
   ]
  },
  {
   "cell_type": "markdown",
   "metadata": {},
   "source": [
    "Subclass it for our submission detail view:"
   ]
  },
  {
   "cell_type": "markdown",
   "metadata": {},
   "source": [
    "```python\n",
    "class SubmissionDetailView(DetailView):\n",
    "    model = Link\n",
    "    template_name = 'submission_detail.html'\n",
    "```"
   ]
  },
  {
   "cell_type": "markdown",
   "metadata": {},
   "source": [
    "Create the `submission_detail.html` template in the `links/templates` directory\n",
    "and put in the following Django template code:"
   ]
  },
  {
   "cell_type": "markdown",
   "metadata": {},
   "source": [
    "```html\n",
    "{% extends \"base.html\" %}\n",
    "\n",
    "{% block content %}\n",
    "<h1><a href=\"{{ object.url }}\" target=\"_blank\">{{ object.title}}</a></h1>\n",
    "<p>submitted by: <b>{{ object.submitted_by.username }}</b></p>\n",
    "<p>submitted on: <b>{{ object.submitted_on }}</b></p>\n",
    "{% endblock %}\n",
    "```"
   ]
  },
  {
   "cell_type": "markdown",
   "metadata": {},
   "source": [
    "Configure the URL for this view in `discuss/urls.py` by first importing it:"
   ]
  },
  {
   "cell_type": "markdown",
   "metadata": {},
   "source": [
    "```python\n",
    "from links.views import SubmissionDetailView\n",
    "```"
   ]
  },
  {
   "cell_type": "markdown",
   "metadata": {},
   "source": [
    "Then, add a URL pattern for it to the `urlpatterns` list:"
   ]
  },
  {
   "cell_type": "markdown",
   "metadata": {},
   "source": [
    "```python\n",
    "url(r'^submission/(?P<pk>\\d+)/$', SubmissionDetailView.as_view(),\n",
    "name='submission-detail'),\n",
    "```"
   ]
  },
  {
   "cell_type": "markdown",
   "metadata": {},
   "source": [
    "Finally, we'll need to edit the `NewSubmissionView` `get_success_url` method to\n",
    "redirect the user to our new detail view on successfully creating a new submission:"
   ]
  },
  {
   "cell_type": "markdown",
   "metadata": {},
   "source": [
    "```python\n",
    "def get_success_url(self):\n",
    "    return reverse('submission-detail', kwargs={'pk': self.object.pk})\n",
    "```"
   ]
  },
  {
   "cell_type": "markdown",
   "metadata": {},
   "source": [
    "That's it. Now when you create a new submission, you should see the following\n",
    "detail page for your new submission:"
   ]
  },
  {
   "cell_type": "markdown",
   "metadata": {},
   "source": [
    "![Discuss Test 2](img/Discuss_Test2.png)"
   ]
  },
  {
   "cell_type": "markdown",
   "metadata": {},
   "source": [
    "Now that link submission is done, let's look at implementing the comments feature."
   ]
  },
  {
   "cell_type": "markdown",
   "metadata": {},
   "source": [
    "## Comments "
   ]
  },
  {
   "cell_type": "markdown",
   "metadata": {},
   "source": [
    "We want our logged in users to be able to comment on submissions. We'd also like\n",
    "users to reply to comments by other users. To achieve this, our comment model needs\n",
    "to be able to track the submission it was made on and also have a link to its parent\n",
    "comment (if it was made in reply to some other user's comment)."
   ]
  },
  {
   "cell_type": "markdown",
   "metadata": {},
   "source": [
    "If you have ever used forums on the Internet, the way our comments section works\n",
    "should seem familiar. One complaint that I've always had with all these forums is\n",
    "that they allow this hierarchy of comments to go on forever. Then you end up with\n",
    "10-level deep comments that extend off the screen:"
   ]
  },
  {
   "cell_type": "markdown",
   "metadata": {},
   "source": [
    "```\n",
    "Comment 1\n",
    "    Comment 2\n",
    "        Comment 3\n",
    "            Comment 4\n",
    "                Comment 5\n",
    "                    Comment 6\n",
    "                        Comment 7\n",
    "                            Comment 8\n",
    "                                Comment 9\n",
    "                                    Comment 10\n",
    "```"
   ]
  },
  {
   "cell_type": "markdown",
   "metadata": {},
   "source": [
    "While there are a number of ways to solve this, the simplest probably is to cut off\n",
    "nested replies beyond a certain level. In our case, no comments can be replies to\n",
    "`Comment 2`. Instead, they must all be in reply to `Comment 1` or the parent submission.\n",
    "This will make the implementation easier as we'll see later."
   ]
  },
  {
   "cell_type": "markdown",
   "metadata": {},
   "source": [
    "From our discussion so far, we know that our comment model will need foreign keys\n",
    "to our submission models and also to itself in order to refer to parent comments.\n",
    "This self reference, or a recursive relationship as Django documentation calls it, is\n",
    "something that I have used maybe once in the five years (and more) I have been\n",
    "creating web apps in Django. It's not something that is needed very often but\n",
    "sometimes it results in elegant solutions, like the one you'll see here."
   ]
  },
  {
   "cell_type": "markdown",
   "metadata": {},
   "source": [
    "To keep things simple, we'll first implement commenting on link submissions and\n",
    "later add code to handle replying to comments. Let's start with the model. Add the\n",
    "following to `links/models.py`:"
   ]
  },
  {
   "cell_type": "markdown",
   "metadata": {},
   "source": [
    "```python\n",
    "class Comment(models.Model):\n",
    "    body = models.TextField()\n",
    "    commented_on = models.ForeignKey(Link)\n",
    "    in_reply_to = models.ForeignKey('self', null=True)\n",
    "    commented_by = models.ForeignKey(User)\n",
    "    created_on = models.DateTimeField(auto_now_add=True, editable=False)\n",
    "```    "
   ]
  },
  {
   "cell_type": "markdown",
   "metadata": {},
   "source": [
    "The `in_reply_to` field here is the recursive foreign key that allows us to create a\n",
    "hierarchy of comments and replies to them. As you can see, creating a recursive\n",
    "foreign key is achieved by giving the model name `self` instead of the model name\n",
    "like you would usually do with a normal foreign key."
   ]
  },
  {
   "cell_type": "markdown",
   "metadata": {},
   "source": [
    "Create and run the migrations to add this model to our database:"
   ]
  },
  {
   "cell_type": "markdown",
   "metadata": {},
   "source": [
    "```sh\n",
    "> python manage.py makemigrations\n",
    "> python manage.py migrate\n",
    "```"
   ]
  },
  {
   "cell_type": "markdown",
   "metadata": {},
   "source": [
    "Next, let's think about the view and template. As we're only implementing\n",
    "commenting on submissions for now, it makes sense that the form to create a new\n",
    "comment also be visible on the submission details page. Let's create the form first.\n",
    "Create a new `links/forms.py` file and add the following code:"
   ]
  },
  {
   "cell_type": "markdown",
   "metadata": {},
   "source": [
    "```python\n",
    "from django import forms\n",
    "from links.models import Comment\n",
    "\n",
    "\n",
    "class CommentModelForm(forms.ModelForm):\n",
    "    link_pk = forms.IntegerField(widget=forms.HiddenInput)\n",
    "\n",
    "    class Meta:\n",
    "        model = Comment\n",
    "        fields = ('body',)\n",
    "```"
   ]
  },
  {
   "cell_type": "markdown",
   "metadata": {},
   "source": [
    "We will just create a simple model form for the `Comment` model and add one extra\n",
    "field that we'll use to keep track of which link the comment needs to be associated\n",
    "with. To make the form available to our submission details template, import the form\n",
    "in `links/views.py` by adding the following to the top of the file:"
   ]
  },
  {
   "cell_type": "markdown",
   "metadata": {},
   "source": [
    "```python\n",
    "from links.forms import CommentModelForm\n",
    "```"
   ]
  },
  {
   "cell_type": "markdown",
   "metadata": {},
   "source": [
    "We'll also add code to show comments for a submission on the details page now. So\n",
    "we need to import the `Comment` model in the views file. Right after the line importing\n",
    "the form, add another line of code importing the model:"
   ]
  },
  {
   "cell_type": "markdown",
   "metadata": {},
   "source": [
    "```python\n",
    "from links.models import Comment\n",
    "```"
   ]
  },
  {
   "cell_type": "markdown",
   "metadata": {},
   "source": [
    "To be able to display the comments associated with a submission and the form\n",
    "to create a new submission, we'll need to make these two things available in the\n",
    "template context of the submission details page. To do so, add a `get_context_data`\n",
    "method to `SubmissionDetailView`:"
   ]
  },
  {
   "cell_type": "markdown",
   "metadata": {},
   "source": [
    "```python\n",
    "def get_context_data(self, **kwargs):\n",
    "    ctx = super(SubmissionDetailView, self).get_context_data(**kwargs)\n",
    "    \n",
    "    submission_comments = Comment.objects.filter(commented_on=self.object)\n",
    "    ctx['comments'] = submission_comments\n",
    "    ctx['comment_form'] = CommentModelForm(initial={'link_pk': self.object.pk})\n",
    "\n",
    "return ctx\n",
    "```\n"
   ]
  },
  {
   "cell_type": "markdown",
   "metadata": {},
   "source": [
    "We'll look at the initial attribute that we are passing to `CommentModelForm` in a\n",
    "while. We'll also need to create a view where the new comment form is submitted.\n",
    "Here's the code that you'll need to add it to `links/views.py`:"
   ]
  },
  {
   "cell_type": "markdown",
   "metadata": {},
   "source": [
    "```python\n",
    "class NewCommentView(CreateView):\n",
    "    form_class = CommentModelForm\n",
    "    http_method_names = ('post',)\n",
    "    template_name = 'comment.html'\n",
    "\n",
    "    @method_decorator(login_required)\n",
    "    def dispatch(self, *args, **kwargs):\n",
    "        return super(NewCommentView, self).dispatch(*args, **kwargs)\n",
    "\n",
    "    def form_valid(self, form):\n",
    "        parent_link = Link.objects.get(pk=form.cleaned_data['link_pk'])\n",
    "        new_comment = form.save(commit=False)\n",
    "        new_comment.commented_on = parent_link\n",
    "        new_comment.commented_by = self.request.user\n",
    "        new_comment.save()\n",
    "\n",
    "        return HttpResponseRedirect(reverse('submission-detail', kwargs={'pk': parent_link.pk}))\n",
    "\n",
    "    def get_initial(self):\n",
    "        initial_data = super(NewCommentView, self).get_initial()\n",
    "        initial_data['link_pk'] = self.request.GET['link_pk']\n",
    "\n",
    "    def get_context_data(self, **kwargs):\n",
    "        ctx = super(NewCommentView, self).get_context_data(**kwargs)\n",
    "        ctx['submission'] = Link.objects.get(pk=self.request.GET['link_pk'])\n",
    "        return ctx\n",
    "```    "
   ]
  },
  {
   "cell_type": "markdown",
   "metadata": {},
   "source": [
    "Even though we show the form on the submission detail page, in case the user inputs\n",
    "incorrect data when submitting the form, such as pressing the submit button with an\n",
    "empty body, we need a template that can show the form again along with the errors.\n",
    "Create the `comment.html` template in `links/templates`:"
   ]
  },
  {
   "cell_type": "markdown",
   "metadata": {},
   "source": [
    "```html\n",
    "{% extends \"base.html\" %}\n",
    "\n",
    "{% block content %}\n",
    "    <h1>New Comment</h1>\n",
    "    <p>\n",
    "        <b>You are commenting on</b>\n",
    "        <a href{% url 'submission-detail' pk=submission.pk %}\">{{ submission.title }}</a>\n",
    "    </p>\n",
    "    <form action=\"\" method=\"post\">{% csrf_token %}\n",
    "        {{ form.as_p }}\n",
    "    <input type=\"submit\" value=\"Post Comment\" />\n",
    "    </form>\n",
    "{% endblock %}\n",
    "```"
   ]
  },
  {
   "cell_type": "markdown",
   "metadata": {},
   "source": [
    "You should already know what most of the code for the `CreateView` subclass does.\n",
    "One thing that is new is the `get_inital` method. We'll look at it in detail later. For\n",
    "now, let's get the comments feature up and running."
   ]
  },
  {
   "cell_type": "markdown",
   "metadata": {},
   "source": [
    "Let's add our new view to `discuss/urls.py`. First, import the view:"
   ]
  },
  {
   "cell_type": "markdown",
   "metadata": {},
   "source": [
    "```python\n",
    "from links.views import NewCommentView\n",
    "```"
   ]
  },
  {
   "cell_type": "markdown",
   "metadata": {},
   "source": [
    "Then, add it to the URL patterns:"
   ]
  },
  {
   "cell_type": "markdown",
   "metadata": {},
   "source": [
    "```python\n",
    "url(r'new-comment/$', NewCommentView.as_view(), name='new-comment'),\n",
    "```"
   ]
  },
  {
   "cell_type": "markdown",
   "metadata": {},
   "source": [
    "Finally, change `links/templates/submission_detail.html` to the following:"
   ]
  },
  {
   "cell_type": "markdown",
   "metadata": {},
   "source": [
    "```html\n",
    "{% extends \"base.html\" %}\n",
    "\n",
    "{% block content %}\n",
    "    <h1><a href=\"{{ object.url }}\" target=\"_blank\">{{ object.title\n",
    "    }}</a></h1>\n",
    "    <p>submitted by: <b>{{ object.submitted_by.username }}</b></p>\n",
    "    <p>submitted on: <b>{{ object.submitted_on }}</b></p>\n",
    "\n",
    "    <p>\n",
    "        <b>New Comment</b>\n",
    "        <form action=\"{% url \"new-comment\" %}?link_pk={{ object.pk }}\"\n",
    "        method=\"post\">{% csrf_token %}\n",
    "            {{ comment_form.as_p }}\n",
    "            <input type=\"submit\" value=\"Comment\" />\n",
    "        </form>\n",
    "    </p>\n",
    "    <p>\n",
    "        <b>Comments</b>\n",
    "        <ul>\n",
    "            {% for comment in comments %}\n",
    "            <li>{{ comment.body }}</li>\n",
    "            {% endfor %}\n",
    "        </ul>\n",
    "    </p>\n",
    "{% endblock %}\n",
    "```"
   ]
  },
  {
   "cell_type": "markdown",
   "metadata": {},
   "source": [
    "If you noticed the form action URL in our template, you'll see that we have added\n",
    "the `link_pk` GET parameter to it. If you refer back to the code that you wrote for\n",
    "NewCommentView, you'll see that we use this parameter value in the `get_context_data` and `get_inital` functions to get the `Link` object that the user is commenting on."
   ]
  },
  {
   "cell_type": "markdown",
   "metadata": {},
   "source": [
    "> tips\n",
    "\n",
    "> I'm saving describing what the get_initial method\n",
    "does until the next section when we get to adding replies to\n",
    "comments."
   ]
  },
  {
   "cell_type": "markdown",
   "metadata": {},
   "source": [
    "Let's look at what we've made till now. Start the application using the `runserver`\n",
    "command, open the home page in your browser, and then log in. As we don't yet\n",
    "have any way to access old submissions, we'll need to create a new submission.\n",
    "Do that and you'll see the new detail page. It should look similar to the following\n",
    "screenshot:"
   ]
  },
  {
   "cell_type": "markdown",
   "metadata": {},
   "source": [
    "![Discuss New Comment](img/Discuss_NewComment.png)"
   ]
  },
  {
   "cell_type": "markdown",
   "metadata": {},
   "source": [
    "Add a comment and it should appear on the same page. Here's a screenshot with a\n",
    "few comments added:"
   ]
  },
  {
   "cell_type": "markdown",
   "metadata": {},
   "source": [
    "![Discuss New Comment 2](img/Discuss_NewComment2.png)"
   ]
  },
  {
   "cell_type": "markdown",
   "metadata": {},
   "source": [
    "If you leave the body empty and press the **Comment** button, you should see the\n",
    "comment template that you created earlier with an error message:"
   ]
  },
  {
   "cell_type": "markdown",
   "metadata": {},
   "source": [
    "![Discuss New Comment 3](img/Discuss_NewComment3.png)"
   ]
  },
  {
   "cell_type": "markdown",
   "metadata": {},
   "source": [
    "With basic commenting on submission working, let's look at how we'll implement\n",
    "replying to comments. As we've already seen, our comment model has a field to\n",
    "indicate that it was made in reply to another comment. So all we have to do in order\n",
    "to store a comment as a reply to another comment is correctly set the `in_reply_to`\n",
    "field. Let's first modify our model form for the Comment model to accept in addition\n",
    "to a `link_pk`, a `parent_comment_pk` as well to indicate which (if any) comment is\n",
    "the new comment a reply to. Add this field to `CommentModelForm` right after the\n",
    "`link_pk` field:"
   ]
  },
  {
   "cell_type": "markdown",
   "metadata": {},
   "source": [
    "```python\n",
    "parent_comment_pk = forms.IntegerField(widget=forms.HiddenInput,\n",
    "required=False)\n",
    "```"
   ]
  },
  {
   "cell_type": "markdown",
   "metadata": {},
   "source": [
    "Now we need a place to show a form to the user to post his reply. We could show\n",
    "one form per comment on the submission details page, but that would end up\n",
    "making the page look very cluttered for any submission with more than a few\n",
    "comments. In a real-world project, we'd probably use JavaScript to generate a form\n",
    "dynamically when the user clicks on the reply link next to a comment and submits\n",
    "this. However, right now we are more focused on the Django backend and thus we'll\n",
    "come up with another way that doesn't involve a lot of frontend work."
   ]
  },
  {
   "cell_type": "markdown",
   "metadata": {},
   "source": [
    "A third way, which we'll be using here, is to have a little link next to each comment\n",
    "that takes the user to a separate page where they can record their reply. Here's the\n",
    "view for that page. Put this in `links/views.py`:"
   ]
  },
  {
   "cell_type": "markdown",
   "metadata": {},
   "source": [
    "```python\n",
    "class NewCommentReplyView(CreateView):\n",
    "    form_class = CommentModelForm\n",
    "    template_name = 'comment_reply.html'\n",
    "\n",
    "    @method_decorator(login_required)\n",
    "    def dispatch(self, *args, **kwargs):\n",
    "        return super(NewCommentReplyView, self).dispatch(*args, **kwargs)\n",
    "\n",
    "    def get_context_data(self, **kwargs):\n",
    "        ctx = super(NewCommentReplyView, self).get_context_data(**kwargs)\n",
    "        ctx['parent_comment'] = Comment.objects.get(pk=self.request.GET['parent_comment_pk'])\n",
    "   \n",
    "       return ctx\n",
    "\n",
    "    def get_initial(self):\n",
    "    initial_data = super(NewCommentReplyView, self).get_initial()\n",
    "    link_pk = self.request.GET['link_pk']\n",
    "    initial_data['link_pk'] = link_pk\n",
    "    parent_comment_pk = self.request.GET['parent_comment_pk']\n",
    "    initial_data['parent_comment_pk'] = parent_comment_pk\n",
    "    \n",
    "    return initial_data\n",
    "\n",
    "    def form_valid(self, form):\n",
    "        parent_link = Link.objects.get(pk=form.cleaned_data['link_pk'])\n",
    "        parent_comment = Comment.objects.get(pk=form.cleaned_data['parent_comment_pk'])\n",
    "        new_comment = form.save(commit=False)\n",
    "        new_comment.commented_on = parent_link\n",
    "        new_comment.in_reply_to = parent_comment\n",
    "        new_comment.commented_by = self.request.user\n",
    "        new_comment.save()\n",
    "\n",
    "        return HttpResponseRedirect(reverse('submission-detail', kwargs={'pk': parent_link.pk}))\n",
    "```        "
   ]
  },
  {
   "cell_type": "markdown",
   "metadata": {},
   "source": [
    "By now, having used it multiple times, you should be comfortable with CreateView.\n",
    "The only new part here is the get_initial method, which we also used in\n",
    "`NewCommentView` previously. In Django, each form can have some initial data. This\n",
    "is data that is shown when the form is **Unbound**. The boundness of a form is an\n",
    "important concept. It took me a while to wrap my head around it, but it is quite\n",
    "simple. In Django, a form has essentially two functions. It can be displayed in the\n",
    "HTML code for a web page or it can validate some data."
   ]
  },
  {
   "cell_type": "markdown",
   "metadata": {},
   "source": [
    "A form is bound if you passed in some data for it to validate when you initialized an\n",
    "instance of the form class. Let's say you have a `form` class called `SomeForm` with two\n",
    "fields, name and city. Say you initialize an object of the form without any data:"
   ]
  },
  {
   "cell_type": "markdown",
   "metadata": {},
   "source": [
    "```python\n",
    "form = SomeForm()\n",
    "```"
   ]
  },
  {
   "cell_type": "markdown",
   "metadata": {},
   "source": [
    "You have created an unbound instance of the form. The form doesn't have any data\n",
    "associated with it and so can't validate anything. However, it can still be displayed\n",
    "on a web page by calling `{{ form.as_p }}` in the template (provided it was passed\n",
    "to the template via the context). It will render as a form with two empty fields: name\n",
    "and city."
   ]
  },
  {
   "cell_type": "markdown",
   "metadata": {},
   "source": [
    "Now let's say you pass in some data when initializing the form:"
   ]
  },
  {
   "cell_type": "markdown",
   "metadata": {},
   "source": [
    "```python\n",
    "form = SomeForm({'name': 'Jibran', 'city': 'Dubai'})\n",
    "```"
   ]
  },
  {
   "cell_type": "markdown",
   "metadata": {},
   "source": [
    "This creates a bound instance of the form. You can call `is_valid()` on this form\n",
    "object and it will validate the passed data. You can also render the form in an HTML\n",
    "template, just like before. However, this time, it will render the form with both the\n",
    "fields having the values that you passed here. If, for some reason, the values that you\n",
    "passed didn't validate (for example, if you left the value for the city field empty), the\n",
    "form will display the appropriate error message next to the field with the invalid data."
   ]
  },
  {
   "cell_type": "markdown",
   "metadata": {},
   "source": [
    "This is the concept of bound and unbound forms. Now let's look at what the initial\n",
    "data in a form is for. You can pass initial data to a form when initializing an instance\n",
    "by passing it in the initial keyword parameter:"
   ]
  },
  {
   "cell_type": "markdown",
   "metadata": {},
   "source": [
    "```python\n",
    "form = SomeForm(initial={'name': 'Jibran'})\n",
    "```"
   ]
  },
  {
   "cell_type": "markdown",
   "metadata": {},
   "source": [
    "The form is still unbound as you did not pass in the data attribute (which is the first\n",
    "non-keyword argument to the constructor) but if you render it now, the name field\n",
    "will have the value `'Jibran'` while the city field will still be empty."
   ]
  },
  {
   "cell_type": "markdown",
   "metadata": {},
   "source": [
    "The confusion that I faced when I first learned of the initial data was why it was\n",
    "required. I could just pass the same data dictionary as the data parameter and the\n",
    "form would still only receive a value for one field. The problem with this is that\n",
    "when you initialize a form with some data, it will automatically try to validate that\n",
    "data. Assuming that the city field is a required field, if you then try to render the\n",
    "form in a web page, it will display an error next to the city field saying that this is a\n",
    "required field. The initial data parameter allows you to supply values for form fields\n",
    "without triggering validation on that data."
   ]
  },
  {
   "cell_type": "markdown",
   "metadata": {},
   "source": [
    "In our case, `CreateView` calls the `get_initial` method to get the dictionary to use\n",
    "it as the initial data for the form. We use the submission ID and parent comment ID\n",
    "that we will pass in the URL parameters to create the initial values for the `link_pk`\n",
    "and `parent_comment_pk` form fields. This way, when our form is rendered on the\n",
    "HTML web page, it will already have values for these two fields. Looking at the\n",
    "`form_valid` method, we then extract these two values from the form's `cleaned_data` attribute and use it to get the submission and parent comment to associate the\n",
    "reply with."
   ]
  },
  {
   "cell_type": "markdown",
   "metadata": {},
   "source": [
    "The `get_context_data` method just adds the parent comment object to the context.\n",
    "We use it in the template to tell the user which comment they are replying to. Let's\n",
    "look at the template, which you need to create in `links/templates/comment_reply.html`:"
   ]
  },
  {
   "cell_type": "markdown",
   "metadata": {},
   "source": [
    "```html\n",
    "{% extends \"base.html\" %}\n",
    "\n",
    "{% block content %}\n",
    "    <h1>Reply to comment</h1>\n",
    "    <p>\n",
    "        <b>You are replying to:</b>\n",
    "        <i>{{ parent_comment.body }}</i>\n",
    "    </p>\n",
    "    <form action=\"\" method=\"post\">{% csrf_token %}\n",
    "        {{ form.as_p }}\n",
    "        <input type=\"submit\" value=\"Submit Reply\" />\n",
    "    </form>\n",
    "{% endblock %}\n",
    "```"
   ]
  },
  {
   "cell_type": "markdown",
   "metadata": {},
   "source": [
    "Nothing fancy here. Note how we use the `parent_comment` object that we passed\n",
    "in the `get_context_data` method of the view. It's good UI practice to make sure\n",
    "that the user is always given relevant information about the action that they are\n",
    "about to take."
   ]
  },
  {
   "cell_type": "markdown",
   "metadata": {},
   "source": [
    "Import our new view in `discuss/urls.py`:"
   ]
  },
  {
   "cell_type": "markdown",
   "metadata": {},
   "source": [
    "```python\n",
    "from links.views import NewCommentReplyView\n",
    "```"
   ]
  },
  {
   "cell_type": "markdown",
   "metadata": {},
   "source": [
    "Add this pattern to the URL patterns list:"
   ]
  },
  {
   "cell_type": "markdown",
   "metadata": {},
   "source": [
    "```python\n",
    "url(r'new-comment-reply/$', NewCommentReplyView.as_view(), name='newcomment-\n",
    "reply'),\n",
    "```"
   ]
  },
  {
   "cell_type": "markdown",
   "metadata": {},
   "source": [
    "Lastly, we need to give the user a link to get to this page. As we discussed before,\n",
    "we'll be putting a link called **Reply** next to each comment on the submission detail\n",
    "page. To do so, note the following line in `links/templates/submission_detail.html`:"
   ]
  },
  {
   "cell_type": "markdown",
   "metadata": {},
   "source": [
    "```html\n",
    "<li>{{ comment.body }}</li>\n",
    "```"
   ]
  },
  {
   "cell_type": "markdown",
   "metadata": {},
   "source": [
    "Change it to the following:"
   ]
  },
  {
   "cell_type": "markdown",
   "metadata": {},
   "source": [
    "```html\n",
    "<li>{{ comment.body }} (<a href=\"{% url \"new-comment-reply\" %}?link_pk={{ object.pk }}&parent_comment_pk={{ comment.pk }}\">Reply</a>)</li>\n",
    "```"
   ]
  },
  {
   "cell_type": "markdown",
   "metadata": {},
   "source": [
    "Note how we pass in the submission ID and parent comment ID using GET params\n",
    "when creating the URL. We did this with the comment form on the submission page\n",
    "as well. This is a common technique you'll use a lot when creating Django apps.\n",
    "These are the same URL parameters that we used in the comment reply view to\n",
    "populate the initial data for the form and access the parent comment object."
   ]
  },
  {
   "cell_type": "markdown",
   "metadata": {},
   "source": [
    "Let's try it out. Click on **Reply** on one of the comments on the submission detail\n",
    "page. If you've closed the old submission details page, you can create a new\n",
    "submission and add some comments to it. By clicking on the `Reply` link, you'll see a\n",
    "new page with a form for the comment body. Enter some text here and click on the\n",
    "`Submit` button. Remember the text that you entered. We'll be looking for this next in\n",
    "the upcoming few steps. In my testing, I entered **Reply to Comment 1**. Let's see what\n",
    "our submission details page looks with our new reply comment:"
   ]
  },
  {
   "cell_type": "markdown",
   "metadata": {},
   "source": [
    "![Discuss: reply to comment](img/Discuss_Reply.png)"
   ]
  },
  {
   "cell_type": "markdown",
   "metadata": {},
   "source": [
    "It seems like it worked. However, if you look closely, you'll notice that the reply\n",
    "we made (in my case, the **Reply to Comment 1** text) is shown at the end of the\n",
    "comments list. It should be shown after **Comment 1** and ideally indented a bit to the\n",
    "right as well to indicate the hierarchy. Let's fix this. First, in the `get_context_data`\n",
    "method of `SubmissionDetailView` in the `links/views.py` file, note this line:"
   ]
  },
  {
   "cell_type": "markdown",
   "metadata": {},
   "source": [
    "```python\n",
    "submission_comments = Comment.objects.filter(commented_on=self.object)\n",
    "```"
   ]
  },
  {
   "cell_type": "markdown",
   "metadata": {},
   "source": [
    "Change it to the following:"
   ]
  },
  {
   "cell_type": "markdown",
   "metadata": {},
   "source": [
    "```python\n",
    "submission_comments = Comment.objects.filter(commented_on=self.object,\n",
    "in_reply_to__isnull=True)\n",
    "```"
   ]
  },
  {
   "cell_type": "markdown",
   "metadata": {},
   "source": [
    "What we've done here is include only the comments that don't have a parent\n",
    "comment. We do this by getting only comments that have the `in_reply_to` field set\n",
    "to NULL. If you save this change and refresh the submission detail page, you'll notice\n",
    "that your reply comment will be gone. Let's bring it back. Modify `link/templates/submission_detail.html` and change the paragraph that shows the comments (the\n",
    "one with the `for` loop over the comments list) to match the following:"
   ]
  },
  {
   "cell_type": "markdown",
   "metadata": {},
   "source": [
    "```python\n",
    "<p>\n",
    "    <b>Comments</b>\n",
    "    <ul>\n",
    "        {% for comment in comments %}\n",
    "        <li>\n",
    "            {{ comment.body }} (<a href=\"{% url \"new-comment-reply\"\n",
    "            %}?link_pk={{ object.pk }}&parent_comment_pk={{ comment.pk }}\">Reply</\n",
    "            a>)\n",
    "            {% if comment.comment_set.exists %}\n",
    "            <ul>\n",
    "                {% for reply in comment.comment_set.all %}\n",
    "                <li>{{ reply.body }}</li>\n",
    "                {% endfor %}\n",
    "            </ul>\n",
    "            {% endif %}\n",
    "        </li>\n",
    "        {% endfor %}\n",
    "    </ul>\n",
    "</p>\n",
    "```"
   ]
  },
  {
   "cell_type": "markdown",
   "metadata": {},
   "source": [
    "The new part here is between the `if` tag. First, we use the reverse relationship that\n",
    "is created by the foreign key to itself to see if this comment has any other comments\n",
    "pointing to it. We know that the only comments pointing to this comment would be\n",
    "replies to this comment. If there are, we then create a new list and print the body for\n",
    "each of the replies. As we've already decided that we only allow replies to the first\n",
    "level of comments, we don't create any links to let users reply to the replies. Once\n",
    "you've save these changes, let's see what our submission details page looks now:"
   ]
  },
  {
   "cell_type": "markdown",
   "metadata": {},
   "source": [
    "![Discuss New Comment](img/Discuss_NewComment4.png)"
   ]
  },
  {
   "cell_type": "markdown",
   "metadata": {},
   "source": [
    "That's more like it! We now have a complete link submission and commenting\n",
    "system. Awesome! Let's move on to the other features now."
   ]
  },
  {
   "cell_type": "markdown",
   "metadata": {},
   "source": [
    "## Voting "
   ]
  },
  {
   "cell_type": "markdown",
   "metadata": {},
   "source": [
    "We need to allow users to vote on submissions. To keep things simple, we'll only\n",
    "allow upvotes. A user can indicate that they like a submission. There is no way to\n",
    "indicate disapproval. This keeps the code and UI simple. We also want to ensure that\n",
    "one user can upvote a submission only once and they can remove their upvotes if\n",
    "they change their minds or upvoted a submission by mistake."
   ]
  },
  {
   "cell_type": "markdown",
   "metadata": {},
   "source": [
    "If you take another look at the `Link` model, you'll see we already have an upvotes\n",
    "field, which is a **Machine to machine (M2M)** with the User model. This is the only\n",
    "database entry we'll need to allow and keep track of `upvotes` by users. In order to\n",
    "upvote a submission, users will click on a link next to the submission. Until now, we\n",
    "were able to make do without a page to list all submissions. It's a good idea to create\n",
    "one now so that we can access and upvote the various submissions. We can't keep\n",
    "creating new submissions every time we want to test something."
   ]
  },
  {
   "cell_type": "markdown",
   "metadata": {},
   "source": [
    "First, create this view in `links/views.py`. Remember to import `TemplateView` from\n",
    "`django.views.generic` first:"
   ]
  },
  {
   "cell_type": "markdown",
   "metadata": {},
   "source": []
  },
  {
   "cell_type": "markdown",
   "metadata": {},
   "source": [
    "```python\n",
    "class HomeView(TemplateView):\n",
    "    template_name = 'home.html'\n",
    "\n",
    "    def get_context_data(self, **kwargs):\n",
    "        ctx = super(HomeView, self).get_context_data(**kwargs)\n",
    "        ctx['submissions'] = Link.objects.all()\n",
    "        \n",
    "        return ctx\n",
    "```"
   ]
  },
  {
   "cell_type": "markdown",
   "metadata": {},
   "source": [
    "Next, change the template at `template/home.html` to the following:"
   ]
  },
  {
   "cell_type": "markdown",
   "metadata": {},
   "source": [
    "```html\n",
    "{% extends \"base.html\" %}\n",
    "\n",
    "{% block content %}\n",
    "<h1>Welcome to Discuss</h1>\n",
    "<h2>Submissions</h2>\n",
    "<ul>\n",
    "    {% for submission in submissions %}\n",
    "    <li>\n",
    "        <a href=\"{{ submission.url }}\" target=\"_blank\">{{\n",
    "        submission.title }}</a>\n",
    "        <i><a href=\"{% url \"submission-detail\" pk=submission.pk\n",
    "        %}\">Comments</a></i>\n",
    "    </li>\n",
    "    {% endfor %}\n",
    "</ul>\n",
    "{% endblock %}\n",
    "```"
   ]
  },
  {
   "cell_type": "markdown",
   "metadata": {},
   "source": [
    "Import our new `HomeView` at the top of `discuss/urls.py` and note the home URL\n",
    "configuration in `discuss/urls.py`:"
   ]
  },
  {
   "cell_type": "markdown",
   "metadata": {},
   "source": [
    "```python\n",
    "url(r'^$', TemplateView.as_view(template_name='home.html'),\n",
    "name='home'),\n",
    "```"
   ]
  },
  {
   "cell_type": "markdown",
   "metadata": {},
   "source": [
    "Change the preceding code to this:"
   ]
  },
  {
   "cell_type": "markdown",
   "metadata": {},
   "source": [
    "```python\n",
    "url(r'^$', HomeView.as_view(), name='home'),\n",
    "```"
   ]
  },
  {
   "cell_type": "markdown",
   "metadata": {},
   "source": [
    "Finally, let's provide our users with a handy link to the home page in the navigation\n",
    "bar. In the `base.html` template (in the `templates` directory in the project root), add\n",
    "this as the first list element of the navigation list outside of the user authentication if\n",
    "condition:"
   ]
  },
  {
   "cell_type": "markdown",
   "metadata": {},
   "source": [
    "```html\n",
    "<li><a href=\"{% url \"home\" %}\">Home</a></li>\n",
    "```"
   ]
  },
  {
   "cell_type": "markdown",
   "metadata": {},
   "source": [
    "That's it. There's nothing new in this code. It's pretty easy to understand and\n",
    "you should have a clear idea of what's happening here by now. Let's look at\n",
    "the end result. If you now open the home page of our app by browsing to\n",
    "`http://127.0.0.1:8000` in your browser, you should see something similar to the\n",
    "following screenshot. Of course, your page will not be the same as this as you will\n",
    "have added your own test content:"
   ]
  },
  {
   "cell_type": "markdown",
   "metadata": {},
   "source": [
    "![Discussion Home](img/Discussion_Home.png)"
   ]
  },
  {
   "cell_type": "markdown",
   "metadata": {},
   "source": [
    "You'll see a list of submissions. If you click on any, you'll have a new tab open\n",
    "with the link for that submission. You'll also see a `Comments` link next to each\n",
    "submission. Clicking on this takes you to the submission detail page."
   ]
  },
  {
   "cell_type": "markdown",
   "metadata": {},
   "source": [
    "Let's talk a bit about how we're going to implement the upvoting feature. The M2M\n",
    "`upvotes` field that we created in the `Link` model should give you a hint. Whenever\n",
    "a user `upvotes` a submission, we add them to this relationship. As an M2M\n",
    "relationship ensures that if we add the same object multiple times it doesn't create a\n",
    "new record, we easily ensure that one user can vote on a submission only once."
   ]
  },
  {
   "cell_type": "markdown",
   "metadata": {},
   "source": [
    "Let's create a view that adds the logged in user to the upvoters list of a submission\n",
    "and then takes them back to the home page. We'll also add a link to each submission\n",
    "on the home page that lets the user upvote the submission with this new view."
   ]
  },
  {
   "cell_type": "markdown",
   "metadata": {},
   "source": [
    "In `links/views.py`, import the `View` generic view class from `django.views.generic`, and then create this view:"
   ]
  },
  {
   "cell_type": "markdown",
   "metadata": {},
   "source": [
    "```python\n",
    "class UpvoteSubmissionView(View):\n",
    "    def get(self, request, link_pk, **kwargs):\n",
    "        link = Link.objects.get(pk=link_pk)\n",
    "        link.upvotes.add(request.user)\n",
    "\n",
    "\n",
    "        return HttpResponseRedirect(reverse('home'))\n",
    "```"
   ]
  },
  {
   "cell_type": "markdown",
   "metadata": {},
   "source": [
    "Next, import this new view in `discuss/urls.py` and add it to the URL patterns :"
   ]
  },
  {
   "cell_type": "markdown",
   "metadata": {},
   "source": [
    "```python\n",
    "url(r'^upvote/(?P<link_pk>\\d+)/$', UpvoteSubmissionView.as_view(),\n",
    "name='upvote-submission'),\n",
    "```"
   ]
  },
  {
   "cell_type": "markdown",
   "metadata": {},
   "source": [
    "In `templates/home.html`, add the **Upvote** link above the submission title link:"
   ]
  },
  {
   "cell_type": "markdown",
   "metadata": {},
   "source": [
    "```html\n",
    "<a href=\"{% url \"upvote-submission\" link_pk=submission.pk %}\">Upvote</\n",
    "a>\n",
    "```"
   ]
  },
  {
   "cell_type": "markdown",
   "metadata": {},
   "source": [
    "Open up the home page and you'll see an **Upvote** link next to each submission title.\n",
    "Clicking on the link should bring you back to the home page. It should look similar\n",
    "to the following screenshot:"
   ]
  },
  {
   "cell_type": "markdown",
   "metadata": {},
   "source": [
    "If you upvote a link, it immediately brings you back to the home page without\n",
    "any indication that your upvote was recorded. The fix for this is simple. Change\n",
    "the Upvote link HTML line that you just added to the home page template to the\n",
    "following:"
   ]
  },
  {
   "cell_type": "markdown",
   "metadata": {},
   "source": [
    "```html\n",
    "{% if request.user in submission.upvotes.all %}\n",
    "    Upvoted\n",
    "{% else %}\n",
    "    <a href=\"{% url \"upvote-submission\" link_pk=submission.pk\n",
    "    %}\">Upvote</a>\n",
    "{% endif %}\n",
    "```"
   ]
  },
  {
   "cell_type": "markdown",
   "metadata": {},
   "source": [
    "If you open up the home page again, you'll see a simple **Upvoted** text next to\n",
    "submissions that you've already upvoted instead of the link that you saw before. We\n",
    "should also allow the user to remove his upvote from a submission. First, create a\n",
    "new view for this in `links/views.py`:"
   ]
  },
  {
   "cell_type": "markdown",
   "metadata": {},
   "source": [
    "```python\n",
    "class RemoveUpvoteFromSubmissionView(View):\n",
    "    def get(self, request, link_pk, **kwargs):\n",
    "        link = Link.objects.get(pk=link_pk)\n",
    "        link.upvotes.remove(request.user)\n",
    "\n",
    "\n",
    "        return HttpResponseRedirect(reverse('home'))\n",
    "```"
   ]
  },
  {
   "cell_type": "markdown",
   "metadata": {},
   "source": [
    "This is almost the same as the view we created to record a new upvote. The only\n",
    "difference is that here we use the remove method of the related manager. Next, we'll\n",
    "need to add this to the URLs file at `discuss/urls.py`. Import our new view here\n",
    "and add the following URL configuration:"
   ]
  },
  {
   "cell_type": "markdown",
   "metadata": {},
   "source": [
    "```python\n",
    "url(r'^upvote/(?P<link_pk>\\d+)/remove/$',\n",
    "RemoveUpvoteFromSubmissionView.as_view(), name='remove-upvote'),\n",
    "```"
   ]
  },
  {
   "cell_type": "markdown",
   "metadata": {},
   "source": [
    "Finally, let's change the **Upvoted** label that we added to the home page before to be a\n",
    "link to remove the upvote. In your `templates/home.html` file, note these lines:"
   ]
  },
  {
   "cell_type": "markdown",
   "metadata": {},
   "source": [
    "```html\n",
    "{% if request.user in submission.upvotes.all %}\n",
    "    Upvoted\n",
    "{% else %}\n",
    "```"
   ]
  },
  {
   "cell_type": "markdown",
   "metadata": {},
   "source": [
    "Change them to the following:"
   ]
  },
  {
   "cell_type": "markdown",
   "metadata": {},
   "source": [
    "```html\n",
    "{% if request.user in submission.upvotes.all %}\n",
    "<a href=\"{% url \"remove-upvote\" link_pk=submission.pk %}\">Remove Upvote</a>\n",
    "{% else %}\n",
    "```            "
   ]
  },
  {
   "cell_type": "markdown",
   "metadata": {},
   "source": [
    "That's it! Now when you visit the home page, you'll see the **Remove Upvote** link for\n",
    "all the submissions that you have already upvoted. By clicking on the link, you'll be\n",
    "redirected back to the home page with your upvote removed. You should see the\n",
    "**Upvote** link for that submission again as you can upvote it again."
   ]
  },
  {
   "cell_type": "markdown",
   "metadata": {},
   "source": [
    "## Ranking submission"
   ]
  },
  {
   "cell_type": "markdown",
   "metadata": {},
   "source": [
    "The next feature on our list is ranking the submissions using an intelligent algorithm.\n",
    "Let's take a look at what our feature description requires:"
   ]
  },
  {
   "cell_type": "markdown",
   "metadata": {},
   "source": [
    "> tips\n",
    "\n",
    "> An algorithm to rank the submitted links in some defined order that\n",
    "depends on a number of factors including the votes for that link, the\n",
    "number of comments and the age of the submission"
   ]
  },
  {
   "cell_type": "markdown",
   "metadata": {},
   "source": [
    "We have all this information in our database. We need to create an algorithm that\n",
    "will use all these pieces of information to give each submission a rank. Then, we'll\n",
    "just sort the submission using this ranking and show them in the sorted order. To\n",
    "keep things simple, let's use the following algorithm:"
   ]
  },
  {
   "cell_type": "markdown",
   "metadata": {},
   "source": [
    "```\n",
    "rank = number of votes + number of comments – number of days since\n",
    "submission\n",
    "```"
   ]
  },
  {
   "cell_type": "markdown",
   "metadata": {},
   "source": [
    "Seems simple enough, except for maybe the number of days since submission\n",
    "calculations. However, the `datetime` module in the Python standard library\n",
    "makes this a breeze for us. In Python, if you subtract two `datetime` objects, you\n",
    "get a `timedelta` object. This object represents the time difference between the two\n",
    "`datetime` objects. It has an attribute called days that—as is obvious by the name—\n",
    "holds the number of days between the two dates. We'll subtract the date that we get\n",
    "from `datetime.datetime.now()` from the submitted_on field of the submission\n",
    "and use the days attribute of the resulting `timedelta` object."
   ]
  },
  {
   "cell_type": "markdown",
   "metadata": {},
   "source": [
    "Let's plug this algorithm into our home view so that our submissions are listed by\n",
    "their ranks. Change `HomeView` in `links/views.py` to match the following code:"
   ]
  },
  {
   "cell_type": "markdown",
   "metadata": {},
   "source": [
    "```python\n",
    "class HomeView(TemplateView):\n",
    "    template_name = 'home.html'\n",
    "\n",
    "    def get_context_data(self, **kwargs):\n",
    "        ctx = super(HomeView, self).get_context_data(**kwargs)\n",
    "\n",
    "        now = timezone.now()\n",
    "        submissions = Link.objects.all()\n",
    "    \n",
    "        for submission in submissions:\n",
    "            num_votes = submission.upvotes.count()\n",
    "            num_comments = submission.comment_set.count()\n",
    "            date_diff = now - submission.submitted_on\n",
    "            number_of_days_since_submission = date_diff.days\n",
    "        submission.rank = num_votes + num_comments - number_of_days_since_submission\n",
    "\n",
    "        sorted_submissions = sorted(submissions, key=lambda x: x.rank, reverse=True)\n",
    "        ctx['submissions'] = sorted_submissions\n",
    "\n",
    "        return ctx\n",
    "```"
   ]
  },
  {
   "cell_type": "markdown",
   "metadata": {},
   "source": [
    "You will also need to import the `timezone` module from Django utilities using\n",
    "the following:"
   ]
  },
  {
   "cell_type": "markdown",
   "metadata": {},
   "source": [
    "```python\n",
    "from django.utils import timezone\n",
    "```"
   ]
  },
  {
   "cell_type": "markdown",
   "metadata": {},
   "source": [
    "This is needed because Django uses something called `timezone` aware datetimes.\n",
    "For more details on this, read the Django documentation for `timezone`\n",
    "awareness at <https://docs.djangoproject.com/en/stable/topics/i18n/timezones/#naive-and-aware-datetime-objects>."
   ]
  },
  {
   "cell_type": "markdown",
   "metadata": {},
   "source": [
    "This new code might look a bit complicated but trust me, it's pretty simple. Let's look\n",
    "at it one line at a time. The first thing we do is get the current date time using the\n",
    "`timezone.now()` function. Next, we get all the submissions that we want to show on\n",
    "the home page and start looping over them."
   ]
  },
  {
   "cell_type": "markdown",
   "metadata": {},
   "source": [
    "In the loop, we first calculate the number of votes and comments on the submission\n",
    "using the `count()` method that you have seen before on Django querysets.\n",
    "The only different thing here is that we use it on the queryset returned by the\n",
    "`RelatedManager` object for the many-to-many upvotes field and the reverse\n",
    "relationship to the comments model."
   ]
  },
  {
   "cell_type": "markdown",
   "metadata": {},
   "source": [
    "As explained before, we then calculate the number of days since the submission was\n",
    "submitted to our site using the Python date arithmetic. Finally, we calculate and\n",
    "assign the rank for the submission to the object."
   ]
  },
  {
   "cell_type": "markdown",
   "metadata": {},
   "source": [
    "After the loop ends, each of our `Link` objects has a rank attribute that holds the final\n",
    "ranking for it. We then use the Python built-in `sorted` function to sort this list. When\n",
    "you're working with lists, which is quite often in Python and Django, the sorted\n",
    "function is something you will end up using many times. You should familiarize\n",
    "yourself with its syntax and features by reading the documentation at <https://docs.python.org/3/library/functions.html#sorted>. Trust me, it's well worth\n",
    "the time to read this documentation slowly and understand it completely. I have\n",
    "used the sorted built-in function more times than I can remember. It's indispensable."
   ]
  },
  {
   "cell_type": "markdown",
   "metadata": {},
   "source": [
    "Finally, we assign the sorted submissions list to the submissions context variable.\n",
    "As we are already using this variable in the home page template, we do not need\n",
    "to change anything else beyond HomeView. If you open the home page now, you'll\n",
    "see that the sorting order of the submissions has changed and now reflects our\n",
    "new algorithm."
   ]
  },
  {
   "cell_type": "markdown",
   "metadata": {},
   "source": [
    "This is a good place to reflect upon the benefits of the modularity provided by the\n",
    "Model-View-Template architecture used by Django. As you can see, we added quite\n",
    "a significant feature, but we never had to change the URLs or templates for the\n",
    "home page. As these are individual modules, we only changed the view code and\n",
    "everything else still worked with our new and improved sorting order."
   ]
  },
  {
   "cell_type": "markdown",
   "metadata": {},
   "source": [
    "## Spam protection"
   ]
  },
  {
   "cell_type": "markdown",
   "metadata": {},
   "source": [
    "The last feature that we want to have in our application is spam protection. We\n",
    "want users to be able to post content on our site, but we want to prevent abuse by\n",
    "spammers. Spamming, as you probably know, refers to malicious Internet users\n",
    "posting inappropriate or irrelevant content to a site. Often, spammers use scripts\n",
    "created specifically to target sites that allow user-submitted content, such as our web\n",
    "app. While we can't stop spammers easily from submitting spam content to our site\n",
    "manually, we can make sure that they are not able to use scripts to generate a lot of\n",
    "spam with just a click of the mouse. Usually, if spammers can't use their scripts on\n",
    "websites, they move on to easier targets."
   ]
  },
  {
   "cell_type": "markdown",
   "metadata": {},
   "source": [
    "The important concept that I want you to learn from this feature isn't how to\n",
    "implement spam protection. That's something you need to decide based on the\n",
    "requirements of your own project. What I'll be showing here is how to use open\n",
    "source Django applications created by other developers to add features to your own\n",
    "Django projects. This is an important concept that you should be familiar with. Most\n",
    "of the time, if you're looking for ways to solve an issue while developing your web\n",
    "app, a search of the Internet turns up a number of open source applications that\n",
    "were developed by other programmers to solve the same issue. You get applications\n",
    "solving all sizes of issues—from the smallest providing features such as a new type\n",
    "of form field (for example, a calendar form field that uses a JavaScript calendar) to\n",
    "large applications providing complete Django-based forums that you can integrate\n",
    "with your Django website easily and provide users with an easy-to-use and goodlooking\n",
    "forum."
   ]
  },
  {
   "cell_type": "markdown",
   "metadata": {},
   "source": [
    "We'll be using the ReCaptcha service from Google to provide us with a mechanism\n",
    "to stop spammers. You can learn more about the service at <https://www.google.com/recaptcha>. You will also need to register for an account here and create an API\n",
    "key. It will ask for a label, which I set to **Discuss Django Blueprints**, and a domain,\n",
    "which I set to `127.0.0.1`. The `owners` field should have your e-mail address there.\n",
    "Once you submit this form, you'll be presented with a screen that shows you your\n",
    "public and private keys. Keep this page open as we'll use these values in a bit."
   ]
  },
  {
   "cell_type": "markdown",
   "metadata": {},
   "source": [
    "Next, we need to find a Django application that allows us to use the ReCaptcha\n",
    "service. A Google search led me to <https://github.com/praekelt/djangorecaptcha>.\n",
    "It seems like a well-maintained and simple solution to our problem.\n",
    "In order to use it, we first have to install it in our virtual environment. On your\n",
    "command line, make sure that you have the virtual environment active. Then,\n",
    "install this package using the following `pip` command:"
   ]
  },
  {
   "cell_type": "markdown",
   "metadata": {},
   "source": [
    "```sh\n",
    "> pip install django-recaptcha\n",
    "```"
   ]
  },
  {
   "cell_type": "markdown",
   "metadata": {},
   "source": [
    "This will install the package. Next, add captcha to the list of `INSTALLED_APPS`\n",
    "in your `discuss/settings.py` file. Also, add the `RECAPTCHA_PUBLIC_KEY` and\n",
    "`RECAPTCHA_PRIVATE_KEY` variables to the settings file. Set their values to the\n",
    "appropriate keys that you were given on the Google ReCaptcha API keys page that\n",
    "I asked you to keep open before. **Site Key** is the public key and **Secret Key**\n",
    "is the\n",
    "private key. Finally, in your `settings.py` file, set the following variable:"
   ]
  },
  {
   "cell_type": "markdown",
   "metadata": {},
   "source": [
    "```python\n",
    "NOCAPTCHA = True\n",
    "```"
   ]
  },
  {
   "cell_type": "markdown",
   "metadata": {},
   "source": [
    "The setup is ready. We're ready to use ReCaptcha in our forms. For demonstration,\n",
    "I'll only add it to the comment form that you can see on the submission detail page.\n",
    "Open up `links/forms.py` and add this import to the top:"
   ]
  },
  {
   "cell_type": "markdown",
   "metadata": {},
   "source": [
    "```python\n",
    "from captcha.fields import ReCaptchaField\n",
    "```"
   ]
  },
  {
   "cell_type": "markdown",
   "metadata": {},
   "source": [
    "Then, add this field to `CommentModelForm`:"
   ]
  },
  {
   "cell_type": "markdown",
   "metadata": {},
   "source": [
    "```python\n",
    "captcha = ReCaptchaField()\n",
    "```"
   ]
  },
  {
   "cell_type": "markdown",
   "metadata": {},
   "source": [
    "That's it! You have successfully added Google `ReCaptcha` to your website! Let's try\n",
    "it out. Open up the details page for any submission and now, right below the body\n",
    "field that we had previously for the comment, you'll see the Google `ReCaptcha` box\n",
    "as well:"
   ]
  },
  {
   "cell_type": "markdown",
   "metadata": {},
   "source": [
    "![Discussion ReCaptcha](img/Discussion_ReCaptcha.png)"
   ]
  },
  {
   "cell_type": "markdown",
   "metadata": {},
   "source": [
    "Now, if you submit the form without selecting the **I am not a robot checkbox**, you'll\n",
    "be taken to the comment form page with an error message saying that the captcha\n",
    "field is required. You won't be able to submit your comment until you select this box."
   ]
  },
  {
   "cell_type": "markdown",
   "metadata": {},
   "source": [
    "There are two takeaways from adding the `ReCaptcha` to our site. Firstly, notice how\n",
    "easy it was for us to add a relatively complicated feature using the open source\n",
    "code contributed by another programmer. Secondly, notice how—because of the\n",
    "modularity that Django provides and the separation between the template and\n",
    "code—all we had to do to include the `ReCaptcha` widget was add it to the form.\n",
    "We didn't even need to change the view code or template. It all worked."
   ]
  },
  {
   "cell_type": "markdown",
   "metadata": {},
   "source": [
    "## Summary"
   ]
  },
  {
   "cell_type": "markdown",
   "metadata": {},
   "source": [
    "This was a pretty interesting chapter. You learned a lot more about the built-in\n",
    "generic view provided by Django and looked in detail into `ModelForms` and how we\n",
    "could customize them. We figured out some benefits of the modular MVC pattern\n",
    "that Django follows and third-party open source Django applications and how we\n",
    "can include them in our projects."
   ]
  },
  {
   "cell_type": "markdown",
   "metadata": {},
   "source": [
    "You also learned a great deal about how to pass data to our forms even when they\n",
    "are placed on separate pages and how to create a form that is displayed on two pages\n",
    "(the comment form) while making sure that the data is synchronized between both."
   ]
  },
  {
   "cell_type": "markdown",
   "metadata": {},
   "source": [
    "All in all, the application that we ended up creating was both fun to program and a\n",
    "complete product."
   ]
  }
 ],
 "metadata": {
  "kernelspec": {
   "display_name": "Python 3",
   "language": "python",
   "name": "python3"
  },
  "language_info": {
   "codemirror_mode": {
    "name": "ipython",
    "version": 3
   },
   "file_extension": ".py",
   "mimetype": "text/x-python",
   "name": "python",
   "nbconvert_exporter": "python",
   "pygments_lexer": "ipython3",
   "version": "3.5.1"
  }
 },
 "nbformat": 4,
 "nbformat_minor": 0
}
