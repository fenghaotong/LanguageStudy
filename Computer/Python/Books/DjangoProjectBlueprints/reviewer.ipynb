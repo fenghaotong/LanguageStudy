{
 "cells": [
  {
   "cell_type": "markdown",
   "metadata": {},
   "source": [
    "# About the Reviewer"
   ]
  },
  {
   "cell_type": "markdown",
   "metadata": {},
   "source": [
    "** Jaakko Tulkki ** is currently based in Madrid, Spain, where he is working as a\n",
    "Python developer. He has also worked in start-ups. Jaakko is currently finalizing his\n",
    "MSc degree in software engineering. Python is one of his favorite tools because he\n",
    "finds it a very productive language."
   ]
  },
  {
   "cell_type": "markdown",
   "metadata": {},
   "source": [
    "Jaakko works for Sainsbury's in Manchester, UK."
   ]
  }
 ],
 "metadata": {
  "kernelspec": {
   "display_name": "Python 3",
   "language": "python",
   "name": "python3"
  },
  "language_info": {
   "codemirror_mode": {
    "name": "ipython",
    "version": 3
   },
   "file_extension": ".py",
   "mimetype": "text/x-python",
   "name": "python",
   "nbconvert_exporter": "python",
   "pygments_lexer": "ipython3",
   "version": "3.5.1"
  }
 },
 "nbformat": 4,
 "nbformat_minor": 0
}
