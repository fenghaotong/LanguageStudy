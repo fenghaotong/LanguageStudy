{
 "cells": [
  {
   "cell_type": "markdown",
   "metadata": {},
   "source": [
    "# Preface"
   ]
  },
  {
   "cell_type": "markdown",
   "metadata": {},
   "source": [
    "Django is perhaps one of the most popular web development frameworks out there\n",
    "today. It is the framework that most Python developers reach for when they have\n",
    "any sizeable web application to develop.\n"
   ]
  },
  {
   "cell_type": "markdown",
   "metadata": {},
   "source": [
    "With its proven track record of performance, scalability, and security, and its famous\n",
    "batteries-included approach, Django is used by some of the biggest names in the\n",
    "industry, including Instagram, Pinterest, and National Geographic.\n"
   ]
  },
  {
   "cell_type": "markdown",
   "metadata": {},
   "source": [
    "This book is intended for people who have had a passing introduction to Django and\n",
    "a very basic idea of how to create a simple website with it. It will show you how to\n",
    "take your skills to the next level, developing applications as complex as e-commerce\n",
    "sites with lightning-fast search."
   ]
  },
  {
   "cell_type": "markdown",
   "metadata": {},
   "source": [
    "## What this book covers"
   ]
  },
  {
   "cell_type": "markdown",
   "metadata": {},
   "source": [
    "_ Chapter 1, Blueblog – A Blogging Platform _, gets you started with Django and\n",
    "introduces the basic concepts of how to use the framework. It also introduces\n",
    "you to the development techniques used in the rest of the book.\n"
   ]
  },
  {
   "cell_type": "markdown",
   "metadata": {},
   "source": [
    "_ Chapter 2, Discuss – A Hacker News Clone_, walks you through creating a web\n",
    "application in the style of the popular Hacker News discussion forum. We look at\n",
    "advanced techniques to sort and rank the content of a web application based on user\n",
    "feedback, and then we look at spam prevention techniques.\n"
   ]
  },
  {
   "cell_type": "markdown",
   "metadata": {},
   "source": [
    "_ Chapter 3, Djagios – a Nagios Clone in Django_, covers the creation of a Nagios-like\n",
    "application using Django that can monitor and report on the status of remote\n",
    "server systems."
   ]
  },
  {
   "cell_type": "markdown",
   "metadata": {},
   "source": [
    "_Chapter 4, A Car Rental App_, shows you how to create a car rental application and\n",
    "customize the Django admin application to provide our users with a fully-featured\n",
    "Content Management System."
   ]
  },
  {
   "cell_type": "markdown",
   "metadata": {},
   "source": [
    "_Chapter 5, Multilingual Movie DataBase_, helps you create an IMDB-style web listing of\n",
    "movies, allowing user comments and reviews on the movies. The main focus of this\n",
    "chapter is allowing internationalized and localized versions of your web applications\n",
    "available in multiple languages.\n"
   ]
  },
  {
   "cell_type": "markdown",
   "metadata": {},
   "source": [
    "_Chapter 6, Daintree – An E-commerce site_, shows you how to create an Amazon-like\n",
    "e-commerce website with lightning-fast search by utilizing the Elasticsearch search\n",
    "server software with Django.\n"
   ]
  },
  {
   "cell_type": "markdown",
   "metadata": {},
   "source": [
    "_Chapter 7, Form Mason – a Monkey of your own_, helps you create a complicated and\n",
    "interesting web application that allows users to dynamically define web forms\n",
    "and then ask other people to respond to those forms, which is similar in nature to\n",
    "SurveyMonkey and other such sites.\n"
   ]
  },
  {
   "cell_type": "markdown",
   "metadata": {},
   "source": [
    "_Appendix, Development Environment Setup Details and Debugging Techniques_, here we\n",
    "will look into the details of the setup, and I will explain each of the steps that we\n",
    "took. We will also see a technique for debugging Django applications."
   ]
  },
  {
   "cell_type": "markdown",
   "metadata": {},
   "source": [
    "## What you need for this book"
   ]
  },
  {
   "cell_type": "markdown",
   "metadata": {},
   "source": [
    "To create and run all the web applications that we will develop throughout the book,\n",
    "you will need working copies of the following software:\n",
    "* The Python programming language\n",
    "* pip: The package manager for installing Python packages\n",
    "* virtualenv: A tool for creating isolated environments for Python packages"
   ]
  },
  {
   "cell_type": "markdown",
   "metadata": {},
   "source": [
    "You can download the Python programming language for your operating system\n",
    "from <https://www.python.org/downloads/>. You will need Python 3 to follow the\n",
    "examples in this book.\n"
   ]
  },
  {
   "cell_type": "markdown",
   "metadata": {},
   "source": [
    "You can find the instructions to install the pip package management tool at\n",
    "<https://pip.pypa.io/en/stable/installing/>.\n"
   ]
  },
  {
   "cell_type": "markdown",
   "metadata": {},
   "source": [
    "You can install virtualenv by following the instructions at <https://virtualenv.\n",
    "pypa.io/en/latest/installation.html>."
   ]
  },
  {
   "cell_type": "markdown",
   "metadata": {},
   "source": [
    "## Who this book is for"
   ]
  },
  {
   "cell_type": "markdown",
   "metadata": {},
   "source": [
    "If you are a Django web developer able to build basic web applications with\n",
    "the framework, then this book is for you. This book will help you gain a deeper\n",
    "understanding of the Django web framework by guiding you through the\n",
    "development of six amazing web applications."
   ]
  },
  {
   "cell_type": "markdown",
   "metadata": {},
   "source": [
    "## Conventions"
   ]
  },
  {
   "cell_type": "markdown",
   "metadata": {},
   "source": [
    "In this book, you will find a number of text styles that distinguish between different\n",
    "kinds of information. Here are some examples of these styles and an explanation of\n",
    "their meaning.\n"
   ]
  },
  {
   "cell_type": "markdown",
   "metadata": {},
   "source": [
    "Code words in text, database table names, folder names, filenames, file extensions,\n",
    "pathnames, dummy URLs, user input, and Twitter handles are shown as follows:\n",
    "\"We can include other contexts through the use of the include directive.\"\n"
   ]
  },
  {
   "cell_type": "markdown",
   "metadata": {},
   "source": [
    "A block of code is set as follows:"
   ]
  },
  {
   "cell_type": "markdown",
   "metadata": {},
   "source": [
    "```\n",
    "[default]\n",
    "exten => s,1,Dial(Zap/1|30)\n",
    "exten => s,2,Voicemail(u100)\n",
    "exten => s,102,Voicemail(b100)\n",
    "exten => i,1,Voicemail(s0)\n",
    "```"
   ]
  },
  {
   "cell_type": "markdown",
   "metadata": {},
   "source": [
    "When we wish to draw your attention to a particular part of a code block, the\n",
    "relevant lines or items are set in bold:"
   ]
  },
  {
   "cell_type": "markdown",
   "metadata": {},
   "source": [
    "```\n",
    "[default]\n",
    "exten => s,1,Dial(Zap/1|30)\n",
    "exten => s,2,Voicemail(u100)\n",
    "exten => s,102,Voicemail(b100)\n",
    "exten => i,1,Voicemail(s0)\n",
    "```"
   ]
  },
  {
   "cell_type": "markdown",
   "metadata": {},
   "source": [
    "Any command-line input or output is written as follows:"
   ]
  },
  {
   "cell_type": "markdown",
   "metadata": {},
   "source": [
    "```sh\n",
    "# cp /usr/src/asterisk-addons/configs/cdr_mysql.conf.sample\n",
    "/etc/asterisk/cdr_mysql.conf\n",
    "```"
   ]
  },
  {
   "cell_type": "markdown",
   "metadata": {},
   "source": [
    "**New terms** and **important** words are shown in bold. Words that you see on the\n",
    "screen, for example, in menus or dialog boxes, appear in the text like this: \"Clicking\n",
    "the Next button moves you to the next screen.\""
   ]
  },
  {
   "cell_type": "markdown",
   "metadata": {},
   "source": [
    "> Warnings  \n",
    "> Warnings or important notes appear in a box like this."
   ]
  },
  {
   "cell_type": "markdown",
   "metadata": {},
   "source": [
    "> Tips  \n",
    "> Tips and tricks appear like this."
   ]
  },
  {
   "cell_type": "markdown",
   "metadata": {},
   "source": [
    "## Reader feedback"
   ]
  },
  {
   "cell_type": "markdown",
   "metadata": {},
   "source": [
    "Feedback from our readers is always welcome. Let us know what you think about\n",
    "this book—what you liked or disliked. Reader feedback is important for us as it helps\n",
    "us develop titles that you will really get the most out of.\n"
   ]
  },
  {
   "cell_type": "markdown",
   "metadata": {},
   "source": [
    "To send us general feedback, simply e-mail <feedback@packtpub.com>, and mention\n",
    "the book's title in the subject of your message.\n"
   ]
  },
  {
   "cell_type": "markdown",
   "metadata": {},
   "source": [
    "If there is a topic that you have expertise in and you are interested in either writing\n",
    "or contributing to a book, see our author guide at <www.packtpub.com/authors>."
   ]
  },
  {
   "cell_type": "markdown",
   "metadata": {},
   "source": [
    "## Customer support"
   ]
  },
  {
   "cell_type": "markdown",
   "metadata": {},
   "source": [
    "Now that you are the proud owner of a Packt book, we have a number of things to\n",
    "help you to get the most from your purchase."
   ]
  },
  {
   "cell_type": "markdown",
   "metadata": {},
   "source": [
    "## Downloading the example code"
   ]
  },
  {
   "cell_type": "markdown",
   "metadata": {},
   "source": [
    "You can download the example code files for this book from your account at\n",
    "<http://www.packtpub.com>. If you purchased this book elsewhere, you can visit\n",
    "<http://www.packtpub.com/support> and register to have the files e-mailed directly\n",
    "to you."
   ]
  },
  {
   "cell_type": "markdown",
   "metadata": {},
   "source": [
    "You can download the code files by following these steps:\n",
    "1. Log in or register to our website using your e-mail address and password.\n",
    "2. Hover the mouse pointer on the **SUPPORT** tab at the top.\n",
    "3. Click on **Code Downloads & Errata**.\n",
    "4. Enter the name of the book in the **Search** box.\n",
    "5. Select the book for which you're looking to download the code files.\n",
    "6. Choose from the drop-down menu where you purchased this book from.\n",
    "7. Click on **Code Download**."
   ]
  },
  {
   "cell_type": "markdown",
   "metadata": {},
   "source": [
    "You can also download the code files by clicking on the **Code Files** button on the\n",
    "book's webpage at the Packt Publishing website. This page can be accessed by\n",
    "entering the book's name in the **Search** box. Please note that you need to be logged in\n",
    "to your Packt account."
   ]
  },
  {
   "cell_type": "markdown",
   "metadata": {},
   "source": [
    "Once the file is downloaded, please make sure that you unzip or extract the folder\n",
    "using the latest version of:\n",
    "* WinRAR / 7-Zip for Windows\n",
    "* Zipeg / iZip / UnRarX for Mac\n",
    "* 7-Zip / PeaZip for Linux"
   ]
  },
  {
   "cell_type": "markdown",
   "metadata": {},
   "source": [
    "The code bundle for the book is also hosted on GitHub at <https://github.com/PacktPublishing/Django-Project-Blueprints>. We also have other code bundles\n",
    "from our rich catalog of books and videos available at <https://github.com/PacktPublishing/>. Check them out!"
   ]
  },
  {
   "cell_type": "markdown",
   "metadata": {},
   "source": [
    "# Errata"
   ]
  },
  {
   "cell_type": "markdown",
   "metadata": {},
   "source": [
    "Although we have taken every care to ensure the accuracy of our content, mistakes\n",
    "do happen. If you find a mistake in one of our books—maybe a mistake in the text or\n",
    "the code—we would be grateful if you could report this to us. By doing so, you can\n",
    "save other readers from frustration and help us improve subsequent versions of this\n",
    "book. If you find any errata, please report them by visiting <http://www.packtpub.com/submit-errata>, selecting your book, clicking on the **Errata Submission Form**\n",
    "link, and entering the details of your errata. Once your errata are verified, your\n",
    "submission will be accepted and the errata will be uploaded to our website or added\n",
    "to any list of existing errata under the Errata section of that title."
   ]
  },
  {
   "cell_type": "markdown",
   "metadata": {},
   "source": [
    "To view the previously submitted errata, go to <https://www.packtpub.com/books/>\n",
    "content/support and enter the name of the book in the search field. The required\n",
    "information will appear under the **Errata** section."
   ]
  },
  {
   "cell_type": "markdown",
   "metadata": {},
   "source": [
    "## Piracy"
   ]
  },
  {
   "cell_type": "markdown",
   "metadata": {},
   "source": [
    "Piracy of copyrighted material on the Internet is an ongoing problem across all\n",
    "media. At Packt, we take the protection of our copyright and licenses very seriously.\n",
    "If you come across any illegal copies of our works in any form on the Internet, please\n",
    "provide us with the location address or website name immediately so that we can\n",
    "pursue a remedy.\n"
   ]
  },
  {
   "cell_type": "markdown",
   "metadata": {},
   "source": [
    "Please contact us at <copyright@packtpub.com> with a link to the suspected\n",
    "pirated material.\n"
   ]
  },
  {
   "cell_type": "markdown",
   "metadata": {},
   "source": [
    "We appreciate your help in protecting our authors and our ability to bring you\n",
    "valuable content."
   ]
  },
  {
   "cell_type": "markdown",
   "metadata": {},
   "source": [
    "## Questions"
   ]
  },
  {
   "cell_type": "markdown",
   "metadata": {},
   "source": [
    "If you have a problem with any aspect of this book, you can contact us at\n",
    "<questions@packtpub.com>, and we will do our best to address the problem."
   ]
  }
 ],
 "metadata": {
  "anaconda-cloud": {},
  "kernelspec": {
   "display_name": "Python [Root]",
   "language": "python",
   "name": "Python [Root]"
  },
  "language_info": {
   "codemirror_mode": {
    "name": "ipython",
    "version": 3
   },
   "file_extension": ".py",
   "mimetype": "text/x-python",
   "name": "python",
   "nbconvert_exporter": "python",
   "pygments_lexer": "ipython3",
   "version": "3.5.1"
  }
 },
 "nbformat": 4,
 "nbformat_minor": 0
}
