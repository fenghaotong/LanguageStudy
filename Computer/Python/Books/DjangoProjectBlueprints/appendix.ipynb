{
 "cells": [
  {
   "cell_type": "markdown",
   "metadata": {},
   "source": [
    "# Development Environment Setup Details and Debugging Techniques"
   ]
  },
  {
   "cell_type": "markdown",
   "metadata": {},
   "source": [
    "This appendix will go into further detail about the Django development environment\n",
    "setup that we have been using throughout the book. We will look into the details of\n",
    "the setup, and I will explain each of the steps that we took. I will also show you a\n",
    "technique for debugging Django applications. For this appendix, we will assume that\n",
    "the project we are setting up is the Blueblog project from the first chapter."
   ]
  },
  {
   "cell_type": "markdown",
   "metadata": {},
   "source": [
    "We will start our project by first creating a root directory for it and then cd into the\n",
    "directory so that all our commands are run inside it:"
   ]
  },
  {
   "cell_type": "markdown",
   "metadata": {},
   "source": [
    "```sh\n",
    "> mkdir blueblog\n",
    "> cd blueblog\n",
    "```"
   ]
  },
  {
   "cell_type": "markdown",
   "metadata": {},
   "source": [
    "There is no technical reason for this. I just prefer to keep all the files related to a\n",
    "project in one directory as it makes things easier to organize when you have to add\n",
    "further files related to a project, such as designs and other documentation."
   ]
  },
  {
   "cell_type": "markdown",
   "metadata": {},
   "source": [
    "Next, we will create a virtual environment to use for the project. Virtual\n",
    "environments are a feature that allow you to create lightweight installations of\n",
    "Python so that each of your projects can have its own installation of all the libraries\n",
    "that it uses. This is useful when you are working on multiple projects at the same\n",
    "time and each project requires a separate version of some library. For example, at\n",
    "work, I once had to work on two projects at the same time. One required Django 1.4;\n",
    "the other required Django 1.9. If I hadn't used virtual environments, it would have\n",
    "been very difficult to keep both versions of Django at the same time."
   ]
  },
  {
   "cell_type": "markdown",
   "metadata": {},
   "source": [
    "Virtual environments also allow you to keep your Python environment clean,\n",
    "which is very important when you are finally ready to deploy your application to a\n",
    "production server. When deploying your application to a server, you need to be able\n",
    "to accurately reproduce the same Python environment you had in your development\n",
    "machine. If you don't use a separate virtual environment for each project, you will\n",
    "need to figure out exactly which Python libraries your project uses and then only\n",
    "install those on the production server. With a virtual environment, you no longer\n",
    "need to spend time figuring out which of the installed Python libraries are related\n",
    "to your project. You can just create a list of all the libraries installed in the virtual\n",
    "environment and install them on the production server, confident that you won't\n",
    "miss out on anything or install anything extra that you don't use."
   ]
  },
  {
   "cell_type": "markdown",
   "metadata": {},
   "source": [
    "If you want to read more about virtual environments, you can read the official\n",
    "documentation at `https://docs.python.org/3/library/venv.html`."
   ]
  },
  {
   "cell_type": "markdown",
   "metadata": {},
   "source": [
    "To create the virtual environment, we use the pyvenv command:"
   ]
  },
  {
   "cell_type": "markdown",
   "metadata": {},
   "source": [
    "```sh\n",
    "> pyvenv blueblogEnv\n",
    "```"
   ]
  },
  {
   "cell_type": "markdown",
   "metadata": {},
   "source": [
    "This creates a new environment inside the blueblogEnv folder. Once we have\n",
    "created the environment, we activate it:"
   ]
  },
  {
   "cell_type": "markdown",
   "metadata": {},
   "source": [
    "```sh\n",
    "> source blueblogEnv/bin/activate\n",
    "```"
   ]
  },
  {
   "cell_type": "markdown",
   "metadata": {},
   "source": [
    "Activating the environment makes sure that any Python commands we run or any\n",
    "libraries we install will use the activated environment. Next, we install Django in our\n",
    "new environment and start our project:"
   ]
  },
  {
   "cell_type": "markdown",
   "metadata": {},
   "source": [
    "```sh\n",
    "> pip install django\n",
    "> django-admin.py startproject blueblog src\n",
    "```"
   ]
  },
  {
   "cell_type": "markdown",
   "metadata": {},
   "source": [
    "This creates a directory called src that holds our Django project. You can name the\n",
    "directory anything you want; this is just the convention I prefer."
   ]
  },
  {
   "cell_type": "markdown",
   "metadata": {},
   "source": [
    "And that's all there is to the setup of our development environment."
   ]
  },
  {
   "cell_type": "markdown",
   "metadata": {},
   "source": [
    "## Using pdb to debug Django views"
   ]
  },
  {
   "cell_type": "markdown",
   "metadata": {},
   "source": [
    "You will often come across problems in your Django applications that are not\n",
    "immediately clear. When I get stuck with a tough bug, especially when it's inside a\n",
    "Django view, I use the Python debugger, which is built into Python, to step through\n",
    "my view code and debug the problem. To do so, you'll need to put this line of code\n",
    "into your view right before the point where you think the problem exists:"
   ]
  },
  {
   "cell_type": "markdown",
   "metadata": {},
   "source": [
    "```python\n",
    "import pdb\n",
    "pdb.set_trace()\n",
    "```"
   ]
  },
  {
   "cell_type": "markdown",
   "metadata": {},
   "source": [
    "Then, the next time you load the page associated with that view, you'll see that your\n",
    "browser appears to not load anything. This is because your Django application is\n",
    "now paused. If you look in the console where you ran the runserver command, you\n",
    "should see a prompt for pdb. In the prompt, you can type the name of any variable\n",
    "available in the current Python scope (usually the scope of the view that you are\n",
    "debugging) and it will print the current value of that variable. You can also run a\n",
    "bunch of other debugging commands. For a complete list of available features, take\n",
    "a look at the documentation for the Python debugger at `https://docs.python.\n",
    "org/3/library/pdb.html`."
   ]
  },
  {
   "cell_type": "markdown",
   "metadata": {},
   "source": [
    "A good Stack Overflow question with useful answers that lists some other debugging\n",
    "techniques is `http://stackoverflow.com/questions/1118183/how-to-debugin-django-the-good-way`."
   ]
  },
  {
   "cell_type": "markdown",
   "metadata": {},
   "source": [
    "## Developing on Windows"
   ]
  },
  {
   "cell_type": "markdown",
   "metadata": {},
   "source": [
    "If you are going to be using the Windows operating system while reading this book,\n",
    "please note that a couple of things will need to be done differently. Firstly, all the\n",
    "instructions provided in this book assume a Linux/Mac OS X environment, and\n",
    "some commands may not work as is. The most important change is how Windows\n",
    "handles file paths. On a Linux/OS X environment, paths are written with a forward\n",
    "slash. All the paths mentioned in the book are formatted similarly, for example,\n",
    "`PROJECT_DIR/main/settings.py`. When referring to these paths on Windows,\n",
    "you will need to change the forward slashes to backslashes. This path will become\n",
    "`PROJECT_DIR\\main\\settings.py`."
   ]
  },
  {
   "cell_type": "markdown",
   "metadata": {},
   "source": [
    "Secondly, while Python is normally included with or easily installed on Linux/OS X,\n",
    "you will need to follow the instructions at `https://www.python.org/downloads/`\n",
    "windows/ to install it on Windows. After you have Python installed, you can install\n",
    "Django using the instructions at `https://docs.djangoproject.com/en/stable/howto/windows/`."
   ]
  },
  {
   "cell_type": "markdown",
   "metadata": {},
   "source": [
    "There are a few other things that will need to be modified for Windows. I have\n",
    "mentioned these in the book as they have come up, but I might have missed\n",
    "something. If so, a search on Google will usually lead you to an answer. If not, you\n",
    "can always look me up on Twitter at `@theonejb` and I'll do my best to help you."
   ]
  }
 ],
 "metadata": {
  "kernelspec": {
   "display_name": "Python 3",
   "language": "python",
   "name": "python3"
  },
  "language_info": {
   "codemirror_mode": {
    "name": "ipython",
    "version": 3
   },
   "file_extension": ".py",
   "mimetype": "text/x-python",
   "name": "python",
   "nbconvert_exporter": "python",
   "pygments_lexer": "ipython3",
   "version": "3.5.1"
  }
 },
 "nbformat": 4,
 "nbformat_minor": 0
}
