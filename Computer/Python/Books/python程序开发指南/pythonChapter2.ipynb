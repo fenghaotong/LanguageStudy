{
 "cells": [
  {
   "cell_type": "markdown",
   "metadata": {
    "collapsed": true
   },
   "source": [
    "# Python第二章学习\n",
    "\n",
    "- [x] 标识符与关键字\n",
    "\n",
    "- [x] Intergral类型\n",
    "\n",
    "- [x] 浮点类型\n",
    "\n",
    "- [x] 字符串"
   ]
  },
  {
   "cell_type": "markdown",
   "metadata": {},
   "source": [
    "## 标识符与关键字\n",
    "- 创建一个数据项时，我们或许将其赋值给一个变量，或者将其插入到一个组合中，为对象引用赋予的名称称为标识符，python标识符符合两个原则：         \n",
    "1.只要是Unicode编码的字母，都可以充当引导字符，包括字母、下划线以及大多数非英文语言的字母。       \n",
    "2.Python标识符不能与关键字同名。         \n",
    "\n",
    "\n",
    "两条约定：       \n",
    "- 第一条是不要使用python预定义的标识符对自定义的标识符进行命名，因此，要避免使用NotImplemented与Ellipsis，以及python内置数据类型（比如int、float、list、str与tuple）的名，也不要使用内置函数名与异常名作为标识符。\n",
    "\n",
    "- 第二条约定：是关于下划线的使用，名的开头和结尾都使用下划线的情况应该避免使用，因为python定义了各种特殊方法与变量，使用的就是这样的名称。"
   ]
  },
  {
   "cell_type": "markdown",
   "metadata": {},
   "source": [
    "## integral类型\n",
    "\n",
    "- python提供了两种内置的Intergral类型，即int与bool。整数和布尔型值都是固定的，但是由于pyhton提供了增强的赋值操作符，使得这一约束极少导致实际问题。"
   ]
  },
  {
   "cell_type": "markdown",
   "metadata": {},
   "source": [
    "### 整数\n",
    "- 整数的大小只受限于机器的内存大小，默认情况下，整数采用的是十进制，但在方便的时候也可以使用其他进制："
   ]
  },
  {
   "cell_type": "code",
   "execution_count": 3,
   "metadata": {
    "collapsed": false
   },
   "outputs": [
    {
     "data": {
      "text/plain": [
       "10"
      ]
     },
     "execution_count": 3,
     "metadata": {},
     "output_type": "execute_result"
    }
   ],
   "source": [
    "10#decimal"
   ]
  },
  {
   "cell_type": "code",
   "execution_count": 5,
   "metadata": {
    "collapsed": false
   },
   "outputs": [
    {
     "data": {
      "text/plain": [
       "10"
      ]
     },
     "execution_count": 5,
     "metadata": {},
     "output_type": "execute_result"
    }
   ],
   "source": [
    "0b1010#binary"
   ]
  },
  {
   "cell_type": "code",
   "execution_count": 6,
   "metadata": {
    "collapsed": false
   },
   "outputs": [
    {
     "data": {
      "text/plain": [
       "10"
      ]
     },
     "execution_count": 6,
     "metadata": {},
     "output_type": "execute_result"
    }
   ],
   "source": [
    "0o12#octal"
   ]
  },
  {
   "cell_type": "code",
   "execution_count": 7,
   "metadata": {
    "collapsed": false
   },
   "outputs": [
    {
     "data": {
      "text/plain": [
       "10"
      ]
     },
     "execution_count": 7,
     "metadata": {},
     "output_type": "execute_result"
    }
   ],
   "source": [
    "0xa#hexadecimal"
   ]
  },
  {
   "cell_type": "markdown",
   "metadata": {},
   "source": [
    "所有常见的数学函数与操作符都可用于整数\n",
    "\n",
    "使用数据类型创建对象时，有3种用例。      \n",
    "- 第一种是不使用参数调用数据类型函数，在这种情况下，对象会被赋值为一个默认值，你如，x=int（）会创建一个值为0的整数，所有内置的数据类型都可以作为函数并不带任何参数进行调用\n",
    "\n",
    "- 第二种情况是，使用一个参数调用数据类型函数，如果给定的参数是同样的数据类型，就会创建一个新对象，新对象是原始对象的一个浅拷贝，如果给定的参数不是同样的数据类型，就会尝试进行转换。如果给定的参数支持到给定数据类型的转换，但是转换失败，就会产生一个ValueError异常，否则返回给定类型对象。如果给定参数不知道给定数据类型的转换，就会产生一种TypeError异常\n",
    "\n",
    "- 第三种情况是，给定两个或多个参数--但不是所有数据类型都支持，而对支持这一情况的数据类型，参数类型以及内涵都是变化的。对于int类型，允许给定两个参数，其中一个参数是一个表示整数的字符串，第二个参数则是字符串表示的base，如下例："
   ]
  },
  {
   "cell_type": "code",
   "execution_count": 1,
   "metadata": {
    "collapsed": false
   },
   "outputs": [
    {
     "data": {
      "text/plain": [
       "164"
      ]
     },
     "execution_count": 1,
     "metadata": {},
     "output_type": "execute_result"
    }
   ],
   "source": [
    "int(\"A4\",16)"
   ]
  },
  {
   "cell_type": "markdown",
   "metadata": {},
   "source": [
    "### 布尔值\n",
    "- 有两个内置的布尔型对象：True与False，与所有其他的python数据类型相似，布尔数据类型也可以当做函数进行调用--不指定参数时将返回False，给定的是布尔型参数时，会返回该参数的一个拷贝，给定的是其他类型的参数时，则会尝试将其转换为布尔型值。下面给出了两个布尔型赋值操作以及两个布尔表达式："
   ]
  },
  {
   "cell_type": "code",
   "execution_count": 8,
   "metadata": {
    "collapsed": false
   },
   "outputs": [
    {
     "data": {
      "text/plain": [
       "False"
      ]
     },
     "execution_count": 8,
     "metadata": {},
     "output_type": "execute_result"
    }
   ],
   "source": [
    "t = True\n",
    "f = False\n",
    "t and f"
   ]
  },
  {
   "cell_type": "code",
   "execution_count": 9,
   "metadata": {
    "collapsed": false
   },
   "outputs": [
    {
     "data": {
      "text/plain": [
       "True"
      ]
     },
     "execution_count": 9,
     "metadata": {},
     "output_type": "execute_result"
    }
   ],
   "source": [
    "t and True"
   ]
  },
  {
   "cell_type": "markdown",
   "metadata": {},
   "source": [
    "## 浮点类型\n",
    "- python提供了3种浮点值：内置的float与complex类型，以及来自标准库的decimal.Decimal类型，这3种数据类型都是固定的。"
   ]
  },
  {
   "cell_type": "markdown",
   "metadata": {},
   "source": [
    "### 浮点数\n",
    "- float数据类型可以作为函数调用--不指定参数时返回0.0，指定的是float型参数时返回该参数的一个拷贝，指定其他任意类型的参数时都尝试将其转换为float\n",
    "\n",
    "下面给出一个简单函数，该函数用于比较floatS是否相等"
   ]
  },
  {
   "cell_type": "code",
   "execution_count": 10,
   "metadata": {
    "collapsed": true
   },
   "outputs": [],
   "source": [
    "import sys\n",
    "def equal_float(a,b):\n",
    "    return abs(a - b)<= sys.float_info.epsilon"
   ]
  },
  {
   "cell_type": "markdown",
   "metadata": {},
   "source": [
    "sys.float_info是一个对象，有很多属性，epsilon是机器可以区分出的两个浮点数的最小区别"
   ]
  },
  {
   "cell_type": "code",
   "execution_count": 11,
   "metadata": {
    "collapsed": false
   },
   "outputs": [
    {
     "data": {
      "text/plain": [
       "sys.float_info"
      ]
     },
     "execution_count": 11,
     "metadata": {},
     "output_type": "execute_result"
    }
   ],
   "source": [
    "type(sys.float_info)"
   ]
  },
  {
   "cell_type": "code",
   "execution_count": 12,
   "metadata": {
    "collapsed": false
   },
   "outputs": [
    {
     "name": "stdout",
     "output_type": "stream",
     "text": [
      "Help on float_info object:\n",
      "\n",
      "class float_info(builtins.tuple)\n",
      " |  sys.float_info\n",
      " |  \n",
      " |  A structseq holding information about the float type. It contains low level\n",
      " |  information about the precision and internal representation. Please study\n",
      " |  your system's :file:`float.h` for more information.\n",
      " |  \n",
      " |  Method resolution order:\n",
      " |      float_info\n",
      " |      builtins.tuple\n",
      " |      builtins.object\n",
      " |  \n",
      " |  Methods defined here:\n",
      " |  \n",
      " |  __new__(*args, **kwargs) from builtins.type\n",
      " |      Create and return a new object.  See help(type) for accurate signature.\n",
      " |  \n",
      " |  __reduce__(...)\n",
      " |      helper for pickle\n",
      " |  \n",
      " |  __repr__(self, /)\n",
      " |      Return repr(self).\n",
      " |  \n",
      " |  ----------------------------------------------------------------------\n",
      " |  Data descriptors defined here:\n",
      " |  \n",
      " |  dig\n",
      " |      DBL_DIG -- digits\n",
      " |  \n",
      " |  epsilon\n",
      " |      DBL_EPSILON -- Difference between 1 and the next representable float\n",
      " |  \n",
      " |  mant_dig\n",
      " |      DBL_MANT_DIG -- mantissa digits\n",
      " |  \n",
      " |  max\n",
      " |      DBL_MAX -- maximum representable finite float\n",
      " |  \n",
      " |  max_10_exp\n",
      " |      DBL_MAX_10_EXP -- maximum int e such that 10**e is representable\n",
      " |  \n",
      " |  max_exp\n",
      " |      DBL_MAX_EXP -- maximum int e such that radix**(e-1) is representable\n",
      " |  \n",
      " |  min\n",
      " |      DBL_MIN -- Minimum positive normalizer float\n",
      " |  \n",
      " |  min_10_exp\n",
      " |      DBL_MIN_10_EXP -- minimum int e such that 10**e is a normalized\n",
      " |  \n",
      " |  min_exp\n",
      " |      DBL_MIN_EXP -- minimum int e such that radix**(e-1) is a normalized float\n",
      " |  \n",
      " |  radix\n",
      " |      FLT_RADIX -- radix of exponent\n",
      " |  \n",
      " |  rounds\n",
      " |      FLT_ROUNDS -- addition rounds\n",
      " |  \n",
      " |  ----------------------------------------------------------------------\n",
      " |  Data and other attributes defined here:\n",
      " |  \n",
      " |  n_fields = 11\n",
      " |  \n",
      " |  n_sequence_fields = 11\n",
      " |  \n",
      " |  n_unnamed_fields = 0\n",
      " |  \n",
      " |  ----------------------------------------------------------------------\n",
      " |  Methods inherited from builtins.tuple:\n",
      " |  \n",
      " |  __add__(self, value, /)\n",
      " |      Return self+value.\n",
      " |  \n",
      " |  __contains__(self, key, /)\n",
      " |      Return key in self.\n",
      " |  \n",
      " |  __eq__(self, value, /)\n",
      " |      Return self==value.\n",
      " |  \n",
      " |  __ge__(self, value, /)\n",
      " |      Return self>=value.\n",
      " |  \n",
      " |  __getattribute__(self, name, /)\n",
      " |      Return getattr(self, name).\n",
      " |  \n",
      " |  __getitem__(self, key, /)\n",
      " |      Return self[key].\n",
      " |  \n",
      " |  __getnewargs__(...)\n",
      " |  \n",
      " |  __gt__(self, value, /)\n",
      " |      Return self>value.\n",
      " |  \n",
      " |  __hash__(self, /)\n",
      " |      Return hash(self).\n",
      " |  \n",
      " |  __iter__(self, /)\n",
      " |      Implement iter(self).\n",
      " |  \n",
      " |  __le__(self, value, /)\n",
      " |      Return self<=value.\n",
      " |  \n",
      " |  __len__(self, /)\n",
      " |      Return len(self).\n",
      " |  \n",
      " |  __lt__(self, value, /)\n",
      " |      Return self<value.\n",
      " |  \n",
      " |  __mul__(self, value, /)\n",
      " |      Return self*value.n\n",
      " |  \n",
      " |  __ne__(self, value, /)\n",
      " |      Return self!=value.\n",
      " |  \n",
      " |  __rmul__(self, value, /)\n",
      " |      Return self*value.\n",
      " |  \n",
      " |  count(...)\n",
      " |      T.count(value) -> integer -- return number of occurrences of value\n",
      " |  \n",
      " |  index(...)\n",
      " |      T.index(value, [start, [stop]]) -> integer -- return first index of value.\n",
      " |      Raises ValueError if the value is not present.\n",
      "\n"
     ]
    }
   ],
   "source": [
    "help(sys.float_info)#显示sys.float_info对象的某些属性和方法功能"
   ]
  },
  {
   "cell_type": "code",
   "execution_count": 13,
   "metadata": {
    "collapsed": false
   },
   "outputs": [
    {
     "name": "stdout",
     "output_type": "stream",
     "text": [
      "['__add__', '__class__', '__contains__', '__delattr__', '__dir__', '__doc__', '__eq__', '__format__', '__ge__', '__getattribute__', '__getitem__', '__getnewargs__', '__gt__', '__hash__', '__init__', '__iter__', '__le__', '__len__', '__lt__', '__mul__', '__ne__', '__new__', '__reduce__', '__reduce_ex__', '__repr__', '__rmul__', '__setattr__', '__sizeof__', '__str__', '__subclasshook__', 'count', 'dig', 'epsilon', 'index', 'mant_dig', 'max', 'max_10_exp', 'max_exp', 'min', 'min_10_exp', 'min_exp', 'n_fields', 'n_sequence_fields', 'n_unnamed_fields', 'radix', 'rounds']\n"
     ]
    }
   ],
   "source": [
    "print(dir(sys.float_info))"
   ]
  },
  {
   "cell_type": "markdown",
   "metadata": {},
   "source": [
    "使用int（）函数，可以将浮点数转换为整数--返回其整数部分，舍弃小数部分；使用round函数，该函数将对小说部分四舍五入；math.floor（）函数，或者math.ceil（）函数--该函数可以将浮点数转化为最近邻的整数。\n",
    "\n",
    "如果浮点数的小数部分为0，float.is_interger()方法将返回True，浮点数的小数可以使用float.as_integer_ratio方法获取。\n",
    "\n",
    "float.hex()方法，可以将浮点数以十六进制形式表示为字符串，相反的转换可以使用float.fromhex()实现"
   ]
  },
  {
   "cell_type": "code",
   "execution_count": 15,
   "metadata": {
    "collapsed": false
   },
   "outputs": [
    {
     "data": {
      "text/plain": [
       "(11, 4)"
      ]
     },
     "execution_count": 15,
     "metadata": {},
     "output_type": "execute_result"
    }
   ],
   "source": [
    "x = 2.75\n",
    "x.as_integer_ratio()"
   ]
  },
  {
   "cell_type": "code",
   "execution_count": 18,
   "metadata": {
    "collapsed": false
   },
   "outputs": [],
   "source": [
    "s = 14.25.hex()\n",
    "f = float.fromhex(s)\n",
    "t = f.hex()"
   ]
  },
  {
   "cell_type": "markdown",
   "metadata": {},
   "source": [
    "### 复数\n",
    "- 复数这种数据类型是固定的，其中存放的是一对浮点数，一个是实数部分，另一个是虚数部分，两个部分都以属性名的形式存在，分别为real与imag\n",
    "\n",
    "下面是如何创建一个复数对象："
   ]
  },
  {
   "cell_type": "code",
   "execution_count": 19,
   "metadata": {
    "collapsed": false
   },
   "outputs": [
    {
     "data": {
      "text/plain": [
       "(23.0, 23.2)"
      ]
     },
     "execution_count": 19,
     "metadata": {},
     "output_type": "execute_result"
    }
   ],
   "source": [
    "z = 23.0 + 23.2j#创建一个复数对象\n",
    "z.real,z.imag"
   ]
  },
  {
   "cell_type": "code",
   "execution_count": 20,
   "metadata": {
    "collapsed": false
   },
   "outputs": [
    {
     "data": {
      "text/plain": [
       "(23-23.2j)"
      ]
     },
     "execution_count": 20,
     "metadata": {},
     "output_type": "execute_result"
    }
   ],
   "source": [
    "z.conjugate()#共轭复数"
   ]
  },
  {
   "cell_type": "markdown",
   "metadata": {},
   "source": [
    "### 十进制数字\n",
    "- 在很多应用程序中使用浮点数时导致的数值不精确并没有很大的影响，在很多时候都要被浮点计算的速度优势所掩盖，但有些情况下，我们更需要完全的准确性，即使要付出速度降低的代价。decimal模块可以提供固定的十进制数，其精度可以自己指定。\n",
    "\n",
    "要创建Decimal，必须先导入decimal模块，例如："
   ]
  },
  {
   "cell_type": "code",
   "execution_count": 21,
   "metadata": {
    "collapsed": false
   },
   "outputs": [
    {
     "data": {
      "text/plain": [
       "Decimal('64197.012345678987654321')"
      ]
     },
     "execution_count": 21,
     "metadata": {},
     "output_type": "execute_result"
    }
   ],
   "source": [
    "import decimal\n",
    "a = decimal.Decimal(9876)\n",
    "b = decimal.Decimal(\"54321.012345678987654321\")\n",
    "a + b"
   ]
  },
  {
   "cell_type": "markdown",
   "metadata": {},
   "source": [
    "十进制数是使用decimal.Decimal()函数创建的，该函数可以接受一个整数或字符串作为参数--但不能以浮点数作为参数，因为浮点数不够准确，decimal泽很准确。\n",
    "\n",
    "下面看一下浮点数与decimal.Decimal在精度上的差别："
   ]
  },
  {
   "cell_type": "code",
   "execution_count": 22,
   "metadata": {
    "collapsed": false
   },
   "outputs": [
    {
     "data": {
      "text/plain": [
       "21.904761904761905"
      ]
     },
     "execution_count": 22,
     "metadata": {},
     "output_type": "execute_result"
    }
   ],
   "source": [
    "23/1.05"
   ]
  },
  {
   "cell_type": "code",
   "execution_count": 23,
   "metadata": {
    "collapsed": false
   },
   "outputs": [
    {
     "name": "stdout",
     "output_type": "stream",
     "text": [
      "21.904761904761905\n"
     ]
    }
   ],
   "source": [
    "print(23/1.05)"
   ]
  },
  {
   "cell_type": "code",
   "execution_count": 24,
   "metadata": {
    "collapsed": false
   },
   "outputs": [
    {
     "name": "stdout",
     "output_type": "stream",
     "text": [
      "21.90476190476190476190476190\n"
     ]
    }
   ],
   "source": [
    "print(decimal.Decimal(23)/decimal.Decimal(\"1.05\"))"
   ]
  },
  {
   "cell_type": "code",
   "execution_count": 25,
   "metadata": {
    "collapsed": false
   },
   "outputs": [
    {
     "data": {
      "text/plain": [
       "Decimal('21.90476190476190476190476190')"
      ]
     },
     "execution_count": 25,
     "metadata": {},
     "output_type": "execute_result"
    }
   ],
   "source": [
    "decimal.Decimal(23)/decimal.Decimal(\"1.05\")"
   ]
  },
  {
   "cell_type": "markdown",
   "metadata": {},
   "source": [
    "## 字符串\n",
    "\n",
    "- [x] 比较字符串\n",
    "\n",
    "- [x] 字符串分片与步距\n",
    "\n",
    "- [x] 字符串操作符与方法\n",
    "\n",
    "- [x] 使用str.format()方法进行字符串格式化\n",
    "\n",
    "- [ ] 字符编码            \n",
    "\n",
    "\n",
    "- 字符串是使用固定不变的str数据类型表示的，其中存放Unicode字符序列。str数据类型可以作为函数进行调用，用于创建字符串对象--参数为空时返回一个空字符串，参数为非字符串类型时返回该参数的字符串形式，参数为字符串是返回该字符串的拷贝。       \n",
    "\n",
    "- 前面我们注意到，字符串是使用引号创建的，可以使单引号，也可以是双引号，单字符串两顿必须相同，此外，我们还可以使用三引号包含的字符串。如：\n",
    "   \n",
    "```      \n",
    "text=\"\"\"A triple quoted string like this can include 'quotes' and \"quotes\"\"\"\"     \n",
    "      \n",
    "```       \n",
    "- python使用换行作为其语句终结符，但是如果在圆括号内、方括号内、花括号内或者三引号包含的字符串内侧则是例外，在三引号包含的字符串中，可以直接使用换行，而不需要进行格式化处理操作，通过使用\\n转义序列，也可以在任何字符串中包含换行。          \n",
    "\n",
    "- 如果我们需要写一个长字符串，跨越了2行或更多行，但是不使用三引号包含的字符串，那么有两种解决帮法      \n",
    "\n",
    "```       \n",
    "t = \"this is not the best way to join two long strings\"+\\       \n",
    "   \"together since it relies on ugly newline escaping\"       \n",
    "s = (\"this is not the best way to join two long strings\"       \n",
    "   \"together since it relies on ugly newline escaping\")  \n",
    "   \n",
    "```\n",
    "\n",
    "上面第二种情况，我们必须使用圆括号将其包含在一起，构成一个单独的表达式，如果不使用圆括号，就只有第一个字符串s进行赋值，第二个字符串则会导致IndentantionError异常。"
   ]
  },
  {
   "cell_type": "markdown",
   "metadata": {},
   "source": [
    "|    转义字符     |      含义      |\n",
    "|:-------------------:|:-------------------:|\n",
    "|    \\newline    |      忽略换行     |\n",
    "|    \\\\        |  反斜杠（\\）        |\n",
    "|    \\'       |  单引号（‘）  |\n",
    "|    \\\"        | 双引号（“）   |\n",
    "|   \\a         | ASCLL蜂鸣（BEL）   |\n",
    "|   \\b         | ASCLL退格（BS）   |\n",
    "|    \\f        |  ASCLL走纸（FF）  |\n",
    "|    \\n        |  ASCLL换行（LF）  |\n",
    "|    \\N{name}   |  给定名称的Unicode字符  |\n",
    "|    \\ooo     |  给定八进制的字符  |\n",
    "|    \\r       | ASCLL回车符（CR）   |\n",
    "|    \\t        | ASCLL制表符（TAB）   |\n",
    "|    \\uhhhh     | 给定16位十六进制的Unicode字符   |\n",
    "|    \\Uhhhhhhhhh  |  给定32位十六进制的Unicode字符  |\n",
    "|    \\v        |  ASCLL垂直指标（VT）  |\n",
    "|    \\xhh       |  给定8位十六进制的Unicode字符  |"
   ]
  },
  {
   "cell_type": "markdown",
   "metadata": {},
   "source": [
    "### 定义字符串\n",
    " \n",
    "定义字符串的三种方法\n",
    "\n",
    "- str1 = 'hello world'\n",
    "- str2 = \"hello world\"\n",
    "- str3 = \"\"\"hello world\"\"\"\n",
    "\n",
    "看下面实例"
   ]
  },
  {
   "cell_type": "code",
   "execution_count": 27,
   "metadata": {
    "collapsed": false
   },
   "outputs": [
    {
     "data": {
      "text/plain": [
       "str"
      ]
     },
     "execution_count": 27,
     "metadata": {},
     "output_type": "execute_result"
    }
   ],
   "source": [
    "str1 = 'hello world'\n",
    "type(str1)"
   ]
  },
  {
   "cell_type": "code",
   "execution_count": 28,
   "metadata": {
    "collapsed": false
   },
   "outputs": [
    {
     "data": {
      "text/plain": [
       "str"
      ]
     },
     "execution_count": 28,
     "metadata": {},
     "output_type": "execute_result"
    }
   ],
   "source": [
    "str2 = \"hello world\"\n",
    "type(str2)"
   ]
  },
  {
   "cell_type": "markdown",
   "metadata": {},
   "source": [
    "上面两种定义字符串的方法一样，没有区别，有区别的情况看下面的例子："
   ]
  },
  {
   "cell_type": "code",
   "execution_count": 30,
   "metadata": {
    "collapsed": false
   },
   "outputs": [
    {
     "ename": "SyntaxError",
     "evalue": "invalid syntax (<ipython-input-30-b7831a02770c>, line 1)",
     "output_type": "error",
     "traceback": [
      "\u001b[1;36m  File \u001b[1;32m\"<ipython-input-30-b7831a02770c>\"\u001b[1;36m, line \u001b[1;32m1\u001b[0m\n\u001b[1;33m    say = 'let's go'\u001b[0m\n\u001b[1;37m               ^\u001b[0m\n\u001b[1;31mSyntaxError\u001b[0m\u001b[1;31m:\u001b[0m invalid syntax\n"
     ]
    }
   ],
   "source": [
    "say = 'let's go' "
   ]
  },
  {
   "cell_type": "code",
   "execution_count": 32,
   "metadata": {
    "collapsed": false
   },
   "outputs": [
    {
     "name": "stdout",
     "output_type": "stream",
     "text": [
      "let's go\n"
     ]
    }
   ],
   "source": [
    "say = \"let's go\"#这才是正确的定义方法\n",
    "print(say)"
   ]
  },
  {
   "cell_type": "markdown",
   "metadata": {},
   "source": [
    "如果双引号里面还有双引号时，该怎么定义呢？这时候就需要加转义字符"
   ]
  },
  {
   "cell_type": "code",
   "execution_count": 33,
   "metadata": {
    "collapsed": false
   },
   "outputs": [
    {
     "name": "stdout",
     "output_type": "stream",
     "text": [
      "let's \"go\"\n"
     ]
    }
   ],
   "source": [
    "say = \"let's \\\"go\\\"\"\n",
    "print(say)"
   ]
  },
  {
   "cell_type": "code",
   "execution_count": 35,
   "metadata": {
    "collapsed": false
   },
   "outputs": [
    {
     "name": "stdout",
     "output_type": "stream",
     "text": [
      "tom: hello i am jack\n"
     ]
    }
   ],
   "source": [
    "mail = 'tom: hello i am jack'\n",
    "print (mail)"
   ]
  },
  {
   "cell_type": "code",
   "execution_count": 36,
   "metadata": {
    "collapsed": false
   },
   "outputs": [
    {
     "name": "stdout",
     "output_type": "stream",
     "text": [
      "tom:\n",
      " hello\n",
      " i am jack\n"
     ]
    }
   ],
   "source": [
    "mail = 'tom:\\n hello\\n i am jack'\n",
    "print(mail)"
   ]
  },
  {
   "cell_type": "markdown",
   "metadata": {},
   "source": [
    "上面例子中我们需要换行的时候，需要加转义字符\\n，但是如果需要的转义字符多的时候就会容易弄混，所以我们可以用第三种定义字符串的方法。"
   ]
  },
  {
   "cell_type": "code",
   "execution_count": 37,
   "metadata": {
    "collapsed": false
   },
   "outputs": [
    {
     "name": "stdout",
     "output_type": "stream",
     "text": [
      "tom:\n",
      "    i am jack\n",
      "    goobye\n",
      "\n"
     ]
    }
   ],
   "source": [
    "mail = \"\"\"tom:\n",
    "    i am jack\n",
    "    goobye\n",
    "\"\"\"\n",
    "print(mail)"
   ]
  },
  {
   "cell_type": "code",
   "execution_count": 38,
   "metadata": {
    "collapsed": false
   },
   "outputs": [
    {
     "data": {
      "text/plain": [
       "'tom:\\n    i am jack\\n    goobye\\n'"
      ]
     },
     "execution_count": 38,
     "metadata": {},
     "output_type": "execute_result"
    }
   ],
   "source": [
    "mail#当我们使用三引号的时候就会把我们所做的操作给记录下来"
   ]
  },
  {
   "cell_type": "markdown",
   "metadata": {},
   "source": [
    "### 比较字符串\n",
    "- 字符串支持通常的比较操作符<、<=、==、！=、>、>=，这些操作符在内存中逐个字节对字符串进行比较"
   ]
  },
  {
   "cell_type": "markdown",
   "metadata": {},
   "source": [
    "### 字符串分片与步距\n",
    "- 序列中的单个数据项或者字符串中的单个字符，可以使用数据项存取操作符[]来提取"
   ]
  },
  {
   "cell_type": "code",
   "execution_count": 39,
   "metadata": {
    "collapsed": false
   },
   "outputs": [
    {
     "data": {
      "text/plain": [
       "'a'"
      ]
     },
     "execution_count": 39,
     "metadata": {},
     "output_type": "execute_result"
    }
   ],
   "source": [
    "a = 'abcde'\n",
    "a[0]"
   ]
  },
  {
   "cell_type": "code",
   "execution_count": 40,
   "metadata": {
    "collapsed": false
   },
   "outputs": [
    {
     "data": {
      "text/plain": [
       "'ab'"
      ]
     },
     "execution_count": 40,
     "metadata": {},
     "output_type": "execute_result"
    }
   ],
   "source": [
    "a[0]+a[1]"
   ]
  },
  {
   "cell_type": "markdown",
   "metadata": {},
   "source": [
    "我们首先从提取单个字符开始，字符串的索引位置从0开始，直至字符串长度减去1.但是使用负索引位置也是可能的----此时的计数方式是从最后一个字符到第一个字符。\n",
    "\n",
    "分片操作符有三种语法格式：\n",
    "\n",
    "- seq[start]\n",
    "- seq[start:end]\n",
    "- seq[start:end:step]\n",
    "\n",
    "例子如下："
   ]
  },
  {
   "cell_type": "code",
   "execution_count": 41,
   "metadata": {
    "collapsed": false
   },
   "outputs": [
    {
     "data": {
      "text/plain": [
       "'abcde'"
      ]
     },
     "execution_count": 41,
     "metadata": {},
     "output_type": "execute_result"
    }
   ],
   "source": [
    "a"
   ]
  },
  {
   "cell_type": "code",
   "execution_count": 42,
   "metadata": {
    "collapsed": false
   },
   "outputs": [
    {
     "data": {
      "text/plain": [
       "'bc'"
      ]
     },
     "execution_count": 42,
     "metadata": {},
     "output_type": "execute_result"
    }
   ],
   "source": [
    "a[1:3]#从零开始计数，从第一个开始去到第三个"
   ]
  },
  {
   "cell_type": "code",
   "execution_count": 43,
   "metadata": {
    "collapsed": false
   },
   "outputs": [
    {
     "data": {
      "text/plain": [
       "'abcd'"
      ]
     },
     "execution_count": 43,
     "metadata": {},
     "output_type": "execute_result"
    }
   ],
   "source": [
    "a[:4]#也可以省略start，这是从零个开始取"
   ]
  },
  {
   "cell_type": "code",
   "execution_count": 44,
   "metadata": {
    "collapsed": false
   },
   "outputs": [
    {
     "data": {
      "text/plain": [
       "'e'"
      ]
     },
     "execution_count": 44,
     "metadata": {},
     "output_type": "execute_result"
    }
   ],
   "source": [
    "a[4:]#如果省略end，就是从start开始取，到结尾"
   ]
  },
  {
   "cell_type": "code",
   "execution_count": 45,
   "metadata": {
    "collapsed": false
   },
   "outputs": [
    {
     "data": {
      "text/plain": [
       "'abcde'"
      ]
     },
     "execution_count": 45,
     "metadata": {},
     "output_type": "execute_result"
    }
   ],
   "source": [
    "a[::1]#从开头到结尾，一步一取step=1"
   ]
  },
  {
   "cell_type": "markdown",
   "metadata": {
    "collapsed": true
   },
   "source": [
    "### 使用str.format()方法进行字符串格式化\n",
    "- str.format()方法提供了非常灵活而强大的创建字符串的途径，此方法会返回一个新的字符串，在新字符串中，源字符串的替换字段被适当的格式化后的参数所替代。举个简单的例子"
   ]
  },
  {
   "cell_type": "code",
   "execution_count": 50,
   "metadata": {
    "collapsed": false
   },
   "outputs": [
    {
     "data": {
      "text/plain": [
       "'the three tops'"
      ]
     },
     "execution_count": 50,
     "metadata": {},
     "output_type": "execute_result"
    }
   ],
   "source": [
    "x = \"three\"\n",
    "s = \"{0} {1} {2}\"\n",
    "s = s.format(\"the\",x,\"tops\")\n",
    "s"
   ]
  },
  {
   "cell_type": "markdown",
   "metadata": {},
   "source": [
    "#### 字段名\n",
    "- 字段名或者是一个与某个str.format()方法参数对应整数，或者是方法的某个关键字参数的名称。"
   ]
  },
  {
   "cell_type": "code",
   "execution_count": 51,
   "metadata": {
    "collapsed": false
   },
   "outputs": [
    {
     "data": {
      "text/plain": [
       "'She turned 88 this year'"
      ]
     },
     "execution_count": 51,
     "metadata": {},
     "output_type": "execute_result"
    }
   ],
   "source": [
    "\"{who} turned {age} this year\".format(who = \"She\",age = \"88\")"
   ]
  },
  {
   "cell_type": "code",
   "execution_count": 52,
   "metadata": {
    "collapsed": false
   },
   "outputs": [
    {
     "data": {
      "text/plain": [
       "'we have envelopes and notepads in stock'"
      ]
     },
     "execution_count": 52,
     "metadata": {},
     "output_type": "execute_result"
    }
   ],
   "source": [
    "stock = [\"paper\",\"envelopes\",\"notepads\",\"pens\"]\n",
    "\"we have {0[1]} and {0[2]} in stock\".format(stock)#0引用的是位置参数\n"
   ]
  },
  {
   "cell_type": "code",
   "execution_count": 53,
   "metadata": {
    "collapsed": false
   },
   "outputs": [
    {
     "data": {
      "text/plain": [
       "'python can count'"
      ]
     },
     "execution_count": 53,
     "metadata": {},
     "output_type": "execute_result"
    }
   ],
   "source": [
    "\"{} {} {}\".format(\"python\",\"can\",\"count\")#从python3.1开始，忽略字段名成为可能，这种情况下，python会自动处理（使用从0开始的数值）\n"
   ]
  },
  {
   "cell_type": "markdown",
   "metadata": {},
   "source": [
    "- 当前还在作用范围内的局部变量可以通过内置的locals（）函数访问，该函数会返回一个字典，字典的键是局部变量名。字典的值则是对变量值的引用，现在，我们可以使用映射拆分将该字典提供给str.format()方法，映射拆分操作符为\\*\\*."
   ]
  },
  {
   "cell_type": "code",
   "execution_count": 55,
   "metadata": {
    "collapsed": false
   },
   "outputs": [
    {
     "data": {
      "text/plain": [
       "'Element 47 is sliver'"
      ]
     },
     "execution_count": 55,
     "metadata": {},
     "output_type": "execute_result"
    }
   ],
   "source": [
    "element = \"sliver\"\n",
    "number = 47\n",
    "\"Element {number} is {element}\".format(**locals())"
   ]
  },
  {
   "cell_type": "code",
   "execution_count": null,
   "metadata": {
    "collapsed": true
   },
   "outputs": [],
   "source": []
  }
 ],
 "metadata": {
  "anaconda-cloud": {},
  "kernelspec": {
   "display_name": "Python [Root]",
   "language": "python",
   "name": "Python [Root]"
  },
  "language_info": {
   "codemirror_mode": {
    "name": "ipython",
    "version": 3
   },
   "file_extension": ".py",
   "mimetype": "text/x-python",
   "name": "python",
   "nbconvert_exporter": "python",
   "pygments_lexer": "ipython3",
   "version": "3.5.1"
  }
 },
 "nbformat": 4,
 "nbformat_minor": 0
}
