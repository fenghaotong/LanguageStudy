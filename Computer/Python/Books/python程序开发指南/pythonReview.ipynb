{
 "cells": [
  {
   "cell_type": "markdown",
   "metadata": {},
   "source": [
    "# Python复习\n",
    "\n",
    "- [x] 变量和字符串\n",
    "- [x] 数据类型\n",
    "- [x] 常用操作符\n",
    "- [x] 控制结构\n",
    "- [x] 列表和元组\n",
    "- [x] 字符串\n",
    "- [x] 函数\n",
    "- [x] 递归\n",
    "- [x] 字典\n",
    "- [x] 集合\n",
    "- [x] 文件\n",
    "- [x] 异常处理\n",
    "- [x] 类和对象\n",
    "- [ ] 魔术方法(+生成器)\n",
    "- [ ] 模块\n",
    "- [ ] 正则表达式"
   ]
  },
  {
   "cell_type": "markdown",
   "metadata": {},
   "source": [
    "## 变量和字符串\n",
    "\n",
    "- 变量在命名时尽量给变量一个专业的名字，能让人看见就能理解这个变量是为了表达什么\n",
    "\n",
    "- 在字符串中需要同时出现单双引号时，有两种方法\n",
    "    - 使用转义字符`\\``\n",
    "    - 双引号包着单引号\n",
    "    \n",
    "- 原始字符串：在平时的字符串中加一个英文字母r\n",
    "- 长字符串：使用三引号可以多行编写"
   ]
  },
  {
   "cell_type": "code",
   "execution_count": 1,
   "metadata": {
    "collapsed": false
   },
   "outputs": [
    {
     "data": {
      "text/plain": [
       "\"Let's go\""
      ]
     },
     "execution_count": 1,
     "metadata": {},
     "output_type": "execute_result"
    }
   ],
   "source": [
    "'Let\\'s go'"
   ]
  },
  {
   "cell_type": "code",
   "execution_count": 2,
   "metadata": {
    "collapsed": false
   },
   "outputs": [
    {
     "data": {
      "text/plain": [
       "\"Let's go\""
      ]
     },
     "execution_count": 2,
     "metadata": {},
     "output_type": "execute_result"
    }
   ],
   "source": [
    "\"Let's go\""
   ]
  },
  {
   "cell_type": "code",
   "execution_count": 4,
   "metadata": {
    "collapsed": false
   },
   "outputs": [
    {
     "data": {
      "text/plain": [
       "'C:\\\\now'"
      ]
     },
     "execution_count": 4,
     "metadata": {},
     "output_type": "execute_result"
    }
   ],
   "source": [
    "str = r\"C:\\now\"\n",
    "str"
   ]
  },
  {
   "cell_type": "code",
   "execution_count": 6,
   "metadata": {
    "collapsed": false
   },
   "outputs": [
    {
     "data": {
      "text/plain": [
       "'\\nI am \\nstudying'"
      ]
     },
     "execution_count": 6,
     "metadata": {},
     "output_type": "execute_result"
    }
   ],
   "source": [
    "str = \"\"\"\n",
    "I am \n",
    "studying\"\"\"\n",
    "str"
   ]
  },
  {
   "cell_type": "markdown",
   "metadata": {},
   "source": [
    "## 数据类型\n",
    "- 整型int\n",
    "- 浮点型float\n",
    "- 布尔型bool\n",
    "- 字符串str\n",
    "\n",
    "type()函数可以帮助我们识别对象的类型\n",
    "\n",
    "isinstance()也可以识别变量的类型"
   ]
  },
  {
   "cell_type": "code",
   "execution_count": 7,
   "metadata": {
    "collapsed": false
   },
   "outputs": [
    {
     "data": {
      "text/plain": [
       "float"
      ]
     },
     "execution_count": 7,
     "metadata": {},
     "output_type": "execute_result"
    }
   ],
   "source": [
    "type(5.0)"
   ]
  },
  {
   "cell_type": "code",
   "execution_count": 9,
   "metadata": {
    "collapsed": false
   },
   "outputs": [
    {
     "data": {
      "text/plain": [
       "str"
      ]
     },
     "execution_count": 9,
     "metadata": {},
     "output_type": "execute_result"
    }
   ],
   "source": [
    "type(\"a\")"
   ]
  },
  {
   "cell_type": "code",
   "execution_count": 10,
   "metadata": {
    "collapsed": false
   },
   "outputs": [
    {
     "data": {
      "text/plain": [
       "int"
      ]
     },
     "execution_count": 10,
     "metadata": {},
     "output_type": "execute_result"
    }
   ],
   "source": [
    "type(3)"
   ]
  },
  {
   "cell_type": "code",
   "execution_count": 13,
   "metadata": {
    "collapsed": false
   },
   "outputs": [
    {
     "data": {
      "text/plain": [
       "True"
      ]
     },
     "execution_count": 13,
     "metadata": {},
     "output_type": "execute_result"
    }
   ],
   "source": [
    "isinstance(32,int)"
   ]
  },
  {
   "cell_type": "markdown",
   "metadata": {},
   "source": [
    "## 常用操作符\n",
    "\n",
    "- `**`幂运算操作符\n",
    "\n",
    "- 操作符之间的运算要注意优先级，要是对优先级不熟悉的话可以使用括号"
   ]
  },
  {
   "cell_type": "code",
   "execution_count": 14,
   "metadata": {
    "collapsed": false
   },
   "outputs": [
    {
     "data": {
      "text/plain": [
       "27"
      ]
     },
     "execution_count": 14,
     "metadata": {},
     "output_type": "execute_result"
    }
   ],
   "source": [
    "3**3"
   ]
  },
  {
   "cell_type": "code",
   "execution_count": 16,
   "metadata": {
    "collapsed": false
   },
   "outputs": [
    {
     "data": {
      "text/plain": [
       "9"
      ]
     },
     "execution_count": 16,
     "metadata": {},
     "output_type": "execute_result"
    }
   ],
   "source": [
    "(-3)**2"
   ]
  },
  {
   "cell_type": "markdown",
   "metadata": {},
   "source": [
    "## 控制结构\n",
    "\n",
    "- 分支和循环\n",
    "    - 三元操作符\n",
    "- 断言：assert这个关键字，我们称之为“断言”，当这个关键字后面的条件为假的时候，程序自动抛出AssertionError异常\n",
    "\n",
    "- 一般来说我们可以用ta再程序中置入检查点，当需要确保程序中的某个条件一定为真才能让程序正常工作的话，assert关键字就非常有用\n",
    "\n",
    "- while循环\n",
    "\n",
    "- for循环\n",
    "\n",
    "- range()"
   ]
  },
  {
   "cell_type": "markdown",
   "metadata": {},
   "source": [
    "```\n",
    "x,y = 4,5\n",
    "if x < y:\n",
    "    small = x\n",
    "else:\n",
    "    small = y\n",
    "    \n",
    "用三元操作符表示    \n",
    "small = x if x > y else y\n",
    "```"
   ]
  },
  {
   "cell_type": "code",
   "execution_count": 1,
   "metadata": {
    "collapsed": false
   },
   "outputs": [
    {
     "ename": "AssertionError",
     "evalue": "",
     "output_type": "error",
     "traceback": [
      "\u001b[1;31m---------------------------------------------------------------------------\u001b[0m",
      "\u001b[1;31mAssertionError\u001b[0m                            Traceback (most recent call last)",
      "\u001b[1;32m<ipython-input-1-1681f3ecb966>\u001b[0m in \u001b[0;36m<module>\u001b[1;34m()\u001b[0m\n\u001b[1;32m----> 1\u001b[1;33m \u001b[1;32massert\u001b[0m \u001b[1;36m3\u001b[0m \u001b[1;33m>\u001b[0m \u001b[1;36m4\u001b[0m\u001b[1;33m\u001b[0m\u001b[0m\n\u001b[0m",
      "\u001b[1;31mAssertionError\u001b[0m: "
     ]
    }
   ],
   "source": [
    "assert 3 > 4"
   ]
  },
  {
   "cell_type": "markdown",
   "metadata": {},
   "source": [
    "## 列表\n",
    "- 创建一个混合列表"
   ]
  },
  {
   "cell_type": "code",
   "execution_count": 2,
   "metadata": {
    "collapsed": false
   },
   "outputs": [
    {
     "data": {
      "text/plain": [
       "[1, 'abc', 3.14, [1, 2, 3]]"
      ]
     },
     "execution_count": 2,
     "metadata": {},
     "output_type": "execute_result"
    }
   ],
   "source": [
    "mix = [1,'abc',3.14,[1,2,3]]#列表中间可以嵌套列表\n",
    "mix"
   ]
  },
  {
   "cell_type": "markdown",
   "metadata": {},
   "source": [
    "- 向列表中添加元素"
   ]
  },
  {
   "cell_type": "code",
   "execution_count": 4,
   "metadata": {
    "collapsed": false
   },
   "outputs": [
    {
     "data": {
      "text/plain": [
       "[1, 'abc', 3.14, [1, 2, 3], 'hello', 'hello']"
      ]
     },
     "execution_count": 4,
     "metadata": {},
     "output_type": "execute_result"
    }
   ],
   "source": [
    "mix.append(\"hello\")\n",
    "mix"
   ]
  },
  {
   "cell_type": "code",
   "execution_count": 7,
   "metadata": {
    "collapsed": false
   },
   "outputs": [
    {
     "data": {
      "text/plain": [
       "[1, 'abc', 3.14, [1, 2, 3], 'hello', 'hello', 'world', 'ha']"
      ]
     },
     "execution_count": 7,
     "metadata": {},
     "output_type": "execute_result"
    }
   ],
   "source": [
    "mix.extend([\"world\",\"ha\"])#extend可以添加两个元素，添加的需要是列表\n",
    "mix"
   ]
  },
  {
   "cell_type": "code",
   "execution_count": 8,
   "metadata": {
    "collapsed": false
   },
   "outputs": [
    {
     "data": {
      "text/plain": [
       "[1, '2', 'abc', 3.14, [1, 2, 3], 'hello', 'hello', 'world', 'ha']"
      ]
     },
     "execution_count": 8,
     "metadata": {},
     "output_type": "execute_result"
    }
   ],
   "source": [
    "mix.insert(1,\"2\")#insert插入到位置\n",
    "mix"
   ]
  },
  {
   "cell_type": "markdown",
   "metadata": {},
   "source": [
    "删除列表由三方法：remove()、del、pop()，留下尝试思考。\n",
    "\n",
    "分片可以想起来"
   ]
  },
  {
   "cell_type": "markdown",
   "metadata": {},
   "source": [
    "#### 列表的一些常用操作符\n",
    "- 比较操作符\n",
    "- 逻辑操作符\n",
    "- 连接操作符\n",
    "- 重复操作符\n",
    "- 成员关系操作符"
   ]
  },
  {
   "cell_type": "code",
   "execution_count": 9,
   "metadata": {
    "collapsed": false
   },
   "outputs": [
    {
     "data": {
      "text/plain": [
       "False"
      ]
     },
     "execution_count": 9,
     "metadata": {},
     "output_type": "execute_result"
    }
   ],
   "source": [
    "list1 = [123]\n",
    "list2 = [234]\n",
    "list1 > list2"
   ]
  },
  {
   "cell_type": "markdown",
   "metadata": {},
   "source": [
    "#### 列表的方法\n"
   ]
  },
  {
   "cell_type": "code",
   "execution_count": 10,
   "metadata": {
    "collapsed": false
   },
   "outputs": [
    {
     "data": {
      "text/plain": [
       "0"
      ]
     },
     "execution_count": 10,
     "metadata": {},
     "output_type": "execute_result"
    }
   ],
   "source": [
    "mix.index(1)"
   ]
  },
  {
   "cell_type": "code",
   "execution_count": 11,
   "metadata": {
    "collapsed": false
   },
   "outputs": [
    {
     "data": {
      "text/plain": [
       "0"
      ]
     },
     "execution_count": 11,
     "metadata": {},
     "output_type": "execute_result"
    }
   ],
   "source": [
    "mix.index(1,0,5)"
   ]
  },
  {
   "cell_type": "code",
   "execution_count": 14,
   "metadata": {
    "collapsed": false
   },
   "outputs": [
    {
     "data": {
      "text/plain": [
       "['ha', 'world', 'hello', 'hello', [1, 2, 3], 3.14, 'abc', '2', 1]"
      ]
     },
     "execution_count": 14,
     "metadata": {},
     "output_type": "execute_result"
    }
   ],
   "source": [
    "mix.reverse()#把列表中的元素翻转\n",
    "mix"
   ]
  },
  {
   "cell_type": "code",
   "execution_count": 16,
   "metadata": {
    "collapsed": false
   },
   "outputs": [
    {
     "data": {
      "text/plain": [
       "[0, 1, 2, 3, 4, 5, 6]"
      ]
     },
     "execution_count": 16,
     "metadata": {},
     "output_type": "execute_result"
    }
   ],
   "source": [
    "list3 = [4,3,5,2,1,6,0]\n",
    "list3.sort()#从大到小排序\n",
    "list3"
   ]
  },
  {
   "cell_type": "markdown",
   "metadata": {},
   "source": [
    "利用分片拷贝是相当于重新定义一个变量，重新分配一段存储空间，等号相当于只是把对象换了一个标签"
   ]
  },
  {
   "cell_type": "markdown",
   "metadata": {},
   "source": [
    "## 元组\n",
    "- 元组和列表很相似\n",
    "- 不同之处：\n",
    "    - 列表比较灵活，可以改变元素的值，删除和插入，元组不可改变\n",
    "- 元组中必须要有逗号，创建一个元组时，要在后面加上逗号"
   ]
  },
  {
   "cell_type": "code",
   "execution_count": 17,
   "metadata": {
    "collapsed": false
   },
   "outputs": [
    {
     "data": {
      "text/plain": [
       "tuple"
      ]
     },
     "execution_count": 17,
     "metadata": {},
     "output_type": "execute_result"
    }
   ],
   "source": [
    "tuple1 = (1,)\n",
    "type(tuple1)"
   ]
  },
  {
   "cell_type": "markdown",
   "metadata": {
    "collapsed": true
   },
   "source": [
    "## 字符串（格式化）\n",
    "\n",
    "- 用format方法\n",
    "- 用%号"
   ]
  },
  {
   "cell_type": "markdown",
   "metadata": {},
   "source": [
    "<tbody><tr><td width=\"72\">&nbsp; &nbsp;<font style=\"font-size:12.0pt\">符</font><font style=\"font-size:12.0pt\">&nbsp; &nbsp;</font><font style=\"font-size:12.0pt\">号</font><br>\n",
    "</td><td width=\"455\">&nbsp;&nbsp;<font style=\"font-size:12.0pt\"> </font><font style=\"font-size:12.0pt\">说</font><font style=\"font-size:12.0pt\">&nbsp; &nbsp;&nbsp;&nbsp;</font><font style=\"font-size:12.0pt\">明</font><br>\n",
    "</td></tr><tr><td width=\"72\">&nbsp;&nbsp;<font style=\"font-size:12.0pt\">&nbsp; &nbsp;%c</font><br>\n",
    "</td><td width=\"455\">&nbsp;&nbsp;<font style=\"font-size:12.0pt\"> </font><font style=\"font-size:12.0pt\">格式化字符及其</font><font style=\"font-size:12.0pt\">ASCII</font><font style=\"font-size:12.0pt\">码</font><br>\n",
    "</td></tr><tr><td width=\"72\">&nbsp;&nbsp;<font style=\"font-size:12.0pt\">&nbsp; &nbsp;%s</font><br>\n",
    "</td><td width=\"455\">&nbsp;&nbsp;<font style=\"font-size:12.0pt\"> </font><font style=\"font-size:12.0pt\">格式化字符串</font><br>\n",
    "</td></tr><tr><td width=\"72\">&nbsp;&nbsp;<font style=\"font-size:12.0pt\">&nbsp; &nbsp;%d</font><br>\n",
    "</td><td width=\"455\">&nbsp;&nbsp;<font style=\"font-size:12.0pt\"> </font><font style=\"font-size:12.0pt\">格式化整数</font> </td></tr><tr><td width=\"72\">&nbsp;&nbsp;<font style=\"font-size:12.0pt\">&nbsp; &nbsp;%o</font><br>\n",
    "</td><td width=\"455\">&nbsp;&nbsp;<font style=\"font-size:12.0pt\"> </font><font style=\"font-size:12.0pt\">格式化无符号八进制数</font><br>\n",
    "</td></tr><tr><td width=\"72\">&nbsp;&nbsp;<font style=\"font-size:12.0pt\">&nbsp; &nbsp;%x</font><br>\n",
    "</td><td width=\"455\">&nbsp;&nbsp;<font style=\"font-size:12.0pt\"> </font><font style=\"font-size:12.0pt\">格式化无符号十六进制数</font><br>\n",
    "</td></tr><tr><td width=\"72\">&nbsp;&nbsp;<font style=\"font-size:12.0pt\">&nbsp; &nbsp;%X</font><br>\n",
    "</td><td width=\"455\">&nbsp;&nbsp;<font style=\"font-size:12.0pt\"> </font><font style=\"font-size:12.0pt\">格式化无符号十六进制数（大写）</font><br>\n",
    "</td></tr><tr><td width=\"72\">&nbsp;&nbsp;<font style=\"font-size:12.0pt\">&nbsp; &nbsp;%f</font><br>\n",
    "</td><td width=\"455\">&nbsp;&nbsp;<font style=\"font-size:12.0pt\"> </font><font style=\"font-size:12.0pt\">格式化定点数，可指定小数点后的精度</font><br>\n",
    "</td></tr><tr><td width=\"72\">&nbsp;&nbsp;<font style=\"font-size:12.0pt\">&nbsp; &nbsp;%e</font><br>\n",
    "</td><td width=\"455\">&nbsp;&nbsp;<font style=\"font-size:12.0pt\"> </font><font style=\"font-size:12.0pt\">用科学计数法格式化</font><font style=\"font-size:16px\">定点数</font></td></tr><tr><td width=\"72\">&nbsp;&nbsp;<font style=\"font-size:12.0pt\">&nbsp; &nbsp;%E</font><br>\n",
    "</td><td width=\"455\">&nbsp;&nbsp;<font style=\"font-size:12.0pt\"> </font><font style=\"font-size:12.0pt\">作用同</font><font style=\"font-size:12.0pt\">%e</font><font style=\"font-size:12.0pt\">，用科学计数法格式化</font><font style=\"font-size:16px\">定点数</font></td></tr><tr><td width=\"72\">&nbsp;&nbsp;<font style=\"font-size:12.0pt\">&nbsp; &nbsp;%g</font> </td><td width=\"455\">&nbsp;&nbsp;<font style=\"font-size:12.0pt\"> </font><font style=\"font-size:12.0pt\">根据值的大小决定使用</font><font style=\"font-size:12.0pt\">%f</font><font style=\"font-size:12.0pt\">活</font><font style=\"font-size:12.0pt\">%e</font><br>\n",
    "</td></tr><tr><td width=\"72\">&nbsp;&nbsp;<font style=\"font-size:12.0pt\">&nbsp; &nbsp;%G</font><br>\n",
    "</td><td width=\"455\">&nbsp;&nbsp;<font style=\"font-size:12.0pt\"> </font><font style=\"font-size:12.0pt\">作用同</font><font style=\"font-size:12.0pt\">%g</font><font style=\"font-size:12.0pt\">，根据值的大小决定使用</font><font style=\"font-size:12.0pt\">%f</font><font style=\"font-size:12.0pt\">或者</font><font style=\"font-size:12.0pt\">%E</font><br>\n",
    "</td></tr></tbody>"
   ]
  },
  {
   "cell_type": "code",
   "execution_count": 1,
   "metadata": {
    "collapsed": false
   },
   "outputs": [
    {
     "data": {
      "text/plain": [
       "'a b c'"
      ]
     },
     "execution_count": 1,
     "metadata": {},
     "output_type": "execute_result"
    }
   ],
   "source": [
    "\"%c %c %c\" % (97,98,99)"
   ]
  },
  {
   "cell_type": "code",
   "execution_count": 2,
   "metadata": {
    "collapsed": false
   },
   "outputs": [
    {
     "data": {
      "text/plain": [
       "'160.000000'"
      ]
     },
     "execution_count": 2,
     "metadata": {},
     "output_type": "execute_result"
    }
   ],
   "source": [
    "\"%f\" % 160"
   ]
  },
  {
   "cell_type": "code",
   "execution_count": 3,
   "metadata": {
    "collapsed": false
   },
   "outputs": [
    {
     "data": {
      "text/plain": [
       "'4.923400e+01'"
      ]
     },
     "execution_count": 3,
     "metadata": {},
     "output_type": "execute_result"
    }
   ],
   "source": [
    "\"%e\" % 49.234"
   ]
  },
  {
   "cell_type": "markdown",
   "metadata": {},
   "source": [
    "<tbody><tr><td width=\"76\">&nbsp; &nbsp;<font style=\"font-size:12.0pt\">符</font><font style=\"font-size:12.0pt\">&nbsp; &nbsp;</font><font style=\"font-size:12.0pt\">号</font><br>\n",
    "</td><td width=\"453\">&nbsp;&nbsp;<font style=\"font-size:12.0pt\">&nbsp;&nbsp;</font><font style=\"font-size:12.0pt\">说</font><font style=\"font-size:12.0pt\">&nbsp; &nbsp;&nbsp;&nbsp;</font><font style=\"font-size:12.0pt\">明</font><br>\n",
    "</td></tr><tr><td width=\"76\">&nbsp;&nbsp;<font style=\"font-size:12.0pt\">&nbsp; &nbsp;m.n</font><br>\n",
    "</td><td width=\"453\">&nbsp;&nbsp;<font style=\"font-size:12.0pt\">&nbsp;&nbsp;m</font><font style=\"font-size:12.0pt\">是显示的最小总宽度，</font><font style=\"font-size:12.0pt\">n</font><font style=\"font-size:12.0pt\">是小数点后的位数</font><br>\n",
    "</td></tr><tr><td width=\"76\">&nbsp;&nbsp;<font style=\"font-size:12.0pt\">&nbsp; &nbsp;&nbsp;&nbsp;-</font><br>\n",
    "</td><td width=\"453\">&nbsp;&nbsp;<font style=\"font-size:12.0pt\">&nbsp;&nbsp;</font><font style=\"font-size:12.0pt\">用于左对齐</font><br>\n",
    "</td></tr><tr><td width=\"76\"><font style=\"font-size:12.0pt\"><font style=\"font-size:14px\">&nbsp;&nbsp;</font><font style=\"font-size:12pt\">&nbsp; &nbsp; </font>+</font><br>\n",
    "</td><td width=\"453\">&nbsp;&nbsp;<font style=\"font-size:12.0pt\">&nbsp;&nbsp;</font><font style=\"font-size:12.0pt\">在正数前面显示加号（</font><font style=\"font-size:12.0pt\">+</font><font style=\"font-size:12.0pt\">）</font><br>\n",
    "</td></tr><tr><td width=\"76\">&nbsp;&nbsp;<font style=\"font-size:12.0pt\">&nbsp; &nbsp;&nbsp;&nbsp;#</font><br>\n",
    "</td><td width=\"453\">&nbsp;&nbsp;<font style=\"font-size:12.0pt\">&nbsp;&nbsp;</font><font style=\"font-size:12.0pt\">在八进制数前面显示 '</font><font style=\"font-size:12.0pt\">0o'</font><font style=\"font-size:12.0pt\">，在十六进制数前面显示 '</font><font style=\"font-size:12.0pt\">0x' </font><font style=\"font-size:12.0pt\">或 '</font><font style=\"font-size:12.0pt\">0X'</font><br>\n",
    "</td></tr><tr><td width=\"76\">&nbsp;&nbsp;<font style=\"font-size:12.0pt\">&nbsp; &nbsp;&nbsp;&nbsp;0</font><br>\n",
    "</td><td width=\"453\">&nbsp;&nbsp;<font style=\"font-size:12.0pt\">&nbsp;&nbsp;</font><font style=\"font-size:12.0pt\">显示的数字前面填充 '</font><font style=\"font-size:12.0pt\">0' </font><font style=\"font-size:12.0pt\">取代空格</font><br>\n",
    "</td></tr></tbody>"
   ]
  },
  {
   "cell_type": "code",
   "execution_count": 4,
   "metadata": {
    "collapsed": false
   },
   "outputs": [
    {
     "data": {
      "text/plain": [
       "' 23.4'"
      ]
     },
     "execution_count": 4,
     "metadata": {},
     "output_type": "execute_result"
    }
   ],
   "source": [
    "\"%5.1f\" % 23.423432"
   ]
  },
  {
   "cell_type": "code",
   "execution_count": 5,
   "metadata": {
    "collapsed": false
   },
   "outputs": [
    {
     "data": {
      "text/plain": [
       "'23.4 '"
      ]
     },
     "execution_count": 5,
     "metadata": {},
     "output_type": "execute_result"
    }
   ],
   "source": [
    "\"%-5.1f\" % 23.423432"
   ]
  },
  {
   "cell_type": "code",
   "execution_count": 9,
   "metadata": {
    "collapsed": false
   },
   "outputs": [
    {
     "data": {
      "text/plain": [
       "'0o27'"
      ]
     },
     "execution_count": 9,
     "metadata": {},
     "output_type": "execute_result"
    }
   ],
   "source": [
    "\"%#o\" % 23"
   ]
  },
  {
   "cell_type": "markdown",
   "metadata": {},
   "source": [
    "<tbody><tr><td width=\"76\">&nbsp;&nbsp;<font style=\"font-size:12.0pt\"> </font><font style=\"font-size:12.0pt\">符</font><font style=\"font-size:12.0pt\">&nbsp; &nbsp;</font><font style=\"font-size:12.0pt\">号</font><br>\n",
    "</td><td width=\"453\">&nbsp;&nbsp;<font style=\"font-size:12.0pt\">&nbsp;&nbsp;</font><font style=\"font-size:12.0pt\">说</font><font style=\"font-size:12.0pt\">&nbsp; &nbsp;&nbsp;&nbsp;</font><font style=\"font-size:12.0pt\">明</font><br>\n",
    "</td></tr><tr><td width=\"76\">&nbsp;&nbsp;<font style=\"font-size:12.0pt\">&nbsp; &nbsp;&nbsp;&nbsp;\\'</font><br>\n",
    "</td><td width=\"453\">&nbsp;&nbsp;<font style=\"font-size:12.0pt\">&nbsp;&nbsp;</font><font style=\"font-size:12.0pt\">单引号</font><br>\n",
    "</td></tr><tr><td width=\"76\">&nbsp;&nbsp;<font style=\"font-size:12.0pt\">&nbsp; &nbsp;&nbsp;&nbsp;\\\"</font><br>\n",
    "</td><td width=\"453\">&nbsp;&nbsp;<font style=\"font-size:12.0pt\">&nbsp;&nbsp;</font><font style=\"font-size:12.0pt\">双引号</font><br>\n",
    "</td></tr><tr><td width=\"76\">&nbsp;&nbsp;<font style=\"font-size:12.0pt\">&nbsp; &nbsp;&nbsp;&nbsp;\\a</font><br>\n",
    "</td><td width=\"453\">&nbsp;&nbsp;<font style=\"font-size:12.0pt\">&nbsp;&nbsp;</font><font style=\"font-size:12.0pt\">发出系统响铃声</font> </td></tr><tr><td width=\"76\">&nbsp;&nbsp;<font style=\"font-size:12.0pt\">&nbsp; &nbsp;&nbsp;&nbsp;\\b</font><br>\n",
    "</td><td width=\"453\">&nbsp;&nbsp;<font style=\"font-size:12.0pt\">&nbsp;&nbsp;</font><font style=\"font-size:12.0pt\">退格符</font><br>\n",
    "</td></tr><tr><td width=\"76\">&nbsp;&nbsp;<font style=\"font-size:12.0pt\">&nbsp; &nbsp;&nbsp;&nbsp;\\n</font><br>\n",
    "</td><td width=\"453\">&nbsp;&nbsp;<font style=\"font-size:12.0pt\">&nbsp;&nbsp;</font><font style=\"font-size:12.0pt\">换行符</font><br>\n",
    "</td></tr><tr><td width=\"76\">&nbsp;&nbsp;<font style=\"font-size:12.0pt\">&nbsp; &nbsp;&nbsp;&nbsp;\\t</font><br>\n",
    "</td><td width=\"453\">&nbsp;&nbsp;<font style=\"font-size:12.0pt\">&nbsp;&nbsp;</font><font style=\"font-size:12.0pt\">横向制表符（</font><font style=\"font-size:12.0pt\">TAB</font><font style=\"font-size:12.0pt\">）</font><br>\n",
    "</td></tr><tr><td width=\"76\">&nbsp;&nbsp;<font style=\"font-size:12.0pt\">&nbsp; &nbsp;&nbsp;&nbsp;\\v</font><br>\n",
    "</td><td width=\"453\">&nbsp;&nbsp;<font style=\"font-size:12.0pt\">&nbsp;&nbsp;</font><font style=\"font-size:12.0pt\">纵向制表符</font><br>\n",
    "</td></tr><tr><td width=\"76\">&nbsp;&nbsp;<font style=\"font-size:12.0pt\">&nbsp; &nbsp;&nbsp;&nbsp;\\r</font><br>\n",
    "</td><td width=\"453\">&nbsp;&nbsp;<font style=\"font-size:12.0pt\">&nbsp;&nbsp;</font><font style=\"font-size:12.0pt\">回车符</font><br>\n",
    "</td></tr><tr><td width=\"76\">&nbsp;&nbsp;<font style=\"font-size:12.0pt\">&nbsp; &nbsp;&nbsp;&nbsp;\\f</font><br>\n",
    "</td><td width=\"453\">&nbsp;&nbsp;<font style=\"font-size:12.0pt\">&nbsp;&nbsp;</font><font style=\"font-size:12.0pt\">换页符</font><br>\n",
    "</td></tr><tr><td width=\"76\">&nbsp;&nbsp;<font style=\"font-size:12.0pt\">&nbsp; &nbsp;&nbsp;&nbsp;\\o</font><br>\n",
    "</td><td width=\"453\">&nbsp;&nbsp;<font style=\"font-size:12.0pt\">&nbsp;&nbsp;</font><font style=\"font-size:12.0pt\">八进制数代表的字符</font><br>\n",
    "</td></tr><tr><td width=\"76\">&nbsp;&nbsp;<font style=\"font-size:12.0pt\">&nbsp; &nbsp;&nbsp;&nbsp;\\x</font><br>\n",
    "</td><td width=\"453\">&nbsp;&nbsp;<font style=\"font-size:12.0pt\">&nbsp;&nbsp;</font><font style=\"font-size:12.0pt\">十六进制数代表的字符</font><br>\n",
    "</td></tr><tr><td width=\"76\">&nbsp;&nbsp;<font style=\"font-size:12.0pt\">&nbsp; &nbsp;&nbsp;&nbsp;\\0</font><br>\n",
    "</td><td width=\"453\">&nbsp;&nbsp;<font style=\"font-size:12.0pt\">&nbsp;&nbsp;</font><font style=\"font-size:12.0pt\">表示一个空字符</font><br>\n",
    "</td></tr><tr><td width=\"76\">&nbsp;&nbsp;<font style=\"font-size:12.0pt\">&nbsp; &nbsp;&nbsp;&nbsp;\\\\</font><br>\n",
    "</td><td width=\"453\">&nbsp;&nbsp;<font style=\"font-size:12.0pt\">&nbsp;&nbsp;</font><font style=\"font-size:12.0pt\">反斜杠</font><br>\n",
    "</td></tr></tbody>"
   ]
  },
  {
   "cell_type": "markdown",
   "metadata": {},
   "source": [
    "## 序列\n",
    "- sum(）函数\n",
    "- sorted()函数\n",
    "- reversed()函数\n",
    "- enumerate()函数"
   ]
  },
  {
   "cell_type": "code",
   "execution_count": 11,
   "metadata": {
    "collapsed": false
   },
   "outputs": [
    {
     "data": {
      "text/plain": [
       "77"
      ]
     },
     "execution_count": 11,
     "metadata": {},
     "output_type": "execute_result"
    }
   ],
   "source": [
    "number = [23,3,4,34,6,2,4,1]\n",
    "sum(number)"
   ]
  },
  {
   "cell_type": "code",
   "execution_count": 12,
   "metadata": {
    "collapsed": false
   },
   "outputs": [
    {
     "data": {
      "text/plain": [
       "[1, 2, 3, 4, 4, 6, 23, 34]"
      ]
     },
     "execution_count": 12,
     "metadata": {},
     "output_type": "execute_result"
    }
   ],
   "source": [
    "sorted(number)"
   ]
  },
  {
   "cell_type": "code",
   "execution_count": 14,
   "metadata": {
    "collapsed": false
   },
   "outputs": [
    {
     "data": {
      "text/plain": [
       "[1, 4, 2, 6, 34, 4, 3, 23]"
      ]
     },
     "execution_count": 14,
     "metadata": {},
     "output_type": "execute_result"
    }
   ],
   "source": [
    "list(reversed(number))"
   ]
  },
  {
   "cell_type": "code",
   "execution_count": 16,
   "metadata": {
    "collapsed": false
   },
   "outputs": [
    {
     "data": {
      "text/plain": [
       "[(0, 23), (1, 3), (2, 4), (3, 34), (4, 6), (5, 2), (6, 4), (7, 1)]"
      ]
     },
     "execution_count": 16,
     "metadata": {},
     "output_type": "execute_result"
    }
   ],
   "source": [
    "list(enumerate(number))"
   ]
  },
  {
   "cell_type": "markdown",
   "metadata": {},
   "source": [
    "## 函数\n",
    "\n",
    "- 使用def定义函数\n",
    "- 注释文档可以用`__dco__`方法打印出来"
   ]
  },
  {
   "cell_type": "code",
   "execution_count": 17,
   "metadata": {
    "collapsed": false
   },
   "outputs": [
    {
     "data": {
      "text/plain": [
       "\"print(value, ..., sep=' ', end='\\\\n', file=sys.stdout, flush=False)\\n\\nPrints the values to a stream, or to sys.stdout by default.\\nOptional keyword arguments:\\nfile:  a file-like object (stream); defaults to the current sys.stdout.\\nsep:   string inserted between values, default a space.\\nend:   string appended after the last value, default a newline.\\nflush: whether to forcibly flush the stream.\""
      ]
     },
     "execution_count": 17,
     "metadata": {},
     "output_type": "execute_result"
    }
   ],
   "source": [
    "print.__doc__"
   ]
  },
  {
   "cell_type": "code",
   "execution_count": 18,
   "metadata": {
    "collapsed": false
   },
   "outputs": [
    {
     "name": "stdout",
     "output_type": "stream",
     "text": [
      "Help on built-in function print in module builtins:\n",
      "\n",
      "print(...)\n",
      "    print(value, ..., sep=' ', end='\\n', file=sys.stdout, flush=False)\n",
      "    \n",
      "    Prints the values to a stream, or to sys.stdout by default.\n",
      "    Optional keyword arguments:\n",
      "    file:  a file-like object (stream); defaults to the current sys.stdout.\n",
      "    sep:   string inserted between values, default a space.\n",
      "    end:   string appended after the last value, default a newline.\n",
      "    flush: whether to forcibly flush the stream.\n",
      "\n"
     ]
    }
   ],
   "source": [
    "help(print)"
   ]
  },
  {
   "cell_type": "markdown",
   "metadata": {},
   "source": [
    "- 关键字参数（用于函数调用时）\n",
    "\n",
    "`\n",
    "定义函数：\n",
    "def func(name,words):\n",
    "调用函数:\n",
    "func(name = \"jack\",words = \"is a boy\")\n",
    "`"
   ]
  },
  {
   "cell_type": "markdown",
   "metadata": {},
   "source": [
    "- 默认参数（用于函数定义时）\n",
    "\n",
    "`\n",
    "def func(name,words = \"is a boy\")\n",
    "`"
   ]
  },
  {
   "cell_type": "markdown",
   "metadata": {},
   "source": [
    "- 收集参数\n"
   ]
  },
  {
   "cell_type": "code",
   "execution_count": 20,
   "metadata": {
    "collapsed": false
   },
   "outputs": [
    {
     "name": "stdout",
     "output_type": "stream",
     "text": [
      "参数长度： 5\n",
      "第二个参数是： hello\n"
     ]
    }
   ],
   "source": [
    "def test(*params):\n",
    "    print(\"参数长度：\",len(params))\n",
    "    print(\"第二个参数是：\",params[1])\n",
    "test(1,\"hello\",2,4,5)    "
   ]
  },
  {
   "cell_type": "markdown",
   "metadata": {},
   "source": [
    "- 变量的作用域\n",
    "    - Local Variable\n",
    "    - Global Variable"
   ]
  },
  {
   "cell_type": "code",
   "execution_count": 6,
   "metadata": {
    "collapsed": false
   },
   "outputs": [
    {
     "name": "stdout",
     "output_type": "stream",
     "text": [
      "请输入原价:100\n",
      "请输入折扣率:0.8\n",
      "修改后的价格: 50\n",
      "修改后的价格2: 50\n",
      "打折之后的价格是: 80.0\n"
     ]
    }
   ],
   "source": [
    "def discounts(price,rate):\n",
    "    final_price = price * rate#final_price是局部变量\n",
    "    global old_price\n",
    "    old_price = 50\n",
    "    print(\"修改后的价格:\",old_price)\n",
    "    return final_price\n",
    "\n",
    "old_price = float(input(\"请输入原价:\"))\n",
    "rate = float(input(\"请输入折扣率:\"))\n",
    "new_price = discounts(old_price, rate)\n",
    "print(\"修改后的价格2:\",old_price)\n",
    "print(\"打折之后的价格是:\",new_price)"
   ]
  },
  {
   "cell_type": "markdown",
   "metadata": {
    "collapsed": true
   },
   "source": [
    "#### 内嵌函数和闭包"
   ]
  },
  {
   "cell_type": "code",
   "execution_count": 7,
   "metadata": {
    "collapsed": false
   },
   "outputs": [
    {
     "name": "stdout",
     "output_type": "stream",
     "text": [
      "fun1正在被调用。。。\n",
      "fun2正在被调用。。。\n"
     ]
    }
   ],
   "source": [
    "def fun1():\n",
    "    print(\"fun1正在被调用。。。\")\n",
    "    def fun2():\n",
    "        print(\"fun2正在被调用。。。\")#在这里fun2就是内嵌函数\n",
    "    fun2()\n",
    "\n",
    "fun1()"
   ]
  },
  {
   "cell_type": "markdown",
   "metadata": {},
   "source": [
    "#### lambda表达式\n",
    "\n",
    "- lambda可以省下定义函数的过程，是代码更加精简\n",
    "- 两个强大的内置函数\n",
    "    - filter()函数：过滤\n",
    "    - map()函数："
   ]
  },
  {
   "cell_type": "code",
   "execution_count": 8,
   "metadata": {
    "collapsed": false
   },
   "outputs": [
    {
     "data": {
      "text/plain": [
       "[1, 3, 5, 7, 9]"
      ]
     },
     "execution_count": 8,
     "metadata": {},
     "output_type": "execute_result"
    }
   ],
   "source": [
    "list(filter(lambda x : x % 2,range(10)))"
   ]
  },
  {
   "cell_type": "code",
   "execution_count": 9,
   "metadata": {
    "collapsed": false
   },
   "outputs": [
    {
     "data": {
      "text/plain": [
       "[0, 2, 4, 6, 8, 10, 12, 14, 16, 18]"
      ]
     },
     "execution_count": 9,
     "metadata": {},
     "output_type": "execute_result"
    }
   ],
   "source": [
    "list(map(lambda x : x * 2,range(10)))"
   ]
  },
  {
   "cell_type": "markdown",
   "metadata": {},
   "source": [
    "## 递归\n"
   ]
  },
  {
   "cell_type": "code",
   "execution_count": 10,
   "metadata": {
    "collapsed": false
   },
   "outputs": [
    {
     "name": "stdout",
     "output_type": "stream",
     "text": [
      "请输入一个数10\n",
      "10 的阶乘是 3628800\n"
     ]
    }
   ],
   "source": [
    "def fac(n):\n",
    "    if n == 1:\n",
    "        return 1\n",
    "    else:\n",
    "        return n * fac(n-1)\n",
    "\n",
    "number = int(input(\"请输入一个数:\"))\n",
    "result = fac(number)\n",
    "print(\"%d 的阶乘是 %d\" % (number, result))"
   ]
  },
  {
   "cell_type": "code",
   "execution_count": 16,
   "metadata": {
    "collapsed": false
   },
   "outputs": [
    {
     "name": "stdout",
     "output_type": "stream",
     "text": [
      "兔子总数：9227465 对\n"
     ]
    }
   ],
   "source": [
    "#斐波那契数列\n",
    "def fab(n):\n",
    "    n1 = 1\n",
    "    n2 = 1\n",
    "    n3 = 1\n",
    "    \n",
    "    if n < 1:\n",
    "        print(\"输入有误：\")\n",
    "        return 1\n",
    "    \n",
    "    while (n - 2) > 0:\n",
    "        n3 = n2 + n1\n",
    "        n1 = n2\n",
    "        n2 = n3\n",
    "        n -= 1\n",
    "        \n",
    "    return n3\n",
    "\n",
    "result = fab(35)\n",
    "if result != 1:\n",
    "    print(\"兔子总数：%d 对\" % result)"
   ]
  },
  {
   "cell_type": "code",
   "execution_count": 17,
   "metadata": {
    "collapsed": false
   },
   "outputs": [
    {
     "name": "stdout",
     "output_type": "stream",
     "text": [
      "兔子总数：6765 对\n"
     ]
    }
   ],
   "source": [
    "def fab(n):\n",
    "    if n < 1:\n",
    "        print(\"输入有误\")\n",
    "        return 1\n",
    "    if n == 1 or n == 2:\n",
    "        return 1\n",
    "    else:\n",
    "        return fab(n - 1) + fab(n - 2)\n",
    "    \n",
    "result = fab(20)\n",
    "if result != 1:\n",
    "    print(\"兔子总数：%d 对\" % result)"
   ]
  },
  {
   "cell_type": "code",
   "execution_count": null,
   "metadata": {
    "collapsed": false
   },
   "outputs": [],
   "source": [
    "#汉诺塔\n",
    "def hanoi(n, x, y, z):\n",
    "    if n == 1:\n",
    "        print(x, \"->\", z)\n",
    "    else:\n",
    "        hanoi(n - 1, x, z, y)#将前n-1个盘子从x移动到y上\n",
    "        print(x, \"->\", z)#移动最底下的那个盘子\n",
    "        hanoi(n - 1, y, x, z)#将y上的n-1个盘子移动到z上\n",
    "        \n",
    "n = int(input(\"请输入汉诺塔层数:\"))\n",
    "hanoi(n, \"x\", \"y\", \"z\")"
   ]
  },
  {
   "cell_type": "markdown",
   "metadata": {},
   "source": [
    "## 字典\n",
    "- 映射类型，可以对其进行修改，删除操作"
   ]
  },
  {
   "cell_type": "code",
   "execution_count": 11,
   "metadata": {
    "collapsed": true
   },
   "outputs": [],
   "source": [
    "dict1 = {\"lining\":\"everything have possible\", \"naike\":\"Just do it\", \"adds\":\"Impossible is nothing\"}"
   ]
  },
  {
   "cell_type": "code",
   "execution_count": 3,
   "metadata": {
    "collapsed": false
   },
   "outputs": [
    {
     "name": "stdout",
     "output_type": "stream",
     "text": [
      "Impossible is nothing\n"
     ]
    }
   ],
   "source": [
    "print(dict1[\"adds\"])"
   ]
  },
  {
   "cell_type": "code",
   "execution_count": 7,
   "metadata": {
    "collapsed": false
   },
   "outputs": [
    {
     "data": {
      "text/plain": [
       "{1: 'number', 2: 'number', 3: 'number'}"
      ]
     },
     "execution_count": 7,
     "metadata": {},
     "output_type": "execute_result"
    }
   ],
   "source": [
    "dict2 = {}\n",
    "dict2.fromkeys((1,2,3),\"number\")"
   ]
  },
  {
   "cell_type": "markdown",
   "metadata": {},
   "source": [
    "- keys()\n",
    "- values()\n",
    "- items()"
   ]
  },
  {
   "cell_type": "code",
   "execution_count": 12,
   "metadata": {
    "collapsed": false
   },
   "outputs": [
    {
     "name": "stdout",
     "output_type": "stream",
     "text": [
      "adds\n",
      "naike\n",
      "lining\n"
     ]
    }
   ],
   "source": [
    "for eachkey in dict1.keys():\n",
    "    print(eachkey)"
   ]
  },
  {
   "cell_type": "code",
   "execution_count": 14,
   "metadata": {
    "collapsed": false
   },
   "outputs": [
    {
     "name": "stdout",
     "output_type": "stream",
     "text": [
      "Impossible is nothing\n",
      "Just do it\n",
      "everything have possible\n"
     ]
    }
   ],
   "source": [
    "for eachvalue in dict1.values():\n",
    "    print(eachvalue)"
   ]
  },
  {
   "cell_type": "code",
   "execution_count": 16,
   "metadata": {
    "collapsed": false
   },
   "outputs": [
    {
     "name": "stdout",
     "output_type": "stream",
     "text": [
      "('adds', 'Impossible is nothing')\n",
      "('naike', 'Just do it')\n",
      "('lining', 'everything have possible')\n"
     ]
    }
   ],
   "source": [
    "for eachitems in dict1.items():\n",
    "    print(eachitems)"
   ]
  },
  {
   "cell_type": "markdown",
   "metadata": {},
   "source": [
    "- 浅拷贝\n"
   ]
  },
  {
   "cell_type": "code",
   "execution_count": 17,
   "metadata": {
    "collapsed": true
   },
   "outputs": [],
   "source": [
    "a = {1:\"one\", 2:\"two\", 3:\"three\"}\n",
    "b = a.copy()#浅拷贝\n",
    "c = a#相当于又给那段存储空间加了一个标签"
   ]
  },
  {
   "cell_type": "code",
   "execution_count": 18,
   "metadata": {
    "collapsed": false
   },
   "outputs": [
    {
     "data": {
      "text/plain": [
       "71760520"
      ]
     },
     "execution_count": 18,
     "metadata": {},
     "output_type": "execute_result"
    }
   ],
   "source": [
    "id(a)"
   ]
  },
  {
   "cell_type": "code",
   "execution_count": 19,
   "metadata": {
    "collapsed": false
   },
   "outputs": [
    {
     "data": {
      "text/plain": [
       "71758088"
      ]
     },
     "execution_count": 19,
     "metadata": {},
     "output_type": "execute_result"
    }
   ],
   "source": [
    "id(b)"
   ]
  },
  {
   "cell_type": "code",
   "execution_count": 20,
   "metadata": {
    "collapsed": false
   },
   "outputs": [
    {
     "data": {
      "text/plain": [
       "71760520"
      ]
     },
     "execution_count": 20,
     "metadata": {},
     "output_type": "execute_result"
    }
   ],
   "source": [
    "id(c)"
   ]
  },
  {
   "cell_type": "markdown",
   "metadata": {
    "collapsed": true
   },
   "source": [
    "## 集合\n",
    "\n",
    "- set()工厂函数\n",
    "- 在{}中如果没有体现映射关系就是集合，如num={1,2,3,4,5}\n"
   ]
  },
  {
   "cell_type": "code",
   "execution_count": 2,
   "metadata": {
    "collapsed": false
   },
   "outputs": [
    {
     "data": {
      "text/plain": [
       "{1, 2, 3, 4, 5}"
      ]
     },
     "execution_count": 2,
     "metadata": {},
     "output_type": "execute_result"
    }
   ],
   "source": [
    "set1 = set([1,2,3,4,5,5])#去除列表中重复的元素\n",
    "set1"
   ]
  },
  {
   "cell_type": "markdown",
   "metadata": {},
   "source": [
    "## 文件"
   ]
  },
  {
   "cell_type": "code",
   "execution_count": 3,
   "metadata": {
    "collapsed": true
   },
   "outputs": [],
   "source": [
    "f = open(\"myfile.txt\")"
   ]
  },
  {
   "cell_type": "code",
   "execution_count": 4,
   "metadata": {
    "collapsed": false
   },
   "outputs": [
    {
     "data": {
      "text/plain": [
       "<_io.TextIOWrapper name='myfile.txt' mode='r' encoding='UTF-8'>"
      ]
     },
     "execution_count": 4,
     "metadata": {},
     "output_type": "execute_result"
    }
   ],
   "source": [
    "f"
   ]
  },
  {
   "cell_type": "code",
   "execution_count": 5,
   "metadata": {
    "collapsed": false
   },
   "outputs": [
    {
     "data": {
      "text/plain": [
       "'测试一下\\n换行测试'"
      ]
     },
     "execution_count": 5,
     "metadata": {},
     "output_type": "execute_result"
    }
   ],
   "source": [
    "f.read()"
   ]
  },
  {
   "cell_type": "code",
   "execution_count": 6,
   "metadata": {
    "collapsed": false
   },
   "outputs": [
    {
     "data": {
      "text/plain": [
       "''"
      ]
     },
     "execution_count": 6,
     "metadata": {},
     "output_type": "execute_result"
    }
   ],
   "source": [
    "f.read()"
   ]
  },
  {
   "cell_type": "code",
   "execution_count": 11,
   "metadata": {
    "collapsed": false
   },
   "outputs": [],
   "source": [
    "def save_file(boy,girl,count):\n",
    "    file_name_boy = \"boy\" + str(count) + \".txt\"\n",
    "    file_name_girl = \"girl\" + str(count) + \".txt\"\n",
    "            \n",
    "    boy_file = open(file_name_boy,\"w\")\n",
    "    girl_file = open(file_name_girl,\"w\")\n",
    "            \n",
    "    boy_file.writelines(boy)\n",
    "    girl_file.writelines(girl)\n",
    "    \n",
    "    boy_file.close()\n",
    "    girl_file.close()\n",
    "\n",
    "    \n",
    "f = open(\"myfile.txt\")\n",
    "\n",
    "boy = []\n",
    "girl = []\n",
    "count = 1\n",
    "\n",
    "for  each_line in f:\n",
    "    if each_line[:6] != \"\\n\":\n",
    "        (role,line_spoken) = each_line.split(\".\",1)\n",
    "        if role == \"1\":\n",
    "            boy.append(line_spoken)\n",
    "        if role == \"2\":\n",
    "            girl.append(line_spoken)\n",
    "        else:\n",
    "            save_file(boy,girl,count)\n",
    "                    \n",
    "            boy = []\n",
    "            girl = []\n",
    "            count += 1\n",
    "\n",
    "save_file(boy,girl,count)\n",
    "\n",
    "f.close()"
   ]
  },
  {
   "cell_type": "markdown",
   "metadata": {},
   "source": [
    "- pickle模块，可以将列表、元组、字典等变成二进制流存储\n",
    "- 可以把一大段数据打包起来，就像下面的my_list列表，打包成my_list.pkl文件"
   ]
  },
  {
   "cell_type": "code",
   "execution_count": 13,
   "metadata": {
    "collapsed": false
   },
   "outputs": [],
   "source": [
    "import pickle\n",
    "my_list = [1,2,3,\"hello\",[\"another list\"]]\n",
    "pickle_file = open(\"my_list.pkl\",\"wb\")\n",
    "pickle.dump(my_list,pickle_file)\n",
    "pickle_file.close()"
   ]
  },
  {
   "cell_type": "code",
   "execution_count": 14,
   "metadata": {
    "collapsed": false
   },
   "outputs": [
    {
     "name": "stdout",
     "output_type": "stream",
     "text": [
      "[1, 2, 3, 'hello', ['another list']]\n"
     ]
    }
   ],
   "source": [
    "pickle_file = open(\"my_list.pkl\",\"rb\")\n",
    "my_list2 = pickle.load(pickle_file)\n",
    "print(my_list2)"
   ]
  },
  {
   "cell_type": "markdown",
   "metadata": {},
   "source": [
    "## 异常处理"
   ]
  },
  {
   "cell_type": "code",
   "execution_count": 16,
   "metadata": {
    "collapsed": false
   },
   "outputs": [
    {
     "name": "stdout",
     "output_type": "stream",
     "text": [
      "请输入文件名：myfile\n"
     ]
    },
    {
     "ename": "FileNotFoundError",
     "evalue": "[Errno 2] No such file or directory: 'myfile'",
     "output_type": "error",
     "traceback": [
      "\u001b[1;31m---------------------------------------------------------------------------\u001b[0m",
      "\u001b[1;31mFileNotFoundError\u001b[0m                         Traceback (most recent call last)",
      "\u001b[1;32m<ipython-input-16-3de4e848d981>\u001b[0m in \u001b[0;36m<module>\u001b[1;34m()\u001b[0m\n\u001b[0;32m      1\u001b[0m \u001b[0mfile_name\u001b[0m \u001b[1;33m=\u001b[0m \u001b[0minput\u001b[0m\u001b[1;33m(\u001b[0m\u001b[1;34m\"请输入文件名：\"\u001b[0m\u001b[1;33m)\u001b[0m\u001b[1;33m\u001b[0m\u001b[0m\n\u001b[1;32m----> 2\u001b[1;33m \u001b[0mf\u001b[0m \u001b[1;33m=\u001b[0m \u001b[0mopen\u001b[0m\u001b[1;33m(\u001b[0m\u001b[0mfile_name\u001b[0m\u001b[1;33m)\u001b[0m\u001b[1;33m\u001b[0m\u001b[0m\n\u001b[0m\u001b[0;32m      3\u001b[0m \u001b[0mprint\u001b[0m\u001b[1;33m(\u001b[0m\u001b[1;34m\"文件的内容是：\"\u001b[0m\u001b[1;33m)\u001b[0m\u001b[1;33m\u001b[0m\u001b[0m\n\u001b[0;32m      4\u001b[0m \u001b[1;32mfor\u001b[0m \u001b[0meach_line\u001b[0m \u001b[1;32min\u001b[0m \u001b[0mf\u001b[0m\u001b[1;33m:\u001b[0m\u001b[1;33m\u001b[0m\u001b[0m\n\u001b[0;32m      5\u001b[0m     \u001b[0mprint\u001b[0m\u001b[1;33m(\u001b[0m\u001b[0meach_line\u001b[0m\u001b[1;33m)\u001b[0m\u001b[1;33m\u001b[0m\u001b[0m\n",
      "\u001b[1;31mFileNotFoundError\u001b[0m: [Errno 2] No such file or directory: 'myfile'"
     ]
    }
   ],
   "source": [
    "file_name = input(\"请输入文件名：\")\n",
    "f = open(file_name)\n",
    "print(\"文件的内容是：\")\n",
    "for each_line in f:\n",
    "    print(each_line)"
   ]
  },
  {
   "cell_type": "markdown",
   "metadata": {},
   "source": [
    "#### 丰富的else语句\n",
    "\n",
    "- 当有异常时，不会执行else，没有异常时执行"
   ]
  },
  {
   "cell_type": "code",
   "execution_count": 18,
   "metadata": {
    "collapsed": false
   },
   "outputs": [
    {
     "name": "stdout",
     "output_type": "stream",
     "text": [
      "出错了：invalid literal for int() with base 10: 'abc'\n"
     ]
    }
   ],
   "source": [
    "try:\n",
    "    int(\"abc\")\n",
    "except ValueError as reason:\n",
    "    print(\"出错了：\" + str(reason))\n",
    "else:\n",
    "    print(\"没有任何异常\")"
   ]
  },
  {
   "cell_type": "markdown",
   "metadata": {},
   "source": [
    "####  finally语句\n",
    "\n",
    "- 无论什么时候都执行"
   ]
  },
  {
   "cell_type": "code",
   "execution_count": 19,
   "metadata": {
    "collapsed": false
   },
   "outputs": [
    {
     "name": "stdout",
     "output_type": "stream",
     "text": [
      "出错了：invalid literal for int() with base 10: 'abc'\n",
      "没有任何异常\n"
     ]
    }
   ],
   "source": [
    "try:\n",
    "    int(\"abc\")\n",
    "except ValueError as reason:\n",
    "    print(\"出错了：\" + str(reason))\n",
    "finally:\n",
    "    print(\"没有任何异常\")"
   ]
  },
  {
   "cell_type": "markdown",
   "metadata": {},
   "source": [
    "#### with语句\n",
    "\n",
    "- 可以自动关闭打开的文件"
   ]
  },
  {
   "cell_type": "code",
   "execution_count": 20,
   "metadata": {
    "collapsed": false
   },
   "outputs": [
    {
     "name": "stdout",
     "output_type": "stream",
     "text": [
      "1.测试一下\n",
      "\n",
      "2.换行测试\n"
     ]
    }
   ],
   "source": [
    "try:\n",
    "    with open(\"myfile.txt\") as f:\n",
    "        for each_line in f:\n",
    "            print(each_line)\n",
    "except OSError as reason:\n",
    "    print(\"出错了：\" + str(reason))"
   ]
  },
  {
   "cell_type": "markdown",
   "metadata": {
    "collapsed": true
   },
   "source": [
    "## 类和对象\n",
    "\n",
    "对象 = 属性 + 方法\n",
    "\n",
    "- 封装\n",
    "- 继承\n",
    "- 多态"
   ]
  },
  {
   "cell_type": "code",
   "execution_count": 1,
   "metadata": {
    "collapsed": true
   },
   "outputs": [],
   "source": [
    "class A:\n",
    "    def fun(self):\n",
    "        print(\"I am A...\")\n",
    "\n",
    "\n",
    "class B:\n",
    "    def fun(self):\n",
    "        print(\"I am B...\")\n",
    "        \n",
    "a = A()\n",
    "b = B()"
   ]
  },
  {
   "cell_type": "code",
   "execution_count": 2,
   "metadata": {
    "collapsed": false
   },
   "outputs": [
    {
     "name": "stdout",
     "output_type": "stream",
     "text": [
      "I am A...\n"
     ]
    }
   ],
   "source": [
    "a.fun()"
   ]
  },
  {
   "cell_type": "code",
   "execution_count": 3,
   "metadata": {
    "collapsed": false
   },
   "outputs": [
    {
     "name": "stdout",
     "output_type": "stream",
     "text": [
      "I am B...\n"
     ]
    }
   ],
   "source": [
    "b.fun()"
   ]
  },
  {
   "cell_type": "markdown",
   "metadata": {},
   "source": [
    "不同的对象可以调用相同的方法，得到不同的结果，这就是多态"
   ]
  },
  {
   "cell_type": "markdown",
   "metadata": {},
   "source": [
    "#### 面向对象编程\n",
    "\n",
    "- self：同一个类会有很多对象，当一对象的方法被调用时，会把对象本身作为参数传入。"
   ]
  },
  {
   "cell_type": "code",
   "execution_count": 5,
   "metadata": {
    "collapsed": false
   },
   "outputs": [
    {
     "name": "stdout",
     "output_type": "stream",
     "text": [
      "I am A..\n",
      "I am B..\n"
     ]
    }
   ],
   "source": [
    "class Ball:\n",
    "    def setName(self, name):\n",
    "        self.name = name\n",
    "    def kick(self):\n",
    "        print(\"I am %s..\" % self.name)\n",
    "\n",
    "a = Ball()\n",
    "b = Ball()\n",
    "\n",
    "a.setName(\"A\")\n",
    "b.setName(\"B\")\n",
    "\n",
    "a.kick()\n",
    "b.kick()"
   ]
  },
  {
   "cell_type": "markdown",
   "metadata": {},
   "source": [
    "比较一下上面一个和下面一个的区别："
   ]
  },
  {
   "cell_type": "code",
   "execution_count": 6,
   "metadata": {
    "collapsed": false
   },
   "outputs": [
    {
     "name": "stdout",
     "output_type": "stream",
     "text": [
      "I am A..\n",
      "I am B..\n"
     ]
    }
   ],
   "source": [
    "class Ball:\n",
    "    def __init__(self, name):\n",
    "        self.name = name\n",
    "    def kick(self):\n",
    "        print(\"I am %s..\" % self.name)\n",
    "\n",
    "a = Ball(\"A\")\n",
    "b = Ball(\"B\")\n",
    "\n",
    "a.kick()\n",
    "b.kick()"
   ]
  },
  {
   "cell_type": "markdown",
   "metadata": {},
   "source": [
    "python中定义私有变量，只需要在变量前或函数前加上两个下划线，就会变成私有的"
   ]
  },
  {
   "cell_type": "code",
   "execution_count": 17,
   "metadata": {
    "collapsed": false
   },
   "outputs": [],
   "source": [
    "import random as r\n",
    "\n",
    "class Fish:\n",
    "    def __init__(self):\n",
    "        self.x = r.randint(0,10)\n",
    "        self.y = r.randint(0,10)\n",
    "\n",
    "    def mov(self):\n",
    "        self.x -= 1\n",
    "        print(\"我的位置是:\", self.x, self.y)\n",
    "\n",
    "class Goldfish(Fish):\n",
    "    pass\n",
    "\n",
    "class Carp(Fish):\n",
    "    pass\n",
    "\n",
    "class Salmon(Fish):\n",
    "    pass\n",
    "\n",
    "class Shark(Fish):\n",
    "    def __init__(self):\n",
    "        super().__init__()#super函数的用法，调用为绑定的父类的方法\n",
    "        self.hungry = True\n",
    "\n",
    "    def eat(self):\n",
    "        if self.hungry:\n",
    "            print(\"我要吃...\")\n",
    "            self.hugry = False\n",
    "        else:\n",
    "            print(\"吃撑了...\")"
   ]
  },
  {
   "cell_type": "code",
   "execution_count": 13,
   "metadata": {
    "collapsed": false
   },
   "outputs": [
    {
     "name": "stdout",
     "output_type": "stream",
     "text": [
      "我的位置是: 5 5\n"
     ]
    }
   ],
   "source": [
    "fish = Fish()\n",
    "fish.mov()"
   ]
  },
  {
   "cell_type": "code",
   "execution_count": 14,
   "metadata": {
    "collapsed": false
   },
   "outputs": [
    {
     "name": "stdout",
     "output_type": "stream",
     "text": [
      "我的位置是: 4 5\n"
     ]
    }
   ],
   "source": [
    "fish.mov()"
   ]
  },
  {
   "cell_type": "code",
   "execution_count": 15,
   "metadata": {
    "collapsed": false
   },
   "outputs": [
    {
     "name": "stdout",
     "output_type": "stream",
     "text": [
      "我的位置是: 2 7\n"
     ]
    }
   ],
   "source": [
    "goldfish = Goldfish()\n",
    "goldfish.mov()"
   ]
  },
  {
   "cell_type": "code",
   "execution_count": 18,
   "metadata": {
    "collapsed": false
   },
   "outputs": [
    {
     "name": "stdout",
     "output_type": "stream",
     "text": [
      "我的位置是: 6 1\n"
     ]
    }
   ],
   "source": [
    "shark = Shark()\n",
    "shark.mov()"
   ]
  },
  {
   "cell_type": "markdown",
   "metadata": {},
   "source": [
    "#### 组合\n",
    "\n",
    "- 当几个完全不搭的类之间想要继承时候怎么办?\n",
    "- 把类的实例化放到一个新类里面，不用担心混类继承"
   ]
  },
  {
   "cell_type": "code",
   "execution_count": 23,
   "metadata": {
    "collapsed": true
   },
   "outputs": [],
   "source": [
    "class Turtle:\n",
    "    def __init__(self, x):\n",
    "        self.num = x\n",
    "        \n",
    "class Fish:\n",
    "    def __init__(self, x):\n",
    "        self.num = x\n",
    "class Pool:\n",
    "    def __init__(self, x, y):\n",
    "        self.turtle = Turtle(x)\n",
    "        self.fish = Fish(y)\n",
    "    \n",
    "    def print_num(self):\n",
    "        print(\"水池里有乌龟 %d 只，小鱼 %d 条！\" % (self.turtle.num, self.fish.num))"
   ]
  },
  {
   "cell_type": "code",
   "execution_count": 24,
   "metadata": {
    "collapsed": false
   },
   "outputs": [
    {
     "name": "stdout",
     "output_type": "stream",
     "text": [
      "水池里有乌龟 1 只，小鱼 10 条！\n"
     ]
    }
   ],
   "source": [
    "pool = Pool(1,10)\n",
    "pool.print_num()"
   ]
  },
  {
   "cell_type": "markdown",
   "metadata": {},
   "source": [
    "如果属性名和方法名重名，属性名会覆盖方法"
   ]
  },
  {
   "cell_type": "markdown",
   "metadata": {},
   "source": [
    "## 魔术方法\n",
    "\n",
    "- 构造和析构\n",
    "    - `__init__(selt)`\n",
    "    - `__del__(self)`"
   ]
  },
  {
   "cell_type": "code",
   "execution_count": 2,
   "metadata": {
    "collapsed": false
   },
   "outputs": [
    {
     "name": "stdout",
     "output_type": "stream",
     "text": [
      "我是__init__方法，我被调用了。。。。\n"
     ]
    }
   ],
   "source": [
    "class C:\n",
    "    def __init__(self):\n",
    "        print(\"我是__init__方法，我被调用了。。。。\")\n",
    "    def __del__(self):\n",
    "        print(\"我是__del__方法，我被调用了。。。\")\n",
    "        \n",
    "c1 = C()"
   ]
  },
  {
   "cell_type": "code",
   "execution_count": 3,
   "metadata": {
    "collapsed": true
   },
   "outputs": [],
   "source": [
    "c2 = c1\n",
    "c3 = c2"
   ]
  },
  {
   "cell_type": "code",
   "execution_count": 4,
   "metadata": {
    "collapsed": true
   },
   "outputs": [],
   "source": [
    "del c2"
   ]
  },
  {
   "cell_type": "code",
   "execution_count": 5,
   "metadata": {
    "collapsed": true
   },
   "outputs": [],
   "source": [
    "del c3"
   ]
  },
  {
   "cell_type": "code",
   "execution_count": 6,
   "metadata": {
    "collapsed": false
   },
   "outputs": [
    {
     "name": "stdout",
     "output_type": "stream",
     "text": [
      "我是__del__方法，我被调用了。。。\n"
     ]
    }
   ],
   "source": [
    "del c1"
   ]
  },
  {
   "cell_type": "markdown",
   "metadata": {},
   "source": [
    "并不是发生del操作时，`__del__`就会被调用，只有当所有的引用被删除之后，python会启动垃圾回收机制，然后垃圾回收机制去销毁对象时会调用`__del__`方法"
   ]
  },
  {
   "cell_type": "markdown",
   "metadata": {},
   "source": [
    "- 算术方法"
   ]
  },
  {
   "cell_type": "code",
   "execution_count": 7,
   "metadata": {
    "collapsed": false
   },
   "outputs": [
    {
     "data": {
      "text/html": [
       "<tbody><tr><td width=\"30%\"><div align=\"center\"><strong> 魔法方法</strong></div></td><td><div align=\"center\"><strong>含义 </strong></div></td></tr><tr><td><br>\n",
       "</td><td><div align=\"left\"><div align=\"center\"><font color=\"#ff0000\"><strong> 基本的魔法方法</strong></font></div></div></td></tr><tr><td>__new__(cls[, ...]) </td><td> 1. __new__ 是在一个对象实例化的时候所调用的第一个方法<br>\n",
       "2. 它的第一个参数是这个类，其他的参数是用来直接传递给 __init__ 方法<br>\n",
       "3. __new__ 决定是否要使用该 __init__ 方法，因为 __new__ 可以调用其他类的构造方法或者直接返回别的实例对象来作为本类的实例，如果 __new__ 没有返回实例对象，则 __init__ 不会被调用<br>\n",
       "4. __new__ 主要是用于继承一个不可变的类型比如一个 tuple 或者 string</td></tr><tr><td> __init__(self[, ...]) </td><td>构造器，当一个实例被创建的时候调用的初始化方法</td></tr><tr><td> __del__(self)</td><td> 析构器，当一个实例被销毁的时候调用的方法</td></tr><tr><td> __call__(self[, args...]) </td><td>允许一个类的实例像函数一样被调用：x(a, b) 调用 x.__call__(a, b)</td></tr><tr><td> __len__(self)</td><td> 定义当被 len() 调用时的行为</td></tr><tr><td>__repr__(self)</td><td> 定义当被 repr() 调用时的行为</td></tr><tr><td> __str__(self)</td><td> 定义当被 str() 调用时的行为</td></tr><tr><td> __bytes__(self)</td><td> 定义当被 bytes() 调用时的行为</td></tr><tr><td> __hash__(self)</td><td> 定义当被 hash() 调用时的行为</td></tr><tr><td> __bool__(self)</td><td> 定义当被 bool() 调用时的行为，应该返回 True 或 False</td></tr><tr><td>__format__(self, format_spec)</td><td> 定义当被 format() 调用时的行为</td></tr><tr><td> </td><td><div align=\"center\"><font color=\"#ff0000\"><strong>有关属性</strong></font></div></td></tr><tr><td> __getattr__(self, name)</td><td> 定义当用户试图获取一个不存在的属性时的行为</td></tr><tr><td> __getattribute__(self, name)</td><td> 定义当该类的属性被访问时的行为</td></tr><tr><td> __setattr__(self, name, value)</td><td> 定义当一个属性被设置时的行为</td></tr><tr><td> __delattr__(self, name)</td><td> 定义当一个属性被删除时的行为</td></tr><tr><td> __dir__(self)</td><td> 定义当 dir() 被调用时的行为</td></tr><tr><td> __get__(self, instance, owner)</td><td> 定义当描述符的值被取得时的行为</td></tr><tr><td> __set__(self, instance, value)</td><td> 定义当描述符的值被改变时的行为</td></tr><tr><td> __delete__(self, instance)</td><td> 定义当描述符的值被删除时的行为</td></tr><tr><td> </td><td><div align=\"center\"><font color=\"#ff0000\"><strong>比较操作符</strong></font></div></td></tr><tr><td> __lt__(self, other)</td><td> 定义小于号的行为：x &lt; y 调用 x.__lt__(y)</td></tr><tr><td> __le__(self, other)</td><td> 定义小于等于号的行为：x &lt;= y 调用 x.__le__(y)</td></tr><tr><td> __eq__(self, other)</td><td> 定义等于号的行为：x == y 调用 x.__eq__(y)</td></tr><tr><td> __ne__(self, other)</td><td> 定义不等号的行为：x != y 调用 x.__ne__(y)</td></tr><tr><td> __gt__(self, other)</td><td> 定义大于号的行为：x &gt; y 调用 x.__gt__(y)</td></tr><tr><td> __ge__(self, other)</td><td> 定义大于等于号的行为：x &gt;= y 调用 x.__ge__(y)</td></tr><tr><td> </td><td><div align=\"center\"><font color=\"#ff0000\"><strong>算数运算符</strong></font></div></td></tr><tr><td> __add__(self, other)</td><td> 定义加法的行为：+</td></tr><tr><td> __sub__(self, other)</td><td>定义减法的行为：- </td></tr><tr><td> __mul__(self, other)</td><td> 定义乘法的行为：*</td></tr><tr><td> __truediv__(self, other)</td><td> 定义真除法的行为：/</td></tr><tr><td> __floordiv__(self, other)</td><td> 定义整数除法的行为：//</td></tr><tr><td> __mod__(self, other)</td><td> 定义取模算法的行为：%</td></tr><tr><td> __divmod__(self, other)</td><td> 定义当被 divmod() 调用时的行为</td></tr><tr><td> __pow__(self, other[, modulo]) </td><td> 定义当被 power() 调用或 ** 运算时的行为</td></tr><tr><td> __lshift__(self, other)</td><td> 定义按位左移位的行为：&lt;&lt;</td></tr><tr><td> __rshift__(self, other)</td><td>定义按位右移位的行为：&gt;&gt;</td></tr><tr><td> __and__(self, other)</td><td> 定义按位与操作的行为：&amp;</td></tr><tr><td> __xor__(self, other)</td><td> 定义按位异或操作的行为：^</td></tr><tr><td> __or__(self, other)</td><td>定义按位或操作的行为：| </td></tr><tr><td> </td><td><div align=\"center\"><font color=\"#ff0000\"><strong> 反运算</strong></font></div></td></tr><tr><td> __radd__(self, other)</td><td> （与上方相同，当左操作数不支持相应的操作时被调用）</td></tr><tr><td> __rsub__(self, other)</td><td> （与上方相同，当左操作数不支持相应的操作时被调用）</td></tr><tr><td> __rmul__(self, other)</td><td> （与上方相同，当左操作数不支持相应的操作时被调用）</td></tr><tr><td> __rtruediv__(self, other)</td><td> （与上方相同，当左操作数不支持相应的操作时被调用）</td></tr><tr><td> __rfloordiv__(self, other)</td><td> （与上方相同，当左操作数不支持相应的操作时被调用）</td></tr><tr><td> __rmod__(self, other)</td><td> （与上方相同，当左操作数不支持相应的操作时被调用）</td></tr><tr><td> __rdivmod__(self, other)</td><td> （与上方相同，当左操作数不支持相应的操作时被调用）</td></tr><tr><td> __rpow__(self, other)</td><td> （与上方相同，当左操作数不支持相应的操作时被调用）</td></tr><tr><td> __rlshift__(self, other)</td><td> （与上方相同，当左操作数不支持相应的操作时被调用）</td></tr><tr><td> __rrshift__(self, other)</td><td> （与上方相同，当左操作数不支持相应的操作时被调用）</td></tr><tr><td> __rand__(self, other)</td><td> （与上方相同，当左操作数不支持相应的操作时被调用）</td></tr><tr><td> __rxor__(self, other)</td><td> （与上方相同，当左操作数不支持相应的操作时被调用）</td></tr><tr><td> __ror__(self, other)</td><td> （与上方相同，当左操作数不支持相应的操作时被调用）</td></tr><tr><td> </td><td><div align=\"center\"><font color=\"#ff0000\"><strong>增量赋值运算</strong></font></div></td></tr><tr><td> __iadd__(self, other)</td><td> 定义赋值加法的行为：+=</td></tr><tr><td> __isub__(self, other)</td><td> 定义赋值减法的行为：-=</td></tr><tr><td> __imul__(self, other)</td><td> 定义赋值乘法的行为：*=</td></tr><tr><td> __itruediv__(self, other)</td><td> 定义赋值真除法的行为：/=</td></tr><tr><td> __ifloordiv__(self, other)</td><td> 定义赋值整数除法的行为：//=</td></tr><tr><td> __imod__(self, other)</td><td> 定义赋值取模算法的行为：%=</td></tr><tr><td> __ipow__(self, other[, modulo])</td><td> 定义赋值幂运算的行为：**=</td></tr><tr><td> __ilshift__(self, other)</td><td> 定义赋值按位左移位的行为：&lt;&lt;=</td></tr><tr><td> __irshift__(self, other)</td><td> 定义赋值按位右移位的行为：&gt;&gt;=</td></tr><tr><td> __iand__(self, other)</td><td> 定义赋值按位与操作的行为：&amp;=</td></tr><tr><td> __ixor__(self, other)</td><td> 定义赋值按位异或操作的行为：^=</td></tr><tr><td> __ior__(self, other)</td><td> 定义赋值按位或操作的行为：|=</td></tr><tr><td> </td><td><div align=\"center\"><font color=\"#ff0000\"><strong>一元操作符</strong></font></div></td></tr><tr><td> __pos__(self)</td><td> 定义正号的行为：+x</td></tr><tr><td> __neg__(self)</td><td> 定义负号的行为：-x</td></tr><tr><td> __abs__(self)</td><td> 定义当被 abs() 调用时的行为</td></tr><tr><td> __invert__(self)</td><td> 定义按位求反的行为：~x</td></tr><tr><td> </td><td><div align=\"center\"><font color=\"#ff0000\"><strong>类型转换</strong></font></div></td></tr><tr><td> __complex__(self)</td><td> 定义当被 complex() 调用时的行为（需要返回恰当的值）</td></tr><tr><td> __int__(self)</td><td> 定义当被 int() 调用时的行为（需要返回恰当的值）</td></tr><tr><td> __float__(self)</td><td> 定义当被 float() 调用时的行为（需要返回恰当的值）</td></tr><tr><td> __round__(self[, n])</td><td> 定义当被 round() 调用时的行为（需要返回恰当的值）</td></tr><tr><td> __index__(self)</td><td> 1. 当对象是被应用在切片表达式中时，实现整形强制转换<br>\n",
       "2. 如果你定义了一个可能在切片时用到的定制的数值型,你应该定义 __index__<br>\n",
       "3. 如果 __index__ 被定义，则 __int__ 也需要被定义，且返回相同的值</td></tr><tr><td> </td><td><div align=\"center\"><font color=\"#ff0000\"><strong>上下文管理（with 语句）</strong></font></div></td></tr><tr><td> __enter__(self)</td><td> 1. 定义当使用 with 语句时的初始化行为<br>\n",
       "2. __enter__ 的返回值被 with 语句的目标或者 as 后的名字绑定</td></tr><tr><td> __exit__(self, exc_type, exc_value, traceback)</td><td> 1. 定义当一个代码块被执行或者终止后上下文管理器应该做什么<br>\n",
       "2. 一般被用来处理异常，清除工作或者做一些代码块执行完毕之后的日常工作</td></tr><tr><td> </td><td><div align=\"center\"><strong><font color=\"#ff0000\">容器类型</font></strong></div></td></tr><tr><td> __len__(self)</td><td> 定义当被 len() 调用时的行为（返回容器中元素的个数）</td></tr><tr><td> __getitem__(self, key)</td><td> 定义获取容器中指定元素的行为，相当于 self[key]</td></tr><tr><td> __setitem__(self, key, value)</td><td> 定义设置容器中指定元素的行为，相当于 self[key] = value</td></tr><tr><td> __delitem__(self, key)</td><td> 定义删除容器中指定元素的行为，相当于 del self[key]</td></tr><tr><td> __iter__(self)</td><td> 定义当迭代容器中的元素的行为</td></tr><tr><td> __reversed__(self)</td><td> 定义当被 reversed() 调用时的行为</td></tr><tr><td> __contains__(self, item)</td><td> 定义当使用成员测试运算符（in 或 not in）时的行为</td></tr></tbody>"
      ],
      "text/plain": [
       "<IPython.core.display.HTML object>"
      ]
     },
     "metadata": {},
     "output_type": "display_data"
    }
   ],
   "source": [
    "%%html\n",
    "<tbody><tr><td width=\"30%\"><div align=\"center\"><strong> 魔法方法</strong></div></td><td><div align=\"center\"><strong>含义 </strong></div></td></tr><tr><td><br>\n",
    "</td><td><div align=\"left\"><div align=\"center\"><font color=\"#ff0000\"><strong> 基本的魔法方法</strong></font></div></div></td></tr><tr><td>__new__(cls[, ...]) </td><td> 1. __new__ 是在一个对象实例化的时候所调用的第一个方法<br>\n",
    "2. 它的第一个参数是这个类，其他的参数是用来直接传递给 __init__ 方法<br>\n",
    "3. __new__ 决定是否要使用该 __init__ 方法，因为 __new__ 可以调用其他类的构造方法或者直接返回别的实例对象来作为本类的实例，如果 __new__ 没有返回实例对象，则 __init__ 不会被调用<br>\n",
    "4. __new__ 主要是用于继承一个不可变的类型比如一个 tuple 或者 string</td></tr><tr><td> __init__(self[, ...]) </td><td>构造器，当一个实例被创建的时候调用的初始化方法</td></tr><tr><td> __del__(self)</td><td> 析构器，当一个实例被销毁的时候调用的方法</td></tr><tr><td> __call__(self[, args...]) </td><td>允许一个类的实例像函数一样被调用：x(a, b) 调用 x.__call__(a, b)</td></tr><tr><td> __len__(self)</td><td> 定义当被 len() 调用时的行为</td></tr><tr><td>__repr__(self)</td><td> 定义当被 repr() 调用时的行为</td></tr><tr><td> __str__(self)</td><td> 定义当被 str() 调用时的行为</td></tr><tr><td> __bytes__(self)</td><td> 定义当被 bytes() 调用时的行为</td></tr><tr><td> __hash__(self)</td><td> 定义当被 hash() 调用时的行为</td></tr><tr><td> __bool__(self)</td><td> 定义当被 bool() 调用时的行为，应该返回 True 或 False</td></tr><tr><td>__format__(self, format_spec)</td><td> 定义当被 format() 调用时的行为</td></tr><tr><td> </td><td><div align=\"center\"><font color=\"#ff0000\"><strong>有关属性</strong></font></div></td></tr><tr><td> __getattr__(self, name)</td><td> 定义当用户试图获取一个不存在的属性时的行为</td></tr><tr><td> __getattribute__(self, name)</td><td> 定义当该类的属性被访问时的行为</td></tr><tr><td> __setattr__(self, name, value)</td><td> 定义当一个属性被设置时的行为</td></tr><tr><td> __delattr__(self, name)</td><td> 定义当一个属性被删除时的行为</td></tr><tr><td> __dir__(self)</td><td> 定义当 dir() 被调用时的行为</td></tr><tr><td> __get__(self, instance, owner)</td><td> 定义当描述符的值被取得时的行为</td></tr><tr><td> __set__(self, instance, value)</td><td> 定义当描述符的值被改变时的行为</td></tr><tr><td> __delete__(self, instance)</td><td> 定义当描述符的值被删除时的行为</td></tr><tr><td> </td><td><div align=\"center\"><font color=\"#ff0000\"><strong>比较操作符</strong></font></div></td></tr><tr><td> __lt__(self, other)</td><td> 定义小于号的行为：x &lt; y 调用 x.__lt__(y)</td></tr><tr><td> __le__(self, other)</td><td> 定义小于等于号的行为：x &lt;= y 调用 x.__le__(y)</td></tr><tr><td> __eq__(self, other)</td><td> 定义等于号的行为：x == y 调用 x.__eq__(y)</td></tr><tr><td> __ne__(self, other)</td><td> 定义不等号的行为：x != y 调用 x.__ne__(y)</td></tr><tr><td> __gt__(self, other)</td><td> 定义大于号的行为：x &gt; y 调用 x.__gt__(y)</td></tr><tr><td> __ge__(self, other)</td><td> 定义大于等于号的行为：x &gt;= y 调用 x.__ge__(y)</td></tr><tr><td> </td><td><div align=\"center\"><font color=\"#ff0000\"><strong>算数运算符</strong></font></div></td></tr><tr><td> __add__(self, other)</td><td> 定义加法的行为：+</td></tr><tr><td> __sub__(self, other)</td><td>定义减法的行为：- </td></tr><tr><td> __mul__(self, other)</td><td> 定义乘法的行为：*</td></tr><tr><td> __truediv__(self, other)</td><td> 定义真除法的行为：/</td></tr><tr><td> __floordiv__(self, other)</td><td> 定义整数除法的行为：//</td></tr><tr><td> __mod__(self, other)</td><td> 定义取模算法的行为：%</td></tr><tr><td> __divmod__(self, other)</td><td> 定义当被 divmod() 调用时的行为</td></tr><tr><td> __pow__(self, other[, modulo]) </td><td> 定义当被 power() 调用或 ** 运算时的行为</td></tr><tr><td> __lshift__(self, other)</td><td> 定义按位左移位的行为：&lt;&lt;</td></tr><tr><td> __rshift__(self, other)</td><td>定义按位右移位的行为：&gt;&gt;</td></tr><tr><td> __and__(self, other)</td><td> 定义按位与操作的行为：&amp;</td></tr><tr><td> __xor__(self, other)</td><td> 定义按位异或操作的行为：^</td></tr><tr><td> __or__(self, other)</td><td>定义按位或操作的行为：| </td></tr><tr><td> </td><td><div align=\"center\"><font color=\"#ff0000\"><strong> 反运算</strong></font></div></td></tr><tr><td> __radd__(self, other)</td><td> （与上方相同，当左操作数不支持相应的操作时被调用）</td></tr><tr><td> __rsub__(self, other)</td><td> （与上方相同，当左操作数不支持相应的操作时被调用）</td></tr><tr><td> __rmul__(self, other)</td><td> （与上方相同，当左操作数不支持相应的操作时被调用）</td></tr><tr><td> __rtruediv__(self, other)</td><td> （与上方相同，当左操作数不支持相应的操作时被调用）</td></tr><tr><td> __rfloordiv__(self, other)</td><td> （与上方相同，当左操作数不支持相应的操作时被调用）</td></tr><tr><td> __rmod__(self, other)</td><td> （与上方相同，当左操作数不支持相应的操作时被调用）</td></tr><tr><td> __rdivmod__(self, other)</td><td> （与上方相同，当左操作数不支持相应的操作时被调用）</td></tr><tr><td> __rpow__(self, other)</td><td> （与上方相同，当左操作数不支持相应的操作时被调用）</td></tr><tr><td> __rlshift__(self, other)</td><td> （与上方相同，当左操作数不支持相应的操作时被调用）</td></tr><tr><td> __rrshift__(self, other)</td><td> （与上方相同，当左操作数不支持相应的操作时被调用）</td></tr><tr><td> __rand__(self, other)</td><td> （与上方相同，当左操作数不支持相应的操作时被调用）</td></tr><tr><td> __rxor__(self, other)</td><td> （与上方相同，当左操作数不支持相应的操作时被调用）</td></tr><tr><td> __ror__(self, other)</td><td> （与上方相同，当左操作数不支持相应的操作时被调用）</td></tr><tr><td> </td><td><div align=\"center\"><font color=\"#ff0000\"><strong>增量赋值运算</strong></font></div></td></tr><tr><td> __iadd__(self, other)</td><td> 定义赋值加法的行为：+=</td></tr><tr><td> __isub__(self, other)</td><td> 定义赋值减法的行为：-=</td></tr><tr><td> __imul__(self, other)</td><td> 定义赋值乘法的行为：*=</td></tr><tr><td> __itruediv__(self, other)</td><td> 定义赋值真除法的行为：/=</td></tr><tr><td> __ifloordiv__(self, other)</td><td> 定义赋值整数除法的行为：//=</td></tr><tr><td> __imod__(self, other)</td><td> 定义赋值取模算法的行为：%=</td></tr><tr><td> __ipow__(self, other[, modulo])</td><td> 定义赋值幂运算的行为：**=</td></tr><tr><td> __ilshift__(self, other)</td><td> 定义赋值按位左移位的行为：&lt;&lt;=</td></tr><tr><td> __irshift__(self, other)</td><td> 定义赋值按位右移位的行为：&gt;&gt;=</td></tr><tr><td> __iand__(self, other)</td><td> 定义赋值按位与操作的行为：&amp;=</td></tr><tr><td> __ixor__(self, other)</td><td> 定义赋值按位异或操作的行为：^=</td></tr><tr><td> __ior__(self, other)</td><td> 定义赋值按位或操作的行为：|=</td></tr><tr><td> </td><td><div align=\"center\"><font color=\"#ff0000\"><strong>一元操作符</strong></font></div></td></tr><tr><td> __pos__(self)</td><td> 定义正号的行为：+x</td></tr><tr><td> __neg__(self)</td><td> 定义负号的行为：-x</td></tr><tr><td> __abs__(self)</td><td> 定义当被 abs() 调用时的行为</td></tr><tr><td> __invert__(self)</td><td> 定义按位求反的行为：~x</td></tr><tr><td> </td><td><div align=\"center\"><font color=\"#ff0000\"><strong>类型转换</strong></font></div></td></tr><tr><td> __complex__(self)</td><td> 定义当被 complex() 调用时的行为（需要返回恰当的值）</td></tr><tr><td> __int__(self)</td><td> 定义当被 int() 调用时的行为（需要返回恰当的值）</td></tr><tr><td> __float__(self)</td><td> 定义当被 float() 调用时的行为（需要返回恰当的值）</td></tr><tr><td> __round__(self[, n])</td><td> 定义当被 round() 调用时的行为（需要返回恰当的值）</td></tr><tr><td> __index__(self)</td><td> 1. 当对象是被应用在切片表达式中时，实现整形强制转换<br>\n",
    "2. 如果你定义了一个可能在切片时用到的定制的数值型,你应该定义 __index__<br>\n",
    "3. 如果 __index__ 被定义，则 __int__ 也需要被定义，且返回相同的值</td></tr><tr><td> </td><td><div align=\"center\"><font color=\"#ff0000\"><strong>上下文管理（with 语句）</strong></font></div></td></tr><tr><td> __enter__(self)</td><td> 1. 定义当使用 with 语句时的初始化行为<br>\n",
    "2. __enter__ 的返回值被 with 语句的目标或者 as 后的名字绑定</td></tr><tr><td> __exit__(self, exc_type, exc_value, traceback)</td><td> 1. 定义当一个代码块被执行或者终止后上下文管理器应该做什么<br>\n",
    "2. 一般被用来处理异常，清除工作或者做一些代码块执行完毕之后的日常工作</td></tr><tr><td> </td><td><div align=\"center\"><strong><font color=\"#ff0000\">容器类型</font></strong></div></td></tr><tr><td> __len__(self)</td><td> 定义当被 len() 调用时的行为（返回容器中元素的个数）</td></tr><tr><td> __getitem__(self, key)</td><td> 定义获取容器中指定元素的行为，相当于 self[key]</td></tr><tr><td> __setitem__(self, key, value)</td><td> 定义设置容器中指定元素的行为，相当于 self[key] = value</td></tr><tr><td> __delitem__(self, key)</td><td> 定义删除容器中指定元素的行为，相当于 del self[key]</td></tr><tr><td> __iter__(self)</td><td> 定义当迭代容器中的元素的行为</td></tr><tr><td> __reversed__(self)</td><td> 定义当被 reversed() 调用时的行为</td></tr><tr><td> __contains__(self, item)</td><td> 定义当使用成员测试运算符（in 或 not in）时的行为</td></tr></tbody>"
   ]
  },
  {
   "cell_type": "markdown",
   "metadata": {},
   "source": [
    "- 简单定制\n",
    "\n",
    "    - 定制一个计时器的类\n",
    "    - start和stop方法代表启动计时器和停止计时器\n",
    "    - 假设计时器对象t1，print(t1)和直接调用t1均显示结果\n",
    "    - 当计时器未启动或已经停止计时，调用stop方法会给予温馨提示\n",
    "    - 两个计时器对象可以进行相加：t1 + t2\n",
    "    - 只能使用提供的有限资源完成"
   ]
  },
  {
   "cell_type": "markdown",
   "metadata": {
    "collapsed": true
   },
   "source": [
    "- 简单定制"
   ]
  },
  {
   "cell_type": "code",
   "execution_count": 76,
   "metadata": {
    "collapsed": false
   },
   "outputs": [],
   "source": [
    "import time as t\n",
    "\n",
    "class MyTimer():\n",
    "    def __init__(self):\n",
    "        self.unit = ['年', '月', '天', '小时', '分钟', '秒']\n",
    "        self.prompt = \"未开始计时\"\n",
    "        self.lasted = []\n",
    "        self.begin = 0\n",
    "        self.end = 0\n",
    "        \n",
    "    def __str__(self):\n",
    "        return self.prompt\n",
    "    \n",
    "    __repr__ = __str__\n",
    "    \n",
    "    def __add__(self, other):\n",
    "        prompt = \"总共运行了\"\n",
    "        result = []\n",
    "        for index in range(6):\n",
    "            result.append(self.lasted[index] + other.lasted[index])\n",
    "            if result[index]:\n",
    "                prompt += (str(result[index]) + self.unit[index])\n",
    "        return prompt\n",
    "    \n",
    "    #开始计时\n",
    "    def start(self):\n",
    "        self.begin = t.localtime()\n",
    "        self.prompt = \"提示：请先调用stop（）停止计时！\"\n",
    "        print(\"计时开始。。。\")\n",
    "    #结束计时\n",
    "    def stop(self):\n",
    "        if not self.begin:\n",
    "            print(\"提示：请先调用Start（）开始计时！\")\n",
    "        else:\n",
    "            self.end = t.localtime()\n",
    "            self.__calc()\n",
    "            print(\"计时结束。。。\")\n",
    "        \n",
    "    def __calc(self):\n",
    "        self.lasted = []\n",
    "        self.prompt = \"总共运行了\"\n",
    "        for index in range(6):\n",
    "            self.lasted.append(self.end[index] - self.begin[index])\n",
    "            if self.lasted[index]:\n",
    "                self.prompt += (str(self.lasted[index]) + self.unit[index])\n",
    "        \n",
    "        self.begin = 0\n",
    "        self.end = 0"
   ]
  },
  {
   "cell_type": "code",
   "execution_count": 77,
   "metadata": {
    "collapsed": false
   },
   "outputs": [
    {
     "data": {
      "text/plain": [
       "未开始计时"
      ]
     },
     "execution_count": 77,
     "metadata": {},
     "output_type": "execute_result"
    }
   ],
   "source": [
    "t1 = MyTimer()\n",
    "t1"
   ]
  },
  {
   "cell_type": "code",
   "execution_count": 78,
   "metadata": {
    "collapsed": false
   },
   "outputs": [
    {
     "name": "stdout",
     "output_type": "stream",
     "text": [
      "提示：请先调用Start（）开始计时！\n"
     ]
    }
   ],
   "source": [
    "t1.stop()"
   ]
  },
  {
   "cell_type": "code",
   "execution_count": 79,
   "metadata": {
    "collapsed": false
   },
   "outputs": [
    {
     "name": "stdout",
     "output_type": "stream",
     "text": [
      "计时开始。。。\n"
     ]
    }
   ],
   "source": [
    "t1.start()"
   ]
  },
  {
   "cell_type": "code",
   "execution_count": 80,
   "metadata": {
    "collapsed": false
   },
   "outputs": [
    {
     "data": {
      "text/plain": [
       "提示：请先调用stop（）停止计时！"
      ]
     },
     "execution_count": 80,
     "metadata": {},
     "output_type": "execute_result"
    }
   ],
   "source": [
    "t1"
   ]
  },
  {
   "cell_type": "code",
   "execution_count": 81,
   "metadata": {
    "collapsed": false
   },
   "outputs": [
    {
     "name": "stdout",
     "output_type": "stream",
     "text": [
      "计时结束。。。\n"
     ]
    }
   ],
   "source": [
    "t1.stop()"
   ]
  },
  {
   "cell_type": "code",
   "execution_count": 82,
   "metadata": {
    "collapsed": false
   },
   "outputs": [
    {
     "data": {
      "text/plain": [
       "总共运行了3秒"
      ]
     },
     "execution_count": 82,
     "metadata": {},
     "output_type": "execute_result"
    }
   ],
   "source": [
    "t1"
   ]
  },
  {
   "cell_type": "code",
   "execution_count": 83,
   "metadata": {
    "collapsed": true
   },
   "outputs": [],
   "source": [
    "t2 = MyTimer()"
   ]
  },
  {
   "cell_type": "code",
   "execution_count": 84,
   "metadata": {
    "collapsed": false
   },
   "outputs": [
    {
     "name": "stdout",
     "output_type": "stream",
     "text": [
      "计时开始。。。\n"
     ]
    }
   ],
   "source": [
    "t2.start()"
   ]
  },
  {
   "cell_type": "code",
   "execution_count": 85,
   "metadata": {
    "collapsed": false
   },
   "outputs": [
    {
     "name": "stdout",
     "output_type": "stream",
     "text": [
      "计时结束。。。\n"
     ]
    }
   ],
   "source": [
    "t2.stop()"
   ]
  },
  {
   "cell_type": "code",
   "execution_count": 86,
   "metadata": {
    "collapsed": false
   },
   "outputs": [
    {
     "data": {
      "text/plain": [
       "总共运行了2秒"
      ]
     },
     "execution_count": 86,
     "metadata": {},
     "output_type": "execute_result"
    }
   ],
   "source": [
    "t2"
   ]
  },
  {
   "cell_type": "code",
   "execution_count": 87,
   "metadata": {
    "collapsed": false
   },
   "outputs": [
    {
     "data": {
      "text/plain": [
       "'总共运行了5秒'"
      ]
     },
     "execution_count": 87,
     "metadata": {},
     "output_type": "execute_result"
    }
   ],
   "source": [
    "t1 + t2"
   ]
  },
  {
   "cell_type": "markdown",
   "metadata": {},
   "source": [
    "- 属性定制"
   ]
  },
  {
   "cell_type": "code",
   "execution_count": 95,
   "metadata": {
    "collapsed": false
   },
   "outputs": [],
   "source": [
    "class C:\n",
    "    def __init__(self, size = 10):\n",
    "        self.size = size\n",
    "    \n",
    "    def getSize(self):\n",
    "        return self.size\n",
    "    \n",
    "    def setSize(self, value):\n",
    "        self.size = value\n",
    "    \n",
    "    def delSize(self):\n",
    "        del self.size\n",
    "        \n",
    "    x = property(getSize, setSize,delSize)"
   ]
  },
  {
   "cell_type": "code",
   "execution_count": 96,
   "metadata": {
    "collapsed": false
   },
   "outputs": [],
   "source": [
    "c = C()\n",
    "c.x = 1"
   ]
  },
  {
   "cell_type": "code",
   "execution_count": 97,
   "metadata": {
    "collapsed": false
   },
   "outputs": [
    {
     "data": {
      "text/plain": [
       "1"
      ]
     },
     "execution_count": 97,
     "metadata": {},
     "output_type": "execute_result"
    }
   ],
   "source": [
    "c.x"
   ]
  },
  {
   "cell_type": "code",
   "execution_count": 98,
   "metadata": {
    "collapsed": false
   },
   "outputs": [
    {
     "data": {
      "text/plain": [
       "1"
      ]
     },
     "execution_count": 98,
     "metadata": {},
     "output_type": "execute_result"
    }
   ],
   "source": [
    "c.size"
   ]
  },
  {
   "cell_type": "code",
   "execution_count": 99,
   "metadata": {
    "collapsed": true
   },
   "outputs": [],
   "source": [
    "del c.x"
   ]
  },
  {
   "cell_type": "code",
   "execution_count": 100,
   "metadata": {
    "collapsed": false
   },
   "outputs": [
    {
     "ename": "AttributeError",
     "evalue": "'C' object has no attribute 'size'",
     "output_type": "error",
     "traceback": [
      "\u001b[1;31m---------------------------------------------------------------------------\u001b[0m",
      "\u001b[1;31mAttributeError\u001b[0m                            Traceback (most recent call last)",
      "\u001b[1;32m<ipython-input-100-afa47dd09f1f>\u001b[0m in \u001b[0;36m<module>\u001b[1;34m()\u001b[0m\n\u001b[1;32m----> 1\u001b[1;33m \u001b[0mc\u001b[0m\u001b[1;33m.\u001b[0m\u001b[0msize\u001b[0m\u001b[1;33m\u001b[0m\u001b[0m\n\u001b[0m",
      "\u001b[1;31mAttributeError\u001b[0m: 'C' object has no attribute 'size'"
     ]
    }
   ],
   "source": [
    "c.size"
   ]
  },
  {
   "cell_type": "code",
   "execution_count": 101,
   "metadata": {
    "collapsed": true
   },
   "outputs": [],
   "source": [
    "class C:\n",
    "\tdef __getattribute__(self,name):\n",
    "\t\tprint(\"getattribute\")\n",
    "\t\treturn super().__getattribute__(name)\n",
    "\tdef __getattr__(self,name):\n",
    "\t\tprint(\"getattr\")\n",
    "\tdef __setattr__(self,name,value):\n",
    "\t\tprint(\"setattr\")\n",
    "\t\treturn super().__setattr__(name,value)\n",
    "\tdef __delattr__(self,name):\n",
    "\t\tprint(\"delattr\")\n",
    "\t\treturn super().__delattr__(name)"
   ]
  },
  {
   "cell_type": "code",
   "execution_count": 102,
   "metadata": {
    "collapsed": true
   },
   "outputs": [],
   "source": [
    "class Rectangle:\n",
    "    def __init__(self, width = 0, height = 0):\n",
    "        self.width = width\n",
    "        self.height = height\n",
    "    def __setattr__(self, name, value):\n",
    "        if name == \"square\":\n",
    "            self.width = value\n",
    "            self.height = value\n",
    "        else:\n",
    "            super().__setattr__(name,value)\n",
    "    \n",
    "    def getArea(self):\n",
    "        return self.width * self.height"
   ]
  },
  {
   "cell_type": "code",
   "execution_count": 103,
   "metadata": {
    "collapsed": true
   },
   "outputs": [],
   "source": [
    "r1 = Rectangle(4,5)"
   ]
  },
  {
   "cell_type": "code",
   "execution_count": 104,
   "metadata": {
    "collapsed": false
   },
   "outputs": [
    {
     "data": {
      "text/plain": [
       "20"
      ]
     },
     "execution_count": 104,
     "metadata": {},
     "output_type": "execute_result"
    }
   ],
   "source": [
    "r1.getArea()"
   ]
  },
  {
   "cell_type": "code",
   "execution_count": 105,
   "metadata": {
    "collapsed": true
   },
   "outputs": [],
   "source": [
    "r1.square = 10"
   ]
  },
  {
   "cell_type": "code",
   "execution_count": 106,
   "metadata": {
    "collapsed": false
   },
   "outputs": [
    {
     "data": {
      "text/plain": [
       "10"
      ]
     },
     "execution_count": 106,
     "metadata": {},
     "output_type": "execute_result"
    }
   ],
   "source": [
    "r1.width"
   ]
  },
  {
   "cell_type": "code",
   "execution_count": 107,
   "metadata": {
    "collapsed": false
   },
   "outputs": [
    {
     "data": {
      "text/plain": [
       "10"
      ]
     },
     "execution_count": 107,
     "metadata": {},
     "output_type": "execute_result"
    }
   ],
   "source": [
    "r1.height"
   ]
  },
  {
   "cell_type": "code",
   "execution_count": 108,
   "metadata": {
    "collapsed": false
   },
   "outputs": [
    {
     "data": {
      "text/plain": [
       "100"
      ]
     },
     "execution_count": 108,
     "metadata": {},
     "output_type": "execute_result"
    }
   ],
   "source": [
    "r1.getArea()"
   ]
  },
  {
   "cell_type": "markdown",
   "metadata": {},
   "source": [
    "- 描述符（Property的原理）\n",
    "    - 描述符就是将某种特殊类型的类的实例指派给另一个类的属性"
   ]
  },
  {
   "cell_type": "code",
   "execution_count": 111,
   "metadata": {
    "collapsed": false
   },
   "outputs": [
    {
     "name": "stdout",
     "output_type": "stream",
     "text": [
      "getting... <__main__.MyDeciptor object at 0x00000000047285F8> <__main__.Test object at 0x0000000004728048> <class '__main__.Test'>\n"
     ]
    }
   ],
   "source": [
    "class MyDeciptor:\n",
    "    def __get__(self, instance, owner):\n",
    "        print(\"getting...\",self, instance, owner)\n",
    "        \n",
    "    def __set__(self, instance, value):\n",
    "        print(\"setting...\",self, instance, value)\n",
    "        \n",
    "    def __delete__(self, instance):\n",
    "        print(\"delete...\",self, instance)\n",
    "        \n",
    "class Test:\n",
    "    x = MyDeciptor()\n",
    "    \n",
    "test = Test()\n",
    "test.x"
   ]
  },
  {
   "cell_type": "code",
   "execution_count": 112,
   "metadata": {
    "collapsed": false
   },
   "outputs": [
    {
     "data": {
      "text/plain": [
       "<__main__.Test at 0x4728048>"
      ]
     },
     "execution_count": 112,
     "metadata": {},
     "output_type": "execute_result"
    }
   ],
   "source": [
    "test"
   ]
  },
  {
   "cell_type": "code",
   "execution_count": 113,
   "metadata": {
    "collapsed": false
   },
   "outputs": [
    {
     "data": {
      "text/plain": [
       "__main__.Test"
      ]
     },
     "execution_count": 113,
     "metadata": {},
     "output_type": "execute_result"
    }
   ],
   "source": [
    "Test"
   ]
  },
  {
   "cell_type": "code",
   "execution_count": 114,
   "metadata": {
    "collapsed": false
   },
   "outputs": [
    {
     "name": "stdout",
     "output_type": "stream",
     "text": [
      "setting... <__main__.MyDeciptor object at 0x00000000047285F8> <__main__.Test object at 0x0000000004728048> X-man\n"
     ]
    }
   ],
   "source": [
    "test.x = \"X-man\""
   ]
  },
  {
   "cell_type": "code",
   "execution_count": 115,
   "metadata": {
    "collapsed": false
   },
   "outputs": [
    {
     "name": "stdout",
     "output_type": "stream",
     "text": [
      "delete... <__main__.MyDeciptor object at 0x00000000047285F8> <__main__.Test object at 0x0000000004728048>\n"
     ]
    }
   ],
   "source": [
    "del test.x"
   ]
  },
  {
   "cell_type": "code",
   "execution_count": 118,
   "metadata": {
    "collapsed": false
   },
   "outputs": [],
   "source": [
    "class MyProperty:\n",
    "    def __init__(self, fget = None, fset = None, fdel = None):\n",
    "        self.fget = fget\n",
    "        self.fset = fset\n",
    "        self.fdel = fdel\n",
    "        \n",
    "    def __get__(self, instance, owner):\n",
    "        return self.fget(instance)\n",
    "        \n",
    "    def __set__(self, instance, value):\n",
    "        self.fset(instance, value)\n",
    "        \n",
    "    def __delete__(self, instance):\n",
    "        self.fdel(instance)"
   ]
  },
  {
   "cell_type": "code",
   "execution_count": 121,
   "metadata": {
    "collapsed": true
   },
   "outputs": [],
   "source": [
    "class C:\n",
    "    def __init__(self):\n",
    "        self._x = None\n",
    "    \n",
    "    def getX(self):\n",
    "        return self._x\n",
    "    \n",
    "    def setX(self, value):\n",
    "        self._x = value\n",
    "    \n",
    "    def delX(self):\n",
    "        del self._x\n",
    "        \n",
    "    x = MyProperty(getX, setX,delX)"
   ]
  },
  {
   "cell_type": "code",
   "execution_count": 122,
   "metadata": {
    "collapsed": false
   },
   "outputs": [
    {
     "data": {
      "text/plain": [
       "'X-man'"
      ]
     },
     "execution_count": 122,
     "metadata": {},
     "output_type": "execute_result"
    }
   ],
   "source": [
    "c = C()\n",
    "c.x = \"X-man\"\n",
    "c.x"
   ]
  },
  {
   "cell_type": "code",
   "execution_count": 123,
   "metadata": {
    "collapsed": false
   },
   "outputs": [
    {
     "data": {
      "text/plain": [
       "'X-man'"
      ]
     },
     "execution_count": 123,
     "metadata": {},
     "output_type": "execute_result"
    }
   ],
   "source": [
    "c._x"
   ]
  },
  {
   "cell_type": "code",
   "execution_count": 124,
   "metadata": {
    "collapsed": true
   },
   "outputs": [],
   "source": [
    "class Celsius:\n",
    "    def __init__(self, value = 26.0):\n",
    "        self.value = float(value)\n",
    "        \n",
    "    def __get__(self, instance, owner):\n",
    "        return self.value\n",
    "    \n",
    "    def __set__(self, instance, value):\n",
    "        self.value = float(value)\n",
    "        \n",
    "class Fahreheit:\n",
    "    def __get__(self, instance, owner):\n",
    "        return instance.cel * 1.8 + 32\n",
    "    def __set__(self, instance, value):\n",
    "        instance.cel = (float(value) - 32) / 1.8\n",
    "        \n",
    "class Temperature:\n",
    "    cel = Celsius()\n",
    "    fah = Fahreheit()"
   ]
  },
  {
   "cell_type": "code",
   "execution_count": 125,
   "metadata": {
    "collapsed": false
   },
   "outputs": [
    {
     "data": {
      "text/plain": [
       "26.0"
      ]
     },
     "execution_count": 125,
     "metadata": {},
     "output_type": "execute_result"
    }
   ],
   "source": [
    "temp = Temperature()\n",
    "temp.cel"
   ]
  },
  {
   "cell_type": "code",
   "execution_count": 127,
   "metadata": {
    "collapsed": false
   },
   "outputs": [
    {
     "data": {
      "text/plain": [
       "86.0"
      ]
     },
     "execution_count": 127,
     "metadata": {},
     "output_type": "execute_result"
    }
   ],
   "source": [
    "temp.cel = 30\n",
    "temp.fah"
   ]
  },
  {
   "cell_type": "code",
   "execution_count": 128,
   "metadata": {
    "collapsed": false
   },
   "outputs": [
    {
     "data": {
      "text/plain": [
       "37.77777777777778"
      ]
     },
     "execution_count": 128,
     "metadata": {},
     "output_type": "execute_result"
    }
   ],
   "source": [
    "temp.fah = 100\n",
    "temp.cel"
   ]
  },
  {
   "cell_type": "markdown",
   "metadata": {},
   "source": [
    "- 定制序列"
   ]
  },
  {
   "cell_type": "code",
   "execution_count": 137,
   "metadata": {
    "collapsed": false
   },
   "outputs": [],
   "source": [
    "class CountList:\n",
    "    \n",
    "    def __init__(self, *args):\n",
    "        self.value = [x for x in args]\n",
    "        self.count = {}.fromkeys(range(len(self.value)), 0)\n",
    "        \n",
    "    def __len__(self):\n",
    "        return len(self.value)\n",
    "    \n",
    "    def __getitem__(self, key):\n",
    "        self.count[key] += 1\n",
    "        return self.value[key]"
   ]
  },
  {
   "cell_type": "code",
   "execution_count": 138,
   "metadata": {
    "collapsed": false
   },
   "outputs": [
    {
     "data": {
      "text/plain": [
       "3"
      ]
     },
     "execution_count": 138,
     "metadata": {},
     "output_type": "execute_result"
    }
   ],
   "source": [
    "c1 = CountList(1, 3, 5, 7, 9)\n",
    "c2 = CountList(2, 4, 6, 8, 10)\n",
    "c1[1]"
   ]
  },
  {
   "cell_type": "code",
   "execution_count": 139,
   "metadata": {
    "collapsed": false
   },
   "outputs": [
    {
     "data": {
      "text/plain": [
       "6"
      ]
     },
     "execution_count": 139,
     "metadata": {},
     "output_type": "execute_result"
    }
   ],
   "source": [
    "c2[2]"
   ]
  },
  {
   "cell_type": "code",
   "execution_count": 141,
   "metadata": {
    "collapsed": false
   },
   "outputs": [
    {
     "data": {
      "text/plain": [
       "{0: 0, 1: 1, 2: 0, 3: 0, 4: 0}"
      ]
     },
     "execution_count": 141,
     "metadata": {},
     "output_type": "execute_result"
    }
   ],
   "source": [
    "c1.count"
   ]
  },
  {
   "cell_type": "markdown",
   "metadata": {},
   "source": [
    "- 迭代器\n",
    "    - iter()\n",
    "    - next()"
   ]
  },
  {
   "cell_type": "code",
   "execution_count": 146,
   "metadata": {
    "collapsed": true
   },
   "outputs": [],
   "source": [
    "class Fibs:\n",
    "    def __init__(self, n = 20):\n",
    "        self.a = 0\n",
    "        self.b = 1\n",
    "        self.n = n\n",
    "    def __iter__(self):\n",
    "        return self\n",
    "    def __next__(self):\n",
    "        self.a, self.b= self.b, self.a + self.b\n",
    "        if self.a > self.n:\n",
    "            raise StopIteration\n",
    "        return self.a    "
   ]
  },
  {
   "cell_type": "code",
   "execution_count": 148,
   "metadata": {
    "collapsed": false
   },
   "outputs": [
    {
     "name": "stdout",
     "output_type": "stream",
     "text": [
      "1\n",
      "1\n",
      "2\n",
      "3\n",
      "5\n",
      "8\n",
      "13\n"
     ]
    }
   ],
   "source": [
    "fibs = Fibs()\n",
    "for each in fibs:\n",
    "    print(each)"
   ]
  },
  {
   "cell_type": "markdown",
   "metadata": {
    "collapsed": true
   },
   "source": [
    "- 生成器"
   ]
  },
  {
   "cell_type": "code",
   "execution_count": 2,
   "metadata": {
    "collapsed": false
   },
   "outputs": [
    {
     "data": {
      "text/plain": [
       "{0: True,\n",
       " 1: False,\n",
       " 2: True,\n",
       " 3: False,\n",
       " 4: True,\n",
       " 5: False,\n",
       " 6: True,\n",
       " 7: False,\n",
       " 8: True,\n",
       " 9: False}"
      ]
     },
     "execution_count": 2,
     "metadata": {},
     "output_type": "execute_result"
    }
   ],
   "source": [
    "b = {i : i % 2 == 0 for i in range(10)}# 字典推导式\n",
    "b"
   ]
  },
  {
   "cell_type": "code",
   "execution_count": 3,
   "metadata": {
    "collapsed": false
   },
   "outputs": [
    {
     "data": {
      "text/plain": [
       "<generator object <genexpr> at 0x0000000004250F10>"
      ]
     },
     "execution_count": 3,
     "metadata": {},
     "output_type": "execute_result"
    }
   ],
   "source": [
    "d = (i for i in range(10))#生成器推导式\n",
    "d"
   ]
  },
  {
   "cell_type": "markdown",
   "metadata": {},
   "source": [
    "## 模块\n",
    "\n",
    "- 模块就是一段程序，以.py为扩展名的文件\n",
    "- `if __name__ == \"__main__\" `的作用\n",
    "- 搜索路径\n",
    "- 包"
   ]
  },
  {
   "cell_type": "code",
   "execution_count": 4,
   "metadata": {
    "collapsed": false
   },
   "outputs": [
    {
     "data": {
      "text/plain": [
       "['',\n",
       " 'C:\\\\Users\\\\htfeng\\\\Anaconda3\\\\python35.zip',\n",
       " 'C:\\\\Users\\\\htfeng\\\\Anaconda3\\\\DLLs',\n",
       " 'C:\\\\Users\\\\htfeng\\\\Anaconda3\\\\lib',\n",
       " 'C:\\\\Users\\\\htfeng\\\\Anaconda3',\n",
       " 'C:\\\\Users\\\\htfeng\\\\Anaconda3\\\\lib\\\\site-packages',\n",
       " 'C:\\\\Users\\\\htfeng\\\\Anaconda3\\\\lib\\\\site-packages\\\\Sphinx-1.4.1-py3.5.egg',\n",
       " 'C:\\\\Users\\\\htfeng\\\\Anaconda3\\\\lib\\\\site-packages\\\\win32',\n",
       " 'C:\\\\Users\\\\htfeng\\\\Anaconda3\\\\lib\\\\site-packages\\\\win32\\\\lib',\n",
       " 'C:\\\\Users\\\\htfeng\\\\Anaconda3\\\\lib\\\\site-packages\\\\Pythonwin',\n",
       " 'C:\\\\Users\\\\htfeng\\\\Anaconda3\\\\lib\\\\site-packages\\\\setuptools-23.0.0-py3.5.egg',\n",
       " 'C:\\\\Users\\\\htfeng\\\\Anaconda3\\\\lib\\\\site-packages\\\\IPython\\\\extensions',\n",
       " 'C:\\\\Users\\\\htfeng\\\\.ipython']"
      ]
     },
     "execution_count": 4,
     "metadata": {},
     "output_type": "execute_result"
    }
   ],
   "source": [
    "import sys\n",
    "sys.path"
   ]
  },
  {
   "cell_type": "code",
   "execution_count": 6,
   "metadata": {
    "collapsed": false
   },
   "outputs": [],
   "source": [
    "sys.path.append(\"c:\\\\user\\\\htfeng\\\\Anaconda3\\\\test\")# 添加路径"
   ]
  },
  {
   "cell_type": "code",
   "execution_count": 7,
   "metadata": {
    "collapsed": false
   },
   "outputs": [
    {
     "data": {
      "text/plain": [
       "['',\n",
       " 'C:\\\\Users\\\\htfeng\\\\Anaconda3\\\\python35.zip',\n",
       " 'C:\\\\Users\\\\htfeng\\\\Anaconda3\\\\DLLs',\n",
       " 'C:\\\\Users\\\\htfeng\\\\Anaconda3\\\\lib',\n",
       " 'C:\\\\Users\\\\htfeng\\\\Anaconda3',\n",
       " 'C:\\\\Users\\\\htfeng\\\\Anaconda3\\\\lib\\\\site-packages',\n",
       " 'C:\\\\Users\\\\htfeng\\\\Anaconda3\\\\lib\\\\site-packages\\\\Sphinx-1.4.1-py3.5.egg',\n",
       " 'C:\\\\Users\\\\htfeng\\\\Anaconda3\\\\lib\\\\site-packages\\\\win32',\n",
       " 'C:\\\\Users\\\\htfeng\\\\Anaconda3\\\\lib\\\\site-packages\\\\win32\\\\lib',\n",
       " 'C:\\\\Users\\\\htfeng\\\\Anaconda3\\\\lib\\\\site-packages\\\\Pythonwin',\n",
       " 'C:\\\\Users\\\\htfeng\\\\Anaconda3\\\\lib\\\\site-packages\\\\setuptools-23.0.0-py3.5.egg',\n",
       " 'C:\\\\Users\\\\htfeng\\\\Anaconda3\\\\lib\\\\site-packages\\\\IPython\\\\extensions',\n",
       " 'C:\\\\Users\\\\htfeng\\\\.ipython',\n",
       " 'c:\\\\user\\\\htfeng\\\\Anaconda3\\\\test']"
      ]
     },
     "execution_count": 7,
     "metadata": {},
     "output_type": "execute_result"
    }
   ],
   "source": [
    "sys.path"
   ]
  },
  {
   "cell_type": "code",
   "execution_count": null,
   "metadata": {
    "collapsed": true
   },
   "outputs": [],
   "source": []
  }
 ],
 "metadata": {
  "kernelspec": {
   "display_name": "Python [Root]",
   "language": "python",
   "name": "Python [Root]"
  },
  "language_info": {
   "codemirror_mode": {
    "name": "ipython",
    "version": 3
   },
   "file_extension": ".py",
   "mimetype": "text/x-python",
   "name": "python",
   "nbconvert_exporter": "python",
   "pygments_lexer": "ipython3",
   "version": "3.5.1"
  }
 },
 "nbformat": 4,
 "nbformat_minor": 0
}
