{
 "cells": [
  {
   "cell_type": "markdown",
   "metadata": {},
   "source": [
    "# Python第九章学习\n",
    "\n",
    "- [x] 正则表达式"
   ]
  },
  {
   "cell_type": "markdown",
   "metadata": {},
   "source": [
    "## 正则表达式\n",
    "- 正则表达式（Regular expressions 也称为 REs，或 regexes 或 regex patterns）本质上是一个微小的且高度专业化的编程语言。它被嵌入到 Python 中，并通过 re 模块提供使用。使用正则表达式，你需要指定一些规则来描述那些你希望匹配的字符串集合。这些字符串集合可能包含英语句子、 e-mail 地址、TeX 命令，或任何你想要的东西。\n",
    "\n",
    ">Python 的正则表达式引擎是用 C 语言写的，所以效率是极高的。另，所谓的正则表达式，这里说的 RE，就是上文我们提到的“一些规则”。\n",
    "\n",
    "- 正则表达式语言相对小型和受限（功能有限）\n",
    "    - 并非所有的字符串处理都能用正则表达式完成\n"
   ]
  },
  {
   "cell_type": "markdown",
   "metadata": {},
   "source": [
    "### 字符匹配\n",
    "- 普通字符\n",
    "    - 大多数字母和字符一般都会和自身匹配\n",
    "    - 如正则表达式test会和字符串“test”完全匹配\n",
    "- 元字符      \n",
    "    - .  ^  $  *  +  ?  {}  []  \\  | ()"
   ]
  },
  {
   "cell_type": "markdown",
   "metadata": {},
   "source": [
    "- []符号\n",
    "    - 常用来指定一个字符集：[abc];[a-z]\n",
    "    - 元字符在字符集中不起作用：[akm$]\n",
    "    - 补集匹配不在区间范围内的字符：[^5]"
   ]
  },
  {
   "cell_type": "code",
   "execution_count": 5,
   "metadata": {
    "collapsed": false
   },
   "outputs": [
    {
     "data": {
      "text/plain": [
       "['abc', 'abc']"
      ]
     },
     "execution_count": 5,
     "metadata": {},
     "output_type": "execute_result"
    }
   ],
   "source": [
    "import re#导入模块re\n",
    "\n",
    "s = r\"abc\"#定义一个规则\n",
    "\n",
    "re.findall(s,\"abcaaaaaabcaaaaaaaaaa\")"
   ]
  },
  {
   "cell_type": "markdown",
   "metadata": {},
   "source": [
    "有时候规则会变化,如果我们想要找到另外规则的字符串"
   ]
  },
  {
   "cell_type": "code",
   "execution_count": 6,
   "metadata": {
    "collapsed": false
   },
   "outputs": [
    {
     "data": {
      "text/plain": [
       "['top']"
      ]
     },
     "execution_count": 6,
     "metadata": {},
     "output_type": "execute_result"
    }
   ],
   "source": [
    "st = \"top tip tqp twp tep\"#要找到top\n",
    "res = r\"top\"\n",
    "re.findall(res,st)"
   ]
  },
  {
   "cell_type": "code",
   "execution_count": 7,
   "metadata": {
    "collapsed": false
   },
   "outputs": [
    {
     "data": {
      "text/plain": [
       "['top', 'tip']"
      ]
     },
     "execution_count": 7,
     "metadata": {},
     "output_type": "execute_result"
    }
   ],
   "source": [
    "res = r\"t[io]p\"#可以找到tip、top\n",
    "re.findall(res,st)"
   ]
  },
  {
   "cell_type": "code",
   "execution_count": 8,
   "metadata": {
    "collapsed": false
   },
   "outputs": [
    {
     "data": {
      "text/plain": [
       "['tqp', 'twp', 'tep']"
      ]
     },
     "execution_count": 8,
     "metadata": {},
     "output_type": "execute_result"
    }
   ],
   "source": [
    "res = r\"t[^io]p\"#找到tip、top外的字符串\n",
    "re.findall(res,st)"
   ]
  },
  {
   "cell_type": "code",
   "execution_count": 14,
   "metadata": {
    "collapsed": false
   },
   "outputs": [
    {
     "data": {
      "text/plain": [
       "['j', 's', 'l', 'k', 'f', 's', 'j', '2', '1', '3', 'i', '9', '8', '3', '9']"
      ]
     },
     "execution_count": 14,
     "metadata": {},
     "output_type": "execute_result"
    }
   ],
   "source": [
    "r = r\"[a-zA-Z0-9]\"\n",
    "\n",
    "re.findall(r,\"jslkfsj213i9839\")"
   ]
  },
  {
   "cell_type": "markdown",
   "metadata": {},
   "source": [
    "- **^**符号\n",
    "    - 匹配行首,除非设置MULTILINE标志，它是匹配字符串的开始，在MULTILINE模式里，它也可以直接匹配字符串的每个换行"
   ]
  },
  {
   "cell_type": "code",
   "execution_count": 9,
   "metadata": {
    "collapsed": false
   },
   "outputs": [
    {
     "data": {
      "text/plain": [
       "['hello', 'hello']"
      ]
     },
     "execution_count": 9,
     "metadata": {},
     "output_type": "execute_result"
    }
   ],
   "source": [
    "s = \"hello world,hello Pyhton\"\n",
    "\n",
    "r = r\"hello\"\n",
    "\n",
    "re.findall(r,s)"
   ]
  },
  {
   "cell_type": "code",
   "execution_count": 10,
   "metadata": {
    "collapsed": false
   },
   "outputs": [
    {
     "data": {
      "text/plain": [
       "['hello']"
      ]
     },
     "execution_count": 10,
     "metadata": {},
     "output_type": "execute_result"
    }
   ],
   "source": [
    "r = r\"^hello\"#返回开始的hello\n",
    "\n",
    "re.findall(r,s)"
   ]
  },
  {
   "cell_type": "markdown",
   "metadata": {},
   "source": [
    "- **$**\n",
    "    - 匹配行尾，行尾被定义为要么是字符串尾，要目是一个换行字符后面的任何位置"
   ]
  },
  {
   "cell_type": "code",
   "execution_count": 11,
   "metadata": {
    "collapsed": false
   },
   "outputs": [
    {
     "data": {
      "text/plain": [
       "['Pyhton']"
      ]
     },
     "execution_count": 11,
     "metadata": {},
     "output_type": "execute_result"
    }
   ],
   "source": [
    "r = r\"Pyhton$\"\n",
    "re.findall(r,s)"
   ]
  },
  {
   "cell_type": "code",
   "execution_count": 13,
   "metadata": {
    "collapsed": false
   },
   "outputs": [
    {
     "data": {
      "text/plain": [
       "['t$']"
      ]
     },
     "execution_count": 13,
     "metadata": {},
     "output_type": "execute_result"
    }
   ],
   "source": [
    "r = \"t[abc$]\"\n",
    "\n",
    "re.findall(r,\"ta\")\n",
    "re.findall(r,\"tax\")\n",
    "re.findall(r,\"t$\")"
   ]
  },
  {
   "cell_type": "markdown",
   "metadata": {},
   "source": [
    "- **`\\`**\n",
    "    - 反斜杠后面可以加不同的字符以表示不同特殊意义\n",
    "    - 也可以用于取消所有的元字符：`\\[`或`\\\\`"
   ]
  },
  {
   "cell_type": "code",
   "execution_count": 15,
   "metadata": {
    "collapsed": false
   },
   "outputs": [
    {
     "data": {
      "text/html": [
       "<tbody>\n",
       "<tr><td>特殊字符</td><td>含义</td></tr>\n",
       "<tr><td>\\d</td> <td> 匹配任何十进制数字；相当于类</td></tr>\n",
       "<tr><td>\\D</td><td> 与 \\d相反，匹配任何非十进制数字的字符；相当于类 [^0-9]</tr>\n",
       "<tr><td>\\s</td><td> 匹配任何空白字符（包含空格、换行符、制表符等）；相当于类[ \\t\\n\\r\\f\\v]</td></tr>\n",
       "<tr><td>\\S</td><td> 与 \\s相反，匹配任何非空白字符；相当于类[^ \\t\\n\\r\\f\\v]</td></tr>\n",
       "<tr><td>\\w</td><td> 匹配任何单词字符，见上方解释</td></tr>\n",
       "<tr><td>\\W</td><td> 于 \\w相反</td></tr>\n",
       "<tr><td>\\b</td><td>匹配单词的开始或结束 </td></tr>\n",
       "<tr><td>\\B</td><td> 与 \\b相反</td></tr>\n",
       "</tbody>"
      ],
      "text/plain": [
       "<IPython.core.display.HTML object>"
      ]
     },
     "metadata": {},
     "output_type": "display_data"
    }
   ],
   "source": [
    "%%html\n",
    "<tbody>\n",
    "<tr><td>特殊字符</td><td>含义</td></tr>\n",
    "<tr><td>\\d</td> <td> 匹配任何十进制数字；相当于类</td></tr>\n",
    "<tr><td>\\D</td><td> 与 \\d相反，匹配任何非十进制数字的字符；相当于类 [^0-9]</tr>\n",
    "<tr><td>\\s</td><td> 匹配任何空白字符（包含空格、换行符、制表符等）；相当于类[ \\t\\n\\r\\f\\v]</td></tr>\n",
    "<tr><td>\\S</td><td> 与 \\s相反，匹配任何非空白字符；相当于类[^ \\t\\n\\r\\f\\v]</td></tr>\n",
    "<tr><td>\\w</td><td> 匹配任何单词字符，见上方解释</td></tr>\n",
    "<tr><td>\\W</td><td> 于 \\w相反</td></tr>\n",
    "<tr><td>\\b</td><td>匹配单词的开始或结束 </td></tr>\n",
    "<tr><td>\\B</td><td> 与 \\b相反</td></tr>\n",
    "</tbody>"
   ]
  },
  {
   "cell_type": "code",
   "execution_count": 16,
   "metadata": {
    "collapsed": false
   },
   "outputs": [
    {
     "data": {
      "text/plain": [
       "['^abc', '^abc', '^abc']"
      ]
     },
     "execution_count": 16,
     "metadata": {},
     "output_type": "execute_result"
    }
   ],
   "source": [
    "r = r\"\\^abc\"\n",
    "\n",
    "re.findall(r,\"^abc ^abc ^abc\")"
   ]
  },
  {
   "cell_type": "code",
   "execution_count": 17,
   "metadata": {
    "collapsed": false
   },
   "outputs": [
    {
     "data": {
      "text/plain": [
       "['1', '2', '3', '4', '5', '6', '8']"
      ]
     },
     "execution_count": 17,
     "metadata": {},
     "output_type": "execute_result"
    }
   ],
   "source": [
    "r = r\"\\d\"\n",
    "\n",
    "re.findall(r,\"1234568\")"
   ]
  },
  {
   "cell_type": "markdown",
   "metadata": {},
   "source": [
    "- 重复\n",
    "    - 我们在指定规则时避免不了的会重复，这时候就用到了**{}**符号\n",
    "    - 还有一个**`*`**号，指定一个字符可以被匹配零次或更多次，儿不是只有一次。匹配引擎会试着重复尽可能多的次数\n",
    "    - **+**号表示匹配一次或更多次，注意和`*`的区别\n",
    "    - **？**号匹配一次或者零次；我们可以用它来标识某事物是可选的"
   ]
  },
  {
   "cell_type": "code",
   "execution_count": 18,
   "metadata": {
    "collapsed": false
   },
   "outputs": [
    {
     "data": {
      "text/plain": [
       "['010-87654321']"
      ]
     },
     "execution_count": 18,
     "metadata": {},
     "output_type": "execute_result"
    }
   ],
   "source": [
    "r = r\"^010-\\d\\d\\d\\d\\d\\d\\d\\d\"\n",
    "\n",
    "re.findall(r,\"010-87654321\")"
   ]
  },
  {
   "cell_type": "code",
   "execution_count": 19,
   "metadata": {
    "collapsed": false
   },
   "outputs": [
    {
     "data": {
      "text/plain": [
       "['010-87654321']"
      ]
     },
     "execution_count": 19,
     "metadata": {},
     "output_type": "execute_result"
    }
   ],
   "source": [
    "r = r\"^010-\\d{8}\"\n",
    "\n",
    "re.findall(r,\"010-87654321\")"
   ]
  },
  {
   "cell_type": "code",
   "execution_count": 20,
   "metadata": {
    "collapsed": false
   },
   "outputs": [
    {
     "data": {
      "text/plain": [
       "['a']"
      ]
     },
     "execution_count": 20,
     "metadata": {},
     "output_type": "execute_result"
    }
   ],
   "source": [
    "r = r\"ab*\"\n",
    "\n",
    "re.findall(r,\"a\")#匹配零次"
   ]
  },
  {
   "cell_type": "code",
   "execution_count": 21,
   "metadata": {
    "collapsed": false
   },
   "outputs": [
    {
     "data": {
      "text/plain": [
       "['abbbbbbbbbbbbbbbbbbb']"
      ]
     },
     "execution_count": 21,
     "metadata": {},
     "output_type": "execute_result"
    }
   ],
   "source": [
    "re.findall(r,\"abbbbbbbbbbbbbbbbbbb\")#匹配多次"
   ]
  },
  {
   "cell_type": "code",
   "execution_count": 22,
   "metadata": {
    "collapsed": false
   },
   "outputs": [
    {
     "data": {
      "text/plain": [
       "[]"
      ]
     },
     "execution_count": 22,
     "metadata": {},
     "output_type": "execute_result"
    }
   ],
   "source": [
    "r = r\"ab+\"\n",
    "\n",
    "re.findall(r,\"a\")#匹配零次是不行"
   ]
  },
  {
   "cell_type": "code",
   "execution_count": 23,
   "metadata": {
    "collapsed": false
   },
   "outputs": [
    {
     "data": {
      "text/plain": [
       "['abbbbbb']"
      ]
     },
     "execution_count": 23,
     "metadata": {},
     "output_type": "execute_result"
    }
   ],
   "source": [
    "re.findall(r,\"abbbbbb\")"
   ]
  },
  {
   "cell_type": "code",
   "execution_count": 26,
   "metadata": {
    "collapsed": false
   },
   "outputs": [
    {
     "data": {
      "text/plain": [
       "['010-87654321']"
      ]
     },
     "execution_count": 26,
     "metadata": {},
     "output_type": "execute_result"
    }
   ],
   "source": [
    "r = r\"^010-?\\d{8}\"#中间的-可有可无\n",
    "\n",
    "re.findall(r,\"010-87654321\")"
   ]
  },
  {
   "cell_type": "code",
   "execution_count": 27,
   "metadata": {
    "collapsed": false
   },
   "outputs": [
    {
     "data": {
      "text/plain": [
       "['01087654321']"
      ]
     },
     "execution_count": 27,
     "metadata": {},
     "output_type": "execute_result"
    }
   ],
   "source": [
    "re.findall(r,\"01087654321\")"
   ]
  },
  {
   "cell_type": "markdown",
   "metadata": {},
   "source": [
    "正则表达式有两种模式：贪婪模式和非贪婪模式，贪婪模式就是最大匹配，非贪婪模式就是最小匹配，下面是例子"
   ]
  },
  {
   "cell_type": "code",
   "execution_count": 28,
   "metadata": {
    "collapsed": false
   },
   "outputs": [
    {
     "data": {
      "text/plain": [
       "['abbbbbbbbbbbbbbbbbbb']"
      ]
     },
     "execution_count": 28,
     "metadata": {},
     "output_type": "execute_result"
    }
   ],
   "source": [
    "r = r\"ab+\"#贪婪模式，最大匹配\n",
    "re.findall(r,\"abbbbbbbbbbbbbbbbbbb\")"
   ]
  },
  {
   "cell_type": "code",
   "execution_count": 29,
   "metadata": {
    "collapsed": false
   },
   "outputs": [
    {
     "data": {
      "text/plain": [
       "['ab']"
      ]
     },
     "execution_count": 29,
     "metadata": {},
     "output_type": "execute_result"
    }
   ],
   "source": [
    "r = r\"ab+?\"#非贪婪模式，最小匹配\n",
    "re.findall(r,\"abbbbbbbbbbbbbbbbbbb\")"
   ]
  },
  {
   "cell_type": "markdown",
   "metadata": {},
   "source": [
    "- **{m,n}**\n",
    "    - 其中m和n是十进制整数，该限定符的意思是至少有m个重复，至多有n个重复\n",
    "    - 忽略m会认为下边界是0，而忽略n的结果是上边界无穷大（20亿）\n",
    "    - {0，}等同于**`*`**，{1，}等同于**+**，而{0,1}泽宇**？**相同。"
   ]
  },
  {
   "cell_type": "code",
   "execution_count": 30,
   "metadata": {
    "collapsed": false
   },
   "outputs": [
    {
     "data": {
      "text/plain": [
       "['aa']"
      ]
     },
     "execution_count": 30,
     "metadata": {},
     "output_type": "execute_result"
    }
   ],
   "source": [
    "r = r\"a{1,3}\"\n",
    "\n",
    "re.findall(r,\"aa\")"
   ]
  },
  {
   "cell_type": "markdown",
   "metadata": {},
   "source": [
    "### 使用正则表达式\n",
    "- re模块提供了一个正则表达式引擎的接口，可以使我们将REstring编译成对象并用他们来进行匹配\n",
    ">如果我们经常使用某个正则表达式，可以对他进行编译,使用re.compile函数"
   ]
  },
  {
   "cell_type": "code",
   "execution_count": 31,
   "metadata": {
    "collapsed": false
   },
   "outputs": [
    {
     "data": {
      "text/plain": [
       "re.compile(r'\\d{3,4}-?\\d{8}', re.UNICODE)"
      ]
     },
     "execution_count": 31,
     "metadata": {},
     "output_type": "execute_result"
    }
   ],
   "source": [
    "#编译正则表达式\n",
    "import re\n",
    "\n",
    "r1 = r\"\\d{3,4}-?\\d{8}\"\n",
    "\n",
    "p_tel = re.compile(r1)\n",
    "p_tel"
   ]
  },
  {
   "cell_type": "code",
   "execution_count": 32,
   "metadata": {
    "collapsed": false
   },
   "outputs": [
    {
     "data": {
      "text/plain": [
       "['010-12345678']"
      ]
     },
     "execution_count": 32,
     "metadata": {},
     "output_type": "execute_result"
    }
   ],
   "source": [
    "p_tel.findall(\"010-12345678\")"
   ]
  },
  {
   "cell_type": "code",
   "execution_count": 34,
   "metadata": {
    "collapsed": false
   },
   "outputs": [
    {
     "data": {
      "text/plain": [
       "['cSvT']"
      ]
     },
     "execution_count": 34,
     "metadata": {},
     "output_type": "execute_result"
    }
   ],
   "source": [
    "#编译一个不区分大小写的正则表达式,使用到一个参数re.I\n",
    "csvt_re = re.compile(r\"csvt\",re.I)\n",
    "\n",
    "csvt_re.findall(\"cSvT\")"
   ]
  },
  {
   "cell_type": "markdown",
   "metadata": {},
   "source": [
    "- 执行匹配\n",
    "    - ·RegexObject·实例有一些方法和属性，完整的列表可查阅Python Library reference\n",
    "    \n",
    "|方法/属性|作用|\n",
    "|:-------:|:----|\n",
    "|match()|    决定RE是否在字符串岗开始的位置匹配|\n",
    "|search()|    扫描字符串，找到RE匹配的位置|\n",
    "|findall()|  找到RE匹配的所有字符串，并把他们组为一个列表返回|\n",
    "|finditer()|找到RE匹配的所有字符串，并把他们组为一个迭代器返回|\n",
    "\n",
    ">如果没有匹配到的话，macth()和search()将返回None"
   ]
  },
  {
   "cell_type": "code",
   "execution_count": 35,
   "metadata": {
    "collapsed": false
   },
   "outputs": [
    {
     "data": {
      "text/plain": [
       "<_sre.SRE_Match object; span=(0, 4), match='csvt'>"
      ]
     },
     "execution_count": 35,
     "metadata": {},
     "output_type": "execute_result"
    }
   ],
   "source": [
    "csvt_re.match(\"csvt hello\")#返回一个对象"
   ]
  },
  {
   "cell_type": "code",
   "execution_count": 36,
   "metadata": {
    "collapsed": false
   },
   "outputs": [
    {
     "data": {
      "text/plain": [
       "<_sre.SRE_Match object; span=(0, 4), match='csvt'>"
      ]
     },
     "execution_count": 36,
     "metadata": {},
     "output_type": "execute_result"
    }
   ],
   "source": [
    "csvt_re.search(\"csvt hello\")#返回一个对象"
   ]
  },
  {
   "cell_type": "code",
   "execution_count": 37,
   "metadata": {
    "collapsed": false
   },
   "outputs": [
    {
     "data": {
      "text/plain": [
       "<callable_iterator at 0x447c908>"
      ]
     },
     "execution_count": 37,
     "metadata": {},
     "output_type": "execute_result"
    }
   ],
   "source": [
    "csvt_re.finditer(\"csvt hello\")#返回一个对象"
   ]
  },
  {
   "cell_type": "markdown",
   "metadata": {},
   "source": [
    "- 模块顶级函数\n",
    "    - re模块也提供了顶级函数如match()、search()、sub()、subn()、spilt()、findall()函数等"
   ]
  },
  {
   "cell_type": "code",
   "execution_count": 44,
   "metadata": {
    "collapsed": false
   },
   "outputs": [
    {
     "name": "stdout",
     "output_type": "stream",
     "text": [
      "Help on function sub in module re:\n",
      "\n",
      "sub(pattern, repl, string, count=0, flags=0)\n",
      "    Return the string obtained by replacing the leftmost\n",
      "    non-overlapping occurrences of the pattern in string by the\n",
      "    replacement repl.  repl can be either a string or a callable;\n",
      "    if a string, backslash escapes in it are processed.  If it is\n",
      "    a callable, it's passed the match object and must return\n",
      "    a replacement string to be used.\n",
      "\n"
     ]
    }
   ],
   "source": [
    "help(re.sub)"
   ]
  },
  {
   "cell_type": "code",
   "execution_count": 43,
   "metadata": {
    "collapsed": false
   },
   "outputs": [
    {
     "data": {
      "text/plain": [
       "'python python python cccc'"
      ]
     },
     "execution_count": 43,
     "metadata": {},
     "output_type": "execute_result"
    }
   ],
   "source": [
    "rs = r\"c..t\"\n",
    "\n",
    "re.sub(rs,\"python\",\"csvt caat cvvt cccc\")"
   ]
  },
  {
   "cell_type": "code",
   "execution_count": 45,
   "metadata": {
    "collapsed": false
   },
   "outputs": [
    {
     "data": {
      "text/plain": [
       "('python python python cccc', 3)"
      ]
     },
     "execution_count": 45,
     "metadata": {},
     "output_type": "execute_result"
    }
   ],
   "source": [
    "re.subn(rs,\"python\",\"csvt caat cvvt cccc\")"
   ]
  },
  {
   "cell_type": "code",
   "execution_count": 46,
   "metadata": {
    "collapsed": false
   },
   "outputs": [
    {
     "data": {
      "text/plain": [
       "['192', '168', '1', '1']"
      ]
     },
     "execution_count": 46,
     "metadata": {},
     "output_type": "execute_result"
    }
   ],
   "source": [
    "ip = \"192.168.1.1\"\n",
    "\n",
    "ip.split('.')#切分字符串"
   ]
  },
  {
   "cell_type": "code",
   "execution_count": 48,
   "metadata": {
    "collapsed": false
   },
   "outputs": [
    {
     "data": {
      "text/plain": [
       "['123', '456', '789', '000']"
      ]
     },
     "execution_count": 48,
     "metadata": {},
     "output_type": "execute_result"
    }
   ],
   "source": [
    "s = \"123+456-789*000\"\n",
    "\n",
    "re.split(r\"[\\+\\-\\*]\",s)"
   ]
  },
  {
   "cell_type": "markdown",
   "metadata": {},
   "source": [
    "- 编译标志-flags\n",
    "\n",
    "|标志|含义|\n",
    "|:---:|:---|\n",
    "|DOTALL,S|使**.**匹配包括换行在内的所有字符|\n",
    "|IGNORECASE,I|是匹配对大小写不敏感|\n",
    "|LOCALE,L|使本地化识别（local-aware）匹配|\n",
    "|MULTILINE,M|多行匹配，影响**`^`**和**`$`**|\n",
    "|VERBOSE,X|能使用REs的verbose状态，使之被组织的更清晰易懂|"
   ]
  },
  {
   "cell_type": "code",
   "execution_count": 54,
   "metadata": {
    "collapsed": false
   },
   "outputs": [
    {
     "data": {
      "text/plain": [
       "[]"
      ]
     },
     "execution_count": 54,
     "metadata": {},
     "output_type": "execute_result"
    }
   ],
   "source": [
    "import re\n",
    "\n",
    "r1 = r\"csvt.net\"\n",
    "\n",
    "re.findall(r1,\"csvt\\nnet\")"
   ]
  },
  {
   "cell_type": "code",
   "execution_count": 53,
   "metadata": {
    "collapsed": false
   },
   "outputs": [
    {
     "data": {
      "text/plain": [
       "['csvt\\nnet']"
      ]
     },
     "execution_count": 53,
     "metadata": {},
     "output_type": "execute_result"
    }
   ],
   "source": [
    "re.findall(r1,\"csvt\\nnet\",re.S)"
   ]
  },
  {
   "cell_type": "code",
   "execution_count": 60,
   "metadata": {
    "collapsed": false
   },
   "outputs": [
    {
     "data": {
      "text/plain": [
       "['csvt']"
      ]
     },
     "execution_count": 60,
     "metadata": {},
     "output_type": "execute_result"
    }
   ],
   "source": [
    "s = \"\"\"hello csvt\n",
    "csvt hello\n",
    "hello python\n",
    "\"\"\"\n",
    "r = r\"^csvt\"\n",
    "\n",
    "re.findall(r,s,re.M)#多行匹配"
   ]
  },
  {
   "cell_type": "code",
   "execution_count": 63,
   "metadata": {
    "collapsed": false
   },
   "outputs": [
    {
     "data": {
      "text/plain": [
       "['010-12345678']"
      ]
     },
     "execution_count": 63,
     "metadata": {},
     "output_type": "execute_result"
    }
   ],
   "source": [
    "tel = r\"\"\"\n",
    "\\d{3,4}\n",
    "-?\n",
    "\\d{8}\n",
    "\"\"\"\n",
    "re.findall(tel,\"010-12345678\",re.VERBOSE)"
   ]
  },
  {
   "cell_type": "markdown",
   "metadata": {},
   "source": [
    "- 分组“（”和“）”"
   ]
  },
  {
   "cell_type": "code",
   "execution_count": 64,
   "metadata": {
    "collapsed": false
   },
   "outputs": [
    {
     "data": {
      "text/plain": [
       "<_sre.SRE_Match object; span=(0, 12), match='zzz@csvt.com'>"
      ]
     },
     "execution_count": 64,
     "metadata": {},
     "output_type": "execute_result"
    }
   ],
   "source": [
    "email = r\"\\w{3}@\\w+(.com|.cn)\"\n",
    "\n",
    "re.match(email,\"zzz@csvt.com\")"
   ]
  },
  {
   "cell_type": "code",
   "execution_count": 65,
   "metadata": {
    "collapsed": false
   },
   "outputs": [
    {
     "data": {
      "text/plain": [
       "['.com']"
      ]
     },
     "execution_count": 65,
     "metadata": {},
     "output_type": "execute_result"
    }
   ],
   "source": [
    "re.findall(email,\"zzz@csvt.com\")#findall优先输出分组中的匹配"
   ]
  },
  {
   "cell_type": "code",
   "execution_count": null,
   "metadata": {
    "collapsed": true
   },
   "outputs": [],
   "source": []
  }
 ],
 "metadata": {
  "kernelspec": {
   "display_name": "Python 3",
   "language": "python",
   "name": "python3"
  },
  "language_info": {
   "codemirror_mode": {
    "name": "ipython",
    "version": 3
   },
   "file_extension": ".py",
   "mimetype": "text/x-python",
   "name": "python",
   "nbconvert_exporter": "python",
   "pygments_lexer": "ipython3",
   "version": "3.5.1"
  }
 },
 "nbformat": 4,
 "nbformat_minor": 0
}
