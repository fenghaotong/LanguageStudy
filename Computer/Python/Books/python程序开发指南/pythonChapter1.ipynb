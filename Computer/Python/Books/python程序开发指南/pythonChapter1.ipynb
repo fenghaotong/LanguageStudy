{
 "cells": [
  {
   "cell_type": "markdown",
   "metadata": {
    "collapsed": true
   },
   "source": [
    "# python第一章学习（补充）"
   ]
  },
  {
   "cell_type": "markdown",
   "metadata": {},
   "source": [
    "## python的关键要素\n",
    "Python的8个关键要素\n",
    "\n",
    "- [x] 要素1：数据类型\n",
    "\n",
    "- [x] 要素2：对象引用\n",
    "\n",
    "- [x] 要素3：组合数据类型\n",
    "\n",
    "- [x] 要素4：逻辑操作符\n",
    "\n",
    "- [x] 要素5：控制流语句\n",
    "\n",
    "- [x] 要素6：算术操作符\n",
    "\n",
    "- [ ] 要素7：输入、输出\n",
    "\n",
    "- [ ] 要素8：函数的创建与调用"
   ]
  },
  {
   "cell_type": "markdown",
   "metadata": {},
   "source": [
    "### 数据类型\n",
    "任何程序语言呢都必须能完成的基本任务是表示数据项，python提供了几种内置的数据类型，现在我们关注两种：int和str。\n",
    "\n",
    "python所能表示的整数大小只受限于机器内存，而非固定数量的字数。\n",
    "\n",
    "字符串可以使用双引号或者单引号封装--只要字符串头尾使用的而符号对称。\n",
    "\n",
    "str类型与基本的数值类型（比如int）都是固定的。\n",
    "\n",
    "如果需要将一个数据项从某种类型转换为另一种类型，可以使用语法datatype（item）。例如"
   ]
  },
  {
   "cell_type": "code",
   "execution_count": 1,
   "metadata": {
    "collapsed": false
   },
   "outputs": [
    {
     "data": {
      "text/plain": [
       "45"
      ]
     },
     "execution_count": 1,
     "metadata": {},
     "output_type": "execute_result"
    }
   ],
   "source": [
    "int(\"45\")"
   ]
  },
  {
   "cell_type": "code",
   "execution_count": 2,
   "metadata": {
    "collapsed": false
   },
   "outputs": [
    {
     "data": {
      "text/plain": [
       "'912'"
      ]
     },
     "execution_count": 2,
     "metadata": {},
     "output_type": "execute_result"
    }
   ],
   "source": [
    "str(912)"
   ]
  },
  {
   "cell_type": "markdown",
   "metadata": {},
   "source": [
    "### 对象引用\n",
    "先看一个例子：      \n",
    "x = \"blue\"     \n",
    "y =  \"green\"    \n",
    "z = x      \n",
    "- 在上面的几条语句中，语法都会很简单的objectReference = value。这里不需要预先的声明语句，也没有必要指定值的类型。执行上面第一条语句是，python就会创建一个str对象，其文本是“blue”，同时创建了一个名为x的对象引用，x引用的就是这个str对象；第二条一样；第三条语句创建了一个名为z的新对象引用并将其设置为对象引用x所指向的相同对象。\n",
    "\n",
    "\n",
    "- 用于对象引用的名称（标识符）有一些限制，尤其是不能与任何Python关键字相同，并且必须以字母或下划线引导，其后跟随0个或多个非空格字符、下划线或者数字。表示符没有长度限制\n",
    "\n",
    "- python使用“动态类型”机制，也就是说，某个对象可以重新引用一个不同的对象（可以使不同的数据类型），但只允许与某种特定的数据类型绑定的操作。"
   ]
  },
  {
   "cell_type": "code",
   "execution_count": 3,
   "metadata": {
    "collapsed": false
   },
   "outputs": [
    {
     "name": "stdout",
     "output_type": "stream",
     "text": [
      "866 <class 'int'>\n",
      "North <class 'str'>\n"
     ]
    }
   ],
   "source": [
    "route = 866\n",
    "print(route,type(route))\n",
    "route = \"North\"\n",
    "print(route,type(route))"
   ]
  },
  {
   "cell_type": "markdown",
   "metadata": {},
   "source": [
    "刚开始创建了一个route的对象引用，将其设置为引用一个新的int型数据866，这时候对于route，我们可以使用“/”,因为除法对整数而言是一个有效的操作符。之后我们重用了route这一对象引用，用它引用了一个str变量，int进入垃圾收集流程。如果此时在使用“/”,就会导致产生一个TypeError，因为对字符串而言，“/”不是一个有效的操作符。"
   ]
  },
  {
   "cell_type": "markdown",
   "metadata": {},
   "source": [
    "### 组合数据类型\n",
    "python提供了几种组合数据类型，我们讨论一下：元组和列表\n",
    "\n",
    "python元组与列表可用于存储任意数量、任意类型的数据项。\n",
    "\n",
    "元组是固定的，创建之后不能改变；列表是可变的，在需要的时候，可以插入或移除数据。"
   ]
  },
  {
   "cell_type": "code",
   "execution_count": 4,
   "metadata": {
    "collapsed": false
   },
   "outputs": [
    {
     "data": {
      "text/plain": [
       "('denmark', 'finland', 'norway', 'sweden')"
      ]
     },
     "execution_count": 4,
     "metadata": {},
     "output_type": "execute_result"
    }
   ],
   "source": [
    "# 元组用逗号创建\n",
    "\"denmark\",\"finland\",\"norway\",\"sweden\""
   ]
  },
  {
   "cell_type": "code",
   "execution_count": 5,
   "metadata": {
    "collapsed": false
   },
   "outputs": [
    {
     "data": {
      "text/plain": [
       "('one',)"
      ]
     },
     "execution_count": 5,
     "metadata": {},
     "output_type": "execute_result"
    }
   ],
   "source": [
    "\"one\","
   ]
  },
  {
   "cell_type": "code",
   "execution_count": 7,
   "metadata": {
    "collapsed": false
   },
   "outputs": [
    {
     "data": {
      "text/plain": [
       "['zebra', 49, -879, 'aardvark', 200, 'more']"
      ]
     },
     "execution_count": 7,
     "metadata": {},
     "output_type": "execute_result"
    }
   ],
   "source": [
    "#列表可以使用[]创建\n",
    "x = [\"zebra\",49,-879,\"aardvark\",200]\n",
    "#append()方法可以添加对象\n",
    "x.append(\"more\")\n",
    "x"
   ]
  },
  {
   "cell_type": "markdown",
   "metadata": {},
   "source": [
    "- 对象x知道自身是一个list（所有的python对象都知道自身的数据类型），因此不需要明确的指定数据类型。所以使用列表的append（）方法也可以完成同样的功能："
   ]
  },
  {
   "cell_type": "code",
   "execution_count": 8,
   "metadata": {
    "collapsed": false
   },
   "outputs": [
    {
     "data": {
      "text/plain": [
       "['zebra', 49, -879, 'aardvark', 200, 'more', 'extra']"
      ]
     },
     "execution_count": 8,
     "metadata": {},
     "output_type": "execute_result"
    }
   ],
   "source": [
    "list.append(x,\"extra\")\n",
    "x"
   ]
  },
  {
   "cell_type": "markdown",
   "metadata": {},
   "source": [
    "- list类型还有很多其他的方法，包括insert（）方法，该方法用于在某给定的索引位置插入数据项；remove（）方法，该方法用于移除某给定索引位置上的数据项，python的索引总是以0开始的，列表本身也是一种序列，我们可以使用方括号操作符从字符串中获得某个字符，并且该操作符可用于任何序列，因此，可以对其进行如下操作："
   ]
  },
  {
   "cell_type": "code",
   "execution_count": 9,
   "metadata": {
    "collapsed": false
   },
   "outputs": [
    {
     "data": {
      "text/plain": [
       "'zebra'"
      ]
     },
     "execution_count": 9,
     "metadata": {},
     "output_type": "execute_result"
    }
   ],
   "source": [
    "x[0]"
   ]
  },
  {
   "cell_type": "code",
   "execution_count": 10,
   "metadata": {
    "collapsed": false
   },
   "outputs": [
    {
     "data": {
      "text/plain": [
       "200"
      ]
     },
     "execution_count": 10,
     "metadata": {},
     "output_type": "execute_result"
    }
   ],
   "source": [
    "x[4]"
   ]
  },
  {
   "cell_type": "code",
   "execution_count": 11,
   "metadata": {
    "collapsed": false
   },
   "outputs": [
    {
     "data": {
      "text/plain": [
       "['zebra', 'forty nine', -879, 'aardvark', 200, 'more', 'extra']"
      ]
     },
     "execution_count": 11,
     "metadata": {},
     "output_type": "execute_result"
    }
   ],
   "source": [
    "x[1] = \"forty nine\"\n",
    "x"
   ]
  },
  {
   "cell_type": "markdown",
   "metadata": {},
   "source": [
    "### 逻辑操作符\n",
    "任何一种程序设计语言的一个基本功能都是其逻辑运算，下面是python中的4组逻辑运算\n",
    "#### 身份操作符\n",
    "身份操作符，is操作符是一个二元操作符，如果左右两端同指一个对象，则返回true，is not是对身份测试的反向测试\n"
   ]
  },
  {
   "cell_type": "code",
   "execution_count": 14,
   "metadata": {
    "collapsed": false
   },
   "outputs": [
    {
     "data": {
      "text/plain": [
       "False"
      ]
     },
     "execution_count": 14,
     "metadata": {},
     "output_type": "execute_result"
    }
   ],
   "source": [
    "a = [\"retention\",3,None]\n",
    "b = [\"retention\",3,None]\n",
    "a is b"
   ]
  },
  {
   "cell_type": "code",
   "execution_count": 15,
   "metadata": {
    "collapsed": false
   },
   "outputs": [
    {
     "data": {
      "text/plain": [
       "True"
      ]
     },
     "execution_count": 15,
     "metadata": {},
     "output_type": "execute_result"
    }
   ],
   "source": [
    "b = a\n",
    "a is b"
   ]
  },
  {
   "cell_type": "code",
   "execution_count": 16,
   "metadata": {
    "collapsed": false
   },
   "outputs": [
    {
     "data": {
      "text/plain": [
       "(True, True)"
      ]
     },
     "execution_count": 16,
     "metadata": {},
     "output_type": "execute_result"
    }
   ],
   "source": [
    "a = \"something\"\n",
    "b = None\n",
    "a is not None,b is None"
   ]
  },
  {
   "cell_type": "markdown",
   "metadata": {},
   "source": [
    "#### 比较操作符\n",
    "比较操作符有<，<=，==，>=，>\n",
    "这些操作符对对象值进行比较"
   ]
  },
  {
   "cell_type": "code",
   "execution_count": 18,
   "metadata": {
    "collapsed": false
   },
   "outputs": [
    {
     "data": {
      "text/plain": [
       "False"
      ]
     },
     "execution_count": 18,
     "metadata": {},
     "output_type": "execute_result"
    }
   ],
   "source": [
    "a = 2\n",
    "b = 6\n",
    "a == b\n"
   ]
  },
  {
   "cell_type": "code",
   "execution_count": 19,
   "metadata": {
    "collapsed": false
   },
   "outputs": [
    {
     "data": {
      "text/plain": [
       "True"
      ]
     },
     "execution_count": 19,
     "metadata": {},
     "output_type": "execute_result"
    }
   ],
   "source": [
    "a < b"
   ]
  },
  {
   "cell_type": "code",
   "execution_count": 20,
   "metadata": {
    "collapsed": false
   },
   "outputs": [
    {
     "data": {
      "text/plain": [
       "(True, True, False, False)"
      ]
     },
     "execution_count": 20,
     "metadata": {},
     "output_type": "execute_result"
    }
   ],
   "source": [
    "a <= b,a != b,a >= b,a > b"
   ]
  },
  {
   "cell_type": "code",
   "execution_count": 21,
   "metadata": {
    "collapsed": false
   },
   "outputs": [
    {
     "data": {
      "text/plain": [
       "False"
      ]
     },
     "execution_count": 21,
     "metadata": {},
     "output_type": "execute_result"
    }
   ],
   "source": [
    "a = [\"retention\",3,None]\n",
    "b = [\"retention\",3,None]\n",
    "a is b"
   ]
  },
  {
   "cell_type": "code",
   "execution_count": 22,
   "metadata": {
    "collapsed": false
   },
   "outputs": [
    {
     "data": {
      "text/plain": [
       "True"
      ]
     },
     "execution_count": 22,
     "metadata": {},
     "output_type": "execute_result"
    }
   ],
   "source": [
    "a == b#a和b虽为不同的对象，但具有相同的值，因此比较结果相同"
   ]
  },
  {
   "cell_type": "markdown",
   "metadata": {},
   "source": [
    "#### 成员操作符\n",
    "我们可以用操作符in来测试成员关系，用not in来测试非成员关系"
   ]
  },
  {
   "cell_type": "code",
   "execution_count": 24,
   "metadata": {
    "collapsed": false
   },
   "outputs": [
    {
     "data": {
      "text/plain": [
       "True"
      ]
     },
     "execution_count": 24,
     "metadata": {},
     "output_type": "execute_result"
    }
   ],
   "source": [
    "p = (4,\"frog\",9,-33,9,2)\n",
    "2 in p"
   ]
  },
  {
   "cell_type": "code",
   "execution_count": 25,
   "metadata": {
    "collapsed": false
   },
   "outputs": [
    {
     "data": {
      "text/plain": [
       "True"
      ]
     },
     "execution_count": 25,
     "metadata": {},
     "output_type": "execute_result"
    }
   ],
   "source": [
    "\"dog\" not in p"
   ]
  },
  {
   "cell_type": "markdown",
   "metadata": {},
   "source": [
    "#### 逻辑操作符\n",
    "python提供了3个逻辑运算符：and、or和not"
   ]
  },
  {
   "cell_type": "markdown",
   "metadata": {},
   "source": [
    "### 控制流语句\n",
    "- if语句\n",
    "- while语句\n",
    "- for...in语句     \n",
    "在python中，一块代码，也就是说一条或多条语句组成的序列，称为suite，由于python中的某些语法要求存在suite，python就提供了关键字pass，pass实际上是一条空语句，不进行任何操作，可以用在需要suite但又不需要进行处理的地方。"
   ]
  },
  {
   "cell_type": "markdown",
   "metadata": {},
   "source": [
    "#### if语句\n",
    "python的常规if语句语法如下 \n",
    "```\n",
    "if boolean_expression1:     \n",
    "    suite1     \n",
    "elif boolean_expression2:       \n",
    "    suite2           \n",
    "...               \n",
    "elif boolean_expressionN:              \n",
    "    suiteN           \n",
    "else:            \n",
    "    else_suite  \n",
    "```\n",
    "与if语句对应可以有0个或者对个elif分支，最后的else分支是可选的，如果需要考虑某个特定的情况，但又不需要在这种情况发生时进行处理，那么可以使用pass作为该分支的suite"
   ]
  },
  {
   "cell_type": "markdown",
   "metadata": {},
   "source": [
    "#### while语句\n",
    "while语句用于0次或多次执行某个suite，循环执行的次数取决于while循环中布尔表达式的状态，下面是其语法格式：    \n",
    "```\n",
    "while boolean_expression:\n",
    "    suite\n",
    "```\n",
    "while循环完整语法比上面的要复杂的多，因为其中还支持break与continue，还包括可选的else分支，break的作用是将控制流导向到break所在的内循环--也就是说跳出循环；continue语句的作用是将控制流导向到循环起始处，通常这两个都用在if语句内部。\n",
    "```\n",
    "while True:\n",
    "    item = get_next_item()\n",
    "    if not item:\n",
    "        break\n",
    "    process_item(item)\n",
    "```"
   ]
  },
  {
   "cell_type": "markdown",
   "metadata": {},
   "source": [
    "#### for...in语句\n",
    "python的for循环语句重用了关键字in（在其上下文中，in是一个成员操作符），并使用如下的语法格式：    \n",
    "```\n",
    "for variable in iterable:\n",
    "    suite\n",
    "```\n",
    "for也支持break与continue语句，也包含可选的else分支，variable将逐一引用iterable中的每个对象，iterable是可以迭代的任意数据类型，包括字符串、列表、元组以及python的其他组合数据类型"
   ]
  },
  {
   "cell_type": "code",
   "execution_count": 26,
   "metadata": {
    "collapsed": false
   },
   "outputs": [
    {
     "name": "stdout",
     "output_type": "stream",
     "text": [
      "Denmark\n",
      "Finland\n",
      "Norway\n",
      "Sweden\n"
     ]
    }
   ],
   "source": [
    "for country in [\"Denmark\",\"Finland\",\"Norway\",\"Sweden\"]:\n",
    "    print(country)"
   ]
  },
  {
   "cell_type": "code",
   "execution_count": 27,
   "metadata": {
    "collapsed": false
   },
   "outputs": [
    {
     "name": "stdout",
     "output_type": "stream",
     "text": [
      "A is a voowel\n",
      "B is a consonant\n",
      "C is a consonant\n",
      "D is a consonant\n",
      "E is a voowel\n",
      "F is a consonant\n",
      "G is a consonant\n",
      "H is a consonant\n",
      "I is a voowel\n",
      "J is a consonant\n",
      "K is a consonant\n",
      "L is a consonant\n",
      "M is a consonant\n",
      "N is a consonant\n",
      "O is a voowel\n",
      "P is a consonant\n",
      "Q is a consonant\n",
      "R is a consonant\n",
      "S is a consonant\n",
      "T is a consonant\n",
      "U is a voowel\n",
      "V is a consonant\n",
      "W is a consonant\n",
      "X is a consonant\n",
      "Y is a consonant\n",
      "Z is a consonant\n"
     ]
    }
   ],
   "source": [
    "for letter in \"ABCDEFGHIJKLMNOPQRSTUVWXYZ\":\n",
    "    if letter in \"AEIOU\":\n",
    "        print(letter,\"is a voowel\")\n",
    "    else:\n",
    "        print(letter,\"is a consonant\")"
   ]
  },
  {
   "cell_type": "markdown",
   "metadata": {},
   "source": [
    "### 算术运算符\n",
    "Python提供了完整的算术运算符集，包括用于基本四则运算的操作符+，-，\\*，/。此外也可以使用一些增强的赋值操作符，如+=与\\*=。在操作数都为整数时，以上操作符分别按正常的加，减，乘，除运算："
   ]
  },
  {
   "cell_type": "code",
   "execution_count": 28,
   "metadata": {
    "collapsed": false
   },
   "outputs": [
    {
     "data": {
      "text/plain": [
       "11"
      ]
     },
     "execution_count": 28,
     "metadata": {},
     "output_type": "execute_result"
    }
   ],
   "source": [
    "5 + 6"
   ]
  },
  {
   "cell_type": "code",
   "execution_count": 29,
   "metadata": {
    "collapsed": false
   },
   "outputs": [
    {
     "data": {
      "text/plain": [
       "24"
      ]
     },
     "execution_count": 29,
     "metadata": {},
     "output_type": "execute_result"
    }
   ],
   "source": [
    "3 * 8"
   ]
  },
  {
   "cell_type": "code",
   "execution_count": 31,
   "metadata": {
    "collapsed": false
   },
   "outputs": [
    {
     "data": {
      "text/plain": [
       "3.0"
      ]
     },
     "execution_count": 31,
     "metadata": {},
     "output_type": "execute_result"
    }
   ],
   "source": [
    "12 / 4"
   ]
  },
  {
   "cell_type": "code",
   "execution_count": 32,
   "metadata": {
    "collapsed": false
   },
   "outputs": [
    {
     "data": {
      "text/plain": [
       "13"
      ]
     },
     "execution_count": 32,
     "metadata": {},
     "output_type": "execute_result"
    }
   ],
   "source": [
    "a = 5\n",
    "a += 8\n",
    "a"
   ]
  },
  {
   "cell_type": "markdown",
   "metadata": {},
   "source": [
    "看到这里会看到python与一般程序语言不同的地方，除法操作符会产生一个浮点值，而不是一个整数值。\n",
    "\n",
    "我们需要记住的一点是,int数据类型是固定的，一旦赋值就不能改变，上例中在执行a += 8时，python计算a + 8，将结果存储在新的int对象，之后将a重新绑定为引用这个新的int对象。\n",
    "\n",
    "python重载了操作符+和+=，将其分别用于字符串与列表，前者表示连接，后者表示追加字符串并扩展列表"
   ]
  },
  {
   "cell_type": "code",
   "execution_count": 33,
   "metadata": {
    "collapsed": false
   },
   "outputs": [
    {
     "data": {
      "text/plain": [
       "'JohnDoe'"
      ]
     },
     "execution_count": 33,
     "metadata": {},
     "output_type": "execute_result"
    }
   ],
   "source": [
    "name = \"John\"\n",
    "name + \"Doe\""
   ]
  },
  {
   "cell_type": "code",
   "execution_count": 36,
   "metadata": {
    "collapsed": false
   },
   "outputs": [
    {
     "data": {
      "text/plain": [
       "'JohnDoeDoeDoe'"
      ]
     },
     "execution_count": 36,
     "metadata": {},
     "output_type": "execute_result"
    }
   ],
   "source": [
    "name += \"Doe\"\n",
    "name"
   ]
  },
  {
   "cell_type": "code",
   "execution_count": 37,
   "metadata": {
    "collapsed": false
   },
   "outputs": [
    {
     "data": {
      "text/plain": [
       "['sesame', 'sunflower', 'punpkin']"
      ]
     },
     "execution_count": 37,
     "metadata": {},
     "output_type": "execute_result"
    }
   ],
   "source": [
    "seeds = [\"sesame\",\"sunflower\"]\n",
    "seeds += [\"punpkin\"]\n",
    "seeds"
   ]
  },
  {
   "cell_type": "code",
   "execution_count": 38,
   "metadata": {
    "collapsed": false
   },
   "outputs": [
    {
     "data": {
      "text/plain": [
       "['sesame', 'sunflower', 'punpkin', 'd', 'u', 'r', 'i', 'a', 'n']"
      ]
     },
     "execution_count": 38,
     "metadata": {},
     "output_type": "execute_result"
    }
   ],
   "source": [
    "seeds += \"durian\"#添加一个普通的字符串\n",
    "seeds"
   ]
  },
  {
   "cell_type": "markdown",
   "metadata": {},
   "source": [
    "### 输入、输出\n",
    "python 提供了内置的input（）函数，用于接收来自用户的输入，这一函数需要一个可选的字符串参数，之后等待用户输入响应信息或按enter来终止，如果用户不输入任何文本，而只是按Enter键，那么input（）函数会返回一个空字符串；否则会返回一个包含用户输入内容的字符串，而没有任何行终止符。"
   ]
  },
  {
   "cell_type": "code",
   "execution_count": 39,
   "metadata": {
    "collapsed": false
   },
   "outputs": [
    {
     "name": "stdout",
     "output_type": "stream",
     "text": [
      "Type intergers,each followed by Enter;or just Enter to finish\n",
      "interger:112\n",
      "interger:7\n",
      "interger:1x\n",
      "invalid literal for int() with base 10: '1x'\n",
      "interger:15\n",
      "interger:5\n",
      "interger:\n",
      "count =  4 total =  139 mean =  34.75\n"
     ]
    }
   ],
   "source": [
    "print(\"Type intergers,each followed by Enter;or just Enter to finish\")\n",
    "\n",
    "total = 0\n",
    "count = 0\n",
    "\n",
    "while True:\n",
    "    line = input(\"interger:\")\n",
    "    if line:\n",
    "        try:\n",
    "            number = int (line)\n",
    "        except ValueError as err:\n",
    "            print(err)\n",
    "            continue\n",
    "        total += number\n",
    "        count +=1\n",
    "    else:\n",
    "        break\n",
    "\n",
    "if count:\n",
    "    print(\"count = \",count,\"total = \",total,\"mean = \",total/count)"
   ]
  },
  {
   "cell_type": "markdown",
   "metadata": {},
   "source": [
    "#### 函数的创建与调用\n",
    "创建函数的通常语法格式：\n",
    "```\n",
    "def functionName(arguments):\n",
    "    suite\n",
    "```"
   ]
  },
  {
   "cell_type": "code",
   "execution_count": null,
   "metadata": {
    "collapsed": true
   },
   "outputs": [],
   "source": []
  },
  {
   "cell_type": "code",
   "execution_count": null,
   "metadata": {
    "collapsed": true
   },
   "outputs": [],
   "source": []
  }
 ],
 "metadata": {
  "kernelspec": {
   "display_name": "Python 3",
   "language": "python",
   "name": "python3"
  },
  "language_info": {
   "codemirror_mode": {
    "name": "ipython",
    "version": 3
   },
   "file_extension": ".py",
   "mimetype": "text/x-python",
   "name": "python",
   "nbconvert_exporter": "python",
   "pygments_lexer": "ipython3",
   "version": "3.5.1"
  }
 },
 "nbformat": 4,
 "nbformat_minor": 0
}
