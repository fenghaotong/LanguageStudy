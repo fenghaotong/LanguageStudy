{
 "cells": [
  {
   "cell_type": "markdown",
   "metadata": {},
   "source": [
    "# Python格物学习计划\n",
    "\n",
    "- [x] 准备工作\n",
    "- [ ] 使用工具\n",
    "- [ ] 万物皆对象\n",
    "- [ ] 内置基本对象1\n",
    "- [ ] 内置基本对象2\n",
    "- [ ] 流程控制\n",
    "- [ ] 函数\n",
    "- [ ] 类\n",
    "- [ ] 文件\n",
    "- [ ] 模块和包\n",
    "- [ ] 标准库\n",
    "- [ ] 应用开发\n",
    "- [ ] 编码风格\n",
    "- [ ] Python2和Python3"
   ]
  },
  {
   "cell_type": "markdown",
   "metadata": {},
   "source": [
    "## 准备工作 \n",
    "\n",
    "* 进展和计划\n",
    "    - [x] 为什么选择Python？\n",
    "    - [x] 如何学习Python？\n",
    "    - [x] Python环境构建和运行？\n",
    "    \n",
    "* 时间安排  "
   ]
  },
  {
   "cell_type": "markdown",
   "metadata": {},
   "source": [
    "## 使用工具\n",
    "\n",
    "* 进展和计划\n",
    "    - [x] 简介\n",
    "    - [x] IPython使用指南\n",
    "    - [x] Markdown使用指南\n",
    "    - [x] Jupyter Notebook使用指南\n",
    "    - [ ] Jupyter C++使用指南\n",
    "    - [x] Jupyter其它模块使用指南\n",
    "    \n",
    "* 时间安排\n",
    "    - 5月12日前完成Jupyter其它模块    \n",
    "    - 5月12日编写Makefile，自动生成LaTeX，PDF文件。\n",
    "    - 5月15日完成前两章。    "
   ]
  },
  {
   "cell_type": "markdown",
   "metadata": {},
   "source": [
    "## 万物皆对象\n",
    "\n",
    "* 进展和计划\n",
    "    - [ ] 什么是对象?\n",
    "    - [ ] 万物皆数\n",
    "    - [ ] 内置对象\n",
    "    - [ ] 动态变量\n",
    "    \n",
    "* 时间安排  "
   ]
  },
  {
   "cell_type": "markdown",
   "metadata": {},
   "source": [
    "## 内置基本对象1\n",
    "\n",
    "* 进展和计划\n",
    "    - [ ] 整数（integer）\n",
    "    - [ ] 浮点数（float）\n",
    "    - [ ] 复数（complex number）\n",
    "    - [ ] 布尔数（bool）\n",
    "\n",
    "* 时间安排      "
   ]
  },
  {
   "cell_type": "markdown",
   "metadata": {},
   "source": [
    "## 内置基本对象2\n",
    "\n",
    "* 进展和计划\n",
    "    - [ ] 字符串（string）\n",
    "    - [ ] 列表（list）\n",
    "    - [ ] 元祖（tuple）\n",
    "    - [ ] 集合（set）\n",
    "    - [ ] 字典（dict）\n",
    "\n",
    "* 时间安排          "
   ]
  },
  {
   "cell_type": "markdown",
   "metadata": {},
   "source": [
    "## 流程控制\n",
    "\n",
    "* 进展和计划\n",
    "    - [ ] if\n",
    "    - [ ] while\n",
    "    - [ ] for\n",
    "\n",
    "* 时间安排          "
   ]
  },
  {
   "cell_type": "markdown",
   "metadata": {},
   "source": [
    "## 函数\n",
    "\n",
    "* 进展和计划\n",
    "    - [ ] 字符串（string）\n",
    "    - [ ] 列表（list）    "
   ]
  },
  {
   "cell_type": "markdown",
   "metadata": {},
   "source": [
    "## 类\n",
    "\n",
    "* 进展和计划\n",
    "    - [ ] 简介\n",
    "    - [ ] 继承\n",
    "    - [ ] 多态\n",
    "\n",
    "* 时间安排          "
   ]
  },
  {
   "cell_type": "markdown",
   "metadata": {},
   "source": [
    "## 文件\n",
    "\n",
    "* 进展和计划\n",
    "    - [ ] 读写\n",
    "    - [ ] 继承\n",
    "    - [ ] 多态\n",
    "\n",
    "* 时间安排          "
   ]
  },
  {
   "cell_type": "markdown",
   "metadata": {},
   "source": [
    "## 模块和包\n",
    "\n",
    "* 进展和计划\n",
    "    - [ ] 模块\n",
    "    - [ ] 包\n",
    "    - [ ] 安装\n",
    "    - [ ] 分发\n",
    "\n",
    "* 时间安排          "
   ]
  },
  {
   "cell_type": "markdown",
   "metadata": {},
   "source": [
    "## 标准库\n",
    "\n",
    "* 进展和计划\n",
    "    - [ ] 简介\n",
    "    - [ ] 继承\n",
    "    - [ ] 多态\n",
    "\n",
    "* 时间安排          "
   ]
  },
  {
   "cell_type": "markdown",
   "metadata": {},
   "source": [
    "## 应用开发\n",
    "\n",
    "* 进展和计划\n",
    "    - [ ] Web编程\n",
    "    - [ ] GUI开发\n",
    "    - [ ] 科学计算\n",
    "    - [ ] 软件开发\n",
    "    - [ ] 系统管理    \n",
    "    - [ ] 教育\n",
    "\n",
    "* 时间安排          "
   ]
  },
  {
   "cell_type": "markdown",
   "metadata": {},
   "source": [
    "## 编码风格\n",
    "\n",
    "* 进展和计划\n",
    "    - [ ] Python编程风格\n",
    "    - [ ] 测试\n",
    "    - [ ] 版本控制\n",
    "\n",
    "* 时间安排          "
   ]
  },
  {
   "cell_type": "markdown",
   "metadata": {},
   "source": [
    "## Python2和Python3\n",
    "\n",
    "* 进展和计划\n",
    "    - [ ] 差异和变化\n",
    "    - [ ] 版本兼容\n",
    "\n",
    "* 时间安排          "
   ]
  },
  {
   "cell_type": "code",
   "execution_count": null,
   "metadata": {
    "collapsed": true
   },
   "outputs": [],
   "source": []
  }
 ],
 "metadata": {
  "kernelspec": {
   "display_name": "Python [Root]",
   "language": "python",
   "name": "Python [Root]"
  },
  "language_info": {
   "codemirror_mode": {
    "name": "ipython",
    "version": 3
   },
   "file_extension": ".py",
   "mimetype": "text/x-python",
   "name": "python",
   "nbconvert_exporter": "python",
   "pygments_lexer": "ipython3",
   "version": "3.5.1"
  }
 },
 "nbformat": 4,
 "nbformat_minor": 0
}
