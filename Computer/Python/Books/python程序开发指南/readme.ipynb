{
 "cells": [
  {
   "cell_type": "markdown",
   "metadata": {},
   "source": [
    "# Python学习\n",
    "\n",
    "- 使用课本：Python 3程序开发指南"
   ]
  },
  {
   "cell_type": "markdown",
   "metadata": {},
   "source": [
    "## 前言\n",
    "\n",
    "- Python是一种跨平台的语言，一般来说，同样的Python程序可以同时在windows平台与UNIX类平台上运行，只需要将构成Python程序的单个或多个文件复制到目标机器上，而不需要“构建”或编译（Python是解释型语言）\n",
    "\n",
    "- Python的强大功能之一是带有一个非常安全的标准库，通过该标准库，我们可以实现大量的功能，除了标准库外，还有数以千计的第三方库，其中提供了一些比标准库更强大、等复杂的功能。\n",
    "\n",
    "- 本书所讲述的方法是完全实践性的，我们要动手实践"
   ]
  },
  {
   "cell_type": "markdown",
   "metadata": {},
   "source": [
    "### 目录\n",
    "\n",
    "- [x] [python的关键要素](pythonChapter1.ipynb)\n",
    "\n",
    "- [x] [数据类型](pythonChapter2.ipynb)\n",
    "\n",
    "- [x] [组合数据类型](pythonChapter3.ipynb)\n",
    "\n",
    "- [x] [控制结构](pythonChapter4.ipynb)\n",
    "\n",
    "- [x] [函数](pythonChapter5.ipynb)\n",
    "\n",
    "- [x] [模块和包](pythonChapter6.ipynb)\n",
    "\n",
    "- [x] [面向对象方法和类](pythonChapter7.ipynb)\n",
    "\n",
    "- [x] [文件](pythonChapter8.ipynb)\n",
    "\n",
    "- [x] [正则表达式](pythonChapter9.ipynb)\n",
    "\n",
    "- [x] [错误与异常](pythonChapter10.ipynb)\n",
    "\n",
    "- [x] [网络编程](pythonChapter11.ipynb)\n",
    "\n",
    "- [x] [进程与线程](pythonChapter12.ipynb)"
   ]
  },
  {
   "cell_type": "code",
   "execution_count": null,
   "metadata": {
    "collapsed": true
   },
   "outputs": [],
   "source": []
  }
 ],
 "metadata": {
  "anaconda-cloud": {},
  "kernelspec": {
   "display_name": "Python 3",
   "language": "python",
   "name": "python3"
  },
  "language_info": {
   "codemirror_mode": {
    "name": "ipython",
    "version": 3
   },
   "file_extension": ".py",
   "mimetype": "text/x-python",
   "name": "python",
   "nbconvert_exporter": "python",
   "pygments_lexer": "ipython3",
   "version": "3.6.1"
  }
 },
 "nbformat": 4,
 "nbformat_minor": 1
}
