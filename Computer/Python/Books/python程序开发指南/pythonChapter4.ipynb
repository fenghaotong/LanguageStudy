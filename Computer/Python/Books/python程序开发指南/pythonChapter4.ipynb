{
 "cells": [
  {
   "cell_type": "markdown",
   "metadata": {},
   "source": [
    "# Python第四章\n",
    "\n",
    "## 控制结构\n",
    "\n",
    "- [x] if语句\n",
    "\n",
    "- [x] while语句\n",
    "\n",
    "- [x] for语句\n",
    "\n",
    "- [x] 逻辑\n",
    "\n",
    "- [x] 遍历序列及字典\n",
    "\n",
    "- [x] 循环控制\n",
    "\n",
    "- [x] 异常处理"
   ]
  },
  {
   "cell_type": "markdown",
   "metadata": {},
   "source": [
    "### if语句\n",
    "- if语句\n",
    "    - python的if语句类似其他语言，if语句包含一个逻辑表达式，使用表达式比较，在比较的结果的基础上做出决定。\n",
    "    - ifexpression：     \n",
    "        statement（s）\n",
    ">注：python使用缩进作为其语句分组的方法，建议使用4个空格代替缩进"
   ]
  },
  {
   "cell_type": "code",
   "execution_count": 2,
   "metadata": {},
   "outputs": [
    {
     "name": "stdout",
     "output_type": "stream",
     "text": [
      "OK\n",
      "OK!OK!\n"
     ]
    }
   ],
   "source": [
    "if 1 < 2:\n",
    "    print(\"OK\")#必须缩进，没有缩进就会出现IndentationError错误\n",
    "print(\"OK!OK!\")"
   ]
  },
  {
   "cell_type": "markdown",
   "metadata": {},
   "source": [
    "- 逻辑值（bool）用来表示诸如：对于错，真与假，空与非空等概念\n",
    "- 逻辑值包含了两个值：\n",
    "    - True：表示非空的量（比如：string，tuple，list，set，dictonary等）所有非零数    \n",
    "    - False：表示0，None，空的量等    \n",
    "- 作用：主要用于判断语句中，用来判断\n",
    "    - 一个字符串是否是空的    \n",
    "    - 一个运算结果是否为零     \n",
    "    - 一个表达式是否可用\n",
    "    "
   ]
  },
  {
   "cell_type": "code",
   "execution_count": 3,
   "metadata": {},
   "outputs": [
    {
     "name": "stdout",
     "output_type": "stream",
     "text": [
      "OK\n",
      "OK!OK!\n"
     ]
    }
   ],
   "source": [
    "if 1 + 2:#非空的量\n",
    "    print(\"OK\")\n",
    "print(\"OK!OK!\")"
   ]
  },
  {
   "cell_type": "code",
   "execution_count": 4,
   "metadata": {},
   "outputs": [
    {
     "name": "stdout",
     "output_type": "stream",
     "text": [
      "OK!OK!\n"
     ]
    }
   ],
   "source": [
    "if 1 - 1:#0，None，空的量\n",
    "    print(\"OK\")\n",
    "print(\"OK!OK!\")"
   ]
  },
  {
   "cell_type": "code",
   "execution_count": 5,
   "metadata": {},
   "outputs": [
    {
     "name": "stdout",
     "output_type": "stream",
     "text": [
      "OK\n"
     ]
    }
   ],
   "source": [
    "#我们可以定义一个函数\n",
    "def fun():\n",
    "    return 1;\n",
    "if fun():\n",
    "    print(\"OK\")"
   ]
  },
  {
   "cell_type": "markdown",
   "metadata": {},
   "source": [
    "- else语句\n",
    "```\n",
    "    - if expression：     \n",
    "       statement（s）    \n",
    "     else：          \n",
    "       statement(s)     \n",
    "````\n",
    "    - 如果在条件表达式if语句解析为0或false值。else语句是一个可选的语句，并最多只能有一个else语句"
   ]
  },
  {
   "cell_type": "code",
   "execution_count": 8,
   "metadata": {},
   "outputs": [
    {
     "name": "stdout",
     "output_type": "stream",
     "text": [
      "OK\n"
     ]
    }
   ],
   "source": [
    "def fun():\n",
    "    return 1\n",
    "\n",
    "if fun():\n",
    "    print(\"OK\")    \n",
    "#print(\"#############\")\n",
    "else:\n",
    "    print(\"bad\")"
   ]
  },
  {
   "cell_type": "markdown",
   "metadata": {},
   "source": [
    "- elif语句\n",
    "```\n",
    "    - if expression：     \n",
    "        statement(s)     \n",
    "     elif expression2:      \n",
    "        statement(s)     \n",
    "     elif expression2:     \n",
    "        statement(s)     \n",
    "     else:     \n",
    "        statement(s)    \n",
    "```\n",
    "    - elif语句可以让你检查多个表达式为真值，并提供一个代码块，elif语句是可选的，可以有任意数量的elif。"
   ]
  },
  {
   "cell_type": "code",
   "execution_count": 13,
   "metadata": {},
   "outputs": [
    {
     "name": "stdout",
     "output_type": "stream",
     "text": [
      "please input :90\n",
      "please input :80\n",
      "x >= 90\n"
     ]
    }
   ],
   "source": [
    "def fun():\n",
    "    return 1\n",
    "\n",
    "x = int(input(\"please input :\"))\n",
    "y = int(input(\"please input :\"))\n",
    "\n",
    "if x >= 90:\n",
    "    if y >= 90:#if的嵌套\n",
    "        print(\"A\") \n",
    "    print(\"x >= 90\")\n",
    "#print(\"#############\")\n",
    "elif x >= 80:\n",
    "    print(\"B\")  \n",
    "elif x >= 70:\n",
    "    print(\"C\")      \n",
    "else:\n",
    "    print(\"bad\")"
   ]
  },
  {
   "cell_type": "markdown",
   "metadata": {},
   "source": [
    "- 使用and、or、not"
   ]
  },
  {
   "cell_type": "code",
   "execution_count": 15,
   "metadata": {},
   "outputs": [
    {
     "name": "stdout",
     "output_type": "stream",
     "text": [
      "please input :90\n",
      "please input :80\n",
      "B\n"
     ]
    }
   ],
   "source": [
    "def fun():\n",
    "    return 1\n",
    "\n",
    "x = int(input(\"please input :\"))\n",
    "y = int(input(\"please input :\"))\n",
    "\n",
    "if x >= 90 and y >= 90:\n",
    "    print(\"A\") \n",
    "elif x >= 80:\n",
    "    print(\"B\")  \n",
    "elif x >= 70:\n",
    "    print(\"C\")      \n",
    "else:\n",
    "    print(\"bad\")"
   ]
  },
  {
   "cell_type": "markdown",
   "metadata": {},
   "source": [
    "### 逻辑运算符\n",
    "\n",
    "- and \n",
    "- or\n",
    "- not"
   ]
  },
  {
   "cell_type": "code",
   "execution_count": 16,
   "metadata": {},
   "outputs": [
    {
     "data": {
      "text/plain": [
       "1"
      ]
     },
     "execution_count": 16,
     "metadata": {},
     "output_type": "execute_result"
    }
   ],
   "source": [
    "1 and 1"
   ]
  },
  {
   "cell_type": "code",
   "execution_count": 17,
   "metadata": {},
   "outputs": [
    {
     "data": {
      "text/plain": [
       "0"
      ]
     },
     "execution_count": 17,
     "metadata": {},
     "output_type": "execute_result"
    }
   ],
   "source": [
    "1 and 0"
   ]
  },
  {
   "cell_type": "code",
   "execution_count": 18,
   "metadata": {},
   "outputs": [
    {
     "data": {
      "text/plain": [
       "1"
      ]
     },
     "execution_count": 18,
     "metadata": {},
     "output_type": "execute_result"
    }
   ],
   "source": [
    "1 or 1"
   ]
  },
  {
   "cell_type": "code",
   "execution_count": 19,
   "metadata": {},
   "outputs": [
    {
     "data": {
      "text/plain": [
       "1"
      ]
     },
     "execution_count": 19,
     "metadata": {},
     "output_type": "execute_result"
    }
   ],
   "source": [
    "1 or 0"
   ]
  },
  {
   "cell_type": "code",
   "execution_count": 20,
   "metadata": {},
   "outputs": [
    {
     "data": {
      "text/plain": [
       "False"
      ]
     },
     "execution_count": 20,
     "metadata": {},
     "output_type": "execute_result"
    }
   ],
   "source": [
    "not 1"
   ]
  },
  {
   "cell_type": "markdown",
   "metadata": {},
   "source": [
    "### for循环\n",
    "- 循环是一个结构，导致一个程序要重复一定次数\n",
    "- 条件循环也是如此，当条件变为假时，循环结束"
   ]
  },
  {
   "cell_type": "markdown",
   "metadata": {},
   "source": [
    "- for循环：\n",
    "    - 在Python for循环遍历序列，如一个列表或一个字符\n",
    "- for循环语法\n",
    "```\n",
    "for iterating_var in sequernce:\n",
    "    statemnet(s)\n",
    "```\n",
    ">注：如果一个序列包含一个表达列表，它是第一个执行。然后该序列中的第一项赋值给迭代变量iterating_var。接下来，执行语句块，列表中的每个项目分配到iterating_var，代码块被执行，直到整个序列被耗尽。       \n",
    ">格式遵循代码块缩进原则"
   ]
  },
  {
   "cell_type": "code",
   "execution_count": 21,
   "metadata": {},
   "outputs": [
    {
     "name": "stdout",
     "output_type": "stream",
     "text": [
      "a hello world\n",
      "b hello world\n",
      "c hello world\n",
      "d hello world\n"
     ]
    }
   ],
   "source": [
    "for x in \"abcd\":\n",
    "    print(x,\"hello world\")"
   ]
  },
  {
   "cell_type": "code",
   "execution_count": 22,
   "metadata": {},
   "outputs": [
    {
     "name": "stdout",
     "output_type": "stream",
     "text": [
      "1 hello world\n",
      "2 hello world\n",
      "3 hello world\n",
      "4 hello world\n",
      "5 hello world\n",
      "6 hello world\n",
      "7 hello world\n"
     ]
    }
   ],
   "source": [
    "for x in [1,2,3,4,5,6,7,]:\n",
    "    print(x,\"hello world\")"
   ]
  },
  {
   "cell_type": "markdown",
   "metadata": {},
   "source": [
    "- 迭代序列指数（索引）\n",
    "    - 遍历每个项目的另一种方法是由序列本身的便宜指数（索引）： \n",
    "- range函数\n",
    "    - 循环结构是用于迭代多个项的for语句，迭代形式可以循环序列的所有成员。    \n",
    "- range(i,j,[,步进值])     \n",
    "    - 如果所创建的对象为整数，可以用range     \n",
    "    - i为初始数值，      \n",
    "    - j为终止数值，但不包括在范围内，步进值为可选参数，不选的话默认为1，     \n",
    "    - i不选的话默认为0     "
   ]
  },
  {
   "cell_type": "code",
   "execution_count": 23,
   "metadata": {},
   "outputs": [
    {
     "data": {
      "text/plain": [
       "range(0, 10)"
      ]
     },
     "execution_count": 23,
     "metadata": {},
     "output_type": "execute_result"
    }
   ],
   "source": [
    "range(10)"
   ]
  },
  {
   "cell_type": "code",
   "execution_count": 25,
   "metadata": {},
   "outputs": [
    {
     "name": "stdout",
     "output_type": "stream",
     "text": [
      "range(0, 100)\n"
     ]
    }
   ],
   "source": [
    "print(range(100))"
   ]
  },
  {
   "cell_type": "code",
   "execution_count": 26,
   "metadata": {},
   "outputs": [
    {
     "name": "stdout",
     "output_type": "stream",
     "text": [
      "0 hello world\n",
      "1 hello world\n",
      "2 hello world\n",
      "3 hello world\n",
      "4 hello world\n",
      "5 hello world\n",
      "6 hello world\n",
      "7 hello world\n",
      "8 hello world\n",
      "9 hello world\n"
     ]
    }
   ],
   "source": [
    "for x in range(10):\n",
    "    print(x,\"hello world\")"
   ]
  },
  {
   "cell_type": "code",
   "execution_count": 27,
   "metadata": {},
   "outputs": [
    {
     "name": "stdout",
     "output_type": "stream",
     "text": [
      "1 hello world\n",
      "2 hello world\n",
      "3 hello world\n",
      "4 hello world\n",
      "5 hello world\n",
      "6 hello world\n",
      "7 hello world\n",
      "8 hello world\n",
      "9 hello world\n"
     ]
    }
   ],
   "source": [
    "for x in range(1,10):\n",
    "    print(x,\"hello world\")"
   ]
  },
  {
   "cell_type": "code",
   "execution_count": 28,
   "metadata": {},
   "outputs": [
    {
     "name": "stdout",
     "output_type": "stream",
     "text": [
      "1 hello world\n",
      "3 hello world\n",
      "5 hello world\n",
      "7 hello world\n",
      "9 hello world\n"
     ]
    }
   ],
   "source": [
    "for x in range(1,10,2):\n",
    "    print(x,\"hello world\")"
   ]
  },
  {
   "cell_type": "code",
   "execution_count": 15,
   "metadata": {},
   "outputs": [
    {
     "name": "stdout",
     "output_type": "stream",
     "text": [
      "hello Bart\n",
      "hello Lisa\n",
      "hello Adam\n"
     ]
    }
   ],
   "source": [
    "L = ['Bart', 'Lisa', 'Adam']\n",
    "for x in range(len(L)):\n",
    "    print(\"hello\",L[x])"
   ]
  },
  {
   "cell_type": "markdown",
   "metadata": {},
   "source": [
    "### 遍历\n"
   ]
  },
  {
   "cell_type": "code",
   "execution_count": 33,
   "metadata": {},
   "outputs": [
    {
     "name": "stdout",
     "output_type": "stream",
     "text": [
      "h\n",
      "e\n",
      "l\n",
      "l\n",
      "o\n"
     ]
    }
   ],
   "source": [
    "for x in \"hello\":#正常的遍历方法,直接从序列取值\n",
    "    print(x)"
   ]
  },
  {
   "cell_type": "code",
   "execution_count": 12,
   "metadata": {},
   "outputs": [
    {
     "name": "stdout",
     "output_type": "stream",
     "text": [
      "1\n",
      "2\n",
      "3\n",
      "a\n",
      "b\n"
     ]
    }
   ],
   "source": [
    "s = \"hello\"#从序列本身偏移指数取值\n",
    "l = [1,2,3,'a','b']\n",
    "t = (7,8,9,'x','y')\n",
    "\n",
    "for x in range(len(l)):\n",
    "    print(l[x])"
   ]
  },
  {
   "cell_type": "markdown",
   "metadata": {},
   "source": [
    "- 遍历字典"
   ]
  },
  {
   "cell_type": "code",
   "execution_count": 39,
   "metadata": {},
   "outputs": [
    {
     "name": "stdout",
     "output_type": "stream",
     "text": [
      "1\n",
      "2\n",
      "3\n",
      "5\n",
      "dict_items([(1, 11), (2, 22), (3, 333), (5, 555)])\n",
      "1\n",
      "11\n",
      "2\n",
      "22\n",
      "3\n",
      "333\n",
      "5\n",
      "555\n"
     ]
    }
   ],
   "source": [
    "d = {1:11,2:22,5:555,3:333}\n",
    "\n",
    "for x in d:#遍历的是字典中的key\n",
    "    print(x)\n",
    "\n",
    "print(d.items())\n",
    "\n",
    "for k,v in d.items():\n",
    "    print(k)\n",
    "    print(v)"
   ]
  },
  {
   "cell_type": "markdown",
   "metadata": {},
   "source": [
    "### 循环控制"
   ]
  },
  {
   "cell_type": "code",
   "execution_count": 42,
   "metadata": {},
   "outputs": [
    {
     "name": "stdout",
     "output_type": "stream",
     "text": [
      "1\n",
      "2\n",
      "3\n",
      "5\n",
      "ending\n",
      "1\n",
      "11\n",
      "2\n",
      "22\n",
      "3\n",
      "333\n",
      "5\n",
      "555\n",
      "ending\n"
     ]
    }
   ],
   "source": [
    "d = {1:11,2:22,5:555,3:333}\n",
    "\n",
    "for x in d:#遍历的是字典中的key\n",
    "    print(x)\n",
    "else:\n",
    "    print(\"ending\")\n",
    "\n",
    "for k,v in d.items():\n",
    "    print(k)\n",
    "    print(v)\n",
    "else:\n",
    "    print(\"ending\")"
   ]
  },
  {
   "cell_type": "markdown",
   "metadata": {},
   "source": [
    "当非正常结束时else不会执行，正常运行时循环结束时else执行"
   ]
  },
  {
   "cell_type": "code",
   "execution_count": 43,
   "metadata": {},
   "outputs": [
    {
     "name": "stdout",
     "output_type": "stream",
     "text": [
      "0\n",
      "1\n",
      "2\n",
      "ending\n"
     ]
    }
   ],
   "source": [
    "import time\n",
    "for x in range(3):#遍历的是字典中的key\n",
    "    print(x)\n",
    "    time.sleep(1)\n",
    "else:\n",
    "    print(\"ending\")"
   ]
  },
  {
   "cell_type": "code",
   "execution_count": 1,
   "metadata": {},
   "outputs": [
    {
     "name": "stdout",
     "output_type": "stream",
     "text": [
      "1\n",
      "2\n",
      "3\n",
      "4\n",
      "5\n",
      "6\n",
      "------------\n",
      "1\n",
      "2\n",
      "3\n",
      "4\n",
      "5\n",
      "6\n",
      "7\n",
      "8\n",
      "9\n"
     ]
    }
   ],
   "source": [
    "import time\n",
    "for x in range(1,10):\n",
    "    print(x)\n",
    "    if x == 1:\n",
    "        pass\n",
    "    if x == 2:\n",
    "        continue #当执行到x = 2时跳出本次循环\n",
    "        print(\"hello\")\n",
    "    if x == 6:\n",
    "        break #终止循环\n",
    "else:\n",
    "    print(\"ending\")#程序非正常结束，不执行这一句\n",
    "    \n",
    "print(\"------------\") \n",
    "\n",
    "for x in range(1,10):\n",
    "    print(x)"
   ]
  },
  {
   "cell_type": "markdown",
   "metadata": {},
   "source": [
    "### while循环\n",
    "- while循环，直到表达式变为假，表达的是一个逻辑表达式，必须返回一个true或false值\n",
    "- 语法：\n",
    "```\n",
    "while expression:\n",
    "    statement(s)\n",
    "```\n",
    ">注：遵循代码块缩进原则"
   ]
  },
  {
   "cell_type": "code",
   "execution_count": 1,
   "metadata": {},
   "outputs": [
    {
     "name": "stdout",
     "output_type": "stream",
     "text": [
      "hello\n",
      "please input:we\n",
      "hello\n",
      "please input:we\n",
      "hello\n",
      "please input:e\n",
      "hello\n",
      "please input:q\n"
     ]
    }
   ],
   "source": [
    "while True:\n",
    "    print(\"hello\")\n",
    "    x = input(\"please input:\")\n",
    "    if x == \"q\":\n",
    "        break"
   ]
  },
  {
   "cell_type": "code",
   "execution_count": 3,
   "metadata": {},
   "outputs": [
    {
     "name": "stdout",
     "output_type": "stream",
     "text": [
      "hello\n",
      "please input:\n"
     ]
    }
   ],
   "source": [
    "x = \"\"\n",
    "while x != 'q':#如果x=“q”终止循环\n",
    "    print(\"hello\")\n",
    "    x = input(\"please input:\")\n",
    "    if not x :\n",
    "        break"
   ]
  },
  {
   "cell_type": "markdown",
   "metadata": {},
   "source": [
    "while和for循环一样，也可以使用else语句，当正常结束时，执行else语句，如果非正常结束，则不执行else语句。"
   ]
  },
  {
   "cell_type": "markdown",
   "metadata": {},
   "source": [
    "### 异常处理\n",
    "- Python通过产生异常来指明发生错误或异常条件"
   ]
  },
  {
   "cell_type": "markdown",
   "metadata": {},
   "source": [
    "- 异常的捕获是使用try...except块实现的，其通常语法格式如下：\n",
    "```\n",
    "try:\n",
    "    try_suite\n",
    "except exception_group1 as variable1:\n",
    "    except_suite1\n",
    "...\n",
    "except exception_groupN as variableN:\n",
    "    except_suiteN\n",
    "else:\n",
    "    else_suite\n",
    "finally:\n",
    "    finally_suite\n",
    "```\n",
    "- 其中至少要包含一个except块，但是else和finally块都是可选的，在try块的suite正常执行完毕时，会执行else块的suite——如果发生异常，就不会执行。如果存在一个finally块，则最后总会执行。\n",
    "- 每个except分支的异常组可以是一个单独的异常，也可以是包含在括号中的异常元组，对每个异常组，as variable部分是可选的，如果使用，该变量就会包含发生的异常，并且可以在异常块的suite中进行存取。\n",
    "- 如果某个异常发生在try块的suite中，那么每个except分支会顺序尝试执行。如果该异常与某个异常组匹配，则相应的suite得以执行。"
   ]
  },
  {
   "cell_type": "code",
   "execution_count": 6,
   "metadata": {},
   "outputs": [
    {
     "name": "stdout",
     "output_type": "stream",
     "text": [
      "Lookup error occurred\n"
     ]
    }
   ],
   "source": [
    "#下面给出一个不正确使用的实例\n",
    "d = {1:111,2:222,3:333,4:444}\n",
    "try:\n",
    "    x = d[5]\n",
    "except LookupError:\n",
    "    print(\"Lookup error occurred\")\n",
    "except KeyError:\n",
    "    print(\"Invalid key used\")"
   ]
  },
  {
   "cell_type": "markdown",
   "metadata": {},
   "source": [
    "- 如果字典d不包含key为5的数据项，那么我们希望产生最具针对性的异常KeyError，而不是通常的LookupError，但是这里KeyError块代码总是无法执行到，如果产生KeyError异常，就会与LookupError except块匹配，因为LookupError是keyError的一个基类，也就是说，在异常体系中LookupError要高于KeyError，因此，在使用多个except块时，我们必须坚持对其排序，从最具针对性的异常到最通常的异常。\n",
    "\n",
    "- 如果没有异常产生，那么任意可选的else块都将执行，在所有情况下——也就是说，如果没有发生异常，或者发生异常被处理，或发生异常并回溯到调用栈——任意finally块的suite总是会得以执行。如果没有异常产生，或产生的异常被某个except块处理，那么finally块的suite将在最后执行，如果异常产生，但是没有匹配的except块，就首先执行finally块的suite，之后将该异常在调用栈中回溯，在需要确保资源被正确释放是，这种执行机制是很有用的。"
   ]
  },
  {
   "cell_type": "markdown",
   "metadata": {},
   "source": [
    "#### 产生异常\n",
    "- 异常提供了一种改变控制流的有用方法，我们可以使用内置的异常，或创建自己的异常，以便我们所需要的异常并对其进行处理。有两种产生异常的语法：\n",
    "```\n",
    "raise exception(args)\n",
    "raise exception(args) from original_exception\n",
    "raise\n",
    "```\n",
    "\n",
    "- 使用第一种语法是，指定的异常应该或者是内置的异常，或者继承exception的自定义异常，如果给定一些文本作为该异常的参数，那么在捕捉到该异常并打印时，这些文本应该为输出信息。\n",
    "- 使用第二种语法，也就是没有指定异常时，raise将重新产生当前活跃的异常——如果当前没有，就会产生一个TypeError"
   ]
  },
  {
   "cell_type": "markdown",
   "metadata": {},
   "source": [
    "#### 自定义异常\n",
    "- 自定义异常是自定义的数据类型（类），基本的语法：\n",
    "```\n",
    "class exceptionName(baseException):pass\n",
    "```\n",
    "基类应该为Exception类或继承自Exception的类。\n",
    "\n",
    "- 自定义异常的一个用途是跳出深层嵌套的循环，比如，如果某个表格对象存放记录（行），每个记录有很多字段（列），每个字段有很多值（项），我们可以使用类似于下面的代码搜索某个特定的值："
   ]
  },
  {
   "cell_type": "code",
   "execution_count": 7,
   "metadata": {},
   "outputs": [
    {
     "ename": "NameError",
     "evalue": "name 'table' is not defined",
     "output_type": "error",
     "traceback": [
      "\u001b[1;31m---------------------------------------------------------------------------\u001b[0m",
      "\u001b[1;31mNameError\u001b[0m                                 Traceback (most recent call last)",
      "\u001b[1;32m<ipython-input-7-85576999eea0>\u001b[0m in \u001b[0;36m<module>\u001b[1;34m()\u001b[0m\n\u001b[0;32m      1\u001b[0m \u001b[0mfound\u001b[0m \u001b[1;33m=\u001b[0m \u001b[1;32mFalse\u001b[0m\u001b[1;33m\u001b[0m\u001b[0m\n\u001b[1;32m----> 2\u001b[1;33m \u001b[1;32mfor\u001b[0m \u001b[0mrow\u001b[0m\u001b[1;33m,\u001b[0m\u001b[0mrecord\u001b[0m \u001b[1;32min\u001b[0m \u001b[0menumerate\u001b[0m\u001b[1;33m(\u001b[0m\u001b[0mtable\u001b[0m\u001b[1;33m)\u001b[0m\u001b[1;33m:\u001b[0m\u001b[1;33m\u001b[0m\u001b[0m\n\u001b[0m\u001b[0;32m      3\u001b[0m     \u001b[1;32mfor\u001b[0m \u001b[0mcolumn\u001b[0m\u001b[1;33m,\u001b[0m\u001b[0mfield\u001b[0m \u001b[1;32min\u001b[0m \u001b[0menumerate\u001b[0m\u001b[1;33m(\u001b[0m\u001b[0mrecord\u001b[0m\u001b[1;33m)\u001b[0m\u001b[1;33m:\u001b[0m\u001b[1;33m\u001b[0m\u001b[0m\n\u001b[0;32m      4\u001b[0m         \u001b[1;32mfor\u001b[0m \u001b[0mindex\u001b[0m\u001b[1;33m,\u001b[0m\u001b[0mitem\u001b[0m \u001b[1;32min\u001b[0m \u001b[0menumerate\u001b[0m\u001b[1;33m(\u001b[0m\u001b[0mfield\u001b[0m\u001b[1;33m)\u001b[0m\u001b[1;33m:\u001b[0m\u001b[1;33m\u001b[0m\u001b[0m\n\u001b[0;32m      5\u001b[0m             \u001b[1;32mif\u001b[0m \u001b[0mitem\u001b[0m \u001b[1;33m==\u001b[0m \u001b[0mtarget\u001b[0m\u001b[1;33m:\u001b[0m\u001b[1;33m\u001b[0m\u001b[0m\n",
      "\u001b[1;31mNameError\u001b[0m: name 'table' is not defined"
     ]
    }
   ],
   "source": [
    "found = False\n",
    "for row,record in enumerate(table):\n",
    "    for column,field in enumerate(record):\n",
    "        for index,item in enumerate(field):\n",
    "            if item == target:\n",
    "                found == True\n",
    "                break\n",
    "        if found:\n",
    "            break\n",
    "    if found:\n",
    "        break\n",
    "if found:\n",
    "    print(\"found at ({0},{1},{2})\".format(row,column,index))\n",
    "else:\n",
    "    print(\"not found\")"
   ]
  },
  {
   "cell_type": "code",
   "execution_count": 3,
   "metadata": {},
   "outputs": [
    {
     "ename": "SyntaxError",
     "evalue": "invalid syntax (<ipython-input-3-6be8bbdc18e1>, line 8)",
     "output_type": "error",
     "traceback": [
      "\u001b[1;36m  File \u001b[1;32m\"<ipython-input-3-6be8bbdc18e1>\"\u001b[1;36m, line \u001b[1;32m8\u001b[0m\n\u001b[1;33m    rasie exceptionName()\u001b[0m\n\u001b[1;37m                      ^\u001b[0m\n\u001b[1;31mSyntaxError\u001b[0m\u001b[1;31m:\u001b[0m invalid syntax\n"
     ]
    }
   ],
   "source": [
    "#上面的代码看起来很复杂，下面我们用一个自定义异常来解决\n",
    "class exceptionName(Exception):\n",
    "    pass\n",
    "\n",
    "found = False\n",
    "for row,record in enumerate(table):\n",
    "    for column,field in enumerate(record):\n",
    "        for index,item in enumerate(field):\n",
    "            if item == target:\n",
    "                rasie exceptionName()\n",
    "except FoundException:   \n",
    "    print(\"found at ({0},{1},{2})\".format(row,column,index))\n",
    "else:\n",
    "    print(\"not found\")"
   ]
  },
  {
   "cell_type": "code",
   "execution_count": null,
   "metadata": {
    "collapsed": true
   },
   "outputs": [],
   "source": []
  }
 ],
 "metadata": {
  "kernelspec": {
   "display_name": "Python 3",
   "language": "python",
   "name": "python3"
  },
  "language_info": {
   "codemirror_mode": {
    "name": "ipython",
    "version": 3
   },
   "file_extension": ".py",
   "mimetype": "text/x-python",
   "name": "python",
   "nbconvert_exporter": "python",
   "pygments_lexer": "ipython3",
   "version": "3.6.1"
  }
 },
 "nbformat": 4,
 "nbformat_minor": 1
}
