{
 "cells": [
  {
   "cell_type": "markdown",
   "metadata": {},
   "source": [
    "# Python第十二章学习\n",
    "\n",
    "## 进程与线程\n",
    "\n",
    "- [x] 多进程\n",
    "- [x] 多线程"
   ]
  },
  {
   "cell_type": "markdown",
   "metadata": {},
   "source": [
    "## 进程与线程\n",
    "- 什么是进程呢？对于操作系统而言，一个任务就是一个进程，当我们打开浏览器时就启动了一个浏览器进程，打开两个就启动了两个进程\n",
    "\n",
    "- 什么是线程？有些进程不只是同时干一件事，比如word，我们可以同时打字，拼写检查，打印等，在一个进程内部要干多件事情，这些子任务就是线程（Thread）\n",
    "\n",
    "- 一个进程至少一个线程，多任务的实现有3种方式：\n",
    "    - 多进程程模式（一对一）\n",
    "    - 多线程模式（一对多）\n",
    "    - 多进程+多线程模式（多对多）\n",
    "    \n",
    "首先我们先来看一下多进程："
   ]
  },
  {
   "cell_type": "markdown",
   "metadata": {},
   "source": [
    "### 多进程\n",
    "- 现在我们是要让Python程序实现多进程（multiprocessing）\n",
    "\n",
    "- Unix/Linux操作系统提供了一个fork()系统调用，它很特殊，不同的函数调用，调用一次，返回一次，但是fork()调用一次返回两次，因为操作系统自动把当前进程（父进程）复制了一份（子进程），然后，分别在父进程和子进程内返回\n",
    "\n",
    "- 子进程永远返回0，而父进程返回子进程的id，这样做，一个父进程可以fork出很多子进程，所以，父进程要记下每个子进程的id，而子进程只需要getppid()就可以拿到父进程的ID"
   ]
  },
  {
   "cell_type": "markdown",
   "metadata": {
    "collapsed": true
   },
   "source": [
    "如果打算编写多进程的服务程序，Unix/Linux无疑是正确的选择，由于windows没有fork调用，所以Python提供了一个multiprocessing模块就是跨平台的多进程模块。\n",
    "\n",
    "multiprocessing模块提供了一个Process类来代表一个进程对象"
   ]
  },
  {
   "cell_type": "code",
   "execution_count": 16,
   "metadata": {
    "collapsed": false
   },
   "outputs": [
    {
     "name": "stdout",
     "output_type": "stream",
     "text": [
      "Parent pricess 38700.\n",
      "Child process will start.\n",
      "Run child process test (38700)...\n",
      "Child process end.\n"
     ]
    }
   ],
   "source": [
    "from multiprocessing import Process\n",
    "import os\n",
    "\n",
    "def run_proc(name):\n",
    "    print(\"Run child process %s (%s)...\" % (name,os.getpid()))\n",
    "    \n",
    "if __name__==\"__main__\":\n",
    "    print(\"Parent pricess %s.\" % os.getpid())\n",
    "    p = Process(target = run_proc,args= (\"test\",))\n",
    "    print(\"Child process will start.\")\n",
    "    p.start()\n",
    "    p.join()\n",
    "    print(\"Child process end.\")"
   ]
  },
  {
   "cell_type": "code",
   "execution_count": 13,
   "metadata": {
    "collapsed": false
   },
   "outputs": [],
   "source": [
    "#help(Process)"
   ]
  },
  {
   "cell_type": "markdown",
   "metadata": {},
   "source": [
    "创建子进程时，只需要传入一个执行函数和函数的参数，创建一个Process实例，用start()方法启动，这样创建进程比fork()还要简单。\n",
    "\n",
    "join()方法可以等待子进程结束后再继续往下运行，通常用于进程间的同步。"
   ]
  },
  {
   "cell_type": "markdown",
   "metadata": {},
   "source": [
    "#### 子进程\n",
    "- 很多时候，子进程并不是自身，而是一个外部进程。我们创建了子进程后，还需要控制子进程的输入和输出。\n",
    "\n",
    "- subprocess模块可以让我们非常方便地启动一个子进程，然后控制其输入和输出。\n",
    "\n",
    "- 下面的例子演示了如何在Python代码中运行命令`nslook upwww.python.org`，这和命令行直接运行的效果是一样的："
   ]
  },
  {
   "cell_type": "code",
   "execution_count": 17,
   "metadata": {
    "collapsed": false
   },
   "outputs": [
    {
     "name": "stdout",
     "output_type": "stream",
     "text": [
      "$ nslookup www.python.org\n",
      "Exit code: 0\n"
     ]
    }
   ],
   "source": [
    "import subprocess\n",
    "\n",
    "print('$ nslookup www.python.org')\n",
    "r = subprocess.call(['nslookup', 'www.python.org'])\n",
    "print('Exit code:', r)"
   ]
  },
  {
   "cell_type": "markdown",
   "metadata": {},
   "source": [
    "如果子进程还需要输入，则可以通过communicate()方法输入："
   ]
  },
  {
   "cell_type": "code",
   "execution_count": 19,
   "metadata": {
    "collapsed": false
   },
   "outputs": [
    {
     "name": "stdout",
     "output_type": "stream",
     "text": [
      "$ nslookup\n",
      "默认服务器:  center.shao.ac.cn\n",
      "Address:  202.127.29.4\n",
      "\n",
      "> > 服务器:  center.shao.ac.cn\n",
      "Address:  202.127.29.4\n",
      "\n",
      "python.org\tMX preference = 50, mail exchanger = mail.python.org\n",
      "\n",
      "python.org\tnameserver = ns1.p11.dynect.net\n",
      "python.org\tnameserver = ns3.p11.dynect.net\n",
      "python.org\tnameserver = ns2.p11.dynect.net\n",
      "python.org\tnameserver = ns4.p11.dynect.net\n",
      "mail.python.org\tinternet address = 188.166.95.178\n",
      "mail.python.org\tAAAA IPv6 address = 2a03:b0c0:2:d0::71:1\n",
      "ns2.p11.dynect.net\tinternet address = 204.13.250.11\n",
      "ns4.p11.dynect.net\tinternet address = 204.13.251.11\n",
      "ns1.p11.dynect.net\tinternet address = 208.78.70.11\n",
      "ns3.p11.dynect.net\tinternet address = 208.78.71.11\n",
      "> \n",
      "Exit code: 0\n"
     ]
    }
   ],
   "source": [
    "import subprocess\n",
    "\n",
    "print('$ nslookup')\n",
    "p = subprocess.Popen(['nslookup'], stdin=subprocess.PIPE, stdout=subprocess.PIPE, stderr=subprocess.PIPE)\n",
    "output, err = p.communicate(b'set q=mx\\npython.org\\nexit\\n')\n",
    "print(output.decode('gbk'))\n",
    "print('Exit code:', p.returncode)"
   ]
  },
  {
   "cell_type": "markdown",
   "metadata": {},
   "source": [
    "#### 进程间通信\n",
    "- Process之间肯定是需要通信的，操作系统提供了很多机制来实现进程间的通信。Python的multiprocessing模块包装了底层的机制，提供了Queue、Pipes等多种方式来交换数据。\n",
    "\n",
    "- 我们以Queue为例，在父进程中创建两个子进程，一个往Queue里写数据，一个从Queue里读数据："
   ]
  },
  {
   "cell_type": "code",
   "execution_count": 24,
   "metadata": {
    "collapsed": false
   },
   "outputs": [
    {
     "name": "stdout",
     "output_type": "stream",
     "text": [
      "Process to write: 38700\n",
      "Put A to queue...\n",
      "Put B to queue...\n",
      "Put C to queue...\n"
     ]
    }
   ],
   "source": [
    "from multiprocessing import Process, Queue\n",
    "import os, time, random\n",
    "import pickle\n",
    "\n",
    "# 写数据进程执行的代码:\n",
    "def write(q):\n",
    "    print('Process to write: %s' % os.getpid())\n",
    "    for value in ['A', 'B', 'C']:\n",
    "        print('Put %s to queue...' % value)\n",
    "        q.put(value)\n",
    "        time.sleep(random.random())\n",
    "\n",
    "# 读数据进程执行的代码:\n",
    "def read(q):\n",
    "    print('Process to read: %s' % os.getpid())\n",
    "    while True:\n",
    "        value = q.get(True)\n",
    "        print('Get %s from queue.' % value)\n",
    "\n",
    "if __name__=='__main__':\n",
    "    # 父进程创建Queue，并传给各个子进程：\n",
    "    q = Queue()\n",
    "    pw = Process(target=write(q))\n",
    "    pr = Process(target=read, args=(q,))\n",
    "    # 启动子进程pw，写入:\n",
    "    pw.start()\n",
    "    # 启动子进程pr，读取:\n",
    "    pr.start()\n",
    "    # 等待pw结束:\n",
    "    pw.join()\n",
    "    # pr进程里是死循环，无法等待其结束，只能强行终止:\n",
    "    pr.terminate()"
   ]
  },
  {
   "cell_type": "markdown",
   "metadata": {},
   "source": [
    "### 多线程\n",
    "- 多任务可以有多进程完成，也可以由一个进程内的多线程完成\n",
    "- 由于线程是操作系统直接支持的执行单元，因此，高级语言通常都内置多线程的支持，Python也不例外，并且，python的线程是真正的Posix Thread，而不是模拟出来的线程\n",
    "\n",
    "- Python的标准库提供了两个模块：\\_thread和threading，\\_thread是低级模块，threading是高级模块，对\\_thread进行了封装，绝大多数哦情况下，我们只需要使用threading这个高级模块\n",
    "\n",
    "- 启动一个线程就是把一个函数并创建Thread实例，然后调用start()开始执行："
   ]
  },
  {
   "cell_type": "code",
   "execution_count": 36,
   "metadata": {
    "collapsed": false
   },
   "outputs": [
    {
     "name": "stdout",
     "output_type": "stream",
     "text": [
      "thread MainThread is running...\n",
      "thread LoopThread is running...\n",
      "thread LoopThread >>> 1\n",
      "thread LoopThread >>> 2\n",
      "thread LoopThread >>> 3\n",
      "thread LoopThread >>> 4\n",
      "thread LoopThread >>> 5\n",
      "thread LoopThread ended\n",
      "thread MainThread ended.\n"
     ]
    }
   ],
   "source": [
    "import time,threading\n",
    "\n",
    "def loop():\n",
    "    print(\"thread %s is running...\" % threading.current_thread().name )\n",
    "    n = 0\n",
    "    while n < 5:\n",
    "        n = n + 1\n",
    "        print(\"thread %s >>> %s\" % (threading.current_thread().name, n))\n",
    "        time.sleep(0.1)\n",
    "    print(\"thread %s ended\" % threading.current_thread().name)\n",
    "\n",
    "print(\"thread %s is running...\" % threading.current_thread().name)\n",
    "t = threading.Thread(target=loop, name=\"LoopThread\")\n",
    "t.start()\n",
    "t.join()\n",
    "print(\"thread %s ended.\" % threading.current_thread().name)"
   ]
  },
  {
   "cell_type": "markdown",
   "metadata": {},
   "source": [
    "由于任何进程默认就会启动一个线程，我们把该线程称为主线程，主线程又可以启动新的线程，Python的threading模块有个current_thread()函数，它永远返回当前线程的实例。主线程实例的名字叫MainThread，子线程的名字在创建时指定，我们用LoopThread命名子线程。名字仅仅在打印时用来显示，完全没有其他意义，如果不起名字Python就自动给线程命名为Thread-1，Thread-2……"
   ]
  },
  {
   "cell_type": "markdown",
   "metadata": {
    "collapsed": true
   },
   "source": [
    "#### lock\n",
    "- 多线程和多进程最大的不同在于，在多进程中，同一个变量，各自有一份拷贝存在于每个进程中，互不影响，在多线程中，所有变量都由所有进程共享，所以任何一个变量都可以被任何一个线程修改，因此，线程之间共享数据最大的危险在于多个线程同时改一个变量，把内容给改乱了。\n"
   ]
  },
  {
   "cell_type": "code",
   "execution_count": null,
   "metadata": {
    "collapsed": false
   },
   "outputs": [],
   "source": [
    "import time,threading\n",
    "\n",
    "balance = 0\n",
    "\n",
    "def change_it(n):\n",
    "    global balance\n",
    "    balance = balance + n\n",
    "    balance = balance - n\n",
    "    \n",
    "def run_thread(n):\n",
    "    for i in range(100000):\n",
    "        change_it(n)\n",
    "        \n",
    "t1 = threading.Thread(target = run_thread, args = (5,))\n",
    "t2 = threading.Thread(target = run_thread, args = (8,))\n",
    "t1.start()\n",
    "t2.start()\n",
    "t1.join()\n",
    "t2.join()\n",
    "print(balance)"
   ]
  },
  {
   "cell_type": "markdown",
   "metadata": {},
   "source": [
    "我们定义了一个共享变量balance，初始值为0，并且启动两个线程，先存后取，理论上结果应该为0，但是，由于线程的调度是由操作系统决定的，当t1、t2交替执行时，只要循环次数足够多，balance的结果就不一定是0了。"
   ]
  },
  {
   "cell_type": "markdown",
   "metadata": {},
   "source": [
    "原因是因为高级语言的一条语句在CPU执行时是若干条语句，即使一个简单的计算：\n",
    "```\n",
    "balance = balance + n\n",
    "```\n",
    "也分两步：\n",
    "1. 计算balance + n ，存入临时变量中；\n",
    "2. 将临时变量的值赋给balance。"
   ]
  },
  {
   "cell_type": "markdown",
   "metadata": {},
   "source": [
    "也就是可以看成：\n",
    "```\n",
    "x = balance + n\n",
    "balance = x\n",
    "```\n",
    "由于x是局部变量，两个线程各自都有自己的x，当代码正常执行时："
   ]
  },
  {
   "cell_type": "markdown",
   "metadata": {},
   "source": [
    "\n",
    "初始值balance = 0\n",
    "```\n",
    "t1：x1 = balance + 5\n",
    "t1: balance = x1\n",
    "t1: x1 = balance - 5\n",
    "t1: balance = x1\n",
    "\n",
    "t2: x2 = balance + 8\n",
    "t2：balance = x2\n",
    "t2: x2 = balance - 8\n",
    "t2: balance = x2\n",
    "```\n",
    "\n",
    "结果balance = 0 \n"
   ]
  },
  {
   "cell_type": "markdown",
   "metadata": {},
   "source": [
    "但是t1和t2是交替运行的，如果操作系统以下面的顺序执行t1、t2\n",
    "\n",
    "初始值 balance = 0\n",
    "```\n",
    "t1: x1 = balance + 5  \n",
    "\n",
    "t2: x2 = balance + 8  \n",
    "t2: balance = x2      \n",
    "\n",
    "t1: balance = x1     \n",
    "t1: x1 = balance - 5  \n",
    "t1: balance = x1      \n",
    "\n",
    "t2: x2 = balance - 8  \n",
    "t2: balance = x2   \n",
    "```\n",
    "结果 balance = -8"
   ]
  },
  {
   "cell_type": "markdown",
   "metadata": {},
   "source": [
    "究其原因，是因为修改balance需要多条语句，而执行这几条语句时，线程可能中断，从而导致多个线程把同一个对象的内容改乱了。\n",
    "\n",
    "两个线程同时一存一取，就可能导致余额不对，你肯定不希望你的银行存款莫名其妙地变成了负数，所以，我们必须确保一个线程在修改balance的时候，别的线程一定不能改。\n",
    "\n",
    "如果我们要确保balance计算正确，就要给change_it()上一把锁，当某个线程开始执行change_it()时，我们说，该线程因为获得了锁，因此其他线程不能同时执行change_it()，只能等待，直到锁被释放后，获得该锁以后才能改。由于锁只有一个，无论多少线程，同一时刻最多只有一个线程持有该锁，所以，不会造成修改的冲突。创建一个锁就是通过threading.Lock()来实现："
   ]
  },
  {
   "cell_type": "code",
   "execution_count": 2,
   "metadata": {
    "collapsed": false
   },
   "outputs": [],
   "source": [
    "import time,threading\n",
    "\n",
    "balance = 0\n",
    "lock = threading.Lock()\n",
    "\n",
    "def run_thread(n):\n",
    "    for i in range(100000):\n",
    "        # 先要获取锁:\n",
    "        lock.acquire()\n",
    "        try:\n",
    "            # 放心地改吧:\n",
    "            change_it(n)\n",
    "        finally:\n",
    "            # 改完了一定要释放锁:\n",
    "            lock.release()"
   ]
  },
  {
   "cell_type": "markdown",
   "metadata": {},
   "source": [
    "当多个线程同时执行lock.acquire()时，只有一个线程能成功的获取锁，然后继续执行代码，其他线程继续等待直到获取锁为止。\n",
    "\n",
    "获得锁的线程用完后一定要释放锁，否则其他进行就会一直处于等待状态，称为死线程，所以我们用try...finally来确保锁一定会被释放\n",
    "\n",
    "锁的好处就是确保了某段关键代码只能由一个线程从头到尾完整的执行，坏处当然也很多，首先是阻止了多进程并发执行，包含锁的某段代码实际上只能以但线程模式执行，效率就就降低很多，其次，由于可以存在多个锁，不同的线程有不同的锁，并试图获取对方持有的锁时，可能会造成死锁，导致对个线程全部挂起，既不能执行，也无法结束，只能靠操作系统强行终止"
   ]
  }
 ],
 "metadata": {
  "celltoolbar": "Slideshow",
  "kernelspec": {
   "display_name": "Python [Root]",
   "language": "python",
   "name": "Python [Root]"
  },
  "language_info": {
   "codemirror_mode": {
    "name": "ipython",
    "version": 3
   },
   "file_extension": ".py",
   "mimetype": "text/x-python",
   "name": "python",
   "nbconvert_exporter": "python",
   "pygments_lexer": "ipython3",
   "version": "3.5.1"
  }
 },
 "nbformat": 4,
 "nbformat_minor": 0
}
