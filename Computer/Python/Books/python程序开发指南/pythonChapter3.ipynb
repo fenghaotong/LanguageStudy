{
 "cells": [
  {
   "cell_type": "markdown",
   "metadata": {},
   "source": [
    "# pytho你第三章学习\n",
    "\n",
    "序列类型\n",
    "\n",
    "- [x] 元组\n",
    "- [x] 列表    \n",
    "\n",
    "集合类型     \n",
    "\n",
    "- [x] 集合\n",
    "\n",
    "映射类型      \n",
    "\n",
    "- [ ] 字典"
   ]
  },
  {
   "cell_type": "markdown",
   "metadata": {},
   "source": [
    "## 序列类型\n",
    "- 列表、元组和字符串都是序列\n",
    "- 序列的两个主要特点是索引操作符和切片操作符       \n",
    "    - 索引操作符让我们从序列中抓取一个特定项目。       \n",
    "    - 切片操作符让我们能够获取序列的一个切片，即一部分序列。\n",
    "- 序列的基本操作：              \n",
    "1.len(): 求序列长度      \n",
    "2.+：    连接2个序列       \n",
    "3.\\*：   重复序列元素     \n",
    "4.in:    判断元素是否在序列中     \n",
    "5.max():  返回最大的值    \n",
    "6.min():  返回最小的值      \n",
    "7.cmp(tuple1,tuple2): 比较2个的序列值是否相同     "
   ]
  },
  {
   "cell_type": "code",
   "execution_count": 1,
   "metadata": {
    "collapsed": false
   },
   "outputs": [
    {
     "data": {
      "text/plain": [
       "'bcd'"
      ]
     },
     "execution_count": 1,
     "metadata": {},
     "output_type": "execute_result"
    }
   ],
   "source": [
    "str1 = 'abcde'\n",
    "str1[1:4]"
   ]
  },
  {
   "cell_type": "code",
   "execution_count": 2,
   "metadata": {
    "collapsed": false
   },
   "outputs": [
    {
     "data": {
      "text/plain": [
       "5"
      ]
     },
     "execution_count": 2,
     "metadata": {},
     "output_type": "execute_result"
    }
   ],
   "source": [
    "len(str1)"
   ]
  },
  {
   "cell_type": "code",
   "execution_count": 3,
   "metadata": {
    "collapsed": false
   },
   "outputs": [
    {
     "data": {
      "text/plain": [
       "'abcde12345'"
      ]
     },
     "execution_count": 3,
     "metadata": {},
     "output_type": "execute_result"
    }
   ],
   "source": [
    "str2 = '12345'\n",
    "str1 + str2# 连接2个序列"
   ]
  },
  {
   "cell_type": "code",
   "execution_count": 4,
   "metadata": {
    "collapsed": false
   },
   "outputs": [
    {
     "data": {
      "text/plain": [
       "'abcdeabcdeabcdeabcdeabcde'"
      ]
     },
     "execution_count": 4,
     "metadata": {},
     "output_type": "execute_result"
    }
   ],
   "source": [
    "str1*5#重复序列元素"
   ]
  },
  {
   "cell_type": "code",
   "execution_count": 5,
   "metadata": {
    "collapsed": false
   },
   "outputs": [
    {
     "data": {
      "text/plain": [
       "True"
      ]
     },
     "execution_count": 5,
     "metadata": {},
     "output_type": "execute_result"
    }
   ],
   "source": [
    "'c' in str1#判断元素是否在序列中"
   ]
  },
  {
   "cell_type": "code",
   "execution_count": 6,
   "metadata": {
    "collapsed": false
   },
   "outputs": [
    {
     "data": {
      "text/plain": [
       "'5'"
      ]
     },
     "execution_count": 6,
     "metadata": {},
     "output_type": "execute_result"
    }
   ],
   "source": [
    "max(str2)#返回最大的值"
   ]
  },
  {
   "cell_type": "code",
   "execution_count": 16,
   "metadata": {
    "collapsed": false
   },
   "outputs": [
    {
     "data": {
      "text/plain": [
       "'12345'"
      ]
     },
     "execution_count": 16,
     "metadata": {},
     "output_type": "execute_result"
    }
   ],
   "source": [
    "str1\n",
    "str2"
   ]
  },
  {
   "cell_type": "markdown",
   "metadata": {},
   "source": [
    "### 元组\n",
    "- 元组是个有序的序列，其中包含0个或多个对象引用。原则支持与字符串一样的分片与步距的语法，这使得元组中提取数据比较容易。与字符串类似，元组也会固定的，因此，不能替换或删除其中包含的任意数据项。如果需要修改有序序列，我们应该使用列表而费元祖。如果我们有一个元组，但又需要对其进行修改，那么我们可以使用list()转换函数将其转换为列表，之后在产生的列表上进行适当的修改。\n",
    "\n",
    "\n",
    "    - 元组通过圆括号中用逗号分隔的项目定义\n",
    "    - 元组通常用在时语句或用户定义的函数能够安全的采用一组值额时候，即被使用的元组的值不会改变"
   ]
  },
  {
   "cell_type": "code",
   "execution_count": 20,
   "metadata": {
    "collapsed": false
   },
   "outputs": [
    {
     "data": {
      "text/plain": [
       "'abcde'"
      ]
     },
     "execution_count": 20,
     "metadata": {},
     "output_type": "execute_result"
    }
   ],
   "source": [
    "str2"
   ]
  },
  {
   "cell_type": "code",
   "execution_count": 21,
   "metadata": {
    "collapsed": false
   },
   "outputs": [
    {
     "data": {
      "text/plain": [
       "72430848"
      ]
     },
     "execution_count": 21,
     "metadata": {},
     "output_type": "execute_result"
    }
   ],
   "source": [
    "id(str2)"
   ]
  },
  {
   "cell_type": "code",
   "execution_count": 24,
   "metadata": {
    "collapsed": false
   },
   "outputs": [
    {
     "data": {
      "text/plain": [
       "'12345'"
      ]
     },
     "execution_count": 24,
     "metadata": {},
     "output_type": "execute_result"
    }
   ],
   "source": [
    "str2 = '12345'\n",
    "str2"
   ]
  },
  {
   "cell_type": "code",
   "execution_count": 25,
   "metadata": {
    "collapsed": false
   },
   "outputs": [
    {
     "data": {
      "text/plain": [
       "72431240"
      ]
     },
     "execution_count": 25,
     "metadata": {},
     "output_type": "execute_result"
    }
   ],
   "source": [
    "id(str2)"
   ]
  },
  {
   "cell_type": "code",
   "execution_count": 26,
   "metadata": {
    "collapsed": false
   },
   "outputs": [
    {
     "data": {
      "text/plain": [
       "'milo'"
      ]
     },
     "execution_count": 26,
     "metadata": {},
     "output_type": "execute_result"
    }
   ],
   "source": [
    "userinfo = \"milo 30 male\"#用字符串这种情况不太方便，单独取时\n",
    "#如果我们想取出milo\n",
    "userinfo[:4]"
   ]
  },
  {
   "cell_type": "code",
   "execution_count": 29,
   "metadata": {
    "collapsed": false
   },
   "outputs": [
    {
     "data": {
      "text/plain": [
       "'milo'"
      ]
     },
     "execution_count": 29,
     "metadata": {},
     "output_type": "execute_result"
    }
   ],
   "source": [
    "t = (\"milo\",30,\"male\")#定义一个元组\n",
    "t[0]"
   ]
  },
  {
   "cell_type": "markdown",
   "metadata": {},
   "source": [
    "####  创建元组\n",
    "- 一个空的元组由一对空的圆括号组成      \n",
    "    - 如myempty = ()      \n",
    "- 含有单个元素的元组      \n",
    "    - singleton = (2,)      \n",
    "- 一般的元组       \n",
    "    - zoo = ('wolf','elephant','penguin')\n",
    "    - new zoo = ('monkey','dolphin',zoo)"
   ]
  },
  {
   "cell_type": "code",
   "execution_count": 30,
   "metadata": {
    "collapsed": true
   },
   "outputs": [],
   "source": [
    "t1 = ()\n",
    "t2 = (2,)"
   ]
  },
  {
   "cell_type": "code",
   "execution_count": 31,
   "metadata": {
    "collapsed": false
   },
   "outputs": [
    {
     "data": {
      "text/plain": [
       "tuple"
      ]
     },
     "execution_count": 31,
     "metadata": {},
     "output_type": "execute_result"
    }
   ],
   "source": [
    "type(t1)"
   ]
  },
  {
   "cell_type": "code",
   "execution_count": 32,
   "metadata": {
    "collapsed": false
   },
   "outputs": [
    {
     "data": {
      "text/plain": [
       "tuple"
      ]
     },
     "execution_count": 32,
     "metadata": {},
     "output_type": "execute_result"
    }
   ],
   "source": [
    "type(t2)"
   ]
  },
  {
   "cell_type": "code",
   "execution_count": 33,
   "metadata": {
    "collapsed": false
   },
   "outputs": [
    {
     "data": {
      "text/plain": [
       "int"
      ]
     },
     "execution_count": 33,
     "metadata": {},
     "output_type": "execute_result"
    }
   ],
   "source": [
    "#如果不加逗号\n",
    "t3 = (2)\n",
    "type(t3)#此时的t就不是元组类型"
   ]
  },
  {
   "cell_type": "markdown",
   "metadata": {},
   "source": [
    "#### 元组操作\n",
    "- 元组和字符串类型一样属于序列类型，可通过索引和切片操作    \n",
    "- 元组值亦不可变"
   ]
  },
  {
   "cell_type": "code",
   "execution_count": 40,
   "metadata": {
    "collapsed": false
   },
   "outputs": [
    {
     "ename": "TypeError",
     "evalue": "'tuple' object does not support item assignment",
     "output_type": "error",
     "traceback": [
      "\u001b[1;31m---------------------------------------------------------------------------\u001b[0m",
      "\u001b[1;31mTypeError\u001b[0m                                 Traceback (most recent call last)",
      "\u001b[1;32m<ipython-input-40-3470b0533219>\u001b[0m in \u001b[0;36m<module>\u001b[1;34m()\u001b[0m\n\u001b[0;32m      1\u001b[0m \u001b[1;31m#如果我们去改一个值是就会出错\u001b[0m\u001b[1;33m\u001b[0m\u001b[1;33m\u001b[0m\u001b[0m\n\u001b[1;32m----> 2\u001b[1;33m \u001b[0mt\u001b[0m\u001b[1;33m[\u001b[0m\u001b[1;36m1\u001b[0m\u001b[1;33m]\u001b[0m \u001b[1;33m=\u001b[0m \u001b[1;36m31\u001b[0m\u001b[1;33m\u001b[0m\u001b[0m\n\u001b[0m",
      "\u001b[1;31mTypeError\u001b[0m: 'tuple' object does not support item assignment"
     ]
    }
   ],
   "source": [
    "#如果我们去改一个值是就会出错\n",
    "t[1] = 31"
   ]
  },
  {
   "cell_type": "code",
   "execution_count": 34,
   "metadata": {
    "collapsed": false
   },
   "outputs": [
    {
     "data": {
      "text/plain": [
       "30"
      ]
     },
     "execution_count": 34,
     "metadata": {},
     "output_type": "execute_result"
    }
   ],
   "source": [
    "t = (\"milo\",30,\"male\")\n",
    "t[1]"
   ]
  },
  {
   "cell_type": "code",
   "execution_count": 37,
   "metadata": {
    "collapsed": false
   },
   "outputs": [
    {
     "name": "stdout",
     "output_type": "stream",
     "text": [
      "milo\n",
      "30\n",
      "male\n"
     ]
    }
   ],
   "source": [
    "name,age,gender = t\n",
    "print(name)\n",
    "print(age)\n",
    "print(gender)"
   ]
  },
  {
   "cell_type": "markdown",
   "metadata": {},
   "source": [
    "- tuple数据类型可以作为一个函数进行调用，tuple()——不指定参数时将返回一个空元组，使用tuple作为参数时将返回该参数的浅拷贝，对其他任意参数，将尝试把给定的对象转换为tuple类型，该函数最多只能接受一个参数\n",
    "\n",
    "\n",
    "- 元组只提供了两种方法:  \n",
    "\n",
    "    1.t.count(x),返回对象x在元组中出现的次数        \n",
    "    2.t.index(x)，返回对象在元组t中出现的最左边位置——在元组中不包含x时，则产生ValueError异常\n",
    "    \n",
    "下面给出几个分片实例：   "
   ]
  },
  {
   "cell_type": "code",
   "execution_count": 42,
   "metadata": {
    "collapsed": false
   },
   "outputs": [
    {
     "data": {
      "text/plain": [
       "'blonde'"
      ]
     },
     "execution_count": 42,
     "metadata": {},
     "output_type": "execute_result"
    }
   ],
   "source": [
    "hair = \"black\",\"brown\",\"blonde\",\"red\"\n",
    "hair[2]"
   ]
  },
  {
   "cell_type": "code",
   "execution_count": 43,
   "metadata": {
    "collapsed": false
   },
   "outputs": [
    {
     "data": {
      "text/plain": [
       "('brown', 'blonde', 'red')"
      ]
     },
     "execution_count": 43,
     "metadata": {},
     "output_type": "execute_result"
    }
   ],
   "source": [
    "hair[-3:]"
   ]
  },
  {
   "cell_type": "code",
   "execution_count": 44,
   "metadata": {
    "collapsed": false
   },
   "outputs": [
    {
     "data": {
      "text/plain": [
       "(('black', 'brown'), 'gray', ('blonde', 'red'))"
      ]
     },
     "execution_count": 44,
     "metadata": {},
     "output_type": "execute_result"
    }
   ],
   "source": [
    "hair[:2],\"gray\",hair[2:]"
   ]
  },
  {
   "cell_type": "markdown",
   "metadata": {},
   "source": [
    "这里我们本来想创建一个新的5元组，但结果是一个三元组，其中包含两个二元组，之所以会这样，是因为我们在3个项（一个元组，一个字符串，一个元组）之间使用了逗号操作符。要得到一个单独的元组，并包含所需项，我们必须对其进行连接："
   ]
  },
  {
   "cell_type": "code",
   "execution_count": 47,
   "metadata": {
    "collapsed": false
   },
   "outputs": [
    {
     "data": {
      "text/plain": [
       "('black', 'brown', 'gray', 'blonde', 'red')"
      ]
     },
     "execution_count": 47,
     "metadata": {},
     "output_type": "execute_result"
    }
   ],
   "source": [
    "hair[:2] + (\"gray\",) + hair[2:]"
   ]
  },
  {
   "cell_type": "markdown",
   "metadata": {},
   "source": [
    "一个元组内可以有两个嵌套的元组，任何嵌套层次的组合类型都可以类似以下方式进行创建，而不需要格式化处理"
   ]
  },
  {
   "cell_type": "code",
   "execution_count": 48,
   "metadata": {
    "collapsed": false
   },
   "outputs": [
    {
     "data": {
      "text/plain": [
       "('green', 'blue')"
      ]
     },
     "execution_count": 48,
     "metadata": {},
     "output_type": "execute_result"
    }
   ],
   "source": [
    "eyes = (\"brown\",\"hazel\",\"amber\",\"green\",\"blue\",\"gray\")\n",
    "colors = (hair,eyes)\n",
    "colors[1][3:-1]"
   ]
  },
  {
   "cell_type": "code",
   "execution_count": 49,
   "metadata": {
    "collapsed": false
   },
   "outputs": [
    {
     "data": {
      "text/plain": [
       "'z'"
      ]
     },
     "execution_count": 49,
     "metadata": {},
     "output_type": "execute_result"
    }
   ],
   "source": [
    "things = (1,-7.5,(\"pea\",(5,\"Xyz\"),\"queue\"))\n",
    "things[2][1][1][2]"
   ]
  },
  {
   "cell_type": "markdown",
   "metadata": {},
   "source": [
    "#### 命名的元组\n",
    "- 命名的元组与普通元组一样，有相同的表现特征，其添加的功能就是可以根据名称引用元组中的项，就像根据索引位置一样，这一功能使我们可以创建数据项的聚集\n",
    "\n",
    "- collection模块提供了namedtuple()函数，该函数创建自定义的元组数据类型，例如：\n",
    "```\n",
    "Sale = collections.namedtuple(\"Sale\",\n",
    "        \"productid custonerid data quantity price\")\n",
    "```\n",
    "collections.namedtuple()的第一个参数时想要创建的自定义元组数据类型的名称，第二个参数是一个字符串，其中包含使用空格分隔的名称，每个名称代表该元组数据类型的一项。\n"
   ]
  },
  {
   "cell_type": "code",
   "execution_count": 53,
   "metadata": {
    "collapsed": false
   },
   "outputs": [
    {
     "data": {
      "text/plain": [
       "220"
      ]
     },
     "execution_count": 53,
     "metadata": {},
     "output_type": "execute_result"
    }
   ],
   "source": [
    "import collections\n",
    "Aircraft = collections.namedtuple(\"Aircraft\",\n",
    "                                \"manufacturer model seating\")\n",
    "Seating = collections.namedtuple(\"Seating\",\n",
    "                               \"minimum maximum\")\n",
    "aircraft = Aircraft(\"Airbus\",\"A320-220\",Seating(100,220))\n",
    "aircraft.seating.maximum"
   ]
  },
  {
   "cell_type": "markdown",
   "metadata": {},
   "source": [
    "### 列表\n",
    "\n",
    "- 列表是包含0ge或多个对象引用的有序序列，支持与字符串以及元组一样的分片与步距语法，这使得从列表中提取数据项很容易实现，与字符串以及元组不同的是，列表是可变的，因此，我们可以对列表的项进行删除或替换，插入、替换或者删除列表中的分片也是可能的。\n",
    "- list数据类型可以作为函数进行调用，list()——不带参数进行调用时，将返回一个空列表；带一个list参数时，返回该参数的浅拷贝；对任意其他参数，则尝试将给定的对象转换为列表可以使用空的方括号来创建，包含一个或多个项的列表则可以使用逗号分隔的数据项（包含在[]）序列来创建。"
   ]
  },
  {
   "cell_type": "markdown",
   "metadata": {},
   "source": [
    "- list是处理一组有序项目的数据结构，即你可以在一个列表中存储一个序列的项目\n",
    "- 列表是可变类型的数据\n",
    "- 列表的组成：用[]表示列表，包含了多个以逗号分隔开的数字，或者字串。\n",
    "    - List = [\"Simon\",\"David\",\"Clotho\",\"张三\"]\n",
    "    - List2 = [1,2,3,4,5]\n",
    "    - List3 = [\"str1\",\"str2\",\"str3\",\"str4\"]"
   ]
  },
  {
   "cell_type": "code",
   "execution_count": 1,
   "metadata": {
    "collapsed": true
   },
   "outputs": [],
   "source": [
    "listmilo = []"
   ]
  },
  {
   "cell_type": "code",
   "execution_count": 2,
   "metadata": {
    "collapsed": false
   },
   "outputs": [
    {
     "data": {
      "text/plain": [
       "list"
      ]
     },
     "execution_count": 2,
     "metadata": {},
     "output_type": "execute_result"
    }
   ],
   "source": [
    "type(listmilo)"
   ]
  },
  {
   "cell_type": "code",
   "execution_count": 3,
   "metadata": {
    "collapsed": false
   },
   "outputs": [
    {
     "data": {
      "text/plain": [
       "'milo'"
      ]
     },
     "execution_count": 3,
     "metadata": {},
     "output_type": "execute_result"
    }
   ],
   "source": [
    "listmilo = ['milo',30,'male']\n",
    "listmilo[0]"
   ]
  },
  {
   "cell_type": "markdown",
   "metadata": {},
   "source": [
    "列表和元组的区别：元组在定义一个值的时候需要加逗号"
   ]
  },
  {
   "cell_type": "code",
   "execution_count": 4,
   "metadata": {
    "collapsed": true
   },
   "outputs": [],
   "source": [
    "t3 = ('abc')#不加逗号的时候就是字符串"
   ]
  },
  {
   "cell_type": "code",
   "execution_count": 5,
   "metadata": {
    "collapsed": false
   },
   "outputs": [
    {
     "data": {
      "text/plain": [
       "str"
      ]
     },
     "execution_count": 5,
     "metadata": {},
     "output_type": "execute_result"
    }
   ],
   "source": [
    "type(t3)"
   ]
  },
  {
   "cell_type": "code",
   "execution_count": 6,
   "metadata": {
    "collapsed": false
   },
   "outputs": [
    {
     "data": {
      "text/plain": [
       "list"
      ]
     },
     "execution_count": 6,
     "metadata": {},
     "output_type": "execute_result"
    }
   ],
   "source": [
    "l3 = ['abc']\n",
    "type(l3)"
   ]
  },
  {
   "cell_type": "markdown",
   "metadata": {},
   "source": [
    "#### 列表操作\n",
    "- 取值\n",
    "    - 切片和索引\n",
    "    - list[]\n",
    "- 添加\n",
    "    - list.append()\n",
    "- 删除\n",
    "    - del(list[])\n",
    "    - list.remove(list[])\n",
    "- 修改\n",
    "    - list[] = x\n",
    "- 查找\n",
    "    - var in list"
   ]
  },
  {
   "cell_type": "code",
   "execution_count": 7,
   "metadata": {
    "collapsed": false
   },
   "outputs": [
    {
     "data": {
      "text/plain": [
       "['milo', 30, 'male']"
      ]
     },
     "execution_count": 7,
     "metadata": {},
     "output_type": "execute_result"
    }
   ],
   "source": [
    "listmilo"
   ]
  },
  {
   "cell_type": "code",
   "execution_count": 8,
   "metadata": {
    "collapsed": false
   },
   "outputs": [
    {
     "data": {
      "text/plain": [
       "'milo'"
      ]
     },
     "execution_count": 8,
     "metadata": {},
     "output_type": "execute_result"
    }
   ],
   "source": [
    "listmilo[0]#取值"
   ]
  },
  {
   "cell_type": "code",
   "execution_count": 9,
   "metadata": {
    "collapsed": false
   },
   "outputs": [
    {
     "data": {
      "text/plain": [
       "['zou', 30, 'male']"
      ]
     },
     "execution_count": 9,
     "metadata": {},
     "output_type": "execute_result"
    }
   ],
   "source": [
    "listmilo[0] = 'zou'#修改\n",
    "listmilo"
   ]
  },
  {
   "cell_type": "code",
   "execution_count": 10,
   "metadata": {
    "collapsed": false
   },
   "outputs": [
    {
     "data": {
      "text/plain": [
       "list"
      ]
     },
     "execution_count": 10,
     "metadata": {},
     "output_type": "execute_result"
    }
   ],
   "source": [
    "type(listmilo)"
   ]
  },
  {
   "cell_type": "code",
   "execution_count": 11,
   "metadata": {
    "collapsed": false
   },
   "outputs": [
    {
     "data": {
      "text/plain": [
       "60921608"
      ]
     },
     "execution_count": 11,
     "metadata": {},
     "output_type": "execute_result"
    }
   ],
   "source": [
    "id(listmilo)#存储空间"
   ]
  },
  {
   "cell_type": "code",
   "execution_count": 13,
   "metadata": {
    "collapsed": false
   },
   "outputs": [
    {
     "data": {
      "text/plain": [
       "60921608"
      ]
     },
     "execution_count": 13,
     "metadata": {},
     "output_type": "execute_result"
    }
   ],
   "source": [
    "listmilo[0] = 'milo'\n",
    "id(listmilo)#存储空间一样"
   ]
  },
  {
   "cell_type": "code",
   "execution_count": 15,
   "metadata": {
    "collapsed": false
   },
   "outputs": [
    {
     "data": {
      "text/plain": [
       "['milo', 30, 'male', '12345', '12345']"
      ]
     },
     "execution_count": 15,
     "metadata": {},
     "output_type": "execute_result"
    }
   ],
   "source": [
    "listmilo.append(\"12345\")#增加一个值\n",
    "listmilo"
   ]
  },
  {
   "cell_type": "code",
   "execution_count": 17,
   "metadata": {
    "collapsed": false
   },
   "outputs": [],
   "source": [
    "listmilo.remove(\"12345\")#删除操作"
   ]
  },
  {
   "cell_type": "code",
   "execution_count": 18,
   "metadata": {
    "collapsed": false
   },
   "outputs": [
    {
     "data": {
      "text/plain": [
       "['milo', 30, 'male', '12345']"
      ]
     },
     "execution_count": 18,
     "metadata": {},
     "output_type": "execute_result"
    }
   ],
   "source": [
    "listmilo"
   ]
  },
  {
   "cell_type": "code",
   "execution_count": 23,
   "metadata": {
    "collapsed": true
   },
   "outputs": [],
   "source": [
    "listmilo.remove(listmilo[3])#删除操作"
   ]
  },
  {
   "cell_type": "code",
   "execution_count": 24,
   "metadata": {
    "collapsed": false
   },
   "outputs": [
    {
     "data": {
      "text/plain": [
       "['milo', 30, 'male']"
      ]
     },
     "execution_count": 24,
     "metadata": {},
     "output_type": "execute_result"
    }
   ],
   "source": [
    "listmilo"
   ]
  },
  {
   "cell_type": "markdown",
   "metadata": {},
   "source": [
    "- 有些情况下，我们需要一次提取两个或者更多个数据项，可以使用序列拆分实现。任意可迭代的（列表、元组等）数据类型都可以使用序列拆分操作符进行拆分，即\\*,用于赋值操作符左边的两个或者对个变量是，其中的一个使用\\*进行引导，数据项将赋值给该变量，而剩下的所有的数据项将赋值给带星号的变量\n",
    "\n",
    "- 操作符\\*号是用多复制操作符还是序列拆分操作符并不会产生语义上的二义性，当\\*出现在赋值操作的左边是，用作拆分操作符，出现在其他位置是，若用作单值操作符，则代表拆分操作符；若用作二进制操作符，则代表多复制操作符。"
   ]
  },
  {
   "cell_type": "code",
   "execution_count": 26,
   "metadata": {
    "collapsed": false
   },
   "outputs": [
    {
     "data": {
      "text/plain": [
       "(9, [2, -4, 8, 7])"
      ]
     },
     "execution_count": 26,
     "metadata": {},
     "output_type": "execute_result"
    }
   ],
   "source": [
    "first,*rest = [9,2,-4,8,7]\n",
    "first,rest"
   ]
  },
  {
   "cell_type": "code",
   "execution_count": 27,
   "metadata": {
    "collapsed": false
   },
   "outputs": [
    {
     "data": {
      "text/plain": [
       "('Charles', ['Philip', 'Arthur', 'George'], 'Windsor')"
      ]
     },
     "execution_count": 27,
     "metadata": {},
     "output_type": "execute_result"
    }
   ],
   "source": [
    "first,*mid,last = \"Charles Philip Arthur George Windsor\".split()\n",
    "first,mid,last"
   ]
  },
  {
   "cell_type": "code",
   "execution_count": 28,
   "metadata": {
    "collapsed": true
   },
   "outputs": [],
   "source": [
    "#定义一个有三个参数的函数\n",
    "def product(a,b,c):\n",
    "    return a * b * c "
   ]
  },
  {
   "cell_type": "code",
   "execution_count": 29,
   "metadata": {
    "collapsed": false
   },
   "outputs": [
    {
     "data": {
      "text/plain": [
       "30"
      ]
     },
     "execution_count": 29,
     "metadata": {},
     "output_type": "execute_result"
    }
   ],
   "source": [
    "#可以使用3个参数来调用该函数\n",
    "product(2,3,5)"
   ]
  },
  {
   "cell_type": "code",
   "execution_count": 30,
   "metadata": {
    "collapsed": false
   },
   "outputs": [
    {
     "data": {
      "text/plain": [
       "30"
      ]
     },
     "execution_count": 30,
     "metadata": {},
     "output_type": "execute_result"
    }
   ],
   "source": [
    "#也可以使用带星号的参数\n",
    "L = [2,3,5]\n",
    "product(*L)\n",
    "#在这里列表的3个参数被*拆分，调用函数时，函数将得到这三个参数"
   ]
  },
  {
   "cell_type": "markdown",
   "metadata": {},
   "source": [
    "#### 列表内涵\n",
    "- 小列表通常可以使用列表字面值来创建，但是长一点的列表，通常需要使用程序进行创建。对于一系列整数，我们可以使用list(range(n))创建，或者如果需要一个整数迭代子，使用range()就足以完成任务，但对更复杂一些的列表，使用for...in循环创建是一种更常见的做法。"
   ]
  },
  {
   "cell_type": "code",
   "execution_count": 37,
   "metadata": {
    "collapsed": false
   },
   "outputs": [
    {
     "data": {
      "text/plain": [
       "[1904, 1908, 1912, 1916, 1920, 1924, 1928, 1932, 1936]"
      ]
     },
     "execution_count": 37,
     "metadata": {},
     "output_type": "execute_result"
    }
   ],
   "source": [
    "#生成给定时间范围内的闰年列表\n",
    "leaps = []\n",
    "for year in range(1900,1940):\n",
    "    if(year % 4 == 0 and year % 100 != 0)or(year % 400 == 0):\n",
    "        leaps.append(year)\n",
    "leaps"
   ]
  },
  {
   "cell_type": "markdown",
   "metadata": {},
   "source": [
    "- 列表内涵是一个表达式，也是一个循环该循环有一个可选的、包含在方括号中的条件，作用是为列表生成的数据项，并且可以使用条件过滤掉不需要的数据项。列表内涵最简单的形式如下：\n",
    "```\n",
    "[item for item in iterable]\n",
    "```\n",
    "上面的语句将返回一个列表，其中包含iterable中的每个数据项，在语义上与list(iterable)是一致的。有两个特点使得列表内涵具有强大的功能，也更能引起使用者的兴趣，一个是可以使用表达式，另一个是可以附加条件——由此带来如下两种列表内涵的常见语法格式：\n",
    "```\n",
    "[expression for item in iterable]       \n",
    "[expression for item in iterable if condition]     \n",
    "```\n",
    "\n",
    "第二种语法格式实际上等价于：\n",
    "```\n",
    "temp = []     \n",
    "for item in iterable:     \n",
    "    if condition:\n",
    "        temp.append(expression)\n",
    "```"
   ]
  },
  {
   "cell_type": "code",
   "execution_count": 39,
   "metadata": {
    "collapsed": false
   },
   "outputs": [
    {
     "data": {
      "text/plain": [
       "[1904, 1908, 1912, 1916, 1920, 1924, 1928, 1932, 1936]"
      ]
     },
     "execution_count": 39,
     "metadata": {},
     "output_type": "execute_result"
    }
   ],
   "source": [
    "#上面例子如果使用列表内涵,减少了代码量\n",
    "\n",
    "leaps = [y for y in range(1900,1940)\n",
    "        if(y % 4 == 0 and y % 100 != 0)or(y % 400 == 0)]\n",
    "leaps"
   ]
  },
  {
   "cell_type": "code",
   "execution_count": 41,
   "metadata": {
    "collapsed": false
   },
   "outputs": [
    {
     "data": {
      "text/plain": [
       "['MSB',\n",
       " 'MSG',\n",
       " 'MSM',\n",
       " 'MMB',\n",
       " 'MMG',\n",
       " 'MMM',\n",
       " 'MLB',\n",
       " 'MLG',\n",
       " 'MLM',\n",
       " 'MXB',\n",
       " 'MXG',\n",
       " 'MXM',\n",
       " 'FSB',\n",
       " 'FSG',\n",
       " 'FSM',\n",
       " 'FMB',\n",
       " 'FMG',\n",
       " 'FMM',\n",
       " 'FLB',\n",
       " 'FLG',\n",
       " 'FLM']"
      ]
     },
     "execution_count": 41,
     "metadata": {},
     "output_type": "execute_result"
    }
   ],
   "source": [
    "#举一个复杂一点的例子\n",
    "\n",
    "codes = []\n",
    "for sex in \"MF\":\n",
    "    for size in \"SMLX\":\n",
    "        if sex  == \"F\" and size == \"X\":\n",
    "            continue\n",
    "        for color in \"BGM\":\n",
    "            codes.append(sex + size +color)\n",
    "codes"
   ]
  },
  {
   "cell_type": "code",
   "execution_count": 42,
   "metadata": {
    "collapsed": false
   },
   "outputs": [
    {
     "data": {
      "text/plain": [
       "['MSB',\n",
       " 'MSG',\n",
       " 'MSM',\n",
       " 'MMB',\n",
       " 'MMG',\n",
       " 'MMM',\n",
       " 'MLB',\n",
       " 'MLG',\n",
       " 'MLM',\n",
       " 'MXB',\n",
       " 'MXG',\n",
       " 'MXM',\n",
       " 'FSB',\n",
       " 'FSG',\n",
       " 'FSM',\n",
       " 'FMB',\n",
       " 'FMG',\n",
       " 'FMM',\n",
       " 'FLB',\n",
       " 'FLG',\n",
       " 'FLM']"
      ]
     },
     "execution_count": 42,
     "metadata": {},
     "output_type": "execute_result"
    }
   ],
   "source": [
    "#使用列表内涵\n",
    "codes = [s + z + c for s in \"MF\" for z in \"SMLX\" for c in \"BGM\"\n",
    "        if not(s == \"F\" and z == \"X\")]\n",
    "codes"
   ]
  },
  {
   "cell_type": "markdown",
   "metadata": {},
   "source": [
    "## 集合类型\n",
    "- set也是一种组合数据类型，支持成员关系操作符（in）、对象大小计算操作符（len（）），并且也是iterable.\n",
    "- Python提供了两种内置的集合类型：可变的set类型，固定的frozenset类型。\n",
    "- 只有可哈希运算的对象可以添加到集合中，所有的内置的固定类型（比如：float、frozenset、int、str、tuple）都是可哈希运算的，都可以添加到集合中。内置的可变数据类型（比如：dict、list、set）都不是可哈希运算的，因为其哈希值会随着包含项数的变化而变化，因此，这些数据类型不能添加到集合中。\n"
   ]
  },
  {
   "cell_type": "markdown",
   "metadata": {},
   "source": [
    "### 集合\n",
    "- 集合是0个或者对个对象引用的无序组合，这些对象引用所引用的对象都是可哈希运算的。集合是可变的，因此可以很容易的添加或者移除数据项，但由于其中项是无序的，因此没有索引位置的概念，也不能分片或按步距分片。\n",
    "- set数据类型可以作为函数进行调用，set()——不带参数进行调用时将返回一个空集合；带一个set参数返回该参数的浅拷贝；对任意其他参数，则尝试将给定的对象转换为集合。该参数只接受一个参数的情况。非空集合也可以不使用set()函数创建，空集合必须使用set()函数创建，而不能使用空的圆括号来创建。包含一个或多个项的集合，可以使用逗号分隔的数据项（包括在圆括号中）序列来创建，另一种创建方法就是使用集合内涵。\n",
    "\n",
    "使用集合内涵创建集合的语法格式：\n",
    "```\n",
    "{expression for item in iterable}      \n",
    "{expression for item in iterable if condition}\n",
    "\n",
    "```"
   ]
  },
  {
   "cell_type": "code",
   "execution_count": 46,
   "metadata": {
    "collapsed": false
   },
   "outputs": [
    {
     "name": "stdout",
     "output_type": "stream",
     "text": [
      "{'p', 'a', 'e', 'l'}\n",
      "{'p', 'a', 'e', 'l'}\n"
     ]
    },
    {
     "data": {
      "text/plain": [
       "{'a', 'e', 'l', 'p'}"
      ]
     },
     "execution_count": 46,
     "metadata": {},
     "output_type": "execute_result"
    }
   ],
   "source": [
    "#下面产生的三个集合是一样的\n",
    "s1 = set(\"apple\")  \n",
    "print(s1)\n",
    "s2 = set(\"aple\") \n",
    "print(s2)\n",
    "{'e','p','a','l'}"
   ]
  },
  {
   "cell_type": "markdown",
   "metadata": {},
   "source": [
    "## 映射类型\n",
    "- 映射类型是一种支持成员关系操作符（in）与尺寸函数（len（））的数据类型，并且也是可以迭代的。映射是键-值数据项的组合，并提供了存取数据项及其键、值得方法。\n",
    "- python 3.0支持两种无序的映射类型——内置的dict类型，以及标准库中的collections.defaultdict类型。\n",
    "- 只有哈希运算的对象可用作字典的键，因此，固定的数据类型比如：float、frozenset、int、str、tuple）都可以做字典的键，可变的数据类型（比如dict、list与set）则不能"
   ]
  },
  {
   "cell_type": "markdown",
   "metadata": {},
   "source": [
    "### 字典\n",
    "\n",
    "- 字典是python中唯一的映射类型（哈希表）\n",
    "- 字典对象是可变的，但是字典的键必须使用不可变对象，并且一个字典中可以使用不同类型的键值\n",
    "- key()或者value（)返回键列表或者数值列表\n",
    "- items()返回包含键值的元组"
   ]
  },
  {
   "cell_type": "code",
   "execution_count": 54,
   "metadata": {
    "collapsed": false
   },
   "outputs": [],
   "source": [
    "#定义一个列表\n",
    "#t = [name \"milo\",age = 30]\n",
    "t1 = ['name','age','gender']\n",
    "t2 = ['milo',30,'male']"
   ]
  },
  {
   "cell_type": "markdown",
   "metadata": {},
   "source": [
    "#### 创建字典\n",
    "- {}\n",
    "- 使用工厂方法dict（0\n",
    "    - 例：fdict = dict(['x',1],['y',2])\n",
    "- 内建方法：fromkey()，字典中的元素具有相同的值，默认为None\n",
    "    - 例：ddict = {}.fromkeys(('x','y'),-1)"
   ]
  },
  {
   "cell_type": "code",
   "execution_count": 65,
   "metadata": {
    "collapsed": false
   },
   "outputs": [
    {
     "data": {
      "text/plain": [
       "'milo'"
      ]
     },
     "execution_count": 65,
     "metadata": {},
     "output_type": "execute_result"
    }
   ],
   "source": [
    "dic = {\"name\":\"milo\",'age':30,\"gender\":\"amle\"}\n",
    "dic['name']"
   ]
  },
  {
   "cell_type": "code",
   "execution_count": 67,
   "metadata": {
    "collapsed": false
   },
   "outputs": [
    {
     "data": {
      "text/plain": [
       "{1: '123', 'name': 'milo', 'x': 456}"
      ]
     },
     "execution_count": 67,
     "metadata": {},
     "output_type": "execute_result"
    }
   ],
   "source": [
    "dic1 = {1:'123',\"name\":\"milo\",'x':456}\n",
    "dic1"
   ]
  },
  {
   "cell_type": "code",
   "execution_count": 68,
   "metadata": {
    "collapsed": false
   },
   "outputs": [
    {
     "data": {
      "text/plain": [
       "'aaa'"
      ]
     },
     "execution_count": 68,
     "metadata": {},
     "output_type": "execute_result"
    }
   ],
   "source": [
    "a = 123\n",
    "b = 456\n",
    "dic2 = {a:\"aaa\",\"b\":\"bbbb\"}\n",
    "dic2[123]"
   ]
  },
  {
   "cell_type": "code",
   "execution_count": 69,
   "metadata": {
    "collapsed": false
   },
   "outputs": [
    {
     "data": {
      "text/plain": [
       "{'x': -1, 'y': -1}"
      ]
     },
     "execution_count": 69,
     "metadata": {},
     "output_type": "execute_result"
    }
   ],
   "source": [
    "ddict = {}.fromkeys(('x','y'),-1)\n",
    "ddict"
   ]
  },
  {
   "cell_type": "markdown",
   "metadata": {},
   "source": [
    "#### 访问字典的值\n",
    "- 直接使用key访问，key不存在报错，可以使用had_key()或者in和not in判断，但是had_key()方法即将放弃。\n",
    "- 循环遍历：\n",
    "    - 例：for key in dict1.keys():\n",
    "- 使用迭代器：for key in dict1:"
   ]
  },
  {
   "cell_type": "code",
   "execution_count": 70,
   "metadata": {
    "collapsed": false
   },
   "outputs": [
    {
     "data": {
      "text/plain": [
       "{'age': 30, 'gender': 'amle', 'name': 'milo'}"
      ]
     },
     "execution_count": 70,
     "metadata": {},
     "output_type": "execute_result"
    }
   ],
   "source": [
    "dic"
   ]
  },
  {
   "cell_type": "code",
   "execution_count": 71,
   "metadata": {
    "collapsed": false
   },
   "outputs": [
    {
     "name": "stdout",
     "output_type": "stream",
     "text": [
      "gender\n",
      "name\n",
      "age\n"
     ]
    }
   ],
   "source": [
    "for k in dic:\n",
    "    print(k)"
   ]
  },
  {
   "cell_type": "code",
   "execution_count": 73,
   "metadata": {
    "collapsed": false
   },
   "outputs": [
    {
     "name": "stdout",
     "output_type": "stream",
     "text": [
      "amle\n",
      "milo\n",
      "30\n"
     ]
    }
   ],
   "source": [
    "for k in dic:\n",
    "    print(dic[k])"
   ]
  },
  {
   "cell_type": "markdown",
   "metadata": {},
   "source": [
    "#### 更新和删除\n",
    "- 直接用键值访问更新：内建的update()方法可以将整个字典内容拷贝到另一个字典中。\n",
    "- del dict1['a']删除字典中键值为a的元素\n",
    "    - dict1.pop('a')删除并且返回键为'a'的元素\n",
    "    - dict1.clear()删除字典所有元素\n",
    "    - del dict1删除整个字典"
   ]
  },
  {
   "cell_type": "code",
   "execution_count": 74,
   "metadata": {
    "collapsed": false
   },
   "outputs": [
    {
     "data": {
      "text/plain": [
       "{'age': 30, 'gender': 'amle', 'name': 'milo'}"
      ]
     },
     "execution_count": 74,
     "metadata": {},
     "output_type": "execute_result"
    }
   ],
   "source": [
    "dic"
   ]
  },
  {
   "cell_type": "code",
   "execution_count": 78,
   "metadata": {
    "collapsed": false
   },
   "outputs": [
    {
     "data": {
      "text/plain": [
       "{'age': 30, 'gender': 'amle', 'name': 'milo', 'tel': '12345678'}"
      ]
     },
     "execution_count": 78,
     "metadata": {},
     "output_type": "execute_result"
    }
   ],
   "source": [
    "dic['tel'] = '12345678'#在字典中增加一个值\n",
    "dic"
   ]
  },
  {
   "cell_type": "code",
   "execution_count": 79,
   "metadata": {
    "collapsed": false
   },
   "outputs": [
    {
     "data": {
      "text/plain": [
       "{'age': 30, 'gender': 'amle', 'name': 'milo'}"
      ]
     },
     "execution_count": 79,
     "metadata": {},
     "output_type": "execute_result"
    }
   ],
   "source": [
    "del(dic['tel'])\n",
    "dic"
   ]
  },
  {
   "cell_type": "code",
   "execution_count": 80,
   "metadata": {
    "collapsed": false
   },
   "outputs": [
    {
     "data": {
      "text/plain": [
       "30"
      ]
     },
     "execution_count": 80,
     "metadata": {},
     "output_type": "execute_result"
    }
   ],
   "source": [
    "dic.pop('age')#弹出age的值"
   ]
  },
  {
   "cell_type": "code",
   "execution_count": 81,
   "metadata": {
    "collapsed": false
   },
   "outputs": [
    {
     "data": {
      "text/plain": [
       "{'gender': 'amle', 'name': 'milo'}"
      ]
     },
     "execution_count": 81,
     "metadata": {},
     "output_type": "execute_result"
    }
   ],
   "source": [
    "dic"
   ]
  },
  {
   "cell_type": "code",
   "execution_count": 82,
   "metadata": {
    "collapsed": true
   },
   "outputs": [],
   "source": [
    "dic.clear()#清空整个字典，此时字典dic仍然存在，只是一个空字典"
   ]
  },
  {
   "cell_type": "code",
   "execution_count": 83,
   "metadata": {
    "collapsed": false
   },
   "outputs": [
    {
     "data": {
      "text/plain": [
       "{}"
      ]
     },
     "execution_count": 83,
     "metadata": {},
     "output_type": "execute_result"
    }
   ],
   "source": [
    "dic"
   ]
  },
  {
   "cell_type": "code",
   "execution_count": 84,
   "metadata": {
    "collapsed": false
   },
   "outputs": [
    {
     "ename": "NameError",
     "evalue": "name 'dic' is not defined",
     "output_type": "error",
     "traceback": [
      "\u001b[1;31m---------------------------------------------------------------------------\u001b[0m",
      "\u001b[1;31mNameError\u001b[0m                                 Traceback (most recent call last)",
      "\u001b[1;32m<ipython-input-84-9841ee1c8079>\u001b[0m in \u001b[0;36m<module>\u001b[1;34m()\u001b[0m\n\u001b[0;32m      1\u001b[0m \u001b[1;32mdel\u001b[0m\u001b[1;33m(\u001b[0m\u001b[0mdic\u001b[0m\u001b[1;33m)\u001b[0m\u001b[1;31m#删除字典\u001b[0m\u001b[1;33m\u001b[0m\u001b[0m\n\u001b[1;32m----> 2\u001b[1;33m \u001b[0mdic\u001b[0m\u001b[1;33m\u001b[0m\u001b[0m\n\u001b[0m",
      "\u001b[1;31mNameError\u001b[0m: name 'dic' is not defined"
     ]
    }
   ],
   "source": [
    "del(dic)#删除字典\n",
    "dic"
   ]
  },
  {
   "cell_type": "markdown",
   "metadata": {},
   "source": [
    "- 字典相关的内建函数：\n",
    "    - type(),str(),cmp()(cmp很少用于字典的比较，比较依次是字典的大小、键、值)\n",
    "- 工厂函数dict():\n",
    "    - 例如：dict(zip('x','y'),(1,2))或者dict(x = 1,y = 2)\n",
    "    -     {'y':2,'x':1}\n",
    "- 使用字典生成字典比用copy慢，因此这种情况下推荐使用copy()"
   ]
  },
  {
   "cell_type": "markdown",
   "metadata": {},
   "source": [
    "字典方法\n",
    "\n",
    "| 语法  |  描述 |\n",
    "|:------:|:---------:|\n",
    "| d.clear()   | 从dict d中移除所有项   |\n",
    "| d.copy()   |  返回dict d的浅拷贝  |\n",
    "| d.fromkeys(s,v)   | 返回一个dict，改字典的键为序列s中的项，值为None或v   |\n",
    "| d.get(k)    | 返回键k相关联的值，如果k不存在dict d中就返回None   |\n",
    "| d.get(k,v)   | 返回键k相关联的值，如果k不存在dict d中就返回v   |\n",
    "| d.items()   | 返回dict d中所有（key，value）对的视图   |\n",
    "| d.keys()   |  返回dict d中所有键的视图  |\n",
    "| d.pop(k)   | 返回键k相关联的值，并移除键为k的项，如果k不包含在d中就产生KeyError异常   |\n",
    "| d.pop(k,v)   | 返回键k相关联的值，并移除键为k的项，如果k不包含在d中就返回v   |\n",
    "| d.popitem()   |  返回并移除dict d中的任意的（key，value）对，如果d为空就产生KeyError异常  |\n",
    "| d.setdefault(k,v)   | 与dict.get()方法一样，不同之处在于，如果k没有包含在dict d中就插入一个键为k的新项，其值为None或v（如果给定了参数v）   |\n",
    "| d.update(a)   | 将a额每个尚未包含在dict d中的（key，value）对添加到d，对同时包含在d与a中的每个键，使用a中对应的值替换d中对应的值——a可以是字典，也可以是（key，value）对的iterable，或关键字参数|\n",
    "| d.value()   | 返回dict d所有值得视图   |\n"
   ]
  },
  {
   "cell_type": "markdown",
   "metadata": {},
   "source": [
    "和list比较，dict有以下几个特点：\n",
    "\n",
    "\n",
    "- 查找和插入的速度极快，不会随着key的增加而变慢；\n",
    "- 需要占用大量的内存，内存浪费多。\n",
    "\n",
    "而list相反：\n",
    "\n",
    "- 查找和插入的时间随着元素的增加而增加；\n",
    "- 占用空间小，浪费内存很少。"
   ]
  },
  {
   "cell_type": "code",
   "execution_count": null,
   "metadata": {
    "collapsed": true
   },
   "outputs": [],
   "source": []
  }
 ],
 "metadata": {
  "kernelspec": {
   "display_name": "Python 3",
   "language": "python",
   "name": "python3"
  },
  "language_info": {
   "codemirror_mode": {
    "name": "ipython",
    "version": 3
   },
   "file_extension": ".py",
   "mimetype": "text/x-python",
   "name": "python",
   "nbconvert_exporter": "python",
   "pygments_lexer": "ipython3",
   "version": "3.5.1"
  }
 },
 "nbformat": 4,
 "nbformat_minor": 0
}
