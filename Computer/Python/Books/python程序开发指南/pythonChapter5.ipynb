{
 "cells": [
  {
   "cell_type": "markdown",
   "metadata": {},
   "source": [
    "# Python第五章学习\n",
    "\n",
    "函数：\n",
    "\n",
    "- [x] 函数定义和调用\n",
    "\n",
    "- [x] 函数名称与Docstrings\n",
    "\n",
    "- [x] 函数参数\n",
    "\n",
    "- [x] 函数变量作用域\n",
    "\n",
    "- [x] 函数及return返回值\n",
    "\n",
    "- [x] 函数冗余参数\n",
    "\n",
    "- [x] 函数lambda匿名函数\n",
    "\n",
    "- [x] switch实现\n",
    "\n",
    "内建函数：      \n",
    "\n",
    "- [x] 字符串处理\n",
    "\n",
    "- [x] 序列处理"
   ]
  },
  {
   "cell_type": "markdown",
   "metadata": {},
   "source": [
    "## 函数\n",
    "\n",
    "- 函数就是为了完成特定功能的一个语句组，这组语句可以作为一个单位使用，并且给他取一个名字\n",
    "\n",
    "- 可以通过函数名在程序的不同地方多次执行（这通常叫做函数的调用），却不需要在所有地方都重复编写这些语句\n",
    "\n",
    "- 自定义函数\n",
    "    - 用户自己编写的     \n",
    "\n",
    "- 预定义的Python函数\n",
    "    - 系自带的一些函数，还有一些第三方编写的函数，如其他程序员编写的一些函数，对于这些现成的函数用户可以直接拿来使用"
   ]
  },
  {
   "cell_type": "markdown",
   "metadata": {},
   "source": [
    "**为什么使用函数：**     \n",
    "\n",
    "- 降低编程难度\n",
    "    - 通常将一个复杂的大问题，分解成一系列更简单的小问题，然后将小问题继续划分成更小的问题，当问题细化的足够简单的时候，我们就可以分而治之，这是，我们可以使用函数来处理待定的问题，各个小问题解决了，大问题也就迎刃而解。      \n",
    "    \n",
    "- 代码重用      \n",
    "    - 我们定义的函数可以在一个程序的多个位置使用，也可以用于多个程序，此外，我们还可以把函数放到一个模块中供其他程序员使用，同时，我们也可以使用其他程序员定义的函数，这就避免了重复劳动，提高了工作效率。"
   ]
  },
  {
   "cell_type": "markdown",
   "metadata": {},
   "source": [
    "### 函数的定义和调用\n",
    "- 但我们自己定义一个函数时，通常用def语句，其语法形式如下：\n",
    "```\n",
    "def function(parameter):\n",
    "    suite\n",
    "```\n",
    "\n",
    "- 调用函数时：\n",
    "```\n",
    "function(parameter)\n",
    "```"
   ]
  },
  {
   "cell_type": "code",
   "execution_count": 2,
   "metadata": {
    "collapsed": false
   },
   "outputs": [
    {
     "name": "stdout",
     "output_type": "stream",
     "text": [
      "300\n"
     ]
    }
   ],
   "source": [
    "#实现a+b\n",
    "a = 100\n",
    "b = 200\n",
    "c = a + b\n",
    "print(c)"
   ]
  },
  {
   "cell_type": "code",
   "execution_count": 3,
   "metadata": {
    "collapsed": false
   },
   "outputs": [
    {
     "name": "stdout",
     "output_type": "stream",
     "text": [
      "300\n"
     ]
    }
   ],
   "source": [
    "#如果我们重复使用的时候就要不停的去写这几句代码，下面我们可以使用函数定义\n",
    "def add():\n",
    "    c = a + b\n",
    "    print(c)\n",
    "    \n",
    "#下面我们用函数名调用这个函数\n",
    "add()"
   ]
  },
  {
   "cell_type": "code",
   "execution_count": 6,
   "metadata": {
    "collapsed": false
   },
   "outputs": [
    {
     "name": "stdout",
     "output_type": "stream",
     "text": [
      "100\n",
      "good\n",
      "good\n"
     ]
    }
   ],
   "source": [
    "#定义一个函数，不去调用时不会有任何操作\n",
    "a = 100\n",
    "\n",
    "def fun():\n",
    "    if True:\n",
    "        print(\"good\")\n",
    "        \n",
    "#调用函数\n",
    "print(a)\n",
    "\n",
    "fun()\n",
    "fun()"
   ]
  },
  {
   "cell_type": "markdown",
   "metadata": {},
   "source": [
    "### 函数名称和Docstrings\n",
    "- 对函数及其参数进行合理的命名可以使得其他的程序员更容易理解函数的用途和用法：\n",
    "    - 使用命名框架，并保持一致性\n",
    "    - 对所有名称，要避免使用缩略，除非是标准化并广泛使用的。\n",
    "    - 合理的使用变量和参数名：x非常适合用作x坐标参数，i适合于用作循环计数器等。通常情况下，名称应该足够长以具备很好的描述性，名称应该描述数据的含义，而不是其类型。\n",
    "    - 函数名与方法名应该可以表明其行为或返回值，但不应该是为了表示如何实现的——因为事先方法因人而异。\n",
    "- Docstrings\n",
    "    - 通过使用Docstrings，我们可以添加任何函数文档信息，他可以简单的添加在def行之后，函数代码开始之前的字符串，下面例子："
   ]
  },
  {
   "cell_type": "code",
   "execution_count": 92,
   "metadata": {
    "collapsed": false
   },
   "outputs": [
    {
     "name": "stdout",
     "output_type": "stream",
     "text": [
      "5 is maximum\n",
      " Print the maximum of two number.\n",
      "    \n",
      "    The two value must be integers.\n"
     ]
    }
   ],
   "source": [
    "def printMax(x,y):\n",
    "    \"\"\" Print the maximum of two number.\n",
    "    \n",
    "    The two value must be integers.\"\"\"\n",
    "    x = int(x)\n",
    "    y = int(y)\n",
    "    \n",
    "    if x > y:\n",
    "        print(x,\"is maximum\")\n",
    "    else:\n",
    "        print(y,\"is maximum\")\n",
    "    \n",
    "printMax(3,5)\n",
    "print(printMax.__doc__)"
   ]
  },
  {
   "cell_type": "markdown",
   "metadata": {},
   "source": [
    "- 文档字符串的惯例是一个多行字符串，它的首行是以大写字母开始，句号结尾。第二行是空行，从第三行开始是详细的描述"
   ]
  },
  {
   "cell_type": "markdown",
   "metadata": {},
   "source": [
    "### 函数参数\n",
    "\n",
    "- 形式参数和实际参数\n",
    "    - 在定义函数时函数名后面圆括号中的变量名称叫做“形式参数”，简称“形参”。     \n",
    "    - 在调用函数时，函数名后面圆括号里面的参数名称叫做实际参数，简称“实参”"
   ]
  },
  {
   "cell_type": "code",
   "execution_count": 10,
   "metadata": {
    "collapsed": false
   },
   "outputs": [
    {
     "name": "stdout",
     "output_type": "stream",
     "text": [
      "input somethin:hello\n",
      "I get a: hello\n"
     ]
    }
   ],
   "source": [
    "def fun(x):#x位形参\n",
    "    print(\"I get a:\",x)\n",
    "\n",
    "s = input(\"input somethin:\")\n",
    "\n",
    "fun(s)#s为实参"
   ]
  },
  {
   "cell_type": "code",
   "execution_count": 18,
   "metadata": {
    "collapsed": false
   },
   "outputs": [
    {
     "name": "stdout",
     "output_type": "stream",
     "text": [
      "4 is maximum\n",
      "7 is maximum\n",
      "input price:10\n",
      "input taste:巧克力\n",
      "正在生成一个 10 元 巧克力 口味的冰激凌\n"
     ]
    }
   ],
   "source": [
    "def printMax(a,b):\n",
    "    if a > b:\n",
    "        print(a,\"is maximum\")\n",
    "    else:\n",
    "        print(b,\"is maximum\")\n",
    "        \n",
    "printMax(3,4)\n",
    "\n",
    "x = 5\n",
    "y = 7\n",
    "\n",
    "printMax(x,y)\n",
    "\n",
    "def mashine(x,y):\n",
    "    print(\"正在生成一个\",x,\"元\",y,\"口味的冰激凌\")\n",
    "\n",
    "s1 = input(\"input price:\")\n",
    "s2 = input(\"input taste:\")\n",
    "\n",
    "mashine(s1,s2)"
   ]
  },
  {
   "cell_type": "markdown",
   "metadata": {},
   "source": [
    "- 缺省参数（默认参数）在没有输入参数的情况下，默认输出\n",
    "```\n",
    "def function(a,b=\"1\")\n",
    "```\n",
    ">注意：只有在形参末尾的那些参数可以有默认参数值，即不能声明函数形参的时候先声明有默认值得形参而后声明没有默认值的形参，如：def func(a = 5,b)是无效的"
   ]
  },
  {
   "cell_type": "code",
   "execution_count": 2,
   "metadata": {
    "collapsed": false
   },
   "outputs": [
    {
     "name": "stdout",
     "output_type": "stream",
     "text": [
      "input price:\n",
      "input taste:\n",
      "正在生成一个 10 元 巧克力 口味的冰激凌\n"
     ]
    }
   ],
   "source": [
    "def mashine(x = 10,y = \"巧克力\"):\n",
    "    print(\"正在生成一个\",x,\"元\",y,\"口味的冰激凌\")\n",
    "\n",
    "s1 = input(\"input price:\")\n",
    "s2 = input(\"input taste:\")\n",
    "\n",
    "mashine()"
   ]
  },
  {
   "cell_type": "markdown",
   "metadata": {
    "collapsed": true
   },
   "source": [
    "### 函数变量作用域\n",
    "- 局部变量和全局变量\n",
    "    - Python的任何变量都有其特定的作用域     \n",
    "    - 在函数中定义的变量一般只能在函数内部使用，这些只能在程序的特定部分使用的变量我们称之为局部变量；      \n",
    "    - 在一个文件顶部定义的变量可以供该文件中的任何函数调用，这些可以为整个程序所使用的变量我们成为全局变量。"
   ]
  },
  {
   "cell_type": "code",
   "execution_count": 17,
   "metadata": {
    "collapsed": false
   },
   "outputs": [
    {
     "name": "stdout",
     "output_type": "stream",
     "text": [
      "100\n",
      "i am global var\n",
      "i am global var\n"
     ]
    }
   ],
   "source": [
    "x = \"i am global var\"\n",
    "\n",
    "def fun():\n",
    "    \n",
    "    c = 100  #局部变量    \n",
    "    print(c)\n",
    "    print(x)\n",
    "    \n",
    "fun()\n",
    "#print(c)\n",
    "print(x)"
   ]
  },
  {
   "cell_type": "code",
   "execution_count": 23,
   "metadata": {
    "collapsed": false
   },
   "outputs": [
    {
     "name": "stdout",
     "output_type": "stream",
     "text": [
      "100\n",
      "i am global var\n",
      "200\n"
     ]
    }
   ],
   "source": [
    "x = \"i am global var\"\n",
    "\n",
    "def fun():\n",
    "    x = 100#局部变量只能在函数内部使用\n",
    "    global y#强制声明为一个全局变量\n",
    "    y = 200\n",
    "    print(x)\n",
    "    \n",
    "fun()#当函数没有调用时，y仍然不是全局变量    \n",
    "#print(c)\n",
    "print(x)\n",
    "print(y)"
   ]
  },
  {
   "cell_type": "markdown",
   "metadata": {},
   "source": [
    ">这里需要注意的是global语句的使用，该语句的作用是告知Python，某个变量的作用范围是全局范围，对变量的赋值应该应用于全局变量，而不是创建一个同名的本地变量"
   ]
  },
  {
   "cell_type": "markdown",
   "metadata": {},
   "source": [
    "### 函数及return返回值\n",
    "- 函数返回值\n",
    "    - 函数被调用后会返回一个指定的值\n",
    "    - 函数调用后默认返回None\n",
    "    - return 返回值\n",
    "    - 返回值可以是任意类型\n",
    "    - return执行后，函数终止\n",
    "    - 区分返回值和打印"
   ]
  },
  {
   "cell_type": "code",
   "execution_count": 31,
   "metadata": {
    "collapsed": false
   },
   "outputs": [
    {
     "name": "stdout",
     "output_type": "stream",
     "text": [
      "welcome!\n"
     ]
    },
    {
     "data": {
      "text/plain": [
       "5"
      ]
     },
     "execution_count": 31,
     "metadata": {},
     "output_type": "execute_result"
    }
   ],
   "source": [
    "def f(x,y):\n",
    "    print(\"welcome!\")#向屏幕输出\n",
    "    return(x + y)#返回一个值\n",
    "\n",
    "f(2,3)"
   ]
  },
  {
   "cell_type": "code",
   "execution_count": 32,
   "metadata": {
    "collapsed": false
   },
   "outputs": [
    {
     "data": {
      "text/plain": [
       "'one'"
      ]
     },
     "execution_count": 32,
     "metadata": {},
     "output_type": "execute_result"
    }
   ],
   "source": [
    "def f():\n",
    "    return \"one\"#return执行后，函数终止\n",
    "    return \"two\"\n",
    "f()"
   ]
  },
  {
   "cell_type": "code",
   "execution_count": 35,
   "metadata": {
    "collapsed": false
   },
   "outputs": [
    {
     "name": "stdout",
     "output_type": "stream",
     "text": [
      "hello world\n"
     ]
    },
    {
     "data": {
      "text/plain": [
       "0"
      ]
     },
     "execution_count": 35,
     "metadata": {},
     "output_type": "execute_result"
    }
   ],
   "source": [
    "def f(x,y):\n",
    "    if x > y:\n",
    "        return 1\n",
    "    print(\"hello world\")\n",
    "    if x < y:\n",
    "        return 0\n",
    "    return -1\n",
    "f(1,2)"
   ]
  },
  {
   "cell_type": "markdown",
   "metadata": {},
   "source": [
    "### 函数冗余参数\n",
    "- 多类型传值\n",
    "    - 向函数传元组和字典\n",
    "    ```\n",
    "    fun(*args)\n",
    "    fun(**kwords)\n",
    "    ```\n",
    "    - 处理多余实参\n",
    "    ```\n",
    "    def fun(*arg,**kw)\n",
    "    ```\n",
    "- 传值冗余\n",
    "\n"
   ]
  },
  {
   "cell_type": "code",
   "execution_count": 39,
   "metadata": {
    "collapsed": false
   },
   "outputs": [
    {
     "name": "stdout",
     "output_type": "stream",
     "text": [
      "[0, 1, 2, 3, 4, 5, 6, 7, 8, 9]\n"
     ]
    }
   ],
   "source": [
    "def f(x):\n",
    "    print(x)\n",
    "\n",
    "l = list(range(10))\n",
    "\n",
    "f(l)"
   ]
  },
  {
   "cell_type": "code",
   "execution_count": 49,
   "metadata": {
    "collapsed": false
   },
   "outputs": [
    {
     "name": "stdout",
     "output_type": "stream",
     "text": [
      "a:b\n",
      "name:milo\n"
     ]
    }
   ],
   "source": [
    "def f(x,y):\n",
    "    print(\"{0}:{1}\".format(x,y))\n",
    "\n",
    "f(\"a\",\"b\")\n",
    "\n",
    "t = (\"name\",\"milo\")\n",
    "\n",
    "f(*t)#*号对列表进行了拆分"
   ]
  },
  {
   "cell_type": "code",
   "execution_count": 47,
   "metadata": {
    "collapsed": false
   },
   "outputs": [
    {
     "name": "stdout",
     "output_type": "stream",
     "text": [
      "10,10\n"
     ]
    }
   ],
   "source": [
    "x = \"10\"\n",
    "y = \"10\"\n",
    "print(\"{0},{1}\".format(x,y))#字符串的格式化"
   ]
  },
  {
   "cell_type": "markdown",
   "metadata": {},
   "source": [
    "option字典的键值进行拆分是，每个键的值被赋予适当的参数，参数的名称与键相同，我们可以在参数中使用映射拆分操作符，通过这种方式创建的函数可以接受给定的任意数量的关键字参数"
   ]
  },
  {
   "cell_type": "code",
   "execution_count": 59,
   "metadata": {
    "collapsed": false
   },
   "outputs": [
    {
     "name": "stdout",
     "output_type": "stream",
     "text": [
      "name:milo\n",
      "age:30\n"
     ]
    }
   ],
   "source": [
    "def f(name = \"name\",age = 0):\n",
    "    print(\"name:{0}\".format(name))\n",
    "    print(\"age:{0}\".format(age))\n",
    "\n",
    "d = {\"age\" : 30, \"name\" :\"milo\"}\n",
    "f(**d)#双星号拆分字典"
   ]
  },
  {
   "cell_type": "markdown",
   "metadata": {},
   "source": [
    "- 处理多余参数"
   ]
  },
  {
   "cell_type": "code",
   "execution_count": 63,
   "metadata": {
    "collapsed": false
   },
   "outputs": [
    {
     "name": "stdout",
     "output_type": "stream",
     "text": [
      "1\n",
      "(2, 3)\n"
     ]
    }
   ],
   "source": [
    "def f(x,*args):\n",
    "    print(x)\n",
    "    print(args)\n",
    "\n",
    "f(1,2,3)"
   ]
  },
  {
   "cell_type": "markdown",
   "metadata": {},
   "source": [
    "- 这一函数有一个名为args的参数，在args前面有一个“\\*”，这意味着，在函数内部，参数args可以是一个元组，其项数随给定的位置参数个数的变化而变化"
   ]
  },
  {
   "cell_type": "code",
   "execution_count": 64,
   "metadata": {
    "collapsed": false
   },
   "outputs": [
    {
     "name": "stdout",
     "output_type": "stream",
     "text": [
      "1\n",
      "(2, 3, 4, 5, 6)\n",
      "{}\n"
     ]
    }
   ],
   "source": [
    "def f(x,*args,**kwargs):\n",
    "    print(x)\n",
    "    print(args)\n",
    "    print(kwargs)\n",
    "    \n",
    "f(1,2,3,4,5,6)"
   ]
  },
  {
   "cell_type": "markdown",
   "metadata": {},
   "source": [
    "- 这里有一个kwargs的参数，在其之前有两个星号，在函数内部，参数kwargs可以是一个字典"
   ]
  },
  {
   "cell_type": "code",
   "execution_count": 66,
   "metadata": {
    "collapsed": false
   },
   "outputs": [
    {
     "name": "stdout",
     "output_type": "stream",
     "text": [
      "1\n",
      "(2, 3, 4, 5, 6)\n",
      "{'z': 30, 'y': 20}\n"
     ]
    }
   ],
   "source": [
    "def f(x,*args,**kwargs):\n",
    "    print(x)\n",
    "    print(args)\n",
    "    print(kwargs)\n",
    "    \n",
    "f(1,2,3,4,5,6,y = 20,z = 30)"
   ]
  },
  {
   "cell_type": "markdown",
   "metadata": {},
   "source": [
    "### lambda\n",
    "- 匿名函数\n",
    "    - lambda函数是一种快速定义单行的最小函数，是从Lisp借来用的，可以用在任何需要函数的地方\n",
    "- 语法格式：\n",
    "lambda paraments:expressiom\n",
    ">paraments是可选的，如果提供，通常是逗号分隔的变量名形式，也就是位置参数，当然，def语句支持的完整参数语法格式也可以使用\n",
    "- lambda语句中，冒号前是参数，可以有多个，用逗号隔开，冒号右边是返回值。lambda语句构建的其实是一个函数对象"
   ]
  },
  {
   "cell_type": "code",
   "execution_count": 67,
   "metadata": {
    "collapsed": false
   },
   "outputs": [
    {
     "data": {
      "text/plain": [
       "6"
      ]
     },
     "execution_count": 67,
     "metadata": {},
     "output_type": "execute_result"
    }
   ],
   "source": [
    "#定义一个平常的函数\n",
    "def f(x,y):\n",
    "    return(x*y)\n",
    "f(2,3)"
   ]
  },
  {
   "cell_type": "code",
   "execution_count": 70,
   "metadata": {
    "collapsed": false
   },
   "outputs": [
    {
     "data": {
      "text/plain": [
       "6"
      ]
     },
     "execution_count": 70,
     "metadata": {},
     "output_type": "execute_result"
    }
   ],
   "source": [
    "#用lamabda定义\n",
    "g = lambda x,y:x*y\n",
    "g(2,3)"
   ]
  },
  {
   "cell_type": "markdown",
   "metadata": {},
   "source": [
    "- 1.使用python写一些执行脚本时，使用lambda可以省去定义函数的过程，让代码更加精简\n",
    "- 2.对于一些抽象的，不会别的地方再复用的函数，有时候给函数起个名字也是也难题，使用lambda不需要考虑命名的问题\n",
    "- 3.使用lambda在某些时候让代码更容易理解"
   ]
  },
  {
   "cell_type": "markdown",
   "metadata": {},
   "source": [
    "### switch实现\n",
    "- switch语句用于编写多分支结构的程序，类似于if...elif...else语句\n",
    "- switch语句表达的分支结构比if..elif..else语句表达的更清晰，代码的可读性更高\n",
    "- **但python并没有提供switch语句**\n",
    "- python可以通过字典实现switch语句的功能\n",
    "- 实现方法分为两步：\n",
    "    - 首先，定义一个字典。\n",
    "    - 其次，调用字典的get()获取相应的表达式\n",
    " \n",
    "- 通过字典调用函数：\n",
    "    - {1：case1,2:case2}.get(x,lambda \\*arg,\\*\\*key:)()"
   ]
  },
  {
   "cell_type": "code",
   "execution_count": 78,
   "metadata": {
    "collapsed": false
   },
   "outputs": [
    {
     "name": "stdout",
     "output_type": "stream",
     "text": [
      "5\n",
      "0.5\n"
     ]
    }
   ],
   "source": [
    "from __future__ import division\n",
    "def add(x,y):\n",
    "    return x + y\n",
    "\n",
    "def jian(x,y):\n",
    "    return x - y\n",
    "\n",
    "def cheng(x,y):\n",
    "    return x * y\n",
    "\n",
    "def chu(x,y):\n",
    "    return x / y\n",
    "\n",
    "def operator(x,y,o):\n",
    "    if o == \"+\":\n",
    "        print(add(x,y))\n",
    "    elif o == \"-\":\n",
    "        print(jian(x,y))\n",
    "    elif o == \"*\":\n",
    "        print(cheng(x,y))\n",
    "    elif o == \"/\":\n",
    "        print(chu(x,y))\n",
    "    else:\n",
    "        pass\n",
    "    \n",
    "operator(2,3,'+')\n",
    "operator(2,4,'/')"
   ]
  },
  {
   "cell_type": "code",
   "execution_count": 91,
   "metadata": {
    "collapsed": false
   },
   "outputs": [
    {
     "name": "stdout",
     "output_type": "stream",
     "text": [
      "5\n",
      "5\n"
     ]
    }
   ],
   "source": [
    "from __future__ import division\n",
    "\n",
    "def jia(x,y):\n",
    "    return x + y\n",
    "\n",
    "def jian(x,y):\n",
    "    return x - y\n",
    "\n",
    "def cheng(x,y):\n",
    "    return x * y\n",
    "\n",
    "def chu(x,y):\n",
    "    return x / y\n",
    "\n",
    "operator = {\"+\":jia,\"-\":jian,\"*\":cheng,\"/\":chu}#通过字典取得字典对象\n",
    "\n",
    "print(operator[\"+\"](2,3))\n",
    "\n",
    "def f(x,o,y):\n",
    "    print(operator.get(o)(x,y))\n",
    "\n",
    "f(3,\"+\",2)"
   ]
  },
  {
   "cell_type": "markdown",
   "metadata": {},
   "source": [
    "## 内置函数\n",
    "\n",
    "常用函数   \n",
    "\n",
    "- abs():绝对值\n",
    "- max():最大值\n",
    "- min():最小值\n",
    "- len():长度\n",
    "- divmod():两数相除的商和余数\n",
    "- pow():幂运算\n",
    "- round:返回浮点数\n",
    "- callable():测试函数是否能被调用\n",
    "- isinstance():判断某个对象的类型\n",
    "- cmp():比较两个字符串\n",
    "- range():快速生成一个序列\n",
    "\n",
    "类型转化的函数：\n",
    "- type()\n",
    "- int()\n",
    "- long()\n",
    "- float()\n",
    "- complex()\n",
    "- tuple()\n",
    "- str()\n",
    "- list()\n",
    "- hex()\n",
    "- oct()\n",
    "- chr()\n",
    "- ord()\n",
    "\n",
    ">以上函数都可以通过help了解其功能用法"
   ]
  },
  {
   "cell_type": "code",
   "execution_count": 94,
   "metadata": {
    "collapsed": false
   },
   "outputs": [
    {
     "name": "stdout",
     "output_type": "stream",
     "text": [
      "10\n"
     ]
    }
   ],
   "source": [
    "def a(x):\n",
    "    if x < 0:\n",
    "        return -x\n",
    "    return x\n",
    "\n",
    "n = a(10)\n",
    "print(n)"
   ]
  },
  {
   "cell_type": "code",
   "execution_count": 95,
   "metadata": {
    "collapsed": false
   },
   "outputs": [
    {
     "data": {
      "text/plain": [
       "10"
      ]
     },
     "execution_count": 95,
     "metadata": {},
     "output_type": "execute_result"
    }
   ],
   "source": [
    "abs(-10)"
   ]
  },
  {
   "cell_type": "code",
   "execution_count": 103,
   "metadata": {
    "collapsed": false
   },
   "outputs": [
    {
     "data": {
      "text/plain": [
       "2"
      ]
     },
     "execution_count": 103,
     "metadata": {},
     "output_type": "execute_result"
    }
   ],
   "source": [
    "l = [2,3,4,5,6,67,68,79,23]\n",
    "len(l)\n",
    "min(l)"
   ]
  },
  {
   "cell_type": "code",
   "execution_count": 104,
   "metadata": {
    "collapsed": false
   },
   "outputs": [
    {
     "data": {
      "text/plain": [
       "(2, 1)"
      ]
     },
     "execution_count": 104,
     "metadata": {},
     "output_type": "execute_result"
    }
   ],
   "source": [
    "#当我们想知道一个函数怎么用时，可以使用help（object）\n",
    "divmod(5,2)"
   ]
  },
  {
   "cell_type": "code",
   "execution_count": 107,
   "metadata": {
    "collapsed": false
   },
   "outputs": [
    {
     "name": "stdout",
     "output_type": "stream",
     "text": [
      "Help on built-in function pow in module builtins:\n",
      "\n",
      "pow(x, y, z=None, /)\n",
      "    Equivalent to x**y (with two arguments) or x**y % z (with three arguments)\n",
      "    \n",
      "    Some types, such as ints, are able to use a more efficient algorithm when\n",
      "    invoked using the three argument form.\n",
      "\n"
     ]
    }
   ],
   "source": [
    "#pow函数的用法\n",
    "help(pow)"
   ]
  },
  {
   "cell_type": "code",
   "execution_count": 106,
   "metadata": {
    "collapsed": false
   },
   "outputs": [
    {
     "data": {
      "text/plain": [
       "0"
      ]
     },
     "execution_count": 106,
     "metadata": {},
     "output_type": "execute_result"
    }
   ],
   "source": [
    "pow(2,3,4)"
   ]
  },
  {
   "cell_type": "code",
   "execution_count": 109,
   "metadata": {
    "collapsed": false
   },
   "outputs": [
    {
     "data": {
      "text/plain": [
       "12"
      ]
     },
     "execution_count": 109,
     "metadata": {},
     "output_type": "execute_result"
    }
   ],
   "source": [
    "#round函数用法\n",
    "round(12)"
   ]
  },
  {
   "cell_type": "code",
   "execution_count": 110,
   "metadata": {
    "collapsed": false
   },
   "outputs": [
    {
     "data": {
      "text/plain": [
       "True"
      ]
     },
     "execution_count": 110,
     "metadata": {},
     "output_type": "execute_result"
    }
   ],
   "source": [
    "callable(max)"
   ]
  },
  {
   "cell_type": "code",
   "execution_count": 111,
   "metadata": {
    "collapsed": false
   },
   "outputs": [
    {
     "data": {
      "text/plain": [
       "True"
      ]
     },
     "execution_count": 111,
     "metadata": {},
     "output_type": "execute_result"
    }
   ],
   "source": [
    "isinstance(l,list)#判断某个对象的类型"
   ]
  },
  {
   "cell_type": "code",
   "execution_count": 113,
   "metadata": {
    "collapsed": false
   },
   "outputs": [
    {
     "data": {
      "text/plain": [
       "range(0, 10)"
      ]
     },
     "execution_count": 113,
     "metadata": {},
     "output_type": "execute_result"
    }
   ],
   "source": [
    "range(10)"
   ]
  },
  {
   "cell_type": "code",
   "execution_count": 115,
   "metadata": {
    "collapsed": false
   },
   "outputs": [
    {
     "data": {
      "text/plain": [
       "(2, 3, 4, 5, 6, 67, 68, 79, 23)"
      ]
     },
     "execution_count": 115,
     "metadata": {},
     "output_type": "execute_result"
    }
   ],
   "source": [
    "tuple(l)"
   ]
  },
  {
   "cell_type": "markdown",
   "metadata": {},
   "source": [
    "当我们使用函数时，应该现象一下Python是否提供了这种内置函数，如果提供就省了自己编写的时间"
   ]
  },
  {
   "cell_type": "markdown",
   "metadata": {},
   "source": [
    "### string函数\n",
    "- str.capitalize()\n",
    "- str.replace()\n",
    "- str.split()"
   ]
  },
  {
   "cell_type": "code",
   "execution_count": 117,
   "metadata": {
    "collapsed": false
   },
   "outputs": [
    {
     "data": {
      "text/plain": [
       "'Hello world'"
      ]
     },
     "execution_count": 117,
     "metadata": {},
     "output_type": "execute_result"
    }
   ],
   "source": [
    "s = \"hello world\"\n",
    "#让字符串首字母大写\n",
    "s.capitalize()"
   ]
  },
  {
   "cell_type": "code",
   "execution_count": 118,
   "metadata": {
    "collapsed": false
   },
   "outputs": [
    {
     "data": {
      "text/plain": [
       "'good world'"
      ]
     },
     "execution_count": 118,
     "metadata": {},
     "output_type": "execute_result"
    }
   ],
   "source": [
    "#字符串替换\n",
    "s.replace(\"hello\",\"good\")"
   ]
  },
  {
   "cell_type": "code",
   "execution_count": 120,
   "metadata": {
    "collapsed": false
   },
   "outputs": [
    {
     "data": {
      "text/plain": [
       "['192', '168.1.123']"
      ]
     },
     "execution_count": 120,
     "metadata": {},
     "output_type": "execute_result"
    }
   ],
   "source": [
    "ip = \"192.168.1.123\"\n",
    "ip.split(\".\",1)"
   ]
  },
  {
   "cell_type": "markdown",
   "metadata": {},
   "source": [
    "### 序列处理函数\n",
    "- len()\n",
    "- max()\n",
    "- min()\n",
    "- filter()\n",
    "- zip()\n",
    "- map()\n",
    "- reduce()"
   ]
  },
  {
   "cell_type": "code",
   "execution_count": 123,
   "metadata": {
    "collapsed": false
   },
   "outputs": [
    {
     "name": "stdout",
     "output_type": "stream",
     "text": [
      "Help on class filter in module builtins:\n",
      "\n",
      "class filter(object)\n",
      " |  filter(function or None, iterable) --> filter object\n",
      " |  \n",
      " |  Return an iterator yielding those items of iterable for which function(item)\n",
      " |  is true. If function is None, return the items that are true.\n",
      " |  \n",
      " |  Methods defined here:\n",
      " |  \n",
      " |  __getattribute__(self, name, /)\n",
      " |      Return getattr(self, name).\n",
      " |  \n",
      " |  __iter__(self, /)\n",
      " |      Implement iter(self).\n",
      " |  \n",
      " |  __new__(*args, **kwargs) from builtins.type\n",
      " |      Create and return a new object.  See help(type) for accurate signature.\n",
      " |  \n",
      " |  __next__(self, /)\n",
      " |      Implement next(self).\n",
      " |  \n",
      " |  __reduce__(...)\n",
      " |      Return state information for pickling.\n",
      "\n"
     ]
    }
   ],
   "source": [
    "help(filter)"
   ]
  },
  {
   "cell_type": "code",
   "execution_count": 129,
   "metadata": {
    "collapsed": false
   },
   "outputs": [
    {
     "data": {
      "text/plain": [
       "[23, 6, 7]"
      ]
     },
     "execution_count": 129,
     "metadata": {},
     "output_type": "execute_result"
    }
   ],
   "source": [
    "def f(x):\n",
    "    if x > 5:\n",
    "        return True\n",
    "\n",
    "f(10)\n",
    "\n",
    "l = [1,23,4,4,5,6,7]\n",
    "\n",
    "a = list(filter(f,l))#过滤掉小于等于5的数\n",
    "a"
   ]
  },
  {
   "cell_type": "code",
   "execution_count": 159,
   "metadata": {
    "collapsed": false
   },
   "outputs": [
    {
     "data": {
      "text/plain": [
       "[('milo', 20, '133'), ('zou', 30, '156'), ('tom', 40, '189')]"
      ]
     },
     "execution_count": 159,
     "metadata": {},
     "output_type": "execute_result"
    }
   ],
   "source": [
    "name = [\"milo\",\"zou\",\"tom\"]\n",
    "age = [20,30,40]\n",
    "tel = [\"133\",\"156\",\"189\"]\n",
    "list(zip(name,age,tel))"
   ]
  },
  {
   "cell_type": "code",
   "execution_count": 160,
   "metadata": {
    "collapsed": false
   },
   "outputs": [
    {
     "data": {
      "text/plain": [
       "[('milo', 20, '133'), ('zou', 30, '156'), ('tom', 40, '189')]"
      ]
     },
     "execution_count": 160,
     "metadata": {},
     "output_type": "execute_result"
    }
   ],
   "source": [
    "def f1( x,y,z ):  \n",
    "    return (x,y,z)\n",
    "\n",
    "list(map(f1,name,age,tel))"
   ]
  },
  {
   "cell_type": "code",
   "execution_count": 161,
   "metadata": {
    "collapsed": false
   },
   "outputs": [
    {
     "name": "stdout",
     "output_type": "stream",
     "text": [
      "[1, 2, 3, 4, 5, 6, 7, 8, 9, 10, 11, 12, 13, 14, 15, 16, 17, 18, 19, 20, 21, 22, 23, 24, 25, 26, 27, 28, 29, 30, 31, 32, 33, 34, 35, 36, 37, 38, 39, 40, 41, 42, 43, 44, 45, 46, 47, 48, 49, 50, 51, 52, 53, 54, 55, 56, 57, 58, 59, 60, 61, 62, 63, 64, 65, 66, 67, 68, 69, 70, 71, 72, 73, 74, 75, 76, 77, 78, 79, 80, 81, 82, 83, 84, 85, 86, 87, 88, 89, 90, 91, 92, 93, 94, 95, 96, 97, 98, 99, 100]\n",
      "5050\n"
     ]
    }
   ],
   "source": [
    "l = list(range(1,101))\n",
    "print(l)\n",
    "\n",
    "n = 0\n",
    "\n",
    "for i in l:\n",
    "    n += i\n",
    "    \n",
    "print(n)"
   ]
  },
  {
   "cell_type": "markdown",
   "metadata": {},
   "source": [
    "在Python 3里,reduce()函数已经被从全局名字空间里移除了,它现在被放置在fucntools模块里用的话要先引入："
   ]
  },
  {
   "cell_type": "code",
   "execution_count": 162,
   "metadata": {
    "collapsed": false
   },
   "outputs": [
    {
     "data": {
      "text/plain": [
       "5050"
      ]
     },
     "execution_count": 162,
     "metadata": {},
     "output_type": "execute_result"
    }
   ],
   "source": [
    "from functools import reduce \n",
    "\n",
    "def f2(x,y):\n",
    "    return(x + y)\n",
    "\n",
    "reduce(f2,l)"
   ]
  },
  {
   "cell_type": "code",
   "execution_count": 163,
   "metadata": {
    "collapsed": false
   },
   "outputs": [
    {
     "data": {
      "text/plain": [
       "5050"
      ]
     },
     "execution_count": 163,
     "metadata": {},
     "output_type": "execute_result"
    }
   ],
   "source": [
    "reduce(lambda x,y:x + y,l)"
   ]
  },
  {
   "cell_type": "code",
   "execution_count": 166,
   "metadata": {
    "collapsed": false
   },
   "outputs": [
    {
     "name": "stdout",
     "output_type": "stream",
     "text": [
      "[2, 4, 6, 8, 10, 12, 14, 16, 18, 20, 22, 24, 26, 28, 30, 32, 34, 36, 38, 40, 42, 44, 46, 48, 50, 52, 54, 56, 58, 60, 62, 64, 66, 68, 70, 72, 74, 76, 78, 80, 82, 84, 86, 88, 90, 92, 94, 96, 98, 100]\n"
     ]
    }
   ],
   "source": [
    "print(list(filter(lambda x:x % 2 == 0,l)))"
   ]
  },
  {
   "cell_type": "code",
   "execution_count": 170,
   "metadata": {
    "collapsed": false
   },
   "outputs": [
    {
     "name": "stdout",
     "output_type": "stream",
     "text": [
      "[12, 14, 16, 18, 20, 22, 24, 26, 28, 30, 32, 34, 36, 38, 40, 42, 44, 46, 48, 50, 52, 54, 56, 58, 60, 62, 64, 66, 68, 70, 72, 74, 76, 78, 80, 82, 84, 86, 88, 90, 92, 94, 96, 98, 100, 102, 104, 106, 108, 110, 112, 114, 116, 118, 120, 122, 124, 126, 128, 130, 132, 134, 136, 138, 140, 142, 144, 146, 148, 150, 152, 154, 156, 158, 160, 162, 164, 166, 168, 170, 172, 174, 176, 178, 180, 182, 184, 186, 188, 190, 192, 194, 196, 198, 200, 202, 204, 206, 208, 210]\n"
     ]
    }
   ],
   "source": [
    "print(list(map(lambda x:x * 2 +10,l)))"
   ]
  },
  {
   "cell_type": "code",
   "execution_count": null,
   "metadata": {
    "collapsed": true
   },
   "outputs": [],
   "source": []
  }
 ],
 "metadata": {
  "kernelspec": {
   "display_name": "Python 3",
   "language": "python",
   "name": "python3"
  },
  "language_info": {
   "codemirror_mode": {
    "name": "ipython",
    "version": 3
   },
   "file_extension": ".py",
   "mimetype": "text/x-python",
   "name": "python",
   "nbconvert_exporter": "python",
   "pygments_lexer": "ipython3",
   "version": "3.5.1"
  }
 },
 "nbformat": 4,
 "nbformat_minor": 0
}
