{
 "cells": [
  {
   "cell_type": "markdown",
   "metadata": {},
   "source": [
    "# Django 表单\n",
    "\n",
    "有时候我们需要在前台用 get 或 post 方法提交一些数据，所以自己写一个网页，用到 html 表单的知识。\n",
    "\n"
   ]
  },
  {
   "cell_type": "markdown",
   "metadata": {},
   "source": [
    "## 第一节\n",
    "\n",
    "比如写一个计算 a和 b 之和的简单应用，网页上这么写\n",
    "```html\n",
    "<!DOCTYPE html>\n",
    "<html>\n",
    "<body>\n",
    "<p>请输入两个数字</p>\n",
    " \n",
    " \n",
    "<form action=\"/add/\" method=\"get\">\n",
    "    a: <input type=\"text\" name=\"a\"> <br>\n",
    "    b: <input type=\"text\" name=\"b\"> <br>\n",
    "     \n",
    "    <input type=\"submit\" value=\"提交\">\n",
    "</form>\n",
    " \n",
    " \n",
    "</body>\n",
    "</html>\n",
    "```\n",
    "把这些代码保存成一个index.html，放在 templates 文件夹中。"
   ]
  },
  {
   "cell_type": "markdown",
   "metadata": {},
   "source": [
    "网页的值传到服务器是通过 `<input>` 或 `<textarea>`标签中的 name 属性来传递的，在服务器端这么接收：\n",
    "\n",
    "```python\n",
    "from django.http import HttpResponse\n",
    "from django.shortcuts import render\n",
    " \n",
    "def index(request):\n",
    "    return render(request, 'index.html')\n",
    "     \n",
    "def add(request):\n",
    "    a = request.GET['a']\n",
    "    b = request.GET['b']\n",
    "    a = int(a)\n",
    "    b = int(b)\n",
    "    return HttpResponse(str(a+b))\n",
    "```\n",
    "request.GET 可以看成一个字典，用GET方法传递的值都会保存到其中，可以用 request.GET.get('key', None)来取值，没有时不报错。"
   ]
  },
  {
   "cell_type": "markdown",
   "metadata": {},
   "source": [
    "## 第二节，使用 Django 的 表单 (forms)\n",
    "\n",
    "- 新建一个 zqxt_form2 项目\n",
    "```\n",
    "django-admin.py startproject zqxt_form2\n",
    "```\n",
    "进入到 zqxt_form2 文件夹，新建一个 tools APP\n",
    "```\n",
    "python manage.py startapp tools\n",
    "```"
   ]
  },
  {
   "cell_type": "markdown",
   "metadata": {},
   "source": [
    "- 在tools文件夹中新建一个 forms.py 文件\n",
    "\n",
    "```python\n",
    "from django import forms\n",
    " \n",
    "class AddForm(forms.Form):\n",
    "    a = forms.IntegerField()\n",
    "    b = forms.IntegerField()\n",
    "```"
   ]
  },
  {
   "cell_type": "markdown",
   "metadata": {},
   "source": [
    "- 我们的视图函数 views.py 中\n",
    "\n",
    "```python\n",
    "from django.shortcuts import render\n",
    "\n",
    "# Create your views here.\n",
    "\n",
    "from django.http import HttpResponse\n",
    "from .forms import AddForm\n",
    "\n",
    "def index(request):\n",
    "    if request.method == 'POST':\n",
    "        form = AddForm(request.POST)\n",
    "        if form.is_valid():\n",
    "            a = form.cleaned_data['a']\n",
    "            b = form.cleaned_data['b']\n",
    "            return HttpResponse(str(int(a) + int(b)))\n",
    "    else:\n",
    "        form = AddForm()\n",
    "    return render(request, 'index.html', {'form':form})\n",
    "```"
   ]
  },
  {
   "cell_type": "markdown",
   "metadata": {},
   "source": [
    "- 对应的模板文件 index.html\n",
    "\n",
    "```python\n",
    "<form method='post'>\n",
    "{% csrf_token %}\n",
    "{{ form }}\n",
    "<input type=\"submit\" value=\"提交\">\n",
    "</form>\n",
    "```\n"
   ]
  },
  {
   "cell_type": "markdown",
   "metadata": {},
   "source": [
    "- 再在 urls.py 中对应写上这个函数\n",
    "\n",
    "```python\n",
    "from django.conf.urls import patterns, include, url\n",
    " \n",
    "from django.contrib import admin\n",
    "admin.autodiscover()\n",
    " \n",
    "urlpatterns = patterns('',\n",
    "    # 注意下面这一行\n",
    "    url(r'^$', 'tools.views.index', name='home'),\n",
    "    url(r'^admin/', include(admin.site.urls)),\n",
    ")\n",
    "```"
   ]
  },
  {
   "cell_type": "code",
   "execution_count": null,
   "metadata": {
    "collapsed": true
   },
   "outputs": [],
   "source": []
  }
 ],
 "metadata": {
  "kernelspec": {
   "display_name": "Python [Root]",
   "language": "python",
   "name": "Python [Root]"
  },
  "language_info": {
   "codemirror_mode": {
    "name": "ipython",
    "version": 3
   },
   "file_extension": ".py",
   "mimetype": "text/x-python",
   "name": "python",
   "nbconvert_exporter": "python",
   "pygments_lexer": "ipython3",
   "version": "3.5.1"
  }
 },
 "nbformat": 4,
 "nbformat_minor": 0
}
