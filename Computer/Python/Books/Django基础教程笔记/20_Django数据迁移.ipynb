{
 "cells": [
  {
   "cell_type": "markdown",
   "metadata": {},
   "source": [
    "# Django数据迁移\n"
   ]
  },
  {
   "cell_type": "markdown",
   "metadata": {},
   "source": [
    "- 首先安装postgreSQL\n",
    "\n",
    "```\n",
    "sudo apt install postgresql-client-common\n",
    "```"
   ]
  },
  {
   "cell_type": "markdown",
   "metadata": {},
   "source": [
    "## 一，简单的数据导出与导入（简单的迁移）\n",
    "\n"
   ]
  },
  {
   "cell_type": "markdown",
   "metadata": {},
   "source": [
    "** 1. django 项目提供了一个导出的方法 python manage.py dumpdata, 不指定 appname 时默认为导出所有的app **\n",
    "\n",
    "```\n",
    "python manage.py dumpdata [appname] > appname_data.json\n",
    "```\n",
    "比如我们有一个项目叫 mysite, 里面有一个 app 叫 blog ,我们想导出 blog 的所有数据\n",
    "\n",
    "```\n",
    "python manage.py dumpdata blog > blog_dump.json\n",
    "```\n"
   ]
  },
  {
   "cell_type": "markdown",
   "metadata": {},
   "source": [
    "**2. 数据导入,不需要指定 appname**\n",
    "\n",
    "```\n",
    "python manage.py loaddata blog_dump.json\n",
    "```\n",
    "备注：一些常用的\n",
    "\n",
    ">python manage.py dumpdata auth > auth.json # 导出用户数据\n",
    "\n",
    "优点：可以兼容各种支持的数据库，也就是说，以前用的是 SQLite3，可以导出后，用这种方法导入到 MySQL, PostgreSQL等数据库，反过来也可以。\n",
    "\n",
    "缺点：数据量大的时候，速度相对较慢，表的关系比较复杂的时候可以导入不成功。"
   ]
  },
  {
   "cell_type": "markdown",
   "metadata": {},
   "source": [
    "## 二，数据库的迁移"
   ]
  },
  {
   "cell_type": "markdown",
   "metadata": {},
   "source": [
    "** 1.用 Django 自带的命令 **\n",
    "\n",
    "比如早期我们为了开发方便，用的sqlite3数据库，后来发现网站数据太多，sqlite3性能有点跟不上了，想换成postgreSQL,或者 MySQL的时候。\n",
    "\n",
    "如果还我还使用上面的命令，如果你运气好的话，也许会导入成功，流程如下：\n"
   ]
  },
  {
   "cell_type": "markdown",
   "metadata": {},
   "source": [
    "1.从原来的整个数据库导出所有数据\n",
    "```\n",
    "python manage.py dumpdata > mysite_all_data.json\n",
    "```\n"
   ]
  },
  {
   "cell_type": "markdown",
   "metadata": {},
   "source": [
    "2.将mysite_all_data.json传送到另一个服务器或电脑上导入\n",
    "```\n",
    "python manage.py loaddata mysite_all_data.json\n",
    "```"
   ]
  },
  {
   "cell_type": "markdown",
   "metadata": {},
   "source": [
    "** 如果你运气好的话可能会导入完成，但是往往不那么顺利，原因如下： **\n",
    "\n",
    ">a) 我们在写models的时候如果用到CharField,就一定要写max_length,在sqlite3中是不检查这个最大长度的，你写最大允许长度为100，你往数据库放10000个，sqlite3都不报错，而且不截断数据的长度，这似乎是slite3的优点，但是也给从sqlite3导入其它数据库带来了困难,因为MySQL和PostgreSQL数据库都会检查最大长度，超出时就报错！\n",
    "\n",
    "\n",
    "\n",
    ">b) Django 自带的contentType会导致出现一些问题\n",
    "\n",
    ">用上面的方法只迁移一个app应该问题不大，但是如果有用户，用户组挂钩，事情往往变得糟糕！如果导入后没有对数据进行修改，你可以考虑重新导入，可能还要快一些，如果是手动在后台输入或者修改过，这种方法就不适用了\n",
    "\n"
   ]
  },
  {
   "cell_type": "markdown",
   "metadata": {},
   "source": [
    "** 2, 用数据库自带的导出导入命令 **\n",
    "\n",
    "预备知识：\n",
    "```\n",
    "先输入 mysql (比如 mysql -u root -p) 进入数据库 shell\n",
    " \n",
    "创建 GBK 格式的数据库 zqxt\n",
    "create database `zqxt` DEFAULT CHARACTER SET gbk COLLATE gbk_chinese_ci;\n",
    " \n",
    "创建 UTF8 格式的数据库 zqxt\n",
    "CREATE DATABASE `zqxt` DEFAULT CHARACTER SET utf8 COLLATE utf8_general_ci;\n",
    " \n",
    "赋予数据库（zqxt）权限给某用户，可以是已经存在的用户或新用户名\n",
    "GRANT ALL PRIVILEGES ON zqxt.* TO \"任意用户名\"@\"localhost\" IDENTIFIED BY \"新密码\";\n",
    " \n",
    "刷新权限\n",
    "FLUSH PRIVILEGES;\n",
    " \n",
    "退出数据库shell\n",
    "EXIT;\n",
    "```"
   ]
  },
  {
   "cell_type": "markdown",
   "metadata": {},
   "source": [
    "** 假定 Django 用的数据库名称为 zqxt **\n",
    "\n",
    "- 1.在 PostgreSQL 中：\n",
    "\n",
    "```PostgreSQL\n",
    "# 导出数据库 zqxt 到 zqxt.sql 文件中\n",
    "pg_dump zqxt > zqxt.sql\n",
    " \n",
    "# 导入数据库到 新的服务器\n",
    "psql zqxt -f zqxt.sql\n",
    "```\n",
    "\n",
    ">注意：数据导入导出可能需要数据库超级权限,用 sudo su postgres 切换到数据库超级用户 postgres"
   ]
  },
  {
   "cell_type": "markdown",
   "metadata": {},
   "source": [
    "- 2.在MySQL 中：\n",
    "\n",
    "使用网页工具，比如phpMyAdmin 导入导出很简单，这里就不说了，主要说一下命令行如何操作：\n",
    "\n",
    "```mysql\n",
    "# 导出数据库 zqxt 到 zqxt.sql 文件中\n",
    "mysqldump -u username -p --database zqxt > zqxt.sql\n",
    " \n",
    "# 导入数据库到 新的服务器\n",
    "mysql -u username -p\n",
    "```\n",
    "\n",
    "输入密码进入 MySQL 命令行\n",
    "\n",
    "```mysql\n",
    "> source /path/to/zqxt.sql\n",
    "```\n"
   ]
  },
  {
   "cell_type": "markdown",
   "metadata": {},
   "source": [
    "总结：其它的数据库，请自行搜索如何导入导出，整个数据库导出的好处就是对数据之间的关系处理比较省事，比如自强学堂里面的很多教程，上一篇和下一篇是一个一对一的关系，这样的话用 python manage.py dumpdata 无法导出教程与教程的关系，但是数据库整个导出就没有任何问题，当然也可以写一个脚本去导出关系再导入。Django 自带的 python manage.py dumpdata 和 python manage.py loaddata 最大的好处就是可以跨数据库进行导入导出。"
   ]
  },
  {
   "cell_type": "code",
   "execution_count": null,
   "metadata": {
    "collapsed": true
   },
   "outputs": [],
   "source": []
  }
 ],
 "metadata": {
  "anaconda-cloud": {},
  "kernelspec": {
   "display_name": "Python [Root]",
   "language": "python",
   "name": "Python [Root]"
  },
  "language_info": {
   "codemirror_mode": {
    "name": "ipython",
    "version": 3
   },
   "file_extension": ".py",
   "mimetype": "text/x-python",
   "name": "python",
   "nbconvert_exporter": "python",
   "pygments_lexer": "ipython3",
   "version": "3.5.1"
  }
 },
 "nbformat": 4,
 "nbformat_minor": 0
}
