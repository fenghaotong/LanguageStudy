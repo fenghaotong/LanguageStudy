{
 "cells": [
  {
   "cell_type": "markdown",
   "metadata": {},
   "source": [
    "# Django后台\n",
    "\n",
    "django的后台我们只要加少些代码，就可以实现强大的功能。\n",
    "\n",
    "与后台相关文件：每个app中的 admin.py 文件与后台相关。"
   ]
  },
  {
   "cell_type": "markdown",
   "metadata": {},
   "source": [
    "## 一，新建一个 名称为 zqxt_admin 的项目\n",
    "\n",
    "```pyhon\n",
    "django-admin.py startproject zqxt_admin\n",
    "```"
   ]
  },
  {
   "cell_type": "markdown",
   "metadata": {},
   "source": [
    "## 二，新建一个 叫做 blog 的app\n",
    "```\n",
    "# 进入 zqxt_admin 文件夹\n",
    "cd zqxt_admin\n",
    " \n",
    "# 创建 blog 这个 app\n",
    "python manage.py startapp blog\n",
    "```\n",
    ">注意：不同版本的 Django 创建 project 和 app 出来的文件会有一些不同"
   ]
  },
  {
   "cell_type": "markdown",
   "metadata": {},
   "source": [
    "## 三，修改 blog 文件夹中的 models.py\n",
    "```python\n",
    "# coding:utf-8\n",
    "from django.db import models\n",
    " \n",
    " \n",
    "class Article(models.Model):\n",
    "    title = models.CharField(u'标题', max_length=256)\n",
    "    content = models.TextField(u'内容')\n",
    " \n",
    "    pub_date = models.DateTimeField(u'发表时间', auto_now_add=True, editable = True)\n",
    "    update_time = models.DateTimeField(u'更新时间',auto_now=True, null=True)\n",
    "```"
   ]
  },
  {
   "cell_type": "markdown",
   "metadata": {},
   "source": [
    "## 四，把 blog 加入到settings.py中的INSTALLED_APPS中\n",
    "\n",
    "```python\n",
    "INSTALLED_APPS = (\n",
    "    'django.contrib.admin',\n",
    "    'django.contrib.auth',\n",
    "    'django.contrib.contenttypes',\n",
    "    'django.contrib.sessions',\n",
    "    'django.contrib.messages',\n",
    "    'django.contrib.staticfiles',\n",
    " \n",
    "    'blog',\n",
    ")\n",
    "```"
   ]
  },
  {
   "cell_type": "markdown",
   "metadata": {},
   "source": [
    "## 五，同步所有的数据表\n",
    "\n",
    "```\n",
    "python manage.py makemigrations\n",
    "python manage.py migrate\n",
    "```\n",
    "\n",
    "如果是 Django 不主动提示创建管理员（Django 1.9不提示）用下面的命令创建一个帐号\n",
    "```\n",
    "python manage.py createsuperuser\n",
    "```"
   ]
  },
  {
   "cell_type": "markdown",
   "metadata": {},
   "source": [
    "## 六，修改 admin.py \n",
    "\n",
    "进入 blog 文件夹，修改 admin.py 文件（如果没有新建一个），内容如下\n",
    "\n",
    "```python\n",
    "from django.contrib import admin\n",
    "from .models import Article\n",
    " \n",
    " \n",
    "admin.site.register(Article)\n",
    "```"
   ]
  },
  {
   "cell_type": "markdown",
   "metadata": {},
   "source": [
    "## 七，打开 开发服务器\n",
    "```\n",
    "python manage.py runserver\n",
    "```"
   ]
  },
  {
   "cell_type": "markdown",
   "metadata": {},
   "source": [
    "访问 http://localhost:8000/admin/ 输入设定的帐号和密码, 就可以看到：\n",
    "\n",
    "点击 Articles，动手输入 添加几篇文章，就可以看到：\n",
    "\n",
    "我们会发现所有的文章都是叫 Article object，这样肯定不好，比如我们要修改，如何知道要修改哪个呢？"
   ]
  },
  {
   "cell_type": "markdown",
   "metadata": {},
   "source": [
    "我们修改一下 blog 中的models.py\n",
    "\n",
    "```python\n",
    "# coding:utf-8\n",
    "from django.db import models\n",
    " \n",
    " \n",
    "class Article(models.Model):\n",
    "    title = models.CharField(u'标题', max_length=256)\n",
    "    content = models.TextField(u'内容')\n",
    " \n",
    "    pub_date = models.DateTimeField(u'发表时间', auto_now_add=True, editable = True)\n",
    "    update_time = models.DateTimeField(u'更新时间',auto_now=True, null=True)\n",
    " \n",
    "    def __str__(self):# 在Python3中用 __str__ 代替 __unicode__\n",
    "        return self.title\n",
    "```"
   ]
  },
  {
   "cell_type": "markdown",
   "metadata": {},
   "source": [
    "** 技能提升：如何兼容python2.x和python3.x呢？ **\n",
    "\n",
    "在类的前面加上：\n",
    "```\n",
    "@python_2_unicode_compatible\n",
    "```"
   ]
  },
  {
   "cell_type": "markdown",
   "metadata": {},
   "source": [
    "## 八，在列表显示与字段相关的其它内容\n",
    "\n",
    "后台已经基本上做出来了，可是如果我们还需要显示一些其它的fields，如何做呢？\n",
    "```python\n",
    "from django.contrib import admin\n",
    "from .models import Article\n",
    " \n",
    "class ArticleAdmin(admin.ModelAdmin):\n",
    "    list_display = ('title','pub_date','update_time',)\n",
    " \n",
    "admin.site.register(Article,ArticleAdmin)\n",
    "```\n"
   ]
  },
  {
   "cell_type": "markdown",
   "metadata": {},
   "source": [
    "list_display 就是来配置要显示的字段的，当然也可以显示非字段内容，或者字段相关的内容，比如：\n",
    "```python\n",
    "class Person(models.Model):\n",
    "    first_name = models.CharField(max_length=50)\n",
    "    last_name = models.CharField(max_length=50)\n",
    " \n",
    "    def my_property(self):\n",
    "        return self.first_name + ' ' + self.last_name\n",
    "    my_property.short_description = \"Full name of the person\"\n",
    " \n",
    "    full_name = property(my_property)\n",
    "```\n"
   ]
  },
  {
   "cell_type": "markdown",
   "metadata": {},
   "source": [
    "在admin.py中\n",
    "```python\n",
    "from django.contrib import admin\n",
    "from .models import Article, Person\n",
    " \n",
    " \n",
    "class ArticleAdmin(admin.ModelAdmin):\n",
    "    list_display = ('title', 'pub_date', 'update_time',)\n",
    " \n",
    " \n",
    "class PersonAdmin(admin.ModelAdmin):\n",
    "    list_display = ('full_name',)\n",
    " \n",
    "admin.site.register(Article, ArticleAdmin)\n",
    "admin.site.register(Person, PersonAdmin)\n",
    "```\n",
    "\n"
   ]
  },
  {
   "cell_type": "markdown",
   "metadata": {},
   "source": [
    "到这里我们发现我们又有新的需求，比如要改 models.py 中的字段，添加一个文章的状态（草稿，正式发布），这时候我们就需要更改表，django 1.7以前的都不会自动更改表，我们需要用第三方插件 South，参见 Django 迁移数据。\n",
    "\n",
    "Django 1.7 及以上用以下命令来同步数据库表的更改\n",
    "```\n",
    "python manage.py makemigrations\n",
    "python manage.py migrate\n",
    "```"
   ]
  },
  {
   "cell_type": "markdown",
   "metadata": {},
   "source": [
    "## 其它一些常用的功能：\n"
   ]
  },
  {
   "cell_type": "markdown",
   "metadata": {},
   "source": [
    "有时候我们需要对django admin site进行修改以满足自己的需求，那么我们可以从哪些地方入手呢？\n",
    "\n",
    "以下举例说明：\n",
    "\n"
   ]
  },
  {
   "cell_type": "markdown",
   "metadata": {},
   "source": [
    "** 1.定制加载的列表, 根据不同的人显示不同的内容列表，比如输入员只能看见自己输入的，审核员能看到所有的草稿，这时候就需要重写get_queryset方法 **\n",
    "\n",
    "```python\n",
    "class MyModelAdmin(admin.ModelAdmin):\n",
    "    def get_queryset(self, request):\n",
    "        qs = super(MyModelAdmin, self).get_queryset(request)\n",
    "        if request.user.is_superuser:\n",
    "            return qs\n",
    "        else:\n",
    "            return qs.filter(author=request.user)\n",
    "```\n",
    "该类实现的功能是如果是超级管理员就列出所有的，如果不是，就仅列出访问者自己相关的"
   ]
  },
  {
   "cell_type": "markdown",
   "metadata": {},
   "source": [
    "** 2.定制搜索功能（django 1.6及以上才有) **\n",
    "\n",
    "```python\n",
    "class PersonAdmin(admin.ModelAdmin):\n",
    "    list_display = ('name', 'age')\n",
    "    search_fields = ('name',)\n",
    " \n",
    "    def get_search_results(self, request, queryset, search_term):\n",
    "        queryset, use_distinct = super(PersonAdmin, self).get_search_results(request, queryset, search_term)\n",
    "        try:\n",
    "            search_term_as_int = int(search_term)\n",
    "            queryset |= self.model.objects.filter(age=search_term_as_int)\n",
    "        except:\n",
    "            pass\n",
    "        return queryset, use_distinct\n",
    "```\n",
    "queryset 是默认的结果，search_term 是在后台搜索的关键词\n"
   ]
  },
  {
   "cell_type": "markdown",
   "metadata": {},
   "source": [
    "** 3.修改保存时的一些操作，可以检查用户，保存的内容等，比如保存时加上添加人 **\n",
    "\n",
    "```python\n",
    "from django.contrib import admin\n",
    " \n",
    "class ArticleAdmin(admin.ModelAdmin):\n",
    "    def save_model(self, request, obj, form, change):\n",
    "        obj.user = request.user\n",
    "        obj.save()\n",
    "```\n",
    "其中obj是修改后的对象，form是返回的表单（修改后的），当新建一个对象时 change = False, 当修改一个对象时 change = True\n",
    "如果需要获取修改前的对象的内容可以用\n",
    "\n",
    "```python\n",
    "from django.contrib import admin\n",
    " \n",
    "class ArticleAdmin(admin.ModelAdmin):\n",
    "    def save_model(self, request, obj, form, change):\n",
    "        obj_original = self.model.objects.get(pk=obj.pk)\n",
    "        obj.user = request.user\n",
    "        obj.save()\n",
    "```\n"
   ]
  },
  {
   "cell_type": "markdown",
   "metadata": {},
   "source": [
    "那么又有问题了，这里如果原来的obj不存在，也就是如果我们是新建的一个怎么办呢，这时候可以用try,except的方法尝试获取,当然更好的方法是判断一下这个对象是新建还是修改，是新建就没有 obj_original，是修改就有\n",
    "```python\n",
    "from django.contrib import admin\n",
    " \n",
    "class ArticleAdmin(admin.ModelAdmin):\n",
    "    def save_model(self, request, obj, form, change):\n",
    "        if change:# 更改的时候\n",
    "            obj_original = self.model.objects.get(pk=obj.pk)\n",
    "        else:# 新增的时候\n",
    "            obj_original = None\n",
    " \n",
    "        obj.user = request.user\n",
    "        obj.save()\n",
    "```\n"
   ]
  },
  {
   "cell_type": "markdown",
   "metadata": {},
   "source": [
    "** 4, 删除时做一些处理, **\n",
    "\n",
    "```python\n",
    "from django.contrib import admin\n",
    " \n",
    "class ArticleAdmin(admin.ModelAdmin):\n",
    "    def delete_model(self, request, obj):\n",
    "        \"\"\"\n",
    "        Given a model instance delete it from the database.\n",
    "        \"\"\"\n",
    "        # handle something here\n",
    "        obj.delete()\n",
    "```"
   ]
  },
  {
   "cell_type": "code",
   "execution_count": null,
   "metadata": {
    "collapsed": true
   },
   "outputs": [],
   "source": []
  }
 ],
 "metadata": {
  "kernelspec": {
   "display_name": "Python [Root]",
   "language": "python",
   "name": "Python [Root]"
  },
  "language_info": {
   "codemirror_mode": {
    "name": "ipython",
    "version": 3
   },
   "file_extension": ".py",
   "mimetype": "text/x-python",
   "name": "python",
   "nbconvert_exporter": "python",
   "pygments_lexer": "ipython3",
   "version": "3.5.1"
  }
 },
 "nbformat": 4,
 "nbformat_minor": 0
}
