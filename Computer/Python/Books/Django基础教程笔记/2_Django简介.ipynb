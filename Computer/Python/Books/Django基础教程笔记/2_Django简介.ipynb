{
 "cells": [
  {
   "cell_type": "markdown",
   "metadata": {},
   "source": [
    "# Django 简介\n",
    "\n",
    "> Django的理念是DRY(Don't Repeat Yourself)来鼓励快速开发！"
   ]
  },
  {
   "cell_type": "markdown",
   "metadata": {},
   "source": [
    "## Django 全貌\n",
    "\n",
    "* urls.py  \n",
    "网址入口，关联到对应的views.py中的一个函数（或者generic类），访问网址就对应一个函数。\n",
    "\n",
    "* views.py  \n",
    "处理用户发出的请求，从urls.py中对应过来, 通过渲染templates中的网页可以将显示内容，比如登陆后的用户名，用户请求的数据，输出到网页。\n",
    "\n",
    "* models.py  \n",
    "与数据库操作相关，存入或读取数据时用到这个，当然用不到数据库的时候 你可以不使用。"
   ]
  },
  {
   "cell_type": "markdown",
   "metadata": {},
   "source": [
    "* forms.py  \n",
    "表单，用户在浏览器上输入数据提交，对数据的验证工作以及输入框的生成等工作，当然你也可以不使用。\n",
    "\n",
    "* templates 文件夹  \n",
    "views.py 中的函数渲染templates中的Html模板，得到动态内容的网页，当然可以用缓存来提高速度。\n",
    "\n",
    "* admin.py  \n",
    "后台，可以用很少量的代码就拥有一个强大的后台。\n",
    "\n",
    "* settings.py  \n",
    "Django 的设置，配置文件，比如 DEBUG 的开关，静态文件的位置等。"
   ]
  }
 ],
 "metadata": {
  "kernelspec": {
   "display_name": "Python 3",
   "language": "python",
   "name": "python3"
  },
  "language_info": {
   "codemirror_mode": {
    "name": "ipython",
    "version": 3
   },
   "file_extension": ".py",
   "mimetype": "text/x-python",
   "name": "python",
   "nbconvert_exporter": "python",
   "pygments_lexer": "ipython3",
   "version": "3.5.1"
  }
 },
 "nbformat": 4,
 "nbformat_minor": 0
}
