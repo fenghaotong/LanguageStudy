{
 "cells": [
  {
   "cell_type": "markdown",
   "metadata": {},
   "source": [
    "# Django 视图与网址\n",
    "\n",
    "Django中网址是写在 urls.py 文件中，用正则表达式对应 views.py 中的一个函数(或者generic类),我们用一个项目来演示。"
   ]
  },
  {
   "cell_type": "markdown",
   "metadata": {},
   "source": [
    "## 新建一个项目(project)\n",
    "\n",
    "```\n",
    "django-admin startproject mysite\n",
    "```"
   ]
  },
  {
   "cell_type": "markdown",
   "metadata": {},
   "source": [
    "目录如下：\n",
    "```\n",
    "mysite\n",
    " manage.py\n",
    " mysite\n",
    "     __init__.py\n",
    "     settings.py\n",
    "     urls.py\n",
    "     wsgi.py\n",
    "\n",
    "```"
   ]
  },
  {
   "cell_type": "markdown",
   "metadata": {},
   "source": [
    "## 新建一个应用(app)\n",
    "\n",
    "```\n",
    "python manage.py startapp learn\n",
    "```\n"
   ]
  },
  {
   "cell_type": "markdown",
   "metadata": {},
   "source": [
    "创建目录如下：\n",
    "\n",
    "```\n",
    ".\n",
    " learn\n",
    "  admin.py\n",
    "  apps.py\n",
    "  __init__.py\n",
    "  migrations\n",
    "   __init__.py\n",
    "  models.py\n",
    "  tests.py\n",
    "  views.py\n",
    " manage.py\n",
    " mysite\n",
    "     __init__.py\n",
    "     __pycache__\n",
    "      __init__.cpython-35.pyc\n",
    "      settings.cpython-35.pyc\n",
    "     settings.py\n",
    "     urls.py\n",
    "     wsgi.py\n",
    "```"
   ]
  },
  {
   "cell_type": "markdown",
   "metadata": {},
   "source": [
    "把新定义的app加到settings.py中的INSTALL_APPS中\n",
    "\n",
    "修改`mysite/mysite/settings.py`"
   ]
  },
  {
   "cell_type": "markdown",
   "metadata": {},
   "source": [
    "```\n",
    "INSTALLED_APPS = [\n",
    "    'django.contrib.admin',\n",
    "    'django.contrib.auth',\n",
    "    'django.contrib.contenttypes',\n",
    "    'django.contrib.sessions',\n",
    "    'django.contrib.messages',\n",
    "    'django.contrib.staticfiles',\n",
    "    'learn',\n",
    "]\n",
    "\n",
    "```"
   ]
  },
  {
   "cell_type": "markdown",
   "metadata": {},
   "source": [
    "### 定义视图函数\n",
    "\n",
    "修改把`learn/views.py`源代码"
   ]
  },
  {
   "cell_type": "markdown",
   "metadata": {},
   "source": [
    "```\n",
    "#coding:utf-8\n",
    "from django.http import HttpResponse\n",
    " \n",
    "def index(request):\n",
    "    return HttpResponse(u\"欢迎光临 自强学堂!\")\n",
    "```"
   ]
  },
  {
   "cell_type": "markdown",
   "metadata": {},
   "source": [
    "### 定义视图函数相关的URL\n",
    "\n",
    "修改`mysite/urls.py`代码"
   ]
  },
  {
   "cell_type": "markdown",
   "metadata": {},
   "source": [
    "```\n",
    "from django.conf.urls import url\n",
    "from django.contrib import admin\n",
    "from learn import views as learn_views  # new\n",
    " \n",
    "urlpatterns = [\n",
    "    url(r'^$', learn_views.index),  # new\n",
    "    url(r'^admin/', admin.site.urls),\n",
    "]\n",
    "```"
   ]
  },
  {
   "cell_type": "markdown",
   "metadata": {},
   "source": [
    "### 运行开发服务器\n",
    "\n",
    "```\n",
    "python manage.py runserver\n",
    "```"
   ]
  },
  {
   "cell_type": "code",
   "execution_count": null,
   "metadata": {
    "collapsed": true
   },
   "outputs": [],
   "source": []
  }
 ],
 "metadata": {
  "kernelspec": {
   "display_name": "Python [Root]",
   "language": "python",
   "name": "Python [Root]"
  },
  "language_info": {
   "codemirror_mode": {
    "name": "ipython",
    "version": 3
   },
   "file_extension": ".py",
   "mimetype": "text/x-python",
   "name": "python",
   "nbconvert_exporter": "python",
   "pygments_lexer": "ipython3",
   "version": "3.5.1"
  }
 },
 "nbformat": 4,
 "nbformat_minor": 0
}
