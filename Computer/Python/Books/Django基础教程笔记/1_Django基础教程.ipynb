{
 "cells": [
  {
   "cell_type": "markdown",
   "metadata": {},
   "source": [
    "# Django 基础教程"
   ]
  },
  {
   "cell_type": "markdown",
   "metadata": {},
   "source": [
    "Django 是由 Python 开发的一个免费的开源网站框架，可以用于快速搭建高性能，优雅的网站！"
   ]
  },
  {
   "cell_type": "markdown",
   "metadata": {},
   "source": [
    "本教程系列文章电子书下载：链接: <http://pan.baidu.com/s/1dD8pExz> 密码: dbzt"
   ]
  },
  {
   "cell_type": "markdown",
   "metadata": {},
   "source": [
    "## Django学习资源\n",
    "\n"
   ]
  },
  {
   "cell_type": "markdown",
   "metadata": {},
   "source": [
    "## Django需要什么基础\n",
    "\n",
    "* Python 基础知识。\n",
    "\n",
    "* 网页的HTML, CSS, JavaScript的知识。"
   ]
  },
  {
   "cell_type": "markdown",
   "metadata": {},
   "source": [
    "## jango 特点\n",
    "\n",
    "* 强大的数据库功能  \n",
    "用python的类继承，几行代码就可以拥有一个丰富，动态的数据库操作接口（API），如果需要你也能执行SQL语句\n",
    "\n",
    "* 自带的强大的后台功能  \n",
    "几行简单的代码就让你的网站拥有一个强大的后台，轻松管理你的内容！\n",
    "\n",
    "* 优雅的网址  \n",
    "用正则匹配网址，传递到对应函数，随意定义，如你所想！\n",
    "\n",
    "* 模板系统  \n",
    "强大，易扩展的模板系统，设计简易，代码，样式分开设计，更容易管理。\n",
    "\n",
    "* 缓存系统  \n",
    "与memcached或其它的缓存系统联用，更出色的表现，更快的加载速度。\n",
    "\n",
    "* 国际化  \n",
    "完全支持多语言应用，允许你定义翻译的字符，轻松翻译成不同国家的语言。"
   ]
  }
 ],
 "metadata": {
  "kernelspec": {
   "display_name": "Python 3",
   "language": "python",
   "name": "python3"
  },
  "language_info": {
   "codemirror_mode": {
    "name": "ipython",
    "version": 3
   },
   "file_extension": ".py",
   "mimetype": "text/x-python",
   "name": "python",
   "nbconvert_exporter": "python",
   "pygments_lexer": "ipython3",
   "version": "3.5.1"
  }
 },
 "nbformat": 4,
 "nbformat_minor": 0
}
