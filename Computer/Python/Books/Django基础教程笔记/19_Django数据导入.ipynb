{
 "cells": [
  {
   "cell_type": "markdown",
   "metadata": {},
   "source": [
    "# Django 数据导入\n",
    "\n",
    "\n",
    "从网上下载的一些数据，excel表格，xml文件，txt文件等有时候我们想把它导入数据库，应该如何操作呢？"
   ]
  },
  {
   "cell_type": "markdown",
   "metadata": {},
   "source": [
    "- 我们新建一个项目 mysite, 再新建一个 app，名称为blog\n",
    "\n",
    "```\n",
    "django-admin.py startproject mysite\n",
    "cd mysite\n",
    "python manage.py startapp blog\n",
    "\n",
    "```\n",
    "\n",
    "- 把 blog 中的 models.py 更改为以下内容\n",
    "\n",
    "\n",
    "```python\n",
    "#!/usr/bin/python\n",
    "#coding:utf-8\n",
    " \n",
    "from django.db import models\n",
    " \n",
    "class Blog(models.Model):     \n",
    "    title = models.CharField(max_length=100)   \n",
    "    content = models.TextField()    \n",
    "     \n",
    "    def __str__(self):\n",
    "        return self.title\n",
    "        \n",
    "```\n",
    "\n",
    "- 不要忘了把 blog 加入到 settings.py 中的 INSTALLED_APPS 中。\n",
    "\n",
    "```\n",
    "# Application definition\n",
    "INSTALLED_APPS = (\n",
    "    ...\n",
    "     \n",
    "    # 添加上 blog 这个 app\n",
    "    'blog',\n",
    ")\n",
    "```"
   ]
  },
  {
   "cell_type": "markdown",
   "metadata": {},
   "source": [
    "## 一，同步数据库，创建相应的表"
   ]
  },
  {
   "cell_type": "markdown",
   "metadata": {},
   "source": [
    "```\n",
    "python manage.py makemigrations\n",
    "python manage.py migrate\n",
    "```"
   ]
  },
  {
   "cell_type": "markdown",
   "metadata": {},
   "source": [
    "## 二，输入 python manage.py shell "
   ]
  },
  {
   "cell_type": "markdown",
   "metadata": {},
   "source": [
    "进入该项目的django环境的终端\n",
    "\n",
    "先说如何用命令新增一篇文章：\n",
    "\n",
    "```\n",
    "$ python manage.py shell\n",
    ">>> from blog.models import Blog\n",
    ">>> Blog.objects.create(title=\"The first blog of my site\", \n",
    "                        content=\"I am writing my blog on Terminal\")\n",
    "```\n",
    "这样就新增了一篇博文，我们查看一下\n",
    "```\n",
    ">>> Blog.objects.all() # 获取所有blog\n",
    "[<Blog: The first blog of my site>]\n",
    "```"
   ]
  },
  {
   "cell_type": "markdown",
   "metadata": {},
   "source": [
    "## 三，批量导入\n"
   ]
  },
  {
   "cell_type": "markdown",
   "metadata": {},
   "source": [
    "比如我们要导入一个文本，里面是标题和内容，中间用四个*隔开的，示例(oldblog.txt)：\n",
    "\n",
    "```\n",
    "title 1****content 1\n",
    "title 2****content 2\n",
    "title 3****content 3\n",
    "title 4****content 4\n",
    "title 5****content 5\n",
    "title 6****content 6\n",
    "title 7****content 7\n",
    "title 8****content 8\n",
    "title 9****content 9\n",
    "```"
   ]
  },
  {
   "cell_type": "markdown",
   "metadata": {},
   "source": [
    "- 在终端导入有时候有些不方便，我们在 最外面那个 mysite目录下写一个脚本，叫 txt2db.py，把 oldblog.txt 也放在mysite下\n",
    "\n",
    "```python\n",
    "#!/usr/bin/env python\n",
    "#coding:utf-8\n",
    " \n",
    "import os\n",
    "os.environ.setdefault(\"DJANGO_SETTINGS_MODULE\", \"mysite.settings\")\n",
    " \n",
    "'''\n",
    "Django 版本大于等于1.7的时候，需要加上下面两句\n",
    "import django\n",
    "django.setup()\n",
    "否则会抛出错误 django.core.exceptions.AppRegistryNotReady: Models aren't loaded yet.\n",
    "'''\n",
    " \n",
    "import django\n",
    "if django.VERSION >= (1, 7):#自动判断版本\n",
    "    django.setup()\n",
    " \n",
    " \n",
    "def main():\n",
    "    from blog.models import Blog\n",
    "    f = open('oldblog.txt')\n",
    "    for line in f:\n",
    "        title,content = line.split('****')\n",
    "        Blog.objects.create(title=title,content=content)\n",
    "    f.close()\n",
    " \n",
    "if __name__ == \"__main__\":\n",
    "    main()\n",
    "    print('Done!')\n",
    "```"
   ]
  },
  {
   "cell_type": "markdown",
   "metadata": {},
   "source": [
    "- 然后在终端运行\n",
    "\n",
    "```\n",
    "python txt2db.py\n",
    "```"
   ]
  },
  {
   "cell_type": "markdown",
   "metadata": {},
   "source": [
    "## 四，导入数据重复 解决办法\n"
   ]
  },
  {
   "cell_type": "markdown",
   "metadata": {},
   "source": [
    "如果你导入数据过多，导入时出错了，或者你手动停止了，导入了一部分，还有一部分没有导入。或者你再次运行上面的命令，你会发现数据重复了，怎么办呢？\n",
    "\n",
    "django.db.models 中还有一个函数叫 get_or_create() 有就获取过来，没有就创建，用它可以避免重复，但是速度可以会慢些，因为要先尝试获取，看看有没有\n",
    "\n",
    "只要把上面的\n",
    "```\n",
    "Blog.objects.create(title=title,content=content)\n",
    "```\n",
    "换成下面的就不会重复导入数据了\n",
    "\n",
    "```\n",
    "Blog.objects.get_or_create(title=title,content=content)\n",
    "```\n",
    "返回值是（BlogObject, True/False) 新建时返回 True, 已经存在时返回 False。\n",
    "\n",
    "更多数据库API的知识请参见官网文档：QuerySet API\n",
    "\n",
    " "
   ]
  },
  {
   "cell_type": "markdown",
   "metadata": {},
   "source": [
    "\n",
    "## 五, 用fixture导入\n",
    "\n",
    "\n"
   ]
  },
  {
   "cell_type": "markdown",
   "metadata": {},
   "source": [
    "最常见的fixture文件就是用python manage.py dumpdata 导出的文件,示例如下:\n",
    "\n",
    "```\n",
    "[\n",
    "  {\n",
    "    \"model\": \"myapp.person\",\n",
    "    \"pk\": 1,\n",
    "    \"fields\": {\n",
    "      \"first_name\": \"John\",\n",
    "      \"last_name\": \"Lennon\"\n",
    "    }\n",
    "  },\n",
    "  {\n",
    "    \"model\": \"myapp.person\",\n",
    "    \"pk\": 2,\n",
    "    \"fields\": {\n",
    "      \"first_name\": \"Paul\",\n",
    "      \"last_name\": \"McCartney\"\n",
    "    }\n",
    "  }]\n",
    "```\n",
    "\n",
    "你也可以根据自己的models,创建这样的json文件,然后用 python manage.py loaddata fixture.json 导入\n",
    "\n",
    "详见:https://docs.djangoproject.com/en/dev/howto/initial-data/\n",
    "\n",
    "可以写一个脚本,把要导入的数据转化成 json 文件,这样导入也会更快些!\n"
   ]
  },
  {
   "cell_type": "markdown",
   "metadata": {},
   "source": [
    "## 六，Model.objects.bulk_create() 更快更方便\n",
    "\n"
   ]
  },
  {
   "cell_type": "markdown",
   "metadata": {},
   "source": [
    "```python\n",
    "#!/usr/bin/env python\n",
    "import os\n",
    "os.environ.setdefault(\"DJANGO_SETTINGS_MODULE\", \"mysite.settings\")\n",
    " \n",
    "def main():\n",
    "    from blog.models import Blog\n",
    "    f = open('oldblog.txt')\n",
    "    BlogList = []\n",
    "    for line in f:\n",
    "        title,content = line.split('****')\n",
    "        blog = Blog(title=title,content=content)\n",
    "        BlogList.append(blog)\n",
    "    f.close()\n",
    "     \n",
    "    Blog.objects.bulk_create(BlogList)\n",
    " \n",
    "if __name__ == \"__main__\":\n",
    "    main()\n",
    "    print('Done!')\n",
    "```\n"
   ]
  },
  {
   "cell_type": "markdown",
   "metadata": {},
   "source": [
    "- 由于Blog.objects.create()每保存一条就执行一次SQL，而bulk_create()是执行一条SQL存入多条数据，做会快很多！当然用列表解析代替 for 循环会更快！！\n",
    "\n",
    "\n",
    "```python\n",
    "#!/usr/bin/env python\n",
    "import os\n",
    "os.environ.setdefault(\"DJANGO_SETTINGS_MODULE\", \"mysite.settings\")\n",
    " \n",
    "def main():\n",
    "    from blog.models import Blog\n",
    "    f = open('oldblog.txt')\n",
    "     \n",
    "    BlogList = []\n",
    "    for line in f:\n",
    "        parts = line.split('****')\n",
    "        BlogList.append(Blog(title=parts[0], content=parts[1]))\n",
    "     \n",
    "    f.close()\n",
    "         \n",
    "    # 以上四行 也可以用 列表解析 写成下面这样\n",
    "    # BlogList = [Blog(title=line.split('****')[0], content=line.split('****')[1]) for line in f]\n",
    "     \n",
    "    Blog.objects.bulk_create(BlogList)\n",
    " \n",
    "if __name__ == \"__main__\":\n",
    "    main()\n",
    "    print('Done!')\n",
    "```"
   ]
  },
  {
   "cell_type": "code",
   "execution_count": null,
   "metadata": {
    "collapsed": true
   },
   "outputs": [],
   "source": []
  }
 ],
 "metadata": {
  "kernelspec": {
   "display_name": "Python [Root]",
   "language": "python",
   "name": "Python [Root]"
  },
  "language_info": {
   "codemirror_mode": {
    "name": "ipython",
    "version": 3
   },
   "file_extension": ".py",
   "mimetype": "text/x-python",
   "name": "python",
   "nbconvert_exporter": "python",
   "pygments_lexer": "ipython3",
   "version": "3.5.1"
  }
 },
 "nbformat": 4,
 "nbformat_minor": 0
}
