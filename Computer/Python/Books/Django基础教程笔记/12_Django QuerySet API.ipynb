{
 "cells": [
  {
   "cell_type": "markdown",
   "metadata": {},
   "source": [
    "# Django QuerySet API\n",
    "\n",
    "Django 模型中我们学习了一些基本的创建与查询。这里专门来讲一下数据库接口相关的接口（QuerySet API)，当然您也可以选择暂时跳过此节，如果以后用到数据库相关的时候再看也是可以的。\n",
    "\n",
    "从数据库中查询出来的结果一般是一个集合，这个集合叫做 QuerySet。\n",
    "\n",
    "文中的例子大部分是基于这个 blog/models.py"
   ]
  },
  {
   "cell_type": "markdown",
   "metadata": {},
   "source": [
    "```python\n",
    "from django.db import models\n",
    " \n",
    " \n",
    "class Blog(models.Model):\n",
    "    name = models.CharField(max_length=100)\n",
    "    tagline = models.TextField()\n",
    " \n",
    "    def __str__(self):  # __str__ on Python 3\n",
    "        return self.name\n",
    " \n",
    "class Author(models.Model):\n",
    "    name = models.CharField(max_length=50)\n",
    "    email = models.EmailField()\n",
    " \n",
    "    def __str__(self):  # __str__ on Python 3\n",
    "        return self.name\n",
    " \n",
    "class Entry(models.Model):\n",
    "    blog = models.ForeignKey(Blog)\n",
    "    headline = models.CharField(max_length=255)\n",
    "    body_text = models.TextField()\n",
    "    pub_date = models.DateField()\n",
    "    mod_date = models.DateField()\n",
    "    authors = models.ManyToManyField(Author)\n",
    "    n_comments = models.IntegerField()\n",
    "    n_pingbacks = models.IntegerField()\n",
    "    rating = models.IntegerField()\n",
    " \n",
    "    def __str__(self):  # __str__ on Python 3\n",
    "        return self.headline\n",
    "```"
   ]
  },
  {
   "cell_type": "markdown",
   "metadata": {},
   "source": [
    "## 1. QuerySet 创建对象的方法"
   ]
  },
  {
   "cell_type": "markdown",
   "metadata": {},
   "source": [
    "```\n",
    "$python manage.py shell\n",
    "```\n",
    "\n",
    "```python\n",
    ">>> from blog.models import Blog\n",
    ">>> b = Blog(name='Beatles Blog', tagline='All the latest Beatles news.')\n",
    ">>> b.save()\n",
    " \n",
    "总之，一共有四种方法\n",
    "# 方法 1\n",
    "Author.objects.create(name=\"WeizhongTu\", email=\"tuweizhong@163.com\")\n",
    " \n",
    "# 方法 2\n",
    "twz = Author(name=\"WeizhongTu\", email=\"tuweizhong@163.com\")\n",
    "twz.save()\n",
    " \n",
    "# 方法 3\n",
    "twz = Author()\n",
    "twz.name=\"WeizhongTu\"\n",
    "twz.email=\"tuweizhong@163.com\"\n",
    " \n",
    "# 方法 4，首先尝试获取，不存在就创建，可以防止重复\n",
    "Author.objects.get_or_create(name=\"WeizhongTu\", email=\"tuweizhong@163.com\")\n",
    "# 返回值(object, True/False)\n",
    "```\n",
    "\n",
    ">前三种方法返回的都是对应的 object，最后一种方法返回的是一个元组，(object, True/False)，创建时返回 True, 已经存在时返回 False"
   ]
  },
  {
   "cell_type": "markdown",
   "metadata": {},
   "source": [
    "## 2. 获取对象的方法（上一篇的部分代码）\n",
    "```\n",
    "Person.objects.all() # 查询所有\n",
    "Person.objects.all()[:10] 切片操作，获取10个人，不支持负索引，切片可以节约内存，不支持负索引，后面有相应解决办法，第7条\n",
    "Person.objects.get(name=\"WeizhongTu\") # 名称为 WeizhongTu 的一条，多条会报错\n",
    " \n",
    "get是用来获取一个对象的，如果需要获取满足条件的一些人，就要用到filter\n",
    "Person.objects.filter(name=\"abc\") # 等于Person.objects.filter(name__exact=\"abc\") 名称严格等于 \"abc\" 的人\n",
    "Person.objects.filter(name__iexact=\"abc\") # 名称为 abc 但是不区分大小写，可以找到 ABC, Abc, aBC，这些都符合条件\n",
    " \n",
    "Person.objects.filter(name__contains=\"abc\") # 名称中包含 \"abc\"的人\n",
    "Person.objects.filter(name__icontains=\"abc\") #名称中包含 \"abc\"，且abc不区分大小写\n",
    " \n",
    "Person.objects.filter(name__regex=\"^abc\") # 正则表达式查询\n",
    "Person.objects.filter(name__iregex=\"^abc\")# 正则表达式不区分大小写\n",
    " \n",
    "# filter是找出满足条件的，当然也有排除符合某条件的\n",
    "Person.objects.exclude(name__contains=\"WZ\") # 排除包含 WZ 的Person对象\n",
    "Person.objects.filter(name__contains=\"abc\").exclude(age=23) # 找出名称含有abc, 但是排除年龄是23岁的\n",
    "```\n"
   ]
  },
  {
   "cell_type": "markdown",
   "metadata": {},
   "source": [
    "## 3. QuerySet 是可迭代的，比如：\n",
    "```python\n",
    "es = Entry.objects.all()\n",
    "for e in es:\n",
    "    print(e.headline)\n",
    "Entry.objects.all() 或者 es 就是 QuerySet 是查询所有的 Entry 条目。\n",
    "```\n",
    "注意事项：\n",
    "\n",
    "    - (1). 如果只是检查 Entry 中是否有对象，应该用 Entry.objects.all().exists()\n",
    "\n",
    "    - (2). QuerySet 支持切片 Entry.objects.all()[:10] 取出10条，可以节省内存\n",
    "\n",
    "    - (3). 用 len(es) 可以得到Entry的数量，但是推荐用 Entry.objects.count()来查询数量，后者用的是SQL：SELECT COUNT(*)\n",
    "\n",
    "    - (4). list(es) 可以强行将 QuerySet 变成 列表\n",
    "\n"
   ]
  },
  {
   "cell_type": "markdown",
   "metadata": {},
   "source": [
    "## 4. QuerySet 是可以用pickle序列化到硬盘再读取出来的\n",
    "```python\n",
    ">>> import pickle\n",
    ">>> query = pickle.loads(s)     # Assuming 's' is the pickled string.\n",
    ">>> qs = MyModel.objects.all()\n",
    ">>> qs.query = query            # Restore the original 'query'.\n",
    "```\n"
   ]
  },
  {
   "cell_type": "markdown",
   "metadata": {},
   "source": [
    "## 5. QuerySet 查询结果排序\n",
    "\n",
    "作者按照名称排序\n",
    "```python\n",
    "Author.objects.all().order_by('name')\n",
    "Author.objects.all().order_by('-name') # 在 column name 前加一个负号，可以实现倒序\n",
    "```\n",
    "## 6. QuerySet 支持链式查询\n",
    "```python\n",
    "Author.objects.filter(name__contains=\"WeizhongTu\").filter(email=\"tuweizhong@163.com\")\n",
    "Author.objects.filter(name__contains=\"Wei\").exclude(email=\"tuweizhong@163.com\")\n",
    " \n",
    "# 找出名称含有abc, 但是排除年龄是23岁的\n",
    "Person.objects.filter(name__contains=\"abc\").exclude(age=23)\n",
    "```"
   ]
  },
  {
   "cell_type": "markdown",
   "metadata": {},
   "source": [
    "## 7. QuerySet 不支持负索引\n",
    "```python\n",
    "Person.objects.all()[:10] 切片操作，前10条\n",
    "Person.objects.all()[-10:] 会报错！！！\n",
    " \n",
    "# 1. 使用 reverse() 解决\n",
    "Person.objects.all().reverse()[:2] # 最后两条\n",
    "Person.objects.all().reverse()[0] # 最后一条\n",
    " \n",
    "# 2. 使用 order_by，在栏目名（column name）前加一个负号\n",
    "Author.objects.order_by('-id')[:20] # id最大的20条\n",
    "```\n"
   ]
  },
  {
   "cell_type": "markdown",
   "metadata": {},
   "source": [
    "## 8. QuerySet 重复的问题，使用 .distinct() 去重\n",
    "\n",
    "一般的情况下，QuerySet 中不会出来重复的，重复是很罕见的，但是当跨越多张表进行检索后，结果并到一起，可以会出来重复的值（我最近就遇到过这样的问题）\n",
    "```python\n",
    "qs1 = Pathway.objects.filter(label__name='x')\n",
    "qs2 = Pathway.objects.filter(reaction__name='A + B >> C')\n",
    "qs3 = Pathway.objects.filter(inputer__name='WeizhongTu')\n",
    " \n",
    "# 合并到一起\n",
    "qs = qs1 | qs2 | qs3\n",
    "这个时候就有可能出现重复的\n",
    " \n",
    "# 去重方法\n",
    "qs = qs.distinct()\n",
    "```"
   ]
  },
  {
   "cell_type": "code",
   "execution_count": null,
   "metadata": {
    "collapsed": true
   },
   "outputs": [],
   "source": []
  }
 ],
 "metadata": {
  "kernelspec": {
   "display_name": "Python 3",
   "language": "python",
   "name": "python3"
  },
  "language_info": {
   "codemirror_mode": {
    "name": "ipython",
    "version": 3
   },
   "file_extension": ".py",
   "mimetype": "text/x-python",
   "name": "python",
   "nbconvert_exporter": "python",
   "pygments_lexer": "ipython3",
   "version": "3.5.1"
  }
 },
 "nbformat": 4,
 "nbformat_minor": 0
}
