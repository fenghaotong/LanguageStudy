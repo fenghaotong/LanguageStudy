{
 "cells": [
  {
   "cell_type": "markdown",
   "metadata": {},
   "source": [
    "# Django模板进阶\n",
    "\n",
    "本节主要讲 Django模板中的循环，条件判断，常用的标签，过滤器的使用。\n",
    "\n",
    "- 列表，字典，类的实例的使用\n",
    "\n",
    "- 循环：迭代显示列表，字典等中的内容\n",
    "\n",
    "- 条件判断：判断是否显示该内容，比如判断是手机访问，还是电脑访问，给出不一样的代码。\n",
    "\n",
    "- 标签：for，if 这样的功能都是标签。\n",
    "\n",
    "- 过滤器：管道符号后面的功能，比如{{ var|length }}，求变量长度的 length 就是一个过滤器。\n",
    "\n"
   ]
  },
  {
   "cell_type": "markdown",
   "metadata": {},
   "source": [
    "## 实例一，显示一个基本的字符串在网页上\n",
    "\n",
    "- 首先建一个新项目和一个app\n",
    "\n",
    "```python\n",
    "Django-admin startproject zqxt_tmpl2\n",
    "cd zqxt_tmpl2\n",
    "python manage.py startapp learn\n",
    "```\n",
    "\n",
    "- 然后在learn文件下建一个文件夹templates，里面新建一个 home.html"
   ]
  },
  {
   "cell_type": "markdown",
   "metadata": {},
   "source": [
    "- views.py\n",
    "\n",
    "```python\n",
    "# -*- coding: utf-8 -*-\n",
    "from django.shortcuts import render\n",
    " \n",
    " \n",
    "def home(request):\n",
    "    string = u\"我在自强学堂学习Django，用它来建网站\"\n",
    "    return render(request, 'home.html', {'string': string})\n",
    "```\n",
    "\n",
    "- 在视图中我们传递了一个字符串名称是 string 到模板 home.html，在模板中这样使用它："
   ]
  },
  {
   "cell_type": "markdown",
   "metadata": {},
   "source": [
    "- home.html\n",
    "\n",
    "```html\n",
    "<!DOCTYPE html>\n",
    "<html>\n",
    "<head>\n",
    "    <title>欢迎光临</title>\n",
    "</head>\n",
    "<body>\n",
    "{{string}}\n",
    "</body>\n",
    "</html>\n",
    "```"
   ]
  },
  {
   "cell_type": "markdown",
   "metadata": {},
   "source": [
    "- 然后启动服务器，访问http://127.0.0.1:8000"
   ]
  },
  {
   "cell_type": "markdown",
   "metadata": {},
   "source": [
    "## 实例二，讲解了基本的 for 循环 和 List内容的显示\n",
    "\n",
    "- 在views.py在定义一个函数\n",
    "\n",
    "```python\n",
    "def home1(request):\n",
    "    TutorialList = [\"HTML\", \"CSS\", \"jQuery\", \"Python\", \"Django\"]\n",
    "    return render(request, 'home.html', {'TutorialList': TutorialList})\n",
    "```\n",
    "\n",
    "- 在视图中我们传递了一个List到模板 home.html，在模板中这样使用它："
   ]
  },
  {
   "cell_type": "markdown",
   "metadata": {},
   "source": [
    "- 在urls.py中添加：\n",
    "\n",
    "```python\n",
    " url(r\"^home1/\", learn_views.home1, name=\"home1\"),\n",
    "```"
   ]
  },
  {
   "cell_type": "markdown",
   "metadata": {},
   "source": [
    "\n",
    "- 在home.html中添加\n",
    "\n",
    "```html\n",
    "教程列表：\n",
    "{% for i in TutorialList %}\n",
    "{{ i }}\n",
    "{% endfor %}\n",
    "```\n",
    ">简单总结一下：一般的变量之类的用 {{ }}（变量），功能类的，比如循环，条件判断是用 {%  %}（标签）\n"
   ]
  },
  {
   "cell_type": "markdown",
   "metadata": {},
   "source": [
    "- 然后启动服务器，访问http://127.0.0.1:8000/home1"
   ]
  },
  {
   "cell_type": "markdown",
   "metadata": {},
   "source": [
    "## 实例三，显示字典中内容：\n",
    "\n",
    "- 在views.py在定义一个函数\n",
    "\n",
    "```python\n",
    "def home2(request):\n",
    "    info_dict = {'site': u'自强学堂', 'content': u'各种IT技术教程'}\n",
    "    return render(request, 'home.html', {'info_dict': info_dict})\n",
    "```"
   ]
  },
  {
   "cell_type": "markdown",
   "metadata": {},
   "source": [
    "- 在urls.py中添加：\n",
    "\n",
    "```python\n",
    " url(r\"^home2/\", learn_views.home2, name=\"home\"),\n",
    " ```"
   ]
  },
  {
   "cell_type": "markdown",
   "metadata": {},
   "source": [
    "- 在home.html中添加\n",
    "\n",
    "```html\n",
    "站点：{{ info_dict.site }} 内容：{{ info_dict.content }}\n",
    "```\n",
    "\n",
    "- 在模板中取字典的键是用点info_dict.site，而不是Python中的 info_dict['site']\n",
    "\n",
    "- 还可以这样遍历字典：\n",
    "\n",
    "```html\n",
    "{% for key, value in info_dict.items %}\n",
    "    {{ key }}: {{ value }}\n",
    "{% endfor %}\n",
    "```\n",
    "\n",
    "- 其实就是遍历这样一个 List:  [('content', u'自强学堂'), ('site', u'各种IT技术教程')]"
   ]
  },
  {
   "cell_type": "markdown",
   "metadata": {},
   "source": [
    "- 然后启动服务器，访问http://127.0.0.1:8000/home2"
   ]
  },
  {
   "cell_type": "markdown",
   "metadata": {},
   "source": [
    "## 实例四，在模板进行 条件判断和 for 循环的详细操作：\n",
    "\n",
    "- 在views.py在定义一个函数\n",
    "\n",
    "```python\n",
    "def home3(request):\n",
    "    List = map(str, range(100)) # 一个长度为100的 List\n",
    "    return render(request, 'home.html', {'List': List})\n",
    "```"
   ]
  },
  {
   "cell_type": "markdown",
   "metadata": {},
   "source": [
    "- 在urls.py中添加：\n",
    "\n",
    "```python\n",
    " url(r\"^home3/\", learn_views.home3, name=\"home\"),\n",
    " ```"
   ]
  },
  {
   "cell_type": "markdown",
   "metadata": {},
   "source": [
    "- 假如我们想用逗号将这些元素连接起来：\n",
    "\n",
    "home.html\n",
    "\n",
    "```html\n",
    "{% for item in List %}\n",
    "    {{ item }}, \n",
    "{% endfor %}\n",
    "```"
   ]
  },
  {
   "cell_type": "markdown",
   "metadata": {},
   "source": [
    "- 然后启动服务器，访问http://127.0.0.1:8000/home3\n",
    "        \n",
    "- 我们会发现最后一个元素后面也有一个逗号，这样肯定不爽，如果判断是不是遍历到了最后一个元素了呢？"
   ]
  },
  {
   "cell_type": "markdown",
   "metadata": {},
   "source": [
    "- 用变量 forloop.last 这个变量，如果是最后一项其为真，否则为假，更改如下：\n",
    "\n",
    "```html\n",
    "{% for item in List %}\n",
    "    {{ item }}{% if not forloop.last%},{% endif %} \n",
    "{% endfor %}\n",
    "```"
   ]
  },
  {
   "cell_type": "markdown",
   "metadata": {},
   "source": [
    "- 在for循环中还有很多有用的东西，如下：\n",
    "\n",
    "|变量|\t描述|\n",
    "|:-----:|:-------|\n",
    "|forloop.counter\t|索引从 1 开始算|\n",
    "|forloop.counter0\t|索引从 0 开始算|\n",
    "|forloop.revcounter\t|索引从最大长度到 1|\n",
    "|forloop.revcounter0|\t索引从最大长度到 0|\n",
    "|forloop.first|\t当遍历的元素为第一项时为真|\n",
    "|forloop.last|\t当遍历的元素为最后一项时为真|\n",
    "|forloop.parentloop|\t用在嵌套的 for 循环中，获取上一层 for 循环的 forloop|"
   ]
  },
  {
   "cell_type": "markdown",
   "metadata": {},
   "source": [
    "## 实例六，模板中的逻辑操作：\n",
    "\n",
    "- ==, !=, >=, <=, >, < 这些比较都可以在模板中使用，比如：\n",
    "\n",
    "```html\n",
    "{% if var >= 90 %}\n",
    "成绩优秀，自强学堂你没少去吧！学得不错\n",
    "{% elif var >= 80 %}\n",
    "成绩良好\n",
    "{% elif var >= 70 %}\n",
    "成绩一般\n",
    "{% elif var >= 60 %}\n",
    "需要努力\n",
    "{% else %}\n",
    "不及格啊，大哥！多去自强学堂学习啊！\n",
    "{% endif %}\n",
    "\n",
    "```\n",
    "\n",
    ">and, or, not, in, not in 也可以在模板中使用"
   ]
  },
  {
   "cell_type": "markdown",
   "metadata": {},
   "source": [
    "- 假如我们判断 num 是不是在 0 到 100 之间：\n",
    "\n",
    "```html\n",
    "{% if num <= 100 and num >= 0 %}\n",
    "num在0到100之间\n",
    "{% else %}\n",
    "数值不在范围之内！\n",
    "{% endif %}\n",
    "```\n",
    "\n",
    "- 假如我们判断 'ziqiangxuetang' 在不在一个列表变量 List 中：\n",
    "\n",
    "```html\n",
    "{% if 'ziqiangxuetang' in List %}\n",
    "自强学堂在名单中\n",
    "{% endif %}\n",
    "```"
   ]
  },
  {
   "cell_type": "markdown",
   "metadata": {},
   "source": [
    "## 实例七，模板中 获取当前网址，当前用户等：\n",
    "\n"
   ]
  },
  {
   "cell_type": "markdown",
   "metadata": {},
   "source": [
    "- 7.1 获取当前用户：\n",
    "```\n",
    "{{ request.user }}\n",
    "```\n",
    "如果登陆就显示内容，不登陆就不显示内容：\n",
    "```\n",
    "{% if request.user.is_authenticated %}\n",
    "    {{ request.user.username }}，您好！\n",
    "{% else %}\n",
    "    请登陆，这里放登陆链接\n",
    "{% endif %}\n",
    "```\n",
    "- 7.2.1 获取当前网址：\n",
    "```\n",
    "{{ request.path }}\n",
    "````\n",
    "- 7.2.2 获取当前 GET 参数：\n",
    "```\n",
    "{{ request.GET.urlencode }}\n",
    "```\n",
    "- 7.2.3 合并到一起用的一个例子：\n",
    "```\n",
    "<a href=\"{{ request.path }}?{{ request.GET.urlencode }}&delete=1\">当前网址加参数 delete</a>\n",
    "```\n",
    "比如我们可以判断 delete 参数是不是 1 来删除当前的页面内容。"
   ]
  },
  {
   "cell_type": "code",
   "execution_count": null,
   "metadata": {
    "collapsed": true
   },
   "outputs": [],
   "source": []
  }
 ],
 "metadata": {
  "kernelspec": {
   "display_name": "Python 3",
   "language": "python",
   "name": "python3"
  },
  "language_info": {
   "codemirror_mode": {
    "name": "ipython",
    "version": 3
   },
   "file_extension": ".py",
   "mimetype": "text/x-python",
   "name": "python",
   "nbconvert_exporter": "python",
   "pygments_lexer": "ipython3",
   "version": "3.5.1"
  }
 },
 "nbformat": 4,
 "nbformat_minor": 0
}
