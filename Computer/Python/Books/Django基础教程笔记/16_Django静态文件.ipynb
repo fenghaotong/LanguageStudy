{
 "cells": [
  {
   "cell_type": "markdown",
   "metadata": {},
   "source": [
    "# Django静态文件\n",
    "\n",
    "静态文件是指 网站中的 js, css, 图片，视频等文件"
   ]
  },
  {
   "cell_type": "markdown",
   "metadata": {},
   "source": [
    "- settings.py 静态文件相关示例代码及说明：\n",
    "\n",
    "```python\n",
    "# Static files (CSS, JavaScript, Images)\n",
    "# https://docs.djangoproject.com/en/1.8/howto/static-files/\n",
    " \n",
    "STATIC_URL = '/static/'\n",
    " \n",
    "# 当运行 python manage.py collectstatic 的时候\n",
    "# STATIC_ROOT 文件夹 是用来将所有STATICFILES_DIRS中所有文件夹中的文件，以及各app中static中的文件都复制过来\n",
    "# 把这些文件放到一起是为了用apache等部署的时候更方便\n",
    "STATIC_ROOT = os.path.join(BASE_DIR, 'collected_static')\n",
    " \n",
    "# 其它 存放静态文件的文件夹，可以用来存放项目中公用的静态文件，里面不能包含 STATIC_ROOT\n",
    "# 如果不想用 STATICFILES_DIRS 可以不用，都放在 app 里的 static 中也可以\n",
    "STATICFILES_DIRS = (\n",
    "    os.path.join(BASE_DIR, \"common_static\"),\n",
    "    '/path/to/others/static/',  # 用不到的时候可以不写这一行\n",
    ")\n",
    " \n",
    "# 这个是默认设置，Django 默认会在 STATICFILES_DIRS中的文件夹 和 各app下的static文件夹中找文件\n",
    "# 注意有先后顺序，找到了就不再继续找了\n",
    "STATICFILES_FINDERS ＝ (\n",
    "    \"django.contrib.staticfiles.finders.FileSystemFinder\",\n",
    "    \"django.contrib.staticfiles.finders.AppDirectoriesFinder\"\n",
    ")\n",
    "```\n",
    "\n",
    "静态文件放在对应的 app 下的 static 文件夹中 或者 STATICFILES_DIRS 中的文件夹中。"
   ]
  },
  {
   "cell_type": "markdown",
   "metadata": {},
   "source": [
    "当 DEBUG = True 时，Django 就能自动找到放在里面的静态文件。（Django 通过 STATICFILES_FINDERS 中的“查找器”，找到符合的就停下来，寻找的过程 类似于 Python 中使用 import xxx 时，找 xxx 这个包的过程）。"
   ]
  },
  {
   "cell_type": "markdown",
   "metadata": {},
   "source": [
    "- 建一个如下结构的项目\n",
    "\n",
    "```\n",
    ".\n",
    "├── blog\n",
    "│   ├── admin.py\n",
    "│   ├── __init__.py\n",
    "│   ├── migrations\n",
    "│   │   └── __init__.py\n",
    "│   ├── models.py\n",
    "│   ├── static\n",
    "│   │   └── zqxt.png\n",
    "│   ├── tests.py\n",
    "│   └── views.py\n",
    "├── common_static\n",
    "├── manage.py\n",
    "└── static\n",
    "    ├── __init__.py\n",
    "    ├── __pycache__\n",
    "    │   ├── __init__.cpython-35.pyc\n",
    "    │   └── settings.cpython-35.pyc\n",
    "    ├── settings.py\n",
    "    ├── urls.py\n",
    "    └── wsgi.py\n",
    "```\n",
    "当 settings.py 中的 DEBUG = True 时，打开开发服务器 python manage.py runserver 直接访问 /static/zqxt.png 就可以找到这个静态文件。\n",
    "\n"
   ]
  },
  {
   "cell_type": "markdown",
   "metadata": {},
   "source": [
    "也可以在 settings.py 中指定所有 app 共用的静态文件，比如 jquery.js 等\n",
    "\n",
    "```\n",
    "STATICFILES_DIRS = (\n",
    "    os.path.join(BASE_DIR, \"common_static\"),\n",
    ")\n",
    "```\n",
    "把 jquery.js 放在 common_static/js/ 下，这样就可以 在 /static/js/jquery.js 中访问到它！"
   ]
  },
  {
   "cell_type": "markdown",
   "metadata": {},
   "source": [
    "## 部署时\n",
    "\n",
    "** 1.收集静态文件 **\n",
    "\n",
    "```\n",
    "python manage.py collectstatic\n",
    "```\n",
    "这一句话就会把以前放在app下static中的静态文件全部拷贝到 settings.py 中设置的 STATIC_ROOT 文件夹中"
   ]
  },
  {
   "cell_type": "markdown",
   "metadata": {},
   "source": [
    "** 2.用 apache2 或 nginx 示例代码 **\n",
    "\n",
    "- apache2配置文件\n",
    "\n",
    "```\n",
    "Alias /static/ /path/to/collected_static/\n",
    " \n",
    "<Directory /path/to/collected_static>\n",
    "    Require all granted\n",
    "</Directory>\n",
    "```\n",
    "\n",
    "- nginx 示例代码：\n",
    "\n",
    "```\n",
    "location /media  {\n",
    "    alias /path/to/project/media;\n",
    "}\n",
    " \n",
    "location /static {\n",
    "    alias /path/to/project/collected_static;\n",
    "}\n",
    "```\n",
    "\n"
   ]
  },
  {
   "cell_type": "markdown",
   "metadata": {},
   "source": [
    "- Apache 完整的示例代码：\n",
    "\n",
    "```\n",
    "<VirtualHost *:80>\n",
    "        ServerName www.ziqiangxuetang.com\n",
    "        ServerAlias ziqiangxuetang.com\n",
    "        ServerAdmin tuweizhong@163.com\n",
    " \n",
    "        Alias /media/ /path/to/media/\n",
    "        Alias /static/ /path/to/collected_static/\n",
    " \n",
    "        <Directory /path/to/media>\n",
    "                Require all granted\n",
    "        </Directory>\n",
    " \n",
    "        <Directory /path/to/collected_static>\n",
    "                Require all granted\n",
    "        </Directory>\n",
    " \n",
    "        WSGIScriptAlias / /path/to/prj/prj/wsgi.py\n",
    "        <Directory /path/to/prj/prj>\n",
    "        <Files wsgi.py>\n",
    "                Require all granted\n",
    "        </Files>\n",
    "        </Directory>\n",
    "</VirtualHost>\n",
    "```\n",
    "\n"
   ]
  },
  {
   "cell_type": "markdown",
   "metadata": {},
   "source": [
    "- 如果你用的是apache 2.2 版本 用下面的代替 Require all granted 赋予权限\n",
    "\n",
    "```\n",
    "Order allow,deny\n",
    "Allow from all\n",
    "```\n",
    ">备注：（用 apachectl -v 命令查看 apache2版本号）"
   ]
  },
  {
   "cell_type": "code",
   "execution_count": null,
   "metadata": {
    "collapsed": true
   },
   "outputs": [],
   "source": []
  }
 ],
 "metadata": {
  "kernelspec": {
   "display_name": "Python [Root]",
   "language": "python",
   "name": "Python [Root]"
  },
  "language_info": {
   "codemirror_mode": {
    "name": "ipython",
    "version": 3
   },
   "file_extension": ".py",
   "mimetype": "text/x-python",
   "name": "python",
   "nbconvert_exporter": "python",
   "pygments_lexer": "ipython3",
   "version": "3.5.1"
  }
 },
 "nbformat": 4,
 "nbformat_minor": 0
}
