{
 "cells": [
  {
   "cell_type": "markdown",
   "metadata": {},
   "source": [
    "# Django 部署(Nginx)\n",
    "\n"
   ]
  },
  {
   "cell_type": "markdown",
   "metadata": {},
   "source": [
    "## 1.  安装Nginx\n"
   ]
  },
  {
   "cell_type": "markdown",
   "metadata": {},
   "source": [
    "```\n",
    "sudo apt-get install  nginx\n",
    "```"
   ]
  },
  {
   "cell_type": "markdown",
   "metadata": {},
   "source": [
    "如果你安装了 Apache ，并且此时 Apache 在运行，那么请先修改一下配置文件（没有直接跳过）：\n",
    "```\n",
    "#打开配置文件 \n",
    "sudo vim /etc/nginx/sites-available/default\n",
    "```"
   ]
  },
  {
   "cell_type": "markdown",
   "metadata": {},
   "source": [
    " 然后按以下两处修改（为了不和 Apache 冲突）：\n",
    "```\n",
    "server { \n",
    "  #修改这里 我将 80 改为 88 \n",
    " listen 88 default_server; \n",
    "  #还有这里 同样改为你想要的监听端口 \n",
    " listen [::]:88 default_server ipv6only=on; \n",
    "  ..... \n",
    "```"
   ]
  },
  {
   "cell_type": "markdown",
   "metadata": {},
   "source": [
    "此时，我们测试 nginx 是否安装成功，没做上述修改的直接在浏览器输入 localhost"
   ]
  },
  {
   "cell_type": "markdown",
   "metadata": {},
   "source": [
    "### nginx 的启动和关闭\n"
   ]
  },
  {
   "cell_type": "markdown",
   "metadata": {},
   "source": [
    "- 启动、停止和重启\n",
    "```\n",
    "sudo /etc/init.d/nginx start\n",
    "sudo /etc/init.d/nginx stop\n",
    "sudo /etc/init.d/nginx restart\n",
    "```\n",
    "或者\n",
    "```\n",
    "sudo service nginx start\n",
    "sudo service nginx stop\n",
    "sudo service nginx restart\n",
    "```"
   ]
  },
  {
   "cell_type": "markdown",
   "metadata": {},
   "source": [
    "## 2. uWSGI安装\n",
    "\n",
    "用python的pip安装最简单：\n",
    "```\n",
    "apt-get install python-dev #不安装这个，下面的安装可能会失败\n",
    "pip install uwsgi\n",
    "```\n",
    "\n"
   ]
  },
  {
   "cell_type": "markdown",
   "metadata": {},
   "source": [
    "## 3. 基于uWSGI和nginx部署Django\n",
    "\n",
    "### 1.原理 \n",
    "\n",
    "the web client <-> the web server(nginx) <-> the socket <-> uwsgi <-> Django\n",
    "\n"
   ]
  },
  {
   "cell_type": "markdown",
   "metadata": {},
   "source": [
    "### 2.基本测试 \n",
    "\n",
    "测试uWSGI是否正常\n",
    "在django项目的根目录下创建test.py文件，添加源码如下：\n",
    "```\n",
    "# test.py\n",
    "def application(env, start_response):\n",
    "    start_response('200 OK', [('Content-Type','text/html')])\n",
    "    return [\"Hello World\"] # python2\n",
    "    #return [b\"Hello World\"] # python3\n",
    "```\n"
   ]
  },
  {
   "cell_type": "markdown",
   "metadata": {},
   "source": [
    "然后，Run uWSGI:\n",
    "```\n",
    "uwsgi --http :8000 --wsgi-file test.py\n",
    "```\n",
    ">参数含义:   \n",
    "http :8000: 使用http协议，8000端口   \n",
    "wsgi-file test.py: 加载指定文件 test.py\n",
    "\n",
    "打开下面url，浏览器上应该显示hello world\n",
    "\n",
    "http://localhost:8000\n",
    "\n",
    ">如果显示正确，说明下面3个环节是通畅的：\n",
    "the web client <-> uWSGI <-> Python\n"
   ]
  },
  {
   "cell_type": "markdown",
   "metadata": {},
   "source": [
    "- 测试Django项目是否正常 \n",
    "\n",
    "    首先确保project本身是正常的：\n",
    "```\n",
    "python manage.py runserver 0.0.0.0:8000\n",
    "```\n",
    "    如果没问题，使用uWSGI把project拉起来：\n",
    "```\n",
    "uwsgi --http :8000 --module mysite.wsgi\n",
    "```\n",
    ">module mysite.wsgi: 加载wsgi module   \n",
    "如果project能够正常被拉起，说明以下环节是通的：   \n",
    "the web client <-> uWSGI <-> Django \n"
   ]
  },
  {
   "cell_type": "markdown",
   "metadata": {},
   "source": [
    "### 配置nginx \n",
    "\n",
    "安装nginx完成后，如果能正常打开http://localhost， 说明下面环节是通畅的：\n",
    "\n",
    "the web client <-> the web server\n",
    "\n",
    "- 增加nginx配置\n",
    "\n",
    "    将uwsgi_params文件拷贝到项目文件夹下。uwsgi_params文件在/etc/nginx/目录下，也可以从这个页面下载   \n",
    "    在项目文件夹下创建文件mysite_nginx.conf,填入并修改下面内容：\n"
   ]
  },
  {
   "cell_type": "markdown",
   "metadata": {},
   "source": [
    "```\n",
    "# mysite_nginx.conf\n",
    "\n",
    "# the upstream component nginx needs to connect to\n",
    "upstream django {\n",
    "    # server unix:///path/to/your/mysite/mysite.sock; # for a file socket\n",
    "    server 127.0.0.1:8001; # for a web port socket (we'll use this first)\n",
    "}\n",
    "# configuration of the server\n",
    "server {\n",
    "    # the port your site will be served on\n",
    "    listen      8000;\n",
    "    # the domain name it will serve for\n",
    "    server_name .example.com; # substitute your machine's IP address or FQDN\n",
    "    charset     utf-8;\n",
    "\n",
    "    # max upload size\n",
    "    client_max_body_size 75M;   # adjust to taste\n",
    "\n",
    "    # Django media\n",
    "    location /media  {\n",
    "        alias /path/to/your/mysite/media;  # your Django project's media files - amend as required\n",
    "    }\n",
    "\n",
    "    location /static {\n",
    "        alias /path/to/your/mysite/static; # your Django project's static files - amend as required\n",
    "    }\n",
    "\n",
    "    # Finally, send all non-media requests to the Django server.\n",
    "    location / {\n",
    "        uwsgi_pass  django;\n",
    "        include     /path/to/your/mysite/uwsgi_params; # the uwsgi_params file you installed\n",
    "    }\n",
    "}\n",
    "```\n"
   ]
  },
  {
   "cell_type": "markdown",
   "metadata": {},
   "source": [
    "    这个configuration文件告诉nginx从文件系统中拉起media和static文件作为服务，同时相应django的request\n",
    "\n",
    "    在/etc/nginx/sites-enabled目录下创建本文件的连接，使nginx能够使用它：\n",
    "```\n",
    "sudo ln -s ~/path/to/your/mysite/mysite_nginx.conf /etc/nginx/sites-enabled/\n",
    "```\n"
   ]
  },
  {
   "cell_type": "markdown",
   "metadata": {},
   "source": [
    "- 部署static文件\n",
    "\n",
    "    在django的setting文件中，添加下面一行内容：\n",
    "    \n",
    "```\n",
    "    STATIC_ROOT = os.path.join(BASE_DIR, \"static/\")\n",
    "```\n",
    "\n",
    "    然后运行：\n",
    "    \n",
    "```\n",
    "python manage.py collectstatic\n",
    "```\n",
    "\n",
    "\n",
    "\n"
   ]
  },
  {
   "cell_type": "markdown",
   "metadata": {},
   "source": [
    "- 测试nginx\n",
    "    首先重启nginx服务：\n",
    "    \n",
    "```\n",
    "sudo /etc/init.d/nginx restart\n",
    "```\n",
    "\n",
    "    然后检查media文件是否已经正常拉起：\n",
    "    在目录/path/to/your/project/project/media directory下添加文件meida.png，然后访http://example.com:8000/media/media.png ，成功后进行下一步测试。"
   ]
  },
  {
   "cell_type": "markdown",
   "metadata": {},
   "source": [
    "###  nginx and uWSGI and test.py \n",
    "\n",
    "执行下面代码测试能否让nginx在页面上显示hello, world\n",
    "```\n",
    "uwsgi --socket :8001 --wsgi-file test.py\n",
    "```\n",
    "\n",
    "访问http://example.com:8000 ,如果显示hello world，则下面环节是否通畅:\n",
    "\n",
    "the web client <-> the web server <-> the socket <-> uWSGI <-> Python\n",
    "\n"
   ]
  },
  {
   "cell_type": "markdown",
   "metadata": {},
   "source": [
    "- 用UNIX socket取代TCP port\n",
    "\n",
    "    对mysite_nginx.conf做如下修改：\n",
    "\n",
    "```\n",
    "server unix:///path/to/your/mysite/mysite.sock; # for a file socket\n",
    "# server 127.0.0.1:8001; # for a web port socket (we'll use this first)\n",
    "```\n",
    "\n",
    "- 重启nginx，并在此运行uWSGI\n",
    "```\n",
    "uwsgi --socket mysite.sock --wsgi-file test.py\n",
    "```\n",
    "打开 http://example.com:8000/ ，看看是否成功\n",
    "\n",
    "    如果没有成功:\n",
    "    检查 nginx error log(/var/log/nginx/error.log)。如果错误如下：\n",
    "```\n",
    "connect() to unix:///path/to/your/mysite/mysite.sock failed (13: Permission\n",
    "denied)\n",
    "```\n",
    "    添加socket权限再次运行：\n",
    "    \n",
    "```\n",
    "uwsgi --socket mysite.sock --wsgi-file test.py --chmod-socket=666 # (very permissive)\n",
    "\n",
    "or\n",
    "\n",
    "uwsgi --socket mysite.sock --wsgi-file test.py --chmod-socket=664 # (more sensible)\n",
    "```\n",
    "\n"
   ]
  },
  {
   "cell_type": "markdown",
   "metadata": {},
   "source": [
    "### Running the Django application with uswgi and nginx  ###\n",
    "\n",
    "如果上面一切都显示正常，则下面命令可以拉起django application\n",
    "```\n",
    "uwsgi --socket mysite.sock --module mysite.wsgi --chmod-socket=664\n",
    "```\n",
    "\n",
    "\n"
   ]
  },
  {
   "cell_type": "markdown",
   "metadata": {},
   "source": [
    "\n",
    "- Configuring uWSGI to run with a .ini file\n",
    "\n",
    "    每次都运行上面命令拉起django application实在麻烦，使用.ini文件能简化工作，方法如下："
   ]
  },
  {
   "cell_type": "markdown",
   "metadata": {},
   "source": [
    "在application目录下创建文件mysite_uwsgi.ini，填入并修改下面内容：\n",
    "```\n",
    "# mysite_uwsgi.ini file\n",
    "[uwsgi]\n",
    "\n",
    "# Django-related settings\n",
    "# the base directory (full path)\n",
    "chdir           = /path/to/your/project\n",
    "# Django's wsgi file\n",
    "module          = project.wsgi\n",
    "# the virtualenv (full path)\n",
    "home            = /path/to/virtualenv\n",
    "\n",
    "# process-related settings\n",
    "# master\n",
    "master          = true\n",
    "# maximum number of worker processes\n",
    "processes       = 10\n",
    "# the socket (use the full path to be safe\n",
    "socket          = /path/to/your/project/mysite.sock\n",
    "# ... with appropriate permissions - may be needed\n",
    "# chmod-socket    = 664\n",
    "# clear environment on exit\n",
    "vacuum          = true\n",
    "```\n"
   ]
  },
  {
   "cell_type": "markdown",
   "metadata": {},
   "source": [
    "现在，只要执行以下命令，就能够拉起django application：\n",
    "```\n",
    "uwsgi --ini mysite_uwsgi.ini # the --ini option is used to specify a file\n",
    "```\n"
   ]
  },
  {
   "cell_type": "markdown",
   "metadata": {},
   "source": [
    "- Make uWSGI startup when the system boots\n",
    "\n",
    "    编辑文件/etc/rc.local, 添加下面内容到这行代码之前exit 0:\n",
    "\n",
    "```\n",
    "/usr/local/bin/uwsgi --socket /path/to/mysite.sock --module /path/to/mysite.wsgi --chmod-socket=666\n",
    "```\n",
    "- uWSGI的更多配置\n",
    "\n",
    "```\n",
    "env = DJANGO_SETTINGS_MODULE=mysite.settings # set an environment variable\n",
    "pidfile = /tmp/project-master.pid # create a pidfile\n",
    "harakiri = 20 # respawn processes taking more than 20 seconds\n",
    "limit-as = 128 # limit the project to 128 MB\n",
    "max-requests = 5000 # respawn processes after serving 5000 requests\n",
    "daemonize = /var/log/uwsgi/yourproject.log # background the process & log\n",
    "```"
   ]
  },
  {
   "cell_type": "code",
   "execution_count": null,
   "metadata": {
    "collapsed": true
   },
   "outputs": [],
   "source": []
  }
 ],
 "metadata": {
  "kernelspec": {
   "display_name": "Python [Root]",
   "language": "python",
   "name": "Python [Root]"
  },
  "language_info": {
   "codemirror_mode": {
    "name": "ipython",
    "version": 3
   },
   "file_extension": ".py",
   "mimetype": "text/x-python",
   "name": "python",
   "nbconvert_exporter": "python",
   "pygments_lexer": "ipython3",
   "version": "3.5.1"
  }
 },
 "nbformat": 4,
 "nbformat_minor": 0
}
