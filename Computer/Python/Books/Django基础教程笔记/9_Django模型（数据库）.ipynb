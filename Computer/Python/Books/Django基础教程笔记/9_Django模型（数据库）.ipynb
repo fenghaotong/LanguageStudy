{
 "cells": [
  {
   "cell_type": "markdown",
   "metadata": {},
   "source": [
    "# Django 模型（数据库）\n",
    "\n",
    "Django 模型是与数据库相关的，与数据库相关的代码一般写在 models.py 中，Django 支持 sqlite3, MySQL, PostgreSQL等数据库，只需要在settings.py中配置即可，不用更改models.py中的代码，丰富的API极大的方便了使用。"
   ]
  },
  {
   "cell_type": "markdown",
   "metadata": {},
   "source": [
    "## 创建一个新项目\n",
    "\n",
    "和前几节一样"
   ]
  },
  {
   "cell_type": "markdown",
   "metadata": {},
   "source": [
    "- 打开 people/models.py 文件，修改其中的代码如下：\n",
    "\n",
    "```python\n",
    "from django.db import models\n",
    " \n",
    "class Person(models.Model):\n",
    "    name = models.CharField(max_length=30)\n",
    "    age = models.IntegerField()\n",
    "```\n",
    "我们新建了一个Person类，继承自models.Model, 一个人有姓名和年龄。这里用到了两种Field，更多Field类型可以参考教程最后的链接。\n",
    "\n"
   ]
  },
  {
   "cell_type": "markdown",
   "metadata": {},
   "source": [
    "## 同步一下数据库\n",
    "\n",
    "```python\n",
    "python manage.py makemigrations\n",
    "python manage.py migrate# 进入 manage.py 所在的那个文件夹下输入这个命令\n",
    "```\n",
    "\n",
    "我们会看到，Django生成了一系列的表，也生成了我们新建的people_person这个表，那么如何使用这个表呢？"
   ]
  },
  {
   "cell_type": "markdown",
   "metadata": {},
   "source": [
    "- Django提供了丰富的API, 下面演示如何使用它。\n",
    "\n",
    "```python\n",
    "$ python manage.py shell\n",
    ">>> from people.models import Person\n",
    ">>> Person.objects.create(name=\"WeizhongTu\", age=24)\n",
    "<Person: Person object>\n",
    ">>>\n",
    "```\n",
    "\n",
    "- 新建了一个用户WeizhongTu 那么如何从数据库是查询到它呢？\n",
    "\n",
    "```python\n",
    ">>> Person.objects.get(name=\"WeizhongTu\")\n",
    "<Person: Person object>\n",
    ">>>\n",
    "```"
   ]
  },
  {
   "cell_type": "markdown",
   "metadata": {},
   "source": [
    "用一个 .objects.get() 方法查询出来符合条件的对象，但是大家注意到了没有，查询结果中显示`<Person: Person object>`，这里并没有显示出与WeizhongTu的相关信息，如果用户多了就无法知道查询出来的到底是谁，查询结果是否正确，我们重新修改一下 people/models.py"
   ]
  },
  {
   "cell_type": "markdown",
   "metadata": {},
   "source": [
    "```python\n",
    "from django.db import models\n",
    "\n",
    "class Person(models.Model):\n",
    "    name = models.CharField(max_length=30)\n",
    "    age = models.IntegerField()\n",
    "     \n",
    "    def __str__(self):\n",
    "        return self.name\n",
    "```\n",
    "\n",
    "按CTRL + C退出当前的Python shell, 重复上面的操作，我们就可以看到:"
   ]
  },
  {
   "cell_type": "markdown",
   "metadata": {},
   "source": [
    "## 新建一个对象的方法有以下几种：\n",
    "\n",
    "- Person.objects.create(name=name,age=age)\n",
    "\n",
    "- p = Person(name=\"WZ\", age=23)\n",
    "\n",
    "- p.save()\n",
    "\n",
    "- p = Person(name=\"TWZ\")\n",
    "\n",
    "- p.age = 23\n",
    "\n",
    "- p.save()\n",
    "\n",
    "- Person.objects.get_or_create(name=\"WZT\", age=23)\n",
    "\n",
    ">这种方法是防止重复很好的方法，但是速度要相对慢些，返回一个元组，第一个为Person对象，第二个为True或False, 新建时返回的是True, 已经存在时返回False."
   ]
  },
  {
   "cell_type": "markdown",
   "metadata": {},
   "source": [
    "## 获取对象有以下方法：\n",
    "\n",
    "- Person.objects.all()\n",
    "\n",
    "- Person.objects.all()[:10] 切片操作，获取10个人，不支持负索引，切片可以节约内存\n",
    "\n",
    "- Person.objects.get(name=name)\n",
    "\n",
    "\n",
    "\n",
    "get是用来获取一个对象的，如果需要获取满足条件的一些人，就要用到filter\n",
    "\n",
    "- Person.objects.filter(name=\"abc\") # 等于Person.objects.filter(name__exact=\"abc\") 名称严格等于 \"abc\" 的人\n",
    "\n",
    "- Person.objects.filter(name__iexact=\"abc\") # 名称为 abc 但是不区分大小写，可以找到 ABC, Abc, aBC，这些都符合条件\n",
    "\n",
    "\n",
    "\n",
    "- Person.objects.filter(name__contains=\"abc\") # 名称中包含 \"abc\"的人\n",
    "\n",
    "- Person.objects.filter(name__icontains=\"abc\") #名称中包含 \"abc\"，且abc不区分大小写\n",
    "\n",
    "\n",
    "\n",
    "- Person.objects.filter(name__regex=\"^abc\") # 正则表达式查询\n",
    "\n",
    "- Person.objects.filter(name__iregex=\"^abc\")# 正则表达式不区分大小写\n",
    "\n",
    "\n",
    "\n",
    "filter是找出满足条件的，当然也有排除符合某条件的\n",
    "\n",
    "- Person.objects.exclude(name__contains=\"WZ\") # 排除包含 WZ 的Person对象\n",
    "\n",
    "- Person.objects.filter(name__contains=\"abc\").exclude(age=23) # 找出名称含有abc, 但是排除年龄是23岁的"
   ]
  },
  {
   "cell_type": "code",
   "execution_count": null,
   "metadata": {
    "collapsed": true
   },
   "outputs": [],
   "source": []
  }
 ],
 "metadata": {
  "kernelspec": {
   "display_name": "Python [Root]",
   "language": "python",
   "name": "Python [Root]"
  },
  "language_info": {
   "codemirror_mode": {
    "name": "ipython",
    "version": 3
   },
   "file_extension": ".py",
   "mimetype": "text/x-python",
   "name": "python",
   "nbconvert_exporter": "python",
   "pygments_lexer": "ipython3",
   "version": "3.5.1"
  }
 },
 "nbformat": 4,
 "nbformat_minor": 0
}
