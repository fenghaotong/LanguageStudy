{
 "cells": [
  {
   "cell_type": "markdown",
   "metadata": {
    "collapsed": true
   },
   "source": [
    "# Django缓存系统\n",
    "\n",
    "Django 是动态网站，一般来说需要实时地生成访问的网页，展示给访问者，这样，内容可以随时变化，但是从数据库读多次把所需要的数据取出来，要比从内存或者硬盘等一次读出来 付出的成本大很多。"
   ]
  },
  {
   "cell_type": "markdown",
   "metadata": {},
   "source": [
    "缓存系统工作原理：\n",
    "\n",
    "对于给定的网址，尝试从缓存中找到网址，如果页面在缓存中，直接返回缓存的页面，如果缓存中没有，一系列操作（比如查数据库）后，保存生成的页面内容到缓存系统以供下一次使用，然后返回生成的页面内容"
   ]
  },
  {
   "cell_type": "markdown",
   "metadata": {},
   "source": [
    "**Django settings 中 cache 默认为**\n",
    "\n",
    "```\n",
    "{\n",
    "    'default': {\n",
    "        'BACKEND': 'django.core.cache.backends.locmem.LocMemCache',\n",
    "    }\n",
    "}\n",
    "```\n"
   ]
  },
  {
   "cell_type": "markdown",
   "metadata": {},
   "source": [
    "- 也就是默认利用本地的内存来当缓存，速度很快。当然可能出来内存不够用的情况，其它的一些内建可用的 Backends 有\n",
    "\n",
    "```\n",
    "'django.core.cache.backends.db.DatabaseCache'\n",
    "'django.core.cache.backends.dummy.DummyCache'\n",
    "'django.core.cache.backends.filebased.FileBasedCache'\n",
    "'django.core.cache.backends.locmem.LocMemCache'\n",
    "'django.core.cache.backends.memcached.MemcachedCache'\n",
    "'django.core.cache.backends.memcached.PyLibMCCache'\n",
    "```\n",
    "在 github 上也有用 redis 做 Django的缓存系统的开源项目：https://github.com/niwibe/django-redis"
   ]
  },
  {
   "cell_type": "markdown",
   "metadata": {},
   "source": [
    "** 利用文件系统来缓存：**\n",
    "\n",
    "```\n",
    "CACHES = {\n",
    "    'default': {\n",
    "        'BACKEND': 'django.core.cache.backends.filebased.FileBasedCache',\n",
    "        'LOCATION': '/var/tmp/django_cache',\n",
    "        'TIMEOUT': 600,\n",
    "        'OPTIONS': {\n",
    "            'MAX_ENTRIES': 1000\n",
    "        }\n",
    "    }\n",
    "}\n",
    "```\n",
    "\n"
   ]
  },
  {
   "cell_type": "markdown",
   "metadata": {},
   "source": [
    "** 利用数据库来缓存，利用命令创建相应的表：python manage.py createcachetable cache_table_name **\n",
    "\n",
    "```\n",
    "CACHES = {\n",
    "    'default': {\n",
    "        'BACKEND': 'django.core.cache.backends.db.DatabaseCache',\n",
    "        'LOCATION': 'cache_table_name',\n",
    "        'TIMEOUT': 600,\n",
    "        'OPTIONS': {\n",
    "            'MAX_ENTRIES': 2000\n",
    "        }\n",
    "    }\n",
    "}\n",
    "```"
   ]
  },
  {
   "cell_type": "markdown",
   "metadata": {},
   "source": [
    "下面用一些实例来说明如何使用 Django 缓存系统\n",
    "\n"
   ]
  },
  {
   "cell_type": "markdown",
   "metadata": {},
   "source": [
    "- 一般来说我们用 Django 来搭建一个网站，要用到数据库等。\n",
    "\n",
    "```\n",
    "from django.shortcuts import render\n",
    "def index(request):\n",
    "    # 读取数据库等 并渲染到网页\n",
    "    # 数据库获取的结果保存到 queryset 中\n",
    "    return render(request, 'index.html', {'queryset':queryset})\n",
    "```\n",
    "\n"
   ]
  },
  {
   "cell_type": "markdown",
   "metadata": {},
   "source": [
    "- 像这样每次访问都要读取数据库，一般的小网站没什么问题，当访问量非常大的时候，就会有很多次的数据库查询，肯定会造成访问速度变慢，服务器资源占用较多等问题。\n",
    "\n",
    "```\n",
    "from django.shortcuts import render\n",
    "from django.views.decorators.cache import cache_page\n",
    " \n",
    "@cache_page(60 * 15) # 秒数，这里指缓存 15 分钟，不直接写900是为了提高可读性\n",
    "def index(request):\n",
    "    # 读取数据库等 并渲染到网页\n",
    "    return render(request, 'index.html', {'queryset':queryset})\n",
    "```\n",
    "\n"
   ]
  },
  {
   "cell_type": "markdown",
   "metadata": {},
   "source": [
    "- 当使用了cache后，访问情况变成了如下：\n",
    "\n",
    "```\n",
    "访问一个网址时, 尝试从 cache 中找有没有缓存内容\n",
    "如果网页在缓存中显示缓存内容，否则生成访问的页面，保存在缓存中以便下次使用，显示缓存的页面。\n",
    "given a URL, try finding that page in the cache\n",
    "if the page is in the cache:\n",
    "    return the cached page\n",
    "else:\n",
    "    generate the page\n",
    "    save the generated page in the cache (for next time)\n",
    "    return the generated page\n",
    "```"
   ]
  },
  {
   "cell_type": "code",
   "execution_count": null,
   "metadata": {
    "collapsed": true
   },
   "outputs": [],
   "source": []
  }
 ],
 "metadata": {
  "anaconda-cloud": {},
  "kernelspec": {
   "display_name": "Python [Root]",
   "language": "python",
   "name": "Python [Root]"
  },
  "language_info": {
   "codemirror_mode": {
    "name": "ipython",
    "version": 3
   },
   "file_extension": ".py",
   "mimetype": "text/x-python",
   "name": "python",
   "nbconvert_exporter": "python",
   "pygments_lexer": "ipython3",
   "version": "3.5.1"
  }
 },
 "nbformat": 4,
 "nbformat_minor": 0
}
