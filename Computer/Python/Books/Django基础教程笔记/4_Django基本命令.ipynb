{
 "cells": [
  {
   "cell_type": "markdown",
   "metadata": {},
   "source": [
    "# Django 基本命令\n",
    "\n"
   ]
  },
  {
   "cell_type": "markdown",
   "metadata": {},
   "source": [
    "## 新建一个 django project\n",
    "\n",
    "```sh\n",
    "django-admin.py startproject <project-name>\n",
    "```\n",
    "一个 project 为一个项目，project-name为项目名称，要符合Python的变量命名规则（以下划线或字母开头）"
   ]
  },
  {
   "cell_type": "markdown",
   "metadata": {},
   "source": [
    "## 新建 app\n",
    "\n",
    "```\n",
    "python manage.py startapp app-name\n",
    "```\n",
    "或 \n",
    "```\n",
    "django-admin.py startapp app-name\n",
    "```\n",
    "\n",
    "一般一个项目有多个app, 当然通用的app也可以在多个项目中使用。"
   ]
  },
  {
   "cell_type": "markdown",
   "metadata": {},
   "source": [
    "## 同步数据库\n",
    "\n",
    "Django 1.7.1及更高版本需要用以下命令\n",
    "```\n",
    "python manage.py makemigrations\n",
    "python manage.py migrate\n",
    "```\n",
    "\n",
    "可以创建表，当你在models.py中新增了类时，运行它就可以自动在数据库中创建表了，不用手动创建。"
   ]
  },
  {
   "cell_type": "markdown",
   "metadata": {},
   "source": [
    "## 使用开发服务器\n",
    "\n",
    "开发服务器，即开发时使用，一般修改代码后会自动重启，方便调试和开发，但是由于性能问题，建议只用来测试，不要用在生产环境。\n",
    "```\n",
    "python manage.py runserver\n",
    "```\n"
   ]
  },
  {
   "cell_type": "markdown",
   "metadata": {},
   "source": [
    "### 可以指定其它端口：\n",
    "\n",
    "```\n",
    "python manage.py runserver 8001\n",
    "python manage.py runserver 9999\n",
    "```\n"
   ]
  },
  {
   "cell_type": "markdown",
   "metadata": {},
   "source": [
    "### 监听所有可用 ip （电脑可能有一个或多个内网ip，一个或多个外网ip，即有多个ip地址）\n",
    "\n",
    "```\n",
    "python manage.py runserver 0.0.0.0:8000\n",
    "```\n",
    "\n",
    "如果是外网或者局域网电脑上可以用其它电脑查看开发服务器\n",
    "\n",
    "\n",
    "### 访问对应的 ip加端口\n",
    "比如 http://172.16.20.2:8000"
   ]
  },
  {
   "cell_type": "markdown",
   "metadata": {},
   "source": [
    "## 清空数据库\n",
    "\n",
    "```\n",
    "python manage.py flush\n",
    "```\n",
    "此命令会询问是 yes 还是 no, 选择 yes 会把数据全部清空掉，只留下空表。"
   ]
  },
  {
   "cell_type": "markdown",
   "metadata": {},
   "source": [
    "## 创建超级管理员\n",
    "\n",
    "```\n",
    "python manage.py createsuperuser\n",
    "```\n",
    "\n",
    "按照提示输入用户名和对应的密码就好了邮箱可以留空，用户名和密码必填\n",
    " \n",
    "** 修改用户密码**：\n",
    "\n",
    "```\n",
    "python manage.py changepassword username\n",
    "```"
   ]
  },
  {
   "cell_type": "markdown",
   "metadata": {},
   "source": [
    "## 导出数据 导入数据\n",
    "\n",
    "```\n",
    "python manage.py dumpdata appname > appname.json\n",
    "python manage.py loaddata appname.json\n",
    "```"
   ]
  },
  {
   "cell_type": "markdown",
   "metadata": {},
   "source": [
    "## Django 项目环境终端\n",
    "\n",
    "```\n",
    "python manage.py shell\n",
    "```\n",
    "\n",
    "如果你安装了bpython 或 ipython 会自动用它们的界面，推荐安装 bpython。\n",
    "\n",
    "这个命令和直接运行 python或 bpython 进入 shell 的区别是：你可以在这个 shell 里面调用当前项目的 models.py 中的 API，对于操作数据，还有一些小测试非常方便。"
   ]
  },
  {
   "cell_type": "markdown",
   "metadata": {},
   "source": [
    "## 数据库命令行\n",
    "\n",
    "```\n",
    "python manage.py dbshell\n",
    "```\n",
    "\n",
    "Django 会自动进入在settings.py中设置的数据库，如果是 MySQL 或 postgreSQL,会要求输入数据库用户密码。\n",
    "\n",
    "在这个终端可以执行数据库的SQL语句。如果您对SQL比较熟悉，可能喜欢这种方式。"
   ]
  },
  {
   "cell_type": "markdown",
   "metadata": {},
   "source": [
    "## 更多命令\n",
    "\n",
    "终端上输入 python manage.py 可以看到详细的列表，在忘记子名称的时候特别有用"
   ]
  },
  {
   "cell_type": "code",
   "execution_count": 1,
   "metadata": {
    "collapsed": false
   },
   "outputs": [
    {
     "ename": "ImportError",
     "evalue": "No module named 'django'",
     "output_type": "error",
     "traceback": [
      "\u001b[1;31m---------------------------------------------------------------------------\u001b[0m",
      "\u001b[1;31mImportError\u001b[0m                               Traceback (most recent call last)",
      "\u001b[1;32m<ipython-input-1-ddd53ea55c12>\u001b[0m in \u001b[0;36m<module>\u001b[1;34m()\u001b[0m\n\u001b[1;32m----> 1\u001b[1;33m \u001b[1;32mimport\u001b[0m \u001b[0mdjango\u001b[0m\u001b[1;33m\u001b[0m\u001b[0m\n\u001b[0m",
      "\u001b[1;31mImportError\u001b[0m: No module named 'django'"
     ]
    }
   ],
   "source": [
    "import django"
   ]
  },
  {
   "cell_type": "code",
   "execution_count": null,
   "metadata": {
    "collapsed": true
   },
   "outputs": [],
   "source": []
  }
 ],
 "metadata": {
  "kernelspec": {
   "display_name": "Python [Root]",
   "language": "python",
   "name": "Python [Root]"
  },
  "language_info": {
   "codemirror_mode": {
    "name": "ipython",
    "version": 3
   },
   "file_extension": ".py",
   "mimetype": "text/x-python",
   "name": "python",
   "nbconvert_exporter": "python",
   "pygments_lexer": "ipython3",
   "version": "3.5.1"
  }
 },
 "nbformat": 4,
 "nbformat_minor": 0
}
