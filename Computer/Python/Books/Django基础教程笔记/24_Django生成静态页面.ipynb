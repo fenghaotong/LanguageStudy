{
 "cells": [
  {
   "cell_type": "markdown",
   "metadata": {},
   "source": [
    "# Django生成静态页面\n",
    "\n",
    "如果网站的流量过大，每次访问时都动态生成，执行SQL语句，消耗大量服务器资源，这时候可以考虑生成静态页面。"
   ]
  },
  {
   "cell_type": "markdown",
   "metadata": {},
   "source": [
    "- 生成静态很简单，下面是一个例子:\n",
    "\n",
    "    只要在views.py中这样写就行了\n",
    "\n",
    "```python\n",
    "from django.shortcuts import render\n",
    "from django.template.loader import render_to_string\n",
    "import os\n",
    " \n",
    " \n",
    "def my_view(request):\n",
    "    context = {'some_key': 'some_value'}\n",
    " \n",
    "    static_html = '/path/to/static.html'\n",
    " \n",
    "    if not os.path.exists(static_html):\n",
    "        content = render_to_string('template.html', context)\n",
    "        with open(static_html, 'w') as static_file:\n",
    "            static_file.write(content)\n",
    " \n",
    "    return render(request, static_html)\n",
    "```\n",
    "\n",
    "    上面的例子中，当用户访问时，如果判断没有静态页面就自动生成静态页面，然后返回静态文件，当文件存在的时候就不再次生成。\n",
    "\n",
    "    也可以用一个文件夹，比如在project下建一个 static_html 文件夹，把生成的静态文件都放里面，让用户像访问静态文件那样访问页面。"
   ]
  },
  {
   "cell_type": "markdown",
   "metadata": {},
   "source": [
    "** 更佳办法 **\n",
    "\n",
    "但是一般情况下都不需要生成静态页面，因为Django 有缓存功能，使用 Django Cache(缓存)就相当于把生成生成静态页面，而且还有自动更新的功能，比如30分钟刷新一下页面内容。\n",
    "\n"
   ]
  },
  {
   "cell_type": "markdown",
   "metadata": {},
   "source": [
    "** 用Django管理静态网站内容 **\n",
    "\n",
    "如果服务器上不支持Django环境，你可以在本地上搭建一个Django环境，然后生成静态页面，把这些页面放到不支持 Django 的服务器上去，在本地更新，然后上传到服务器，用Django来管理和更新网站的内容，也是一个不错的做法，还可以更安全，听说有很多黑客都是这么做的。"
   ]
  },
  {
   "cell_type": "code",
   "execution_count": null,
   "metadata": {
    "collapsed": true
   },
   "outputs": [],
   "source": []
  }
 ],
 "metadata": {
  "kernelspec": {
   "display_name": "Python [Root]",
   "language": "python",
   "name": "Python [Root]"
  },
  "language_info": {
   "codemirror_mode": {
    "name": "ipython",
    "version": 3
   },
   "file_extension": ".py",
   "mimetype": "text/x-python",
   "name": "python",
   "nbconvert_exporter": "python",
   "pygments_lexer": "ipython3",
   "version": "3.5.1"
  }
 },
 "nbformat": 4,
 "nbformat_minor": 0
}
