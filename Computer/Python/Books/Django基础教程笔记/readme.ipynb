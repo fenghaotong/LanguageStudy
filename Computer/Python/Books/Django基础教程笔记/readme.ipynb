{
 "cells": [
  {
   "cell_type": "markdown",
   "metadata": {},
   "source": [
    "# Django基础教程\n",
    "\n",
    "[官方网站](http://www.ziqiangxuetang.com/django/django-tutorial.html)"
   ]
  },
  {
   "cell_type": "markdown",
   "metadata": {},
   "source": [
    "Django 基础教程\n",
    "- [x] Django 简介\n",
    "- [x] Django 环境搭建\n",
    "- [x] Django 基本命令\n",
    "- [x] Django 视图与网址\n",
    "- [x] Django 视图与网址进阶\n",
    "- [x] Django 模板（templates)\n",
    "- [x] Django 模板进阶\n",
    "- [x] Django 模型(数据库)\n",
    "- [x] Django 自定义 Field\n",
    "- [x] Django 数据表更改\n",
    "- [x] Django QuerySet API\n",
    "- [x] Django 后台\n",
    "- [x] Django 表单\n",
    "- [x] Django 配置\n",
    "- [x] Django 静态文件\n",
    "- [x] Django 部署 (Apache)\n",
    "- [x] Django 部署 (Nginx)\n",
    "- [x] Django 发送邮件"
   ]
  },
  {
   "cell_type": "markdown",
   "metadata": {},
   "source": [
    "Django 中级教程\n",
    "\n",
    "- [x] Django 数据导入\n",
    "- [x] Django 数据迁移\n",
    "- [x] Django 多数据库联用\n",
    "- [x] Django 用户注册系统\n",
    "- [x] Django 缓存系统\n",
    "- [x] Django 生成静态网页\n",
    "- [ ] Django 安全\n",
    "- [ ] Django 国际化\n",
    "- [ ] Django session\n",
    "- [ ] Django传递数据给JS\n",
    "- [ ] Django Ajax\n",
    "- [ ] Django Ajax CSRF 认证\n",
    "- [ ] Django Sitemap 站点地图\n",
    "- [ ] 只用 Django 数据库\n",
    "- [ ] Django 通用视图\n",
    "- [ ] Django 上下文渲染器\n",
    "- [ ] Django 中间件\n",
    "- [ ] Django 微信接口\n",
    "- [ ] Django 单元测试"
   ]
  },
  {
   "cell_type": "code",
   "execution_count": null,
   "metadata": {
    "collapsed": true
   },
   "outputs": [],
   "source": []
  }
 ],
 "metadata": {
  "anaconda-cloud": {},
  "kernelspec": {
   "display_name": "Python [Root]",
   "language": "python",
   "name": "Python [Root]"
  },
  "language_info": {
   "codemirror_mode": {
    "name": "ipython",
    "version": 3
   },
   "file_extension": ".py",
   "mimetype": "text/x-python",
   "name": "python",
   "nbconvert_exporter": "python",
   "pygments_lexer": "ipython3",
   "version": "3.5.1"
  }
 },
 "nbformat": 4,
 "nbformat_minor": 0
}
