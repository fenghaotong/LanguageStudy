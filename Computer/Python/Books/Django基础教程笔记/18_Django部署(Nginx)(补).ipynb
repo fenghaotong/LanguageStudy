{
 "cells": [
  {
   "cell_type": "markdown",
   "metadata": {},
   "source": [
    "# Django 部署(Nginx)\n",
    "\n"
   ]
  },
  {
   "cell_type": "markdown",
   "metadata": {},
   "source": [
    "## 1.  安装Nginx\n"
   ]
  },
  {
   "cell_type": "markdown",
   "metadata": {},
   "source": [
    "## 2. uWSGI安装"
   ]
  },
  {
   "cell_type": "markdown",
   "metadata": {},
   "source": [
    "## 3. 基于uWSGI和nginx部署Django"
   ]
  },
  {
   "cell_type": "markdown",
   "metadata": {
    "collapsed": true
   },
   "source": [
    "- 接下来配置Django与uwsgi连接。此处，假定的我的django项目位置为：/home/htfeng/mysite\n",
    "\n",
    "\n",
    "```\n",
    "$ uwsgi --http :8001 --chdir /home/fnngj/pydj/myweb/ --wsgi-file myweb/wsgi.py --master --processes 4 --threads 2 --stats 127.0.0.1:9191\n",
    "```\n",
    "\n",
    "常用选项：\n",
    "\n",
    "- http ： 协议类型和端口号\n",
    "\n",
    "- processes ： 开启的进程数量\n",
    "\n",
    "- workers ： 开启的进程数量，等同于processes（官网的说法是spawn the specified number ofworkers / processes）\n",
    "\n",
    "- chdir ： 指定运行目录（chdir to specified directory before apps loading）\n",
    "\n",
    "- wsgi-file ： 载入wsgi-file（load .wsgi file）\n",
    "\n",
    "- stats ： 在指定的地址上，开启状态服务（enable the stats server on the specified address）\n",
    "\n",
    "- threads ： 运行线程。由于GIL的存在，我觉得这个真心没啥用。（run each worker in prethreaded mode with the specified number of threads）\n",
    "\n",
    "- master ： 允许主进程存在（enable master process）\n",
    "\n",
    "- daemonize ： 使进程在后台运行，并将日志打到指定的日志文件或者udp服务器（daemonize uWSGI）。实际上最常用的，还是把运行记录输出到一个本地文件上。\n",
    "\n",
    "- pidfile ： 指定pid文件的位置，记录主进程的pid号。\n",
    "\n",
    "- vacuum ： 当服务器退出的时候自动清理环境，删除unix socket文件和pid文件（try to remove all of the generated file/sockets）"
   ]
  },
  {
   "cell_type": "markdown",
   "metadata": {},
   "source": [
    "## 4.Nginx+uwsgi+Django  \n",
    "\n",
    "接下来，我们要将三者结合起来。首先罗列一下项目的所需要的文件：\n",
    "\n",
    "mysite/\n",
    "\n",
    "├── manage.py\n",
    "\n",
    "├── mysite/\n",
    "\n",
    "│   ├── __init__.py\n",
    "\n",
    "│   ├── settings.py\n",
    "\n",
    "│   ├── urls.py\n",
    "\n",
    "│   └── wsgi.py\n",
    "\n",
    "└── mysite_uwsgi.ini"
   ]
  },
  {
   "cell_type": "markdown",
   "metadata": {},
   "source": [
    "在我们通过Django创建myweb项目时，在子目录myweb下已经帮我们生成的 wsgi.py文件。所以，我们只需要再创建myweb_uwsgi.ini配置文件即可，当然，uwsgi支持多种类型的配置文件，如xml，ini等。此处，使用ini类型的配置。"
   ]
  },
  {
   "cell_type": "markdown",
   "metadata": {},
   "source": [
    "```\n",
    "# myweb_uwsgi.ini file\n",
    "[uwsgi]\n",
    "\n",
    "# Django-related settings\n",
    "\n",
    "socket = :8000\n",
    "\n",
    "# the base directory (full path)\n",
    "chdir           = /home/htfeng/mysite\n",
    "\n",
    "# Django s wsgi file\n",
    "module          = mysite.wsgi\n",
    "\n",
    "# process-related settings\n",
    "# master\n",
    "master          = true\n",
    "\n",
    "# maximum number of worker processes\n",
    "processes       = 4\n",
    "\n",
    "# ... with appropriate permissions - may be needed\n",
    "# chmod-socket    = 664\n",
    "# clear environment on exit\n",
    "vacuum          = true\n",
    "```"
   ]
  },
  {
   "cell_type": "markdown",
   "metadata": {},
   "source": [
    "- 这个配置，其实就相当于在上一小节中通过wsgi命令，后面跟一堆参数的方式，给文件化了。\n",
    "\n",
    "　　socket  指定项目执行的端口号。\n",
    "\n",
    "　　chdir   指定项目的目录。\n",
    "\n",
    "　　module  myweb.wsgi ，可以这么来理解，对于mysite_uwsgi.ini文件来说，与它的平级的有一个mysite目录，这个目录下有一个wsgi.py文件。\n",
    "\n",
    "　　其它几个参数，可以参考上一小节中参数的介绍。"
   ]
  },
  {
   "cell_type": "markdown",
   "metadata": {},
   "source": [
    "- 接下来，切换到myweb项目目录下，通过uwsgi命令读取myweb_uwsgi.ini文件启动项目。"
   ]
  },
  {
   "cell_type": "markdown",
   "metadata": {},
   "source": [
    "```\n",
    "$ uwsgi --ini mysite_uwsgi.ini \n",
    "[uWSGI] getting INI configuration from mysite_uwsgi.ini\n",
    "*** Starting uWSGI 2.0.13.1 (64bit) on [Mon Aug 15 15:14:03 2016] ***\n",
    "compiled with version: 5.4.0 20160609 on 11 August 2016 15:28:27\n",
    "os: Linux-4.4.0-31-generic #50-Ubuntu SMP Wed Jul 13 00:07:12 UTC 2016\n",
    "nodename: htfeng\n",
    "machine: x86_64\n",
    "clock source: unix\n",
    "pcre jit disabled\n",
    "detected number of CPU cores: 8\n",
    "current working directory: /home/htfeng/mysite\n",
    "detected binary path: /home/htfeng/anaconda3/bin/uwsgi\n",
    "chdir() to /home/htfeng/mysite\n",
    "your processes number limit is 128250\n",
    "your memory page size is 4096 bytes\n",
    "detected max file descriptor number: 1024\n",
    "lock engine: pthread robust mutexes\n",
    "thunder lock: disabled (you can enable it with --thunder-lock)\n",
    "uwsgi socket 0 bound to TCP address :8000 fd 3\n",
    "Python version: 3.5.1 |Anaconda 4.1.0 (64-bit)| (default, Jun 15 2016, 15:32:45)  [GCC 4.4.7 20120313 (Red Hat 4.4.7-1)]\n",
    "*** Python threads support is disabled. You can enable it with --enable-threads ***\n",
    "Python main interpreter initialized at 0x102a820\n",
    "your server socket listen backlog is limited to 100 connections\n",
    "your mercy for graceful operations on workers is 60 seconds\n",
    "mapped 363840 bytes (355 KB) for 4 cores\n",
    "*** Operational MODE: preforking ***\n",
    "WSGI app 0 (mountpoint='') ready in 1 seconds on interpreter 0x102a820 pid: 3608 (default app)\n",
    "*** uWSGI is running in multiple interpreter mode ***\n",
    "spawned uWSGI master process (pid: 3608)\n",
    "spawned uWSGI worker 1 (pid: 3610, cores: 1)\n",
    "spawned uWSGI worker 2 (pid: 3611, cores: 1)\n",
    "spawned uWSGI worker 3 (pid: 3612, cores: 1)\n",
    "spawned uWSGI worker 4 (pid: 3613, cores: 1)\n",
    "```\n",
    "\n",
    "注意查看uwsgi的启动信息，如果有错，就要检查配置文件的参数是否设置有误。"
   ]
  },
  {
   "cell_type": "markdown",
   "metadata": {},
   "source": [
    "- 再接下来要做的就是修改/etc/nginx/sites-enabled/default配置文件。打开/etc/nginx/sites-enabled/default文件，添加如下内容。 \n",
    "\n",
    "```\n",
    "server {\n",
    "    listen         8099; \n",
    "    server_name    127.0.0.1 \n",
    "    charset UTF-8;\n",
    "    access_log      /var/log/nginx/mysite_access.log;\n",
    "    error_log       /var/log/nginx/mysite_error.log;\n",
    "\n",
    "    client_max_body_size 75M;\n",
    "\n",
    "    location / { \n",
    "        include uwsgi_params;\n",
    "        uwsgi_pass 127.0.0.1:8000;\n",
    "        uwsgi_read_timeout 2;\n",
    "    }   \n",
    "    location /static {\n",
    "        expires 30d;\n",
    "        autoindex on; \n",
    "        add_header Cache-Control private;\n",
    "        alias /home/htfeng/mysite/static/;\n",
    "     }\n",
    " }\n",
    "```"
   ]
  },
  {
   "cell_type": "markdown",
   "metadata": {},
   "source": [
    "listen 指定的是nginx代理uwsgi对外的端口号。\n",
    "\n",
    "server_name  网上大多资料都是设置的一个网址（例，www.example.com）， 我这里如果设置成网址无法访问，所以，指定的到了本机默认ip。\n",
    "\n",
    "在进行配置的时候，我有个问题一直想不通。nginx到底是如何uwsgi产生关联。现在看来大概最主要的就是这两行配置。\n",
    "```\n",
    "include uwsgi_params;\n",
    "\n",
    "uwsgi_pass 127.0.0.1:8000;\n",
    "```\n",
    "include 必须指定为uwsgi_params；而uwsgi_pass指的本机IP的端口与myweb_uwsgi.ini配置文件中的必须一直。"
   ]
  },
  {
   "cell_type": "markdown",
   "metadata": {},
   "source": [
    "现在重新启动nginx，翻看上面重启动nginx的命令。然后，访问：http://127.0.0.1:8099/\n",
    "\n",
    "通过这个IP和端口号的指向，请求应该是先到nginx的。如果你在页面上执行一些请求，就会看到，这些请求最终会转到uwsgi来处理。"
   ]
  },
  {
   "cell_type": "code",
   "execution_count": null,
   "metadata": {
    "collapsed": true
   },
   "outputs": [],
   "source": []
  }
 ],
 "metadata": {
  "kernelspec": {
   "display_name": "Python [Root]",
   "language": "python",
   "name": "Python [Root]"
  },
  "language_info": {
   "codemirror_mode": {
    "name": "ipython",
    "version": 3
   },
   "file_extension": ".py",
   "mimetype": "text/x-python",
   "name": "python",
   "nbconvert_exporter": "python",
   "pygments_lexer": "ipython3",
   "version": "3.5.1"
  }
 },
 "nbformat": 4,
 "nbformat_minor": 0
}
