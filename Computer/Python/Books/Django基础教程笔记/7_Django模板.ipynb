{
 "cells": [
  {
   "cell_type": "markdown",
   "metadata": {},
   "source": [
    "# Django 模板\n",
    "\n",
    "在前面的几节中我们都是用简单的 django.http.HttpResponse 来把内容显示到网页上，本节将讲解如何使用渲染模板的方法来显示内容。"
   ]
  },
  {
   "cell_type": "markdown",
   "metadata": {},
   "source": [
    "** 1. 创建一个 zqxt_tmpl 项目，和一个 名称为 learn 的应用 **\n",
    "\n",
    "```python\n",
    "django-admin.py startproject zqxt_tmpl\n",
    "cd zqxt_tmpl\n",
    "python manage.py startapp learn\n",
    "```"
   ]
  },
  {
   "cell_type": "markdown",
   "metadata": {},
   "source": [
    "** 2. 把 learn 加入到 settings.INSTALLED_APPS中**\n",
    "\n",
    "```\n",
    "INSTALLED_APPS = (\n",
    "    'django.contrib.admin',\n",
    "    'django.contrib.auth',\n",
    "    'django.contrib.contenttypes',\n",
    "    'django.contrib.sessions',\n",
    "    'django.contrib.messages',\n",
    "    'django.contrib.staticfiles',\n",
    " \n",
    "    'learn',\n",
    ")\n",
    "```"
   ]
  },
  {
   "cell_type": "markdown",
   "metadata": {},
   "source": [
    "** 3. 打开 learn/views.py 写一个首页的视图 **\n",
    "\n",
    "```python\n",
    "from django.shortcuts import render\n",
    " \n",
    " \n",
    "def home(request):\n",
    "    return render(request, 'home.html')\n",
    "```"
   ]
  },
  {
   "cell_type": "markdown",
   "metadata": {},
   "source": [
    "** 4. 在 learn目录下新建一个 templates 文件夹，里面新建一个 home.html **\n",
    "\n",
    "默认配置下，Django 的模板系统会自动找到app下面的templates文件夹中的模板文件。\n",
    "\n",
    "目录的结构是这样的：\n",
    "\n",
    "```\n",
    ".\n",
    "├── learn\n",
    "│   ├── admin.py\n",
    "│   ├── __init__.py\n",
    "│   ├── migrations\n",
    "│   │   └── __init__.py\n",
    "│   ├── models.py\n",
    "│   ├── templates\n",
    "│   │   └── home.html\n",
    "│   ├── tests.py\n",
    "│   └── views.py\n",
    "├── manage.py\n",
    "└── zqxt_tmpl\n",
    "    ├── __init__.py\n",
    "    ├── __pycache__\n",
    "    │   ├── __init__.cpython-35.pyc\n",
    "    │   └── settings.cpython-35.pyc\n",
    "    ├── settings.py\n",
    "    ├── urls.py\n",
    "    └── wsgi.py\n",
    "```"
   ]
  },
  {
   "cell_type": "markdown",
   "metadata": {},
   "source": [
    "** 5. 在 home.html 中写一些内容 **\n",
    "```html\n",
    "<!DOCTYPE html>\n",
    "<html>\n",
    "<head>\n",
    "    <title>欢迎光临</title>\n",
    "</head>\n",
    "<body>\n",
    "欢迎光临自强学堂\n",
    "</body>\n",
    "</html>\n",
    "```"
   ]
  },
  {
   "cell_type": "markdown",
   "metadata": {},
   "source": [
    "** 6. 将视图函数对应到网址，更改 zqxt_tmpl/urls.py **\n",
    "\n",
    "```python\n",
    "from django.conf.urls import include, url\n",
    "from django.contrib import admin\n",
    "from learn import views as learn_views\n",
    " \n",
    " \n",
    "urlpatterns = [\n",
    "    url(r'^$', learn_views.home, name='home'),\n",
    "    url(r'^admin/', include(admin.site.urls)),\n",
    "]\n",
    "```"
   ]
  },
  {
   "cell_type": "markdown",
   "metadata": {},
   "source": [
    "** 7. [可选] 创建数据库表 **\n",
    "\n",
    "```\n",
    "python manage.py syncdb\n",
    " \n",
    "# Django 1.9.x 以及上要用\n",
    "python manage.py \n",
    "python manage.py migrate\n",
    "```"
   ]
  },
  {
   "cell_type": "markdown",
   "metadata": {},
   "source": [
    "** 8. 运行开发服务器，看看效果 **\n",
    "```\n",
    "python manage.py runserver\n",
    "```"
   ]
  },
  {
   "cell_type": "code",
   "execution_count": null,
   "metadata": {
    "collapsed": true
   },
   "outputs": [],
   "source": []
  }
 ],
 "metadata": {
  "celltoolbar": "Slideshow",
  "kernelspec": {
   "display_name": "Python 3",
   "language": "python",
   "name": "python3"
  },
  "language_info": {
   "codemirror_mode": {
    "name": "ipython",
    "version": 3
   },
   "file_extension": ".py",
   "mimetype": "text/x-python",
   "name": "python",
   "nbconvert_exporter": "python",
   "pygments_lexer": "ipython3",
   "version": "3.5.1"
  }
 },
 "nbformat": 4,
 "nbformat_minor": 0
}
