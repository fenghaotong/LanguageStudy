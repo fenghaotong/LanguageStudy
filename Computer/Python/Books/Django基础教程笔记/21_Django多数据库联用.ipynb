{
 "cells": [
  {
   "cell_type": "markdown",
   "metadata": {},
   "source": [
    "# Django 多数据库联用\n",
    "\n",
    "本文讲述在一个 django project 中使用多个数据库的方法, 多个数据库的联用 以及多数据库时数据导入导出的方法。"
   ]
  },
  {
   "cell_type": "markdown",
   "metadata": {},
   "source": [
    "## 1. 每个app都可以单独设置一个数据库"
   ]
  },
  {
   "cell_type": "markdown",
   "metadata": {},
   "source": [
    "- settings.py中有数据库的相关设置，有一个默认的数据库 default,我们可以再加一些其它的，比如：\n",
    "\n",
    "```python\n",
    "# Database\n",
    "# https://docs.djangoproject.com/en/1.8/ref/settings/#databases\n",
    "DATABASES = {\n",
    "    'default': {\n",
    "        'ENGINE': 'django.db.backends.sqlite3',\n",
    "        'NAME': os.path.join(BASE_DIR, 'db.sqlite3'),\n",
    "    },\n",
    "    'db1': {\n",
    "        'ENGINE': 'django.db.backends.postgresql_psycopg2',\n",
    "        'NAME': 'dbname1',\n",
    "        'USER': 'your_db_user_name',\n",
    "        'PASSWORD': 'yourpassword',\n",
    "        \"HOST\": \"localhost\",\n",
    "    },\n",
    "    'db2': {\n",
    "        'ENGINE': 'django.db.backends.postgresql_psycopg2',\n",
    "        'NAME': 'dbname2',\n",
    "        'USER': 'your_db_user_name',\n",
    "        'PASSWORD': 'yourpassword',\n",
    "        \"HOST\": \"localhost\",\n",
    "    },\n",
    "}\n",
    " \n",
    "# use multi-database in django\n",
    "# add by WeizhongTu\n",
    "DATABASE_ROUTERS = ['project_name.database_router.DatabaseAppsRouter']\n",
    "DATABASE_APPS_MAPPING = {\n",
    "    # example:\n",
    "    #'app_name':'database_name',\n",
    "    'app1': 'db1',\n",
    "    'app2': 'db2',\n",
    "}\n",
    "```"
   ]
  },
  {
   "cell_type": "markdown",
   "metadata": {},
   "source": [
    "- 在project_name/project_name文件夹中存放 database_router.py 文件，内容如下：\n",
    "\n",
    "```python\n",
    "# -*- coding: utf-8 -*-\n",
    "from django.conf import settings\n",
    " \n",
    "DATABASE_MAPPING = settings.DATABASE_APPS_MAPPING\n",
    " \n",
    " \n",
    "class DatabaseAppsRouter(object):\n",
    "    \"\"\"\n",
    "    A router to control all database operations on models for different\n",
    "    databases.\n",
    " \n",
    "    In case an app is not set in settings.DATABASE_APPS_MAPPING, the router\n",
    "    will fallback to the `default` database.\n",
    " \n",
    "    Settings example:\n",
    " \n",
    "    DATABASE_APPS_MAPPING = {'app1': 'db1', 'app2': 'db2'}\n",
    "    \"\"\"\n",
    " \n",
    "    def db_for_read(self, model, **hints):\n",
    "        \"\"\"\"Point all read operations to the specific database.\"\"\"\n",
    "        if model._meta.app_label in DATABASE_MAPPING:\n",
    "            return DATABASE_MAPPING[model._meta.app_label]\n",
    "        return None\n",
    " \n",
    "    def db_for_write(self, model, **hints):\n",
    "        \"\"\"Point all write operations to the specific database.\"\"\"\n",
    "        if model._meta.app_label in DATABASE_MAPPING:\n",
    "            return DATABASE_MAPPING[model._meta.app_label]\n",
    "        return None\n",
    " \n",
    "    def allow_relation(self, obj1, obj2, **hints):\n",
    "        \"\"\"Allow any relation between apps that use the same database.\"\"\"\n",
    "        db_obj1 = DATABASE_MAPPING.get(obj1._meta.app_label)\n",
    "        db_obj2 = DATABASE_MAPPING.get(obj2._meta.app_label)\n",
    "        if db_obj1 and db_obj2:\n",
    "            if db_obj1 == db_obj2:\n",
    "                return True\n",
    "            else:\n",
    "                return False\n",
    "        return None\n",
    " \n",
    "    def allow_syncdb(self, db, model):\n",
    "        \"\"\"Make sure that apps only appear in the related database.\"\"\"\n",
    " \n",
    "        if db in DATABASE_MAPPING.values():\n",
    "            return DATABASE_MAPPING.get(model._meta.app_label) == db\n",
    "        elif model._meta.app_label in DATABASE_MAPPING:\n",
    "            return False\n",
    "        return None\n",
    "```"
   ]
  },
  {
   "cell_type": "markdown",
   "metadata": {},
   "source": [
    "这样就实现了指定的 app 使用指定的数据库了,当然你也可以多个sqlite3一起使用，相当于可以给每个app都可以单独设置一个数据库！如果不设置或者没有设置的app就会自动使用默认的数据库。"
   ]
  },
  {
   "cell_type": "markdown",
   "metadata": {},
   "source": [
    "## 2.使用指定的数据库来执行操作\n"
   ]
  },
  {
   "cell_type": "markdown",
   "metadata": {},
   "source": [
    "\n",
    "在查询的语句后面用 using(dbname) 来指定要操作的数据库即可\n",
    "\n",
    "```\n",
    "# 查询\n",
    "YourModel.objects.using('db1').all() \n",
    "或者 YourModel.objects.using('db2').all()\n",
    " \n",
    "# 保存 或 删除\n",
    "user_obj.save(using='new_users')\n",
    "user_obj.delete(using='legacy_users')\n",
    "```"
   ]
  },
  {
   "cell_type": "markdown",
   "metadata": {},
   "source": [
    "## 3.多个数据库联用时数据导入导出\n",
    "\n",
    "使用的时候和一个数据库的区别是:\n",
    "\n",
    "如果不是defalut(默认数据库）要在命令后边加 --database=数据库对应的settings.py中的名称  如： --database=db1  或 --database=db2\n",
    "\n"
   ]
  },
  {
   "cell_type": "markdown",
   "metadata": {},
   "source": [
    "- 数据库同步（创建表）\n",
    "\n",
    "```\n",
    "python manage.py makemigrations\n",
    "python manage.py migrate #同步默认的数据库，和原来的没有区别\n",
    " \n",
    "#同步数据库 db1 (注意：不是数据库名是db1,是settings.py中的那个db1，不过你可以使这两个名称相同，容易使用)\n",
    "python manage.py syncdb --database=db1\n",
    "```"
   ]
  },
  {
   "cell_type": "markdown",
   "metadata": {},
   "source": [
    "\n",
    "- 数据导出\n",
    "\n",
    "```\n",
    "python manage.py dumpdata app1 --database=db1 > app1_fixture.json\n",
    "python manage.py dumpdata app2 --database=db2 > app2_fixture.json\n",
    "python manage.py dumpdata auth > auth_fixture.json\n",
    "```"
   ]
  },
  {
   "cell_type": "markdown",
   "metadata": {},
   "source": [
    "- 数据库导入\n",
    "\n",
    "```\n",
    "python manage.py loaddata app1_fixture.json --database=db1\n",
    "python manage.py loaddata app2_fixture.json --database=db2\n",
    "```"
   ]
  },
  {
   "cell_type": "code",
   "execution_count": null,
   "metadata": {
    "collapsed": true
   },
   "outputs": [],
   "source": []
  }
 ],
 "metadata": {
  "kernelspec": {
   "display_name": "Python [Root]",
   "language": "python",
   "name": "Python [Root]"
  },
  "language_info": {
   "codemirror_mode": {
    "name": "ipython",
    "version": 3
   },
   "file_extension": ".py",
   "mimetype": "text/x-python",
   "name": "python",
   "nbconvert_exporter": "python",
   "pygments_lexer": "ipython3",
   "version": "3.5.1"
  }
 },
 "nbformat": 4,
 "nbformat_minor": 0
}
