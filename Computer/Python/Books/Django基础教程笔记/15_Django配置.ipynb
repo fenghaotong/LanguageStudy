{
 "cells": [
  {
   "cell_type": "markdown",
   "metadata": {},
   "source": [
    "# Django 配置\n",
    "\n"
   ]
  },
  {
   "cell_type": "markdown",
   "metadata": {},
   "source": [
    "- 运行 django-admin.py startproject [project-name] 命令会生成一系列文件，在Django 1.6版本以后的 settings.py 文件中有以下语句：\n",
    "\n",
    "```python\n",
    "# Build paths inside the project like this: os.path.join(BASE_DIR, ...)\n",
    "import os\n",
    "BASE_DIR = os.path.dirname(os.path.dirname(__file__))\n",
    "```\n",
    "\n",
    "这里用到了python中一个神奇的变量 __file__ 这个变量可以获取到当前文件（包含这个代码的文件）的路径。os.path.dirname(__file__) 得到文件所在目录，再来一个os.path.dirname()就是目录的上一级，BASE_DIR 即为 项目 所在目录。我们在后面的与目录有关的变量都用它，这样使得移植性更强。"
   ]
  },
  {
   "cell_type": "markdown",
   "metadata": {},
   "source": [
    "```python\n",
    "# SECURITY WARNING: don't run with debug turned on in production!\n",
    "DEBUG = True\n",
    "TEMPLATE_DEBUG = True\n",
    "```\n",
    "DEBUG＝True 时，如果出现 bug 便于我们看见问题所在，但是部署时最好不要让用户看见bug的详情，可能一些不怀好心的人攻击网站，造成不必要的麻烦。"
   ]
  },
  {
   "cell_type": "markdown",
   "metadata": {},
   "source": [
    "```python\n",
    "ALLOWED_HOSTS = ['*.besttome.com','www.ziqiangxuetang.com']\n",
    "```\n",
    "ALLOWED_HOSTS 允许你设置哪些域名可以访问，即使在Apache中绑定了，这里不允许的话，也是不能访问的。\n",
    "\n",
    "当 DEBUG=False 时，这个为必填项，如果不想输入，可以用 ALLOW_HOSTS = ['*'] 来允许所有的。\n",
    "\n"
   ]
  },
  {
   "cell_type": "markdown",
   "metadata": {},
   "source": [
    "```\n",
    "STATIC_URL = '/static/'\n",
    "STATIC_ROOT = os.path.join(BASE_DIR,'static')\n",
    "```\n",
    "static 是静态文件所有目录，比如 jquery.js, bootstrap.min.css 等文件。\n",
    "\n",
    "一般来说我们只要把静态文件放在 APP 中的 static 目录下，部署时用 python manage.py collectstatic 就可以把静态文件收集到 STATIC_ROOT 目录，但是有时我们有一些共用的静态文件，这时候可以设置 STATICFILES_DIRS 另外弄一个文件夹，如下："
   ]
  },
  {
   "cell_type": "markdown",
   "metadata": {},
   "source": [
    "```python\n",
    "STATICFILES_DIRS = (\n",
    "    os.path.join(BASE_DIR, \"common_static\"),\n",
    "    '/var/www/static/',\n",
    ")\n",
    "```\n",
    "这样我们就可以把静态文件放在 common_static 和 /var/www/static/中了，Django也能找到它们。"
   ]
  },
  {
   "cell_type": "markdown",
   "metadata": {},
   "source": [
    "```python\n",
    "MEDIA_URL = '/media/'\n",
    "MEDIA_ROOT = os.path.join(BASE_DIR,'media')\n",
    "```\n",
    "media文件夹用来存放用户上传的文件，与权限有关，详情见  Django 静态文件 和   Django 部署"
   ]
  }
 ],
 "metadata": {
  "celltoolbar": "Slideshow",
  "kernelspec": {
   "display_name": "Python [Root]",
   "language": "python",
   "name": "Python [Root]"
  },
  "language_info": {
   "codemirror_mode": {
    "name": "ipython",
    "version": 3
   },
   "file_extension": ".py",
   "mimetype": "text/x-python",
   "name": "python",
   "nbconvert_exporter": "python",
   "pygments_lexer": "ipython3",
   "version": "3.5.1"
  }
 },
 "nbformat": 4,
 "nbformat_minor": 0
}
