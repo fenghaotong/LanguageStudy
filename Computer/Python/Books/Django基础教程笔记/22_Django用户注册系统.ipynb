{
 "cells": [
  {
   "cell_type": "markdown",
   "metadata": {},
   "source": [
    "# Django用户注册系统"
   ]
  },
  {
   "cell_type": "markdown",
   "metadata": {},
   "source": [
    "## 一，创建一个 zqxt_auth 项目"
   ]
  },
  {
   "cell_type": "markdown",
   "metadata": {},
   "source": [
    "```\n",
    "django-admin startproject zqxt_auth\n",
    "```\n",
    "\n",
    "打开 zqxt_auth/setting.py 可以看到 django.contrib.auth 已经在 INSTALLED_APPS 中 ：\n",
    "\n",
    "```\n",
    "INSTALLED_APPS = [\n",
    "    'django.contrib.admin',\n",
    "    'django.contrib.auth',\n",
    "    'django.contrib.contenttypes',\n",
    "    'django.contrib.sessions',\n",
    "    'django.contrib.messages',\n",
    "    'django.contrib.staticfiles',\n",
    "]\n",
    "```"
   ]
  },
  {
   "cell_type": "markdown",
   "metadata": {},
   "source": [
    "## 二，修改 urls.py "
   ]
  },
  {
   "cell_type": "markdown",
   "metadata": {},
   "source": [
    "```\n",
    "from django.conf.urls import url, include\n",
    "from django.contrib import admin\n",
    "from django.contrib.auth import urls as auth_urls\n",
    " \n",
    " \n",
    "urlpatterns = [\n",
    "    url(r'^accounts/', include(auth_urls, namespace='accounts')),\n",
    "    url(r'^admin/', admin.site.urls),\n",
    "]\n",
    "```\n",
    "\n",
    "我们引入了 django.contrib.auth.urls 中的内容，改好后，我们试着访问一下：\n",
    "\n",
    "http://127.0.0.1:8000/accounts/login/  \n",
    "\n",
    "就会报错，模板不存在，然后我们要创建模板"
   ]
  },
  {
   "cell_type": "markdown",
   "metadata": {},
   "source": [
    "## 三，准备相关的模板文件【此步阅读即可，不需要照着做】\n",
    "\n",
    "Django默认配置下会自动寻找 app 下的模板，但是 django.contrib.auth 这个是官方提供的，我们修改这个 app 不太容易，我们可以建立一个公用的模板文件夹。\n",
    "\n"
   ]
  },
  {
   "cell_type": "markdown",
   "metadata": {},
   "source": [
    "** 3.1 添加一个公用的放模板的文件夹 **\n",
    "\n",
    "settings.py，修改 TEMPLATES 中的 DIRS\n",
    "\n",
    "```\n",
    "TEMPLATES = [\n",
    "    {\n",
    "        ...\n",
    "        'DIRS': [os.path.join(BASE_DIR, 'templates')],\n",
    "        ...\n",
    "    },\n",
    "]\n",
    "```"
   ]
  },
  {
   "cell_type": "markdown",
   "metadata": {},
   "source": [
    "这个文件夹需要我们手工创建出来，创建后如下：\n",
    "\n",
    "```\n",
    ".\n",
    "├── db.sqlite3\n",
    "├── manage.py\n",
    "├── templates \n",
    "└── zqxt_auth\n",
    "    ├── __init__.py\n",
    "    ├── settings.py\n",
    "    ├── urls.py\n",
    "    └── wsgi.py\n",
    "```"
   ]
  },
  {
   "cell_type": "markdown",
   "metadata": {},
   "source": [
    "** 3.2 模板文件 **\n",
    "\n",
    "熟悉Django的同学知道，Django 的后台是有登陆，重设密码的功能，那么在 django.contrib.admin 中应该是有相应的模板文件的，[查看链接](https://github.com/django/django/tree/1.9/django/contrib/admin/templates/registration)\n",
    "\n",
    "我们把这些文件拷贝出来。\n",
    "\n",
    "需要注意的是，有人已经按照类似的方法，做成了一个包了，地址在这里：https://github.com/mishbahr/django-users2\n",
    "\n",
    "这个包比较完善了，我们没必要重新发明轮子，上面的示例只是让你明白，这个包其实是由官方的django.contrib.auth 改进后做出来的。"
   ]
  },
  {
   "cell_type": "markdown",
   "metadata": {},
   "source": [
    "## 四，用 django-users2 这个包来实现登陆注册及找回密码等功能。"
   ]
  },
  {
   "cell_type": "markdown",
   "metadata": {},
   "source": [
    "** 4.1 安装 **\n",
    "\n",
    "```\n",
    "pip install django-users2\n",
    "```\n"
   ]
  },
  {
   "cell_type": "markdown",
   "metadata": {},
   "source": [
    "** 4.2 把 users 这个 app 加入到 INSTALLED_APPS **\n",
    "\n",
    "```\n",
    "INSTALLED_APPS = (\n",
    "    ...\n",
    "    'django.contrib.auth',\n",
    "    'django.contrib.sites',\n",
    "    'users',\n",
    "    ...\n",
    ")\n",
    " \n",
    "AUTH_USER_MODEL = 'users.User'\\\n",
    "```\n",
    "\n",
    "\n",
    "AUTH_USER_MODEL 是替换成自定义的用户认证。[参考这里](https://docs.djangoproject.com/en/1.9/topics/auth/customizing/#auth-custom-user)\n",
    "\n"
   ]
  },
  {
   "cell_type": "markdown",
   "metadata": {},
   "source": [
    "** 4.3 修改 urls.py **\n",
    "\n",
    "```\n",
    "urlpatterns = patterns('',\n",
    "    ...\n",
    "    url(r'^accounts/', include('users.urls')),\n",
    "    ...\n",
    ")\n",
    "```\n",
    "\n"
   ]
  },
  {
   "cell_type": "markdown",
   "metadata": {},
   "source": [
    "** 4.4 同步数据，创建相应的表 **\n",
    "\n",
    "```\n",
    "python manage.py makemigrations\n",
    "python manage.py migrate\n",
    "```\n",
    "\n"
   ]
  },
  {
   "cell_type": "markdown",
   "metadata": {},
   "source": [
    "** 4.5 配置登陆注册的一些选项，找密码时发邮件的邮箱 **\n",
    "\n",
    "下面的代码加在 settings.py 最后面\n",
    "\n",
    "```\n",
    "USERS_REGISTRATION_OPEN = True\n",
    " \n",
    "USERS_VERIFY_EMAIL = True\n",
    " \n",
    "USERS_AUTO_LOGIN_ON_ACTIVATION = True\n",
    " \n",
    "USERS_EMAIL_CONFIRMATION_TIMEOUT_DAYS = 3\n",
    " \n",
    "# Specifies minimum length for passwords:\n",
    "USERS_PASSWORD_MIN_LENGTH = 5\n",
    " \n",
    "# Specifies maximum length for passwords:\n",
    "USERS_PASSWORD_MAX_LENGTH = None\n",
    " \n",
    "# the complexity validator, checks the password strength\n",
    "USERS_CHECK_PASSWORD_COMPLEXITY = True\n",
    " \n",
    "USERS_SPAM_PROTECTION = False  # important!\n",
    " \n",
    " \n",
    "#  ---------------------------------------------------------\n",
    "#  Email\n",
    "EMAIL_BACKEND = 'django.core.mail.backends.smtp.EmailBackend'\n",
    " \n",
    "EMAIL_USE_TLS = False\n",
    "EMAIL_HOST = 'smtp.tuweizhong.com'\n",
    "EMAIL_PORT = 25\n",
    "EMAIL_HOST_USER = 'mail@tuweizhong.com'\n",
    "EMAIL_HOST_PASSWORD = 'xxxx'\n",
    "DEFAULT_FROM_EMAIL = 'mail@tuweizhong.com'\n",
    "#  ---------------------------------------------------------\n",
    "```"
   ]
  },
  {
   "cell_type": "code",
   "execution_count": null,
   "metadata": {
    "collapsed": true
   },
   "outputs": [],
   "source": []
  }
 ],
 "metadata": {
  "anaconda-cloud": {},
  "kernelspec": {
   "display_name": "Python [Root]",
   "language": "python",
   "name": "Python [Root]"
  },
  "language_info": {
   "codemirror_mode": {
    "name": "ipython",
    "version": 3
   },
   "file_extension": ".py",
   "mimetype": "text/x-python",
   "name": "python",
   "nbconvert_exporter": "python",
   "pygments_lexer": "ipython3",
   "version": "3.5.1"
  }
 },
 "nbformat": 4,
 "nbformat_minor": 0
}
