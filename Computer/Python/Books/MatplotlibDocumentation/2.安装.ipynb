{
 "cells": [
  {
   "cell_type": "markdown",
   "metadata": {},
   "source": [
    "# 安装"
   ]
  },
  {
   "cell_type": "markdown",
   "metadata": {},
   "source": [
    "## Ubuntu下安装"
   ]
  },
  {
   "cell_type": "markdown",
   "metadata": {},
   "source": [
    "- 可以先安装[Anaconda](https://www.anaconda.com/download/)，从官网下载ubuntu版本\n",
    "- Anaconda里面一般集成的有numpy、scipy、pandas、matplotlib等库，专门为科学计算\n",
    "- 如果没有在自行安装，安装步骤如下\n",
    "    - sudo apt-get install python-matplotlib（默认版本好像是python2的，如果要安装python3的版本换成python3-matplotlib）\n",
    "- 安装完成后测试\n",
    "```python\n",
    "user@localhost ~:$python\n",
    ">>>\n",
    ">>>import matplotlib\n",
    ">>>\n",
    "```\n",
    "- 安装完成"
   ]
  },
  {
   "cell_type": "markdown",
   "metadata": {},
   "source": [
    "## windows下安装"
   ]
  },
  {
   "cell_type": "markdown",
   "metadata": {},
   "source": [
    "- 可以直接安装[Anaconda](https://www.anaconda.com/download/)，从官网下载windows版本\n",
    "- 在命令行下测试\n",
    "\n",
    "```pyhon\n",
    "C:\\Users\\user>python\n",
    ">>>\n",
    ">>>import matplotlib\n",
    ">>>\n",
    "```\n",
    "\n",
    "- 安装完成"
   ]
  }
 ],
 "metadata": {
  "kernelspec": {
   "display_name": "Python 3",
   "language": "python",
   "name": "python3"
  },
  "language_info": {
   "codemirror_mode": {
    "name": "ipython",
    "version": 3
   },
   "file_extension": ".py",
   "mimetype": "text/x-python",
   "name": "python",
   "nbconvert_exporter": "python",
   "pygments_lexer": "ipython3",
   "version": "3.6.1"
  }
 },
 "nbformat": 4,
 "nbformat_minor": 2
}
