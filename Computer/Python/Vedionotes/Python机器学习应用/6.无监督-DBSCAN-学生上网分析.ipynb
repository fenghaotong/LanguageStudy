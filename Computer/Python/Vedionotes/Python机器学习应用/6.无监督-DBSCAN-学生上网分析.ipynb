{
 "cells": [
  {
   "cell_type": "markdown",
   "metadata": {
    "collapsed": true
   },
   "source": [
    "# 无监督-DBSCAN-学生上网分析"
   ]
  },
  {
   "cell_type": "markdown",
   "metadata": {},
   "source": [
    "## DBSCAN密度聚类"
   ]
  },
  {
   "cell_type": "markdown",
   "metadata": {},
   "source": [
    "** DBSCAN算法是一种基于密度的聚类算法： **\n",
    "\n",
    "- 聚类的时候不需要预先指定簇的个数\n",
    "- 最终的簇的个数不定"
   ]
  },
  {
   "cell_type": "markdown",
   "metadata": {},
   "source": [
    "** DBSCAN算法将数据点分为三类： **\n",
    "- 核心点：在半径Eps内含有超过MinPts数目的点\n",
    "- 边界点：在半径Eps内点的数量小于MinPts，但是落在核心点的邻域内\n",
    "- 噪音点：既不是核心点也不是边界点的点"
   ]
  },
  {
   "cell_type": "markdown",
   "metadata": {},
   "source": [
    "** DBSCAN算法流程：**\n",
    "\n",
    "1. 将所有点标记为核心点、边界点或噪声点；\n",
    "2. 删除噪声点；\n",
    "3. 为距离在Eps之内的所有核心点之间赋予一条边；\n",
    "4. 每组连通的核心点形成一个簇；\n",
    "5. 将每个边界点指派到一个与之关联的核心点的簇中（哪一个核心点的半径范围之内）。"
   ]
  },
  {
   "cell_type": "markdown",
   "metadata": {},
   "source": [
    "## DBSCAN的应用实例\n",
    "\n"
   ]
  },
  {
   "cell_type": "markdown",
   "metadata": {},
   "source": [
    "** 数据介绍： **\n",
    "- 现有大学校园网的日志数据，290条大学生的校园网使用情况数据，数据包括用户ID，设备的MAC地址，IP地址，开始上网时间，停止上网时间，上网时长，校园网套餐等。利用已有数据，分析学生上网的模式。\n"
   ]
  },
  {
   "cell_type": "markdown",
   "metadata": {},
   "source": [
    "** 实验目的：**\n",
    "\n",
    "- 通过DBSCAN聚类，分析学生上网时间和上网时长的模式。"
   ]
  },
  {
   "cell_type": "markdown",
   "metadata": {},
   "source": [
    "> 技术路线：sklearn.cluster.DBSCAN"
   ]
  },
  {
   "cell_type": "markdown",
   "metadata": {},
   "source": [
    "** 1. 建立工程，导入sklearn相关包 **\n",
    "```python\n",
    "import numpy as np\n",
    "from sklearn.cluster import DBSCAN\n",
    "````\n",
    "\n",
    "\n"
   ]
  },
  {
   "cell_type": "markdown",
   "metadata": {},
   "source": [
    "** DBSCAN主要参数：**\n",
    "\n",
    "- eps: 两个样本被看作邻居节点的最大距离\n",
    "- min_samples: 簇的样本数\n",
    "- metric：距离计算方式\n",
    "> - 例：sklearn.cluster.DBSCAN(eps=0.5, min_samples=5, metric='euclidean')"
   ]
  },
  {
   "cell_type": "markdown",
   "metadata": {},
   "source": [
    "** 2. 读入数据并进行处理 **"
   ]
  },
  {
   "cell_type": "markdown",
   "metadata": {},
   "source": [
    "** 3-1. 上网时间聚类，创建DBSCAN算法实例，并进行训练，获得标签：**"
   ]
  },
  {
   "cell_type": "markdown",
   "metadata": {},
   "source": [
    "** 4. 输出标签，查看结果**"
   ]
  },
  {
   "cell_type": "markdown",
   "metadata": {},
   "source": [
    "** 5.画直方图，分析实验结果 **"
   ]
  },
  {
   "cell_type": "markdown",
   "metadata": {},
   "source": [
    "** 6. 数据分布 vs 聚类 **"
   ]
  },
  {
   "cell_type": "markdown",
   "metadata": {},
   "source": [
    "** 3-2. 上网时长聚类，创建DBSCAN算法实例，并进行训练，获得标签：**"
   ]
  },
  {
   "cell_type": "markdown",
   "metadata": {},
   "source": [
    "** 4-2. 输出标签，查看结果 **"
   ]
  },
  {
   "cell_type": "code",
   "execution_count": null,
   "metadata": {
    "collapsed": true
   },
   "outputs": [],
   "source": []
  }
 ],
 "metadata": {
  "anaconda-cloud": {},
  "kernelspec": {
   "display_name": "Python [Root]",
   "language": "python",
   "name": "Python [Root]"
  },
  "language_info": {
   "codemirror_mode": {
    "name": "ipython",
    "version": 3
   },
   "file_extension": ".py",
   "mimetype": "text/x-python",
   "name": "python",
   "nbconvert_exporter": "python",
   "pygments_lexer": "ipython3",
   "version": "3.5.1"
  }
 },
 "nbformat": 4,
 "nbformat_minor": 0
}
