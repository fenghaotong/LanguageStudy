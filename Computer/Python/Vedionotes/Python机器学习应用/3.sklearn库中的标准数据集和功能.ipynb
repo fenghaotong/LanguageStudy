{
 "cells": [
  {
   "cell_type": "markdown",
   "metadata": {},
   "source": [
    "# sklearn库中的标准数据集和功能"
   ]
  },
  {
   "cell_type": "markdown",
   "metadata": {},
   "source": [
    "## sklearn库中的标准数据集"
   ]
  },
  {
   "cell_type": "markdown",
   "metadata": {},
   "source": [
    "||数据集名称 |调用方式 |适用算法 |数据规模|\n",
    "|:----:|:----:|:----|:----|:----:|\n",
    "|小数据集|波士顿房价数据集 |load_boston() |回归 |`506*13`|\n",
    "| |鸢尾花数据集 |load_iris()| 分类 |`150*4`|\n",
    "| |糖尿病数据集 |load_diabetes() |回归 |`442*10`|\n",
    "| |手写数字数据集 |load_digits() |分类 |`5620*64`|\n",
    "|大数据集|Olivetti 脸部图像数据集 |fetch_olivetti_faces() |降维 |`400*64*64`|\n",
    "| |新闻分类数据集 |fetch_20newsgroups() |分类 |-|\n",
    "| |带标签的人脸数据集 |fetch_lfw_people() |分类；降维| -|\n",
    "| |路透社新闻语料数据集 |fetch_rcv1() |分类 |`804414*47236`|\n",
    "\n",
    "> 小数据集可以直接使用，大数据集要在调用时程序自动下载（一次即可）。\n"
   ]
  },
  {
   "cell_type": "markdown",
   "metadata": {},
   "source": [
    "### 波士顿房价数据集\n",
    "\n",
    "- 波士顿房价数据集包含506组数据，每条数据包含房屋以及房屋周围的详细信息。其中包括城镇犯罪率、一氧化氮浓度、住宅平均房间数、到中心区域的加权距离以及自住房平均房价等。因此，波士顿房价数据集能够应用到回归问题上。"
   ]
  },
  {
   "cell_type": "markdown",
   "metadata": {},
   "source": [
    "![](boston.png)"
   ]
  },
  {
   "cell_type": "markdown",
   "metadata": {},
   "source": [
    "** 波士顿房价数据集-属性描述 **\n",
    "\n",
    "- CRIM：城镇人均犯罪率。\n",
    "- ZN：住宅用地超过 25000 sq.ft. 的比例。\n",
    "- INDUS：城镇非零售商用土地的比例。\n",
    "- CHAS：查理斯河空变量（如果边界是河流，则为1；否则为0）\n",
    "- NOX：一氧化氮浓度。\n",
    "- RM：住宅平均房间数。\n",
    "- AGE：1940 年之前建成的自用房屋比例。\n",
    "- DIS：到波士顿五个中心区域的加权距离。\n",
    "- RAD：辐射性公路的接近指数。\n",
    "- TAX：每 10000 美元的全值财产税率。\n",
    "- PTRATIO：城镇师生比例。\n",
    "- B：1000（Bk-0.63）^ 2，其中 Bk 指代城镇中黑人的比例。\n",
    "- LSTAT：人口中地位低下者的比例。\n",
    "- MEDV：自住房的平均房价，以千美元计。"
   ]
  },
  {
   "cell_type": "markdown",
   "metadata": {},
   "source": [
    "** 使用sklearn.datasets.load_boston即可加载相关数据集 **\n",
    "\n",
    "其重要参数为：\n",
    "- return_X_y:表示是否返回target（即价格），默认为False，\n",
    "只返回data（即属性）。"
   ]
  },
  {
   "cell_type": "code",
   "execution_count": 2,
   "metadata": {
    "collapsed": false
   },
   "outputs": [],
   "source": [
    "from sklearn.datasets import load_boston"
   ]
  },
  {
   "cell_type": "code",
   "execution_count": 3,
   "metadata": {
    "collapsed": true
   },
   "outputs": [],
   "source": [
    "boston = load_boston()"
   ]
  },
  {
   "cell_type": "code",
   "execution_count": 4,
   "metadata": {
    "collapsed": false
   },
   "outputs": [
    {
     "name": "stdout",
     "output_type": "stream",
     "text": [
      "(506, 13)\n"
     ]
    }
   ],
   "source": [
    "print(boston.data.shape)"
   ]
  },
  {
   "cell_type": "markdown",
   "metadata": {},
   "source": [
    "### 鸢尾花数据集\n",
    "\n",
    "- 鸢尾花数据集采集的是鸢尾花的测量数据以及其所属的类别。\n",
    "- 测量数据包括：萼片长度、萼片宽度、花瓣长度、花瓣宽度。\n",
    "- 类别共分为三类：Iris Setosa，Iris Versicolour，Iris Virginica。该数据集可用于多分类问题"
   ]
  },
  {
   "cell_type": "markdown",
   "metadata": {},
   "source": [
    "![](iris.png)"
   ]
  },
  {
   "cell_type": "markdown",
   "metadata": {},
   "source": [
    "- 使用sklearn.datasets. load_iris即可加载相关数据集"
   ]
  },
  {
   "cell_type": "code",
   "execution_count": 13,
   "metadata": {
    "collapsed": true
   },
   "outputs": [],
   "source": [
    "from sklearn.datasets import load_iris"
   ]
  },
  {
   "cell_type": "code",
   "execution_count": 14,
   "metadata": {
    "collapsed": true
   },
   "outputs": [],
   "source": [
    "iris = load_iris()"
   ]
  },
  {
   "cell_type": "code",
   "execution_count": 15,
   "metadata": {
    "collapsed": false
   },
   "outputs": [
    {
     "name": "stdout",
     "output_type": "stream",
     "text": [
      "(150, 4)\n"
     ]
    }
   ],
   "source": [
    "print(iris.data.shape)"
   ]
  },
  {
   "cell_type": "code",
   "execution_count": 16,
   "metadata": {
    "collapsed": false
   },
   "outputs": [
    {
     "name": "stdout",
     "output_type": "stream",
     "text": [
      "(150,)\n"
     ]
    }
   ],
   "source": [
    "print(iris.target.shape)"
   ]
  },
  {
   "cell_type": "code",
   "execution_count": 17,
   "metadata": {
    "collapsed": false
   },
   "outputs": [
    {
     "data": {
      "text/plain": [
       "['setosa', 'versicolor', 'virginica']"
      ]
     },
     "execution_count": 17,
     "metadata": {},
     "output_type": "execute_result"
    }
   ],
   "source": [
    " list(iris.target_names)"
   ]
  },
  {
   "cell_type": "markdown",
   "metadata": {},
   "source": [
    "### 手写数字数据集\n",
    "\n",
    "- 手写数字数据集包括1797个0-9的手写数字数据，每个数字由`8*8`大小的矩阵构成，矩阵中值的范围是0-16，代表颜色的深度。"
   ]
  },
  {
   "cell_type": "markdown",
   "metadata": {},
   "source": [
    "![](digits.png)"
   ]
  },
  {
   "cell_type": "markdown",
   "metadata": {},
   "source": [
    "** 使用sklearn.datasets.load_digits即可加载相关数据集 **\n",
    "\n",
    "其参数包括：\n",
    "- return_X_y:若为True，则以（data, target）形式返回数据；默认为False，表示以字典形式返回数据全部信息（包括data和target） ；\n",
    "- n_class：表示返回数据的类别数，如：n_class=5,则返回0到4的数据样本。"
   ]
  },
  {
   "cell_type": "code",
   "execution_count": 18,
   "metadata": {
    "collapsed": true
   },
   "outputs": [],
   "source": [
    "from sklearn.datasets import load_digits"
   ]
  },
  {
   "cell_type": "code",
   "execution_count": 19,
   "metadata": {
    "collapsed": true
   },
   "outputs": [],
   "source": [
    "digits = load_digits()"
   ]
  },
  {
   "cell_type": "code",
   "execution_count": 20,
   "metadata": {
    "collapsed": false
   },
   "outputs": [
    {
     "name": "stdout",
     "output_type": "stream",
     "text": [
      "(1797, 64)\n"
     ]
    }
   ],
   "source": [
    "print(digits.data.shape)"
   ]
  },
  {
   "cell_type": "code",
   "execution_count": 21,
   "metadata": {
    "collapsed": false
   },
   "outputs": [
    {
     "name": "stdout",
     "output_type": "stream",
     "text": [
      "(1797,)\n"
     ]
    }
   ],
   "source": [
    "print(digits.target.shape)"
   ]
  },
  {
   "cell_type": "code",
   "execution_count": 22,
   "metadata": {
    "collapsed": false
   },
   "outputs": [
    {
     "name": "stdout",
     "output_type": "stream",
     "text": [
      "(1797, 8, 8)\n"
     ]
    }
   ],
   "source": [
    "print(digits.images.shape)"
   ]
  },
  {
   "cell_type": "code",
   "execution_count": 23,
   "metadata": {
    "collapsed": true
   },
   "outputs": [],
   "source": [
    "import matplotlib.pyplot as plt"
   ]
  },
  {
   "cell_type": "code",
   "execution_count": 25,
   "metadata": {
    "collapsed": false
   },
   "outputs": [
    {
     "data": {
      "text/plain": [
       "<matplotlib.image.AxesImage at 0x8398b00>"
      ]
     },
     "execution_count": 25,
     "metadata": {},
     "output_type": "execute_result"
    }
   ],
   "source": [
    "plt.matshow(digits.images[0])"
   ]
  },
  {
   "cell_type": "code",
   "execution_count": 26,
   "metadata": {
    "collapsed": true
   },
   "outputs": [],
   "source": [
    "plt.show()"
   ]
  },
  {
   "cell_type": "markdown",
   "metadata": {},
   "source": [
    "## sklearn库的基本功能\n",
    "\n",
    "- sklearn库的共分为6大部分，分别用于完成分类任务、回归任务、聚类任务、降维任务、模型选择以及数据的预处理。"
   ]
  },
  {
   "cell_type": "markdown",
   "metadata": {},
   "source": [
    "### 分类任务"
   ]
  },
  {
   "cell_type": "markdown",
   "metadata": {},
   "source": [
    "|分类模型| 加载模块|\n",
    "|:---:|:----|\n",
    "|最近邻算法| neighbors.NearestNeighbors|\n",
    "|支持向量机| svm.SVC|\n",
    "|朴素贝叶斯| naive_bayes.GaussianNB|\n",
    "|决策树 |tree.DecisionTreeClassifier|\n",
    "|集成方法| ensemble.BaggingClassifier|\n",
    "|神经网络| neural_network.MLPClassifier|"
   ]
  },
  {
   "cell_type": "markdown",
   "metadata": {},
   "source": [
    "### 回归任务"
   ]
  },
  {
   "cell_type": "markdown",
   "metadata": {},
   "source": [
    "|回归模型 |加载模块|\n",
    "|:---:|:---|\n",
    "|岭回归| linear_model.Ridge|\n",
    "|Lasso回归| linear_model.Lasso|\n",
    "|弹性网络 |linear_model.ElasticNet|\n",
    "|最小角回归 |linear_model.Lars|\n",
    "|贝叶斯回归 |linear_model.BayesianRidge|\n",
    "|逻辑回归 |linear_model.LogisticRegression|\n",
    "|多项式回归 |preprocessing. PolynomialFeatures|"
   ]
  },
  {
   "cell_type": "markdown",
   "metadata": {},
   "source": [
    "### 聚类任务"
   ]
  },
  {
   "cell_type": "markdown",
   "metadata": {},
   "source": [
    "|聚类方法 |加载模块|\n",
    "|:---:|:---|\n",
    "|K-means |cluster.KMeans|\n",
    "|AP聚类 |cluster.AffinityPropagation|\n",
    "|均值漂移| cluster.MeanShift|\n",
    "|层次聚类 |cluster.AgglomerativeClustering|\n",
    "|DBSCAN |cluster.DBSCAN|\n",
    "|BIRCH| cluster.Birch|\n",
    "|谱聚类 |cluster.SpectralClustering|"
   ]
  },
  {
   "cell_type": "markdown",
   "metadata": {},
   "source": [
    "### 降维任务"
   ]
  },
  {
   "cell_type": "markdown",
   "metadata": {},
   "source": [
    "|降维方法| 加载模块|\n",
    "|:---:|:----|\n",
    "|主成分分析 |decomposition.PCA|\n",
    "|截断SVD和LSA |decomposition.TruncatedSVD|\n",
    "|字典学习 |decomposition.SparseCoder|\n",
    "|因子分析 |decomposition.FactorAnalysis||\n",
    "|独立成分分析 |decomposition.FastICA|\n",
    "|非负矩阵分解 |decomposition.NMF|\n",
    "|LDA |decomposition.LatentDirichletAllocation|"
   ]
  },
  {
   "cell_type": "code",
   "execution_count": null,
   "metadata": {
    "collapsed": true
   },
   "outputs": [],
   "source": []
  }
 ],
 "metadata": {
  "kernelspec": {
   "display_name": "Python [Root]",
   "language": "python",
   "name": "Python [Root]"
  },
  "language_info": {
   "codemirror_mode": {
    "name": "ipython",
    "version": 3
   },
   "file_extension": ".py",
   "mimetype": "text/x-python",
   "name": "python",
   "nbconvert_exporter": "python",
   "pygments_lexer": "ipython3",
   "version": "3.5.1"
  }
 },
 "nbformat": 4,
 "nbformat_minor": 0
}
