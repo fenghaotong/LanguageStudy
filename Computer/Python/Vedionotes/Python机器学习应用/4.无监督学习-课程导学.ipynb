{
 "cells": [
  {
   "cell_type": "markdown",
   "metadata": {},
   "source": [
    "# 无监督学习-课程导学"
   ]
  },
  {
   "cell_type": "markdown",
   "metadata": {},
   "source": [
    "- 利用无标签的数据学习数据的分布或数据与数据之间的关系被称作无监督学习。\n",
    "- 有监督学习和无监督学习的最大区别在于数据是否有标签\n",
    "- 无监督学习最常应用的场景是聚类(clustering)和降维(Dimension Reduction)"
   ]
  },
  {
   "cell_type": "markdown",
   "metadata": {},
   "source": [
    "## 聚类\n",
    "\n",
    "- 聚类(clustering)，就是根据数据的“相\n",
    "- 似性”将数据分为多类的过程。评估两个不同样本之间的“相似性” ，通常使用的方法就是计算两个样本之间的“距离”。使用不同的方法计算样本间的距离会关系到聚类结果的好坏。"
   ]
  },
  {
   "cell_type": "markdown",
   "metadata": {},
   "source": [
    "### 欧氏距离\n",
    "\n",
    "- 欧氏距离是最常用的一种距离度量方法，源于欧式空间中两点的距离。其计算方法如下： "
   ]
  },
  {
   "cell_type": "markdown",
   "metadata": {},
   "source": [
    "### 曼哈顿距离\n",
    "\n",
    "- 曼哈顿距离也称作“城市街区距离”，类似于在城市之中驾车行驶，从一个十字路口到另外一个十字楼口的距离。其计算方法如下：\n"
   ]
  },
  {
   "cell_type": "markdown",
   "metadata": {},
   "source": [
    "### 马氏距离\n",
    "\n",
    "- 马氏距离表示数据的协方差距离，是一种尺度无关的度量方式。也就是说马氏距离会先将样本点的各个属性标准化，再计算样本间的距离。其计算方式如下：（s是协方差矩阵，如图）"
   ]
  },
  {
   "cell_type": "markdown",
   "metadata": {},
   "source": [
    "### 夹角余弦\n",
    "- 余弦相似度用向量空间中两个向量夹角的余弦值作为衡量两个样本差异的大小。余弦值越接近1，说明两个向量夹角越接近0度，表明两个向量越相似。其计算方法如下：\n"
   ]
  },
  {
   "cell_type": "markdown",
   "metadata": {},
   "source": [
    "## Sklearn vs. 聚类\n",
    "- scikit-learn库（以后简称sklearn库）提供的常用聚类算法函数包含在sklearn.cluster这个模块中，如：K-Means，近邻传播算法，DBSCAN，等。\n",
    "- 以同样的数据集应用于不同的算法，可能会得到不同的结果，算法所耗费的时间也不尽相同，这是由算法的特性决定的"
   ]
  },
  {
   "cell_type": "markdown",
   "metadata": {},
   "source": [
    "### sklearn.cluster\n",
    "- sklearn.cluster模块提供的各聚类算法函数可以使用不同的数据形式作为输入:\n",
    "    - 标准数据输入格式:[样本个数，特征个数]定义的矩阵形式。\n",
    "    - 相似性矩阵输入格式：即由[样本数目，样本数目]定义的矩阵形式，矩阵中的每一个元素为两个样本的相似度，如DBSCAN， AffinityPropagation(近邻传播算法)接受这种输入。如果以余弦相似度为例，则对角线元素全为1. 矩阵中每个元素的取值范围为[0,1]。"
   ]
  },
  {
   "cell_type": "markdown",
   "metadata": {},
   "source": [
    "|算法名称| 参数 |可扩展性 |相似性度量|\n",
    "|:---:|:---|:---|:---|\n",
    "|K-means |聚类个数 |大规模数据 |点间距离|\n",
    "|DBSCAN |邻域大小 |大规模数据 |点间距离|\n",
    "|Gaussian  Mixtures |聚类个数及其他超参 |复杂度高，不适合处理大规模数据 |马氏距离|\n",
    "|Birch |分支因子，阈值等其他超参|大规模数据 |两点间的欧式距离|"
   ]
  },
  {
   "cell_type": "markdown",
   "metadata": {},
   "source": [
    "## 降维\n",
    "\n",
    "- 降维，就是在保证数据所具有的代表性特性或者分布的情况下，将高维数据转化为低维数据的过程：\n",
    "    - 数据的可视化\n",
    "    - 精简数据"
   ]
  },
  {
   "cell_type": "markdown",
   "metadata": {},
   "source": [
    "### sklearn vs.降维\n",
    "\n",
    "- 降维是机器学习领域的一个重要研究内容，有很多被工业界和学术界接受的典型算法，截止到目前sklearn库提供7种降维算法。\n",
    "- 降维过程也可以被理解为对数据集的组成成份进行分解（decomposition）的过程，因此sklearn为降维模块命名为decomposition, 在对降维算法调用需要使用sklearn.decomposition模块"
   ]
  },
  {
   "cell_type": "markdown",
   "metadata": {},
   "source": [
    "|算法名称 |参数 |可扩展性 |适用任务|\n",
    "|:--:|:--|:--|:---|\n",
    "|PCA |所降维度及其他超参 |大规模数据 |信号处理等|\n",
    "|FastICA |所降维度及其他超参 |超大规模数据 |图形图像特征提取|\n",
    "|NMF| 所降维度及其他超参|大规模数据 |图形图像特征提取|\n",
    "|LDA |所降维度及其他超参|大规模数据 |文本数据，主题挖掘|"
   ]
  },
  {
   "cell_type": "code",
   "execution_count": null,
   "metadata": {
    "collapsed": true
   },
   "outputs": [],
   "source": []
  }
 ],
 "metadata": {
  "kernelspec": {
   "display_name": "Python [Root]",
   "language": "python",
   "name": "Python [Root]"
  },
  "language_info": {
   "codemirror_mode": {
    "name": "ipython",
    "version": 3
   },
   "file_extension": ".py",
   "mimetype": "text/x-python",
   "name": "python",
   "nbconvert_exporter": "python",
   "pygments_lexer": "ipython3",
   "version": "3.5.1"
  }
 },
 "nbformat": 4,
 "nbformat_minor": 0
}
