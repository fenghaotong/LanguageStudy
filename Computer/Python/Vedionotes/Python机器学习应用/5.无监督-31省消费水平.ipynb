{
 "cells": [
  {
   "cell_type": "markdown",
   "metadata": {},
   "source": [
    "# 无监督-31省消费水平"
   ]
  },
  {
   "cell_type": "markdown",
   "metadata": {},
   "source": [
    "## K_means聚类算法\n",
    "\n",
    "- k-means算法以k为参数，把n个对象分成k个簇，使簇内具有较高的相似度，而簇间的相似度较低。\n",
    "- 其处理过程如下：\n",
    "    - 1.随机选择k个点作为初始的聚类中心；\n",
    "    - 2.对于剩下的点，根据其与聚类中心的距离，将其归入最近的簇\n",
    "    - 3.对每个簇，计算所有点的均值作为新的聚类中心\n",
    "    - 4.重复2、3直到聚类中心不再发生改变"
   ]
  },
  {
   "cell_type": "markdown",
   "metadata": {},
   "source": [
    "### K-means的应用\n"
   ]
  },
  {
   "cell_type": "markdown",
   "metadata": {},
   "source": [
    "\n",
    "- 数据介绍：\n",
    "    - 现有1999年全国31个省份城镇居民家庭平均每人全年消费性支出的八个主要变量数据，这八个变量分别是：食品、衣着、家庭设备用品及服务、医疗保健、交通和通讯、娱乐教育文化服务、居住以及杂项商品和服务。利用已有数据，对31个省份进行聚类。\n",
    "\n",
    "- 实验目的：\n",
    "    - 通过聚类，了解1999年各个省份的消费水平在国内的情况。\n",
    "    - 技术路线：sklearn.cluster.Kmeans"
   ]
  },
  {
   "cell_type": "code",
   "execution_count": 1,
   "metadata": {
    "collapsed": true
   },
   "outputs": [],
   "source": [
    "import numpy as np\n",
    "from sklearn.cluster import KMeans"
   ]
  },
  {
   "cell_type": "code",
   "execution_count": 10,
   "metadata": {
    "collapsed": false
   },
   "outputs": [],
   "source": [
    "def loadData(filePath):\n",
    "    fr = open(filePath,'r+')\n",
    "    lines = fr.readlines()\n",
    "    retData = []\n",
    "    retCityName = []\n",
    "    for line in lines:\n",
    "        items = line.strip().split(\",\")\n",
    "        retCityName.append(items[0])\n",
    "        retData.append([float(items[i]) for i in range(1,len(items))])     \n",
    "    for i in range(1,len(items)):\n",
    "        return retData,retCityName"
   ]
  },
  {
   "cell_type": "code",
   "execution_count": 21,
   "metadata": {
    "collapsed": false
   },
   "outputs": [
    {
     "name": "stdout",
     "output_type": "stream",
     "text": [
      "Expenses:3788.76\n",
      "['河北', '山西', '内蒙古', '辽宁', '吉林', '黑龙江', '江西', '山东', '河南', '贵州', '陕西', '甘肃', '青海', '宁夏', '新疆']\n",
      "Expenses:7754.66\n",
      "['北京', '上海', '广东']\n",
      "Expenses:5678.62\n",
      "['天津', '浙江', '福建', '重庆', '西藏']\n",
      "Expenses:4512.27\n",
      "['江苏', '安徽', '湖南', '湖北', '广西', '海南', '四川', '云南']\n"
     ]
    }
   ],
   "source": [
    "if __name__ == '__main__':\n",
    "    data,cityName = loadData('city.txt')\n",
    "    km = KMeans(n_clusters=4)\n",
    "    label = km.fit_predict(data)\n",
    "    expenses = np.sum(km.cluster_centers_,axis=1)\n",
    "    #print(expenses)\n",
    "    CityCluster = [[],[],[],[]]\n",
    "    for i in range(len(cityName)):\n",
    "        CityCluster[label[i]].append(cityName[i])\n",
    "    for i in range(len(CityCluster)):\n",
    "        print(\"Expenses:%.2f\" % expenses[i])\n",
    "        print(CityCluster[i])"
   ]
  },
  {
   "cell_type": "code",
   "execution_count": null,
   "metadata": {
    "collapsed": false
   },
   "outputs": [],
   "source": []
  },
  {
   "cell_type": "code",
   "execution_count": null,
   "metadata": {
    "collapsed": false
   },
   "outputs": [],
   "source": []
  },
  {
   "cell_type": "code",
   "execution_count": null,
   "metadata": {
    "collapsed": true
   },
   "outputs": [],
   "source": []
  }
 ],
 "metadata": {
  "kernelspec": {
   "display_name": "Python [Root]",
   "language": "python",
   "name": "Python [Root]"
  },
  "language_info": {
   "codemirror_mode": {
    "name": "ipython",
    "version": 3
   },
   "file_extension": ".py",
   "mimetype": "text/x-python",
   "name": "python",
   "nbconvert_exporter": "python",
   "pygments_lexer": "ipython3",
   "version": "3.5.1"
  }
 },
 "nbformat": 4,
 "nbformat_minor": 0
}
