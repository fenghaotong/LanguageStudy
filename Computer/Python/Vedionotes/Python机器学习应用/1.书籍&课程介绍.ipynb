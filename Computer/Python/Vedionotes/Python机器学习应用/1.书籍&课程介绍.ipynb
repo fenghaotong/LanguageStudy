{
 "cells": [
  {
   "cell_type": "markdown",
   "metadata": {},
   "source": [
    "# 书籍&课程介绍"
   ]
  },
  {
   "cell_type": "markdown",
   "metadata": {},
   "source": [
    "## 机器学习分类"
   ]
  },
  {
   "cell_type": "markdown",
   "metadata": {},
   "source": [
    "** 机器学习一般分为下面几种类别 **\n",
    "\n",
    "- 监督学习 （Supervised Learning）\n",
    "- 无监督学习 （Unsupervised Learning）\n",
    "- 强化学习（Reinforcement Learning，增强学习）\n",
    "- 半监督学习（Semi-supervised Learning）\n",
    "- 深度学习 (Deep Learning"
   ]
  },
  {
   "cell_type": "markdown",
   "metadata": {},
   "source": [
    "** Python Scikit-learn **\n"
   ]
  },
  {
   "cell_type": "markdown",
   "metadata": {},
   "source": [
    "- http://scikit-learn.org/stable/\n",
    "    - Machine Leaning in Python\n",
    "- 一组简单有效的工具集\n",
    "- 依赖Python的NumPy，SciPy和matplotlib库\n",
    "- 开源、可复用"
   ]
  },
  {
   "cell_type": "markdown",
   "metadata": {},
   "source": [
    "** 学习目标 **\n",
    "\n",
    "- 了解基本的机器学习原理及算法\n",
    "-  学习利用机器学习算法解决应用问题的能力\n",
    "-  掌握sklearn库中常用机器学习算法的基本调用方法，避免重复造车"
   ]
  },
  {
   "cell_type": "markdown",
   "metadata": {},
   "source": [
    "||应用（Applications）|算法（Algorithm）|\n",
    "|:---:|:-----|:----|\n",
    "|分类（Classification）|异常检测，图像识别，等 |KNN, SVM，etc.|\n",
    "|聚类（Clustering）|图像分割，群体划分，等| K-Means，谱聚类, etc.|\n",
    "|回归（Regression） |价格预测，趋势预测，等| 线性回归，SVR，etc.|\n",
    "|降维（Dimension Reduction）| 可视化， |PCA，NMF，etc. |"
   ]
  },
  {
   "cell_type": "markdown",
   "metadata": {},
   "source": [
    "** 相关书籍及课程推荐 **"
   ]
  },
  {
   "cell_type": "markdown",
   "metadata": {},
   "source": [
    "书籍\n",
    "- [机器学习 周志华](https://cs.nju.edu.cn/zhouzh/zhouzh.files/publication/MLbook2016.htm)\n",
    "- [《PRML》-Bishop](http://www.springer.com/us/book/9780387310732)\n",
    "\n",
    "课程\n",
    "\n",
    "- 《Machine Learning》-Andrew Ng\n",
    "    - Coursera版\n",
    "        - [课程主页](http://t.cn/RJZQbV2)\n",
    "    - Stanford手书版\n",
    "        - [在线观看](http://t.cn/RwUWKMS)\n",
    "        - [课程主页](http://cs229.stanford.edu/)\n",
    "- 《CS231n》- Fei-Fei Li(深度学习视觉)\n",
    "    - [课程主页](http://cs231n.stanford.edu/)\n",
    "    - [在线观看]()\n",
    "- 《Reinforcement Learning》-David Silver（增强学习）\n",
    "    - [课程主页](http://www0.cs.ucl.ac.uk/staff/d.silver/web/Teaching.html)\n",
    "    - [在线观看]()"
   ]
  },
  {
   "cell_type": "markdown",
   "metadata": {
    "collapsed": true
   },
   "source": [
    "** 我的计划 **"
   ]
  },
  {
   "cell_type": "markdown",
   "metadata": {},
   "source": [
    "- 统计、概率和线性代数\n",
    "- 《Machine Learning》-Andrew Ng\n",
    "- 《机器学习》 周志华\n",
    "- 《机器学习实战》"
   ]
  },
  {
   "cell_type": "code",
   "execution_count": null,
   "metadata": {
    "collapsed": true
   },
   "outputs": [],
   "source": []
  }
 ],
 "metadata": {
  "kernelspec": {
   "display_name": "Python [Root]",
   "language": "python",
   "name": "Python [Root]"
  },
  "language_info": {
   "codemirror_mode": {
    "name": "ipython",
    "version": 3
   },
   "file_extension": ".py",
   "mimetype": "text/x-python",
   "name": "python",
   "nbconvert_exporter": "python",
   "pygments_lexer": "ipython3",
   "version": "3.5.1"
  }
 },
 "nbformat": 4,
 "nbformat_minor": 0
}
