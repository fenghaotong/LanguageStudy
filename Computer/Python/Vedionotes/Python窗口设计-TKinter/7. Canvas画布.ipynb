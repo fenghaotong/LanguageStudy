{
 "cells": [
  {
   "cell_type": "markdown",
   "metadata": {},
   "source": [
    "# Canvas画布"
   ]
  },
  {
   "cell_type": "code",
   "execution_count": 44,
   "metadata": {},
   "outputs": [
    {
     "data": {
      "text/plain": [
       "''"
      ]
     },
     "execution_count": 44,
     "metadata": {},
     "output_type": "execute_result"
    }
   ],
   "source": [
    "# -*- coding: utf-8 -*-\n",
    "import tkinter as tk\n",
    "window = tk.Tk()\n",
    "\n",
    "window.title('my window')\n",
    "window.geometry('400x400')"
   ]
  },
  {
   "cell_type": "code",
   "execution_count": 45,
   "metadata": {
    "collapsed": true
   },
   "outputs": [],
   "source": [
    "canvas = tk.Canvas(window,\n",
    "                  bg = 'blue',\n",
    "                  height = 300,\n",
    "                  width = 400)\n",
    "image_file = tk.PhotoImage(file='CNN.gif')\n",
    "image = canvas.create_image(0,0,anchor = 'center', image = image_file)\n",
    "x0, y0, x1, y1 = 50, 50, 80, 80\n",
    "line = canvas.create_line(x0, y0, x1, y1)\n",
    "oval = canvas.create_oval(x0, y0, x1, y1, fill = 'red')\n",
    "arc = canvas.create_arc(x0+30, y0+30, x1+30, y1+30, start = 0, extent = 180)\n",
    "rect = canvas.create_rectangle(200, 60, 200+40, 60+40)\n",
    "canvas.pack()"
   ]
  },
  {
   "cell_type": "code",
   "execution_count": 46,
   "metadata": {
    "collapsed": true
   },
   "outputs": [],
   "source": [
    "def moveit():\n",
    "    canvas.move(rect, 0, 2)"
   ]
  },
  {
   "cell_type": "code",
   "execution_count": 47,
   "metadata": {
    "collapsed": true
   },
   "outputs": [],
   "source": [
    "b = tk.Button(window,\n",
    "              text = 'move',\n",
    "              command = moveit)\n",
    "b.pack()"
   ]
  },
  {
   "cell_type": "code",
   "execution_count": 48,
   "metadata": {
    "collapsed": true
   },
   "outputs": [],
   "source": [
    "window.mainloop()"
   ]
  },
  {
   "cell_type": "code",
   "execution_count": 49,
   "metadata": {
    "collapsed": true
   },
   "outputs": [],
   "source": [
    "%run code/Canvas.py"
   ]
  },
  {
   "cell_type": "code",
   "execution_count": null,
   "metadata": {
    "collapsed": true
   },
   "outputs": [],
   "source": []
  }
 ],
 "metadata": {
  "kernelspec": {
   "display_name": "Python 3",
   "language": "python",
   "name": "python3"
  },
  "language_info": {
   "codemirror_mode": {
    "name": "ipython",
    "version": 3
   },
   "file_extension": ".py",
   "mimetype": "text/x-python",
   "name": "python",
   "nbconvert_exporter": "python",
   "pygments_lexer": "ipython3",
   "version": "3.6.1"
  }
 },
 "nbformat": 4,
 "nbformat_minor": 2
}
