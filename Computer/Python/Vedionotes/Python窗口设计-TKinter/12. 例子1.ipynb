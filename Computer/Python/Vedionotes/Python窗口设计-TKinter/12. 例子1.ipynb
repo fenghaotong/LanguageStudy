{
 "cells": [
  {
   "cell_type": "markdown",
   "metadata": {},
   "source": [
    "# 例子1"
   ]
  },
  {
   "cell_type": "code",
   "execution_count": 68,
   "metadata": {},
   "outputs": [
    {
     "data": {
      "text/plain": [
       "''"
      ]
     },
     "execution_count": 68,
     "metadata": {},
     "output_type": "execute_result"
    }
   ],
   "source": [
    "# -*- coding: utf-8 -*-\n",
    "import tkinter as tk\n",
    "from tkinter import messagebox\n",
    "import pickle\n",
    "\n",
    "window = tk.Tk()\n",
    "\n",
    "window.title('Welcome My Window')\n",
    "window.geometry('450x300')\n"
   ]
  },
  {
   "cell_type": "code",
   "execution_count": 69,
   "metadata": {},
   "outputs": [],
   "source": [
    "# welcome image\n",
    "canvas = tk.Canvas(window, height=200, width=500)\n",
    "image_file = tk.PhotoImage(file='welcome.gif')\n",
    "image = canvas.create_image(0,0, anchor='nw', image=image_file)\n",
    "canvas.pack(side='top')"
   ]
  },
  {
   "cell_type": "code",
   "execution_count": 70,
   "metadata": {
    "collapsed": true
   },
   "outputs": [],
   "source": [
    "# user information\n",
    "tk.Label(window, text='User name: ').place(x=50, y= 150)\n",
    "tk.Label(window, text='Password: ').place(x=50, y= 190)\n",
    "\n",
    "var_usr_name = tk.StringVar()\n",
    "var_usr_name.set('example@python.com')\n",
    "entry_usr_name = tk.Entry(window, textvariable=var_usr_name)\n",
    "entry_usr_name.place(x=160, y=150)\n",
    "var_usr_pwd = tk.StringVar()\n",
    "entry_usr_pwd = tk.Entry(window, textvariable=var_usr_pwd, show='*')\n",
    "entry_usr_pwd.place(x=160, y=190)"
   ]
  },
  {
   "cell_type": "code",
   "execution_count": 71,
   "metadata": {
    "collapsed": true
   },
   "outputs": [],
   "source": [
    "def usr_sign_up():\n",
    "    def sign():\n",
    "        np = new_pwd.get()\n",
    "        npf = new_pwd_confirm.get()\n",
    "        nn = new_name.get()\n",
    "        with open('usrs_info.pickle', 'rb') as usr_file:\n",
    "            exist_usr_info = pickle.load(usr_file)\n",
    "        if np != npf:\n",
    "            tk.messagebox.showerror('Error', 'Password and confirm password must be the same!')\n",
    "        elif nn in exist_usr_info:\n",
    "            tk.messagebox.showerror('Error', 'The user has already signed up!')\n",
    "        else:\n",
    "            exist_usr_info[nn] = np\n",
    "            with open('usrs_info.pickle', 'wb') as usr_file:\n",
    "                pickle.dump(exist_usr_info, usr_file)\n",
    "            tk.messagebox.showinfo('Welcome', 'You have successfully signed up!')\n",
    "            window_sign_up.destroy()"
   ]
  },
  {
   "cell_type": "code",
   "execution_count": 72,
   "metadata": {
    "collapsed": true
   },
   "outputs": [],
   "source": [
    "def usr_login():\n",
    "    usr_name = var_usr_name.get()\n",
    "    usr_pwd = var_usr_pwd.get()\n",
    "    try:\n",
    "        with open('usrs_info.pickle', 'rb') as usr_file:\n",
    "            usrs_info = pickle.load(usr_file)\n",
    "    except FileNotFoundError:\n",
    "        with open('usrs_info.pickle', 'wb') as usr_file:\n",
    "            usrs_info = {'admin': 'admin'}\n",
    "            pickle.dump(usrs_info, usr_file)\n",
    "    if usr_name in usrs_info:\n",
    "        if usr_pwd == usrs_info[usr_name]:\n",
    "            tk.messagebox.showinfo(title='Welcome', message='How are you? ' + usr_name)\n",
    "        else:\n",
    "            tk.messagebox.showerror(message='Error, your password is wrong, try again.')\n",
    "    else:\n",
    "        is_sign_up = tk.messagebox.askyesno('Welcome',\n",
    "                               'You have not sign up yet. Sign up today?')\n",
    "        if is_sign_up:\n",
    "            usr_sign_up()\n",
    "\n",
    "\n",
    "    window_sign_up = tk.Toplevel(window)\n",
    "    window_sign_up.geometry('350x200')\n",
    "    window_sign_up.title('Sign up window')\n",
    "\n",
    "    new_name = tk.StringVar()\n",
    "    new_name.set('example@python.com')\n",
    "    tk.Label(window_sign_up, text='User name: ').place(x=10, y= 10)\n",
    "    entry_new_name = tk.Entry(window_sign_up, textvariable=new_name)\n",
    "    entry_new_name.place(x=150, y=10)\n",
    "\n",
    "    new_pwd = tk.StringVar()\n",
    "    tk.Label(window_sign_up, text='Password: ').place(x=10, y=50)\n",
    "    entry_usr_pwd = tk.Entry(window_sign_up, textvariable=new_pwd, show='*')\n",
    "    entry_usr_pwd.place(x=150, y=50)\n",
    "\n",
    "    new_pwd_confirm = tk.StringVar()\n",
    "    tk.Label(window_sign_up, text='Confirm password: ').place(x=10, y= 90)\n",
    "    entry_usr_pwd_confirm = tk.Entry(window_sign_up, textvariable=new_pwd_confirm, show='*')\n",
    "    entry_usr_pwd_confirm.place(x=150, y=90)\n",
    "\n",
    "    btn_comfirm_sign_up = tk.Button(window_sign_up, text='Sign up', command=sign)\n",
    "    btn_comfirm_sign_up.place(x=150, y=130)\n"
   ]
  },
  {
   "cell_type": "code",
   "execution_count": 73,
   "metadata": {},
   "outputs": [],
   "source": [
    "\n",
    "# login and sign up button\n",
    "btn_login = tk.Button(window, text='Login', command=usr_login)\n",
    "btn_login.place(x=170, y=230)\n",
    "btn_sign_up = tk.Button(window, text='Sign up', command=usr_sign_up)\n",
    "btn_sign_up.place(x=270, y=230)"
   ]
  },
  {
   "cell_type": "code",
   "execution_count": 74,
   "metadata": {},
   "outputs": [
    {
     "name": "stderr",
     "output_type": "stream",
     "text": [
      "Exception in Tkinter callback\n",
      "Traceback (most recent call last):\n",
      "  File \"C:\\Users\\htfeng\\Anaconda3\\lib\\tkinter\\__init__.py\", line 1699, in __call__\n",
      "    return self.func(*args)\n",
      "  File \"<ipython-input-72-92591cf7ba8b>\", line 6, in usr_login\n",
      "    usrs_info = pickle.load(usr_file)\n",
      "EOFError: Ran out of input\n",
      "Exception in Tkinter callback\n",
      "Traceback (most recent call last):\n",
      "  File \"C:\\Users\\htfeng\\Anaconda3\\lib\\tkinter\\__init__.py\", line 1699, in __call__\n",
      "    return self.func(*args)\n",
      "  File \"<ipython-input-72-92591cf7ba8b>\", line 6, in usr_login\n",
      "    usrs_info = pickle.load(usr_file)\n",
      "EOFError: Ran out of input\n",
      "Exception in Tkinter callback\n",
      "Traceback (most recent call last):\n",
      "  File \"C:\\Users\\htfeng\\Anaconda3\\lib\\tkinter\\__init__.py\", line 1699, in __call__\n",
      "    return self.func(*args)\n",
      "  File \"<ipython-input-72-92591cf7ba8b>\", line 6, in usr_login\n",
      "    usrs_info = pickle.load(usr_file)\n",
      "EOFError: Ran out of input\n"
     ]
    }
   ],
   "source": [
    "window.mainloop()"
   ]
  },
  {
   "cell_type": "code",
   "execution_count": 75,
   "metadata": {
    "collapsed": true
   },
   "outputs": [],
   "source": [
    "%run code/example.py"
   ]
  },
  {
   "cell_type": "code",
   "execution_count": null,
   "metadata": {
    "collapsed": true
   },
   "outputs": [],
   "source": []
  }
 ],
 "metadata": {
  "kernelspec": {
   "display_name": "Python 3",
   "language": "python",
   "name": "python3"
  },
  "language_info": {
   "codemirror_mode": {
    "name": "ipython",
    "version": 3
   },
   "file_extension": ".py",
   "mimetype": "text/x-python",
   "name": "python",
   "nbconvert_exporter": "python",
   "pygments_lexer": "ipython3",
   "version": "3.6.1"
  }
 },
 "nbformat": 4,
 "nbformat_minor": 2
}
