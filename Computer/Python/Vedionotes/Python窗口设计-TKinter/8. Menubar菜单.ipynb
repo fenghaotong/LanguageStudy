{
 "cells": [
  {
   "cell_type": "markdown",
   "metadata": {},
   "source": [
    "# Menubar菜单"
   ]
  },
  {
   "cell_type": "code",
   "execution_count": 6,
   "metadata": {},
   "outputs": [
    {
     "data": {
      "text/plain": [
       "''"
      ]
     },
     "execution_count": 6,
     "metadata": {},
     "output_type": "execute_result"
    }
   ],
   "source": [
    "# -*- coding: utf-8 -*-\n",
    "import tkinter as tk\n",
    "window = tk.Tk()\n",
    "\n",
    "window.title('my window')\n",
    "window.geometry('400x400')"
   ]
  },
  {
   "cell_type": "code",
   "execution_count": 7,
   "metadata": {
    "collapsed": true
   },
   "outputs": [],
   "source": [
    "l = tk.Label(window, bg = 'yellow', text = '')\n",
    "l.pack()"
   ]
  },
  {
   "cell_type": "code",
   "execution_count": 8,
   "metadata": {
    "collapsed": true
   },
   "outputs": [],
   "source": [
    "counter = 0\n",
    "def do_job():\n",
    "    global counter\n",
    "    l.config(text = 'do ' + str(counter))\n",
    "    counter +=1"
   ]
  },
  {
   "cell_type": "code",
   "execution_count": 9,
   "metadata": {
    "collapsed": true
   },
   "outputs": [],
   "source": [
    "menubar = tk.Menu(window)\n",
    "filemenu = tk.Menu(menubar, tearoff = 0)\n",
    "menubar.add_cascade(label = 'File', menu = filemenu)\n",
    "filemenu.add_command(label = 'New', command = do_job)\n",
    "filemenu.add_command(label = 'Open', command = do_job)\n",
    "filemenu.add_command(label = 'Save', command = do_job)\n",
    "filemenu.add_separator()\n",
    "filemenu.add_command(label = 'Exit', command = window.quit)\n",
    "\n",
    "editmenu = tk.Menu(menubar, tearoff = 0)\n",
    "menubar.add_cascade(label = 'Edit', menu = editmenu)\n",
    "editmenu.add_command(label = 'Cut', command = do_job)\n",
    "editmenu.add_command(label = 'Copy', command = do_job)\n",
    "editmenu.add_command(label = 'Paste', command = do_job)\n",
    "\n",
    "submenu = tk.Menu(filemenu)\n",
    "filemenu.add_cascade(label = 'Import', menu = submenu, underline = 0)\n",
    "submenu.add_command(label = 'Submenu1', command = do_job)\n",
    "\n",
    "window.config(menu = menubar)"
   ]
  },
  {
   "cell_type": "code",
   "execution_count": 10,
   "metadata": {
    "collapsed": true
   },
   "outputs": [],
   "source": [
    "window.mainloop()"
   ]
  },
  {
   "cell_type": "code",
   "execution_count": 1,
   "metadata": {
    "collapsed": true
   },
   "outputs": [],
   "source": [
    "%run code/Menubar.py"
   ]
  },
  {
   "cell_type": "code",
   "execution_count": null,
   "metadata": {
    "collapsed": true
   },
   "outputs": [],
   "source": []
  }
 ],
 "metadata": {
  "kernelspec": {
   "display_name": "Python 3",
   "language": "python",
   "name": "python3"
  },
  "language_info": {
   "codemirror_mode": {
    "name": "ipython",
    "version": 3
   },
   "file_extension": ".py",
   "mimetype": "text/x-python",
   "name": "python",
   "nbconvert_exporter": "python",
   "pygments_lexer": "ipython3",
   "version": "3.6.1"
  }
 },
 "nbformat": 4,
 "nbformat_minor": 2
}
