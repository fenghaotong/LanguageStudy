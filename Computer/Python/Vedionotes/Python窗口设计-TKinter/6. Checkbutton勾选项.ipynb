{
 "cells": [
  {
   "cell_type": "markdown",
   "metadata": {},
   "source": [
    "# Checkbutton勾选项"
   ]
  },
  {
   "cell_type": "code",
   "execution_count": 12,
   "metadata": {},
   "outputs": [
    {
     "data": {
      "text/plain": [
       "''"
      ]
     },
     "execution_count": 12,
     "metadata": {},
     "output_type": "execute_result"
    }
   ],
   "source": [
    "# -*- coding: utf-8 -*-\n",
    "import tkinter as tk\n",
    "window = tk.Tk()\n",
    "\n",
    "window.title('my window')\n",
    "window.geometry('200x200')"
   ]
  },
  {
   "cell_type": "code",
   "execution_count": 13,
   "metadata": {
    "collapsed": true
   },
   "outputs": [],
   "source": [
    "l = tk.Label(window, bg = 'yellow', width = 20, text = 'empty')\n",
    "l.pack()"
   ]
  },
  {
   "cell_type": "code",
   "execution_count": 14,
   "metadata": {
    "collapsed": true
   },
   "outputs": [],
   "source": [
    "def print_selection():\n",
    "    if (var1.get() == 1)&(var2.get() == 0):\n",
    "        l.config(text = 'I love only Python')\n",
    "    elif (var1.get() == 0)&(var2.get() == 1):\n",
    "        l.config(text = 'I love only C++') \n",
    "    elif (var1.get() == 1)&(var2.get() == 1):\n",
    "        l.config(text = 'I love Both')\n",
    "    else:\n",
    "        l.config(text = 'I do not love either')"
   ]
  },
  {
   "cell_type": "code",
   "execution_count": 15,
   "metadata": {
    "collapsed": true
   },
   "outputs": [],
   "source": [
    "var1 = tk.IntVar()\n",
    "c1 = tk.Checkbutton(window,\n",
    "                   text = 'Python',\n",
    "                   variable = var1,\n",
    "                   onvalue = 1,\n",
    "                   offvalue = 0,\n",
    "                   command = print_selection)\n",
    "c1.pack()"
   ]
  },
  {
   "cell_type": "code",
   "execution_count": 16,
   "metadata": {
    "collapsed": true
   },
   "outputs": [],
   "source": [
    "var2 = tk.IntVar()\n",
    "c2 = tk.Checkbutton(window,\n",
    "                   text = 'C++',\n",
    "                   variable = var2,\n",
    "                   onvalue = 1,\n",
    "                   offvalue = 0,\n",
    "                   command = print_selection)\n",
    "c2.pack()"
   ]
  },
  {
   "cell_type": "code",
   "execution_count": 17,
   "metadata": {
    "collapsed": true
   },
   "outputs": [],
   "source": [
    "window.mainloop()"
   ]
  },
  {
   "cell_type": "code",
   "execution_count": 18,
   "metadata": {
    "collapsed": true
   },
   "outputs": [],
   "source": [
    "%run code/Checkbutton.py"
   ]
  },
  {
   "cell_type": "code",
   "execution_count": null,
   "metadata": {
    "collapsed": true
   },
   "outputs": [],
   "source": []
  }
 ],
 "metadata": {
  "kernelspec": {
   "display_name": "Python 3",
   "language": "python",
   "name": "python3"
  },
  "language_info": {
   "codemirror_mode": {
    "name": "ipython",
    "version": 3
   },
   "file_extension": ".py",
   "mimetype": "text/x-python",
   "name": "python",
   "nbconvert_exporter": "python",
   "pygments_lexer": "ipython3",
   "version": "3.6.1"
  }
 },
 "nbformat": 4,
 "nbformat_minor": 2
}
