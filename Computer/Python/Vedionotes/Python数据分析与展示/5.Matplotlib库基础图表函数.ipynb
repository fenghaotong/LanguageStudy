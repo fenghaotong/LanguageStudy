{
 "cells": [
  {
   "cell_type": "markdown",
   "metadata": {},
   "source": [
    "# Matplotlib库基础图表函数"
   ]
  },
  {
   "cell_type": "markdown",
   "metadata": {},
   "source": [
    "## pyplot的基础图表函数"
   ]
  },
  {
   "cell_type": "markdown",
   "metadata": {},
   "source": [
    "|函数| 说明|\n",
    "|:----:|:---|\n",
    "|plt.plot(x,y,fmt,…) |绘制一个坐标图|\n",
    "|plt.boxplot(data,notch,position) |绘制一个箱形图|\n",
    "|plt.bar(left,height,width,bottom) |绘制一个条形图|\n",
    "|plt.barh(width,bottom,left,height) |绘制一个横向条形图|\n",
    "|plt.polar(theta, r) |绘制极坐标图|\n",
    "|plt.pie(data, explode) |绘制饼图|\n",
    "|plt.psd(x,NFFT=256,pad_to,Fs) |绘制功率谱密度图|\n",
    "|plt.specgram(x,NFFT=256,pad_to,F)| 绘制谱图|\n",
    "|plt.cohere(x,y,NFFT=256,Fs) |绘制X‐Y的相关性函数|\n",
    "|plt.scatter(x,y) |绘制散点图，其中，x和y长度相同|\n",
    "|plt.step(x,y,where) |绘制步阶图|\n",
    "|plt.hist(x,bins,normed) |绘制直方图|\n",
    "|plt.contour(X,Y,Z,N) |绘制等值图|\n",
    "|plt.vlines() |绘制垂直图|\n",
    "|plt.stem(x,y,linefmt,markerfmt) |绘制柴火图|\n",
    "|plt.plot_date() |绘制数据日期|"
   ]
  },
  {
   "cell_type": "markdown",
   "metadata": {},
   "source": [
    "## pyplot饼图的绘制"
   ]
  },
  {
   "cell_type": "code",
   "execution_count": 1,
   "metadata": {
    "collapsed": true
   },
   "outputs": [],
   "source": [
    "import matplotlib.pyplot as plt"
   ]
  },
  {
   "cell_type": "code",
   "execution_count": 7,
   "metadata": {
    "collapsed": true
   },
   "outputs": [],
   "source": [
    "labels = 'Frogs', 'Hogs', 'Dogs', 'Logs'\n",
    "sizes = [15, 30, 45, 10]\n",
    "explode = (0, 0.1, 0, 0)"
   ]
  },
  {
   "cell_type": "code",
   "execution_count": 8,
   "metadata": {},
   "outputs": [
    {
     "data": {
      "text/plain": [
       "([<matplotlib.patches.Wedge at 0x7f9fe48>,\n",
       "  <matplotlib.patches.Wedge at 0x7fab0b8>,\n",
       "  <matplotlib.patches.Wedge at 0x7fb3278>,\n",
       "  <matplotlib.patches.Wedge at 0x7fb8470>],\n",
       " [<matplotlib.text.Text at 0x7fa46a0>,\n",
       "  <matplotlib.text.Text at 0x7fab898>,\n",
       "  <matplotlib.text.Text at 0x7fb3a58>,\n",
       "  <matplotlib.text.Text at 0x7fb8c50>],\n",
       " [<matplotlib.text.Text at 0x7fa4b38>,\n",
       "  <matplotlib.text.Text at 0x7fabd30>,\n",
       "  <matplotlib.text.Text at 0x7fb3ef0>,\n",
       "  <matplotlib.text.Text at 0x7fbd128>])"
      ]
     },
     "execution_count": 8,
     "metadata": {},
     "output_type": "execute_result"
    }
   ],
   "source": [
    "plt.pie(sizes, explode=explode, labels=labels, autopct='%1.1f%%', shadow=False, startangle=90)"
   ]
  },
  {
   "cell_type": "code",
   "execution_count": 9,
   "metadata": {},
   "outputs": [
    {
     "data": {
      "text/plain": [
       "(-1.1074797737419919,\n",
       " 1.027940084990864,\n",
       " -1.0246160299958926,\n",
       " 1.0000000049123423)"
      ]
     },
     "execution_count": 9,
     "metadata": {},
     "output_type": "execute_result"
    }
   ],
   "source": [
    "plt.axis('equal')#正圆形"
   ]
  },
  {
   "cell_type": "code",
   "execution_count": 10,
   "metadata": {
    "collapsed": true
   },
   "outputs": [],
   "source": [
    "plt.show()"
   ]
  },
  {
   "cell_type": "markdown",
   "metadata": {},
   "source": [
    "## pyplot直方图的绘制"
   ]
  },
  {
   "cell_type": "code",
   "execution_count": 11,
   "metadata": {
    "collapsed": true
   },
   "outputs": [],
   "source": [
    "import numpy as np"
   ]
  },
  {
   "cell_type": "code",
   "execution_count": 22,
   "metadata": {
    "collapsed": true
   },
   "outputs": [],
   "source": [
    "np.random.seed(0)\n",
    "mu, sigma=100,20\n",
    "a = np.random.normal(mu,sigma,size=100)"
   ]
  },
  {
   "cell_type": "code",
   "execution_count": 23,
   "metadata": {},
   "outputs": [
    {
     "data": {
      "text/plain": [
       "<matplotlib.text.Text at 0x7965b00>"
      ]
     },
     "execution_count": 23,
     "metadata": {},
     "output_type": "execute_result"
    }
   ],
   "source": [
    "plt.hist(a, 10, normed=1, histtype='stepfilled',facecolor='b',alpha=0.75)#40表示直方的个数\n",
    "plt.title('Histpgram')"
   ]
  },
  {
   "cell_type": "code",
   "execution_count": 24,
   "metadata": {
    "collapsed": true
   },
   "outputs": [],
   "source": [
    "plt.show()"
   ]
  },
  {
   "cell_type": "markdown",
   "metadata": {},
   "source": [
    "## pyplot极坐标图的绘制"
   ]
  },
  {
   "cell_type": "code",
   "execution_count": 38,
   "metadata": {},
   "outputs": [],
   "source": [
    "N = 10\n",
    "theta = np.linspace(0.0,2*np.pi,N,endpoint=False)\n",
    "radii = 10 * np.random.rand(N)\n",
    "width = np.pi/2*np.random.rand(N)"
   ]
  },
  {
   "cell_type": "code",
   "execution_count": 39,
   "metadata": {},
   "outputs": [],
   "source": [
    "ax = plt.subplot(111,projection='polar')\n",
    "bars = ax.bar(theta, radii, width=width,bottom=0.0)"
   ]
  },
  {
   "cell_type": "code",
   "execution_count": 40,
   "metadata": {
    "collapsed": true
   },
   "outputs": [],
   "source": [
    "for r, bar in zip(radii, bars):\n",
    "    bar.set_facecolor(plt.cm.viridis(r / 10.))\n",
    "    bar.set_alpha(0.5)"
   ]
  },
  {
   "cell_type": "code",
   "execution_count": 41,
   "metadata": {
    "collapsed": true
   },
   "outputs": [],
   "source": [
    "plt.show()"
   ]
  },
  {
   "cell_type": "markdown",
   "metadata": {},
   "source": [
    "## pyplot散点图的绘制"
   ]
  },
  {
   "cell_type": "code",
   "execution_count": 42,
   "metadata": {},
   "outputs": [
    {
     "data": {
      "text/plain": [
       "<matplotlib.text.Text at 0x948c278>"
      ]
     },
     "execution_count": 42,
     "metadata": {},
     "output_type": "execute_result"
    }
   ],
   "source": [
    "fig, ax = plt.subplots()\n",
    "ax.plot(10*np.random.randn(100), 10*np.random.randn(100), 'o')\n",
    "ax.set_title('Simple Scatter')"
   ]
  },
  {
   "cell_type": "code",
   "execution_count": 43,
   "metadata": {
    "collapsed": true
   },
   "outputs": [],
   "source": [
    "plt.show()"
   ]
  },
  {
   "cell_type": "code",
   "execution_count": null,
   "metadata": {
    "collapsed": true
   },
   "outputs": [],
   "source": []
  }
 ],
 "metadata": {
  "kernelspec": {
   "display_name": "Python 3",
   "language": "python",
   "name": "python3"
  },
  "language_info": {
   "codemirror_mode": {
    "name": "ipython",
    "version": 3
   },
   "file_extension": ".py",
   "mimetype": "text/x-python",
   "name": "python",
   "nbconvert_exporter": "python",
   "pygments_lexer": "ipython3",
   "version": "3.6.1"
  }
 },
 "nbformat": 4,
 "nbformat_minor": 1
}
