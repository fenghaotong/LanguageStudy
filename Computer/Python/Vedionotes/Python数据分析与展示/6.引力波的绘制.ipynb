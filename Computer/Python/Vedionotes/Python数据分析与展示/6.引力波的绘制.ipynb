{
 "cells": [
  {
   "cell_type": "markdown",
   "metadata": {},
   "source": [
    "# 引力波的绘制"
   ]
  },
  {
   "cell_type": "code",
   "execution_count": 3,
   "metadata": {},
   "outputs": [],
   "source": [
    "import numpy as np\n",
    "import matplotlib.pyplot as plt\n",
    "from scipy.io import wavfile"
   ]
  },
  {
   "cell_type": "code",
   "execution_count": 7,
   "metadata": {},
   "outputs": [],
   "source": [
    "rate_h, hstrain = wavfile.read(r\"H1_Strain.wav\",\"rb\")\n",
    "rate_l, lstrain = wavfile.read(r\"L1_Strain.wav\",\"rb\")\n",
    "reftime, ref_H1 = np.genfromtxt('wf_template.txt').transpose()"
   ]
  },
  {
   "cell_type": "code",
   "execution_count": 8,
   "metadata": {
    "collapsed": true
   },
   "outputs": [],
   "source": [
    "htime_interval = 1/rate_h\n",
    "ltime_interval = 1/rate_l\n",
    "fig = plt.figure(figsize=(12, 6))"
   ]
  },
  {
   "cell_type": "code",
   "execution_count": 9,
   "metadata": {
    "collapsed": true
   },
   "outputs": [],
   "source": [
    "# 丢失信号起始点\n",
    "htime_len = hstrain.shape[0]/rate_h\n",
    "htime = np.arange(-htime_len/2, htime_len/2 , htime_interval)\n",
    "plth = fig.add_subplot(221)\n",
    "plth.plot(htime, hstrain, 'y')\n",
    "plth.set_xlabel('Time (seconds)')\n",
    "plth.set_ylabel('H1 Strain')\n",
    "plth.set_title('H1 Strain')\n",
    "\n",
    "ltime_len = lstrain.shape[0]/rate_l\n",
    "ltime = np.arange(-ltime_len/2, ltime_len/2 , ltime_interval)\n",
    "pltl = fig.add_subplot(222)\n",
    "pltl.plot(ltime, lstrain, 'g')\n",
    "pltl.set_xlabel('Time (seconds)')\n",
    "pltl.set_ylabel('L1 Strain')\n",
    "pltl.set_title('L1 Strain')\n",
    "\n",
    "pltref = fig.add_subplot(212)\n",
    "pltref.plot(reftime, ref_H1)\n",
    "pltref.set_xlabel('Time (seconds)')\n",
    "pltref.set_ylabel('Template Strain')\n",
    "pltref.set_title('Template')\n",
    "fig.tight_layout()"
   ]
  },
  {
   "cell_type": "code",
   "execution_count": null,
   "metadata": {
    "collapsed": true
   },
   "outputs": [],
   "source": [
    "plt.savefig(\"Gravitational_Waves_Original.png\")\n",
    "plt.show()\n",
    "plt.close(fig)"
   ]
  }
 ],
 "metadata": {
  "kernelspec": {
   "display_name": "Python 3",
   "language": "python",
   "name": "python3"
  },
  "language_info": {
   "codemirror_mode": {
    "name": "ipython",
    "version": 3
   },
   "file_extension": ".py",
   "mimetype": "text/x-python",
   "name": "python",
   "nbconvert_exporter": "python",
   "pygments_lexer": "ipython3",
   "version": "3.6.1"
  }
 },
 "nbformat": 4,
 "nbformat_minor": 1
}
