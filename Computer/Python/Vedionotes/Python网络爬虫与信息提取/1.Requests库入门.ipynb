{
 "cells": [
  {
   "cell_type": "markdown",
   "metadata": {},
   "source": [
    "# Requests库入门"
   ]
  },
  {
   "cell_type": "markdown",
   "metadata": {},
   "source": [
    "|方法 |说明|\n",
    "|:--------:|:---------|\n",
    "|requests.request() |构造一个请求，支撑以下各方法的基础方法|\n",
    "|requests.get() |获取HTML网页的主要方法，对应于HTTP的GET|\n",
    "|requests.head() |获取HTML网页头信息的方法，对应于HTTP的HEAD|\n",
    "|requests.post() |向HTML网页提交POST请求的方法，对应于HTTP的POST|\n",
    "|requests.put() |向HTML网页提交PUT请求的方法，对应于HTTP的PUT|\n",
    "|requests.patch() |向HTML网页提交局部修改请求，对应于HTTP的PATCH|\n",
    "|requests.delete() |向HTML页面提交删除请求，对应于HTTP的DELET|"
   ]
  },
  {
   "cell_type": "markdown",
   "metadata": {},
   "source": [
    "## requensts.get()方法"
   ]
  },
  {
   "cell_type": "markdown",
   "metadata": {},
   "source": [
    "```python\n",
    "r = requests.get(url)\n",
    "```\n",
    "\n",
    "> 构造一个向服务器请求资源的requests对象   \n",
    "> 返回一个包含服务器资源的response对象"
   ]
  },
  {
   "cell_type": "markdown",
   "metadata": {},
   "source": [
    "```python\n",
    "requests.get(url, params=None, **kwargs)\n",
    "```\n",
    "\n",
    "> url : 拟获取页面的url链接    \n",
    "> params : url中的额外参数，字典或字节流格式，可选    \n",
    "> \\*\\*kwargs: 12个控制访问的参数    "
   ]
  },
  {
   "cell_type": "markdown",
   "metadata": {},
   "source": [
    "- Response对象的属性     \n",
    "\n",
    "|属性|说明|       \n",
    "|:------:|:-----|\n",
    "|r.status_code| HTTP请求的返回状态，200表示连接成功，404表示失败|\n",
    "|r.text |HTTP响应内容的字符串形式，即，url对应的页面内容|\n",
    "|r.encoding |从HTTP header中猜测的响应内容编码方式|\n",
    "|r.apparent_encoding| 从内容中分析出的响应内容编码方式（备选编码方式）|\n",
    "|r.content| HTTP响应内容的二进制形式|"
   ]
  },
  {
   "cell_type": "markdown",
   "metadata": {},
   "source": [
    "- reponse编码   \n",
    "\n",
    "    - r.encoding:从HTTP header中猜测的响应内容编码方式\n",
    "    - r.apparent_encoding :从内容中分析出的响应内容编码方式（备选编码方式）\n",
    "\n",
    ">r.encoding：如果header中不存在charset，则认为编码为ISO‐8859‐1   \n",
    ">r.text根据r.encoding显示网页内容    \n",
    ">r.apparent_encoding：根据网页内容分析出的编码方式,可以看作是r.encoding的备选"
   ]
  },
  {
   "cell_type": "markdown",
   "metadata": {
    "collapsed": true
   },
   "source": [
    "## 爬取网页的通用代码框架"
   ]
  },
  {
   "cell_type": "markdown",
   "metadata": {},
   "source": [
    "- 理解Requests库的异常\n",
    "\n",
    "\n",
    "|异常 |说明|\n",
    "|:------:|:-------|\n",
    "|requests.ConnectionError |网络连接错误异常，如DNS查询失败、拒绝连接等|\n",
    "|requests.HTTPError |HTTP错误异常|\n",
    "|requests.URLRequired |URL缺失异常|\n",
    "|requests.TooManyRedirects |超过最大重定向次数，产生重定向异常|\n",
    "|requests.ConnectTimeout |连接远程服务器超时异常|\n",
    "|requests.Timeout |请求URL超时，产生超时异常|\n",
    "|r.raise_for_status() |如果不是200，产生异常 requests.HTTPError|"
   ]
  },
  {
   "cell_type": "code",
   "execution_count": 2,
   "metadata": {},
   "outputs": [
    {
     "name": "stdout",
     "output_type": "stream",
     "text": [
      "errror\n"
     ]
    }
   ],
   "source": [
    "import requests\n",
    "\n",
    "def getHTMLText(url):\n",
    "\ttry:\n",
    "\t\tr = requests.get(url, timeout=30)\n",
    "\t\tr.raise_for_status()\n",
    "\t\tr.encoding = r.apparent_encoding\n",
    "\t\treturn r.text\n",
    "\texcept:\n",
    "\t\treturn \"errror\"  #如果状态码不是200\n",
    "    \n",
    "if __name__ == \"__main__\":\n",
    "\turl = \"www.baidu.com\"\n",
    "\tprint(getHTMLText(url))"
   ]
  },
  {
   "cell_type": "markdown",
   "metadata": {},
   "source": [
    "## HTTP协议及Requests库方法"
   ]
  },
  {
   "cell_type": "markdown",
   "metadata": {},
   "source": [
    "** HTTP协议 **"
   ]
  },
  {
   "cell_type": "markdown",
   "metadata": {},
   "source": [
    "- HTTP是一个基于“请求与响应”模式的、无状态的应用层协议\n",
    "- HTTP协议采用URL作为定位网络资源的标识，URL格式如下：\n",
    "```\n",
    "http://host[:port][path]\n",
    "```\n",
    "> host: 合法的Internet主机域名或IP地址  \n",
    "> port: 端口号，缺省端口为80  \n",
    "> path: 请求资源的路径  "
   ]
  },
  {
   "cell_type": "markdown",
   "metadata": {},
   "source": [
    "- HTTP协议对资源的操作\n",
    "\n",
    "|方法 |说明|\n",
    "|:-----:|:-----|\n",
    "|GET| 请求获取URL位置的资源|\n",
    "|HEAD| 请求获取URL位置资源的响应消息报告，即获得该资源的头部信息|\n",
    "|POST |请求向URL位置的资源后附加新的数据|\n",
    "|PUT| 请求向URL位置存储一个资源，覆盖原URL位置的资源|\n",
    "|PATCH |请求局部更新URL位置的资源，即改变该处资源的部分内容|\n",
    "|DELETE |请求删除URL位置存储的资源|"
   ]
  },
  {
   "cell_type": "markdown",
   "metadata": {},
   "source": [
    "** PATCH和PUT方法的区别 **\n",
    "\n",
    "- 假设URL位置有一组数据UserInfo，包括UserID、UserName等20个字段\n",
    "- 需求：用户修改了UserName，其他不变\n",
    "    - 采用PATCH，仅向URL提交UserName的局部更新请求\n",
    "    - 采用PUT，必须将所有20个字段一并提交到URL，未提交字段被删除    \n",
    "> PATCH的最主要好处：节省网络带宽"
   ]
  },
  {
   "cell_type": "markdown",
   "metadata": {},
   "source": [
    "** head()方法 **"
   ]
  },
  {
   "cell_type": "code",
   "execution_count": 3,
   "metadata": {},
   "outputs": [
    {
     "data": {
      "text/plain": [
       "{'Access-Control-Allow-Origin': '*', 'Content-Length': '267', 'Via': '1.1 vegur', 'Access-Control-Allow-Credentials': 'true', 'Content-Type': 'application/json', 'Connection': 'keep-alive', 'Date': 'Tue, 18 Apr 2017 14:54:06 GMT', 'Server': 'gunicorn/19.7.1'}"
      ]
     },
     "execution_count": 3,
     "metadata": {},
     "output_type": "execute_result"
    }
   ],
   "source": [
    "r = requests.head('http://httpbin.org/get')\n",
    "r.headers"
   ]
  },
  {
   "cell_type": "code",
   "execution_count": 4,
   "metadata": {},
   "outputs": [
    {
     "data": {
      "text/plain": [
       "''"
      ]
     },
     "execution_count": 4,
     "metadata": {},
     "output_type": "execute_result"
    }
   ],
   "source": [
    "r.text"
   ]
  },
  {
   "cell_type": "markdown",
   "metadata": {},
   "source": [
    "** post()方法 **"
   ]
  },
  {
   "cell_type": "code",
   "execution_count": 7,
   "metadata": {},
   "outputs": [
    {
     "name": "stdout",
     "output_type": "stream",
     "text": [
      "{\n",
      "  \"args\": {}, \n",
      "  \"data\": \"\", \n",
      "  \"files\": {}, \n",
      "  \"form\": {\n",
      "    \"key1\": \"value1\", \n",
      "    \"key2\": \"value2\"\n",
      "  }, \n",
      "  \"headers\": {\n",
      "    \"Accept\": \"*/*\", \n",
      "    \"Accept-Encoding\": \"gzip, deflate\", \n",
      "    \"Connection\": \"close\", \n",
      "    \"Content-Length\": \"23\", \n",
      "    \"Content-Type\": \"application/x-www-form-urlencoded\", \n",
      "    \"Host\": \"httpbin.org\", \n",
      "    \"User-Agent\": \"python-requests/2.13.0\"\n",
      "  }, \n",
      "  \"json\": null, \n",
      "  \"origin\": \"111.195.213.99\", \n",
      "  \"url\": \"http://httpbin.org/post\"\n",
      "}\n",
      "\n"
     ]
    }
   ],
   "source": [
    "payload = {'key1':'value1','key2':'value2' }\n",
    "r = requests.post('http://httpbin.org/post', data = payload)\n",
    "print(r.text)\n",
    "#向URL POST一个字典\n",
    "#自动编码为form（表单）"
   ]
  },
  {
   "cell_type": "code",
   "execution_count": 8,
   "metadata": {},
   "outputs": [
    {
     "name": "stdout",
     "output_type": "stream",
     "text": [
      "{\n",
      "  \"args\": {}, \n",
      "  \"data\": \"ABC\", \n",
      "  \"files\": {}, \n",
      "  \"form\": {}, \n",
      "  \"headers\": {\n",
      "    \"Accept\": \"*/*\", \n",
      "    \"Accept-Encoding\": \"gzip, deflate\", \n",
      "    \"Connection\": \"close\", \n",
      "    \"Content-Length\": \"3\", \n",
      "    \"Host\": \"httpbin.org\", \n",
      "    \"User-Agent\": \"python-requests/2.13.0\"\n",
      "  }, \n",
      "  \"json\": null, \n",
      "  \"origin\": \"111.195.213.99\", \n",
      "  \"url\": \"http://httpbin.org/post\"\n",
      "}\n",
      "\n"
     ]
    }
   ],
   "source": [
    "r = requests.post('http://httpbin.org/post', data = 'ABC')\n",
    "print(r.text)\n",
    "\n",
    "#向URL POST一个字符串\n",
    "#自动编码为data"
   ]
  },
  {
   "cell_type": "markdown",
   "metadata": {},
   "source": [
    "** put()方法 **"
   ]
  },
  {
   "cell_type": "code",
   "execution_count": 10,
   "metadata": {},
   "outputs": [
    {
     "name": "stdout",
     "output_type": "stream",
     "text": [
      "{\n",
      "  \"args\": {}, \n",
      "  \"data\": \"\", \n",
      "  \"files\": {}, \n",
      "  \"form\": {\n",
      "    \"key1\": \"value1\", \n",
      "    \"key2\": \"value2\"\n",
      "  }, \n",
      "  \"headers\": {\n",
      "    \"Accept\": \"*/*\", \n",
      "    \"Accept-Encoding\": \"gzip, deflate\", \n",
      "    \"Connection\": \"close\", \n",
      "    \"Content-Length\": \"23\", \n",
      "    \"Content-Type\": \"application/x-www-form-urlencoded\", \n",
      "    \"Host\": \"httpbin.org\", \n",
      "    \"User-Agent\": \"python-requests/2.13.0\"\n",
      "  }, \n",
      "  \"json\": null, \n",
      "  \"origin\": \"111.195.213.99\", \n",
      "  \"url\": \"http://httpbin.org/put\"\n",
      "}\n",
      "\n"
     ]
    }
   ],
   "source": [
    "payload = {'key1':'value1','key2':'value2' }\n",
    "r = requests.put('http://httpbin.org/put', data = payload)\n",
    "print(r.text)"
   ]
  },
  {
   "cell_type": "markdown",
   "metadata": {},
   "source": [
    "## Requests库只要方法解析"
   ]
  },
  {
   "cell_type": "markdown",
   "metadata": {},
   "source": [
    "###  requests.request(method, url, \\*\\*kwargs) \n",
    "\n",
    "- method : 请求方式，对应get/put/post等7种\n",
    "- url : 拟获取页面的url链接\n",
    "- `**kwargs`: 控制访问的参数，共13个"
   ]
  },
  {
   "cell_type": "markdown",
   "metadata": {},
   "source": [
    "** method : 请求方式 **\n",
    "\n",
    "r = requests.request('GET', url, \\*\\*kwargs)      \n",
    "r = requests.request('HEAD', url, \\*\\*kwargs)   \n",
    "r = requests.request('POST', url, \\*\\*kwargs)   \n",
    "r = requests.request('PUT', url, \\*\\*kwargs)   \n",
    "r = requests.request('PATCH', url, \\*\\*kwargs)   \n",
    "r = requests.request('delete', url, \\*\\*kwargs)   \n",
    "r = requests.request('OPTIONS', url, \\*\\*kwargs)   "
   ]
  },
  {
   "cell_type": "markdown",
   "metadata": {},
   "source": [
    "** \\*\\*kwargs:控制访问的参数(共13个)，均为可选项  **"
   ]
  },
  {
   "cell_type": "markdown",
   "metadata": {},
   "source": [
    "- params：字典或者字节序列，作为参数增加到url中"
   ]
  },
  {
   "cell_type": "code",
   "execution_count": 11,
   "metadata": {},
   "outputs": [
    {
     "name": "stdout",
     "output_type": "stream",
     "text": [
      "http://python123.io/ws?key2=value2&key1=value1\n"
     ]
    }
   ],
   "source": [
    "kv = {'key1':'value1','key2':'value2' }\n",
    "r = requests.request('GET', 'http://python123.io/ws', params=kv)\n",
    "print(r.url)"
   ]
  },
  {
   "cell_type": "markdown",
   "metadata": {},
   "source": [
    "- data: 字典、字节序列或文件对象，作为Request的内容"
   ]
  },
  {
   "cell_type": "markdown",
   "metadata": {},
   "source": [
    "```python\n",
    "kv = {'key1': 'value1', 'key2': 'value2'}\n",
    "r = requests.request('POST', 'http://python123.io/ws', data=kv)\n",
    "body = '主体内容'\n",
    "r = requests.request('POST', 'http://python123.io/ws', data=body)\n",
    "```"
   ]
  },
  {
   "cell_type": "markdown",
   "metadata": {},
   "source": [
    "- json:JSON格式的数据，最为Request的内容\n",
    "- headers：字典，HTTP定制头\n",
    "- cookies : 字典或CookieJar，Request中的cookie\n",
    "- auth : 元组，支持HTTP认证功能\n",
    "- files : 字典类型，传输文件\n",
    "- timeout : 设定超时时间，秒为单位\n",
    "- proxies : 字典类型，设定访问代理服务器，可以增加登录认证\n",
    "- allow_redirects : True/False，默认为True，重定向开关\n",
    "- stream : True/False，默认为True，获取内容立即下载开关\n",
    "- verify : True/False，默认为True，认证SSL证书开关\n",
    "- cert : 本地SSL证书路径"
   ]
  },
  {
   "cell_type": "markdown",
   "metadata": {},
   "source": [
    "### requests.get(url, params=None, \\*\\*kwargs)"
   ]
  },
  {
   "cell_type": "markdown",
   "metadata": {},
   "source": [
    "- url : 拟获取页面的url链接\n",
    "- params : url中的额外参数，字典或字节流格式，可选\n",
    "- \\*\\*kwargs: 12个控制访问的参数(除了params)"
   ]
  },
  {
   "cell_type": "markdown",
   "metadata": {},
   "source": [
    "### requests.head(url, \\*\\*kwargs)\n",
    "\n",
    "- url : 拟获取页面的url链接\n",
    "- \\*\\*kwargs: 13个控制访问的参数"
   ]
  },
  {
   "cell_type": "markdown",
   "metadata": {},
   "source": [
    "### requests.post(url, data=None, json=None, \\*\\*kwargs)\n",
    "\n",
    "- url : 拟更新页面的url链接\n",
    "- data : 字典、字节序列或文件，Request的内容\n",
    "- json : JSON格式的数据，Request的内容\n",
    "- \\*\\*kwargs: 12个控制访问的参数"
   ]
  },
  {
   "cell_type": "markdown",
   "metadata": {},
   "source": [
    "### requests.put(url, data=None, \\*\\*kwargs)\n",
    "\n",
    "- url : 拟更新页面的url链接\n",
    "- data : 字典、字节序列或文件，Request的内容\n",
    "- \\*\\*kwargs: 12个控制访问的参数"
   ]
  },
  {
   "cell_type": "markdown",
   "metadata": {},
   "source": [
    "### requests.patch(url, data=None, \\*\\*kwargs)\n",
    "\n",
    "- url : 拟更新页面的url链接\n",
    "- data : 字典、字节序列或文件，Request的内容\n",
    "- \\*\\*kwargs: 12个控制访问的参数"
   ]
  },
  {
   "cell_type": "markdown",
   "metadata": {},
   "source": [
    "### requests.delete(url, \\*\\*kwargs)\n",
    "\n",
    "- url : 拟删除页面的url链接\n",
    "- \\*\\*kwargs: 12个控制访问的参数"
   ]
  },
  {
   "cell_type": "code",
   "execution_count": null,
   "metadata": {
    "collapsed": true
   },
   "outputs": [],
   "source": []
  }
 ],
 "metadata": {
  "anaconda-cloud": {},
  "kernelspec": {
   "display_name": "Python 3",
   "language": "python",
   "name": "python3"
  },
  "language_info": {
   "codemirror_mode": {
    "name": "ipython",
    "version": 3
   },
   "file_extension": ".py",
   "mimetype": "text/x-python",
   "name": "python",
   "nbconvert_exporter": "python",
   "pygments_lexer": "ipython3",
   "version": "3.6.1"
  }
 },
 "nbformat": 4,
 "nbformat_minor": 1
}
