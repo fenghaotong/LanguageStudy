{
 "cells": [
  {
   "cell_type": "markdown",
   "metadata": {},
   "source": [
    "# 股票数据定向爬虫"
   ]
  },
  {
   "cell_type": "markdown",
   "metadata": {},
   "source": [
    "** 功能描述 **\n",
    "\n",
    "- 目标：获取上交所和深交所所有股票的名称和交易信息\n",
    "- 输出：保存到文件中\n",
    "- 技术路线：requests‐bs4‐re"
   ]
  },
  {
   "cell_type": "markdown",
   "metadata": {},
   "source": [
    "** 程序结构设计 **\n",
    "\n",
    "- 步骤1：从东方财富网获取股票列表\n",
    "- 步骤2：根据股票列表逐个到百度股票获取个股信息\n",
    "- 步骤3：将结果存储到文件"
   ]
  },
  {
   "cell_type": "markdown",
   "metadata": {},
   "source": [
    "** 代码编写 **"
   ]
  },
  {
   "cell_type": "code",
   "execution_count": 1,
   "metadata": {},
   "outputs": [],
   "source": [
    "import requests\n",
    "from bs4 import BeautifulSoup\n",
    "import traceback\n",
    "import re"
   ]
  },
  {
   "cell_type": "code",
   "execution_count": 2,
   "metadata": {
    "collapsed": true
   },
   "outputs": [],
   "source": [
    "def getHTMLText(url, code = 'utf-8'):\n",
    "    try:\n",
    "        r = requests.get(url)\n",
    "        r.raise_for_status()\n",
    "        r.encoding = code\n",
    "        return r.text\n",
    "    except:\n",
    "        return \"\""
   ]
  },
  {
   "cell_type": "code",
   "execution_count": 3,
   "metadata": {
    "collapsed": true
   },
   "outputs": [],
   "source": [
    "def getStockList(lst, stockURL):\n",
    "    html = getHTMLText(stockURL, \"GB2312\")\n",
    "    soup = BeautifulSoup(html, 'html.parser')\n",
    "    a = soup.find_all('a')\n",
    "    for i in a:\n",
    "        try:\n",
    "            href = i.attrs['href']\n",
    "            lst.append(re.findall(r'[s][hz]\\d{6}', href)[0])\n",
    "        except:\n",
    "            continue"
   ]
  },
  {
   "cell_type": "code",
   "execution_count": 4,
   "metadata": {},
   "outputs": [],
   "source": [
    "def getStockInfo(lst, stockURL, fpath):\n",
    "    count = 0\n",
    "    for stock in lst:\n",
    "        url = stockURL + stock + \".html\"\n",
    "        html = getHTMLText(url)\n",
    "        try:\n",
    "            if html == \"\":\n",
    "                continue\n",
    "            infoDict = {}\n",
    "            soup = BeautifulSoup(html, 'html.parser')\n",
    "            stockInfo = soup.find('div', attrs = {'class':'stock-bets'})\n",
    "            \n",
    "            name = stockInfo.find_all(attrs = {'class':'stock-name'})[0]\n",
    "            infoDict.update({'股票名称':name.text.split()[0]})\n",
    "            \n",
    "            keyList = stockInfo.find_all('dt')\n",
    "            valueList = stockInfo.find_all('dd')\n",
    "            for i in range(len(keyList)):\n",
    "                key = keyList[i].text\n",
    "                val = valueList[i].text\n",
    "                infoDict[key] = val\n",
    "                \n",
    "            with oprn(fpath, 'a', encoding = 'utf-8') as f:\n",
    "                f.write(str(infoDict) + '\\n')\n",
    "                count = count + 1\n",
    "                print('\\r当前进度:{:.2f}%'.format(count*100/len(lst)), end = \"\")\n",
    "        except:\n",
    "            count = count + 1\n",
    "            print('\\r当前进度:{:.2f}%'.format(count*100/len(lst)), end = \"\")\n",
    "            continue"
   ]
  },
  {
   "cell_type": "code",
   "execution_count": 5,
   "metadata": {
    "collapsed": true
   },
   "outputs": [],
   "source": [
    "def main():\n",
    "    stock_list_url = 'http://quote.eastmoney.com/stocklist.html'\n",
    "    stock_info_url = 'https://gupiao.baidu.com/stock/'\n",
    "    output_file = 'C://Users//FHT//Documents//GitHub//MyStudy//Computer//Python//Code//Python网络爬虫与信息提取//BaiduStockInfo.txt'\n",
    "    slist = []\n",
    "    getStockList(slist, stock_list_url)\n",
    "    getStockInfo(slist, stock_info_url, output_file)"
   ]
  },
  {
   "cell_type": "code",
   "execution_count": 6,
   "metadata": {},
   "outputs": [
    {
     "name": "stdout",
     "output_type": "stream",
     "text": [
      "当前进度:99.95%"
     ]
    }
   ],
   "source": [
    "main()"
   ]
  },
  {
   "cell_type": "code",
   "execution_count": null,
   "metadata": {
    "collapsed": true
   },
   "outputs": [],
   "source": []
  }
 ],
 "metadata": {
  "kernelspec": {
   "display_name": "Python 3",
   "language": "python",
   "name": "python3"
  },
  "language_info": {
   "codemirror_mode": {
    "name": "ipython",
    "version": 3
   },
   "file_extension": ".py",
   "mimetype": "text/x-python",
   "name": "python",
   "nbconvert_exporter": "python",
   "pygments_lexer": "ipython3",
   "version": "3.6.1"
  }
 },
 "nbformat": 4,
 "nbformat_minor": 1
}
