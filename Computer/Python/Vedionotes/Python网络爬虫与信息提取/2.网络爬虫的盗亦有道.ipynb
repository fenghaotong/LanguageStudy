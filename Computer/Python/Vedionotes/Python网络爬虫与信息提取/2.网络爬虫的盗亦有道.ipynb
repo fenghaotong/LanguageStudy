{
 "cells": [
  {
   "cell_type": "markdown",
   "metadata": {},
   "source": [
    "# 网络爬虫的盗亦有道"
   ]
  },
  {
   "cell_type": "markdown",
   "metadata": {
    "collapsed": true
   },
   "source": [
    "## 网络爬虫的限制"
   ]
  },
  {
   "cell_type": "markdown",
   "metadata": {},
   "source": [
    "- 来源审查：：判断User‐Agent进行限制      \n",
    "检查来访HTTP协议头的User‐Agent域，只响应浏览器或友好爬虫的访问\n",
    "\n",
    "- 发布公告：Robots协议    \n",
    "告知所有爬虫网站的爬取策略，要求爬虫遵守"
   ]
  },
  {
   "cell_type": "markdown",
   "metadata": {},
   "source": [
    "### Robots协议\n"
   ]
  },
  {
   "cell_type": "markdown",
   "metadata": {},
   "source": [
    "- 作用：网站告知网络爬虫哪些页面可以抓取，哪些不行\n",
    "- 形式：在网站根目录下的robots.txt文件"
   ]
  },
  {
   "cell_type": "markdown",
   "metadata": {},
   "source": [
    "京东的Robots协议\n",
    "```\n",
    "User-agent: *   ：什么形式的爬虫都要符合以下协议\n",
    "Disallow: /?* \n",
    "Disallow: /pop/*.html \n",
    "Disallow: /pinpai/*.html?* \n",
    "User-agent: EtaoSpider \n",
    "Disallow: / \n",
    "User-agent: HuihuiSpider \n",
    "Disallow: / \n",
    "User-agent: GwdangSpider \n",
    "Disallow: / \n",
    "User-agent: WochachaSpider \n",
    "Disallow: /\n",
    "```\n",
    "\n",
    "> 注释，*代表所有，/代表根目录"
   ]
  },
  {
   "cell_type": "markdown",
   "metadata": {},
   "source": [
    "** Robots协议的遵守方式 **"
   ]
  },
  {
   "cell_type": "markdown",
   "metadata": {},
   "source": [
    "- 网络爬虫：    \n",
    "自动或人工识别robots.txt，再进行内容爬取\n",
    "\n",
    "- 约束性：  \n",
    "Robots协议是建议但非约束性，网络爬虫可以不遵守，但存在法律风险"
   ]
  },
  {
   "cell_type": "code",
   "execution_count": null,
   "metadata": {
    "collapsed": true
   },
   "outputs": [],
   "source": []
  }
 ],
 "metadata": {
  "kernelspec": {
   "display_name": "Python [Root]",
   "language": "python",
   "name": "Python [Root]"
  },
  "language_info": {
   "codemirror_mode": {
    "name": "ipython",
    "version": 3
   },
   "file_extension": ".py",
   "mimetype": "text/x-python",
   "name": "python",
   "nbconvert_exporter": "python",
   "pygments_lexer": "ipython3",
   "version": "3.5.1"
  }
 },
 "nbformat": 4,
 "nbformat_minor": 0
}
