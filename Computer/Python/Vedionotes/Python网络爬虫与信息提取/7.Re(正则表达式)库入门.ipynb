{
 "cells": [
  {
   "cell_type": "markdown",
   "metadata": {},
   "source": [
    "# Re(正则表达式)库入门"
   ]
  },
  {
   "cell_type": "code",
   "execution_count": 1,
   "metadata": {
    "collapsed": true
   },
   "outputs": [],
   "source": [
    "import re"
   ]
  },
  {
   "cell_type": "markdown",
   "metadata": {},
   "source": [
    "|操作符| 说明| 实例|\n",
    "|:----:|:-----|:-----|\n",
    "|. |表示任何单个字符||\n",
    "|[ ]| 字符集，对单个字符给出取值范围 |[abc]表示a、b、c，[a‐z]表示a到z单个字符|\n",
    "|[^ ] |非字符集，对单个字符给出排除范围| [^abc]表示非a或b或c的单个字符|\n",
    "|\\* |前一个字符0次或无限次扩展 |abc\\* 表示 ab、abc、abcc、abccc等|\n",
    "|+ |前一个字符1次或无限次扩展 |abc+ 表示 abc、abcc、abccc等|\n",
    "|? |前一个字符0次或1次扩展 |abc? 表示 ab、abc|\n",
    "| 竖线 |左右表达式任意一个 |abc竖线def 表示 abc、def|\n",
    "|{m}| 扩展前一个字符m次 |ab{2}c表示abbc|\n",
    "|{m,n}| 扩展前一个字符m至n次（含n）| ab{1,2}c表示abc、abbc|\n",
    "|`^` |匹配字符串开头| ^abc表示abc且在一个字符串的开头|\n",
    "|`$`| 匹配字符串结尾 |abc$表示abc且在一个字符串的结尾|\n",
    "|( )| 分组标记，内部只能使用 ‘竖线’ 操作符 |(abc)表示abc，(abc竖线def)表示abc、def|\n",
    "|\\d |数字，等价于[0‐9]||\n",
    "|\\w |单词字符，等价于[A‐Za‐z0‐9\\_]||"
   ]
  },
  {
   "cell_type": "markdown",
   "metadata": {},
   "source": [
    "## Re库的使用"
   ]
  },
  {
   "cell_type": "markdown",
   "metadata": {},
   "source": [
    "### 正则表达式的表示类型"
   ]
  },
  {
   "cell_type": "markdown",
   "metadata": {},
   "source": [
    "** raw string类型 （原生字符串类型）**\n",
    "\n",
    "- re库采用raw string类型表达正则表达式，表示为：r‘text’\n",
    "> raw string是不包含对转义符再次转义的字符串"
   ]
  },
  {
   "cell_type": "markdown",
   "metadata": {},
   "source": [
    "- re库也可以采用string类型表示正则表达式，但更繁琐\n",
    "\n",
    "```python\n",
    "'[1‐9]\\\\d{5}'\n",
    "'\\\\d{3}‐\\\\d{8}|\\\\d{4}‐\\\\d{7}'\n",
    "```"
   ]
  },
  {
   "cell_type": "markdown",
   "metadata": {},
   "source": [
    "### Re库的主要功能函数"
   ]
  },
  {
   "cell_type": "markdown",
   "metadata": {},
   "source": [
    "|函数| 说明|\n",
    "|:------:|:-----|\n",
    "|re.search() |在一个字符串中搜索匹配正则表达式的第一个位置，返回match对象|\n",
    "|re.match() |从一个字符串的开始位置起匹配正则表达式，返回match对象|\n",
    "|re.findall()| 搜索字符串，以列表类型返回全部能匹配的子串|\n",
    "|re.split() |将一个字符串按照正则表达式匹配结果进行分割，返回列表类型|\n",
    "|re.finditer()| 搜索字符串，返回一个匹配结果的迭代类型，每个迭代元素是match对象|\n",
    "|re.sub()| 在一个字符串中替换所有匹配正则表达式的子串，返回替换后的字符串|"
   ]
  },
  {
   "cell_type": "markdown",
   "metadata": {},
   "source": [
    "** re.search(pattern, string, flags=0) **\n",
    "\n",
    "- 在一个字符串中搜索匹配正则表达式的第一个位置返回match对象\n",
    "- pattern : 正则表达式的字符串或原生字符串表示\n",
    "- string : 待匹配字符串\n",
    "- flags : 正则表达式使用时的控制标记"
   ]
  },
  {
   "cell_type": "markdown",
   "metadata": {},
   "source": [
    "flags\n",
    "\n",
    "|常用标记 |说明|\n",
    "|:------:|:-----|\n",
    "|re.I re.IGNORECASE |忽略正则表达式的大小写，[A‐Z]能够匹配小写字符|\n",
    "|re.M re.MULTILINE |正则表达式中的^操作符能够将给定字符串的每行当作匹配开始|\n",
    "|re.S re.DOTALL |正则表达式中的.操作符能够匹配所有字符，默认匹配除换行外的所有字符|"
   ]
  },
  {
   "cell_type": "code",
   "execution_count": 5,
   "metadata": {
    "collapsed": true
   },
   "outputs": [],
   "source": [
    "match = re.search(r'[1-9]\\d{5}', 'BIT 100081')"
   ]
  },
  {
   "cell_type": "code",
   "execution_count": 6,
   "metadata": {
    "collapsed": false
   },
   "outputs": [
    {
     "name": "stdout",
     "output_type": "stream",
     "text": [
      "100081\n"
     ]
    }
   ],
   "source": [
    "if match:\n",
    "    print(match.group(0))"
   ]
  },
  {
   "cell_type": "markdown",
   "metadata": {},
   "source": [
    "** re.match(pattern, string, flags=0) **\n",
    "\n",
    "- 从一个字符串的开始位置起匹配正则表达式返回match对象\n",
    "- pattern : 正则表达式的字符串或原生字符串表示\n",
    "- string : 待匹配字符串\n",
    "- flags : 正则表达式使用时的控制标记"
   ]
  },
  {
   "cell_type": "code",
   "execution_count": 7,
   "metadata": {
    "collapsed": true
   },
   "outputs": [],
   "source": [
    "match = re.match(r'[1-9]\\d{5}', 'BIT 100081')"
   ]
  },
  {
   "cell_type": "code",
   "execution_count": 8,
   "metadata": {
    "collapsed": true
   },
   "outputs": [],
   "source": [
    "if match:\n",
    "    match.group(0)"
   ]
  },
  {
   "cell_type": "code",
   "execution_count": 11,
   "metadata": {
    "collapsed": true
   },
   "outputs": [],
   "source": [
    "match = re.match(r'[1-9]\\d{5}', '100081 BIT 100081')"
   ]
  },
  {
   "cell_type": "code",
   "execution_count": 14,
   "metadata": {
    "collapsed": false
   },
   "outputs": [
    {
     "name": "stdout",
     "output_type": "stream",
     "text": [
      "100081\n"
     ]
    }
   ],
   "source": [
    "if match:\n",
    "    print(match.group(0))"
   ]
  },
  {
   "cell_type": "markdown",
   "metadata": {},
   "source": [
    "** re.findall(pattern, string, flags=0) **\n",
    "\n",
    "- 搜索字符串，以列表类型返回全部能匹配的子串\n",
    "- pattern : 正则表达式的字符串或原生字符串表示\n",
    "- string : 待匹配字符串\n",
    "- flags : 正则表达式使用时的控制标记"
   ]
  },
  {
   "cell_type": "code",
   "execution_count": 15,
   "metadata": {
    "collapsed": true
   },
   "outputs": [],
   "source": [
    "ls = re.findall(r'[1-9]\\d{5}', 'BIT100081 TSU100084')"
   ]
  },
  {
   "cell_type": "code",
   "execution_count": 17,
   "metadata": {
    "collapsed": false
   },
   "outputs": [
    {
     "data": {
      "text/plain": [
       "['100081', '100084']"
      ]
     },
     "execution_count": 17,
     "metadata": {},
     "output_type": "execute_result"
    }
   ],
   "source": [
    "ls"
   ]
  },
  {
   "cell_type": "markdown",
   "metadata": {},
   "source": [
    "** re.split(pattern, string, maxsplit=0, flags=0) **\n",
    "\n",
    "- 将一个字符串按照正则表达式匹配结果进行分割返回列表类型\n",
    "- maxsplit: 最大分割数，剩余部分作为最后一个元素输出\n",
    "- pattern : 正则表达式的字符串或原生字符串表示\n",
    "- string : 待匹配字符串\n",
    "- flags : 正则表达式使用时的控制标记"
   ]
  },
  {
   "cell_type": "code",
   "execution_count": 18,
   "metadata": {
    "collapsed": false
   },
   "outputs": [
    {
     "data": {
      "text/plain": [
       "['BIT', ' TSU', '']"
      ]
     },
     "execution_count": 18,
     "metadata": {},
     "output_type": "execute_result"
    }
   ],
   "source": [
    "re.split(r'[1-9]\\d{5}', 'BIT100081 TSU100084')"
   ]
  },
  {
   "cell_type": "code",
   "execution_count": 19,
   "metadata": {
    "collapsed": false
   },
   "outputs": [
    {
     "data": {
      "text/plain": [
       "['BIT', ' TSU100084']"
      ]
     },
     "execution_count": 19,
     "metadata": {},
     "output_type": "execute_result"
    }
   ],
   "source": [
    "re.split(r'[1-9]\\d{5}', 'BIT100081 TSU100084', maxsplit = 1)"
   ]
  },
  {
   "cell_type": "markdown",
   "metadata": {},
   "source": [
    "** re.finditer(pattern, string, flags=0) **\n",
    "\n",
    "- 搜索字符串，返回一个匹配结果的迭代类型，每个迭代元素是match对象\n",
    "- pattern : 正则表达式的字符串或原生字符串表示\n",
    "- string : 待匹配字符串\n",
    "- flags : 正则表达式使用时的控制标记"
   ]
  },
  {
   "cell_type": "code",
   "execution_count": 20,
   "metadata": {
    "collapsed": false
   },
   "outputs": [
    {
     "name": "stdout",
     "output_type": "stream",
     "text": [
      "100081\n",
      "100084\n"
     ]
    }
   ],
   "source": [
    "for m in re.finditer(r'[1-9]\\d{5}', 'BIT100081 TSU100084'):\n",
    "    if m:\n",
    "        print(m.group(0))"
   ]
  },
  {
   "cell_type": "markdown",
   "metadata": {},
   "source": [
    "** re.sub(pattern, repl, string, count=0, flags=0) **\n",
    "\n",
    "- 在一个字符串中替换所有匹配正则表达式的子串返回替换后的字符串\n",
    "- pattern : 正则表达式的字符串或原生字符串表示\n",
    "- repl : 替换匹配字符串的字符串\n",
    "- string : 待匹配字符串\n",
    "- count : 匹配的最大替换次数\n",
    "- flags : 正则表达式使用时的控制标记"
   ]
  },
  {
   "cell_type": "code",
   "execution_count": 21,
   "metadata": {
    "collapsed": false
   },
   "outputs": [
    {
     "data": {
      "text/plain": [
       "'BIT:zipcode TSU:zipcode'"
      ]
     },
     "execution_count": 21,
     "metadata": {},
     "output_type": "execute_result"
    }
   ],
   "source": [
    "re.sub(r'[1-9]\\d{5}', ':zipcode', 'BIT100081 TSU100084')"
   ]
  },
  {
   "cell_type": "markdown",
   "metadata": {},
   "source": [
    "- 使用面向对象的方法"
   ]
  },
  {
   "cell_type": "code",
   "execution_count": 22,
   "metadata": {
    "collapsed": true
   },
   "outputs": [],
   "source": [
    "pat = re.compile(r'[1-9]\\d{5}')\n",
    "rst = pat.search('BIT 100081')"
   ]
  },
  {
   "cell_type": "code",
   "execution_count": 24,
   "metadata": {
    "collapsed": false
   },
   "outputs": [
    {
     "data": {
      "text/plain": [
       "'100081'"
      ]
     },
     "execution_count": 24,
     "metadata": {},
     "output_type": "execute_result"
    }
   ],
   "source": [
    "rst.group(0)"
   ]
  },
  {
   "cell_type": "markdown",
   "metadata": {},
   "source": [
    "## Re库的match对象"
   ]
  },
  {
   "cell_type": "code",
   "execution_count": 28,
   "metadata": {
    "collapsed": true
   },
   "outputs": [],
   "source": [
    "m = re.search(r'[1-9]\\d{5}', 'BIT 100081')"
   ]
  },
  {
   "cell_type": "code",
   "execution_count": 29,
   "metadata": {
    "collapsed": false
   },
   "outputs": [
    {
     "name": "stdout",
     "output_type": "stream",
     "text": [
      "100081\n"
     ]
    }
   ],
   "source": [
    "if m:\n",
    "    print(m.group(0))"
   ]
  },
  {
   "cell_type": "code",
   "execution_count": 30,
   "metadata": {
    "collapsed": false
   },
   "outputs": [
    {
     "data": {
      "text/plain": [
       "_sre.SRE_Match"
      ]
     },
     "execution_count": 30,
     "metadata": {},
     "output_type": "execute_result"
    }
   ],
   "source": [
    "type(m)"
   ]
  },
  {
   "cell_type": "markdown",
   "metadata": {},
   "source": [
    "- match对象的属性\n",
    "\n",
    "|属性| 说明|\n",
    "|:-----:|:-----|\n",
    "|.string |待匹配的文本|\n",
    "|.re |匹配时使用的patter对象（正则表达式）|\n",
    "|.pos| 正则表达式搜索文本的开始位置|\n",
    "|.endpos |正则表达式搜索文本的结束位置|"
   ]
  },
  {
   "cell_type": "markdown",
   "metadata": {},
   "source": [
    "- Match对象的方法\n",
    "\n",
    "|方法 |说明|\n",
    "|:----:|:----|\n",
    "|.group(0)| 获得匹配后的字符串|\n",
    "|.start()| 匹配字符串在原始字符串的开始位置|\n",
    "|.end()| 匹配字符串在原始字符串的结束位置|\n",
    "|.span()| 返回(.start(), .end())|"
   ]
  },
  {
   "cell_type": "code",
   "execution_count": 31,
   "metadata": {
    "collapsed": false
   },
   "outputs": [
    {
     "data": {
      "text/plain": [
       "'BIT 100081'"
      ]
     },
     "execution_count": 31,
     "metadata": {},
     "output_type": "execute_result"
    }
   ],
   "source": [
    "m.string"
   ]
  },
  {
   "cell_type": "code",
   "execution_count": 32,
   "metadata": {
    "collapsed": false
   },
   "outputs": [
    {
     "data": {
      "text/plain": [
       "re.compile(r'[1-9]\\d{5}', re.UNICODE)"
      ]
     },
     "execution_count": 32,
     "metadata": {},
     "output_type": "execute_result"
    }
   ],
   "source": [
    "m.re"
   ]
  },
  {
   "cell_type": "code",
   "execution_count": 33,
   "metadata": {
    "collapsed": false
   },
   "outputs": [
    {
     "data": {
      "text/plain": [
       "0"
      ]
     },
     "execution_count": 33,
     "metadata": {},
     "output_type": "execute_result"
    }
   ],
   "source": [
    "m.pos"
   ]
  },
  {
   "cell_type": "code",
   "execution_count": 34,
   "metadata": {
    "collapsed": false
   },
   "outputs": [
    {
     "data": {
      "text/plain": [
       "10"
      ]
     },
     "execution_count": 34,
     "metadata": {},
     "output_type": "execute_result"
    }
   ],
   "source": [
    "m.endpos"
   ]
  },
  {
   "cell_type": "code",
   "execution_count": 35,
   "metadata": {
    "collapsed": false
   },
   "outputs": [
    {
     "data": {
      "text/plain": [
       "'100081'"
      ]
     },
     "execution_count": 35,
     "metadata": {},
     "output_type": "execute_result"
    }
   ],
   "source": [
    "m.group(0)"
   ]
  },
  {
   "cell_type": "code",
   "execution_count": 37,
   "metadata": {
    "collapsed": false
   },
   "outputs": [
    {
     "data": {
      "text/plain": [
       "4"
      ]
     },
     "execution_count": 37,
     "metadata": {},
     "output_type": "execute_result"
    }
   ],
   "source": [
    "m.start()"
   ]
  },
  {
   "cell_type": "code",
   "execution_count": 38,
   "metadata": {
    "collapsed": false
   },
   "outputs": [
    {
     "data": {
      "text/plain": [
       "10"
      ]
     },
     "execution_count": 38,
     "metadata": {},
     "output_type": "execute_result"
    }
   ],
   "source": [
    "m.end()"
   ]
  },
  {
   "cell_type": "code",
   "execution_count": 39,
   "metadata": {
    "collapsed": false
   },
   "outputs": [
    {
     "data": {
      "text/plain": [
       "(4, 10)"
      ]
     },
     "execution_count": 39,
     "metadata": {},
     "output_type": "execute_result"
    }
   ],
   "source": [
    "m.span()"
   ]
  },
  {
   "cell_type": "markdown",
   "metadata": {},
   "source": [
    "## Re库的贪婪匹配和最小匹配\n",
    "\n",
    "- 加问号"
   ]
  },
  {
   "cell_type": "code",
   "execution_count": 40,
   "metadata": {
    "collapsed": false
   },
   "outputs": [
    {
     "data": {
      "text/plain": [
       "'PYANBNCNDN'"
      ]
     },
     "execution_count": 40,
     "metadata": {},
     "output_type": "execute_result"
    }
   ],
   "source": [
    "match = re.search(r'PY.*N', 'PYANBNCNDN')\n",
    "match.group(0)"
   ]
  },
  {
   "cell_type": "code",
   "execution_count": 41,
   "metadata": {
    "collapsed": false
   },
   "outputs": [
    {
     "data": {
      "text/plain": [
       "'PYAN'"
      ]
     },
     "execution_count": 41,
     "metadata": {},
     "output_type": "execute_result"
    }
   ],
   "source": [
    "match = re.search(r'PY.*?N', 'PYANBNCNDN')\n",
    "match.group(0)"
   ]
  }
 ],
 "metadata": {
  "kernelspec": {
   "display_name": "Python [Root]",
   "language": "python",
   "name": "Python [Root]"
  },
  "language_info": {
   "codemirror_mode": {
    "name": "ipython",
    "version": 3
   },
   "file_extension": ".py",
   "mimetype": "text/x-python",
   "name": "python",
   "nbconvert_exporter": "python",
   "pygments_lexer": "ipython3",
   "version": "3.5.1"
  }
 },
 "nbformat": 4,
 "nbformat_minor": 0
}
