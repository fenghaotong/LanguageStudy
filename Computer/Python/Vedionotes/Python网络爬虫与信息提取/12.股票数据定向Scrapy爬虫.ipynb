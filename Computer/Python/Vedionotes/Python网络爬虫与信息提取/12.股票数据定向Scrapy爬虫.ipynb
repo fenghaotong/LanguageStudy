{
 "cells": [
  {
   "cell_type": "markdown",
   "metadata": {},
   "source": [
    "# 股票数据定向Scrapy爬虫"
   ]
  },
  {
   "cell_type": "markdown",
   "metadata": {},
   "source": [
    "- 步骤1：建立工程和Spider模板\n",
    "- 步骤2：编写Spider\n",
    "- 步骤3：编写ITEM Pipelines"
   ]
  },
  {
   "cell_type": "markdown",
   "metadata": {},
   "source": [
    "** 步骤1 **\n",
    "\n",
    "- 建立工程和spider模板"
   ]
  },
  {
   "cell_type": "markdown",
   "metadata": {},
   "source": [
    "```\n",
    "\\>scrapy startproject BaiduStocks   \n",
    "\\>cd BaiduStocks   \n",
    "\\>scrapy genspider stocks baidu.com  \n",
    "```\n",
    "进一步修改spiders/stocks.py文件  "
   ]
  },
  {
   "cell_type": "markdown",
   "metadata": {},
   "source": [
    "** 步骤2 **"
   ]
  },
  {
   "cell_type": "markdown",
   "metadata": {},
   "source": [
    "- 配置stocks.py文件\n",
    "- 修改对返回页面的处理\n",
    "- 修改对新增URL爬取请求的处理"
   ]
  },
  {
   "cell_type": "markdown",
   "metadata": {},
   "source": [
    "** 步骤3 **\n",
    "\n",
    "- 编写Pipelines"
   ]
  },
  {
   "cell_type": "markdown",
   "metadata": {},
   "source": [
    "- 配置pipelines.py文件\n",
    "- 定义对爬取项（Scraped Item）的处理类\n",
    "- 配置ITEM_PIPELINES选项"
   ]
  },
  {
   "cell_type": "markdown",
   "metadata": {},
   "source": [
    "## 优化\n",
    "\n",
    "- setting.py文件"
   ]
  },
  {
   "cell_type": "markdown",
   "metadata": {},
   "source": [
    "|选项 |说明|\n",
    "|:----:|:-----|\n",
    "|CONCURRENT_REQUESTS |Downloader最大并发请求下载数量，默认32|\n",
    "|CONCURRENT_ITEMS Item |Pipeline最大并发ITEM处理数量，默认100|\n",
    "|CONCURRENT_REQUESTS_PER_DOMAIN |每个目标域名最大的并发请求数量，默认8|\n",
    "|CONCURRENT_REQUESTS_PER_IP| 每个目标IP最大的并发请求数量，默认0，非0有效|"
   ]
  },
  {
   "cell_type": "code",
   "execution_count": null,
   "metadata": {
    "collapsed": true
   },
   "outputs": [],
   "source": []
  }
 ],
 "metadata": {
  "kernelspec": {
   "display_name": "Python [Root]",
   "language": "python",
   "name": "Python [Root]"
  },
  "language_info": {
   "codemirror_mode": {
    "name": "ipython",
    "version": 3
   },
   "file_extension": ".py",
   "mimetype": "text/x-python",
   "name": "python",
   "nbconvert_exporter": "python",
   "pygments_lexer": "ipython3",
   "version": "3.5.1"
  }
 },
 "nbformat": 4,
 "nbformat_minor": 0
}
