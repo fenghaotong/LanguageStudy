{
 "cells": [
  {
   "cell_type": "markdown",
   "metadata": {
    "slideshow": {
     "slide_type": "fragment"
    }
   },
   "source": [
    "# 实例1-中国大学排名爬虫"
   ]
  },
  {
   "cell_type": "markdown",
   "metadata": {
    "slideshow": {
     "slide_type": "notes"
    }
   },
   "source": [
    "** 功能描述 **"
   ]
  },
  {
   "cell_type": "markdown",
   "metadata": {},
   "source": [
    "- 输入：大学排名URL链接\n",
    "- 输出：大学排名信息的屏幕输出（排名，大学名称，总分）\n",
    "- 技术路线：requests‐bs4\n",
    "- 定向爬虫：仅对输入URL进行爬取，不扩展爬取"
   ]
  },
  {
   "cell_type": "markdown",
   "metadata": {},
   "source": [
    "** 程序的机构设计 **"
   ]
  },
  {
   "cell_type": "markdown",
   "metadata": {},
   "source": [
    "- 步骤1：从网络上获取大学排名网页内容（getHTMLText()）\n",
    "- 步骤2：提取网页内容中信息到合适的数据结构（fillUnivList()）\n",
    "- 步骤3：利用数据结构展示并输出结果（printUnivList()）"
   ]
  },
  {
   "cell_type": "code",
   "execution_count": 12,
   "metadata": {
    "collapsed": true
   },
   "outputs": [],
   "source": [
    "import requests\n",
    "from bs4 import BeautifulSoup\n",
    "import bs4"
   ]
  },
  {
   "cell_type": "code",
   "execution_count": 13,
   "metadata": {
    "collapsed": true
   },
   "outputs": [],
   "source": [
    "def getHTMLText(url):\n",
    "    try:\n",
    "        r = requests.get(url, timeout = 30)\n",
    "        r.raise_for_status()\n",
    "        r.encoding = r.apparent_encoding\n",
    "        return r.text\n",
    "    except:\n",
    "        return \"\""
   ]
  },
  {
   "cell_type": "code",
   "execution_count": 22,
   "metadata": {
    "collapsed": true
   },
   "outputs": [],
   "source": [
    "def fillUnivList(ulist,html):\n",
    "    demo = html\n",
    "    soup = BeautifulSoup(demo, \"html.parser\")\n",
    "    for tr in soup.find('tbody').children:\n",
    "        if isinstance(tr, bs4.element.Tag):\n",
    "            tds = tr('td')\n",
    "            ulist.append([tds[0].string,tds[1].string, tds[2].string])"
   ]
  },
  {
   "cell_type": "code",
   "execution_count": 26,
   "metadata": {
    "collapsed": true
   },
   "outputs": [],
   "source": [
    "def printUnivList(ulist,num):\n",
    "    print(\"{:^10}\\t{:^6}\\t{:^10}\".format(\"排名\", \"学校名称\", \"总分\"))\n",
    "    for i in range(num):\n",
    "        u = ulist[i]\n",
    "        print(\"{:^10}\\t{:^6}\\t{:^10}\".format(u[0], u[1], u[2]))"
   ]
  },
  {
   "cell_type": "code",
   "execution_count": 27,
   "metadata": {
    "collapsed": true
   },
   "outputs": [],
   "source": [
    "def main():\n",
    "    uinfo = []\n",
    "    url = 'http://www.zuihaodaxue.cn/zuihaodaxuepaiming2016.html'\n",
    "    html = getHTMLText(url)\n",
    "    fillUnivList(uinfo, html)\n",
    "    printUnivList(uinfo, 20)"
   ]
  },
  {
   "cell_type": "code",
   "execution_count": 28,
   "metadata": {},
   "outputs": [
    {
     "name": "stdout",
     "output_type": "stream",
     "text": [
      "    排名    \t 学校名称 \t    总分    \n",
      "    1     \t 清华大学 \t   北京市    \n",
      "    2     \t 北京大学 \t   北京市    \n",
      "    3     \t 浙江大学 \t   浙江省    \n",
      "    4     \t上海交通大学\t   上海市    \n",
      "    5     \t 复旦大学 \t   上海市    \n",
      "    6     \t 南京大学 \t   江苏省    \n",
      "    7     \t中国科学技术大学\t   安徽省    \n",
      "    8     \t哈尔滨工业大学\t   黑龙江省   \n",
      "    9     \t华中科技大学\t   湖北省    \n",
      "    10    \t 中山大学 \t   广东省    \n",
      "    11    \t 东南大学 \t   江苏省    \n",
      "    12    \t 天津大学 \t   天津市    \n",
      "    13    \t 同济大学 \t   上海市    \n",
      "    14    \t北京航空航天大学\t   北京市    \n",
      "    15    \t 四川大学 \t   四川省    \n",
      "    16    \t 武汉大学 \t   湖北省    \n",
      "    17    \t西安交通大学\t   陕西省    \n",
      "    18    \t 南开大学 \t   天津市    \n",
      "    19    \t大连理工大学\t   辽宁省    \n",
      "    20    \t 山东大学 \t   山东省    \n"
     ]
    }
   ],
   "source": [
    "main()"
   ]
  },
  {
   "cell_type": "code",
   "execution_count": 29,
   "metadata": {
    "collapsed": true
   },
   "outputs": [],
   "source": [
    "import requests\n",
    "from bs4 import BeautifulSoup\n",
    "import bs4"
   ]
  },
  {
   "cell_type": "code",
   "execution_count": 34,
   "metadata": {
    "collapsed": true
   },
   "outputs": [],
   "source": [
    "def getHTMLText(url):\n",
    "    try:\n",
    "        r = requests.get(url, timeout = 30)\n",
    "        r.raise_for_status()\n",
    "        r.encoding = r.apparent_encoding\n",
    "        return r.text\n",
    "    except:\n",
    "        return \"\""
   ]
  },
  {
   "cell_type": "code",
   "execution_count": 50,
   "metadata": {
    "collapsed": true
   },
   "outputs": [],
   "source": [
    "def fillUnivList(ulist,html):\n",
    "    demo = html\n",
    "    soup = BeautifulSoup(demo, \"html.parser\")\n",
    "    for tr in soup.find('tbody').children:\n",
    "        if isinstance(tr, bs4.element.Tag):\n",
    "            tds = tr('td')\n",
    "            ulist.append([tds[0].string,tds[1].string, tds[3].string])"
   ]
  },
  {
   "cell_type": "code",
   "execution_count": 60,
   "metadata": {
    "collapsed": true
   },
   "outputs": [],
   "source": [
    "def printUnivList(ulist,num):\n",
    "    tplt = '{0:^10}\\t{1:{3}^10}\\t{2:^10}'\n",
    "    print(tplt.format(\"排名\", \"学校名称\", \"总分\", chr(12288)))\n",
    "    for i in range(num):\n",
    "        u = ulist[i]\n",
    "        print(tplt.format(u[0], u[1], u[2], chr(12288)))"
   ]
  },
  {
   "cell_type": "code",
   "execution_count": 61,
   "metadata": {
    "collapsed": true
   },
   "outputs": [],
   "source": [
    "def main():\n",
    "    uinfo = []\n",
    "    url = 'http://www.zuihaodaxue.cn/zuihaodaxuepaiming2016.html'\n",
    "    html = getHTMLText(url)\n",
    "    fillUnivList(uinfo, html)\n",
    "    printUnivList(uinfo, 20)"
   ]
  },
  {
   "cell_type": "code",
   "execution_count": 62,
   "metadata": {},
   "outputs": [
    {
     "name": "stdout",
     "output_type": "stream",
     "text": [
      "    排名    \t　　　学校名称　　　\t    总分    \n",
      "    1     \t　　　清华大学　　　\t   95.9   \n",
      "    2     \t　　　北京大学　　　\t   82.6   \n",
      "    3     \t　　　浙江大学　　　\t    80    \n",
      "    4     \t　　上海交通大学　　\t   78.7   \n",
      "    5     \t　　　复旦大学　　　\t   70.9   \n",
      "    6     \t　　　南京大学　　　\t   66.1   \n",
      "    7     \t　中国科学技术大学　\t   65.5   \n",
      "    8     \t　哈尔滨工业大学　　\t   63.5   \n",
      "    9     \t　　华中科技大学　　\t   62.9   \n",
      "    10    \t　　　中山大学　　　\t   62.1   \n",
      "    11    \t　　　东南大学　　　\t   61.4   \n",
      "    12    \t　　　天津大学　　　\t   60.8   \n",
      "    13    \t　　　同济大学　　　\t   59.8   \n",
      "    14    \t　北京航空航天大学　\t   59.6   \n",
      "    15    \t　　　四川大学　　　\t   59.4   \n",
      "    16    \t　　　武汉大学　　　\t   59.1   \n",
      "    17    \t　　西安交通大学　　\t   58.9   \n",
      "    18    \t　　　南开大学　　　\t   58.3   \n",
      "    19    \t　　大连理工大学　　\t   56.9   \n",
      "    20    \t　　　山东大学　　　\t   56.3   \n"
     ]
    }
   ],
   "source": [
    "main()"
   ]
  },
  {
   "cell_type": "code",
   "execution_count": null,
   "metadata": {
    "collapsed": true
   },
   "outputs": [],
   "source": []
  }
 ],
 "metadata": {
  "celltoolbar": "Slideshow",
  "kernelspec": {
   "display_name": "Python 3",
   "language": "python",
   "name": "python3"
  },
  "language_info": {
   "codemirror_mode": {
    "name": "ipython",
    "version": 3
   },
   "file_extension": ".py",
   "mimetype": "text/x-python",
   "name": "python",
   "nbconvert_exporter": "python",
   "pygments_lexer": "ipython3",
   "version": "3.6.1"
  }
 },
 "nbformat": 4,
 "nbformat_minor": 1
}
