{
 "cells": [
  {
   "cell_type": "markdown",
   "metadata": {},
   "source": [
    "# Requests库网络爬取实战"
   ]
  },
  {
   "cell_type": "markdown",
   "metadata": {},
   "source": [
    "## 京东商品页面的爬取"
   ]
  },
  {
   "cell_type": "code",
   "execution_count": 1,
   "metadata": {
    "collapsed": false
   },
   "outputs": [
    {
     "name": "stdout",
     "output_type": "stream",
     "text": [
      "<!-- shouji -->\n",
      "<!DOCTYPE HTML>\n",
      "<html lang=\"zh-CN\">\n",
      "<head>\n",
      "    <meta http-equiv=\"Content-Type\" content=\"text/html; charset=gbk\" />\n",
      "    <title>【华为荣耀8】荣耀8 4GB+64GB 全网通4G手机 魅海蓝【行情 报价 价格 评测】-京东</title>\n",
      "    <meta name=\"keywords\" content=\"HUAWEI荣耀8,华为荣耀8,华为荣耀8报价,HUAWEI荣耀8报价\"/>\n",
      "    <meta name=\"description\" content=\"【华为荣耀8】京东JD.COM提供华为荣耀8正品行货，并包括HUAWEI荣耀8网购指南，以及华为荣耀8图片、荣耀8参数、荣耀8评论、荣耀8心得、荣耀8技巧等信息，网购华为荣耀8上京东,放心又轻松\" />\n",
      "    <meta name=\"format-detection\" content=\"telephone=no\">\n",
      "    <meta http-equiv=\"mobile-agent\" content=\"format=xhtml; url=//item.m.jd.com/product/2967929.html\">\n",
      "    <meta http-equiv=\"mobile-agent\" content=\"format=html5; url=//item.m.jd.com/product/2967929.html\">\n",
      "    <meta http-equiv=\"X-UA-Compatible\" content=\"IE=Edge\">\n",
      "    <link rel=\"canonical\" href=\"//item.jd.com/2967929.html\"/>\n",
      "        <link rel=\"dns-prefetch\" href=\"//misc.360buyimg.com\"/>\n",
      "    <link rel=\"dns-prefetch\" href=\"//static.360buyimg.com\"/>\n",
      "    <link rel=\"dns-prefetch\" href=\"//img10.360buyimg.com\"/>\n",
      "    <link rel=\"dns-pre\n"
     ]
    }
   ],
   "source": [
    "import requests\n",
    "\n",
    "url = \"https://item.jd.com/2967929.html\"\n",
    "\n",
    "try:\n",
    "    r = requests.get(url)\n",
    "    r.raise_for_status()\n",
    "    r.encoding = r.apparent_encoding\n",
    "    print(r.text[:1000])\n",
    "except:\n",
    "    print(\"爬取失败\")"
   ]
  },
  {
   "cell_type": "markdown",
   "metadata": {},
   "source": [
    "## 亚马逊商品页码爬取"
   ]
  },
  {
   "cell_type": "markdown",
   "metadata": {},
   "source": [
    "- 一般网站服务器只接收由网页出发的http协议\n",
    "- 下面模拟一个浏览器想亚马逊发送请求"
   ]
  },
  {
   "cell_type": "code",
   "execution_count": 3,
   "metadata": {
    "collapsed": false
   },
   "outputs": [
    {
     "name": "stdout",
     "output_type": "stream",
     "text": [
      "(f);b=b||{};var c=f.logLevel||b.logLevel;c&&c!==k&&c!==m&&c!==n&&c!==p||a.ec++;c&&c!=k||a.ecf++;b.pageURL=\"\"+(e.location?e.location.href:\"\");b.logLevel=c;b.attribution=f.attribution||b.attribution;a.erl.push({ex:f,info:b})}}function l(a,b,c,e,g){d.ueLogError({m:a,f:b,l:c,c:\"\"+e,err:g,fromOnError:1,args:arguments},g?{attribution:g.attribution,logLevel:g.logLevel}:void 0);return!1}var k=\"FATAL\",m=\"ERROR\",n=\"WARN\",p=\"DOWNGRADED\",a={ec:0,ecf:0,\n",
      "pec:0,ts:0,erl:[],ter:[],mxe:50,startTimer:function(){a.ts++;setInterval(function(){d.ue&&a.pec<a.ec&&d.uex(\"at\");a.pec=a.ec},1E4)}};l.skipTrace=1;h.skipTrace=1;h.isStub=1;d.ueLogError=h;d.ue_err=a;e.onerror=l})(ue_csm,window);\n",
      "\n",
      "var ue_url='/gp/product/B01M8L5Z3Y/uedata/unsticky/459-8576100-2350208/Detail/ntpoffrw',\n",
      "ue_sid='459-8576100-2350208',\n",
      "ue_mid='AAHKV2X7AFYLW',\n",
      "ue_sn='www.amazon.cn',\n",
      "ue_furl='fls-cn.amazon.cn',\n",
      "ue_surl='//unagi-cn.amazon.com/1/events/com.amazon.csm.nexusclient.prod',\n",
      "ue_navtiming=1,\n",
      "ue_fcsn=1,\n",
      "ue_isrw=true,\n",
      "ue_fpf='//fls-cn.\n"
     ]
    }
   ],
   "source": [
    "import requests\n",
    "\n",
    "url = \"https://www.amazon.cn/gp/product/B01M8L5Z3Y\"\n",
    "\n",
    "try:\n",
    "    kv = {'User-Agent': 'Mozilla/5.0'}\n",
    "    r = requests.get(url,headers = kv)\n",
    "    r.raise_for_status()\n",
    "    r.encoding = r.apparent_encoding\n",
    "    print(r.text[1000:2000])\n",
    "except:\n",
    "    print(\"爬取失败\")"
   ]
  },
  {
   "cell_type": "markdown",
   "metadata": {},
   "source": [
    "## 百度/360搜索关键词提交"
   ]
  },
  {
   "cell_type": "markdown",
   "metadata": {},
   "source": [
    "- 百度的关键词接口：\n",
    "\n",
    "```\n",
    "http://www.baidu.com/s?wd=keyword\n",
    "```\n",
    "- 360的关键词接口：\n",
    "\n",
    "```\n",
    "http://www.so.com/s?q=keyword\n",
    "```"
   ]
  },
  {
   "cell_type": "markdown",
   "metadata": {},
   "source": [
    "- 如何用python获取关键词"
   ]
  },
  {
   "cell_type": "code",
   "execution_count": 5,
   "metadata": {
    "collapsed": false
   },
   "outputs": [
    {
     "name": "stdout",
     "output_type": "stream",
     "text": [
      "282450\n"
     ]
    }
   ],
   "source": [
    "import requests\n",
    "\n",
    "keyword = \"Python\"\n",
    "\n",
    "try:\n",
    "    kv = {'wd': keyword}\n",
    "    r = requests.get('http://www.baidu.com/s',params = kv)\n",
    "    r.raise_for_status()\n",
    "    r.encoding = r.apparent_encoding\n",
    "    print(len(r.text))\n",
    "except:\n",
    "    print(\"爬取失败\")"
   ]
  },
  {
   "cell_type": "code",
   "execution_count": 6,
   "metadata": {
    "collapsed": false
   },
   "outputs": [
    {
     "name": "stdout",
     "output_type": "stream",
     "text": [
      "209602\n"
     ]
    }
   ],
   "source": [
    "import requests\n",
    "\n",
    "keyword = \"Python\"\n",
    "\n",
    "try:\n",
    "    kv = {'q': keyword}\n",
    "    r = requests.get('http://www.so.com/s',params = kv)\n",
    "    r.raise_for_status()\n",
    "    r.encoding = r.apparent_encoding\n",
    "    print(len(r.text))\n",
    "except:\n",
    "    print(\"爬取失败\")"
   ]
  },
  {
   "cell_type": "markdown",
   "metadata": {},
   "source": [
    "## 网络图片的爬取和存储"
   ]
  },
  {
   "cell_type": "code",
   "execution_count": 12,
   "metadata": {
    "collapsed": false
   },
   "outputs": [
    {
     "name": "stdout",
     "output_type": "stream",
     "text": [
      "文件保存成功\n"
     ]
    }
   ],
   "source": [
    "import requests\n",
    "import os\n",
    "url = \"http://image.nationalgeographic.com.cn/2017/0211/20170211061910157.jpg\"\n",
    "root = \"C://Users//FHT//Desktop//python//python学习//Python网络爬虫与信息提取//图片//\"\n",
    "path = root + url.split('/')[-1]\n",
    "\n",
    "try:\n",
    "    if not os.path.exists(root): \n",
    "        os.mkdir(root)\n",
    "    if not os.path.exists(path):\n",
    "        r = requests.get(url)\n",
    "        with open(path, 'wb') as f:\n",
    "            f.write(r.content)\n",
    "            f.close\n",
    "            print(\"文件保存成功\")\n",
    "    else:\n",
    "        print(\"文件已存在\")\n",
    "except:\n",
    "    print(\"爬取失败\")"
   ]
  },
  {
   "cell_type": "markdown",
   "metadata": {},
   "source": [
    "## IP地址归属地的自动查询"
   ]
  },
  {
   "cell_type": "code",
   "execution_count": 14,
   "metadata": {
    "collapsed": false
   },
   "outputs": [
    {
     "name": "stdout",
     "output_type": "stream",
     "text": [
      "value=\"查询\" class=\"form-btn\" />\r\n",
      "\t\t\t\t\t</form>\r\n",
      "\t\t\t\t</div>\r\n",
      "\t\t\t\t<div class=\"query-hd\">ip138.com IP查询(搜索IP地址的地理位置)</div>\r\n",
      "\t\t\t\t<h1 class=\"query\">您查询的IP：202.204.80.112</h1><p class=\"result\">本站主数据：北京市海淀区 北京理工大学 教育网</p><p class=\"result\">参考数据一：北京市 北京理工大学</p>\r\n",
      "\r\n",
      "\t\t\t</div>\r\n",
      "\t\t</div>\r\n",
      "\r\n",
      "\t\t<div class=\"footer\">\r\n",
      "\t\t\t<a href=\"http://www.miitbeian.gov.cn/\" rel=\"nofollow\" target=\"_blank\">沪ICP备10013467号-1</a>\r\n",
      "\t\t</div>\r\n",
      "\t</div>\r\n",
      "\r\n",
      "\t<script type=\"text/javascript\" src=\"/script/common.js\"></script></body>\r\n",
      "</html>\r\n",
      "\n"
     ]
    }
   ],
   "source": [
    "import requests\n",
    "\n",
    "url = 'http://m.ip138.com/ip.asp?ip='\n",
    "\n",
    "try:\n",
    "    r = requests.get(url + '202.204.80.112')\n",
    "    r.raise_for_status()\n",
    "    r.encoding = r.apparent_encoding\n",
    "    print(r.text[-500:])\n",
    "except:\n",
    "    print(\"爬取失败\")"
   ]
  },
  {
   "cell_type": "code",
   "execution_count": null,
   "metadata": {
    "collapsed": true
   },
   "outputs": [],
   "source": []
  }
 ],
 "metadata": {
  "kernelspec": {
   "display_name": "Python [Root]",
   "language": "python",
   "name": "Python [Root]"
  },
  "language_info": {
   "codemirror_mode": {
    "name": "ipython",
    "version": 3
   },
   "file_extension": ".py",
   "mimetype": "text/x-python",
   "name": "python",
   "nbconvert_exporter": "python",
   "pygments_lexer": "ipython3",
   "version": "3.5.1"
  }
 },
 "nbformat": 4,
 "nbformat_minor": 0
}
