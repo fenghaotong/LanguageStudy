{
 "cells": [
  {
   "cell_type": "markdown",
   "metadata": {},
   "source": [
    "# 第六章 函数\n",
    "\n",
    "- [] 函数基础\n",
    "- [] 参数传递\n",
    "- [] 返回类型和return语句\n",
    "- [] 函数重载\n",
    "- [] 特殊用途语言特性\n",
    "- [] 函数匹配\n",
    "- [] 函数指针"
   ]
  },
  {
   "cell_type": "markdown",
   "metadata": {},
   "source": [
    "## 函数基础\n",
    "\n",
    "- 一个典型的函数定义包括：返回类型、函数名字、由0个或多个形参组成的列表以及函数体。"
   ]
  },
  {
   "cell_type": "markdown",
   "metadata": {
    "collapsed": true
   },
   "source": [
    "** 编写函数 **"
   ]
  },
  {
   "cell_type": "markdown",
   "metadata": {},
   "source": [
    "** 调用函数 **"
   ]
  },
  {
   "cell_type": "markdown",
   "metadata": {},
   "source": [
    "** 形参和实参 **"
   ]
  },
  {
   "cell_type": "markdown",
   "metadata": {},
   "source": [
    "- 实参是形参的初始值。"
   ]
  },
  {
   "cell_type": "markdown",
   "metadata": {},
   "source": [
    "** 函数的形参列表 **"
   ]
  },
  {
   "cell_type": "markdown",
   "metadata": {},
   "source": [
    "** 函数返回类型**"
   ]
  },
  {
   "cell_type": "code",
   "execution_count": 2,
   "metadata": {
    "collapsed": false
   },
   "outputs": [
    {
     "name": "stdout",
     "output_type": "stream",
     "text": [
      "Overwriting ../../Code/C++PrimerCode/chapter6/4.cpp\n"
     ]
    }
   ],
   "source": [
    "%%writefile ../../Code/C++PrimerCode/chapter6/4.cpp\n",
    "/*\n",
    " * This code is writed by htfeng.\n",
    " * \n",
    " * \"Copyright (c) 2017 by Objectwrite.\"\n",
    " * Date: 2017-08-22\n",
    " * Time: 15:57\n",
    " *\n",
    " *  The code is the answer to exercise 4 of the sixth chapter about the book \"C++ Primer, Fifth Edition\".\n",
    " *\n",
    " * If you have any question,please contact me.\n",
    " * \n",
    " * Email:1054708869@qq.com\n",
    "*/ \n",
    "#pragma GCC diagnostic error \"-std=c++11\"  \n",
    "#include <iostream>\n",
    "#include <string>\n",
    "\n",
    "using namespace::std;\n",
    "\n",
    "int fact(int member){\n",
    "\tif (member < 1){\n",
    "\t\treturn 1;\n",
    "\t}else{\n",
    "\t\treturn member * fact(member - 1);\n",
    "\t}\t\n",
    "}\n",
    "\n",
    "int main(){\n",
    "\tint data;\n",
    "\n",
    "\tcout << \"please input a data(int):\";\n",
    "\tcin >> data;\n",
    "\n",
    "\tcout << fact(data) << endl;\n",
    "\treturn 0;\n",
    "}"
   ]
  },
  {
   "cell_type": "markdown",
   "metadata": {},
   "source": [
    "### 局部对象"
   ]
  },
  {
   "cell_type": "markdown",
   "metadata": {},
   "source": [
    "** 自动对象 **\n",
    "\n",
    "- 函数开始时创建，结束时销毁"
   ]
  },
  {
   "cell_type": "markdown",
   "metadata": {},
   "source": [
    "** 局部静态对象 **\n",
    "\n",
    "- 调用函数对它不造成影响"
   ]
  },
  {
   "cell_type": "markdown",
   "metadata": {},
   "source": [
    "```C++\n",
    "size_t count_calls(){\n",
    "    static size_t ctr = 0;\n",
    "    return ++ctr;\n",
    "}\n",
    "\n",
    "int main(){\n",
    "    for (sizr_t i = 0; i != 10; ++i)\n",
    "        cout << count_calls << endl;\n",
    "    return 0;\n",
    "}\n",
    "```"
   ]
  },
  {
   "cell_type": "markdown",
   "metadata": {},
   "source": [
    "### 函数声明"
   ]
  },
  {
   "cell_type": "code",
   "execution_count": 6,
   "metadata": {
    "collapsed": false
   },
   "outputs": [
    {
     "name": "stdout",
     "output_type": "stream",
     "text": [
      "Overwriting ../../Code/C++PrimerCode/chapter6/chapter6.h\n"
     ]
    }
   ],
   "source": [
    "%%writefile ../../Code/C++PrimerCode/chapter6/chapter6.h\n",
    "/*\n",
    " * This code is writed by htfeng.\n",
    " * \n",
    " * \"Copyright (c) 2017 by Objectwrite.\"\n",
    " * Date: 2017-08-22\n",
    " * Time: 15:57\n",
    " *\n",
    " *  The code is the answer to head file of the sixth chapter about the book \"C++ Primer, Fifth Edition\".\n",
    " *\n",
    " * If you have any question,please contact me.\n",
    " * \n",
    " * Email:1054708869@qq.com\n",
    "*/ \n",
    "#pragma GCC diagnostic error \"-std=c++11\" \n",
    "#include <iostream>  \n",
    "#include <string>  \n",
    "#include <vector>  \n",
    "#include <initializer_list>\n",
    "\n",
    "using namespace std;  \n",
    "\n",
    "int fact(int mumber);  \n",
    "int fun(); \n",
    "int swit(int &i, int &j);\n",
    "bool myReset(const string &s); //have or not capital letter\n",
    "string myReset1(string &s); //capital to small letter\n",
    "string compare(string a,string *b);\n",
    "int swit(int* &a,int* &b);\n",
    "int error_msg(ErrCode e, initializer_list<string> il);"
   ]
  },
  {
   "cell_type": "markdown",
   "metadata": {},
   "source": [
    "## 函数传递"
   ]
  },
  {
   "cell_type": "markdown",
   "metadata": {},
   "source": [
    "### 指针形参"
   ]
  },
  {
   "cell_type": "code",
   "execution_count": 8,
   "metadata": {
    "collapsed": false
   },
   "outputs": [
    {
     "name": "stdout",
     "output_type": "stream",
     "text": [
      "Overwriting ../../Code/C++PrimerCode/chapter6/10.cpp\n"
     ]
    }
   ],
   "source": [
    "%%writefile ../../Code/C++PrimerCode/chapter6/10.cpp\n",
    "/*\n",
    " * This code is writed by htfeng.\n",
    " * \n",
    " * \"Copyright (c) 2017 by Objectwrite.\"\n",
    " * Date: 2017-08-22\n",
    " * Time: 15:57\n",
    " *\n",
    " *  The code is the answer to exercise 10 of the sixth chapter about the book \"C++ Primer, Fifth Edition\".\n",
    " *\n",
    " * If you have any question,please contact me.\n",
    " * \n",
    " * Email:1054708869@qq.com\n",
    "*/ \n",
    "#pragma GCC diagnostic error \"-std=c++11\"  \n",
    "#include <iostream>\n",
    "#include <string>\n",
    "#include \"chapter6.h\"\n",
    "\n",
    "using namespace::std;\n",
    "\n",
    "int main(){\n",
    "\tint a ,b;\n",
    "\n",
    "\tcout << \"please input two int data:\";\n",
    "\tcin >> a >> b;\n",
    "\tcout << \"before\" << endl;\n",
    "\tcout << \"a = \" << a << \"b = \" << b << endl;\n",
    "\n",
    "\tswit(a,b);\n",
    "\n",
    "\tcout << \"a = \" << a << \"b = \" << b << endl;\n",
    "\treturn 0;\n",
    "}\n",
    "\n",
    "int swit(int &i, int &j){\n",
    "\tint a;\n",
    "\ta = i;\n",
    "\ti = j;\n",
    "\tj = a;\n",
    "\treturn 0;\n",
    "}"
   ]
  },
  {
   "cell_type": "markdown",
   "metadata": {},
   "source": [
    "### 传引用的参数"
   ]
  },
  {
   "cell_type": "markdown",
   "metadata": {},
   "source": [
    "** 使用引用避免拷贝 **\n",
    "\n",
    "- 比较两个string对象的长度，这两个对象可能比较长时，应该避免直接拷贝他们\n",
    "\n",
    "```C++\n",
    "bool isShorter(const string &s1, const string &s2){\n",
    "    return s1.size() < s2.size();\n",
    "}\n",
    "```"
   ]
  },
  {
   "cell_type": "markdown",
   "metadata": {},
   "source": [
    "** 使用引用形参返回额外信息 **\n",
    "\n",
    "- 定义一个函数，find_char的函数，他返回在string对象中某个指定字符第一次出现的位置，同时也希望函数能返回字符出现的次数。"
   ]
  },
  {
   "cell_type": "markdown",
   "metadata": {},
   "source": [
    "```C++\n",
    "string::size_type find_char(const string &s, char c, string::size_type &occurs){\n",
    "    auto ret = s.size();\n",
    "    occurs = 0;\n",
    "    for(decltype(ret) i = 0; i != s.size(); ++i){\n",
    "        if(s[i] == c){\n",
    "            if (ret == s.size()\n",
    "                ret = i;\n",
    "            ++occurs\n",
    "        }\n",
    "    }\n",
    "    return ret;\n",
    "}\n",
    "```\n",
    "\n",
    "> string::size_type: 所有存放string类的size（）函数返回值的变量，都应该是string::size_type类型的"
   ]
  },
  {
   "cell_type": "markdown",
   "metadata": {},
   "source": [
    "### const形参和实参"
   ]
  },
  {
   "cell_type": "markdown",
   "metadata": {},
   "source": [
    "** 指针或引用形参与const **"
   ]
  },
  {
   "cell_type": "markdown",
   "metadata": {},
   "source": [
    "** 尽量使用常量引用 **"
   ]
  },
  {
   "cell_type": "code",
   "execution_count": 1,
   "metadata": {
    "collapsed": false
   },
   "outputs": [
    {
     "name": "stdout",
     "output_type": "stream",
     "text": [
      "Overwriting ../../Code/C++PrimerCode/chapter6/17.cpp\n"
     ]
    }
   ],
   "source": [
    "%%writefile ../../Code/C++PrimerCode/chapter6/17.cpp\n",
    "/*\n",
    " * This code is writed by htfeng.\n",
    " * \n",
    " * \"Copyright (c) 2017 by Objectwrite.\"\n",
    " * Date: 2017-08-22\n",
    " * Time: 15:57\n",
    " *\n",
    " *  The code is the answer to exercise 17 of the sixth chapter about the book \"C++ Primer, Fifth Edition\".\n",
    " *\n",
    " * If you have any question,please contact me.\n",
    " * \n",
    " * Email:1054708869@qq.com\n",
    "*/ \n",
    "#pragma GCC diagnostic error \"-std=c++11\"  \n",
    "#include \"chapter6.h\"\n",
    "\n",
    "int main(){\n",
    "\tstring str;\n",
    "\n",
    "\tcout << \"please input a string:\";\n",
    "\tcin >> str;\n",
    "\n",
    "\tauto str1 = myReset(str);\n",
    "\n",
    "\tif (str1 == true){\n",
    "\t\tmyReset1(str);\n",
    "\t\tcout << str <<endl;\n",
    "\t}else{\n",
    "\t\tcout << \"no capotal letter!\";\n",
    "\t}\n",
    "\treturn 0;\n",
    "}\n",
    "\n",
    "bool myReset(const string &s){\n",
    "\tfor(int i = 0; i < s.size(); ++i){\n",
    "\t\tif (s[i] >= 'A' &&s[i] <= 'Z')\n",
    "\t\t\treturn true;\n",
    "\t}\n",
    "\treturn false;\n",
    "}\n",
    "string myReset1(string &s){\n",
    "\tfor(int i = 0; i < s.size(); ++i){\n",
    "\t\tif (s[i] >= 'A' && s[i] <= 'Z')\n",
    "\t\t\ts[i]= s[i] + 32;\n",
    "\t}\n",
    "\treturn s;\n",
    "}"
   ]
  },
  {
   "cell_type": "markdown",
   "metadata": {},
   "source": [
    "### 数组形参"
   ]
  },
  {
   "cell_type": "markdown",
   "metadata": {
    "collapsed": true
   },
   "source": [
    "- 管理指针形参有三种常用的技术"
   ]
  },
  {
   "cell_type": "markdown",
   "metadata": {},
   "source": [
    "** 使用标记指定数组长度 **\n"
   ]
  },
  {
   "cell_type": "markdown",
   "metadata": {},
   "source": [
    "```C++\n",
    "void print(const char *p){\n",
    "    if(cp)\n",
    "        while(*cp)\n",
    "            cout << *cp++;\n",
    "}\n",
    "```"
   ]
  },
  {
   "cell_type": "markdown",
   "metadata": {},
   "source": [
    "** 使用标准库规范 **"
   ]
  },
  {
   "cell_type": "markdown",
   "metadata": {},
   "source": [
    "```C++\n",
    "void print(const int *beg; const int *end){\n",
    "    while(beg != end)\n",
    "        coout << *beg++ << endl;\n",
    "}\n",
    "\n",
    "int j[2] = {0, 1};\n",
    "print(begin(j), end(j));\n",
    "```"
   ]
  },
  {
   "cell_type": "markdown",
   "metadata": {},
   "source": [
    "** 显示传递一个表示数组大小的形参 **"
   ]
  },
  {
   "cell_type": "markdown",
   "metadata": {},
   "source": [
    "```C++\n",
    "void print(const int ia[], size_t size){\n",
    "    for(size_t i = 0; i != size; ++i){\n",
    "        cout << ia[i] << endl;\n",
    "    }\n",
    "}\n",
    "\n",
    "int j[] = {0, 1};\n",
    "print(j, end(j) - begin(j));\n",
    "```"
   ]
  },
  {
   "cell_type": "markdown",
   "metadata": {},
   "source": [
    "** 数组形参和const **"
   ]
  },
  {
   "cell_type": "markdown",
   "metadata": {},
   "source": [
    "** 数组引用形参 **\n",
    "\n",
    "- f(int (&arr)[10])"
   ]
  },
  {
   "cell_type": "markdown",
   "metadata": {},
   "source": [
    "** 传递多维数组 **"
   ]
  },
  {
   "cell_type": "code",
   "execution_count": 3,
   "metadata": {
    "collapsed": false
   },
   "outputs": [
    {
     "name": "stdout",
     "output_type": "stream",
     "text": [
      "Overwriting ../../Code/C++PrimerCode/chapter6/21.cpp\n"
     ]
    }
   ],
   "source": [
    "%%writefile ../../Code/C++PrimerCode/chapter6/21.cpp\n",
    "/*\n",
    " * This code is writed by htfeng.\n",
    " * \n",
    " * \"Copyright (c) 2017 by Objectwrite.\"\n",
    " * Date: 2017-08-22\n",
    " * Time: 15:57\n",
    " *\n",
    " *  The code is the answer to exercise 21 of the sixth chapter about the book \"C++ Primer, Fifth Edition\".\n",
    " *\n",
    " * If you have any question,please contact me.\n",
    " * \n",
    " * Email:1054708869@qq.com\n",
    "*/ \n",
    "#include \"chapter6.h\"\n",
    "\n",
    "int main(){\n",
    "\tstring str1,str2;\n",
    "\tcout << \"please input two string:\";\n",
    "\tcin >> str1 >> str2;\n",
    "\tstring *str3 = &str2;\n",
    "\tcout << compare(str1, str3) << endl;\n",
    "\n",
    "\tint num1,num2;\n",
    "\tcout << \"please input two number:\";\n",
    "\tcin >> num1 >> num2;\n",
    "\tint *num3 = &num1;\n",
    "\tint *num4 = &num2;\n",
    "\n",
    "\tcout << \"before:\" << endl;\n",
    "\tcout << *num3 << *num4 << endl;\n",
    "\tswit(num3,num4);\n",
    "\tcout << \"after:\" << endl;\n",
    "\tcout << *num3 << *num4 << endl;\n",
    "\n",
    "\treturn 0;\n",
    "}\n",
    "\n",
    "string compare(string a, string *b){\n",
    "\tif (a > *b)\n",
    "\t\treturn a;\n",
    "\telse\n",
    "\t\treturn *b;\n",
    "\n",
    "}\n",
    "\n",
    "int swit(int* &a,int* &b){\n",
    "\tint *c = NULL;\n",
    "\n",
    "\tc = a;\n",
    "\ta = b;\n",
    "\tb = c;\n",
    "\n",
    "\treturn 0;\n",
    "}"
   ]
  },
  {
   "cell_type": "markdown",
   "metadata": {},
   "source": [
    "### main：处理命令行选项"
   ]
  },
  {
   "cell_type": "markdown",
   "metadata": {},
   "source": [
    "- 假定main函数位于可执行文件prog之内，我们可以向程序传递下面的选项\n",
    "```C++\n",
    "prog -d -o ofile data0\n",
    "```\n",
    "- 命令行选项可以通过两个形参传递给main函数：\n",
    "```C++\n",
    "int main(int argc, char *argv[]){.....}\n",
    "```"
   ]
  },
  {
   "cell_type": "markdown",
   "metadata": {},
   "source": [
    "- 第二个形参argv是一个数组，它的元素是指向C风格字符串的指针；第一个形参argc表示数组中字符串的数量。因为第二个形参是数组，所以main函数也可以定义为：\n",
    "```C++\n",
    "int main(int argc, char **argv){.....}\n",
    "```\n",
    "\n",
    "- argv的第一个元素指向程序的名字或者一个空字符串，接下来的元素依次传递命令行提供的实参。最后一个指针之后的元素值保证为0。"
   ]
  },
  {
   "cell_type": "markdown",
   "metadata": {},
   "source": [
    "以上面那个命令为例：\n",
    "```C++\n",
    "argv[0] = \"prog\";\n",
    "argv[1] = \"-d\";\n",
    "argv[2] = \"-o\";\n",
    "argv[3] = \"ofile\";\n",
    "argv[4] = \"data0\";\n",
    "argv[5] = 0;\n",
    "```"
   ]
  },
  {
   "cell_type": "code",
   "execution_count": 5,
   "metadata": {
    "collapsed": false
   },
   "outputs": [
    {
     "name": "stdout",
     "output_type": "stream",
     "text": [
      "Overwriting ../../Code/C++PrimerCode/chapter6/25.cpp\n"
     ]
    }
   ],
   "source": [
    "%%writefile ../../Code/C++PrimerCode/chapter6/25.cpp\n",
    "/*\n",
    " * This code is writed by htfeng.\n",
    " * \n",
    " * \"Copyright (c) 2017 by Objectwrite.\"\n",
    " * Date: 2017-08-22\n",
    " * Time: 15:57\n",
    " *\n",
    " *  The code is the answer to exercise 25 of the sixth chapter about the book \"C++ Primer, Fifth Edition\".\n",
    " *\n",
    " * If you have any question,please contact me.\n",
    " * \n",
    " * Email:1054708869@qq.com\n",
    "*/ \n",
    "#include \"chapter6.h\"\n",
    "\n",
    "int main(int argc,char**argv){\n",
    "\tstring str;\n",
    "\tfor (int i = 1;i != argc; ++i){\n",
    "\t\tstr += argv[i];\n",
    "\t\tstr += \" \";\n",
    "\t}\n",
    "\tcout << str << endl;\n",
    "\treturn 0;\n",
    "}"
   ]
  },
  {
   "cell_type": "markdown",
   "metadata": {},
   "source": [
    "### 含有可变形参的函数"
   ]
  },
  {
   "cell_type": "markdown",
   "metadata": {},
   "source": [
    "- 有时我们无法提起预知应该向函数传递几个实参，为了编写能处理不同数量实参的函数，C++11新版标准提供了两种主要的方法：\n",
    "    - 如果所有实参类型相同，可以传递一个名为initializer_list的标准库类型\n",
    "    - 如果实参类型不同，我们可以编写一种特殊函数，也就是所谓的可变参数模板。"
   ]
  },
  {
   "cell_type": "markdown",
   "metadata": {},
   "source": [
    "** initializer_list形参 **"
   ]
  },
  {
   "cell_type": "markdown",
   "metadata": {},
   "source": [
    "- 定义在同名的头文件中，操作如下：\n",
    "\n",
    "||initializer_list提供的操作|\n",
    "|:----:|:-----|\n",
    "|`initializer_list<T>` lst;|默认初始化，T类型元素的空列表|\n",
    "|`initializer_list<T>` lst{a,b,c...};|lst的元素数量和初始值一样多；lst的元素是对应初始值的副本；列表中的元素是const|\n",
    "|lst2(lst) lst2 = lst|拷贝和赋值一个initializer_list对象不会拷贝列表中的元素，拷贝后原始列表和副本共享元素|\n",
    "|lst.size()|列表中的元素数量|\n",
    "|lst.begin()|返回指向lst中首元素的指针|\n",
    "|lst.end()|返回指向lst中的尾元素下一位的指针|\n"
   ]
  },
  {
   "cell_type": "code",
   "execution_count": 8,
   "metadata": {
    "collapsed": false
   },
   "outputs": [
    {
     "name": "stdout",
     "output_type": "stream",
     "text": [
      "Overwriting ../../Code/C++PrimerCode/chapter6/initializer_list.cpp\n"
     ]
    }
   ],
   "source": [
    "%%writefile ../../Code/C++PrimerCode/chapter6/initializer_list.cpp\n",
    "/*\n",
    " * This code is writed by htfeng.\n",
    " * \n",
    " * \"Copyright (c) 2017 by Objectwrite.\"\n",
    " * Date: 2017-08-22\n",
    " * Time: 15:57\n",
    " *\n",
    " * If you have any question,please contact me.\n",
    " * \n",
    " * Email:1054708869@qq.com\n",
    "*/ \n",
    "#include \"chapter6.h\"\n",
    "\n",
    "int main(int argc, char** argv){\n",
    "\tstring expected, actual;\n",
    "\n",
    "\tcout << \"input two string:\";\n",
    "\tcin >> expected >> actual;\n",
    "\n",
    "\tif (expected != actual)\n",
    "\t\terror_msg(ErrCode(42), {\"functionX\", expected, actual})\n",
    "\telse\n",
    "\t\terror_msg(ErrCode(0), {\"functionX\", \"okay\"})\n",
    "\n",
    "\treturn 0;\n",
    "}\n",
    "\n",
    "int error_msg(ErrCode e, initializer_list<string> il){\n",
    "\tcout << e.msg() << \":\";\n",
    "\tfor(const auto &elem : il)\n",
    "\t\tcout << elem << \" \";\n",
    "\tcout << endl;\n",
    "\treturn 0;\n",
    "}"
   ]
  },
  {
   "cell_type": "markdown",
   "metadata": {},
   "source": [
    "## 返回类型和return语句"
   ]
  },
  {
   "cell_type": "markdown",
   "metadata": {},
   "source": [
    "### 无返回值函数"
   ]
  },
  {
   "cell_type": "markdown",
   "metadata": {},
   "source": [
    "### 有返回值函数"
   ]
  },
  {
   "cell_type": "markdown",
   "metadata": {},
   "source": [
    "- 如果一个函数返回一个引用类型，则是一个左值"
   ]
  },
  {
   "cell_type": "code",
   "execution_count": 10,
   "metadata": {
    "collapsed": false
   },
   "outputs": [
    {
     "name": "stdout",
     "output_type": "stream",
     "text": [
      "Overwriting ../../Code/C++PrimerCode/chapter6/33.cpp\n"
     ]
    }
   ],
   "source": [
    "%%writefile ../../Code/C++PrimerCode/chapter6/33.cpp\n",
    "/*\n",
    " * This code is writed by htfeng.\n",
    " * \n",
    " * \"Copyright (c) 2017 by Objectwrite.\"\n",
    " * Date: 2017-08-22\n",
    " * Time: 15:57\n",
    " *\n",
    " *  The code is the answer to exercise 33 of the sixth chapter about the book \"C++ Primer, Fifth Edition\".\n",
    " *\n",
    " * If you have any question,please contact me.\n",
    " * \n",
    " * Email:1054708869@qq.com\n",
    "*/ \n",
    "#include \"chapter6.h\"\n",
    "\n",
    "int main(int argc, char** argv){\n",
    "\tint a[10] = {0,1,2,3,4,5,6,7,8,9};\n",
    "\tvector<int> v(a, a+10);\n",
    "\tfactorial(v, v.size() - 1);\n",
    "\treturn 0;\n",
    "}\n",
    "\n",
    "int factorial(vector<int> v,int x){\n",
    "\tif(x != -1){\n",
    "\t\tcout << v[x] << endl;\n",
    "\t\tx--;\n",
    "\t\tfactorial(v, x);\n",
    "\t}\n",
    "\treturn 0;\n",
    "}"
   ]
  },
  {
   "cell_type": "markdown",
   "metadata": {},
   "source": [
    "### 返回数组指针"
   ]
  },
  {
   "cell_type": "markdown",
   "metadata": {},
   "source": [
    "- func(int i)表示调用func函数时需要一个int 类型的实参。\n",
    "- （\\*func（int i)）意味着我们可以对函数调用的结果执行解引用操作\n",
    "- （\\*func(int i）)[10]表示解引用func的调用将得到一个大小是10 的数组\n",
    "- int （\\*func(int i）)[10]表示数组中的元素是int类型"
   ]
  },
  {
   "cell_type": "markdown",
   "metadata": {},
   "source": [
    "** 使用尾置返回类型 **"
   ]
  },
  {
   "cell_type": "markdown",
   "metadata": {},
   "source": [
    "```C++\n",
    "//fun接受一个int类型的实参，返回一个指针，该指针指向含有10个整数的数组\n",
    "auto func(int i) -> int(*)[10];\n",
    "```"
   ]
  },
  {
   "cell_type": "code",
   "execution_count": null,
   "metadata": {
    "collapsed": true
   },
   "outputs": [],
   "source": []
  }
 ],
 "metadata": {
  "kernelspec": {
   "display_name": "Python [Root]",
   "language": "python",
   "name": "Python [Root]"
  },
  "language_info": {
   "codemirror_mode": {
    "name": "ipython",
    "version": 3
   },
   "file_extension": ".py",
   "mimetype": "text/x-python",
   "name": "python",
   "nbconvert_exporter": "python",
   "pygments_lexer": "ipython3",
   "version": "3.5.1"
  }
 },
 "nbformat": 4,
 "nbformat_minor": 0
}
