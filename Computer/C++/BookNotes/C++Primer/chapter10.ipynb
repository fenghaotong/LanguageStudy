{
 "cells": [
  {
   "cell_type": "markdown",
   "metadata": {},
   "source": [
    "# 第十章 泛型算法\n",
    "\n",
    "- [X] 概述\n",
    "- [X] 初识泛型算法\n",
    "- [ ] 定制操作\n",
    "- [ ] 再探迭代器\n",
    "- [ ] 泛型算法结构\n",
    "- [ ] 特定容器算法"
   ]
  },
  {
   "cell_type": "markdown",
   "metadata": {},
   "source": [
    "- 顺序容器只定义了很少的操作，在多数情况下，我们可以添加和删除元素、访问首尾元素、确定容器是否为空以及获得指向首元素和尾元素之后位置的迭代器\n",
    "- 我们可以想象用户可能还希望做其他有用的操作：查找特定元素、替换或删除一个特定值、重排元素顺序等。\n",
    "- 标准库并未给每个容器都定义成员函数来实现这些操作，而是定一了一组泛算法：称他们为算法，是因为它们可以实现一些经典算法的公共接口，如排序和搜索，称他们是泛型的，是因为他们可以用于不同类型的元素和多种容器类型。"
   ]
  },
  {
   "cell_type": "markdown",
   "metadata": {},
   "source": [
    "## 概述\n",
    "\n",
    "- 大多数算法都定义在头文件algorithm中，标准库还在头文件numeric中定义了一组数值泛型算法"
   ]
  },
  {
   "cell_type": "markdown",
   "metadata": {},
   "source": [
    "```C++\n",
    "vector<int> vec;\n",
    "int val = 42;\n",
    "//在vec中找到想要的元素，找到返回结果就指向它，没找到，就返回vec.cend()\n",
    "auto result = find(vec.begin(), vec.end(), val);\n",
    "```"
   ]
  },
  {
   "cell_type": "markdown",
   "metadata": {},
   "source": [
    "** 算法如何工作 **"
   ]
  },
  {
   "cell_type": "markdown",
   "metadata": {},
   "source": [
    "** 迭代器令算法不依赖于容器，但算法依赖于元素类型的操作 **"
   ]
  },
  {
   "cell_type": "code",
   "execution_count": 2,
   "metadata": {},
   "outputs": [
    {
     "name": "stdout",
     "output_type": "stream",
     "text": [
      "Overwriting ../../Code/C++PrimerCode/chapter10/1.cpp\n"
     ]
    }
   ],
   "source": [
    "%%writefile ../../Code/C++PrimerCode/chapter10/1.cpp\n",
    "/*\n",
    " * This code is writed by htfeng.\n",
    " *\n",
    " * \"Copyright (c) 2017 by Objectwrite.\"\n",
    " * Date: 2017-09-14\n",
    " * Time: 15:13pm\n",
    " *\n",
    " *  The code is the answer to exercise 1 of the tenth chapter about the book \"C++ Primer, Fifth Edition\".\n",
    " *\n",
    " * If you have any question,please contact me.\n",
    " *\n",
    " * Email:1054708869@qq.com\n",
    "*/\n",
    "\n",
    "#include <iostream>\n",
    "#include <vector>\n",
    "#include <algorithm>\n",
    "#include <string>\n",
    "#include <list>\n",
    "\n",
    "using namespace std;\n",
    "\n",
    "int main(int argc, char **argv){\n",
    "\tvector<int> vec = {1,2,3,4,5,7,8,1,2,4,1,2};\n",
    "\tlist<string> slist = {\"hello\",\"feng\", \"hao\", \"tong\", \"hello\"};\n",
    "\tint val = 1;\n",
    "\tstring val2 = \"hello\";\n",
    "\n",
    "\n",
    "\tauto result = count(vec.begin(), vec.end(), val);\n",
    "\tauto result2 = count(slist.begin(), slist.end(), val2);\n",
    "\n",
    "\tcout << val << \" numbers: \" << result << endl;\n",
    "\tcout << val2 << \" numbers: \" << result2 << endl;\n",
    "\treturn 0;\n",
    "}"
   ]
  },
  {
   "cell_type": "markdown",
   "metadata": {},
   "source": [
    "## 初识泛型算法"
   ]
  },
  {
   "cell_type": "markdown",
   "metadata": {},
   "source": [
    "### 只读算法"
   ]
  },
  {
   "cell_type": "markdown",
   "metadata": {},
   "source": [
    "- fing()\n",
    "- count()\n",
    "- accumulate()\n",
    "- equal()"
   ]
  },
  {
   "cell_type": "markdown",
   "metadata": {},
   "source": [
    "** accumulate **\n",
    "\n",
    "- 这个算法的第三个参数决定了函数中使用哪个加法元算\n",
    "\n",
    "```C++\n",
    "int sum = accumulate(vec.cbegin(), vec.cend(), 0);//对vec中的元素求和，初值为0\n",
    "\n",
    "stirng sum = accumulate(v.cbegin(), v.cend(), string(\"\"));//将v中的每个元素连接到一个string上\n",
    "```"
   ]
  },
  {
   "cell_type": "markdown",
   "metadata": {},
   "source": [
    "** equal（） **\n",
    "\n",
    "- 操作两个序列\n",
    "- 如果所有元素相等返回true\n",
    "- 比较的是容器里面的元素，不是容器的类型\n",
    "\n",
    "```C++\n",
    "\n",
    "equal(roster1.cbegin(), roster1.cend(), roster2.cbegin());\n",
    "```"
   ]
  },
  {
   "cell_type": "markdown",
   "metadata": {},
   "source": [
    "### 写容器元素的算法"
   ]
  },
  {
   "cell_type": "markdown",
   "metadata": {},
   "source": [
    "** 算法不接受写操作 **\n",
    "\n",
    "- fill_n()\n",
    "- fill_n(vec.vegin(), vec.size(), 0)\n",
    "- 不能在一个空容器上调用fill_n"
   ]
  },
  {
   "cell_type": "markdown",
   "metadata": {},
   "source": [
    "** back_inserter **\n",
    "\n",
    "- 在头文件iterator中\n",
    "- 一种保证算法有足够元素空间来容纳输出数据的方法是使用插入迭代器\n",
    "- 插入迭代器是一种相容器中添加元素的迭代器，通常情况下，当我们通过一个迭代器相容器中赋值时，值被赋予迭代器指向的元素，而当我们通过一个插入迭代器赋值时，一个与赋值号右侧值相等的元素被添加到容器中"
   ]
  },
  {
   "cell_type": "markdown",
   "metadata": {},
   "source": [
    "```C++\n",
    "vector<int> vec;\n",
    "auto it =  back_inserter(vec);//通过它赋值会将元素添加到vec中\n",
    "*it = 42; //vec中现有一个元素，值为42\n",
    "```"
   ]
  },
  {
   "cell_type": "markdown",
   "metadata": {},
   "source": [
    "```C++\n",
    "vector<int> vec;\n",
    "fill_n(back_inserter(vec), 10, 0); //每次赋值都会在vec上调用push_back()\n",
    "```"
   ]
  },
  {
   "cell_type": "markdown",
   "metadata": {},
   "source": [
    "** 拷贝算法 **\n",
    "\n",
    "- copy()\n",
    "- 接受三个迭代器的值\n",
    "- 返回的是其目的的位置迭代器\n",
    "- replace()\n",
    "- replace_copy()"
   ]
  },
  {
   "cell_type": "markdown",
   "metadata": {},
   "source": [
    "```C++\n",
    "int a1[] = {0,1,2,3,4,5,6,7,8,9};\n",
    "int a2[sizeof(a1)/sizeof(*a1)];\n",
    "\n",
    "auto ret = copy(begin(a1), end(a1), a2); //ret指向拷贝到a2的尾元素之后的位置\n",
    "```"
   ]
  },
  {
   "cell_type": "markdown",
   "metadata": {},
   "source": [
    "```C++\n",
    "replace(ilst.begin(), ilst.end(), 0, 42); //将ilst中的所有0都替换成42\n",
    "//ilst中的值没有改变，ivec是ilst的拷贝，将ivec中所有0都替换成42\n",
    "replace_copy(ilst.begin(), ilst.end(), back_inserter(ivec), 0, 42);\n",
    "```"
   ]
  },
  {
   "cell_type": "markdown",
   "metadata": {},
   "source": [
    "### 重排容器元素的算法"
   ]
  },
  {
   "cell_type": "markdown",
   "metadata": {},
   "source": [
    "** 消除重复单词 **\n",
    "\n",
    "- 为了消除重复单词，首先将vector排序，使得重复的单词都相邻出现\n",
    "- 一旦vector排序完成，我们就可以使用另一个成为unique的标准库算法重排vector，使得不重复的元素出现在vector的开始部分\n",
    "- 由于算法不能执行容器操作，我们将使用vector的erase成员来完成真正的删除操作"
   ]
  },
  {
   "cell_type": "markdown",
   "metadata": {},
   "source": [
    "```C++\n",
    "void elimDups(vector<string> &words){\n",
    "    sort(words.begin(), words.end());\n",
    "    auto end_unique = unique(words.begin(), words.end());// 返回第一个不重复区域之后一个位置的迭代器\n",
    "    words.erase(end_unique, words.end());\n",
    "}\n",
    "```"
   ]
  },
  {
   "cell_type": "markdown",
   "metadata": {},
   "source": [
    "> 上述的unique函数是指把两个相同的元素覆盖了，没有真正意义上的删除，元素个数没变，只是容器最后几个位置不知道是什么，于是用了erase删除"
   ]
  },
  {
   "cell_type": "code",
   "execution_count": 3,
   "metadata": {},
   "outputs": [
    {
     "name": "stdout",
     "output_type": "stream",
     "text": [
      "Writing ../../Code/C++PrimerCode/chapter10/9.cpp\n"
     ]
    }
   ],
   "source": [
    "%%writefile ../../Code/C++PrimerCode/chapter10/9.cpp\n",
    "/*\n",
    " * This code is writed by htfeng.\n",
    " *\n",
    " * \"Copyright (c) 2017 by Objectwrite.\"\n",
    " * Date: 2017-09-14\n",
    " * Time: 16:22pm\n",
    " *\n",
    " *  The code is the answer to exercise 9 of the tenth chapter about the book \"C++ Primer, Fifth Edition\".\n",
    " *\n",
    " * If you have any question,please contact me.\n",
    " *\n",
    " * Email:1054708869@qq.com\n",
    "*/\n",
    "\n",
    "#include<iostream>  \n",
    "#include<string>  \n",
    "#include<vector>  \n",
    "#include<algorithm>  \n",
    "#include<numeric>  \n",
    "using namespace std;  \n",
    "  \n",
    "void elimDups(vector<string> &s)  \n",
    "{  \n",
    "    cout<<\"排序前：\";  \n",
    "    for (int i = 0; i<s.size(); ++i)  \n",
    "    {  \n",
    "        cout<<s[i]<<\" \";  \n",
    "    }  \n",
    "    cout<<endl<<\"sort()排序后：\";  \n",
    "    sort(s.begin(),s.end());//sort排序  \n",
    "    for (int i = 0; i<s.size(); ++i)  \n",
    "    {  \n",
    "        cout<<s[i]<<\" \";  \n",
    "    }  \n",
    "    cout<<endl<<\"unique()排序后：\";  \n",
    "    vector<string>::iterator str = unique(s.begin(),s.end());//unique排序  \n",
    "    for (int i = 0; i<s.size(); ++i)  \n",
    "    {  \n",
    "        cout<<s[i]<<\" \";  \n",
    "    }  \n",
    "    cout<<endl<<\"erase()操作后：\";  \n",
    "    s.erase(str,s.end());//erase()操作  \n",
    "    for (int i = 0; i<s.size(); ++i)  \n",
    "    {  \n",
    "        cout<<s[i]<<\" \";  \n",
    "    }  \n",
    "  \n",
    "}  \n",
    "int main(int argc, char**argv)  \n",
    "{  \n",
    "    string a[10] = {\"because\",\"I\",\"Like\",\"Like\",\"C++\",\"very\",\"very\",\"much\",\"that's\",\"why\"};  \n",
    "    vector<string> s(a,a+10);  \n",
    "    elimDups(s);  \n",
    "  \n",
    "    return 0;  \n",
    "}  "
   ]
  },
  {
   "cell_type": "markdown",
   "metadata": {},
   "source": [
    "## 定制操作"
   ]
  },
  {
   "cell_type": "markdown",
   "metadata": {},
   "source": [
    "### 向算法传递参数"
   ]
  },
  {
   "cell_type": "markdown",
   "metadata": {},
   "source": [
    "** 谓词 **\n",
    "\n",
    "- 谓词是一个可调用的表达式，其返回结果是一个能用作条件的值\n",
    "- 一元谓词：接受一个参数\n",
    "- 二元谓词：接受两个参数"
   ]
  },
  {
   "cell_type": "markdown",
   "metadata": {},
   "source": [
    "```C++\n",
    "bool isShorter(const string &s1, const string &2){\n",
    "    return s1.size() < s2.size();\n",
    "}\n",
    "\n",
    "//按长度由短至长排序words\n",
    "sort(words.begin(), words.end(), isshorter);\n",
    "```"
   ]
  },
  {
   "cell_type": "markdown",
   "metadata": {},
   "source": [
    "** 排序算法 **\n",
    "\n",
    "```C++\n",
    "elimDups(words);\n",
    "stable_sorts(words.begin(), words.end(), isShorter); //按长度排序，长度相同的单词维持字典顺序\n",
    "for (const auto &s:words)\n",
    "    cout << s << endl;\n",
    "```"
   ]
  },
  {
   "cell_type": "markdown",
   "metadata": {},
   "source": [
    "** lambda表达式 **\n",
    "\n",
    "`\n",
    "[capture list]()parameter list) -> return type {function body)\n",
    "`\n",
    "\n",
    "- capture list捕获列表\n",
    "- parameter list参数列表\n",
    "- function body函数体“"
   ]
  },
  {
   "cell_type": "markdown",
   "metadata": {},
   "source": [
    "- find_if函数查找第一个具有特定大小的元素\n",
    "- 三个参数，前两个是迭代器，最后一个是一个谓词\n",
    "- find_if算法对输入序列的每个元素调用给定的这个谓词，返回一个使谓词返回非零值的元素，如果不存在这样的元素，则返回为迭代器"
   ]
  },
  {
   "cell_type": "markdown",
   "metadata": {},
   "source": [
    "```C++\n",
    "//使用此lambda，我们就可以查找第一个长度大于等于sz的元素\n",
    "//words里面的元素已经经过排序\n",
    "auto wc = find_if(words.begin(), words.end(), [sz](const string &a){return a.size() >= sz;});\n",
    "//计算计算满足size >= sz的元素的个数\n",
    "auto count = words.end() - wc;\n",
    "cout << count << \" \" << make_plural(count, \"word\", \"s\") << \" of length\" << sz << \"or longer\" << endl;\n",
    "```"
   ]
  },
  {
   "cell_type": "markdown",
   "metadata": {},
   "source": [
    "** for_each算法  **"
   ]
  },
  {
   "cell_type": "markdown",
   "metadata": {},
   "source": [
    "```C++\n",
    "//打印长度大于等于给定值的单词，每个单词后面接一个空格 \n",
    "for_each(wc, words.end(), [](const string &s){cout << s << \" \";});\n",
    "cout << endl;\n",
    "```"
   ]
  },
  {
   "cell_type": "markdown",
   "metadata": {},
   "source": [
    "```C++\n",
    "void biggies(vector<string> &words, vector<string>::size_type sz){\n",
    "    elimDups(words);\n",
    "    stable_sort(words.begin(), words.end(), [](const string &a, const string &b){return a.size() < b.size();});\n",
    "    //使用此lambda，我们就可以查找第一个长度大于等于sz的元素\n",
    "    //words里面的元素已经经过排序\n",
    "    auto wc = find_if(words.begin(), words.end(), [sz](const string &a){return a.size() >= sz;});\n",
    "    //计算计算满足size >= sz的元素的个数\n",
    "    auto count = words.end() - wc;\n",
    "    cout << count << \" \" << make_plural(count, \"word\", \"s\") << \" of length\" << sz << \"or longer\" << endl;\n",
    "    //打印长度大于等于给定值的单词，每个单词后面接一个空格 \n",
    "    for_each(wc, words.end(), [](const string &s){cout << s << \" \";});\n",
    "    cout << endl;\n",
    "```"
   ]
  },
  {
   "cell_type": "code",
   "execution_count": 5,
   "metadata": {},
   "outputs": [
    {
     "name": "stdout",
     "output_type": "stream",
     "text": [
      "Overwriting ../../Code/C++PrimerCode/chapter10/18.cpp\n"
     ]
    }
   ],
   "source": [
    "%%writefile ../../Code/C++PrimerCode/chapter10/18.cpp\n",
    "/*\n",
    " * This code is writed by htfeng.\n",
    " *\n",
    " * \"Copyright (c) 2017 by Objectwrite.\"\n",
    " * Date: 2017-09-14\n",
    " * Time: 19:08pm\n",
    " *\n",
    " *  The code is the answer to exercise 18 of the tenth chapter about the book \"C++ Primer, Fifth Edition\".\n",
    " *\n",
    " * If you have any question,please contact me.\n",
    " *\n",
    " * Email:1054708869@qq.com\n",
    "*/\n",
    "\n",
    "#include <iostream>  \n",
    "#include <string>  \n",
    "#include <vector>  \n",
    "#include <algorithm>  \n",
    "#include <numeric>  \n",
    "using namespace std; \n",
    "\n",
    "void elimDups(vector<string> &words){\n",
    "\tsort(words.begin(), words.end());\n",
    "\tauto end_unique = unique(words.begin(), words.end());\n",
    "\twords.erase(end_unique, words.end());\n",
    "}\n",
    "\n",
    "void biggies(vector<string> words, vector<string>::size_type sz){\n",
    "\telimDups(words);\n",
    "\tstable_sort(words.begin(), words.end(), [](const string &a,const string &b){return a.size() < b.size();});\n",
    "    auto it = stable_partition(words.begin(), words.end(), [sz](const string &a){return a.size() <= sz;});\n",
    "    for(it; it != words.end(); ++it){\n",
    "    \tcout << *it << \" \";\n",
    "    }\n",
    "\n",
    "    cout << endl;\n",
    "}\n",
    "\n",
    "int main(int argc, char **argv){\n",
    "\tvector<string> words = {\"hello\", \"my\", \"name\", \"is\", \"feng\", \"hao\", \"tong\", \"hello\"};\n",
    "\tint sz = 3;\n",
    "\tbiggies(words, sz);\n",
    "\treturn 0;\n",
    "}"
   ]
  },
  {
   "cell_type": "code",
   "execution_count": null,
   "metadata": {
    "collapsed": true
   },
   "outputs": [],
   "source": []
  }
 ],
 "metadata": {
  "kernelspec": {
   "display_name": "Python 3",
   "language": "python",
   "name": "python3"
  },
  "language_info": {
   "codemirror_mode": {
    "name": "ipython",
    "version": 3
   },
   "file_extension": ".py",
   "mimetype": "text/x-python",
   "name": "python",
   "nbconvert_exporter": "python",
   "pygments_lexer": "ipython3",
   "version": "3.6.1"
  }
 },
 "nbformat": 4,
 "nbformat_minor": 2
}
