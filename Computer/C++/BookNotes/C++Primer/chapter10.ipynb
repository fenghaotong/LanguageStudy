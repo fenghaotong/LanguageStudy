{
 "cells": [
  {
   "cell_type": "markdown",
   "metadata": {},
   "source": [
    "# 第十章 泛型算法\n",
    "\n",
    "- [X] 概述\n",
    "- [X] 初识泛型算法\n",
    "- [X] 定制操作\n",
    "- [X] 再探迭代器\n",
    "- [X] 泛型算法结构\n",
    "- [X] 特定容器算法"
   ]
  },
  {
   "cell_type": "markdown",
   "metadata": {},
   "source": [
    "- 顺序容器只定义了很少的操作，在多数情况下，我们可以添加和删除元素、访问首尾元素、确定容器是否为空以及获得指向首元素和尾元素之后位置的迭代器\n",
    "- 我们可以想象用户可能还希望做其他有用的操作：查找特定元素、替换或删除一个特定值、重排元素顺序等。\n",
    "- 标准库并未给每个容器都定义成员函数来实现这些操作，而是定一了一组泛算法：称他们为算法，是因为它们可以实现一些经典算法的公共接口，如排序和搜索，称他们是泛型的，是因为他们可以用于不同类型的元素和多种容器类型。"
   ]
  },
  {
   "cell_type": "markdown",
   "metadata": {},
   "source": [
    "## 概述\n",
    "\n",
    "- 大多数算法都定义在头文件algorithm中，标准库还在头文件numeric中定义了一组数值泛型算法"
   ]
  },
  {
   "cell_type": "markdown",
   "metadata": {},
   "source": [
    "```C++\n",
    "vector<int> vec;\n",
    "int val = 42;\n",
    "//在vec中找到想要的元素，找到返回结果就指向它，没找到，就返回vec.cend()\n",
    "auto result = find(vec.begin(), vec.end(), val);\n",
    "```"
   ]
  },
  {
   "cell_type": "markdown",
   "metadata": {},
   "source": [
    "** 算法如何工作 **"
   ]
  },
  {
   "cell_type": "markdown",
   "metadata": {},
   "source": [
    "** 迭代器令算法不依赖于容器，但算法依赖于元素类型的操作 **"
   ]
  },
  {
   "cell_type": "code",
   "execution_count": 2,
   "metadata": {},
   "outputs": [
    {
     "name": "stdout",
     "output_type": "stream",
     "text": [
      "Overwriting ../../Code/C++PrimerCode/chapter10/1.cpp\n"
     ]
    }
   ],
   "source": [
    "%%writefile ../../Code/C++PrimerCode/chapter10/1.cpp\n",
    "/*\n",
    " * This code is writed by htfeng.\n",
    " *\n",
    " * \"Copyright (c) 2017 by Objectwrite.\"\n",
    " * Date: 2017-09-14\n",
    " * Time: 15:13pm\n",
    " *\n",
    " *  The code is the answer to exercise 1 of the tenth chapter about the book \"C++ Primer, Fifth Edition\".\n",
    " *\n",
    " * If you have any question,please contact me.\n",
    " *\n",
    " * Email:1054708869@qq.com\n",
    "*/\n",
    "\n",
    "#include <iostream>\n",
    "#include <vector>\n",
    "#include <algorithm>\n",
    "#include <string>\n",
    "#include <list>\n",
    "\n",
    "using namespace std;\n",
    "\n",
    "int main(int argc, char **argv){\n",
    "\tvector<int> vec = {1,2,3,4,5,7,8,1,2,4,1,2};\n",
    "\tlist<string> slist = {\"hello\",\"feng\", \"hao\", \"tong\", \"hello\"};\n",
    "\tint val = 1;\n",
    "\tstring val2 = \"hello\";\n",
    "\n",
    "\n",
    "\tauto result = count(vec.begin(), vec.end(), val);\n",
    "\tauto result2 = count(slist.begin(), slist.end(), val2);\n",
    "\n",
    "\tcout << val << \" numbers: \" << result << endl;\n",
    "\tcout << val2 << \" numbers: \" << result2 << endl;\n",
    "\treturn 0;\n",
    "}"
   ]
  },
  {
   "cell_type": "markdown",
   "metadata": {},
   "source": [
    "## 初识泛型算法"
   ]
  },
  {
   "cell_type": "markdown",
   "metadata": {},
   "source": [
    "### 只读算法"
   ]
  },
  {
   "cell_type": "markdown",
   "metadata": {},
   "source": [
    "- fing()\n",
    "- count()\n",
    "- accumulate()\n",
    "- equal()"
   ]
  },
  {
   "cell_type": "markdown",
   "metadata": {},
   "source": [
    "** accumulate **\n",
    "\n",
    "- 这个算法的第三个参数决定了函数中使用哪个加法元算\n",
    "\n",
    "```C++\n",
    "int sum = accumulate(vec.cbegin(), vec.cend(), 0);//对vec中的元素求和，初值为0\n",
    "\n",
    "stirng sum = accumulate(v.cbegin(), v.cend(), string(\"\"));//将v中的每个元素连接到一个string上\n",
    "```"
   ]
  },
  {
   "cell_type": "markdown",
   "metadata": {},
   "source": [
    "** equal（） **\n",
    "\n",
    "- 操作两个序列\n",
    "- 如果所有元素相等返回true\n",
    "- 比较的是容器里面的元素，不是容器的类型\n",
    "\n",
    "```C++\n",
    "\n",
    "equal(roster1.cbegin(), roster1.cend(), roster2.cbegin());\n",
    "```"
   ]
  },
  {
   "cell_type": "markdown",
   "metadata": {},
   "source": [
    "### 写容器元素的算法"
   ]
  },
  {
   "cell_type": "markdown",
   "metadata": {},
   "source": [
    "** 算法不接受写操作 **\n",
    "\n",
    "- fill_n()\n",
    "- fill_n(vec.vegin(), vec.size(), 0)\n",
    "- 不能在一个空容器上调用fill_n"
   ]
  },
  {
   "cell_type": "markdown",
   "metadata": {},
   "source": [
    "** back_inserter **\n",
    "\n",
    "- 在头文件iterator中\n",
    "- 一种保证算法有足够元素空间来容纳输出数据的方法是使用插入迭代器\n",
    "- 插入迭代器是一种相容器中添加元素的迭代器，通常情况下，当我们通过一个迭代器相容器中赋值时，值被赋予迭代器指向的元素，而当我们通过一个插入迭代器赋值时，一个与赋值号右侧值相等的元素被添加到容器中"
   ]
  },
  {
   "cell_type": "markdown",
   "metadata": {},
   "source": [
    "```C++\n",
    "vector<int> vec;\n",
    "auto it =  back_inserter(vec);//通过它赋值会将元素添加到vec中\n",
    "*it = 42; //vec中现有一个元素，值为42\n",
    "```"
   ]
  },
  {
   "cell_type": "markdown",
   "metadata": {},
   "source": [
    "```C++\n",
    "vector<int> vec;\n",
    "fill_n(back_inserter(vec), 10, 0); //每次赋值都会在vec上调用push_back()\n",
    "```"
   ]
  },
  {
   "cell_type": "markdown",
   "metadata": {},
   "source": [
    "** 拷贝算法 **\n",
    "\n",
    "- copy()\n",
    "- 接受三个迭代器的值\n",
    "- 返回的是其目的的位置迭代器\n",
    "- replace()\n",
    "- replace_copy()"
   ]
  },
  {
   "cell_type": "markdown",
   "metadata": {},
   "source": [
    "```C++\n",
    "int a1[] = {0,1,2,3,4,5,6,7,8,9};\n",
    "int a2[sizeof(a1)/sizeof(*a1)];\n",
    "\n",
    "auto ret = copy(begin(a1), end(a1), a2); //ret指向拷贝到a2的尾元素之后的位置\n",
    "```"
   ]
  },
  {
   "cell_type": "markdown",
   "metadata": {},
   "source": [
    "```C++\n",
    "replace(ilst.begin(), ilst.end(), 0, 42); //将ilst中的所有0都替换成42\n",
    "//ilst中的值没有改变，ivec是ilst的拷贝，将ivec中所有0都替换成42\n",
    "replace_copy(ilst.begin(), ilst.end(), back_inserter(ivec), 0, 42);\n",
    "```"
   ]
  },
  {
   "cell_type": "markdown",
   "metadata": {},
   "source": [
    "### 重排容器元素的算法"
   ]
  },
  {
   "cell_type": "markdown",
   "metadata": {},
   "source": [
    "** 消除重复单词 **\n",
    "\n",
    "- 为了消除重复单词，首先将vector排序，使得重复的单词都相邻出现\n",
    "- 一旦vector排序完成，我们就可以使用另一个成为unique的标准库算法重排vector，使得不重复的元素出现在vector的开始部分\n",
    "- 由于算法不能执行容器操作，我们将使用vector的erase成员来完成真正的删除操作"
   ]
  },
  {
   "cell_type": "markdown",
   "metadata": {},
   "source": [
    "```C++\n",
    "void elimDups(vector<string> &words){\n",
    "    sort(words.begin(), words.end());\n",
    "    auto end_unique = unique(words.begin(), words.end());// 返回第一个不重复区域之后一个位置的迭代器\n",
    "    words.erase(end_unique, words.end());\n",
    "}\n",
    "```"
   ]
  },
  {
   "cell_type": "markdown",
   "metadata": {},
   "source": [
    "> 上述的unique函数是指把两个相同的元素覆盖了，没有真正意义上的删除，元素个数没变，只是容器最后几个位置不知道是什么，于是用了erase删除"
   ]
  },
  {
   "cell_type": "code",
   "execution_count": 3,
   "metadata": {},
   "outputs": [
    {
     "name": "stdout",
     "output_type": "stream",
     "text": [
      "Writing ../../Code/C++PrimerCode/chapter10/9.cpp\n"
     ]
    }
   ],
   "source": [
    "%%writefile ../../Code/C++PrimerCode/chapter10/9.cpp\n",
    "/*\n",
    " * This code is writed by htfeng.\n",
    " *\n",
    " * \"Copyright (c) 2017 by Objectwrite.\"\n",
    " * Date: 2017-09-14\n",
    " * Time: 16:22pm\n",
    " *\n",
    " *  The code is the answer to exercise 9 of the tenth chapter about the book \"C++ Primer, Fifth Edition\".\n",
    " *\n",
    " * If you have any question,please contact me.\n",
    " *\n",
    " * Email:1054708869@qq.com\n",
    "*/\n",
    "\n",
    "#include<iostream>  \n",
    "#include<string>  \n",
    "#include<vector>  \n",
    "#include<algorithm>  \n",
    "#include<numeric>  \n",
    "using namespace std;  \n",
    "  \n",
    "void elimDups(vector<string> &s)  \n",
    "{  \n",
    "    cout<<\"排序前：\";  \n",
    "    for (int i = 0; i<s.size(); ++i)  \n",
    "    {  \n",
    "        cout<<s[i]<<\" \";  \n",
    "    }  \n",
    "    cout<<endl<<\"sort()排序后：\";  \n",
    "    sort(s.begin(),s.end());//sort排序  \n",
    "    for (int i = 0; i<s.size(); ++i)  \n",
    "    {  \n",
    "        cout<<s[i]<<\" \";  \n",
    "    }  \n",
    "    cout<<endl<<\"unique()排序后：\";  \n",
    "    vector<string>::iterator str = unique(s.begin(),s.end());//unique排序  \n",
    "    for (int i = 0; i<s.size(); ++i)  \n",
    "    {  \n",
    "        cout<<s[i]<<\" \";  \n",
    "    }  \n",
    "    cout<<endl<<\"erase()操作后：\";  \n",
    "    s.erase(str,s.end());//erase()操作  \n",
    "    for (int i = 0; i<s.size(); ++i)  \n",
    "    {  \n",
    "        cout<<s[i]<<\" \";  \n",
    "    }  \n",
    "  \n",
    "}  \n",
    "int main(int argc, char**argv)  \n",
    "{  \n",
    "    string a[10] = {\"because\",\"I\",\"Like\",\"Like\",\"C++\",\"very\",\"very\",\"much\",\"that's\",\"why\"};  \n",
    "    vector<string> s(a,a+10);  \n",
    "    elimDups(s);  \n",
    "  \n",
    "    return 0;  \n",
    "}  "
   ]
  },
  {
   "cell_type": "markdown",
   "metadata": {},
   "source": [
    "## 定制操作"
   ]
  },
  {
   "cell_type": "markdown",
   "metadata": {},
   "source": [
    "### 向算法传递参数"
   ]
  },
  {
   "cell_type": "markdown",
   "metadata": {},
   "source": [
    "** 谓词 **\n",
    "\n",
    "- 谓词是一个可调用的表达式，其返回结果是一个能用作条件的值\n",
    "- 一元谓词：接受一个参数\n",
    "- 二元谓词：接受两个参数"
   ]
  },
  {
   "cell_type": "markdown",
   "metadata": {},
   "source": [
    "```C++\n",
    "bool isShorter(const string &s1, const string &2){\n",
    "    return s1.size() < s2.size();\n",
    "}\n",
    "\n",
    "//按长度由短至长排序words\n",
    "sort(words.begin(), words.end(), isshorter);\n",
    "```"
   ]
  },
  {
   "cell_type": "markdown",
   "metadata": {},
   "source": [
    "** 排序算法 **\n",
    "\n",
    "```C++\n",
    "elimDups(words);\n",
    "stable_sorts(words.begin(), words.end(), isShorter); //按长度排序，长度相同的单词维持字典顺序\n",
    "for (const auto &s:words)\n",
    "    cout << s << endl;\n",
    "```"
   ]
  },
  {
   "cell_type": "markdown",
   "metadata": {},
   "source": [
    "** lambda表达式 **\n",
    "\n",
    "`\n",
    "[capture list](parameter list) -> return type {function body)\n",
    "`\n",
    "\n",
    "- capture list捕获列表\n",
    "- parameter list参数列表\n",
    "- function body函数体“"
   ]
  },
  {
   "cell_type": "markdown",
   "metadata": {},
   "source": [
    "- find_if函数查找第一个具有特定大小的元素\n",
    "- 三个参数，前两个是迭代器，最后一个是一个谓词\n",
    "- find_if算法对输入序列的每个元素调用给定的这个谓词，返回一个使谓词返回非零值的元素，如果不存在这样的元素，则返回为迭代器"
   ]
  },
  {
   "cell_type": "markdown",
   "metadata": {},
   "source": [
    "```C++\n",
    "//使用此lambda，我们就可以查找第一个长度大于等于sz的元素\n",
    "//words里面的元素已经经过排序\n",
    "auto wc = find_if(words.begin(), words.end(), [sz](const string &a){return a.size() >= sz;});\n",
    "//计算计算满足size >= sz的元素的个数\n",
    "auto count = words.end() - wc;\n",
    "cout << count << \" \" << make_plural(count, \"word\", \"s\") << \" of length\" << sz << \"or longer\" << endl;\n",
    "```"
   ]
  },
  {
   "cell_type": "markdown",
   "metadata": {},
   "source": [
    "** for_each算法  **"
   ]
  },
  {
   "cell_type": "markdown",
   "metadata": {},
   "source": [
    "```C++\n",
    "//打印长度大于等于给定值的单词，每个单词后面接一个空格 \n",
    "for_each(wc, words.end(), [](const string &s){cout << s << \" \";});\n",
    "cout << endl;\n",
    "```"
   ]
  },
  {
   "cell_type": "markdown",
   "metadata": {},
   "source": [
    "```C++\n",
    "void biggies(vector<string> &words, vector<string>::size_type sz){\n",
    "    elimDups(words);\n",
    "    stable_sort(words.begin(), words.end(), [](const string &a, const string &b){return a.size() < b.size();});\n",
    "    //使用此lambda，我们就可以查找第一个长度大于等于sz的元素\n",
    "    //words里面的元素已经经过排序\n",
    "    auto wc = find_if(words.begin(), words.end(), [sz](const string &a){return a.size() >= sz;});\n",
    "    //计算计算满足size >= sz的元素的个数\n",
    "    auto count = words.end() - wc;\n",
    "    cout << count << \" \" << make_plural(count, \"word\", \"s\") << \" of length\" << sz << \"or longer\" << endl;\n",
    "    //打印长度大于等于给定值的单词，每个单词后面接一个空格 \n",
    "    for_each(wc, words.end(), [](const string &s){cout << s << \" \";});\n",
    "    cout << endl;\n",
    "```"
   ]
  },
  {
   "cell_type": "code",
   "execution_count": 5,
   "metadata": {},
   "outputs": [
    {
     "name": "stdout",
     "output_type": "stream",
     "text": [
      "Overwriting ../../Code/C++PrimerCode/chapter10/18.cpp\n"
     ]
    }
   ],
   "source": [
    "%%writefile ../../Code/C++PrimerCode/chapter10/18.cpp\n",
    "/*\n",
    " * This code is writed by htfeng.\n",
    " *\n",
    " * \"Copyright (c) 2017 by Objectwrite.\"\n",
    " * Date: 2017-09-14\n",
    " * Time: 19:08pm\n",
    " *\n",
    " *  The code is the answer to exercise 18 of the tenth chapter about the book \"C++ Primer, Fifth Edition\".\n",
    " *\n",
    " * If you have any question,please contact me.\n",
    " *\n",
    " * Email:1054708869@qq.com\n",
    "*/\n",
    "\n",
    "#include <iostream>  \n",
    "#include <string>  \n",
    "#include <vector>  \n",
    "#include <algorithm>  \n",
    "#include <numeric>  \n",
    "using namespace std; \n",
    "\n",
    "void elimDups(vector<string> &words){\n",
    "\tsort(words.begin(), words.end());\n",
    "\tauto end_unique = unique(words.begin(), words.end());\n",
    "\twords.erase(end_unique, words.end());\n",
    "}\n",
    "\n",
    "void biggies(vector<string> words, vector<string>::size_type sz){\n",
    "\telimDups(words);\n",
    "\tstable_sort(words.begin(), words.end(), [](const string &a,const string &b){return a.size() < b.size();});\n",
    "    auto it = stable_partition(words.begin(), words.end(), [sz](const string &a){return a.size() <= sz;});\n",
    "    for(it; it != words.end(); ++it){\n",
    "    \tcout << *it << \" \";\n",
    "    }\n",
    "\n",
    "    cout << endl;\n",
    "}\n",
    "\n",
    "int main(int argc, char **argv){\n",
    "\tvector<string> words = {\"hello\", \"my\", \"name\", \"is\", \"feng\", \"hao\", \"tong\", \"hello\"};\n",
    "\tint sz = 3;\n",
    "\tbiggies(words, sz);\n",
    "\treturn 0;\n",
    "}"
   ]
  },
  {
   "cell_type": "markdown",
   "metadata": {
    "collapsed": true
   },
   "source": [
    "### lambda捕获和返回"
   ]
  },
  {
   "cell_type": "markdown",
   "metadata": {},
   "source": [
    "** 值捕获 **\n",
    "\n",
    "```C++\n",
    "void fun1(){\n",
    "    size_t v1 = 42;\n",
    "    auto f = [v1]{return v1;};\n",
    "    \n",
    "    v1 = 0;\n",
    "    auto j = f();//j的值为42\n",
    "```"
   ]
  },
  {
   "cell_type": "markdown",
   "metadata": {},
   "source": [
    "** 引用捕获 **\n",
    "\n",
    "```C++\n",
    "void fun1(){\n",
    "    size_t v1 = 42;\n",
    "    auto f = [&v1]{return v1;};\n",
    "\n",
    "    v1 = 0;\n",
    "    auto j = f();//j的值为0,f保存了v1的引用\n",
    "```"
   ]
  },
  {
   "cell_type": "markdown",
   "metadata": {},
   "source": [
    "> 当以引用方式捕获一个变量时，必须保证在lambda执行时变量是存在的"
   ]
  },
  {
   "cell_type": "markdown",
   "metadata": {},
   "source": [
    "```C++\n",
    "void biggies(vector<string> &words, vector<string>::size_type sz, ostream  &os, char c = \" \"){\n",
    "    for_each(words.begin(), words.end(), [&os, c](const string &s){os << s << c;});\n",
    "```"
   ]
  },
  {
   "cell_type": "markdown",
   "metadata": {},
   "source": [
    "** 隐式捕获 **\n",
    "\n",
    "- []中的&表示采用引用捕获，=表示值捕获"
   ]
  },
  {
   "cell_type": "markdown",
   "metadata": {},
   "source": [
    "```C++\n",
    "wc = find_if(words.cbegin(), words.cend(), [=]()const string &s){return s.size() >= sz;});\n",
    "\n",
    "void biggies(vector<string> &words, vector<string>::size_type sz, ostream &os, char c = ' '){\n",
    "    for_each(words.begin(), words.end(), [&, c](const string &s){os << s << c;});\n",
    "    for_each(words.begin(), words.end(), [=, &os](const string &s){os << s << c;});\n",
    "}\n",
    "```"
   ]
  },
  {
   "cell_type": "markdown",
   "metadata": {},
   "source": [
    "** 可变lambda **\n",
    "\n",
    "- 默认情况下，对于一个值被拷贝的变量，lambda不会改变其值，如果我们希望能改变一个被捕获的变量的值，就必须在参数列表首加上关键字“mutable”"
   ]
  },
  {
   "cell_type": "markdown",
   "metadata": {},
   "source": [
    "\n",
    "```C++\n",
    "void fun1(){\n",
    "    size_t v1 = 42;\n",
    "    auto f = [v1] () mutable {return ++v1;};\n",
    "    \n",
    "    v1 = 0;\n",
    "    auto j = f();//j的值为43\n",
    "```"
   ]
  },
  {
   "cell_type": "markdown",
   "metadata": {},
   "source": [
    "\n",
    "```C++\n",
    "void fun1(){\n",
    "    size_t v1 = 42;\n",
    "    auto f = [&v1] {return ++v1;};\n",
    "\n",
    "    v1 = 0;\n",
    "    auto j = f();//j的值为1,f保存了v1的引用\n",
    "```"
   ]
  },
  {
   "cell_type": "markdown",
   "metadata": {},
   "source": [
    "** 指定lambda返回类型 **\n",
    "\n",
    "- transform（）接受三个迭代器和一个可调用对象，将输入序列中每个元素替换成可调用对象操作该元素得到的值\n",
    "\n",
    "```C++\n",
    "transform(vi.begin(), vi.end(), vi.begin(), [](int i){if (i < 0) return -i; else return i;});  //错误，不能推断lambda的返回类型\n",
    "\n",
    "//正确写法\n",
    "transform(vi.begin(), ve.end(), vi.begin(), [](int i) -> int {if (i < 0) return -i; else return i;}); \n",
    "```"
   ]
  },
  {
   "cell_type": "markdown",
   "metadata": {},
   "source": [
    "### 参数绑定"
   ]
  },
  {
   "cell_type": "markdown",
   "metadata": {},
   "source": [
    "- lambda一般用于只在一两个地方使用的简单操作，如果一个操作被不断重复利用，通常应该定义一个函数\n",
    "\n",
    "```C++\n",
    "bool check_size(const string &s, string::size_type sz){\n",
    "    return s.size >= sz;\n",
    "}\n",
    "```\n",
    "\n",
    "- 但是这个函数不能作为find_if的参数，它只接受一元谓词，因此传递给find_ifde 可调用参数必须接受单一参数\n",
    "- 就用到了另一个标准库看书bind函数"
   ]
  },
  {
   "cell_type": "markdown",
   "metadata": {},
   "source": [
    "** 标准库bind函数 **\n",
    "\n",
    "- 定义在头文件functional中\n",
    "`\n",
    "auto newCallable = bind(callable, arg_list)\n",
    "`"
   ]
  },
  {
   "cell_type": "markdown",
   "metadata": {},
   "source": [
    "- arg_list中的参数可能包含形如`_n`的名字，这些参数是“占位符”，表示newCallable的新参数\n",
    "\n",
    "```C++\n",
    "auto check6 = bind(check_size, _1, 6);\n",
    "\n",
    "string s = \"hello\";\n",
    "bool b1 = check(s); //check(s)会调用check_size(s, 6)\n",
    "```"
   ]
  },
  {
   "cell_type": "markdown",
   "metadata": {},
   "source": [
    "- 使用bind，可以将原来的lambda的find_if调用：\n",
    "\n",
    "```C++\n",
    "auto wc = find_if(words.begin(), words.end(), [sz](const string &s){return s.size() >= sz;});\n",
    "\n",
    "auto wc = find_if(worsd.begin(), words.end(), bind(check_size, _1, sz));\n",
    "```"
   ]
  },
  {
   "cell_type": "markdown",
   "metadata": {},
   "source": [
    "** 使用placeholders名字 **\n",
    "\n",
    "- `_n`都定义在名为placeholders的命名空间中，这个命令空间本身定义在std命名空间\n",
    "\n",
    "```C++\n",
    "using namespace std::placeholders;\n",
    "```"
   ]
  },
  {
   "cell_type": "markdown",
   "metadata": {},
   "source": [
    "** bind的参数 **\n",
    "\n",
    "- 加入f是个可调用对象， 有五个参数\n",
    "\n",
    "```C++\n",
    "auto g = bind(f, a, b, _1, c, _2);\n",
    "g(x, y); //调用g(x, y)就先刚与调用f(a, b, x, c, y)\n",
    "```"
   ]
  },
  {
   "cell_type": "markdown",
   "metadata": {},
   "source": [
    "** 绑定引用参数 **\n",
    "\n",
    "- 默认情况下，bind的那些不是占位符的参数被拷贝到bind返回的可调用对象中，但是，与lambda相似，有时对有些绑定的参数我们希望以引用方式传递，或是要绑定的参数的类型无法拷贝\n",
    "- 这时就用到了一个标准库函数ref函数，返回一个对象包含给定的引用，cref函数，生成一个保存const引用的类\n"
   ]
  },
  {
   "cell_type": "markdown",
   "metadata": {},
   "source": [
    "```C++\n",
    "ostream &print(ostream &os, const string &s, char c){\n",
    "    return os << s << c;\n",
    "}\n",
    "\n",
    "for_each(words.begin(), words,end(), bind(print, os, _1, ' ')); //错误\n",
    "for_each(words.begin(), words.emd(), bind(print, ref(os), _1, ' '));//正确\n",
    "```"
   ]
  },
  {
   "cell_type": "code",
   "execution_count": 2,
   "metadata": {},
   "outputs": [
    {
     "name": "stdout",
     "output_type": "stream",
     "text": [
      "Overwriting ../../Code/C++PrimerCode/chapter10/22.cpp\n"
     ]
    }
   ],
   "source": [
    "%%writefile ../../Code/C++PrimerCode/chapter10/22.cpp\n",
    "/*\n",
    " * This code is writed by htfeng.\n",
    " *\n",
    " * \"Copyright (c) 2017 by Objectwrite.\"\n",
    " * Date: 2017-09-15\n",
    " * Time: 16:18pm\n",
    " *\n",
    " *  The code is the answer to exercise 22 of the tenth chapter about the book \"C++ Primer, Fifth Edition\".\n",
    " *\n",
    " * If you have any question,please contact me.\n",
    " *\n",
    " * Email:1054708869@qq.com\n",
    "*/\n",
    "\n",
    "#include <iostream>\n",
    "#include <vector>\n",
    "#include <functional>\n",
    "#include <string>\n",
    "#include <algorithm>  \n",
    "#include <numeric> \n",
    "\n",
    "using namespace std;\n",
    "using namespace std::placeholders;\n",
    "\n",
    "bool isShorter(const string &s, string::size_type sz){\n",
    "\treturn s.size() <= sz;\n",
    "}\n",
    "\n",
    "int main(int argc, char **argv){\n",
    "\tstring a[] = {\"hello\", \"feng\", \"hao\", \"tong\", \"fenghaotong\"};\n",
    "\tvector<string> svec(a, a + 5);\n",
    "\tint sz = 6;\n",
    "\n",
    "\tcout << \"<6:\" << count_if(svec.begin(), svec.end(), bind(isShorter, _1, sz)) << endl;\n",
    "\treturn 0;\n",
    "}"
   ]
  },
  {
   "cell_type": "markdown",
   "metadata": {},
   "source": [
    "## 再探迭代器\n",
    "\n",
    "- 除了为每个容器定义的迭代器，标准库在头文件iterator中还定义了额外的几种迭代器\n",
    "- 插入迭代器：这些迭代器被绑到一个容器，可用来向容器插入元素\n",
    "- 流迭代器：这些迭代器被绑到输入或者输出流上，可用来遍历所关联的IO流\n",
    "- 反向迭代器：这些迭代器向后面不是向前移动，除了forward_list之外的标准库容器都有反向迭代器\n",
    "- 移动迭代器：这些专用迭代器不是拷贝其中的元素，而是移动他们。"
   ]
  },
  {
   "cell_type": "markdown",
   "metadata": {},
   "source": [
    "### 插入迭代器\n",
    "\n",
    "- back_inserter 创建一个使用push_back的迭代器\n",
    "- front_inserter 创建一个使用push_front的迭代器\n",
    "- inserter 创建一个insert的迭代器"
   ]
  },
  {
   "cell_type": "code",
   "execution_count": 5,
   "metadata": {},
   "outputs": [
    {
     "name": "stdout",
     "output_type": "stream",
     "text": [
      "Overwriting ../../Code/C++PrimerCode/chapter10/28.cpp\n"
     ]
    }
   ],
   "source": [
    "%%writefile ../../Code/C++PrimerCode/chapter10/28.cpp\n",
    "/*\n",
    " * This code is writed by htfeng.\n",
    " *\n",
    " * \"Copyright (c) 2017 by Objectwrite.\"\n",
    " * Date: 2017-09-15\n",
    " * Time: 17:09pm\n",
    " *\n",
    " *  The code is the answer to exercise 28 of the tenth chapter about the book \"C++ Primer, Fifth Edition\".\n",
    " *\n",
    " * If you have any question,please contact me.\n",
    " *\n",
    " * Email:1054708869@qq.com\n",
    "*/\n",
    "#include <iostream>    \n",
    "#include <string>    \n",
    "#include <vector>    \n",
    "#include <algorithm>    \n",
    "#include <numeric>    \n",
    "#include <functional>  \n",
    "#include <iterator>  \n",
    "#include <list>\n",
    "using namespace std;  \n",
    "using namespace placeholders;//占位符的命名空间  \n",
    "  \n",
    "int main(int argc, char**argv)    \n",
    "{    \n",
    "    int a[10] = {1,2,3,4,5,6,7,8,9};    \n",
    "    vector<int> vec1(a,a+9);//利用数组初始化vector    \n",
    "    vector<int> vec2;  \n",
    "    list<int> vec3;  \n",
    "    vector<int> vec4;  \n",
    "  \n",
    "    //实现包含头文件iterator  \n",
    "    copy(vec1.cbegin(),vec1.cend(),back_inserter(vec2));  \n",
    "    copy(vec1.cbegin(),vec1.cend(),front_inserter(vec3));//不支持push_front?,vector这个容器不支持  \n",
    "    copy(vec1.cbegin(),vec1.cend(),inserter(vec4,vec4.begin()));  \n",
    "  \n",
    "    cout<<\"vec2字符为：\";  \n",
    "    for (int i = 0; i<vec2.size(); ++i)  \n",
    "    {  \n",
    "        cout<<vec2[i]<<\" \";  \n",
    "    }  \n",
    "    cout<<endl<<\"vec3字符为：\";  \n",
    "    for (auto i = vec3.begin(); i != vec3.end(); ++i)  \n",
    "    {  \n",
    "        cout<<*i<<\" \";  \n",
    "    }  \n",
    "    cout<<endl<<\"vec4字符为：\";  \n",
    "    for (int i = 0; i<vec4.size(); ++i)  \n",
    "    {  \n",
    "        cout<<vec4[i]<<\" \";  \n",
    "    }  \n",
    "    return 0;    \n",
    "}    "
   ]
  },
  {
   "cell_type": "markdown",
   "metadata": {},
   "source": [
    "### iostream迭代器\n",
    "\n",
    "- istream_iterator：读取输入流\n",
    "- ostream_iterator: 向一个输出流写数据"
   ]
  },
  {
   "cell_type": "markdown",
   "metadata": {},
   "source": [
    "** istream_iterator操作 **\n",
    "\n",
    "```C++\n",
    "istream_iterator<int> in_iter(cin), eof; //从cin读取int  eof为尾后迭代器\n",
    "vector<int> vec(int_iter, eof);\n",
    "```"
   ]
  },
  {
   "cell_type": "markdown",
   "metadata": {},
   "source": [
    "** 使用算法操作流迭代器 **\n",
    "\n",
    "```C++\n",
    "istream_iterator<int> in(cin), eof;\n",
    "cout << accumulate(in, eof, 0) << endl;\n",
    "```"
   ]
  },
  {
   "cell_type": "markdown",
   "metadata": {},
   "source": [
    "** istream_iterator允许使用懒惰求值 **"
   ]
  },
  {
   "cell_type": "markdown",
   "metadata": {},
   "source": [
    "** ostream_iterstor操作 **\n",
    "\n",
    "```C++\n",
    "ostream_iterator<int> out_iter(cout, \" \");\n",
    "for (auto e : vec)\n",
    "    out_iter = e;\n",
    "cout << endl;\n",
    "```"
   ]
  },
  {
   "cell_type": "markdown",
   "metadata": {},
   "source": [
    "```C++\n",
    "copy(vec.begin(), vec.end(), out_iter);\n",
    "cout << endl;\n",
    "```"
   ]
  },
  {
   "cell_type": "markdown",
   "metadata": {},
   "source": [
    "** 使用流迭代器处理类类型 **\n"
   ]
  },
  {
   "cell_type": "markdown",
   "metadata": {},
   "source": [
    "```C++\n",
    "istream_iterator<Sales_item> item_iter(cin), eof;\n",
    "ostream_iterator<Sales_item> out_iter(cout, \"\\n\");\n",
    "Sales_item sum = *item_iter++;\n",
    "while(item_iter != eof){\n",
    "    if(item_iter->isbn() == sum.isbn())\n",
    "        sum += *item_iter++;\n",
    "    else{\n",
    "        out_iter = sum;\n",
    "        sum = *item_iter++;\n",
    "    }\n",
    "}\n",
    "\n",
    "out_iter = sum;\n",
    "```"
   ]
  },
  {
   "cell_type": "code",
   "execution_count": 6,
   "metadata": {},
   "outputs": [
    {
     "name": "stdout",
     "output_type": "stream",
     "text": [
      "Writing ../../Code/C++PrimerCode/chapter10/33.cpp\n"
     ]
    }
   ],
   "source": [
    "%%writefile ../../Code/C++PrimerCode/chapter10/33.cpp\n",
    "/*\n",
    " * This code is writed by htfeng.\n",
    " *\n",
    " * \"Copyright (c) 2017 by Objectwrite.\"\n",
    " * Date: 2017-09-15\n",
    " * Time: 18:29pm\n",
    " *\n",
    " *  The code is the answer to exercise 29 of the tenth chapter about the book \"C++ Primer, Fifth Edition\".\n",
    " *\n",
    " * If you have any question,please contact me.\n",
    " *\n",
    " * Email:1054708869@qq.com\n",
    "*/\n",
    "#include<iostream>    \n",
    "#include<fstream>  \n",
    "#include<string>    \n",
    "#include<vector>    \n",
    "#include<algorithm>    \n",
    "#include<numeric>    \n",
    "#include<functional>  \n",
    "#include<iterator>  \n",
    "using namespace std;  \n",
    "using namespace placeholders;//占位符的命名空间  \n",
    "  \n",
    "int main(int argc, char**argv)    \n",
    "{    \n",
    "    ifstream in(/*argv[1]*/\"1.txt\");//导入第一个参数，作为输入文件  \n",
    "    istream_iterator<int> it1(in),end;//定义流迭代器，输入流，和输入流的尾迭代器  \n",
    "  \n",
    "    vector<int> vec1;//存储用vector  \n",
    "    /*  copy(it1,end,back_inserter(vec1));//将流中数据存入vector*/  \n",
    "    while (it1 != end)  \n",
    "    {  \n",
    "        vec1.push_back(*it1);  \n",
    "        ++it1;  \n",
    "    }  \n",
    "  \n",
    "    ofstream out(/*argv[2]*/\"2.txt\");  \n",
    "    ofstream out2(/*argv[3]*/\"3.txt\");//目标写文件  \n",
    "    ostream_iterator<int> it2(out,\"\\n\");//定义流迭代器，输出流，每行结尾换行  \n",
    "    ostream_iterator<int> it3(out2,\"\\n\");//定义流迭代器，输出流，每行结尾换行  \n",
    "    for (int i = 0; i<vec1.size(); ++i)  \n",
    "    {  \n",
    "        if (vec1[i]%2 == 0)//偶数  \n",
    "        {  \n",
    "            it2++ = vec1[i];//偶数放在2.txt中  \n",
    "        }   \n",
    "        else  \n",
    "        {  \n",
    "            it3++ = vec1[i];//奇数放在3.txt中  \n",
    "        }  \n",
    "    }  \n",
    "      \n",
    "    return 0;    \n",
    "}  "
   ]
  },
  {
   "cell_type": "markdown",
   "metadata": {
    "collapsed": true
   },
   "source": [
    "### 反向迭代器"
   ]
  },
  {
   "cell_type": "markdown",
   "metadata": {},
   "source": [
    "- vec.rbegin():指向尾元素之后的位置\n",
    "- vec.rend()：指向首元素\n",
    "- ++iter：向前移动一个位置"
   ]
  },
  {
   "cell_type": "markdown",
   "metadata": {},
   "source": [
    "** 反向迭代器需要递减运算符 **\n",
    "\n",
    "- forward_list()和流迭代器不能创建反向跌大气器"
   ]
  },
  {
   "cell_type": "markdown",
   "metadata": {},
   "source": [
    "** 反向迭代器和其他迭代器之间的关系 **"
   ]
  },
  {
   "cell_type": "markdown",
   "metadata": {
    "collapsed": true
   },
   "source": [
    "## 泛型算法结构\n",
    "\n",
    "- 输入迭代器\n",
    "- 输出迭代器\n",
    "- 前向迭代器\n",
    "- 双向迭代器\n",
    "- 随机访问迭代器"
   ]
  },
  {
   "cell_type": "markdown",
   "metadata": {},
   "source": [
    "### 5类迭代器"
   ]
  },
  {
   "cell_type": "markdown",
   "metadata": {},
   "source": [
    "- 输入迭代器：可以读取序列中的元素。\n",
    "- 输出迭代器，看作是输入迭代器的补集，可写。\n",
    "- 前向迭代器：单向，支持输入输出。\n",
    "- 双向迭代器：双向，支持读写，还支持递增递减运算符。\n",
    "- 随机访问迭代器：基本支持所有功能。"
   ]
  },
  {
   "cell_type": "markdown",
   "metadata": {},
   "source": [
    "** 算法的形参模式 ** \n",
    "\n",
    "- 大多数算法具有如下的四种形式   \n",
    "\n",
    "```\n",
    "- alg(beg, end, other args);\n",
    "- alg(beg, end, dest, other args);\n",
    "- alg(beg, end, beg2, other args);\n",
    "- alg(beg, end, beg2, end2, other args);\n",
    "```"
   ]
  },
  {
   "cell_type": "markdown",
   "metadata": {},
   "source": [
    "### 算法命名规范"
   ]
  },
  {
   "cell_type": "markdown",
   "metadata": {},
   "source": [
    "** 一些算法使用重载形式传递一个谓词 **"
   ]
  },
  {
   "cell_type": "markdown",
   "metadata": {},
   "source": [
    "** `_if`版本的算符 **\n",
    "\n",
    "- find()\n",
    "- find_if()"
   ]
  },
  {
   "cell_type": "markdown",
   "metadata": {},
   "source": [
    "** 拷贝元素的版本和不拷贝元素的版本 **\n",
    "\n",
    "- 一般拷贝元素的版本要在函数名字后加上`_copy`"
   ]
  },
  {
   "cell_type": "markdown",
   "metadata": {},
   "source": [
    "```C++\n",
    "reverse(beg, end);       //反转输入范围中元素的顺序\n",
    "reverse_copy(beg, end, dest); //将元素按逆序拷贝到dest\n",
    "```"
   ]
  },
  {
   "cell_type": "markdown",
   "metadata": {},
   "source": [
    "## 特定容器算法"
   ]
  },
  {
   "cell_type": "markdown",
   "metadata": {},
   "source": [
    "- 针对list和forward_list\n",
    "- sort、merge、remove、reverse、unique\n",
    "- 通用的sort要求随机访问迭代器"
   ]
  },
  {
   "cell_type": "markdown",
   "metadata": {},
   "source": [
    "|函数|方法|\n",
    "|:----:|:---|\n",
    "|lst.merge(lst2),lst.merge(lst2.comp|将lst2的元素合并入lst，lst和lst2必须是有序的，元素将从lst2中删除，第一个版本使用<运算符，第二个版本使用给定操作|\n",
    "|lst.remove(val),lst.remove_if(pred)|调用erase删除与给定值相同的或者令一元谓词为真的每个元素|\n",
    "|lst.reverse()|反转lst中元素的排序|\n",
    "|lst.sort(), lst.sort(comp)|使用<或者给定的比较操作排序元素|\n",
    "|lst.unique(), lst.unique(pred)|调用erase删除同一个值的连续拷贝，第一个版本使用==，第二个版本使用给定的二元谓词|"
   ]
  },
  {
   "cell_type": "markdown",
   "metadata": {},
   "source": [
    "** splice成员 **\n",
    "\n",
    "- lst.splice(args)或flst.splice_after(args)\n",
    "\n",
    "|参数|含义|\n",
    "|:----:|:----|\n",
    "|(p, lst2)|p是一个指向lst中元素的迭代器，或一个指向flst首前位置的迭代器，函数将lst2所有元素移动到lst中p之前的位置或者flst中p之后的位置|\n",
    "|(p, lst2, p2)|p2是一个指向lst2位置的有效迭代器，将p2指向的元素移动到lst中或者将p2之后的元素移动发哦flst中|\n",
    "|(p, lst2, b, e)|b和e必须表示lst2中的合法范围，将给定范围中的元素，从lst2移动到lst或者flst|"
   ]
  },
  {
   "cell_type": "code",
   "execution_count": null,
   "metadata": {
    "collapsed": true
   },
   "outputs": [],
   "source": []
  }
 ],
 "metadata": {
  "kernelspec": {
   "display_name": "Python 3",
   "language": "python",
   "name": "python3"
  },
  "language_info": {
   "codemirror_mode": {
    "name": "ipython",
    "version": 3
   },
   "file_extension": ".py",
   "mimetype": "text/x-python",
   "name": "python",
   "nbconvert_exporter": "python",
   "pygments_lexer": "ipython3",
   "version": "3.6.1"
  }
 },
 "nbformat": 4,
 "nbformat_minor": 2
}
