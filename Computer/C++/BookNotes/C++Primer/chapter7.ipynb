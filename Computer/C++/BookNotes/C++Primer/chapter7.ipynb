{
 "cells": [
  {
   "cell_type": "markdown",
   "metadata": {},
   "source": [
    "# 第七章 类\n",
    "\n",
    "- 累的基本思想是数据抽象和封装，数据抽象是一种依赖于接口和实现分离编程的技术。\n",
    "\n",
    "- [X] 定义抽象类型 \n",
    "- [X] 访问控制与封装\n",
    "- [ ] 类的其他特性\n",
    "- [ ] 类的作用域  \n",
    "- [ ] 构造函数再探  \n",
    "- [ ] 累的静态成员函数"
   ]
  },
  {
   "cell_type": "markdown",
   "metadata": {
    "collapsed": true
   },
   "source": [
    "## 定义抽象数据类型"
   ]
  },
  {
   "cell_type": "markdown",
   "metadata": {},
   "source": [
    "- C++ 中保留了C语言的 struct 关键字，并且加以扩充。在C语言中，struct 只能包含成员变量，不能包含成员函数。\n",
    "- 而在C++中，struct 类似于 class，既可以包含成员变量，又可以包含成员函数。\n",
    "\n",
    "- C++中的 struct 和 class 基本是通用的，唯有几个细节不同：\n",
    "    - 1:使用 class 时，类中的成员默认都是 private 属性的；而使用 struct 时，结构体中的成员默认都是 public 属性的。(最本质的区别)\n",
    "    - 2:class 继承默认是 private 继承，而 struct 继承默认是 public 继承（《C++继承与派生》一章会讲解继承）。\n",
    "    - 3:class 可以使用模板，而 struct 不能。"
   ]
  },
  {
   "cell_type": "markdown",
   "metadata": {},
   "source": [
    "总结 \n",
    "- 1：struct作为数据结构的实现体，它默认的数据访问控制是public的，而class作为对象的实现体，它默认的成员变量访问控制是private的 \n",
    "- 2：当你觉得你要做的更像是一种数据结构的话，那么用struct，如果你要做的更像是一种对象的话，那么用class。  \n",
    "- 3：然而对于访问控制，应该在程序里明确的指出，而不是依靠默认，这是一个良好的习惯，也让你的代码更具可读性。  "
   ]
  },
  {
   "cell_type": "markdown",
   "metadata": {},
   "source": [
    "### 设计Sales_data类"
   ]
  },
  {
   "cell_type": "markdown",
   "metadata": {
    "collapsed": true
   },
   "source": [
    "### 定义改进的SAles_data"
   ]
  },
  {
   "cell_type": "markdown",
   "metadata": {
    "collapsed": true
   },
   "source": [
    "- 定义和声明成员函数的方式与普通函数差不多，成员函数的声明必须在累得内部，他的定义则既可以在类的内部也可以在类的外部\n",
    "\n",
    "```C++\n",
    "struct Sales_data{\n",
    "    std::string isbn() const {return bookNo;}\n",
    "    Sales-data& combine(const Sales_data&);\n",
    "    double avg_price() const;\n",
    "    \n",
    "    std::string bookNo;\n",
    "    unsigned units_sold = 0;\n",
    "    double revenue = 0.0;\n",
    "};\n",
    "\n",
    "//Sales_data的非成员接口函数\n",
    "Sales_data add(const Sales_data&, const Sales_data&);\n",
    "std::ostream &print(std::ostream&, const Sales_data&);\n",
    "std::istream &read(std::istream&, Sales_data&);\n",
    "```"
   ]
  },
  {
   "cell_type": "markdown",
   "metadata": {},
   "source": [
    "** 定义成员函数 **\n",
    "\n",
    "- 尽管所有成员都必须在类的内部声明，但是成员函数体可以定义在类内也可以定义在类外\n",
    "- 就像上例中的isbn函数，定义在了类内，返回一个bookNo的数据成员，他是如何获得bookNo成员所依赖的对象呢？"
   ]
  },
  {
   "cell_type": "markdown",
   "metadata": {},
   "source": [
    "** 引入this **"
   ]
  },
  {
   "cell_type": "markdown",
   "metadata": {},
   "source": [
    "- 首先对isbn函数调用\n",
    "\n",
    "```C++\n",
    "Sales_data total;\n",
    "total.isbn();\n",
    "```"
   ]
  },
  {
   "cell_type": "markdown",
   "metadata": {},
   "source": [
    "- 成员函数通过一个名为this的额外的隐函数来访问调用它的那个对象，当我们调用一个成员函数时，用请求该函数的对象地址初始化this。"
   ]
  },
  {
   "cell_type": "markdown",
   "metadata": {},
   "source": [
    "** 引入const成员函数 **"
   ]
  },
  {
   "cell_type": "markdown",
   "metadata": {},
   "source": [
    "- isbn函数的另一个关键之处是紧随参数列表之后的const关键字，这里，const的作用是修改隐式this指针的类型\n",
    "- 默认情况下，this的类型是指向类类型非常量版本的常量指针。紧跟在参数列表后面的const表示this指向一个常量的指针，像这样使用const的成员函数被称作常量成员函数。"
   ]
  },
  {
   "cell_type": "markdown",
   "metadata": {},
   "source": [
    "** 类的作用域和成员函数 **\n",
    "\n",
    "- 成员函数体可以随意使用类中的其他成员函数而无需在意这些成员出现的次序。"
   ]
  },
  {
   "cell_type": "markdown",
   "metadata": {},
   "source": [
    "** 在类的的外部定义成员函数 **\n",
    "```C++\n",
    "double Sales_data::avg_price() const {\n",
    "    if (units_sold)\n",
    "        return revenue / units_sold;\n",
    "    else\n",
    "        return 0;\n",
    "}\n",
    "```"
   ]
  },
  {
   "cell_type": "markdown",
   "metadata": {},
   "source": [
    "** 定义一个返回this对象的函数 **"
   ]
  },
  {
   "cell_type": "markdown",
   "metadata": {},
   "source": [
    "```C++\n",
    "Sales_data& Sales_data::combine(const Sales_data &rha){\n",
    "    units_sold += rha.units_sold;\n",
    "    revenue += rha.revenue;\n",
    "    return *this;\n",
    "}\n",
    "```"
   ]
  },
  {
   "cell_type": "markdown",
   "metadata": {},
   "source": [
    "- 当我们的交易处理程序调用如下函数时\n",
    "```C++\n",
    "total.combine(trans);\n",
    "```\n",
    "> total地址被绑到this参数上，trans地址被绑到trans上。"
   ]
  },
  {
   "cell_type": "code",
   "execution_count": 7,
   "metadata": {},
   "outputs": [
    {
     "name": "stdout",
     "output_type": "stream",
     "text": [
      "Overwriting ../../Code/C++PrimerCode/chapter7/4.cpp\n"
     ]
    }
   ],
   "source": [
    "%%writefile ../../Code/C++PrimerCode/chapter7/4.cpp\n",
    "/*\n",
    " * This code is writed by htfeng.\n",
    " *\n",
    " * \"Copyright (c) 2017 by Objectwrite.\"\n",
    " * Date: 2017-08-30\n",
    " * Time: 10:00am\n",
    " *\n",
    " *  The code is the answer to exercise 4 of the seventh chapter about the book \"C++ Primer, Fifth Edition\".\n",
    " *\n",
    " * If you have any question,please contact me.\n",
    " *\n",
    " * Email:1054708869@qq.com\n",
    "*/\n",
    "\n",
    "#include <iostream>\n",
    "#include <string>\n",
    "\n",
    "using namespace::std;\n",
    "\n",
    "class Person {\n",
    "public:\n",
    "    Person(string client_name, string client_address);\n",
    "    Person();\n",
    "    void showInfo(){\n",
    "        cout<<name<<\"'s\"<<\" address is \"<<address<<endl;\n",
    "    }//类内定义函数\n",
    "\n",
    "    const string& getName(){\n",
    "        return name;\n",
    "    }\n",
    "\n",
    "    const string& getAddress(){\n",
    "        return address;\n",
    "    }\n",
    "private:\n",
    "    string name;\n",
    "    string address;\n",
    "};\n",
    "\n",
    "Person::Person(string client_name, string client_address):name(client_name),address(client_address){};\n",
    "\n",
    "int main(int argc,char **argv){\n",
    "    Person Client1(\"fenghaotong\",\"shanghai\");\n",
    "    Client1.showInfo();\n",
    "    Client1.getName();\n",
    "    return 0;\n",
    "}"
   ]
  },
  {
   "cell_type": "markdown",
   "metadata": {},
   "source": [
    "### 定义类的非成员函数"
   ]
  },
  {
   "cell_type": "code",
   "execution_count": 5,
   "metadata": {},
   "outputs": [
    {
     "name": "stdout",
     "output_type": "stream",
     "text": [
      "Overwriting ../../Code/C++PrimerCode/chapter7/Sales_data.cpp\n"
     ]
    }
   ],
   "source": [
    "%%writefile ../../Code/C++PrimerCode/chapter7/Sales_data.cpp\n",
    "/*\n",
    " * This code is writed by htfeng.\n",
    " *\n",
    " * \"Copyright (c) 2017 by Objectwrite.\"\n",
    " * Date: 2017-08-30\n",
    " * Time: 10:30am\n",
    " *\n",
    " * If you have any question,please contact me.\n",
    " *\n",
    " * Email:1054708869@qq.com\n",
    "*/\n",
    "\n",
    "#include \"Sales_data.h\"\n",
    "\n",
    "int main(int argc, char ** argv){\n",
    "    Sales_data total;\n",
    "    if(read(cin, total)){\n",
    "        Sales_data trans;\n",
    "        while(read(cin, trans)){\n",
    "            if(total.isbn() == trans.isbn()){\n",
    "                total.combine(trans);\n",
    "                print(cout, total) << endl;\n",
    "            }else{\n",
    "                print(cout, total) << endl;\n",
    "                total = trans;\n",
    "            }\n",
    "        }\n",
    "        print(cout, total) << endl;\n",
    "    }else{\n",
    "        cerr << \"NO data?!\" << endl;\n",
    "    }\n",
    "    return 0;\n",
    "}"
   ]
  },
  {
   "cell_type": "markdown",
   "metadata": {},
   "source": [
    "### 构造函数\n",
    "- 初始化类对象的数据成员\n",
    "- 构造函数的名字和类名相同，和其他函数不同的是，构造函数没有返回类型，除此之外，类似于其他的函数，构造函数也有一个参数列表和一个函数体。\n",
    "- 构造函数不能被声明成const的"
   ]
  },
  {
   "cell_type": "markdown",
   "metadata": {},
   "source": [
    "** 合成的默认构造函数 **"
   ]
  },
  {
   "cell_type": "markdown",
   "metadata": {},
   "source": [
    "** 某些类不能依赖于合成的默认构造函数 **"
   ]
  },
  {
   "cell_type": "markdown",
   "metadata": {},
   "source": [
    "- 1：在未声明任何构造函数的前提下，类内对象的初始化将不受控制\n",
    "\n",
    "- 2：合成的默认构造函数可能会造成不必要的错误，如若没有类内初始值来初始化成员，可能这些成员将是未定义的。\n",
    "\n",
    "- 3：如果类中包含了一个其他类类型的成员，且这个成员的类型没有默认构造函数，那么编译器将无法初始化该对象。\n",
    "\n",
    ">所以，在撰写类的时候，最好定义一个自己的构造函数。\n",
    "\n",
    "\n"
   ]
  },
  {
   "cell_type": "markdown",
   "metadata": {},
   "source": [
    "** 定义Sales_data的构造函数 **"
   ]
  },
  {
   "cell_type": "markdown",
   "metadata": {},
   "source": [
    "```C++\n",
    "struct Sales_data {\n",
    "    Sales_data() = default;\n",
    "    Sales_data(const string& s):bookNo(s){}\n",
    "    Sales_data(const string &s, unsigned n, double p):bookNo(s),units_sold(n),revenue(p*n){}\n",
    "    Sales_data(istream &);\n",
    "}\n",
    "```"
   ]
  },
  {
   "cell_type": "markdown",
   "metadata": {},
   "source": [
    "** =default的含义 **\n",
    "\n",
    "- 默认构造函数"
   ]
  },
  {
   "cell_type": "markdown",
   "metadata": {},
   "source": [
    "** 构造函数初始值列表 **"
   ]
  },
  {
   "cell_type": "markdown",
   "metadata": {},
   "source": [
    "```C++\n",
    "    Sales_data(const string& s):bookNo(s){}\n",
    "    Sales_data(const string &s, unsigned n, double p):bookNo(s),units_sold(n),revenue(p*n){}\n",
    "```"
   ]
  },
  {
   "cell_type": "markdown",
   "metadata": {},
   "source": [
    "- 冒号后面的叫做构造函数初始值列表"
   ]
  },
  {
   "cell_type": "markdown",
   "metadata": {},
   "source": [
    "** 在类的外部定义构造函数 **"
   ]
  },
  {
   "cell_type": "markdown",
   "metadata": {},
   "source": [
    "### 拷贝、赋值和析构"
   ]
  },
  {
   "cell_type": "markdown",
   "metadata": {},
   "source": [
    "** 某些类不能依赖于合成的版本 **"
   ]
  },
  {
   "cell_type": "markdown",
   "metadata": {},
   "source": [
    "- 很多需要动态内存的类能使用vector对象或者string对象管理必要的存储空间，使用vector或者string的类能避免分配和释放内存带来的复杂性"
   ]
  },
  {
   "cell_type": "markdown",
   "metadata": {},
   "source": [
    "## 访问控制与封装"
   ]
  },
  {
   "cell_type": "markdown",
   "metadata": {},
   "source": [
    "- 我们使用访问说明符加强类的封装。\n",
    "    - 定义在public说明符之后的成员在整个程序内可被访问，public成员定义类的接口。\n",
    "    - 定义在private说明符之后的成员可以被类的成员函数访问，但是不能被使用该类的代码访问，private部分封装了类的实现细节"
   ]
  },
  {
   "cell_type": "markdown",
   "metadata": {},
   "source": [
    "** 使用class和struct关键字 **"
   ]
  },
  {
   "cell_type": "markdown",
   "metadata": {},
   "source": [
    "- 使用class和struct定义类唯一的区别就是默认的访问权限"
   ]
  },
  {
   "cell_type": "markdown",
   "metadata": {},
   "source": [
    "### 友元"
   ]
  },
  {
   "cell_type": "markdown",
   "metadata": {},
   "source": [
    "- 既然Sales_data的数据成员是private的，我们的read、print和add函数也就无法编译了，这是因为尽管这几个函数是类的接口的一部分，但是不是累得成员\n",
    "- 类可以允许其他类或者函数访问它的非工友成员，方法是令其他类或者函数成为它的友元。"
   ]
  },
  {
   "cell_type": "markdown",
   "metadata": {},
   "source": [
    "```C++\n",
    "class Sales_data{\n",
    "    friend Sales_data add(const Sales_data&, const Sales_data&);\n",
    "    friend ostream &print(ostream&, const Sales_data&);\n",
    "    friend istream &read(istream&, Sales_data&);\n",
    "public:    \n",
    "    Sales_data():units_sold(0),revenue(0.0){}\n",
    "    Sales_data() = default;\n",
    "    Sales_data(const string& s):bookNo(s){}\n",
    "    Sales_data(const string &s, unsigned n, double p):bookNo(s),units_sold(n),revenue(p*n){}\n",
    "    Sales_data(istream &);\n",
    "    \n",
    "    string isbn() const {return bookNo;}\n",
    "    Sales_data& combine(const Sales_data&);\n",
    "    double avg_price() const;\n",
    "private:\n",
    "    string bookNo;\n",
    "    unsigned units_sold;\n",
    "    double revenue;\n",
    "};\n",
    "Sales_data add(const Sales_data&, const Sales_data&);\n",
    "ostream &print(ostream&, const Sales_data&);\n",
    "istream &read(istream&, Sales_data&);\n",
    "```"
   ]
  },
  {
   "cell_type": "markdown",
   "metadata": {},
   "source": [
    "> 一般来说，最好在类定义的开始或者结束前的位置集中定义友元"
   ]
  },
  {
   "cell_type": "markdown",
   "metadata": {},
   "source": [
    "** 友元的声明 **"
   ]
  },
  {
   "cell_type": "markdown",
   "metadata": {},
   "source": [
    "## 类的其他特性\n",
    "\n",
    "- 类型成员、类的成员的类内初始值、可变数据成员、内联成员函数、从成员函数返回\\*this，关于如何定义使用类型及友元类的更多知识。"
   ]
  },
  {
   "cell_type": "markdown",
   "metadata": {},
   "source": [
    "### 类成员再探"
   ]
  },
  {
   "cell_type": "markdown",
   "metadata": {},
   "source": [
    "** 定义一个类型成员 **"
   ]
  },
  {
   "cell_type": "markdown",
   "metadata": {},
   "source": [
    "- 可以使用类型别名"
   ]
  },
  {
   "cell_type": "markdown",
   "metadata": {},
   "source": [
    "** Screen类的成员函数 **"
   ]
  },
  {
   "cell_type": "markdown",
   "metadata": {},
   "source": [
    "```C++\n",
    "class Screen(){\n",
    "public:\n",
    "    typedef string::size_type pos;\n",
    "    Screen() = default;\n",
    "    Screen(pos ht, pos wd, char c):height(ht), width(wd), contents(ht * wd, c){}\n",
    "    char get() const{return contents[sursor];}\n",
    "    inline char get(pos ht, pos wd) const;\n",
    "    Screen &move(pos r, pos c);\n",
    "private:\n",
    "    pos cursor = 0;\n",
    "    pos height = 0, width = 0;\n",
    "    string contents;\n",
    "}\n",
    "```"
   ]
  },
  {
   "cell_type": "markdown",
   "metadata": {},
   "source": [
    "** 另成员作为内联函数 **"
   ]
  },
  {
   "cell_type": "markdown",
   "metadata": {},
   "source": [
    "** 重载成员函数 **"
   ]
  },
  {
   "cell_type": "markdown",
   "metadata": {},
   "source": [
    "** 可变数据成员 **\n",
    "\n",
    "- 有时我们希望能修改类的某个数据成员，即使是在一个const成员函数内，可以通过变量的声明中加入mutable关键字做到这一点。"
   ]
  },
  {
   "cell_type": "markdown",
   "metadata": {},
   "source": [
    "```C++\n",
    "class Screen{\n",
    "public:\n",
    "    void some_member() const;\n",
    "private:\n",
    "    mutable size_t access_ctr;\n",
    "};\n",
    "\n",
    "void some_member() const{\n",
    "    ++access_ctr;\n",
    "}\n",
    "```"
   ]
  },
  {
   "cell_type": "markdown",
   "metadata": {},
   "source": [
    "** 类的数据成员的初始值 **"
   ]
  },
  {
   "cell_type": "markdown",
   "metadata": {},
   "source": [
    "### 返回\\*this的成员函数"
   ]
  },
  {
   "cell_type": "code",
   "execution_count": null,
   "metadata": {
    "collapsed": true
   },
   "outputs": [],
   "source": []
  }
 ],
 "metadata": {
  "anaconda-cloud": {},
  "kernelspec": {
   "display_name": "Python 3",
   "language": "python",
   "name": "python3"
  },
  "language_info": {
   "codemirror_mode": {
    "name": "ipython",
    "version": 3
   },
   "file_extension": ".py",
   "mimetype": "text/x-python",
   "name": "python",
   "nbconvert_exporter": "python",
   "pygments_lexer": "ipython3",
   "version": "3.6.1"
  }
 },
 "nbformat": 4,
 "nbformat_minor": 1
}
