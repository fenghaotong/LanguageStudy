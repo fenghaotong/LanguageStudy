{
 "cells": [
  {
   "cell_type": "markdown",
   "metadata": {},
   "source": [
    "# 第七章 类\n",
    "\n",
    "- 累的基本思想是数据抽象和封装，数据抽象是一种依赖于接口和实现分离编程的技术。\n",
    "\n",
    "- [X] 定义抽象类型 \n",
    "- [X] 访问控制与封装\n",
    "- [X] 类的其他特性\n",
    "- [X] 类的作用域  \n",
    "- [X] 构造函数再探  \n",
    "- [X] 累的静态成员函数"
   ]
  },
  {
   "cell_type": "markdown",
   "metadata": {
    "collapsed": true
   },
   "source": [
    "## 定义抽象数据类型"
   ]
  },
  {
   "cell_type": "markdown",
   "metadata": {},
   "source": [
    "- C++ 中保留了C语言的 struct 关键字，并且加以扩充。在C语言中，struct 只能包含成员变量，不能包含成员函数。\n",
    "- 而在C++中，struct 类似于 class，既可以包含成员变量，又可以包含成员函数。\n",
    "\n",
    "- C++中的 struct 和 class 基本是通用的，唯有几个细节不同：\n",
    "    - 1:使用 class 时，类中的成员默认都是 private 属性的；而使用 struct 时，结构体中的成员默认都是 public 属性的。(最本质的区别)\n",
    "    - 2:class 继承默认是 private 继承，而 struct 继承默认是 public 继承（《C++继承与派生》一章会讲解继承）。\n",
    "    - 3:class 可以使用模板，而 struct 不能。"
   ]
  },
  {
   "cell_type": "markdown",
   "metadata": {},
   "source": [
    "总结 \n",
    "- 1：struct作为数据结构的实现体，它默认的数据访问控制是public的，而class作为对象的实现体，它默认的成员变量访问控制是private的 \n",
    "- 2：当你觉得你要做的更像是一种数据结构的话，那么用struct，如果你要做的更像是一种对象的话，那么用class。  \n",
    "- 3：然而对于访问控制，应该在程序里明确的指出，而不是依靠默认，这是一个良好的习惯，也让你的代码更具可读性。  "
   ]
  },
  {
   "cell_type": "markdown",
   "metadata": {},
   "source": [
    "### 设计Sales_data类"
   ]
  },
  {
   "cell_type": "markdown",
   "metadata": {
    "collapsed": true
   },
   "source": [
    "### 定义改进的SAles_data"
   ]
  },
  {
   "cell_type": "markdown",
   "metadata": {
    "collapsed": true
   },
   "source": [
    "- 定义和声明成员函数的方式与普通函数差不多，成员函数的声明必须在累得内部，他的定义则既可以在类的内部也可以在类的外部\n",
    "\n",
    "```C++\n",
    "struct Sales_data{\n",
    "    std::string isbn() const {return bookNo;}\n",
    "    Sales-data& combine(const Sales_data&);\n",
    "    double avg_price() const;\n",
    "    \n",
    "    std::string bookNo;\n",
    "    unsigned units_sold = 0;\n",
    "    double revenue = 0.0;\n",
    "};\n",
    "\n",
    "//Sales_data的非成员接口函数\n",
    "Sales_data add(const Sales_data&, const Sales_data&);\n",
    "std::ostream &print(std::ostream&, const Sales_data&);\n",
    "std::istream &read(std::istream&, Sales_data&);\n",
    "```"
   ]
  },
  {
   "cell_type": "markdown",
   "metadata": {},
   "source": [
    "** 定义成员函数 **\n",
    "\n",
    "- 尽管所有成员都必须在类的内部声明，但是成员函数体可以定义在类内也可以定义在类外\n",
    "- 就像上例中的isbn函数，定义在了类内，返回一个bookNo的数据成员，他是如何获得bookNo成员所依赖的对象呢？"
   ]
  },
  {
   "cell_type": "markdown",
   "metadata": {},
   "source": [
    "** 引入this **"
   ]
  },
  {
   "cell_type": "markdown",
   "metadata": {},
   "source": [
    "- 首先对isbn函数调用\n",
    "\n",
    "```C++\n",
    "Sales_data total;\n",
    "total.isbn();\n",
    "```"
   ]
  },
  {
   "cell_type": "markdown",
   "metadata": {},
   "source": [
    "- 成员函数通过一个名为this的额外的隐函数来访问调用它的那个对象，当我们调用一个成员函数时，用请求该函数的对象地址初始化this。"
   ]
  },
  {
   "cell_type": "markdown",
   "metadata": {},
   "source": [
    "** 引入const成员函数 **"
   ]
  },
  {
   "cell_type": "markdown",
   "metadata": {},
   "source": [
    "- isbn函数的另一个关键之处是紧随参数列表之后的const关键字，这里，const的作用是修改隐式this指针的类型\n",
    "- 默认情况下，this的类型是指向类类型非常量版本的常量指针。紧跟在参数列表后面的const表示this指向一个常量的指针，像这样使用const的成员函数被称作常量成员函数。"
   ]
  },
  {
   "cell_type": "markdown",
   "metadata": {},
   "source": [
    "** 类的作用域和成员函数 **\n",
    "\n",
    "- 成员函数体可以随意使用类中的其他成员函数而无需在意这些成员出现的次序。"
   ]
  },
  {
   "cell_type": "markdown",
   "metadata": {},
   "source": [
    "** 在类的的外部定义成员函数 **\n",
    "```C++\n",
    "double Sales_data::avg_price() const {\n",
    "    if (units_sold)\n",
    "        return revenue / units_sold;\n",
    "    else\n",
    "        return 0;\n",
    "}\n",
    "```"
   ]
  },
  {
   "cell_type": "markdown",
   "metadata": {},
   "source": [
    "** 定义一个返回this对象的函数 **"
   ]
  },
  {
   "cell_type": "markdown",
   "metadata": {},
   "source": [
    "```C++\n",
    "Sales_data& Sales_data::combine(const Sales_data &rha){\n",
    "    units_sold += rha.units_sold;\n",
    "    revenue += rha.revenue;\n",
    "    return *this;\n",
    "}\n",
    "```"
   ]
  },
  {
   "cell_type": "markdown",
   "metadata": {},
   "source": [
    "- 当我们的交易处理程序调用如下函数时\n",
    "```C++\n",
    "total.combine(trans);\n",
    "```\n",
    "> total地址被绑到this参数上，trans地址被绑到trans上。"
   ]
  },
  {
   "cell_type": "code",
   "execution_count": 1,
   "metadata": {},
   "outputs": [
    {
     "name": "stdout",
     "output_type": "stream",
     "text": [
      "Overwriting ../../Code/C++PrimerCode/chapter7/4.cpp\n"
     ]
    }
   ],
   "source": [
    "%%writefile ../../Code/C++PrimerCode/chapter7/4.cpp\n",
    "/*\n",
    " * This code is writed by htfeng.\n",
    " *\n",
    " * \"Copyright (c) 2017 by Objectwrite.\"\n",
    " * Date: 2017-08-30\n",
    " * Time: 10:00am\n",
    " *\n",
    " *  The code is the answer to exercise 4 of the seventh chapter about the book \"C++ Primer, Fifth Edition\".\n",
    " *\n",
    " * If you have any question,please contact me.\n",
    " *\n",
    " * Email:1054708869@qq.com\n",
    "*/\n",
    "\n",
    "#include <iostream>\n",
    "#include <string>\n",
    "\n",
    "using namespace::std;\n",
    "\n",
    "class Person {\n",
    "public:\n",
    "    Person(string client_name, string client_address);\n",
    "    Person();\n",
    "    void showInfo(){\n",
    "        cout<<name<<\"'s\"<<\" address is \"<<address<<endl;\n",
    "    }//类内定义函数\n",
    "\n",
    "    const string& getName(){\n",
    "        return name;\n",
    "    }\n",
    "\n",
    "    const string& getAddress(){\n",
    "        return address;\n",
    "    }\n",
    "private:\n",
    "    string name;\n",
    "    string address;\n",
    "};\n",
    "\n",
    "Person::Person(string client_name, string client_address):name(client_name),address(client_address){};\n",
    "\n",
    "int main(int argc,char **argv){\n",
    "    Person Client1(\"fenghaotong\",\"shanghai\");\n",
    "    Client1.showInfo();\n",
    "    Client1.getName();\n",
    "    return 0;\n",
    "}"
   ]
  },
  {
   "cell_type": "markdown",
   "metadata": {},
   "source": [
    "### 定义类的非成员函数"
   ]
  },
  {
   "cell_type": "code",
   "execution_count": 5,
   "metadata": {},
   "outputs": [
    {
     "name": "stdout",
     "output_type": "stream",
     "text": [
      "Overwriting ../../Code/C++PrimerCode/chapter7/Sales_data.cpp\n"
     ]
    }
   ],
   "source": [
    "%%writefile ../../Code/C++PrimerCode/chapter7/Sales_data.cpp\n",
    "/*\n",
    " * This code is writed by htfeng.\n",
    " *\n",
    " * \"Copyright (c) 2017 by Objectwrite.\"\n",
    " * Date: 2017-08-30\n",
    " * Time: 10:30am\n",
    " *\n",
    " * If you have any question,please contact me.\n",
    " *\n",
    " * Email:1054708869@qq.com\n",
    "*/\n",
    "\n",
    "#include \"Sales_data.h\"\n",
    "\n",
    "int main(int argc, char ** argv){\n",
    "    Sales_data total;\n",
    "    if(read(cin, total)){\n",
    "        Sales_data trans;\n",
    "        while(read(cin, trans)){\n",
    "            if(total.isbn() == trans.isbn()){\n",
    "                total.combine(trans);\n",
    "                print(cout, total) << endl;\n",
    "            }else{\n",
    "                print(cout, total) << endl;\n",
    "                total = trans;\n",
    "            }\n",
    "        }\n",
    "        print(cout, total) << endl;\n",
    "    }else{\n",
    "        cerr << \"NO data?!\" << endl;\n",
    "    }\n",
    "    return 0;\n",
    "}"
   ]
  },
  {
   "cell_type": "markdown",
   "metadata": {},
   "source": [
    "### 构造函数\n",
    "- 初始化类对象的数据成员\n",
    "- 构造函数的名字和类名相同，和其他函数不同的是，构造函数没有返回类型，除此之外，类似于其他的函数，构造函数也有一个参数列表和一个函数体。\n",
    "- 构造函数不能被声明成const的"
   ]
  },
  {
   "cell_type": "markdown",
   "metadata": {},
   "source": [
    "** 合成的默认构造函数 **"
   ]
  },
  {
   "cell_type": "markdown",
   "metadata": {},
   "source": [
    "** 某些类不能依赖于合成的默认构造函数 **"
   ]
  },
  {
   "cell_type": "markdown",
   "metadata": {},
   "source": [
    "- 1：在未声明任何构造函数的前提下，类内对象的初始化将不受控制\n",
    "\n",
    "- 2：合成的默认构造函数可能会造成不必要的错误，如若没有类内初始值来初始化成员，可能这些成员将是未定义的。\n",
    "\n",
    "- 3：如果类中包含了一个其他类类型的成员，且这个成员的类型没有默认构造函数，那么编译器将无法初始化该对象。\n",
    "\n",
    ">所以，在撰写类的时候，最好定义一个自己的构造函数。\n",
    "\n",
    "\n"
   ]
  },
  {
   "cell_type": "markdown",
   "metadata": {},
   "source": [
    "** 定义Sales_data的构造函数 **"
   ]
  },
  {
   "cell_type": "markdown",
   "metadata": {},
   "source": [
    "```C++\n",
    "struct Sales_data {\n",
    "    Sales_data() = default;\n",
    "    Sales_data(const string& s):bookNo(s){}\n",
    "    Sales_data(const string &s, unsigned n, double p):bookNo(s),units_sold(n),revenue(p*n){}\n",
    "    Sales_data(istream &);\n",
    "}\n",
    "```"
   ]
  },
  {
   "cell_type": "markdown",
   "metadata": {},
   "source": [
    "** =default的含义 **\n",
    "\n",
    "- 默认构造函数"
   ]
  },
  {
   "cell_type": "markdown",
   "metadata": {},
   "source": [
    "** 构造函数初始值列表 **"
   ]
  },
  {
   "cell_type": "markdown",
   "metadata": {},
   "source": [
    "```C++\n",
    "    Sales_data(const string& s):bookNo(s){}\n",
    "    Sales_data(const string &s, unsigned n, double p):bookNo(s),units_sold(n),revenue(p*n){}\n",
    "```"
   ]
  },
  {
   "cell_type": "markdown",
   "metadata": {},
   "source": [
    "- 冒号后面的叫做构造函数初始值列表"
   ]
  },
  {
   "cell_type": "markdown",
   "metadata": {},
   "source": [
    "** 在类的外部定义构造函数 **"
   ]
  },
  {
   "cell_type": "markdown",
   "metadata": {},
   "source": [
    "### 拷贝、赋值和析构"
   ]
  },
  {
   "cell_type": "markdown",
   "metadata": {},
   "source": [
    "** 某些类不能依赖于合成的版本 **"
   ]
  },
  {
   "cell_type": "markdown",
   "metadata": {},
   "source": [
    "- 很多需要动态内存的类能使用vector对象或者string对象管理必要的存储空间，使用vector或者string的类能避免分配和释放内存带来的复杂性"
   ]
  },
  {
   "cell_type": "markdown",
   "metadata": {},
   "source": [
    "## 访问控制与封装"
   ]
  },
  {
   "cell_type": "markdown",
   "metadata": {},
   "source": [
    "- 我们使用访问说明符加强类的封装。\n",
    "    - 定义在public说明符之后的成员在整个程序内可被访问，public成员定义类的接口。\n",
    "    - 定义在private说明符之后的成员可以被类的成员函数访问，但是不能被使用该类的代码访问，private部分封装了类的实现细节"
   ]
  },
  {
   "cell_type": "markdown",
   "metadata": {},
   "source": [
    "** 使用class和struct关键字 **"
   ]
  },
  {
   "cell_type": "markdown",
   "metadata": {},
   "source": [
    "- 使用class和struct定义类唯一的区别就是默认的访问权限"
   ]
  },
  {
   "cell_type": "markdown",
   "metadata": {},
   "source": [
    "### 友元"
   ]
  },
  {
   "cell_type": "markdown",
   "metadata": {},
   "source": [
    "- 既然Sales_data的数据成员是private的，我们的read、print和add函数也就无法编译了，这是因为尽管这几个函数是类的接口的一部分，但是不是累得成员\n",
    "- 类可以允许其他类或者函数访问它的非工友成员，方法是令其他类或者函数成为它的友元。"
   ]
  },
  {
   "cell_type": "markdown",
   "metadata": {},
   "source": [
    "```C++\n",
    "class Sales_data{\n",
    "    friend Sales_data add(const Sales_data&, const Sales_data&);\n",
    "    friend ostream &print(ostream&, const Sales_data&);\n",
    "    friend istream &read(istream&, Sales_data&);\n",
    "public:    \n",
    "    Sales_data():units_sold(0),revenue(0.0){}\n",
    "    Sales_data() = default;\n",
    "    Sales_data(const string& s):bookNo(s){}\n",
    "    Sales_data(const string &s, unsigned n, double p):bookNo(s),units_sold(n),revenue(p*n){}\n",
    "    Sales_data(istream &);\n",
    "    \n",
    "    string isbn() const {return bookNo;}\n",
    "    Sales_data& combine(const Sales_data&);\n",
    "    double avg_price() const;\n",
    "private:\n",
    "    string bookNo;\n",
    "    unsigned units_sold;\n",
    "    double revenue;\n",
    "};\n",
    "Sales_data add(const Sales_data&, const Sales_data&);\n",
    "ostream &print(ostream&, const Sales_data&);\n",
    "istream &read(istream&, Sales_data&);\n",
    "```"
   ]
  },
  {
   "cell_type": "markdown",
   "metadata": {},
   "source": [
    "> 一般来说，最好在类定义的开始或者结束前的位置集中定义友元"
   ]
  },
  {
   "cell_type": "markdown",
   "metadata": {},
   "source": [
    "** 友元的声明 **"
   ]
  },
  {
   "cell_type": "markdown",
   "metadata": {},
   "source": [
    "## 类的其他特性\n",
    "\n",
    "- 类型成员、类的成员的类内初始值、可变数据成员、内联成员函数、从成员函数返回\\*this，关于如何定义使用类型及友元类的更多知识。"
   ]
  },
  {
   "cell_type": "markdown",
   "metadata": {},
   "source": [
    "### 类成员再探"
   ]
  },
  {
   "cell_type": "markdown",
   "metadata": {},
   "source": [
    "** 定义一个类型成员 **"
   ]
  },
  {
   "cell_type": "markdown",
   "metadata": {},
   "source": [
    "- 可以使用类型别名"
   ]
  },
  {
   "cell_type": "markdown",
   "metadata": {},
   "source": [
    "** Screen类的成员函数 **"
   ]
  },
  {
   "cell_type": "markdown",
   "metadata": {},
   "source": [
    "```C++\n",
    "class Screen(){\n",
    "public:\n",
    "    typedef string::size_type pos;\n",
    "    Screen() = default;\n",
    "    Screen(pos ht, pos wd, char c):height(ht), width(wd), contents(ht * wd, c){}\n",
    "    char get() const{return contents[sursor];}\n",
    "    inline char get(pos ht, pos wd) const;\n",
    "    Screen &move(pos r, pos c);\n",
    "private:\n",
    "    pos cursor = 0;\n",
    "    pos height = 0, width = 0;\n",
    "    string contents;\n",
    "}\n",
    "```"
   ]
  },
  {
   "cell_type": "markdown",
   "metadata": {},
   "source": [
    "** 另成员作为内联函数 **"
   ]
  },
  {
   "cell_type": "markdown",
   "metadata": {},
   "source": [
    "** 重载成员函数 **"
   ]
  },
  {
   "cell_type": "markdown",
   "metadata": {},
   "source": [
    "** 可变数据成员 **\n",
    "\n",
    "- 有时我们希望能修改类的某个数据成员，即使是在一个const成员函数内，可以通过变量的声明中加入mutable关键字做到这一点。"
   ]
  },
  {
   "cell_type": "markdown",
   "metadata": {},
   "source": [
    "```C++\n",
    "class Screen{\n",
    "public:\n",
    "    void some_member() const;\n",
    "private:\n",
    "    mutable size_t access_ctr;\n",
    "};\n",
    "\n",
    "void some_member() const{\n",
    "    ++access_ctr;\n",
    "}\n",
    "```"
   ]
  },
  {
   "cell_type": "markdown",
   "metadata": {},
   "source": [
    "** 类的数据成员的初始值 **"
   ]
  },
  {
   "cell_type": "markdown",
   "metadata": {},
   "source": [
    "### 返回\\*this的成员函数"
   ]
  },
  {
   "cell_type": "markdown",
   "metadata": {
    "collapsed": true
   },
   "source": [
    "- 再为Screen类添加两个函数  \n",
    "\n",
    "```C++\n",
    "class Screen{\n",
    "    Screen &set(char c);\n",
    "    Screen &set(pos, pos, char);\n",
    "};\n",
    "\n",
    "inline Screen &Screen::set(char c){\n",
    "    contents[cursor] = c;\n",
    "    return *this;\n",
    "}\n",
    "\n",
    "inline Screen &Screen::set(pos r, pos col, char ch){\n",
    "    contents[r*width + col] = ch;\n",
    "    return *this;\n",
    "}\n",
    "```"
   ]
  },
  {
   "cell_type": "markdown",
   "metadata": {},
   "source": [
    "```C++\n",
    "Screen myScreen;\n",
    "myScreen.move(4, 0).set('#');\n",
    "```\n",
    "- 如果不用引用，返回值都是Screen类型\n",
    "\n",
    "```C++\n",
    "temp = myScreen.move(4, 0);\n",
    "temp.set('#');\n",
    "```"
   ]
  },
  {
   "cell_type": "markdown",
   "metadata": {},
   "source": [
    "** 从const成员函数返回\\*this **"
   ]
  },
  {
   "cell_type": "markdown",
   "metadata": {},
   "source": [
    "- 一个const成员函数如果以引用形式返回\\*this,那么它的返回类型将是常量引用。"
   ]
  },
  {
   "cell_type": "markdown",
   "metadata": {},
   "source": [
    "** 基于const的重载 **"
   ]
  },
  {
   "cell_type": "markdown",
   "metadata": {},
   "source": [
    "> 当需要将一个对象作为整体而不是引用对象的一个成员时，使用this，则该函数返回对调用函数的对象的引用"
   ]
  },
  {
   "cell_type": "markdown",
   "metadata": {},
   "source": [
    "### 类类型"
   ]
  },
  {
   "cell_type": "markdown",
   "metadata": {},
   "source": [
    "- 对于两个类，即使他们的成员完全一样，这两个类也是完全不同的类"
   ]
  },
  {
   "cell_type": "markdown",
   "metadata": {},
   "source": [
    " ** 类的声明 **"
   ]
  },
  {
   "cell_type": "markdown",
   "metadata": {
    "collapsed": true
   },
   "source": [
    "### 友元再探"
   ]
  },
  {
   "cell_type": "markdown",
   "metadata": {},
   "source": [
    "- 可以把一个类指定为另一个类的友元，从而对其进行操作。\n",
    "\n",
    "```C++\n",
    "class Screen {\n",
    "    friend class window_mgr;\n",
    "};\n",
    "\n",
    "class window_mgr {\n",
    "public:\n",
    "    using screenIndex = vector<Screen>::size_type;\n",
    "    void clear(screenIndex);\n",
    "private:\n",
    "    vector<Screen> screens{Screen(24, 80, ' ')};\n",
    "};\n",
    "\n",
    "void window_mgr::clear(screenIndex i){\n",
    "    Screen &s = screens[i];\n",
    "    s.contents = string(s.height * s.width, ' ');\n",
    "}\n",
    "```"
   ]
  },
  {
   "cell_type": "markdown",
   "metadata": {},
   "source": [
    "** 另成员函数作为友元 **"
   ]
  },
  {
   "cell_type": "markdown",
   "metadata": {},
   "source": [
    "```C++\n",
    "class Screen {\n",
    "    friend void window_mgr::clear(screenIndex);\n",
    "};\n",
    "```"
   ]
  },
  {
   "cell_type": "markdown",
   "metadata": {},
   "source": [
    "** 函数重载和友元 **"
   ]
  },
  {
   "cell_type": "markdown",
   "metadata": {},
   "source": [
    "** 友元声明和作用域 **\n",
    "\n",
    "- 友元函数的声明必须在函数的外部，可以在类中定义"
   ]
  },
  {
   "cell_type": "markdown",
   "metadata": {},
   "source": [
    "## 类的作用域"
   ]
  },
  {
   "cell_type": "markdown",
   "metadata": {},
   "source": [
    "- 每个类都会定义自己的作用域，在类的作用域之外，普通的数据和函数成员只能由对象、引用或者指针使用成员访问运算符来访问，"
   ]
  },
  {
   "cell_type": "markdown",
   "metadata": {},
   "source": [
    " ** 作用域的定义在类外部的成员 **"
   ]
  },
  {
   "cell_type": "markdown",
   "metadata": {},
   "source": [
    "- 识点1：一个类就是一个作用域，函数使用的相关变量名，已经明确了在类的作用域当中，所以不必再进行说明\n",
    "\n",
    "- 知识点2：在类的外部定义的函数，必须声明类作用域，其函数名和返回类型都需要进行声明"
   ]
  },
  {
   "cell_type": "markdown",
   "metadata": {},
   "source": [
    "### 名字查找与类的作用域"
   ]
  },
  {
   "cell_type": "markdown",
   "metadata": {},
   "source": [
    "** 用于类成员声明的名字查找 **\n",
    "\n",
    "- 识点1：名字查找的顺序：由内而外、自上而下\n",
    "\n",
    "- 知识点2：类的定义处理步骤：首先编译成员的声明，直到类全部可见是再编译函数体\n",
    "\n",
    ">即成员函数在类的声明全部处理完之后才会被定义，所以可以调用函数中定义的任何名字\n",
    "\n",
    "- 知识点3：在类中，类型名要特殊处理，最好是定义在类的一开始，并且不能与外层作用域中同"
   ]
  },
  {
   "cell_type": "markdown",
   "metadata": {},
   "source": [
    "** 类型名要特殊处理 **"
   ]
  },
  {
   "cell_type": "markdown",
   "metadata": {},
   "source": [
    "** 成员定义中的普通块作用域的名字查找 **"
   ]
  },
  {
   "cell_type": "markdown",
   "metadata": {},
   "source": [
    "** 类作用域之后，在外围的作用域中查找 **"
   ]
  },
  {
   "cell_type": "markdown",
   "metadata": {},
   "source": [
    "- 如果我们需要的是外层作用域中的名字，可以显示的通过作用域运算符来进行请求"
   ]
  },
  {
   "cell_type": "markdown",
   "metadata": {},
   "source": [
    "## 构造函数再探"
   ]
  },
  {
   "cell_type": "markdown",
   "metadata": {
    "collapsed": true
   },
   "source": [
    "### 构造函数初始值列表"
   ]
  },
  {
   "cell_type": "markdown",
   "metadata": {},
   "source": [
    "** 构造函数的初始值有时必不可少 **\n",
    "\n",
    "> 如果成员是const、引用，或者属于某种未提供默认构造函数的类类型，我们必须通过构造函数初始值列表为这些成员提供初值    \n",
    "> 建议使用构造函数初始值   \n",
    "> 尽量避免某些成员初始化其他成员。  \n",
    "> 最好用构造函数的参数作为成员的初值，而进来嗯避免使用同一个对象的其他成员。"
   ]
  },
  {
   "cell_type": "markdown",
   "metadata": {},
   "source": [
    "** 默认实参和构造函数 **"
   ]
  },
  {
   "cell_type": "markdown",
   "metadata": {
    "collapsed": true
   },
   "source": [
    "### 委托构造函数\n",
    "\n",
    "- 委托构造函数：一个委托构造函数使用它所属类的其他构造函数执行它自己的初始化过程。\n",
    "- 当构造函数委托给另一个构造函数时，受委托的构造函数的初始值列表及其函数体先被执行，接着才会执行到委托函数的函数体。"
   ]
  },
  {
   "cell_type": "code",
   "execution_count": 2,
   "metadata": {},
   "outputs": [
    {
     "name": "stdout",
     "output_type": "stream",
     "text": [
      "Writing ../../Code/C++PrimerCode/chapter7/Test.cpp\n"
     ]
    }
   ],
   "source": [
    "%%writefile ../../Code/C++PrimerCode/chapter7/Test.cpp\n",
    "/*\n",
    " * This code is writed by htfeng.\n",
    " * \n",
    " * \"Copyright (c) 2017 by Objectwrite.\"\n",
    " * Date: 2017-08-22\n",
    " * Time: 15:57\n",
    " *\n",
    " * If you have any question,please contact me.\n",
    " * \n",
    " * Email:1054708869@qq.com\n",
    "*/ \n",
    "#include <iostream>\n",
    "#include <string>\n",
    "\n",
    "using namespace::std;\n",
    "\n",
    "class Test{\n",
    "public:\n",
    "\tTest(string s, int a, int b):book(s),price(a),sale(b){cout<<\"Test(string s, int a, int b)\"<<endl;} //三参数构造函数的参数列表和函数体首先被执行\n",
    "\tTest():Test(\" \",0,0){}//默认构造函数又委托给了三参数构造函数\n",
    "\tTest (istream& is):Test(){cout<<\"Test (istream& is)\"<<endl;}//Test (istream& is)是一个委托构造函数，它委托给了默认构造函数Test()\n",
    "\n",
    "\tstring book;\n",
    "\tint price;\n",
    "\tint sale;\n",
    "};\n",
    "\n",
    "int main(){\n",
    "\tTest s(cin);\n",
    "\treturn 0;\n",
    "}"
   ]
  },
  {
   "cell_type": "markdown",
   "metadata": {},
   "source": [
    "### 默认构造函数的作用"
   ]
  },
  {
   "cell_type": "markdown",
   "metadata": {},
   "source": [
    "- 1：当类的作用域内不需要使用任何初始值定义非静态变量时 \n",
    "- 2：当类中含有需要使用默认构造函数当作被委托构造函数时 \n",
    "- 3：类的成员没有在构造函数初始值列表中显示初始化时 \n",
    "- 知识点2：当类中定义了其它类型的构造函数时，最好提供一个默认的构造函数，养成良好的习惯。 \n",
    "- 知识点3：类声明对象是不需要加括号！加括号是声明函数的。"
   ]
  },
  {
   "cell_type": "markdown",
   "metadata": {},
   "source": [
    "### 隐式的类类型转换"
   ]
  },
  {
   "cell_type": "markdown",
   "metadata": {},
   "source": [
    "- 知识点1:如果构造函数只接受一个实参，则它实际上定义了转换为此类类型的隐式转换机制。此构造函数被称为转换构造函数\n",
    "- 知识点2：通过一个实参调用的构造函数定义了一条从构造函数的参数类型向类类型隐式转换的机制 \n",
    "- 知识点3：可以将构造函数声明为explicit加以限定该类型转换"
   ]
  },
  {
   "cell_type": "markdown",
   "metadata": {},
   "source": [
    "### 聚合类\n",
    "\n",
    "- 聚合类使得用户可以直接访问其他成员。\n",
    "- 要满足一下条件：\n",
    "    - 所有成员都是public的\n",
    "    - 没有定义任何构造函数\n",
    "    - 没有类内初始值\n",
    "    - 没有基类，没有virtual函数"
   ]
  },
  {
   "cell_type": "markdown",
   "metadata": {},
   "source": [
    "### 字面值常量类\n",
    "\n",
    "- 数据成员都是字面值类型的聚合类是字面子常量类\n",
    "- 如果一个类不是聚合类，符合以下要求，则他也是一个字面值常量类：\n",
    "    - 数据成员都必须是字面值类型\n",
    "    - 类必须至少含有一个constexpr构造函数\n",
    "    - 如果一个数据成员含有类内初始值，则内置类型成员的初始值必须是一条常量表达式;或者如果成员属于某种类型，则初始值必须使用成员自己的constexpr构造函数\n",
    "    - 类必须使用析构函数的默认定义，该成员负责销毁类的对象"
   ]
  },
  {
   "cell_type": "markdown",
   "metadata": {},
   "source": [
    "## 类的静态成员"
   ]
  },
  {
   "cell_type": "markdown",
   "metadata": {},
   "source": [
    "### 声明静态成员\n"
   ]
  },
  {
   "cell_type": "markdown",
   "metadata": {},
   "source": [
    "- 类的静态成员不与对象绑定到一起\n",
    "\n",
    "```C++\n",
    "class Account {\n",
    "public:\n",
    "    void calculate(){ amount += amount * interestRate; }\n",
    "    static double rate() { return interestRate; }\n",
    "    static void rate(double);\n",
    "private:\n",
    "    string owner;\n",
    "    double amount;\n",
    "    static double interestRate;\n",
    "    static double initRate;\n",
    "};\n",
    "```"
   ]
  },
  {
   "cell_type": "markdown",
   "metadata": {},
   "source": [
    "** 使用类的静态成员**"
   ]
  },
  {
   "cell_type": "markdown",
   "metadata": {},
   "source": [
    "-  我们可以使用作用域运算符直接访问静态成员：\n",
    "```C++\n",
    "double r;\n",
    "r = Account::rate();\n",
    "```\n",
    "- 虽然静态成员不属于类的某个对象，但是我们仍然可以使用类的对象、引用或者指针来访问静态成员"
   ]
  },
  {
   "cell_type": "markdown",
   "metadata": {},
   "source": [
    "- 静态成员可以作为默认实参，非静态成员不能作为默认实参，因为它本身属于对象的一部分"
   ]
  },
  {
   "cell_type": "markdown",
   "metadata": {},
   "source": [
    "- 知识点1：类的静态成员：该成员只需与类的本身有关，而不是与类的对象有关，加上static关键字即可声明，其不与任何实例化对象绑定，但是我们仍然可以使用类作用域运算符访问静态成员。\n",
    "- 知识点2：static声明在内部。在外部定义时，不加static.类似与一个全局变量，其初始值必须是常量表达式。 \n",
    "- 知识点3：静态成员独立于任何对象，其类型可以是它所属的类类型。而非静态成员只能声明为其类的指针或引用"
   ]
  },
  {
   "cell_type": "code",
   "execution_count": null,
   "metadata": {
    "collapsed": true
   },
   "outputs": [],
   "source": []
  }
 ],
 "metadata": {
  "anaconda-cloud": {},
  "kernelspec": {
   "display_name": "Python 3",
   "language": "python",
   "name": "python3"
  },
  "language_info": {
   "codemirror_mode": {
    "name": "ipython",
    "version": 3
   },
   "file_extension": ".py",
   "mimetype": "text/x-python",
   "name": "python",
   "nbconvert_exporter": "python",
   "pygments_lexer": "ipython3",
   "version": "3.6.1"
  }
 },
 "nbformat": 4,
 "nbformat_minor": 1
}
