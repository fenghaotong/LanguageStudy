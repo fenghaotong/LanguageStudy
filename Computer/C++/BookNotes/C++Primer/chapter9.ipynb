{
 "cells": [
  {
   "cell_type": "markdown",
   "metadata": {},
   "source": [
    "# 第九章顺序容器\n",
    "\n",
    "- [ ] 顺序容器概述\n",
    "- [ ] 容器库概览\n",
    "- [ ] 顺序容器操作\n",
    "- [ ] vector对象是如何增长的\n",
    "- [ ] 额外的string操作\n",
    "- [ ] 容器适配器"
   ]
  },
  {
   "cell_type": "markdown",
   "metadata": {},
   "source": [
    "- 一个容器就是一些特定类型对象的集合，顺序容器为程序员提供了控制元素存储和访问顺序的能力，这种顺序不依赖与元素的值，而是与元素加入容器时的位置相对应。"
   ]
  },
  {
   "cell_type": "markdown",
   "metadata": {},
   "source": [
    "## 顺序容器概述"
   ]
  },
  {
   "cell_type": "markdown",
   "metadata": {},
   "source": [
    "- 下面是标准库中的顺序容器，所有顺序容器都提供了快速顺序访问元素的能力，但是这些容器在以下方面都有不同的性能折中。\n",
    "    - 向容器添加或从容器中删除元素的代价\n",
    "    - 非顺序访问容器中元素的代价"
   ]
  },
  {
   "cell_type": "markdown",
   "metadata": {},
   "source": [
    "||顺序容器类型|\n",
    "|:----:|:-----|\n",
    "|vector|可变大小数组。支持快速访问，在尾部之外的位置插入或删除元素可能很慢|\n",
    "|deque|双端队列，支持快速访问，在头尾位置插入/删除速度很快|\n",
    "|list|双向链表，只支持双向顺序访问，在list中任何位置进行插入/删除操作的速度很快|\n",
    "|forward_list|单向链表，只支持单向顺序访问，在链表任何位置进行插入/删除操作速度都很快|\n",
    "|array|固定大小数组。支持快速随机访问，不能添加或删除元素|\n",
    "|string|与vector相似的容器，但专门用于保守字符，随机访问快，在尾部插入/删除速度快|"
   ]
  },
  {
   "cell_type": "markdown",
   "metadata": {},
   "source": [
    "** 确定使用哪种顺序容器 **\n",
    "\n",
    "- 通常，使用vector是最好的选择，除非你有很好的理由选择，其他容器"
   ]
  },
  {
   "cell_type": "markdown",
   "metadata": {},
   "source": [
    "## 容器库概览"
   ]
  },
  {
   "cell_type": "markdown",
   "metadata": {},
   "source": [
    "- deque定义在deque头文件中\n",
    "- list定义在list头文件中\n",
    "\n",
    "```C++\n",
    "list<Sales_data>\n",
    "deque<double>\n",
    "```"
   ]
  },
  {
   "cell_type": "markdown",
   "metadata": {},
   "source": [
    "** 对容器可以保存的元素类型的限制 **"
   ]
  },
  {
   "cell_type": "markdown",
   "metadata": {},
   "source": [
    "** 迭代器范围 **"
   ]
  },
  {
   "cell_type": "markdown",
   "metadata": {},
   "source": [
    "- 知识点1：限制如下：迭代器指向同一个容器或者最后一个元素之后的位置,可以反复递增begin直到end\n",
    "- 知识点2：迭代器指向的元素范围是左闭合区间，注意end指向的是最后一个元素之后的位置。"
   ]
  },
  {
   "cell_type": "code",
   "execution_count": 4,
   "metadata": {},
   "outputs": [
    {
     "name": "stdout",
     "output_type": "stream",
     "text": [
      "Overwriting ../../Code/C++PrimerCode/chapter9/4.cpp\n"
     ]
    }
   ],
   "source": [
    "%%writefile ../../Code/C++PrimerCode/chapter9/4.cpp\n",
    "/*\n",
    " * This code is writed by htfeng.\n",
    " *\n",
    " * \"Copyright (c) 2017 by Objectwrite.\"\n",
    " * Date: 2017-09-08\n",
    " * Time: 19:00pm\n",
    " *\n",
    " *  The code is the answer to exercise 4 of the ninth chapter about the book \"C++ Primer, Fifth Edition\".\n",
    " *\n",
    " * If you have any question,please contact me.\n",
    " *\n",
    " * Email:1054708869@qq.com\n",
    "*/\n",
    "\n",
    "#include <iostream>\n",
    "#include <fstream>\n",
    "#include <sstream>\n",
    "#include <string>\n",
    "#include <vector>\n",
    "\n",
    "using namespace::std;\n",
    "\n",
    "int main(int argc,char **argv){\n",
    "\tvector<int> vec(20);\n",
    "\tint find_number = 1;\n",
    "\n",
    "\tfor(int i = 2; i <= 10; ++i){\n",
    "\t\tvec.push_back(i);\n",
    "\t}\n",
    "\n",
    "\tfor(auto a = vec.begin(); a != vec.end(); ++a){\n",
    "\t\tif(*a == find_number){\n",
    "\t\t\tcout << \"we find it\" << endl;\n",
    "\t\t\treturn 0;\n",
    "\t\t}\n",
    "\t}\n",
    "\tcout << \"sorry!no find!\" << endl;\n",
    "\n",
    "\treturn 0;\n",
    "}"
   ]
  },
  {
   "cell_type": "markdown",
   "metadata": {},
   "source": [
    "### 容器类型成员\n",
    "\n",
    "- size_type\n",
    "- iterator\n",
    "- const_iterator"
   ]
  },
  {
   "cell_type": "markdown",
   "metadata": {},
   "source": [
    "### begin和end成员\n",
    "\n",
    "- 这两个迭代器最常见的用途是形成一个包含容器中所有元素的迭代器范围\n",
    "- 带r的版本是反向迭代器\n",
    "- 以c开头的版本则返回const迭代器"
   ]
  },
  {
   "cell_type": "markdown",
   "metadata": {},
   "source": [
    "```C++\n",
    "list<string> a = {\"feng\", \"hao\", \"tong\"};\n",
    "auto it1 = a.begin();    //lsit<string>::iterator\n",
    "auto it2 = a.rbegin();   //list<string>::reverse_iterator\n",
    "auto it3 = a.cbegin();   //list<string>::const_iterator\n",
    "auto it4 = a.crbegin();  //list<string>::const_reverse_iterator\n",
    "```"
   ]
  },
  {
   "cell_type": "markdown",
   "metadata": {},
   "source": [
    "### 容器定义和初始化"
   ]
  },
  {
   "cell_type": "markdown",
   "metadata": {},
   "source": [
    "** 将一个容器初始化为另一个容器的拷贝 **\n",
    "\n",
    "- 直接拷贝整个容器（两个容器的类型和元素类型都必须相同）\n",
    "- 拷贝由一个迭代器对指定的元素范围（不用相同）"
   ]
  },
  {
   "cell_type": "markdown",
   "metadata": {},
   "source": [
    "** 列表初始化 **"
   ]
  },
  {
   "cell_type": "markdown",
   "metadata": {},
   "source": [
    "** 与顺序容器大小相关的构造函数 **\n",
    "\n",
    "- 只有顺序容器的构造函数才接受大小参数，关联容器不支持"
   ]
  },
  {
   "cell_type": "markdown",
   "metadata": {},
   "source": [
    "** 标准库array具有固定大小 **\n",
    "\n",
    "- 与内置数组一样，定义一个array时要指定容器的大小\n",
    "- 内置数组不能进行拷贝，array只要类型相同可以进行拷贝"
   ]
  },
  {
   "cell_type": "markdown",
   "metadata": {},
   "source": [
    "```C++\n",
    "array<int, 10>\n",
    "array<string, 10>\n",
    "\n",
    "array<int 10>::size_type i;\n",
    "array<int>::size_type i; //错误\n",
    "```"
   ]
  },
  {
   "cell_type": "markdown",
   "metadata": {},
   "source": [
    "### 赋值和swap\n",
    "\n",
    "- array不支持assign，也不允许用花括号包围的值列表进行赋值\n",
    "```C++\n",
    "array<int, 10> a1 = {0, 1, 2, 3, 4, 5, 6, 7, 8 9}\n",
    "array<int, 10> a2 = {0}\n",
    "a1 = a2;\n",
    "a2 = {0}; //c错误\n",
    "```"
   ]
  },
  {
   "cell_type": "markdown",
   "metadata": {},
   "source": [
    "** 使用assign（仅顺序容器）(不包括array) **\n",
    "\n",
    "- assign实现了一个vector中的一段char \\*值赋予一个list的string：\n",
    "\n",
    "```C++\n",
    "list<string> names;\n",
    "vector<const char*> oldstyle;\n",
    "\n",
    "names = oldstyle;\n",
    "names.assign(oldstyle.cbegin(), oldstyle.cend());\n",
    "```"
   ]
  },
  {
   "cell_type": "markdown",
   "metadata": {},
   "source": [
    "** 使用swap **"
   ]
  },
  {
   "cell_type": "markdown",
   "metadata": {},
   "source": [
    "- swap操作交换两个相同类型容器的内容，调用swap之后，两个容器中的元素将会交换"
   ]
  },
  {
   "cell_type": "markdown",
   "metadata": {},
   "source": [
    "### 容器大小的操作\n",
    "\n",
    "- size\n",
    "- empty\n",
    "- max_size返回一个大于或等于该类型容器所能容纳的最大元素数的值"
   ]
  },
  {
   "cell_type": "markdown",
   "metadata": {},
   "source": [
    "### 关系元算符\n",
    "\n",
    "- 每个容器类型都支持相等运算符（==和！=）\n",
    "- 除了无序关联容器外的所有容器类型都支持关系运算符（>,>=,<,<=）"
   ]
  },
  {
   "cell_type": "code",
   "execution_count": null,
   "metadata": {
    "collapsed": true
   },
   "outputs": [],
   "source": []
  }
 ],
 "metadata": {
  "kernelspec": {
   "display_name": "Python 3",
   "language": "python",
   "name": "python3"
  },
  "language_info": {
   "codemirror_mode": {
    "name": "ipython",
    "version": 3
   },
   "file_extension": ".py",
   "mimetype": "text/x-python",
   "name": "python",
   "nbconvert_exporter": "python",
   "pygments_lexer": "ipython3",
   "version": "3.6.1"
  }
 },
 "nbformat": 4,
 "nbformat_minor": 2
}
