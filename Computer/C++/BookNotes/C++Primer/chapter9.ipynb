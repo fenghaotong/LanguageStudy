{
 "cells": [
  {
   "cell_type": "markdown",
   "metadata": {},
   "source": [
    "# 第九章顺序容器\n",
    "\n",
    "- [X] 顺序容器概述\n",
    "- [X] 容器库概览\n",
    "- [X] 顺序容器操作\n",
    "- [X] vector对象是如何增长的\n",
    "- [X] 额外的string操作\n",
    "- [X] 容器适配器"
   ]
  },
  {
   "cell_type": "markdown",
   "metadata": {},
   "source": [
    "- 一个容器就是一些特定类型对象的集合，顺序容器为程序员提供了控制元素存储和访问顺序的能力，这种顺序不依赖与元素的值，而是与元素加入容器时的位置相对应。"
   ]
  },
  {
   "cell_type": "markdown",
   "metadata": {},
   "source": [
    "## 顺序容器概述"
   ]
  },
  {
   "cell_type": "markdown",
   "metadata": {},
   "source": [
    "- 下面是标准库中的顺序容器，所有顺序容器都提供了快速顺序访问元素的能力，但是这些容器在以下方面都有不同的性能折中。\n",
    "    - 向容器添加或从容器中删除元素的代价\n",
    "    - 非顺序访问容器中元素的代价"
   ]
  },
  {
   "cell_type": "markdown",
   "metadata": {},
   "source": [
    "||顺序容器类型|\n",
    "|:----:|:-----|\n",
    "|vector|可变大小数组。支持快速访问，在尾部之外的位置插入或删除元素可能很慢|\n",
    "|deque|双端队列，支持快速访问，在头尾位置插入/删除速度很快|\n",
    "|list|双向链表，只支持双向顺序访问，在list中任何位置进行插入/删除操作的速度很快|\n",
    "|forward_list|单向链表，只支持单向顺序访问，在链表任何位置进行插入/删除操作速度都很快|\n",
    "|array|固定大小数组。支持快速随机访问，不能添加或删除元素|\n",
    "|string|与vector相似的容器，但专门用于保守字符，随机访问快，在尾部插入/删除速度快|"
   ]
  },
  {
   "cell_type": "markdown",
   "metadata": {},
   "source": [
    "** 确定使用哪种顺序容器 **\n",
    "\n",
    "- 通常，使用vector是最好的选择，除非你有很好的理由选择，其他容器"
   ]
  },
  {
   "cell_type": "markdown",
   "metadata": {},
   "source": [
    "## 容器库概览"
   ]
  },
  {
   "cell_type": "markdown",
   "metadata": {},
   "source": [
    "- deque定义在deque头文件中\n",
    "- list定义在list头文件中\n",
    "\n",
    "```C++\n",
    "list<Sales_data>\n",
    "deque<double>\n",
    "```"
   ]
  },
  {
   "cell_type": "markdown",
   "metadata": {},
   "source": [
    "** 对容器可以保存的元素类型的限制 **"
   ]
  },
  {
   "cell_type": "markdown",
   "metadata": {},
   "source": [
    "** 迭代器范围 **"
   ]
  },
  {
   "cell_type": "markdown",
   "metadata": {},
   "source": [
    "- 知识点1：限制如下：迭代器指向同一个容器或者最后一个元素之后的位置,可以反复递增begin直到end\n",
    "- 知识点2：迭代器指向的元素范围是左闭合区间，注意end指向的是最后一个元素之后的位置。"
   ]
  },
  {
   "cell_type": "code",
   "execution_count": 4,
   "metadata": {},
   "outputs": [
    {
     "name": "stdout",
     "output_type": "stream",
     "text": [
      "Overwriting ../../Code/C++PrimerCode/chapter9/4.cpp\n"
     ]
    }
   ],
   "source": [
    "%%writefile ../../Code/C++PrimerCode/chapter9/4.cpp\n",
    "/*\n",
    " * This code is writed by htfeng.\n",
    " *\n",
    " * \"Copyright (c) 2017 by Objectwrite.\"\n",
    " * Date: 2017-09-08\n",
    " * Time: 19:00pm\n",
    " *\n",
    " *  The code is the answer to exercise 4 of the ninth chapter about the book \"C++ Primer, Fifth Edition\".\n",
    " *\n",
    " * If you have any question,please contact me.\n",
    " *\n",
    " * Email:1054708869@qq.com\n",
    "*/\n",
    "\n",
    "#include <iostream>\n",
    "#include <fstream>\n",
    "#include <sstream>\n",
    "#include <string>\n",
    "#include <vector>\n",
    "\n",
    "using namespace::std;\n",
    "\n",
    "int main(int argc,char **argv){\n",
    "\tvector<int> vec(20);\n",
    "\tint find_number = 1;\n",
    "\n",
    "\tfor(int i = 2; i <= 10; ++i){\n",
    "\t\tvec.push_back(i);\n",
    "\t}\n",
    "\n",
    "\tfor(auto a = vec.begin(); a != vec.end(); ++a){\n",
    "\t\tif(*a == find_number){\n",
    "\t\t\tcout << \"we find it\" << endl;\n",
    "\t\t\treturn 0;\n",
    "\t\t}\n",
    "\t}\n",
    "\tcout << \"sorry!no find!\" << endl;\n",
    "\n",
    "\treturn 0;\n",
    "}"
   ]
  },
  {
   "cell_type": "markdown",
   "metadata": {},
   "source": [
    "### 容器类型成员\n",
    "\n",
    "- size_type\n",
    "- iterator\n",
    "- const_iterator"
   ]
  },
  {
   "cell_type": "markdown",
   "metadata": {},
   "source": [
    "### begin和end成员\n",
    "\n",
    "- 这两个迭代器最常见的用途是形成一个包含容器中所有元素的迭代器范围\n",
    "- 带r的版本是反向迭代器\n",
    "- 以c开头的版本则返回const迭代器"
   ]
  },
  {
   "cell_type": "markdown",
   "metadata": {},
   "source": [
    "```C++\n",
    "list<string> a = {\"feng\", \"hao\", \"tong\"};\n",
    "auto it1 = a.begin();    //lsit<string>::iterator\n",
    "auto it2 = a.rbegin();   //list<string>::reverse_iterator\n",
    "auto it3 = a.cbegin();   //list<string>::const_iterator\n",
    "auto it4 = a.crbegin();  //list<string>::const_reverse_iterator\n",
    "```"
   ]
  },
  {
   "cell_type": "markdown",
   "metadata": {},
   "source": [
    "### 容器定义和初始化"
   ]
  },
  {
   "cell_type": "markdown",
   "metadata": {},
   "source": [
    "** 将一个容器初始化为另一个容器的拷贝 **\n",
    "\n",
    "- 直接拷贝整个容器（两个容器的类型和元素类型都必须相同）\n",
    "- 拷贝由一个迭代器对指定的元素范围（不用相同）"
   ]
  },
  {
   "cell_type": "markdown",
   "metadata": {},
   "source": [
    "** 列表初始化 **"
   ]
  },
  {
   "cell_type": "markdown",
   "metadata": {},
   "source": [
    "** 与顺序容器大小相关的构造函数 **\n",
    "\n",
    "- 只有顺序容器的构造函数才接受大小参数，关联容器不支持"
   ]
  },
  {
   "cell_type": "markdown",
   "metadata": {},
   "source": [
    "** 标准库array具有固定大小 **\n",
    "\n",
    "- 与内置数组一样，定义一个array时要指定容器的大小\n",
    "- 内置数组不能进行拷贝，array只要类型相同可以进行拷贝"
   ]
  },
  {
   "cell_type": "markdown",
   "metadata": {},
   "source": [
    "```C++\n",
    "array<int, 10>\n",
    "array<string, 10>\n",
    "\n",
    "array<int 10>::size_type i;\n",
    "array<int>::size_type i; //错误\n",
    "```"
   ]
  },
  {
   "cell_type": "markdown",
   "metadata": {},
   "source": [
    "### 赋值和swap\n",
    "\n",
    "- array不支持assign，也不允许用花括号包围的值列表进行赋值\n",
    "```C++\n",
    "array<int, 10> a1 = {0, 1, 2, 3, 4, 5, 6, 7, 8 9}\n",
    "array<int, 10> a2 = {0}\n",
    "a1 = a2;\n",
    "a2 = {0}; //c错误\n",
    "```"
   ]
  },
  {
   "cell_type": "markdown",
   "metadata": {},
   "source": [
    "** 使用assign（仅顺序容器）(不包括array) **\n",
    "\n",
    "- assign实现了一个vector中的一段char \\*值赋予一个list的string：\n",
    "\n",
    "```C++\n",
    "list<string> names;\n",
    "vector<const char*> oldstyle;\n",
    "\n",
    "names = oldstyle;\n",
    "names.assign(oldstyle.cbegin(), oldstyle.cend());\n",
    "```"
   ]
  },
  {
   "cell_type": "markdown",
   "metadata": {},
   "source": [
    "** 使用swap **"
   ]
  },
  {
   "cell_type": "markdown",
   "metadata": {},
   "source": [
    "- swap操作交换两个相同类型容器的内容，调用swap之后，两个容器中的元素将会交换"
   ]
  },
  {
   "cell_type": "markdown",
   "metadata": {},
   "source": [
    "### 容器大小的操作\n",
    "\n",
    "- size\n",
    "- empty\n",
    "- max_size返回一个大于或等于该类型容器所能容纳的最大元素数的值"
   ]
  },
  {
   "cell_type": "markdown",
   "metadata": {},
   "source": [
    "### 关系元算符\n",
    "\n",
    "- 每个容器类型都支持相等运算符（==和！=）\n",
    "- 除了无序关联容器外的所有容器类型都支持关系运算符（>,>=,<,<=）"
   ]
  },
  {
   "cell_type": "markdown",
   "metadata": {
    "collapsed": true
   },
   "source": [
    "## 顺序容器操作"
   ]
  },
  {
   "cell_type": "markdown",
   "metadata": {},
   "source": [
    "- 顺序容器和关联容器的不同在于两者组织元素的形式\n",
    "- 这些不同之处直接关系到了元素如何存储、访问、添加以及删除"
   ]
  },
  {
   "cell_type": "markdown",
   "metadata": {},
   "source": [
    "### 向顺序容器中添加元素\n",
    "\n",
    "- push_back()\n",
    "- push_front()\n",
    "- emplace()\n",
    "- insert()"
   ]
  },
  {
   "cell_type": "markdown",
   "metadata": {},
   "source": [
    "** 使用push_back **"
   ]
  },
  {
   "cell_type": "markdown",
   "metadata": {},
   "source": [
    "- 除了forward_list和array之外，每个顺序容器都支持push_back（追加到尾部）\n",
    "- list、deque、vector\n",
    "- 也可以用push_back在string末尾追加字符"
   ]
  },
  {
   "cell_type": "markdown",
   "metadata": {},
   "source": [
    "** 使用push_front **\n",
    "\n",
    "- list、deque、forward_list\n",
    "- 将元素插入到容器头部"
   ]
  },
  {
   "cell_type": "markdown",
   "metadata": {},
   "source": [
    "```C++\n",
    "list<int> ilist;\n",
    "for(size_t ix = 0; ix != 4; ++i）\n",
    "    ilist.push_front(ix);\n",
    "```"
   ]
  },
  {
   "cell_type": "markdown",
   "metadata": {},
   "source": [
    "** 在容器的特定位置添加元素 **\n",
    "\n",
    "- insert\n",
    "- vector、list、deque、string都支持insert成员\n",
    "- forward_list提供了特殊的insert成员\n",
    "- 插入到指定位置之前"
   ]
  },
  {
   "cell_type": "markdown",
   "metadata": {},
   "source": [
    "```C++\n",
    "vector<int> svec;\n",
    "list<int> slist;\n",
    "\n",
    "slist.insert(slist.begin(), \"hello\"); //相当于push_front(\"hello\")\n",
    "\n",
    "svec.insert(svec.begin(), \"hello\"); //vector不支持push_front，可以使用插入开始之前那个位置代替\n",
    "```"
   ]
  },
  {
   "cell_type": "markdown",
   "metadata": {},
   "source": [
    "** 插入范围内元素 **\n",
    "\n",
    "- insert(arg1, arg2, arg2)\n",
    "- arg1表示插入容器位置之前的那个位置\n",
    "- arg2表示插入的元素起始\n",
    "- arg3表示插入的元素结尾"
   ]
  },
  {
   "cell_type": "markdown",
   "metadata": {},
   "source": [
    "** 使用insert的返回值 **"
   ]
  },
  {
   "cell_type": "markdown",
   "metadata": {},
   "source": [
    "** 使用emplace操作 **\n",
    "\n",
    "- emplace_front\n",
    "- emplace\n",
    "- empalce_back\n",
    "- 调用empalce函数时，是将参数传递给元素类型的构造函数"
   ]
  },
  {
   "cell_type": "markdown",
   "metadata": {},
   "source": [
    "- 假设c保存Sales_data元素\n",
    "\n",
    "```C++\n",
    "vector<Sales_data> c;\n",
    "\n",
    "c.emplace_back(\"978-899090\", 25, 19.9);\n",
    "c.push_back(\"978-899090\", 25, 19.9);  //错误，push_back不能接受三个参数\n",
    "c.push_back(Sales_data(\"978-899090\", 25, 19.9));// 正确\n",
    "```"
   ]
  },
  {
   "cell_type": "code",
   "execution_count": 2,
   "metadata": {},
   "outputs": [
    {
     "name": "stdout",
     "output_type": "stream",
     "text": [
      "Overwriting ../../Code/C++PrimerCode/chapter9/18.cpp\n"
     ]
    }
   ],
   "source": [
    "%%writefile ../../Code/C++PrimerCode/chapter9/18.cpp\n",
    "/*\n",
    " * This code is writed by htfeng.\n",
    " *\n",
    " * \"Copyright (c) 2017 by Objectwrite.\"\n",
    " * Date: 2017-09-09\n",
    " * Time: 16:40pm\n",
    " *\n",
    " *  The code is the answer to exercise 18 of the ninth chapter about the book \"C++ Primer, Fifth Edition\".\n",
    " *\n",
    " * If you have any question,please contact me.\n",
    " *\n",
    " * Email:1054708869@qq.com\n",
    "*/\n",
    "#include <iostream>\n",
    "#include <deque>\n",
    "#include <string>\n",
    "\n",
    "using namespace::std;\n",
    "\n",
    "int main(int argc, char **argv){\n",
    "\tstring buf;\n",
    "\tdeque<string> sdeque;\n",
    "\twhile(cin >> buf && buf != \"0\"){\n",
    "\t\tsdeque.push_back(buf);\n",
    "\t}\n",
    "\n",
    "\tdeque<string>::iterator de = sdeque.begin();\n",
    "\n",
    "\tfor(de; de != sdeque.end(); ++de){\n",
    "\t\tcout << *de << endl;\n",
    "\t}\n",
    "\treturn 0;\n",
    "}"
   ]
  },
  {
   "cell_type": "code",
   "execution_count": 4,
   "metadata": {},
   "outputs": [
    {
     "name": "stdout",
     "output_type": "stream",
     "text": [
      "Overwriting ../../Code/C++PrimerCode/chapter9/20.cpp\n"
     ]
    }
   ],
   "source": [
    "%%writefile ../../Code/C++PrimerCode/chapter9/20.cpp\n",
    "/*\n",
    " * This code is writed by htfeng.\n",
    " *\n",
    " * \"Copyright (c) 2017 by Objectwrite.\"\n",
    " * Date: 2017-09-09\n",
    " * Time: 16:50pm\n",
    " *\n",
    " *  The code is the answer to exercise 20 of the ninth chapter about the book \"C++ Primer, Fifth Edition\".\n",
    " *\n",
    " * If you have any question,please contact me.\n",
    " *\n",
    " * Email:1054708869@qq.com\n",
    "*/\n",
    "#include <iostream>\n",
    "#include <deque>\n",
    "#include <string>\n",
    "#include <list>\n",
    "\n",
    "using namespace std;\n",
    "\n",
    "int main(int argc,char **argv){\n",
    "\tlist<int> ilist = {1,2,3,4,5,6,7,8,9};\n",
    "\tdeque<int> ideque1;\n",
    "\tdeque<int> ideque2;\n",
    "\n",
    "\tfor(auto iter = ilist.begin(); iter != ilist.end(); ++iter){\n",
    "\t\tif(*iter % 2 == 0)\n",
    "\t\t\tideque1.push_back(*iter);\n",
    "\t\telse\n",
    "\t\t\tideque2.push_back(*iter);\n",
    "\t}\n",
    "    \n",
    "    cout << \"oushu:\";\n",
    "\n",
    "    for(auto deq1 = ideque1.begin(); deq1 != ideque1.end(); ++deq1){\n",
    "    \tcout << *deq1 << \" \";\n",
    "    }\n",
    "    cout << endl;\n",
    "    cout << \"jishu:\";\n",
    "    for(auto deq2 = ideque2.begin(); deq2 != ideque2.end(); ++deq2){\n",
    "    \tcout << *deq2 << \" \";\n",
    "    }\n",
    "    cout << endl;\n",
    "\treturn 0;\n",
    "}"
   ]
  },
  {
   "cell_type": "markdown",
   "metadata": {},
   "source": [
    "### 访问元素"
   ]
  },
  {
   "cell_type": "markdown",
   "metadata": {},
   "source": [
    "- at和下表操作只适用于string、vector、deque和array\n",
    "- back不适用于forward_list"
   ]
  },
  {
   "cell_type": "markdown",
   "metadata": {},
   "source": [
    "** 返回成员函数返回的是引用 **"
   ]
  },
  {
   "cell_type": "markdown",
   "metadata": {},
   "source": [
    "```C++\n",
    "if(!c.empty()) {\n",
    "    c.front() = 42;\n",
    "    auto &v = c.back();  //指向最后一个元素的引用\n",
    "    v = 1024;             //改变c的值\n",
    "    auto v2 = c.back();  //v2不是引用，是c.back()的拷贝\n",
    "    v2 = 2;     //\n",
    "}\n",
    "```"
   ]
  },
  {
   "cell_type": "markdown",
   "metadata": {},
   "source": [
    "** 下表操作和安全的随机访问 **"
   ]
  },
  {
   "cell_type": "markdown",
   "metadata": {},
   "source": [
    "```C++\n",
    "vector<string> vec;\n",
    "cout << vec[0];    //出错\n",
    "cout << vec.at(0);  //抛出一个out_of_range的异常\n",
    "```"
   ]
  },
  {
   "cell_type": "markdown",
   "metadata": {},
   "source": [
    "### 删除元素"
   ]
  },
  {
   "cell_type": "markdown",
   "metadata": {},
   "source": [
    "- 这些操作会改变容器大小，不适应与array\n",
    "- forward_list有特殊版本的erase\n",
    "- forward_list不支持pop_back;vector和string不支持pop_front"
   ]
  },
  {
   "cell_type": "markdown",
   "metadata": {},
   "source": [
    "** pop_front和pop_back成员函数 **"
   ]
  },
  {
   "cell_type": "markdown",
   "metadata": {},
   "source": [
    "- 分别删除首元素和尾元素\n",
    "\n",
    "```C++\n",
    "while(!ilsit.empty()){\n",
    "    process(ilist.front());  //对ilist的首元素进行一些处理\n",
    "    ilist.pop_front();   //完成处理后删除首元素\n",
    "}\n",
    "```"
   ]
  },
  {
   "cell_type": "markdown",
   "metadata": {},
   "source": [
    "** 从容器内部删除一个元素 **"
   ]
  },
  {
   "cell_type": "markdown",
   "metadata": {},
   "source": [
    "- 成员函数erase从容器中指定位置删除元素\n",
    "- erase(i)返回指向i之后的元素"
   ]
  },
  {
   "cell_type": "markdown",
   "metadata": {},
   "source": [
    "```C++\n",
    "list<int> lst = {1,2,3,4,5,6,7,8,9,0};\n",
    "auto it = lst.begin();\n",
    "while(it != lst.end())\n",
    "    if(*it % 2)\n",
    "        it = lst.erase(it);\n",
    "    else\n",
    "        ++it;\n",
    "```"
   ]
  },
  {
   "cell_type": "markdown",
   "metadata": {},
   "source": [
    "** 删除对各元素 **"
   ]
  },
  {
   "cell_type": "markdown",
   "metadata": {},
   "source": [
    "```C++\n",
    "slist.clear();\n",
    "slist.erase(slist.begin(), slist.end());\n",
    "```"
   ]
  },
  {
   "cell_type": "code",
   "execution_count": 6,
   "metadata": {},
   "outputs": [
    {
     "name": "stdout",
     "output_type": "stream",
     "text": [
      "Overwriting ../../Code/C++PrimerCode/chapter9/26.cpp\n"
     ]
    }
   ],
   "source": [
    "%%writefile ../../Code/C++PrimerCode/chapter9/26.cpp\n",
    "/*\n",
    " * This code is writed by htfeng.\n",
    " *\n",
    " * \"Copyright (c) 2017 by Objectwrite.\"\n",
    " * Date: 2017-09-09\n",
    " * Time: 20:30pm\n",
    " *\n",
    " *  The code is the answer to exercise 26 of the ninth chapter about the book \"C++ Primer, Fifth Edition\".\n",
    " *\n",
    " * If you have any question,please contact me.\n",
    " *\n",
    " * Email:1054708869@qq.com\n",
    "*/\n",
    "#include <iostream>  \n",
    "#include <fstream>  \n",
    "#include <sstream>  \n",
    "#include <string>  \n",
    "#include <vector>  \n",
    "#include <list>  \n",
    "using namespace std;  \n",
    "  \n",
    "int main(int argc, char**argv)  \n",
    "{  \n",
    "    int ia[] ={0,1,1,2,3,5,8,13,21,55,89};  \n",
    "      \n",
    "    vector<int> vec1(ia,ia+9);//拷贝操作  \n",
    "    list<int> list1(ia,ia+9);  \n",
    "  \n",
    "    vector<int>::iterator it1 = vec1.begin();//使用迭代器  \n",
    "    list<int>::iterator it2 = list1.begin();  \n",
    "  \n",
    "    while (it1 != vec1.end())//删除操作  \n",
    "    {  \n",
    "        if ((*it1)%2 == 0)  \n",
    "        {  \n",
    "            it1 = vec1.erase(it1);//将删除位置更新  \n",
    "        }  \n",
    "        else//若判断非偶数，则移到下一位置  \n",
    "        {  \n",
    "            ++it1;  \n",
    "        }  \n",
    "    }  \n",
    "  \n",
    "    while (it2 != list1.end())  \n",
    "    {  \n",
    "        if (*it2%2 != 0)  \n",
    "        {  \n",
    "            it2 = list1.erase(it2);//将删除位置更新  \n",
    "        }  \n",
    "        else//若判断非偶数，则移到下一位置  \n",
    "        {  \n",
    "            ++it2;  \n",
    "        }  \n",
    "    }  \n",
    "      \n",
    "    //验证结果  \n",
    "    vector<int>::iterator it3 = vec1.begin();//需要重新定义临时迭代器  \n",
    "    list<int>::iterator it4 = list1.begin();  \n",
    "    for (it3;it3 != vec1.end(); ++it3)  \n",
    "    {  \n",
    "        cout<<*it3<<\" \";  \n",
    "    }  \n",
    "    cout<<endl;  \n",
    "    for (it4;it4 != list1.end(); ++it4)  \n",
    "    {  \n",
    "        cout<<*it4<<\" \";  \n",
    "    }  \n",
    "      \n",
    "    return 0;  \n",
    "}  "
   ]
  },
  {
   "cell_type": "markdown",
   "metadata": {},
   "source": [
    "### 特殊的forward_list操作\n",
    "\n",
    "- 前驱和后继\n",
    "- lst.before_begin()\n",
    "- lst.cbefore_begin()\n",
    "- lst.insert_after(p, t)\n",
    "- lst.insert_after(p, n, t)\n",
    "- lst.insert_after(p, b, e)\n",
    "- lst.insert_after(p, il)\n",
    "- emplace(p, args)\n",
    "- lst.erase(p)\n",
    "- lst.erase(b, e)"
   ]
  },
  {
   "cell_type": "markdown",
   "metadata": {},
   "source": [
    "```C++\n",
    "forward_list<int> flst = {1,2,3,4,5,6,7,8,9,0};\n",
    "auto prev = flst.before_begin();\n",
    "auto curr = flst.begin();\n",
    "while(curr != flst.enf()){\n",
    "    if(!curr % 2)\n",
    "        curr = flst.erase_after(prev);\n",
    "    else\n",
    "        prev = curr;\n",
    "        ++curr;\n",
    "}\n",
    "```"
   ]
  },
  {
   "cell_type": "code",
   "execution_count": 9,
   "metadata": {},
   "outputs": [
    {
     "name": "stdout",
     "output_type": "stream",
     "text": [
      "Overwriting ../../Code/C++PrimerCode/chapter9/27.cpp\n"
     ]
    }
   ],
   "source": [
    "%%writefile ../../Code/C++PrimerCode/chapter9/27.cpp\n",
    "/*\n",
    " * This code is writed by htfeng.\n",
    " *\n",
    " * \"Copyright (c) 2017 by Objectwrite.\"\n",
    " * Date: 2017-09-09\n",
    " * Time: 21:00pm\n",
    " *\n",
    " *  The code is the answer to exercise 27 of the ninth chapter about the book \"C++ Primer, Fifth Edition\".\n",
    " *\n",
    " * If you have any question,please contact me.\n",
    " *\n",
    " * Email:1054708869@qq.com\n",
    "*/\n",
    "#include <iostream>\n",
    "#include <deque>\n",
    "#include <string>\n",
    "#include <list>\n",
    "#include <forward_list>\n",
    "\n",
    "using namespace std;\n",
    "\n",
    "int main(int argc,char **argv){\n",
    "\tforward_list<int> flst = {1,2,3,4,5,6,7,8,9,0};\n",
    "\tauto prev = flst.before_begin();\n",
    "\tauto curr = flst.begin();\n",
    "\twhile(curr != flst.end()){\n",
    "\t    if(*curr % 2)\n",
    "\t        curr = flst.erase_after(prev);\n",
    "\t    else{\n",
    "\t    \tprev = curr;\n",
    "\t        ++curr;\n",
    "\t    }       \n",
    "\t}\n",
    "    \n",
    "    cout << \"oushu:\";\n",
    "\n",
    "    for(auto deq1 = flst.begin(); deq1 != flst.end(); ++deq1){\n",
    "    \tcout << *deq1 << \" \";\n",
    "    }\n",
    "\n",
    "    cout << endl;\n",
    "\treturn 0;\n",
    "}"
   ]
  },
  {
   "cell_type": "code",
   "execution_count": 12,
   "metadata": {},
   "outputs": [
    {
     "name": "stdout",
     "output_type": "stream",
     "text": [
      "Overwriting ../../Code/C++PrimerCode/chapter9/28.cpp\n"
     ]
    }
   ],
   "source": [
    "%%writefile ../../Code/C++PrimerCode/chapter9/28.cpp\n",
    "/*\n",
    " * This code is writed by htfeng.\n",
    " *\n",
    " * \"Copyright (c) 2017 by Objectwrite.\"\n",
    " * Date: 2017-09-09\n",
    " * Time: 21:00pm\n",
    " *\n",
    " *  The code is the answer to exercise 28 of the ninth chapter about the book \"C++ Primer, Fifth Edition\".\n",
    " *\n",
    " * If you have any question,please contact me.\n",
    " *\n",
    " * Email:1054708869@qq.com\n",
    "*/\n",
    "#include <iostream>\n",
    "#include <deque>\n",
    "#include <string>\n",
    "#include <list>\n",
    "#include <forward_list>\n",
    "\n",
    "using namespace std;\n",
    "\n",
    "void finsert(forward_list<string> &flst, string s1, string s2){\n",
    "\tforward_list<string>::iterator it1 = flst.before_begin();  \n",
    "    forward_list<string>::iterator it2 = flst.begin();  \n",
    "  \n",
    "    bool flag = false;   \n",
    "    for (it2; it2 != flst.end(); it1 = it2++)  \n",
    "    {  \n",
    "        if (*it2 == s1)  \n",
    "        {  \n",
    "            flst.insert_after(it2,s2);  \n",
    "            flag = true;  \n",
    "        }  \n",
    "    }  \n",
    "    if (!flag)  \n",
    "    {  \n",
    "        flst.insert_after(it1,s2);  \n",
    "    }  \n",
    "}\n",
    "\n",
    "int main(int argc, char**argv){  \n",
    "    forward_list<string> list1(4,\"sadi\");  \n",
    "    string a = \"sad5\";  \n",
    "    string b = \"sad\";  \n",
    "  \n",
    "    finsert(list1,a,b);  \n",
    "  \n",
    "    forward_list<string>::iterator it1 = list1.begin();  \n",
    "    for (it1; it1!=list1.end();++it1)  \n",
    "    {  \n",
    "        cout<<*it1<<\" \";  \n",
    "    }  \n",
    "    return 0;  \n",
    "}  "
   ]
  },
  {
   "cell_type": "markdown",
   "metadata": {},
   "source": [
    "### 改变容器的大小\n",
    "\n",
    "- resize()"
   ]
  },
  {
   "cell_type": "markdown",
   "metadata": {},
   "source": [
    "```C++\n",
    "list<int> ilist(10, 42);\n",
    "ilist.resize(15);    //将5个值为0的元素加到末尾\n",
    "ilist.resize(25, -1); // 将10个值为-1的元素添加到ilsit末尾\n",
    "ilsit.resize(5);      //从ilsit末尾删除20个元素\n",
    "```"
   ]
  },
  {
   "cell_type": "markdown",
   "metadata": {},
   "source": [
    "### 容器操作可能使迭代器失效"
   ]
  },
  {
   "cell_type": "markdown",
   "metadata": {},
   "source": [
    "** 编写改变容器的循环程序 **"
   ]
  },
  {
   "cell_type": "markdown",
   "metadata": {},
   "source": [
    "- 在添加删除容器时，必须时刻更新容器避免迭代器失效"
   ]
  },
  {
   "cell_type": "markdown",
   "metadata": {},
   "source": [
    "** 不要保存end返回的迭代器 **\n",
    "\n",
    "- 如下\n",
    "\n",
    "```C++\n",
    "auto begin = v.begin(), end = v.end();  //不要这么做\n",
    "while（begin != end){\n",
    "    ++begin;\n",
    "    begin = v.insert(begin, 42);\n",
    "    ++begin;\n",
    "}\n",
    "\n",
    "while(begin != v.end()){     //这么做是对的，每个循环添加/删除元素后都重新计算end\n",
    "    ++begin;\n",
    "    begin = v.insert(begin, 42);\n",
    "    ++begin;\n",
    "}\n",
    "\n",
    "```"
   ]
  },
  {
   "cell_type": "markdown",
   "metadata": {},
   "source": [
    "## vector对象是如何增长的"
   ]
  },
  {
   "cell_type": "markdown",
   "metadata": {
    "collapsed": true
   },
   "source": [
    "- vector是将元素连续存储，如果没有空间容纳新元素，容器不肯能把新元素分配到其他位置。\n",
    "- 当不得不获取新的内存空间时，vector和string的实现通常会分配比新的空间需求更大的内存空间。容器预留这些空间的作用可用来保存更多的新元素"
   ]
  },
  {
   "cell_type": "markdown",
   "metadata": {},
   "source": [
    "** 容量管理的成员函数 **"
   ]
  },
  {
   "cell_type": "markdown",
   "metadata": {},
   "source": [
    "- vector和string类型提供了一些成员函数，允许我们与它的实现中内存分配部分互动，capacity操作告诉我们容器在不扩张内存空间的情况下可以容纳多少元素，reserve操作允许我们通知容器他应该准备保存多少元素。\n",
    "- shrink_to_fit只适用于vector、string和deque\n",
    "- capacity和reserve只适用于vector和string\n",
    "- c.shrink_to_fit()   调整capacity()减少为与size()相同大小\n",
    "- c.capacity()     不重新分配内存空间的话，c可以保存多少元素\n",
    "- c.reserve(n)     分配至少能容纳n个元素的内存空间\n",
    "\n",
    ">reserve并不改变容器中元素的数量，仅影响vector预先分配多大的内存空间    \n",
    ">只有当需要的内存空间超过当前容量时，reserve调用才会改变vector容量。"
   ]
  },
  {
   "cell_type": "markdown",
   "metadata": {},
   "source": [
    "** capacity和size **"
   ]
  },
  {
   "cell_type": "code",
   "execution_count": 2,
   "metadata": {},
   "outputs": [
    {
     "name": "stdout",
     "output_type": "stream",
     "text": [
      "Overwriting ../../Code/C++PrimerCode/chapter9/volume.cpp\n"
     ]
    }
   ],
   "source": [
    "%%writefile ../../Code/C++PrimerCode/chapter9/volume.cpp\n",
    "/*\n",
    " * This code is writed by htfeng.\n",
    " *\n",
    " * \"Copyright (c) 2017 by Objectwrite.\"\n",
    " * Date: 2017-09-012\n",
    " * Time: 09:00am\n",
    " *\n",
    " *  The code is page 318 of the ninth chapter about the book \"C++ Primer, Fifth Edition\".\n",
    " *\n",
    " * If you have any question,please contact me.\n",
    " *\n",
    " * Email:1054708869@qq.com\n",
    "*/\n",
    "#include <iostream>\n",
    "#include <vector>\n",
    "#include <string>\n",
    "\n",
    "using namespace std;\n",
    "\n",
    "int main(int argc,char **argv){\n",
    "\tvector<int> vec;\n",
    "\tcout << \"vec.size:\" << vec.size()\n",
    "\t\t << \"vec.capacity:\" << vec.capacity() << endl;\n",
    "\n",
    "\tfor(vector<int>::size_type ix = 0; ix != 24; ++ix){\n",
    "\t\tvec.push_back(ix);\n",
    "\t}\n",
    "\tcout << \"vec.size:\" << vec.size()\n",
    "\t\t << \"vec.capacity:\" << vec.capacity() << endl;\n",
    "\n",
    "\tvec.reserve(50);\n",
    "\tcout << \"vec.size:\" << vec.size()\n",
    "\t\t << \"vec.capacity:\" << vec.capacity() << endl;\n",
    "\n",
    "\twhile(vec.size() != vec.capacity())\n",
    "\t\tvec.push_back(0);\n",
    "\tcout << \"vec.size:\" << vec.size()\n",
    "\t\t << \"vec.capacity:\" << vec.capacity() << endl;\n",
    "\n",
    "\tvec.push_back(42);\n",
    "\tcout << \"vec.size:\" << vec.size()\n",
    "\t\t << \"vec.capacity:\" << vec.capacity() << endl;\n",
    "\n",
    "\tvec.shrink_to_fit();\n",
    "\tcout << \"vec.size:\" << vec.size()\n",
    "\t\t << \"vec.capacity:\" << vec.capacity() << endl;\n",
    "\n",
    "\treturn 0;\n",
    "}"
   ]
  },
  {
   "cell_type": "code",
   "execution_count": 4,
   "metadata": {},
   "outputs": [
    {
     "name": "stdout",
     "output_type": "stream",
     "text": [
      "Overwriting ../../Code/C++PrimerCode/chapter9/40.cpp\n"
     ]
    }
   ],
   "source": [
    "%%writefile ../../Code/C++PrimerCode/chapter9/40.cpp\n",
    "/*\n",
    " * This code is writed by htfeng.\n",
    " *\n",
    " * \"Copyright (c) 2017 by Objectwrite.\"\n",
    " * Date: 2017-09-12\n",
    " * Time: 09:50pm\n",
    " *\n",
    " *  The code is the answer to exercise 40 of the ninth chapter about the book \"C++ Primer, Fifth Edition\".\n",
    " *\n",
    " * If you have any question,please contact me.\n",
    " *\n",
    " * Email:1054708869@qq.com\n",
    "*/\n",
    "#include <iostream>  \n",
    "#include <fstream>  \n",
    "#include <sstream>  \n",
    "#include <string>  \n",
    "#include <vector>  \n",
    "#include <forward_list>  \n",
    "using namespace std;  \n",
    "  \n",
    "void func(int val)  \n",
    "{  \n",
    "    vector<string> svec;  \n",
    "    svec.reserve(1000);  \n",
    "    string mystring = \"string\";  \n",
    "    for (int i = 0; i < val; ++i)  \n",
    "    {  \n",
    "        svec.push_back(mystring);  \n",
    "    }  \n",
    "    svec.resize(svec.size()+svec.size()/2);  \n",
    "    cout<<\"输入\"<<val<<\"个词之后size\"<<svec.size()<<endl;  \n",
    "    cout<<\"输入\"<<val<<\"个词之后capacity\"<<svec.capacity()<<endl;  \n",
    "}  \n",
    "int main(int argc, char**argv)  \n",
    "{  \n",
    "    func(256);  \n",
    "    func(512);  \n",
    "    func(1000);  \n",
    "    func(1024);  \n",
    "  \n",
    "    return 0;  \n",
    "}  "
   ]
  },
  {
   "cell_type": "markdown",
   "metadata": {},
   "source": [
    "## 额外的string操作"
   ]
  },
  {
   "cell_type": "markdown",
   "metadata": {},
   "source": [
    "### 构造string的其他方法\n",
    "\n",
    "- n、len2、pos2都是无符号值\n",
    "- string s(cp,n)  s是cp指向的数组中前n个字符的拷贝。此数组至少应该包含n个字符\n",
    "- string s(s2,pos2)  s是string s2从下标pos2开始的字符的拷贝，若pos2>s2.size()，构造函数的行为未定义\n",
    "- string s(s2,pos2,len2)  s是string s2从下表pos2开始len2个字符的拷贝，若pos2>s2.size(),构造函数的行为未定义，不管len2的值是多少，构造函数至多拷贝s2.size()-pos2个字符"
   ]
  },
  {
   "cell_type": "markdown",
   "metadata": {},
   "source": [
    "** substr操作 **\n",
    "\n",
    "- s.substr(pos, n)  返回一个string，包含s中从pos开始的n个字符的拷贝，pos的默认值是0,n的默认值为s.size()-pos"
   ]
  },
  {
   "cell_type": "markdown",
   "metadata": {},
   "source": [
    "### 改变string的其他方法 \n",
    "\n",
    "- string的assign、insert、erase的下标操作"
   ]
  },
  {
   "cell_type": "markdown",
   "metadata": {},
   "source": [
    "** append和replace函数 **\n",
    "\n",
    "- append函数实在string的末尾进行插入操作\n",
    "- replace操作是调用erase和insert的一种间歇形式\n",
    "\n",
    "```C++\n",
    "string s(\"C++ Primer\"), s2 = s;\n",
    "s.insert(s.size(), \" 4th Ed.\");\n",
    "s2.append(\" 4th Ed\");\n",
    "\n",
    "s.erase(11, 3);\n",
    "s.insert(11, \"5th\");\n",
    "\n",
    "s2.replace(11, 3, \"5th\");\n",
    "```"
   ]
  },
  {
   "cell_type": "markdown",
   "metadata": {},
   "source": [
    "** 改变string的多重重载函数 **"
   ]
  },
  {
   "cell_type": "code",
   "execution_count": 5,
   "metadata": {},
   "outputs": [
    {
     "name": "stdout",
     "output_type": "stream",
     "text": [
      "Writing ../../Code/C++PrimerCode/chapter9/43.cpp\n"
     ]
    }
   ],
   "source": [
    "%%writefile ../../Code/C++PrimerCode/chapter9/43.cpp\n",
    "/*\n",
    " * This code is writed by htfeng.\n",
    " *\n",
    " * \"Copyright (c) 2017 by Objectwrite.\"\n",
    " * Date: 2017-09-12\n",
    " * Time: 10:35pm\n",
    " *\n",
    " *  The code is the answer to exercise 43 of the ninth chapter about the book \"C++ Primer, Fifth Edition\".\n",
    " *\n",
    " * If you have any question,please contact me.\n",
    " *\n",
    " * Email:1054708869@qq.com\n",
    "*/\n",
    "#include<iostream>    \n",
    "#include<fstream>    \n",
    "#include<sstream>    \n",
    "#include<string>    \n",
    "#include<vector>    \n",
    "#include<forward_list>    \n",
    "using namespace std;    \n",
    "  \n",
    "void func(string &s, string &oldVal, string &newVal)    \n",
    "{    \n",
    "    int _size = oldVal.size();    \n",
    "    string::iterator it1 = s.begin();    \n",
    "    string::iterator it2 = newVal.begin();    \n",
    "    string::iterator it3 = newVal.end();    \n",
    "  \n",
    "    for (it1; it1 <= (s.end()-oldVal.size()+1); ++it1)    \n",
    "    {    \n",
    "        //pos可以由两个迭代器相减得到,返回截取到的string    \n",
    "        if((s.substr(it1-s.begin(),_size) == oldVal))//substr()的作用就是截取string中的一段    \n",
    "        {    \n",
    "            it1 = s.erase(it1,it1+_size);//返回的是最后一个被删除的元素之后的位置    \n",
    "            s.insert(it1, it2,it3);//原因在于insert()函数返回了指向第一个插入字符的迭代器，而我将其直接赋值给it1，从const转为非const，类型不同，产生错误    \n",
    "            advance(it1,_size);//向前_size大小，目的是为了让it1仍然指向当前字符串的首位置，因为前面进行了++it1  \n",
    "        }    \n",
    "    }    \n",
    "}    \n",
    "  \n",
    "int main(int argc, char**argv)    \n",
    "{    \n",
    "    string s = \"abcdefg\";    \n",
    "    string oldval = \"bc\";    \n",
    "    string newval = \"asas\";    \n",
    "    func(s,oldval,newval);    \n",
    "    cout<<s<<endl;    \n",
    "    system(\"pause\");  \n",
    "    return 0;    \n",
    "}  "
   ]
  },
  {
   "cell_type": "code",
   "execution_count": 6,
   "metadata": {},
   "outputs": [
    {
     "name": "stdout",
     "output_type": "stream",
     "text": [
      "Writing ../../Code/C++PrimerCode/chapter9/44.cpp\n"
     ]
    }
   ],
   "source": [
    "%%writefile ../../Code/C++PrimerCode/chapter9/44.cpp\n",
    "/*\n",
    " * This code is writed by htfeng.\n",
    " *\n",
    " * \"Copyright (c) 2017 by Objectwrite.\"\n",
    " * Date: 2017-09-12\n",
    " * Time: 10:35pm\n",
    " *\n",
    " *  The code is the answer to exercise 44 of the ninth chapter about the book \"C++ Primer, Fifth Edition\".\n",
    " *\n",
    " * If you have any question,please contact me.\n",
    " *\n",
    " * Email:1054708869@qq.com\n",
    "*/\n",
    "#include<iostream>    \n",
    "#include<fstream>    \n",
    "#include<sstream>    \n",
    "#include<string>    \n",
    "#include<vector>    \n",
    "#include<forward_list>    \n",
    "using namespace std;    \n",
    "  \n",
    "void func(string &s, string &oldVal, string &newVal)    \n",
    "{    \n",
    "    int _size = oldVal.size();    \n",
    "    string::iterator it1 = s.begin();    \n",
    "    string::iterator it2 = newVal.begin();    \n",
    "    string::iterator it3 = newVal.end();    \n",
    "  \n",
    "    for (it1; it1 <= (s.end()-oldVal.size()+1); ++it1)    \n",
    "    {    \n",
    "        //pos可以由两个迭代器相减得到,返回截取到的string    \n",
    "        if((s.substr(it1-s.begin(),_size) == oldVal))//substr()的作用就是截取string中的一段    \n",
    "        {    \n",
    "            s.replace(it1 - s.begin(), _size, newVal) \n",
    "        }    \n",
    "    }    \n",
    "}    \n",
    "  \n",
    "int main(int argc, char**argv)    \n",
    "{    \n",
    "    string s = \"abcdefg\";    \n",
    "    string oldval = \"bc\";    \n",
    "    string newval = \"asas\";    \n",
    "    func(s,oldval,newval);    \n",
    "    cout<<s<<endl;    \n",
    "    system(\"pause\");  \n",
    "    return 0;    \n",
    "}  "
   ]
  },
  {
   "cell_type": "code",
   "execution_count": 8,
   "metadata": {},
   "outputs": [
    {
     "name": "stdout",
     "output_type": "stream",
     "text": [
      "Overwriting ../../Code/C++PrimerCode/chapter9/45.cpp\n"
     ]
    }
   ],
   "source": [
    "%%writefile ../../Code/C++PrimerCode/chapter9/45.cpp\n",
    "/*\n",
    " * This code is writed by htfeng.\n",
    " *\n",
    " * \"Copyright (c) 2017 by Objectwrite.\"\n",
    " * Date: 2017-09-12\n",
    " * Time: 10:40pm\n",
    " *\n",
    " *  The code is the answer to exercise 45 of the ninth chapter about the book \"C++ Primer, Fifth Edition\".\n",
    " *\n",
    " * If you have any question,please contact me.\n",
    " *\n",
    " * Email:1054708869@qq.com\n",
    "*/\n",
    "#include <iostream>    \n",
    "#include <fstream>    \n",
    "#include <sstream>    \n",
    "#include <string>    \n",
    "#include <vector>    \n",
    "#include <forward_list>    \n",
    "using namespace std;   \n",
    "\n",
    "void Append(string &s, string &front, string &back){\n",
    "\tstring::iterator it1 = front.begin(), it2 = front.end();\n",
    "\ts.append(back);\n",
    "\ts.insert(s.begin(), it1, it2);\n",
    "}\n",
    "\n",
    "int main(int argc, char **argv){\n",
    "\tstring s = \"hello\";\n",
    "\tstring front = \"Mr. \";\n",
    "\tstring back = \" III\";\n",
    "\n",
    "\tAppend(s, front, back);\n",
    "\n",
    "\tcout << s << endl;\n",
    "\treturn 0;\n",
    "} "
   ]
  },
  {
   "cell_type": "code",
   "execution_count": 9,
   "metadata": {},
   "outputs": [
    {
     "name": "stdout",
     "output_type": "stream",
     "text": [
      "Writing ../../Code/C++PrimerCode/chapter9/46.cpp\n"
     ]
    }
   ],
   "source": [
    "%%writefile ../../Code/C++PrimerCode/chapter9/46.cpp\n",
    "/*\n",
    " * This code is writed by htfeng.\n",
    " *\n",
    " * \"Copyright (c) 2017 by Objectwrite.\"\n",
    " * Date: 2017-09-12\n",
    " * Time: 10:49pm\n",
    " *\n",
    " *  The code is the answer to exercise 46 of the ninth chapter about the book \"C++ Primer, Fifth Edition\".\n",
    " *\n",
    " * If you have any question,please contact me.\n",
    " *\n",
    " * Email:1054708869@qq.com\n",
    "*/\n",
    "#include <iostream>    \n",
    "#include <fstream>    \n",
    "#include <sstream>    \n",
    "#include <string>    \n",
    "#include <vector>    \n",
    "#include <forward_list>    \n",
    "using namespace std;   \n",
    "\n",
    "void Append(string &s, string &front, string &back){\n",
    "\tstring::iterator it1 = front.begin(), it2 = front.end();\n",
    "\ts.append(back);\n",
    "\ts.insert(s.begin(), it1, it2);\n",
    "}\n",
    "\n",
    "int main(int argc, char **argv){\n",
    "\tstring s = \"hello\";\n",
    "\tstring front = \"Mr. \";\n",
    "\tstring back = \" III\";\n",
    "\n",
    "\tAppend(s, front, back);\n",
    "\n",
    "\tcout << s << endl;\n",
    "\treturn 0;\n",
    "} "
   ]
  },
  {
   "cell_type": "markdown",
   "metadata": {},
   "source": [
    "### string搜索操作\n",
    "\n",
    "- 6个搜索函数，每个函数由4中重载版本\n",
    "- 每个搜索操作都返回一个string::size_type值\n",
    "- 如果搜索失败，则返回一个string::npos的static成员"
   ]
  },
  {
   "cell_type": "markdown",
   "metadata": {},
   "source": [
    "- s.find(args)            查找s中args第一次出现的位置\n",
    "- s.rfind(args)            查找s中args最后一次出现的位置\n",
    "- s.find_first_of(args)     查找s中args任何一个字符第一次出现的位置\n",
    "- s.find_last_of(args)        查找s中args任何一个字符最后一次出现的位置\n",
    "- s.find_first_not_of(args)    查找s中第一个不再args中的字符\n",
    "- s.find_last_not_of(args)      查找s中最后一个不再args中的字符"
   ]
  },
  {
   "cell_type": "markdown",
   "metadata": {},
   "source": [
    "** 指定在哪里开始搜索 **"
   ]
  },
  {
   "cell_type": "markdown",
   "metadata": {},
   "source": [
    "args必须是以下形式之一\n",
    "- c,pos   从s中位置pos开始查找字符c。pos默认为0\n",
    "- s2,pos  从s中位置pos开始查找字符串s2。pos默认为0\n",
    "- cp,pos  从s中位置pos开始查找指针cp指向的以空子符结尾的c风格字符串。pos默认为0\n",
    "- cp,pos,n  从s中位置pos开始查找指针cp指向的数组前n个字符。pos和n无默认值"
   ]
  },
  {
   "cell_type": "code",
   "execution_count": 11,
   "metadata": {},
   "outputs": [
    {
     "name": "stdout",
     "output_type": "stream",
     "text": [
      "Overwriting ../../Code/C++PrimerCode/chapter9/47.cpp\n"
     ]
    }
   ],
   "source": [
    "%%writefile ../../Code/C++PrimerCode/chapter9/47.cpp\n",
    "/*\n",
    " * This code is writed by htfeng.\n",
    " *\n",
    " * \"Copyright (c) 2017 by Objectwrite.\"\n",
    " * Date: 2017-09-12\n",
    " * Time: 14:03pm\n",
    " *\n",
    " *  The code is the answer to exercise 46 of the ninth chapter about the book \"C++ Primer, Fifth Edition\".\n",
    " *\n",
    " * If you have any question,please contact me.\n",
    " *\n",
    " * Email:1054708869@qq.com\n",
    "*/\n",
    "\n",
    "#include <iostream>    \n",
    "#include <fstream>    \n",
    "#include <sstream>    \n",
    "#include <string>    \n",
    "#include <vector>    \n",
    "#include <forward_list>    \n",
    "using namespace std;   \n",
    "\n",
    "int main(int argc, char **argv){\n",
    "\tstring s1 = \"ab2c3d7r4E6\";\n",
    "\n",
    "\tstring s2 = \"0123456789\";\n",
    "\n",
    "\tint pos = 0;\n",
    "\twhile((pos = s1.find_first_of(s2, pos)) != string::npos){\n",
    "\t\tcout<<\"在第\"<<pos+1<<\"个位置找到数字\"<<s1[pos]<<endl;  \n",
    "        ++pos; \n",
    "\t}\n",
    "\n",
    "\tpos = 0;\n",
    "\twhile((pos = s1.find_first_not_of(s2, pos)) != string::npos){\n",
    "\t\tcout<<\"在第\"<<pos+1<<\"个位置找到英文字母\"<<s1[pos]<<endl;  \n",
    "        ++pos; \n",
    "\t}\n",
    "\n",
    "\treturn 0;\n",
    "}"
   ]
  },
  {
   "cell_type": "code",
   "execution_count": 1,
   "metadata": {},
   "outputs": [
    {
     "name": "stdout",
     "output_type": "stream",
     "text": [
      "Overwriting ../../Code/C++PrimerCode/chapter9/49.cpp\n"
     ]
    }
   ],
   "source": [
    "%%writefile ../../Code/C++PrimerCode/chapter9/49.cpp\n",
    "/*\n",
    " * This code is writed by htfeng.\n",
    " *\n",
    " * \"Copyright (c) 2017 by Objectwrite.\"\n",
    " * Date: 2017-09-12\n",
    " * Time: 14:25pm\n",
    " *\n",
    " *  The code is the answer to exercise 49 of the ninth chapter about the book \"C++ Primer, Fifth Edition\".\n",
    " *\n",
    " * If you have any question,please contact me.\n",
    " *\n",
    " * Email:1054708869@qq.com\n",
    "*/\n",
    "#include <iostream>    \n",
    "#include <fstream>    \n",
    "#include <sstream>    \n",
    "#include <string>    \n",
    "#include <vector>    \n",
    "#include <forward_list>    \n",
    "using namespace std; \n",
    "\n",
    "int main(int argc,char **argv){\n",
    "\tstring s = \"acemnorsuvwxz\";\n",
    "\n",
    "\tifstream infile(\"1.txt\");\n",
    "\tstring str;\n",
    "\tinfile >> str;\n",
    "\tcout << \"origin:\" << str << endl;\n",
    "\n",
    "\tint pos1 = 0;\n",
    "\tint pos2 = 0;\n",
    "\tint pos3 = 0;\n",
    "\tint _length = 0;\n",
    "\n",
    "\twhile((pos1 = str.find_first_of(s, pos1)) != string::npos){\n",
    "\t\tpos2 = pos1;\n",
    "\t\tif(str.find_first_not_of(s, pos2) != -1){\n",
    "\t\t\tif((pos2 = str.find_first_not_of(s, pos2)) != string::npos){\n",
    "\t\t\t\tif(pos2 - pos1 >= _length){\n",
    "\t\t\t\t\t_length = pos2 - pos1;\n",
    "\t\t\t\t\tpos3 = pos1;\n",
    "\t\t\t\t}\n",
    "\t\t\t}\n",
    "\t\t}else{\n",
    "\t\t\tpos2 = pos1;\n",
    "\t\t\twhile((pos2 = str.find_first_of(s, pos2)) != string::npos){\n",
    "\t\t\t\t++pos2;\n",
    "\t\t\t\tif(pos2 - pos1 >= _length){\n",
    "\t\t\t\t\t_length = pos2 - pos1;\n",
    "\t\t\t\t\tpos3 = pos1;\n",
    "\t\t\t\t}\n",
    "\t\t\t}\n",
    "\t\t}\n",
    "\t\t++pos1;\n",
    "\t\t\n",
    "\t}\n",
    "\n",
    "\tstring str2 = str.substr(pos3, _length);\n",
    "\tcout << \"after:\" << str2 << endl;\n",
    "\treturn 0;\n",
    "}"
   ]
  },
  {
   "cell_type": "markdown",
   "metadata": {},
   "source": [
    "### compare函数\n",
    "\n",
    "- s.compare()"
   ]
  },
  {
   "cell_type": "markdown",
   "metadata": {},
   "source": [
    "### 数值转换\n",
    "\n",
    "- 字符与数值之间的转换\n",
    "- to_string()\n",
    "- stod()"
   ]
  },
  {
   "cell_type": "markdown",
   "metadata": {},
   "source": [
    "## 容器适配器\n",
    "\n",
    "- 除了顺序容器外，标准库还定义了三个顺序容器适配器：stack、queue和priority_queue。"
   ]
  },
  {
   "cell_type": "markdown",
   "metadata": {},
   "source": [
    "** 定义一个适配器 **\n",
    "\n",
    "```C++\n",
    "deque<int> deq;\n",
    "stack<int> stk(deq);\n",
    "```\n",
    "\n",
    "- 默认情况下，stack和queue是基于deque实现的，priority_queue是基于vector实现的，但是我们可以以重载默认容器类型\n",
    "\n",
    "```C++\n",
    "stack<string, vector<string>> str_stk;\n",
    "stack<string, vector<string>> str_stk2(svec);\n",
    "```"
   ]
  },
  {
   "cell_type": "code",
   "execution_count": null,
   "metadata": {
    "collapsed": true
   },
   "outputs": [],
   "source": []
  }
 ],
 "metadata": {
  "kernelspec": {
   "display_name": "Python 3",
   "language": "python",
   "name": "python3"
  },
  "language_info": {
   "codemirror_mode": {
    "name": "ipython",
    "version": 3
   },
   "file_extension": ".py",
   "mimetype": "text/x-python",
   "name": "python",
   "nbconvert_exporter": "python",
   "pygments_lexer": "ipython3",
   "version": "3.6.1"
  }
 },
 "nbformat": 4,
 "nbformat_minor": 2
}
