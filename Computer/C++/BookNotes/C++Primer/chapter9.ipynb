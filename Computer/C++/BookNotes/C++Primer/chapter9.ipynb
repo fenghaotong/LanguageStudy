{
 "cells": [
  {
   "cell_type": "markdown",
   "metadata": {},
   "source": [
    "# 第九章顺序容器\n",
    "\n",
    "- [X] 顺序容器概述\n",
    "- [X] 容器库概览\n",
    "- [ ] 顺序容器操作\n",
    "- [ ] vector对象是如何增长的\n",
    "- [ ] 额外的string操作\n",
    "- [ ] 容器适配器"
   ]
  },
  {
   "cell_type": "markdown",
   "metadata": {},
   "source": [
    "- 一个容器就是一些特定类型对象的集合，顺序容器为程序员提供了控制元素存储和访问顺序的能力，这种顺序不依赖与元素的值，而是与元素加入容器时的位置相对应。"
   ]
  },
  {
   "cell_type": "markdown",
   "metadata": {},
   "source": [
    "## 顺序容器概述"
   ]
  },
  {
   "cell_type": "markdown",
   "metadata": {},
   "source": [
    "- 下面是标准库中的顺序容器，所有顺序容器都提供了快速顺序访问元素的能力，但是这些容器在以下方面都有不同的性能折中。\n",
    "    - 向容器添加或从容器中删除元素的代价\n",
    "    - 非顺序访问容器中元素的代价"
   ]
  },
  {
   "cell_type": "markdown",
   "metadata": {},
   "source": [
    "||顺序容器类型|\n",
    "|:----:|:-----|\n",
    "|vector|可变大小数组。支持快速访问，在尾部之外的位置插入或删除元素可能很慢|\n",
    "|deque|双端队列，支持快速访问，在头尾位置插入/删除速度很快|\n",
    "|list|双向链表，只支持双向顺序访问，在list中任何位置进行插入/删除操作的速度很快|\n",
    "|forward_list|单向链表，只支持单向顺序访问，在链表任何位置进行插入/删除操作速度都很快|\n",
    "|array|固定大小数组。支持快速随机访问，不能添加或删除元素|\n",
    "|string|与vector相似的容器，但专门用于保守字符，随机访问快，在尾部插入/删除速度快|"
   ]
  },
  {
   "cell_type": "markdown",
   "metadata": {},
   "source": [
    "** 确定使用哪种顺序容器 **\n",
    "\n",
    "- 通常，使用vector是最好的选择，除非你有很好的理由选择，其他容器"
   ]
  },
  {
   "cell_type": "markdown",
   "metadata": {},
   "source": [
    "## 容器库概览"
   ]
  },
  {
   "cell_type": "markdown",
   "metadata": {},
   "source": [
    "- deque定义在deque头文件中\n",
    "- list定义在list头文件中\n",
    "\n",
    "```C++\n",
    "list<Sales_data>\n",
    "deque<double>\n",
    "```"
   ]
  },
  {
   "cell_type": "markdown",
   "metadata": {},
   "source": [
    "** 对容器可以保存的元素类型的限制 **"
   ]
  },
  {
   "cell_type": "markdown",
   "metadata": {},
   "source": [
    "** 迭代器范围 **"
   ]
  },
  {
   "cell_type": "markdown",
   "metadata": {},
   "source": [
    "- 知识点1：限制如下：迭代器指向同一个容器或者最后一个元素之后的位置,可以反复递增begin直到end\n",
    "- 知识点2：迭代器指向的元素范围是左闭合区间，注意end指向的是最后一个元素之后的位置。"
   ]
  },
  {
   "cell_type": "code",
   "execution_count": 4,
   "metadata": {},
   "outputs": [
    {
     "name": "stdout",
     "output_type": "stream",
     "text": [
      "Overwriting ../../Code/C++PrimerCode/chapter9/4.cpp\n"
     ]
    }
   ],
   "source": [
    "%%writefile ../../Code/C++PrimerCode/chapter9/4.cpp\n",
    "/*\n",
    " * This code is writed by htfeng.\n",
    " *\n",
    " * \"Copyright (c) 2017 by Objectwrite.\"\n",
    " * Date: 2017-09-08\n",
    " * Time: 19:00pm\n",
    " *\n",
    " *  The code is the answer to exercise 4 of the ninth chapter about the book \"C++ Primer, Fifth Edition\".\n",
    " *\n",
    " * If you have any question,please contact me.\n",
    " *\n",
    " * Email:1054708869@qq.com\n",
    "*/\n",
    "\n",
    "#include <iostream>\n",
    "#include <fstream>\n",
    "#include <sstream>\n",
    "#include <string>\n",
    "#include <vector>\n",
    "\n",
    "using namespace::std;\n",
    "\n",
    "int main(int argc,char **argv){\n",
    "\tvector<int> vec(20);\n",
    "\tint find_number = 1;\n",
    "\n",
    "\tfor(int i = 2; i <= 10; ++i){\n",
    "\t\tvec.push_back(i);\n",
    "\t}\n",
    "\n",
    "\tfor(auto a = vec.begin(); a != vec.end(); ++a){\n",
    "\t\tif(*a == find_number){\n",
    "\t\t\tcout << \"we find it\" << endl;\n",
    "\t\t\treturn 0;\n",
    "\t\t}\n",
    "\t}\n",
    "\tcout << \"sorry!no find!\" << endl;\n",
    "\n",
    "\treturn 0;\n",
    "}"
   ]
  },
  {
   "cell_type": "markdown",
   "metadata": {},
   "source": [
    "### 容器类型成员\n",
    "\n",
    "- size_type\n",
    "- iterator\n",
    "- const_iterator"
   ]
  },
  {
   "cell_type": "markdown",
   "metadata": {},
   "source": [
    "### begin和end成员\n",
    "\n",
    "- 这两个迭代器最常见的用途是形成一个包含容器中所有元素的迭代器范围\n",
    "- 带r的版本是反向迭代器\n",
    "- 以c开头的版本则返回const迭代器"
   ]
  },
  {
   "cell_type": "markdown",
   "metadata": {},
   "source": [
    "```C++\n",
    "list<string> a = {\"feng\", \"hao\", \"tong\"};\n",
    "auto it1 = a.begin();    //lsit<string>::iterator\n",
    "auto it2 = a.rbegin();   //list<string>::reverse_iterator\n",
    "auto it3 = a.cbegin();   //list<string>::const_iterator\n",
    "auto it4 = a.crbegin();  //list<string>::const_reverse_iterator\n",
    "```"
   ]
  },
  {
   "cell_type": "markdown",
   "metadata": {},
   "source": [
    "### 容器定义和初始化"
   ]
  },
  {
   "cell_type": "markdown",
   "metadata": {},
   "source": [
    "** 将一个容器初始化为另一个容器的拷贝 **\n",
    "\n",
    "- 直接拷贝整个容器（两个容器的类型和元素类型都必须相同）\n",
    "- 拷贝由一个迭代器对指定的元素范围（不用相同）"
   ]
  },
  {
   "cell_type": "markdown",
   "metadata": {},
   "source": [
    "** 列表初始化 **"
   ]
  },
  {
   "cell_type": "markdown",
   "metadata": {},
   "source": [
    "** 与顺序容器大小相关的构造函数 **\n",
    "\n",
    "- 只有顺序容器的构造函数才接受大小参数，关联容器不支持"
   ]
  },
  {
   "cell_type": "markdown",
   "metadata": {},
   "source": [
    "** 标准库array具有固定大小 **\n",
    "\n",
    "- 与内置数组一样，定义一个array时要指定容器的大小\n",
    "- 内置数组不能进行拷贝，array只要类型相同可以进行拷贝"
   ]
  },
  {
   "cell_type": "markdown",
   "metadata": {},
   "source": [
    "```C++\n",
    "array<int, 10>\n",
    "array<string, 10>\n",
    "\n",
    "array<int 10>::size_type i;\n",
    "array<int>::size_type i; //错误\n",
    "```"
   ]
  },
  {
   "cell_type": "markdown",
   "metadata": {},
   "source": [
    "### 赋值和swap\n",
    "\n",
    "- array不支持assign，也不允许用花括号包围的值列表进行赋值\n",
    "```C++\n",
    "array<int, 10> a1 = {0, 1, 2, 3, 4, 5, 6, 7, 8 9}\n",
    "array<int, 10> a2 = {0}\n",
    "a1 = a2;\n",
    "a2 = {0}; //c错误\n",
    "```"
   ]
  },
  {
   "cell_type": "markdown",
   "metadata": {},
   "source": [
    "** 使用assign（仅顺序容器）(不包括array) **\n",
    "\n",
    "- assign实现了一个vector中的一段char \\*值赋予一个list的string：\n",
    "\n",
    "```C++\n",
    "list<string> names;\n",
    "vector<const char*> oldstyle;\n",
    "\n",
    "names = oldstyle;\n",
    "names.assign(oldstyle.cbegin(), oldstyle.cend());\n",
    "```"
   ]
  },
  {
   "cell_type": "markdown",
   "metadata": {},
   "source": [
    "** 使用swap **"
   ]
  },
  {
   "cell_type": "markdown",
   "metadata": {},
   "source": [
    "- swap操作交换两个相同类型容器的内容，调用swap之后，两个容器中的元素将会交换"
   ]
  },
  {
   "cell_type": "markdown",
   "metadata": {},
   "source": [
    "### 容器大小的操作\n",
    "\n",
    "- size\n",
    "- empty\n",
    "- max_size返回一个大于或等于该类型容器所能容纳的最大元素数的值"
   ]
  },
  {
   "cell_type": "markdown",
   "metadata": {},
   "source": [
    "### 关系元算符\n",
    "\n",
    "- 每个容器类型都支持相等运算符（==和！=）\n",
    "- 除了无序关联容器外的所有容器类型都支持关系运算符（>,>=,<,<=）"
   ]
  },
  {
   "cell_type": "markdown",
   "metadata": {
    "collapsed": true
   },
   "source": [
    "## 顺序容器操作"
   ]
  },
  {
   "cell_type": "markdown",
   "metadata": {},
   "source": [
    "- 顺序容器和关联容器的不同在于两者组织元素的形式\n",
    "- 这些不同之处直接关系到了元素如何存储、访问、添加以及删除"
   ]
  },
  {
   "cell_type": "markdown",
   "metadata": {},
   "source": [
    "### 向顺序容器中添加元素\n",
    "\n",
    "- push_back()\n",
    "- push_front()\n",
    "- emplace()\n",
    "- insert()"
   ]
  },
  {
   "cell_type": "markdown",
   "metadata": {},
   "source": [
    "** 使用push_back **"
   ]
  },
  {
   "cell_type": "markdown",
   "metadata": {},
   "source": [
    "- 除了forward_list和array之外，每个顺序容器都支持push_back（追加到尾部）\n",
    "- list、deque、vector\n",
    "- 也可以用push_back在string末尾追加字符"
   ]
  },
  {
   "cell_type": "markdown",
   "metadata": {},
   "source": [
    "** 使用push_front **\n",
    "\n",
    "- list、deque、forward_list\n",
    "- 将元素插入到容器头部"
   ]
  },
  {
   "cell_type": "markdown",
   "metadata": {},
   "source": [
    "```C++\n",
    "list<int> ilist;\n",
    "for(size_t ix = 0; ix != 4; ++i）\n",
    "    ilist.push_front(ix);\n",
    "```"
   ]
  },
  {
   "cell_type": "markdown",
   "metadata": {},
   "source": [
    "** 在容器的特定位置添加元素 **\n",
    "\n",
    "- insert\n",
    "- vector、list、deque、string都支持insert成员\n",
    "- forward_list提供了特殊的insert成员\n",
    "- 插入到指定位置之前"
   ]
  },
  {
   "cell_type": "markdown",
   "metadata": {},
   "source": [
    "```C++\n",
    "vector<int> svec;\n",
    "list<int> slist;\n",
    "\n",
    "slist.insert(slist.begin(), \"hello\"); //相当于push_front(\"hello\")\n",
    "\n",
    "svec.insert(svec.begin(), \"hello\"); //vector不支持push_front，可以使用插入开始之前那个位置代替\n",
    "```"
   ]
  },
  {
   "cell_type": "markdown",
   "metadata": {},
   "source": [
    "** 插入范围内元素 **\n",
    "\n",
    "- insert(arg1, arg2, arg2)\n",
    "- arg1表示插入容器位置之前的那个位置\n",
    "- arg2表示插入的元素起始\n",
    "- arg3表示插入的元素结尾"
   ]
  },
  {
   "cell_type": "markdown",
   "metadata": {},
   "source": [
    "** 使用insert的返回值 **"
   ]
  },
  {
   "cell_type": "markdown",
   "metadata": {},
   "source": [
    "** 使用emplace操作 **\n",
    "\n",
    "- emplace_front\n",
    "- emplace\n",
    "- empalce_back\n",
    "- 调用empalce函数时，是将参数传递给元素类型的构造函数"
   ]
  },
  {
   "cell_type": "markdown",
   "metadata": {},
   "source": [
    "- 假设c保存Sales_data元素\n",
    "\n",
    "```C++\n",
    "vector<Sales_data> c;\n",
    "\n",
    "c.emplace_back(\"978-899090\", 25, 19.9);\n",
    "c.push_back(\"978-899090\", 25, 19.9);  //错误，push_back不能接受三个参数\n",
    "c.push_back(Sales_data(\"978-899090\", 25, 19.9));// 正确\n",
    "```"
   ]
  },
  {
   "cell_type": "code",
   "execution_count": 2,
   "metadata": {},
   "outputs": [
    {
     "name": "stdout",
     "output_type": "stream",
     "text": [
      "Overwriting ../../Code/C++PrimerCode/chapter9/18.cpp\n"
     ]
    }
   ],
   "source": [
    "%%writefile ../../Code/C++PrimerCode/chapter9/18.cpp\n",
    "/*\n",
    " * This code is writed by htfeng.\n",
    " *\n",
    " * \"Copyright (c) 2017 by Objectwrite.\"\n",
    " * Date: 2017-09-09\n",
    " * Time: 16:40pm\n",
    " *\n",
    " *  The code is the answer to exercise 18 of the ninth chapter about the book \"C++ Primer, Fifth Edition\".\n",
    " *\n",
    " * If you have any question,please contact me.\n",
    " *\n",
    " * Email:1054708869@qq.com\n",
    "*/\n",
    "#include <iostream>\n",
    "#include <deque>\n",
    "#include <string>\n",
    "\n",
    "using namespace::std;\n",
    "\n",
    "int main(int argc, char **argv){\n",
    "\tstring buf;\n",
    "\tdeque<string> sdeque;\n",
    "\twhile(cin >> buf && buf != \"0\"){\n",
    "\t\tsdeque.push_back(buf);\n",
    "\t}\n",
    "\n",
    "\tdeque<string>::iterator de = sdeque.begin();\n",
    "\n",
    "\tfor(de; de != sdeque.end(); ++de){\n",
    "\t\tcout << *de << endl;\n",
    "\t}\n",
    "\treturn 0;\n",
    "}"
   ]
  },
  {
   "cell_type": "code",
   "execution_count": 4,
   "metadata": {},
   "outputs": [
    {
     "name": "stdout",
     "output_type": "stream",
     "text": [
      "Overwriting ../../Code/C++PrimerCode/chapter9/20.cpp\n"
     ]
    }
   ],
   "source": [
    "%%writefile ../../Code/C++PrimerCode/chapter9/20.cpp\n",
    "/*\n",
    " * This code is writed by htfeng.\n",
    " *\n",
    " * \"Copyright (c) 2017 by Objectwrite.\"\n",
    " * Date: 2017-09-09\n",
    " * Time: 16:50pm\n",
    " *\n",
    " *  The code is the answer to exercise 20 of the ninth chapter about the book \"C++ Primer, Fifth Edition\".\n",
    " *\n",
    " * If you have any question,please contact me.\n",
    " *\n",
    " * Email:1054708869@qq.com\n",
    "*/\n",
    "#include <iostream>\n",
    "#include <deque>\n",
    "#include <string>\n",
    "#include <list>\n",
    "\n",
    "using namespace std;\n",
    "\n",
    "int main(int argc,char **argv){\n",
    "\tlist<int> ilist = {1,2,3,4,5,6,7,8,9};\n",
    "\tdeque<int> ideque1;\n",
    "\tdeque<int> ideque2;\n",
    "\n",
    "\tfor(auto iter = ilist.begin(); iter != ilist.end(); ++iter){\n",
    "\t\tif(*iter % 2 == 0)\n",
    "\t\t\tideque1.push_back(*iter);\n",
    "\t\telse\n",
    "\t\t\tideque2.push_back(*iter);\n",
    "\t}\n",
    "    \n",
    "    cout << \"oushu:\";\n",
    "\n",
    "    for(auto deq1 = ideque1.begin(); deq1 != ideque1.end(); ++deq1){\n",
    "    \tcout << *deq1 << \" \";\n",
    "    }\n",
    "    cout << endl;\n",
    "    cout << \"jishu:\";\n",
    "    for(auto deq2 = ideque2.begin(); deq2 != ideque2.end(); ++deq2){\n",
    "    \tcout << *deq2 << \" \";\n",
    "    }\n",
    "    cout << endl;\n",
    "\treturn 0;\n",
    "}"
   ]
  },
  {
   "cell_type": "markdown",
   "metadata": {},
   "source": [
    "### 访问元素"
   ]
  },
  {
   "cell_type": "markdown",
   "metadata": {},
   "source": [
    "- at和下表操作只适用于string、vector、deque和array\n",
    "- back不适用于forward_list"
   ]
  },
  {
   "cell_type": "markdown",
   "metadata": {},
   "source": [
    "** 返回成员函数返回的是引用 **"
   ]
  },
  {
   "cell_type": "markdown",
   "metadata": {},
   "source": [
    "```C++\n",
    "if(!c.empty()) {\n",
    "    c.front() = 42;\n",
    "    auto &v = c.back();  //指向最后一个元素的引用\n",
    "    v = 1024;             //改变c的值\n",
    "    auto v2 = c.back();  //v2不是引用，是c.back()的拷贝\n",
    "    v2 = 2;     //\n",
    "}\n",
    "```"
   ]
  },
  {
   "cell_type": "markdown",
   "metadata": {},
   "source": [
    "** 下表操作和安全的随机访问 **"
   ]
  },
  {
   "cell_type": "markdown",
   "metadata": {},
   "source": [
    "```C++\n",
    "vector<string> vec;\n",
    "cout << vec[0];    //出错\n",
    "cout << vec.at(0);  //抛出一个out_of_range的异常\n",
    "```"
   ]
  },
  {
   "cell_type": "markdown",
   "metadata": {},
   "source": [
    "### 删除元素"
   ]
  },
  {
   "cell_type": "markdown",
   "metadata": {},
   "source": [
    "- 这些操作会改变容器大小，不适应与array\n",
    "- forward_list有特殊版本的erase\n",
    "- forward_list不支持pop_back;vector和string不支持pop_front"
   ]
  },
  {
   "cell_type": "markdown",
   "metadata": {},
   "source": [
    "** pop_front和pop_back成员函数 **"
   ]
  },
  {
   "cell_type": "markdown",
   "metadata": {},
   "source": [
    "- 分别删除首元素和尾元素\n",
    "\n",
    "```C++\n",
    "while(!ilsit.empty()){\n",
    "    process(ilist.front());  //对ilist的首元素进行一些处理\n",
    "    ilist.pop_front();   //完成处理后删除首元素\n",
    "}\n",
    "```"
   ]
  },
  {
   "cell_type": "markdown",
   "metadata": {},
   "source": [
    "** 从容器内部删除一个元素 **"
   ]
  },
  {
   "cell_type": "markdown",
   "metadata": {},
   "source": [
    "- 成员函数erase从容器中指定位置删除元素\n",
    "- erase(i)返回指向i之后的元素"
   ]
  },
  {
   "cell_type": "markdown",
   "metadata": {},
   "source": [
    "```C++\n",
    "list<int> lst = {1,2,3,4,5,6,7,8,9,0};\n",
    "auto it = lst.begin();\n",
    "while(it != lst.end())\n",
    "    if(*it % 2)\n",
    "        it = lst.erase(it);\n",
    "    else\n",
    "        ++it;\n",
    "```"
   ]
  },
  {
   "cell_type": "markdown",
   "metadata": {},
   "source": [
    "** 删除对各元素 **"
   ]
  },
  {
   "cell_type": "markdown",
   "metadata": {},
   "source": [
    "```C++\n",
    "slist.clear();\n",
    "slist.erase(slist.begin(), slist.end());\n",
    "```"
   ]
  },
  {
   "cell_type": "code",
   "execution_count": 6,
   "metadata": {},
   "outputs": [
    {
     "name": "stdout",
     "output_type": "stream",
     "text": [
      "Overwriting ../../Code/C++PrimerCode/chapter9/26.cpp\n"
     ]
    }
   ],
   "source": [
    "%%writefile ../../Code/C++PrimerCode/chapter9/26.cpp\n",
    "/*\n",
    " * This code is writed by htfeng.\n",
    " *\n",
    " * \"Copyright (c) 2017 by Objectwrite.\"\n",
    " * Date: 2017-09-09\n",
    " * Time: 20:30pm\n",
    " *\n",
    " *  The code is the answer to exercise 26 of the ninth chapter about the book \"C++ Primer, Fifth Edition\".\n",
    " *\n",
    " * If you have any question,please contact me.\n",
    " *\n",
    " * Email:1054708869@qq.com\n",
    "*/\n",
    "#include <iostream>  \n",
    "#include <fstream>  \n",
    "#include <sstream>  \n",
    "#include <string>  \n",
    "#include <vector>  \n",
    "#include <list>  \n",
    "using namespace std;  \n",
    "  \n",
    "int main(int argc, char**argv)  \n",
    "{  \n",
    "    int ia[] ={0,1,1,2,3,5,8,13,21,55,89};  \n",
    "      \n",
    "    vector<int> vec1(ia,ia+9);//拷贝操作  \n",
    "    list<int> list1(ia,ia+9);  \n",
    "  \n",
    "    vector<int>::iterator it1 = vec1.begin();//使用迭代器  \n",
    "    list<int>::iterator it2 = list1.begin();  \n",
    "  \n",
    "    while (it1 != vec1.end())//删除操作  \n",
    "    {  \n",
    "        if ((*it1)%2 == 0)  \n",
    "        {  \n",
    "            it1 = vec1.erase(it1);//将删除位置更新  \n",
    "        }  \n",
    "        else//若判断非偶数，则移到下一位置  \n",
    "        {  \n",
    "            ++it1;  \n",
    "        }  \n",
    "    }  \n",
    "  \n",
    "    while (it2 != list1.end())  \n",
    "    {  \n",
    "        if (*it2%2 != 0)  \n",
    "        {  \n",
    "            it2 = list1.erase(it2);//将删除位置更新  \n",
    "        }  \n",
    "        else//若判断非偶数，则移到下一位置  \n",
    "        {  \n",
    "            ++it2;  \n",
    "        }  \n",
    "    }  \n",
    "      \n",
    "    //验证结果  \n",
    "    vector<int>::iterator it3 = vec1.begin();//需要重新定义临时迭代器  \n",
    "    list<int>::iterator it4 = list1.begin();  \n",
    "    for (it3;it3 != vec1.end(); ++it3)  \n",
    "    {  \n",
    "        cout<<*it3<<\" \";  \n",
    "    }  \n",
    "    cout<<endl;  \n",
    "    for (it4;it4 != list1.end(); ++it4)  \n",
    "    {  \n",
    "        cout<<*it4<<\" \";  \n",
    "    }  \n",
    "      \n",
    "    return 0;  \n",
    "}  "
   ]
  },
  {
   "cell_type": "markdown",
   "metadata": {},
   "source": [
    "### 特殊的forward_list操作\n",
    "\n",
    "- 前驱和后继\n",
    "- lst.before_begin()\n",
    "- lst.cbefore_begin()\n",
    "- lst.insert_after(p, t)\n",
    "- lst.insert_after(p, n, t)\n",
    "- lst.insert_after(p, b, e)\n",
    "- lst.insert_after(p, il)\n",
    "- emplace(p, args)\n",
    "- lst.erase(p)\n",
    "- lst.erase(b, e)"
   ]
  },
  {
   "cell_type": "markdown",
   "metadata": {},
   "source": [
    "```C++\n",
    "forward_list<int> flst = {1,2,3,4,5,6,7,8,9,0};\n",
    "auto prev = flst.before_begin();\n",
    "auto curr = flst.begin();\n",
    "while(curr != flst.enf()){\n",
    "    if(!curr % 2)\n",
    "        curr = flst.erase_after(prev);\n",
    "    else\n",
    "        prev = curr;\n",
    "        ++curr;\n",
    "}\n",
    "```"
   ]
  },
  {
   "cell_type": "code",
   "execution_count": 9,
   "metadata": {},
   "outputs": [
    {
     "name": "stdout",
     "output_type": "stream",
     "text": [
      "Overwriting ../../Code/C++PrimerCode/chapter9/27.cpp\n"
     ]
    }
   ],
   "source": [
    "%%writefile ../../Code/C++PrimerCode/chapter9/27.cpp\n",
    "/*\n",
    " * This code is writed by htfeng.\n",
    " *\n",
    " * \"Copyright (c) 2017 by Objectwrite.\"\n",
    " * Date: 2017-09-09\n",
    " * Time: 21:00pm\n",
    " *\n",
    " *  The code is the answer to exercise 27 of the ninth chapter about the book \"C++ Primer, Fifth Edition\".\n",
    " *\n",
    " * If you have any question,please contact me.\n",
    " *\n",
    " * Email:1054708869@qq.com\n",
    "*/\n",
    "#include <iostream>\n",
    "#include <deque>\n",
    "#include <string>\n",
    "#include <list>\n",
    "#include <forward_list>\n",
    "\n",
    "using namespace std;\n",
    "\n",
    "int main(int argc,char **argv){\n",
    "\tforward_list<int> flst = {1,2,3,4,5,6,7,8,9,0};\n",
    "\tauto prev = flst.before_begin();\n",
    "\tauto curr = flst.begin();\n",
    "\twhile(curr != flst.end()){\n",
    "\t    if(*curr % 2)\n",
    "\t        curr = flst.erase_after(prev);\n",
    "\t    else{\n",
    "\t    \tprev = curr;\n",
    "\t        ++curr;\n",
    "\t    }       \n",
    "\t}\n",
    "    \n",
    "    cout << \"oushu:\";\n",
    "\n",
    "    for(auto deq1 = flst.begin(); deq1 != flst.end(); ++deq1){\n",
    "    \tcout << *deq1 << \" \";\n",
    "    }\n",
    "\n",
    "    cout << endl;\n",
    "\treturn 0;\n",
    "}"
   ]
  },
  {
   "cell_type": "code",
   "execution_count": 12,
   "metadata": {},
   "outputs": [
    {
     "name": "stdout",
     "output_type": "stream",
     "text": [
      "Overwriting ../../Code/C++PrimerCode/chapter9/28.cpp\n"
     ]
    }
   ],
   "source": [
    "%%writefile ../../Code/C++PrimerCode/chapter9/28.cpp\n",
    "/*\n",
    " * This code is writed by htfeng.\n",
    " *\n",
    " * \"Copyright (c) 2017 by Objectwrite.\"\n",
    " * Date: 2017-09-09\n",
    " * Time: 21:00pm\n",
    " *\n",
    " *  The code is the answer to exercise 28 of the ninth chapter about the book \"C++ Primer, Fifth Edition\".\n",
    " *\n",
    " * If you have any question,please contact me.\n",
    " *\n",
    " * Email:1054708869@qq.com\n",
    "*/\n",
    "#include <iostream>\n",
    "#include <deque>\n",
    "#include <string>\n",
    "#include <list>\n",
    "#include <forward_list>\n",
    "\n",
    "using namespace std;\n",
    "\n",
    "void finsert(forward_list<string> &flst, string s1, string s2){\n",
    "\tforward_list<string>::iterator it1 = flst.before_begin();  \n",
    "    forward_list<string>::iterator it2 = flst.begin();  \n",
    "  \n",
    "    bool flag = false;   \n",
    "    for (it2; it2 != flst.end(); it1 = it2++)  \n",
    "    {  \n",
    "        if (*it2 == s1)  \n",
    "        {  \n",
    "            flst.insert_after(it2,s2);  \n",
    "            flag = true;  \n",
    "        }  \n",
    "    }  \n",
    "    if (!flag)  \n",
    "    {  \n",
    "        flst.insert_after(it1,s2);  \n",
    "    }  \n",
    "}\n",
    "\n",
    "int main(int argc, char**argv){  \n",
    "    forward_list<string> list1(4,\"sadi\");  \n",
    "    string a = \"sad5\";  \n",
    "    string b = \"sad\";  \n",
    "  \n",
    "    finsert(list1,a,b);  \n",
    "  \n",
    "    forward_list<string>::iterator it1 = list1.begin();  \n",
    "    for (it1; it1!=list1.end();++it1)  \n",
    "    {  \n",
    "        cout<<*it1<<\" \";  \n",
    "    }  \n",
    "    return 0;  \n",
    "}  "
   ]
  },
  {
   "cell_type": "markdown",
   "metadata": {},
   "source": [
    "### 改变容器的大小\n",
    "\n",
    "- resize()"
   ]
  },
  {
   "cell_type": "markdown",
   "metadata": {},
   "source": [
    "```C++\n",
    "list<int> ilist(10, 42);\n",
    "ilist.resize(15);    //将5个值为0的元素加到末尾\n",
    "ilist.resize(25, -1); // 将10个值为-1的元素添加到ilsit末尾\n",
    "ilsit.resize(5);      //从ilsit末尾删除20个元素\n",
    "```"
   ]
  },
  {
   "cell_type": "markdown",
   "metadata": {},
   "source": [
    "### 容器操作可能使迭代器失效"
   ]
  },
  {
   "cell_type": "markdown",
   "metadata": {},
   "source": [
    "** 编写改变容器的循环程序 **"
   ]
  },
  {
   "cell_type": "markdown",
   "metadata": {},
   "source": [
    "- 在添加删除容器时，必须时刻更新容器避免迭代器失效"
   ]
  },
  {
   "cell_type": "markdown",
   "metadata": {},
   "source": [
    "** 不要保存end返回的迭代器 **\n",
    "\n",
    "- 如下\n",
    "\n",
    "```C++\n",
    "auto begin = v.begin(), end = v.end();  //不要这么做\n",
    "while（begin != end){\n",
    "    ++begin;\n",
    "    begin = v.insert(begin, 42);\n",
    "    ++begin;\n",
    "}\n",
    "\n",
    "while(begin != v.end()){     //这么做是对的，每个循环添加/删除元素后都重新计算end\n",
    "    ++begin;\n",
    "    begin = v.insert(begin, 42);\n",
    "    ++begin;\n",
    "}\n",
    "\n",
    "```"
   ]
  },
  {
   "cell_type": "code",
   "execution_count": null,
   "metadata": {
    "collapsed": true
   },
   "outputs": [],
   "source": []
  }
 ],
 "metadata": {
  "kernelspec": {
   "display_name": "Python 3",
   "language": "python",
   "name": "python3"
  },
  "language_info": {
   "codemirror_mode": {
    "name": "ipython",
    "version": 3
   },
   "file_extension": ".py",
   "mimetype": "text/x-python",
   "name": "python",
   "nbconvert_exporter": "python",
   "pygments_lexer": "ipython3",
   "version": "3.6.1"
  }
 },
 "nbformat": 4,
 "nbformat_minor": 2
}
