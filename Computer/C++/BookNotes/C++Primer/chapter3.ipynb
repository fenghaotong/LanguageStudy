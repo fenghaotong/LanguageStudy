{
 "cells": [
  {
   "cell_type": "markdown",
   "metadata": {},
   "source": [
    "# chapter3字符串、向量和数组\n",
    "\n",
    "- [X] 命名空间的using声明\n",
    "- [X] 标准库类型string\n",
    "- [X] 标准库类型vector\n",
    "- [X] 迭代器\n",
    "- [X] 数组\n",
    "- [X] 多维数组"
   ]
  },
  {
   "cell_type": "markdown",
   "metadata": {
    "collapsed": true
   },
   "source": [
    "## 命名空间的using声明"
   ]
  },
  {
   "cell_type": "markdown",
   "metadata": {},
   "source": [
    "using声明的形式：\n",
    "\n",
    "```C++\n",
    "using namespace::name\n",
    "```"
   ]
  },
  {
   "cell_type": "markdown",
   "metadata": {},
   "source": [
    "## 标准库类型string\n",
    "\n",
    "```C++\n",
    "#include<string>\n",
    "using std::string\n",
    "```"
   ]
  },
  {
   "cell_type": "markdown",
   "metadata": {},
   "source": [
    "### 定义和初始化string对象 "
   ]
  },
  {
   "cell_type": "markdown",
   "metadata": {},
   "source": [
    "初始化string对象的方式  \n",
    "\n",
    "|||  \n",
    "|:----:|:------|     \n",
    "|string s1|默认初始化，s1是一个空串|\n",
    "|string s2(s1)|s2是s1的副本|\n",
    "|string s2 = s1|等价于s2（s1），s2是s1的副本|\n",
    "|string s3(\"value\")|s3是字面值“value”的副本，除了字面值最后的那个空字符外|\n",
    "|string s3 = \"value\"|等价于s3（\"value\"），s3是字面值\"value\"的副本|\n",
    "|string s4(n,'c')|把s4的初始化为由连续n和字符c组成的串|"
   ]
  },
  {
   "cell_type": "markdown",
   "metadata": {},
   "source": [
    "** 直接初始化和拷贝初始化 **\n",
    "\n",
    "- 使用等号初始化一个变量：拷贝初始化\n",
    "- 不使用等号初始化：直接初始化"
   ]
  },
  {
   "cell_type": "markdown",
   "metadata": {},
   "source": [
    "### string对象上的操作 "
   ]
  },
  {
   "cell_type": "markdown",
   "metadata": {},
   "source": [
    "** 读写string对象 **\n",
    "\n",
    "- string对象会自动忽略开头的空白（即空格符、换行符、制表符等）并从第一个真正的字符开始读起，直到遇到下一处空白为止"
   ]
  },
  {
   "cell_type": "markdown",
   "metadata": {},
   "source": [
    "** 读取未知数量的string对象 **"
   ]
  },
  {
   "cell_type": "markdown",
   "metadata": {},
   "source": [
    "** 使用getline读取一整行 **\n",
    "\n",
    "- getling函数的参数是一个输入流和一个string对象"
   ]
  },
  {
   "cell_type": "code",
   "execution_count": 3,
   "metadata": {
    "collapsed": false
   },
   "outputs": [
    {
     "name": "stdout",
     "output_type": "stream",
     "text": [
      "Overwriting ../../Code/C++PrimerCode/chapter3/getline.cpp\n"
     ]
    }
   ],
   "source": [
    "%%writefile ../../Code/C++PrimerCode/chapter3/getline.cpp\n",
    "\n",
    "\n",
    "#include<iostream>\n",
    "#include<string>\n",
    "using namespace::std;\n",
    "\n",
    "int main(){\n",
    "    string line;\n",
    "    \n",
    "    while(getline(cin, line))\n",
    "        cout << line << endl;\n",
    "    \n",
    "    return 0;\n",
    "}"
   ]
  },
  {
   "cell_type": "markdown",
   "metadata": {},
   "source": [
    "** string的empty和size操作 **\n",
    "\n",
    "- empty函数根据string对象是否为空返回一个对应的布尔值"
   ]
  },
  {
   "cell_type": "code",
   "execution_count": 4,
   "metadata": {
    "collapsed": false
   },
   "outputs": [
    {
     "name": "stdout",
     "output_type": "stream",
     "text": [
      "Overwriting ../../Code/C++PrimerCode/chapter3/getline.cpp\n"
     ]
    }
   ],
   "source": [
    "%%writefile ../../Code/C++PrimerCode/chapter3/getline.cpp\n",
    "\n",
    "\n",
    "#include<iostream>\n",
    "#include<string>\n",
    "using namespace::std;\n",
    "\n",
    "int main(){\n",
    "    string line;\n",
    "    \n",
    "    while(getline(cin, line))\n",
    "        if(!line.empty())\n",
    "            cout << line << endl;\n",
    "    \n",
    "    return 0;\n",
    "}"
   ]
  },
  {
   "cell_type": "markdown",
   "metadata": {},
   "source": [
    "- size函数返回string对象的长度"
   ]
  },
  {
   "cell_type": "code",
   "execution_count": 5,
   "metadata": {
    "collapsed": false
   },
   "outputs": [
    {
     "name": "stdout",
     "output_type": "stream",
     "text": [
      "Overwriting ../../Code/C++PrimerCode/chapter3/getline.cpp\n"
     ]
    }
   ],
   "source": [
    "%%writefile ../../Code/C++PrimerCode/chapter3/getline.cpp\n",
    "\n",
    "\n",
    "#include<iostream>\n",
    "#include<string>\n",
    "using namespace::std;\n",
    "\n",
    "int main(){\n",
    "    string line;\n",
    "    \n",
    "    while(getline(cin, line))\n",
    "        if(line.size() > 80)\n",
    "            cout << line << endl;\n",
    "    \n",
    "    return 0;\n",
    "}"
   ]
  },
  {
   "cell_type": "markdown",
   "metadata": {},
   "source": [
    "** string::size_type **"
   ]
  },
  {
   "cell_type": "code",
   "execution_count": 7,
   "metadata": {
    "collapsed": false
   },
   "outputs": [
    {
     "name": "stdout",
     "output_type": "stream",
     "text": [
      "Overwriting ../../Code/C++PrimerCode/chapter3/size_type.cpp\n"
     ]
    }
   ],
   "source": [
    "%%writefile ../../Code/C++PrimerCode/chapter3/size_type.cpp\n",
    "\n",
    "#include <string>\n",
    "using std::string;\n",
    "\n",
    "#include <cctype>\n",
    "using std::isupper; using std::toupper;\n",
    "using std::islower; using std::tolower;\n",
    "using std::isalpha; using std::isspace;\n",
    "\n",
    "#include <iostream>\n",
    "using std::cout; using std::endl;\n",
    "\n",
    "void main()\n",
    "{\n",
    "\tstring s(\"Hello World!!!\");\n",
    "\t// punct_cnt has the same type that s.size returns\n",
    "\tdecltype(s.size()) punct_cnt = 0;\n",
    "\t// count the number of punctuation characters in s\n",
    "\tfor (auto c : s)         // for every char in s\n",
    "\tif (ispunct(c))      // if the character is punctuation\n",
    "\t\t++punct_cnt;     // increment the punctuation counter\n",
    "\n",
    "\tcout << punct_cnt\n",
    "\t\t<< \" punctuation characters in \" << s << endl;\n",
    "\n",
    "\t// convert s to uppercase\n",
    "\tstring orig = s;\n",
    "\tfor (auto &c : s)   // for every char in s (note: c is a reference)\n",
    "\t\t// c is a reference, so this assignment changes the char in s\n",
    "\t\tc = toupper(c);\n",
    "\tcout << s << endl;\n",
    "\n",
    "\t// convert first word in s to uppercase\n",
    "\ts = orig;  // restore s to original case\n",
    "\tdecltype(s.size()) index = 0;\n",
    "\n",
    "\t// process characters in s until we run out of characters \n",
    "\t// or we hit a whitespace\n",
    "\twhile (index != s.size() && !isspace(s[index])) {\n",
    "\n",
    "\t\t// s[index] returns a reference so we can change \n",
    "\t\t// the underlying character\n",
    "\t\ts[index] = toupper(s[index]);\n",
    "\n",
    "\t\t// increment the index to look at the next character \n",
    "\t\t// on the next iteration\n",
    "\t\t++index;\n",
    "\t}\n",
    "\tcout << s << endl;\n",
    "}"
   ]
  },
  {
   "cell_type": "markdown",
   "metadata": {},
   "source": [
    "** 比较string对象 **\n",
    "\n",
    "- 相同比长短，不同比ASCLL值"
   ]
  },
  {
   "cell_type": "markdown",
   "metadata": {
    "collapsed": true
   },
   "source": [
    "** 为string对象赋值 **\n",
    "\n"
   ]
  },
  {
   "cell_type": "markdown",
   "metadata": {},
   "source": [
    "** 两个string相加 **\n",
    "\n",
    "- 字面值（“hello”）不能和字面值直接相加，可以和string对象相加（s2 = “hello”）"
   ]
  },
  {
   "cell_type": "code",
   "execution_count": 1,
   "metadata": {
    "collapsed": false
   },
   "outputs": [
    {
     "name": "stdout",
     "output_type": "stream",
     "text": [
      "Writing ../../Code/C++PrimerCode/chapter3/strcompare.cpp\n"
     ]
    }
   ],
   "source": [
    "%%writefile ../../Code/C++PrimerCode/chapter3/strcompare.cpp\n",
    "\n",
    "#include <string>\n",
    "using std::string;\n",
    "\n",
    "#include <iostream>\n",
    "using std::cout; using std::endl;\n",
    "\n",
    "int main()\n",
    "{\n",
    "    string str = \"Hello\";\n",
    "    string phrase = \"Hello World\";\n",
    "    string slang  = \"Hiya\";\n",
    "\n",
    "    if (str < phrase) cout << \"str is smaller\" << endl;\n",
    "    if (slang > str) cout << \"slang is greater\" << endl;\n",
    "    if (slang > phrase) cout << \"slang is greater\" << endl;\n",
    "\n",
    "    return 0;\n",
    "}"
   ]
  },
  {
   "cell_type": "markdown",
   "metadata": {},
   "source": [
    "### 处理string对象中的字符\n",
    "\n",
    "- cctype头文件"
   ]
  },
  {
   "cell_type": "markdown",
   "metadata": {},
   "source": [
    "** 处理每个字符？使用基于范围的for语句 **\n"
   ]
  },
  {
   "cell_type": "markdown",
   "metadata": {},
   "source": [
    "\n",
    "格式如下\n",
    "```C++\n",
    "for(declaration:expression)\n",
    "    statement\n",
    "```\n",
    "\n",
    "> expression部分是一个对象，用于表示一个序列     \n",
    "> declaration部分负责定义一个变量，该变量用于访问序列中的基础元素    \n",
    "> 每次迭代，declaration部分的变量会被初始化为expression部分的下一个元素值"
   ]
  },
  {
   "cell_type": "code",
   "execution_count": 2,
   "metadata": {
    "collapsed": false
   },
   "outputs": [
    {
     "name": "stdout",
     "output_type": "stream",
     "text": [
      "Writing ../../Code/C++PrimerCode/chapter3/cctype.cpp\n"
     ]
    }
   ],
   "source": [
    "%%writefile ../../Code/C++PrimerCode/chapter3/cctype.cpp\n",
    "\n",
    "#include<iostream>\n",
    "#include<string>\n",
    "using namespace::std;\n",
    "\n",
    "int main(){\n",
    "    string str(\"some string\");\n",
    "    \n",
    "    for(auto c : str)\n",
    "        cout << c <<endl;\n",
    "}"
   ]
  },
  {
   "cell_type": "code",
   "execution_count": 3,
   "metadata": {
    "collapsed": false
   },
   "outputs": [
    {
     "name": "stdout",
     "output_type": "stream",
     "text": [
      "Overwriting ../../Code/C++PrimerCode/chapter3/cctype.cpp\n"
     ]
    }
   ],
   "source": [
    "%%writefile ../../Code/C++PrimerCode/chapter3/cctype.cpp\n",
    "\n",
    "#include<iostream>\n",
    "#include<string>\n",
    "using namespace::std;\n",
    "\n",
    "int main(){\n",
    "    string s(\"hello world!!!\");\n",
    "    decltype(s.size()) punct_cnt = 0;\n",
    "    \n",
    "    for (auto c : s)\n",
    "        if(ispunct(c))  //ispunct(c)当c为标点符号是为真\n",
    "            ++punct_cnt;\n",
    "    \n",
    "    cout << punct_cnt\n",
    "         << \" punctuation characters in \" << s <<endl;\n",
    "    \n",
    "    return 0;\n",
    "}"
   ]
  },
  {
   "cell_type": "markdown",
   "metadata": {},
   "source": [
    "** 使用范围for语句改变字符串中的字符 **\n",
    "\n",
    "- 使用引用，改变他绑定的字符"
   ]
  },
  {
   "cell_type": "code",
   "execution_count": 4,
   "metadata": {
    "collapsed": false
   },
   "outputs": [
    {
     "name": "stdout",
     "output_type": "stream",
     "text": [
      "Overwriting ../../Code/C++PrimerCode/chapter3/cctype.cpp\n"
     ]
    }
   ],
   "source": [
    "%%writefile ../../Code/C++PrimerCode/chapter3/cctype.cpp\n",
    "\n",
    "#include<iostream>\n",
    "#include<string>\n",
    "using namespace::std;\n",
    "\n",
    "int main(){\n",
    "    string s(\"hello world!!!\");\n",
    "    \n",
    "    for(auto &c : s)\n",
    "        c = toupper(c);\n",
    "    \n",
    "    cout << s << endl;\n",
    "    \n",
    "    return 0;\n",
    "}"
   ]
  },
  {
   "cell_type": "markdown",
   "metadata": {},
   "source": [
    "** 只处理一部分字符 **\n",
    "\n",
    "- 使用下标（下标接收的输入参数是`string::size_type`类型的值）\n",
    "- 使用迭代器"
   ]
  },
  {
   "cell_type": "code",
   "execution_count": 5,
   "metadata": {
    "collapsed": false
   },
   "outputs": [
    {
     "name": "stdout",
     "output_type": "stream",
     "text": [
      "Writing ../../Code/C++PrimerCode/chapter3/strindex.cpp\n"
     ]
    }
   ],
   "source": [
    "%%writefile ../../Code/C++PrimerCode/chapter3/strindex.cpp\n",
    "\n",
    "#include<iostream>\n",
    "#include<string>\n",
    "using namespace::std;\n",
    "\n",
    "int main(){\n",
    "    string s(\"hello world!!!\");\n",
    "    \n",
    "    if(!s.empty())\n",
    "        s[0] = toupper(s[0]);\n",
    "    \n",
    "    cout << s << endl;\n",
    "    \n",
    "    return 0;\n",
    "}"
   ]
  },
  {
   "cell_type": "code",
   "execution_count": 6,
   "metadata": {
    "collapsed": false
   },
   "outputs": [
    {
     "name": "stdout",
     "output_type": "stream",
     "text": [
      "Overwriting ../../Code/C++PrimerCode/chapter3/strindex.cpp\n"
     ]
    }
   ],
   "source": [
    "%%writefile ../../Code/C++PrimerCode/chapter3/strindex.cpp\n",
    "\n",
    "#include<iostream>\n",
    "#include<string>\n",
    "using namespace::std;\n",
    "\n",
    "int main(){\n",
    "    string s(\"hello world!!!\");\n",
    "    \n",
    "    for(decltype(s.size()) index = 0; index != s.size() && !isspace(s[index]); ++index)\n",
    "        s[index] = toupper(s[index]);\n",
    "    \n",
    "    cout << s << endl;\n",
    "    \n",
    "    return 0;\n",
    "}"
   ]
  },
  {
   "cell_type": "markdown",
   "metadata": {},
   "source": [
    "** 使用下标执行随机访问 **"
   ]
  },
  {
   "cell_type": "code",
   "execution_count": 7,
   "metadata": {
    "collapsed": false,
    "scrolled": true
   },
   "outputs": [
    {
     "name": "stdout",
     "output_type": "stream",
     "text": [
      "Writing ../../Code/C++PrimerCode/chapter3/strrandom.cpp\n"
     ]
    }
   ],
   "source": [
    "%%writefile ../../Code/C++PrimerCode/chapter3/strrandom.cpp\n",
    "\n",
    "#include<iostream>\n",
    "#include<string>\n",
    "using namespace::std;\n",
    "\n",
    "int main(){\n",
    "    const string hexdigits = \"0123456789ABCDEF\";\n",
    "    \n",
    "    cout << \"Enter a series of number between 0 and 15\"\n",
    "         << \" separated by spaces. Hit ENTER when finished: \"\n",
    "         << endl;\n",
    "    \n",
    "    string result;    \n",
    "    string::size_type n;\n",
    "    \n",
    "    while(cin >> n)\n",
    "        if (n < hexdigits.size())\n",
    "            result += hexdigits[n];\n",
    "    \n",
    "    cout << \"Your hex number is:\" << result << endl;\n",
    "    \n",
    "    return 0;\n",
    "}"
   ]
  },
  {
   "cell_type": "markdown",
   "metadata": {},
   "source": [
    "## 标准库类型vetor\n",
    "\n",
    "- 被称为容器\n",
    "- 声明：`using std::vector`\n",
    "- 类模板\n",
    "\n",
    "> 对于类模板来说，我们通过提供一些额外信息来指定模板到底实例化成什么样的类，需要提供哪些信息由模板决定    \n",
    "> 提供信息的方式：即在模板名字后面跟一对尖括号，在括号里面放上信息"
   ]
  },
  {
   "cell_type": "markdown",
   "metadata": {},
   "source": [
    "```C++\n",
    "vector<int> ivec;  //ivec保存int类型的对象\n",
    "vector<Sales_item> Sales_vec;    //保存Sales_item类型的对象\n",
    "vector<vector<string>> file;   //该向量的元素是vector对象\n",
    "```"
   ]
  },
  {
   "cell_type": "markdown",
   "metadata": {},
   "source": [
    "### 定义和初始化vector对象 \n",
    "\n",
    "- vector模板控制着定义和初始化向量的方法"
   ]
  },
  {
   "cell_type": "markdown",
   "metadata": {
    "collapsed": true
   },
   "source": [
    "- 初始化vector对象的方法\n",
    "\n",
    "|表达式|含义|\n",
    "|:------:|:--------|\n",
    "|vector`<T>` v1  |v1是一个空vector，它潜在的元素是T类型的，执行默认初始化|\n",
    "|vector`<T>` v2(v1)  |v2中包含有v1所有元素的副本  |\n",
    "|vector`<T>` v2 = v1 |等价于v2(v1),v2中包含有v1所有元素的副本|\n",
    "|vector`<T>` v3(n,val) |v3包含了n个重复元素，每个元素的值都是val|\n",
    "|vector`<T>`v4(n)  |v4包含了n个重复地执行了值初始化的对象|\n",
    "|vector`<T>` v5{a,b,c...} |v5包含了初始值个数的元素，每个元素被赋予相应的初始值|\n",
    "|vector`<T>` v5 = {a,b,c....} |等价于v5{a,b,c....}|"
   ]
  },
  {
   "cell_type": "markdown",
   "metadata": {},
   "source": [
    "- 创建一个指定类型的空vector：\n",
    "```C++\n",
    "vector<string> svec;\n",
    "```\n",
    "\n",
    "看起来空vector没什么用，但是在程序运行时可以很高效地往vector对象中添加元素"
   ]
  },
  {
   "cell_type": "markdown",
   "metadata": {},
   "source": [
    "** 列表初始化vector对象 **\n",
    "\n",
    "```C++\n",
    "vector<string> articles = {\"a\", \"an\", \"the\"};\n",
    "```"
   ]
  },
  {
   "cell_type": "markdown",
   "metadata": {},
   "source": [
    "** 创建指定数量的元素 **\n",
    "\n",
    "```C++\n",
    "vector<int> ivec(10, -1);   //创建10个int型元素，都被初始化成-1\n",
    "```"
   ]
  },
  {
   "cell_type": "markdown",
   "metadata": {},
   "source": [
    "** 值初始化 **\n",
    "\n",
    "- 只提供vector对象容纳的元素数量忽略初值\n",
    "\n",
    "```C++\n",
    "vector<int> ivec(10);    //10个元素，每个都为0\n",
    "vector<string> svec(10);  //10个元素，每个初始化为空字符串\n",
    "```"
   ]
  },
  {
   "cell_type": "markdown",
   "metadata": {},
   "source": [
    "** 列表初始值还是元素数量 **\n",
    "\n",
    "- 用花括号或者圆括号区分\n",
    "\n",
    "```C++\n",
    "vector<int> ivec(10);  //10个元素，每个都为0\n",
    "vector<int> ivec{10};  //1个元素, 该元素值为10\n",
    "```"
   ]
  },
  {
   "cell_type": "markdown",
   "metadata": {},
   "source": [
    "- 另一种情况：花括号里的值与元素类型相同时，是列表初始化vector对象\n",
    "```C++\n",
    "vector<string> ivec{10, \"hi\"}; //10个元素，每个值为“hi”\n",
    "```"
   ]
  },
  {
   "cell_type": "markdown",
   "metadata": {},
   "source": [
    "### 向vector对象中添加元素"
   ]
  },
  {
   "cell_type": "markdown",
   "metadata": {},
   "source": [
    "- 假设遇到vector对象包含的元素是0到999，这样就是不能使用列表初始化，一个最好的方法就是先创建一个空的vector对象，再利用vector的成员函数push_back向其中添加元素\n",
    "- push_back负责把一个值当成vector对象的尾元素“压到（push）”到vector对象的“尾端（back）”"
   ]
  },
  {
   "cell_type": "code",
   "execution_count": 7,
   "metadata": {
    "collapsed": false
   },
   "outputs": [
    {
     "name": "stdout",
     "output_type": "stream",
     "text": [
      "Overwriting ../../Code/C++PrimerCode/chapter3/push_back.cpp\n"
     ]
    }
   ],
   "source": [
    "%%writefile ../../Code/C++PrimerCode/chapter3/push_back.cpp\n",
    "\n",
    "#include <iostream>\n",
    "#include <string>\n",
    "#include <vector>\n",
    "using namespace::std;\n",
    "        \n",
    "int main(){\n",
    "    vector<int> v2;   //空vector对象\n",
    "    for(int i = 0; i != 1000; ++i)\n",
    "        v2.push_back(i);\n",
    "\n",
    "    for (auto it : v2)\n",
    "\t\tcout << it << \" \";\n",
    "\tcout << endl;\n",
    "\tcout << v2.size() << endl;\n",
    "\n",
    "    string word;\n",
    "    vector<string> text;\n",
    "    while (getline(cin, word)){\n",
    "\t\tif (word.size() >= 1)\n",
    "\t\t\ttext.push_back(word);\n",
    "\t\telse\n",
    "\t\t\tbreak;\n",
    "\t}\n",
    "    \n",
    "    for (auto sr : text)\n",
    "\t\tcout << sr << \" \";\n",
    "\tcout << endl;\n",
    "    cout << text.size() << endl;\n",
    "}"
   ]
  },
  {
   "cell_type": "markdown",
   "metadata": {},
   "source": [
    "### 其他vector操作"
   ]
  },
  {
   "cell_type": "markdown",
   "metadata": {
    "collapsed": true
   },
   "source": [
    "|||\n",
    "|:------:|:-----|\n",
    "|v.empty()|如果v不含任何元素，返回真；否则返回假|\n",
    "|v.size()|返回v中元素个数|\n",
    "|v.push_back(t)|向v的尾端添加一个值为t的元素|\n",
    "|v[n]|返回v中第n个位置上的元素的引用|\n",
    "|v1 = v2|用v2中的元素拷贝替换v1中的元素|\n",
    "|v1 = {a,b,c...}|用列表中的元素替换v1中的元素|\n",
    "|v1 == v2|v1和v2相等当且仅当他们的元素数量相同且对应位置的元素值相同|\n",
    "|v1 != v2||\n",
    "|<,<=,>,>=|顾名思义，以字典顺序进行比较|"
   ]
  },
  {
   "cell_type": "markdown",
   "metadata": {},
   "source": [
    "** 计算vector内对象的索引 **\n"
   ]
  },
  {
   "cell_type": "code",
   "execution_count": 1,
   "metadata": {
    "collapsed": false
   },
   "outputs": [
    {
     "name": "stdout",
     "output_type": "stream",
     "text": [
      "Overwriting ../../Code/C++PrimerCode/chapter3/vectorindex.cpp\n"
     ]
    }
   ],
   "source": [
    "%%writefile ../../Code/C++PrimerCode/chapter3/vectorindex.cpp\n",
    "\n",
    "#include <iostream>\n",
    "#include <string>\n",
    "#include <vector>\n",
    "using namespace::std;\n",
    "using std::vector;\n",
    "\n",
    "int main(){\n",
    "\tvector<unsigned> scores(11, 0);\n",
    "\tunsigned grade;\n",
    "\n",
    "\twhile (cin >> grade){\n",
    "\t\tif (grade <= 100)\n",
    "\t\t\t++scores[grade/10];\n",
    "\t}\n",
    "\n",
    "\tfor (auto it : scores)\n",
    "\t\tcout << it << endl;\n",
    "}"
   ]
  },
  {
   "cell_type": "markdown",
   "metadata": {},
   "source": [
    "** 不能使用下标形式添加元素 **"
   ]
  },
  {
   "cell_type": "markdown",
   "metadata": {},
   "source": [
    "** 练习 **\n",
    "\n",
    "- 从cin读入一组词存入vector对象，然后把所有词改成大写形式"
   ]
  },
  {
   "cell_type": "code",
   "execution_count": 3,
   "metadata": {
    "collapsed": false
   },
   "outputs": [
    {
     "name": "stdout",
     "output_type": "stream",
     "text": [
      "Overwriting ../../Code/C++PrimerCode/chapter3/vectortoupper.cpp\n"
     ]
    }
   ],
   "source": [
    "%%writefile ../../Code/C++PrimerCode/chapter3/vectortoupper.cpp\n",
    "\n",
    "#include <iostream>\n",
    "#include <string>\n",
    "#include <vector>\n",
    "\n",
    "using namespace::std;\n",
    "using std::vector;\n",
    "\n",
    "int main(){\n",
    "\tvector<string> text;\n",
    "\tstring word;\n",
    "\n",
    "\twhile (cin >> word){\n",
    "\t\tif (word.size() > 1)\n",
    "\t\t\ttext.push_back(word);\n",
    "\t\telse\n",
    "\t\t\tbreak;\n",
    "\t}\n",
    "\n",
    "\tfor (auto &ve : text)  //这里需要两次遍历\n",
    "\t\tfor (auto &s : ve)\n",
    "\t\t\ts = toupper(s);\n",
    "\n",
    "\tfor (auto it : text)\n",
    "\t\tcout << it << endl;\n",
    "\n",
    "\treturn 0;\n",
    "}"
   ]
  },
  {
   "cell_type": "markdown",
   "metadata": {
    "collapsed": true
   },
   "source": [
    "## 迭代器介绍"
   ]
  },
  {
   "cell_type": "markdown",
   "metadata": {},
   "source": [
    "### 使用迭代器\n",
    "\n",
    "```C++\n",
    "auto b = v.begin(), e = v.end();\n",
    "```"
   ]
  },
  {
   "cell_type": "markdown",
   "metadata": {},
   "source": [
    "- 标准容器迭代器的运算符\n",
    "\n",
    "| | | \n",
    "|:----:|:------ | \n",
    "|`*`iter|返回迭代器iter所指元素的引用| \n",
    "|iter->men|解引用iter并获取该元素的名为mem的成员，等价于（`*iter）.mem` | \n",
    "|++iter |令iter指示器中的下一个元素 | \n",
    "|--iter |令iter指示器中的上一个元素 | \n",
    "|iter1 == iter2|判断两个迭代器是否相等（不相等），如果两个迭代器指示的是同一个元 | \n",
    "|iter1 != iter2|素或者它们是同一个容器的尾后迭代器，则相等；反之，不相等 | "
   ]
  },
  {
   "cell_type": "code",
   "execution_count": 9,
   "metadata": {
    "collapsed": false
   },
   "outputs": [
    {
     "name": "stdout",
     "output_type": "stream",
     "text": [
      "Overwriting ../../Code/C++PrimerCode/chapter3/iter.cpp\n"
     ]
    }
   ],
   "source": [
    "%%writefile ../../Code/C++PrimerCode/chapter3/iter.cpp\n",
    "#pragma GCC diagnostic error \"-std=c++11\"  \n",
    "#include <iostream>\n",
    "#include <string>\n",
    "\n",
    "using namespace::std;\n",
    "        \n",
    "int main(){\n",
    "    string s(\"some string\");\n",
    "    if(s.begin() != s.end()){\n",
    "        auto it = s.begin();\n",
    "        *it = toupper(*it);\n",
    "    }\n",
    "    cout << s <<endl;\n",
    "}"
   ]
  },
  {
   "cell_type": "code",
   "execution_count": 10,
   "metadata": {
    "collapsed": false
   },
   "outputs": [
    {
     "name": "stdout",
     "output_type": "stream",
     "text": [
      "Writing ../../Code/C++PrimerCode/chapter3/itertoupper.cpp\n"
     ]
    }
   ],
   "source": [
    "%%writefile ../../Code/C++PrimerCode/chapter3/itertoupper.cpp\n",
    "#pragma GCC diagnostic error \"-std=c++11\"  \n",
    "#include <iostream>\n",
    "#include <string>\n",
    "\n",
    "using namespace::std;\n",
    "        \n",
    "int main(){\n",
    "    string s(\"some string\");\n",
    "    for(auto it = s.begin(); it != s.end() && !isspace(*it); ++it)\n",
    "        *it = toupper(*it);\n",
    "    cout << s <<endl;\n",
    "}"
   ]
  },
  {
   "cell_type": "markdown",
   "metadata": {},
   "source": [
    "** 迭代器类型 **\n",
    "\n",
    "- iterator\n",
    "- const_iterator"
   ]
  },
  {
   "cell_type": "markdown",
   "metadata": {},
   "source": [
    "```C++\n",
    "vector<int>::iterator it;  //it能读写vector<int>的元素\n",
    "string::iterator it2;   //it2能读写string对象中的元素\n",
    "\n",
    "vector<int>::const_iterator it3;  //it3只能读元素，不能写元素\n",
    "string::const_iterator it4;    //it4只能读字符，不能写字符\n",
    "```"
   ]
  },
  {
   "cell_type": "markdown",
   "metadata": {},
   "source": [
    "** begin和end运算符 **\n",
    "\n",
    "- begin和end返回的具体类型有对象是否是常量决定，如果对象是常量，begin和end返回const_iterator;如果对象不是常量，返回iterator"
   ]
  },
  {
   "cell_type": "markdown",
   "metadata": {},
   "source": [
    "> C++11新标准中引入了两个新函数，分别是cbegin和cend:\n",
    "```C++\n",
    "auto it3 = v.cbegin();  //it3的类型是vector<int>::const_iterator\n",
    "```\n",
    "> 不论vector对象本身是否是常量，返回值都是const_iterator."
   ]
  },
  {
   "cell_type": "markdown",
   "metadata": {},
   "source": [
    "```C++\n",
    "//输出text中第一段的内容（text里面的内容或者是一句话或者是一个用于表示段落分割的空字符串）\n",
    "\n",
    "for(auto it = text.cbegin(); it != text.cend && it->empty(); ++it)\n",
    "    cout << *it << endl;\n",
    "```"
   ]
  },
  {
   "cell_type": "markdown",
   "metadata": {},
   "source": [
    ">但凡是使用了迭代器的循环体，都不要向迭代器所属的容器中添加元素"
   ]
  },
  {
   "cell_type": "markdown",
   "metadata": {
    "collapsed": true
   },
   "source": [
    "## 数组"
   ]
  },
  {
   "cell_type": "markdown",
   "metadata": {},
   "source": [
    "### 定义和初始化内置数组\n",
    "\n",
    "- 定义数组的时候必须指定数组的类型，不允许用auto关键字由初始值的列表推断类型，另外和vector一样，数组的元素应为对象，因此不存在引用的数组。"
   ]
  },
  {
   "cell_type": "markdown",
   "metadata": {},
   "source": [
    "** 字符数组的特殊性 **\n",
    "\n",
    ">注意字符串字面值的结尾处还有一个空字符，这个空字符也会想字符串的其他字符一样被拷到字符数组中。\n",
    "```C++\n",
    "const char a4[6] = \"Daniel\";  //错误：没有空间可存放空字符\n",
    "```"
   ]
  },
  {
   "cell_type": "markdown",
   "metadata": {},
   "source": [
    "** 不允许拷贝和赋值 **\n"
   ]
  },
  {
   "cell_type": "markdown",
   "metadata": {},
   "source": [
    "### 访问数组元素\n",
    "\n",
    "- 使用数组下标时，通常将其定义为size_t类型，size_t是一种机器相关的无符号类型，在cstddef头文件中定义了size_t类型，这个文件是C标准库stddef.h头文件的C++语言版本"
   ]
  },
  {
   "cell_type": "code",
   "execution_count": 4,
   "metadata": {
    "collapsed": false
   },
   "outputs": [
    {
     "name": "stdout",
     "output_type": "stream",
     "text": [
      "Overwriting ../../Code/C++PrimerCode/chapter3/array.cpp\n"
     ]
    }
   ],
   "source": [
    "%%writefile ../../Code/C++PrimerCode/chapter3/array.cpp\n",
    "#pragma GCC diagnostic error \"-std=c++11\"  \n",
    "#include <iostream>\n",
    "\n",
    "using namespace::std;\n",
    "\n",
    "unsigned scores[11] = {};\n",
    "unsigned grade;\n",
    "int main(){\n",
    "    while(cin >> grade){\n",
    "        if(grade <= 100)\n",
    "            ++scores[grade/10];\n",
    "    }\n",
    "    \n",
    "    for(auto i : scores)\n",
    "        cout << i << \" \";\n",
    "    cout << endl;\n",
    "}\n"
   ]
  },
  {
   "cell_type": "markdown",
   "metadata": {},
   "source": [
    "### 指针和数组"
   ]
  },
  {
   "cell_type": "markdown",
   "metadata": {
    "collapsed": true
   },
   "source": [
    "```C++\n",
    "int ia[] = {0,1,2,3,4,5,6};\n",
    "auto ia2(ia);    //ia2是一个整型指针，指向ia的第一个元素\n",
    "//auto ia2(&ia[0]);\n",
    "ia2 = 42;\n",
    "```"
   ]
  },
  {
   "cell_type": "markdown",
   "metadata": {},
   "source": [
    "** 标准库函数begin和end **\n"
   ]
  },
  {
   "cell_type": "markdown",
   "metadata": {},
   "source": [
    "```C++\n",
    "int ia[] = {0,1,2,3,4,5,6,7,8};    //ia是一个含有10个整数的数组\n",
    "int *beg = begin(ia);     //指向ia首元素的指针\n",
    "int *last = end(ia);      //指向ia尾元素的下一位置的指针\n",
    "```"
   ]
  },
  {
   "cell_type": "markdown",
   "metadata": {},
   "source": [
    "** 指针运算 **"
   ]
  },
  {
   "cell_type": "markdown",
   "metadata": {},
   "source": [
    "- 和迭代器一样，两个指针相减的结果是他们之间的距离，参与运算的两个指针必须指向同一个数组当中的元素\n",
    "```C++\n",
    "auto n = end(arr)- begin(arr);\n",
    "```\n",
    "- 两个指针相减的结果的类型是一种名为ptrdiff_t的标准库类型，和size_t一样。"
   ]
  },
  {
   "cell_type": "markdown",
   "metadata": {
    "collapsed": true
   },
   "source": [
    "### C风格字符串"
   ]
  },
  {
   "cell_type": "markdown",
   "metadata": {},
   "source": [
    "- C风格字符串的复制和链接用strcat和strcpy两个函数"
   ]
  },
  {
   "cell_type": "markdown",
   "metadata": {},
   "source": [
    "### 与旧代码的接口"
   ]
  },
  {
   "cell_type": "markdown",
   "metadata": {},
   "source": [
    "```C++\n",
    "string s(\"Hello World\");\n",
    "//不能用string对象直接初始化指向字符的指针，为了完成该功能，string专门提供了 一个名为c_str的成员函数。\n",
    "char *str = s;  //错误\n",
    "const char *str = s.c_str();  //正确\n",
    "```"
   ]
  },
  {
   "cell_type": "markdown",
   "metadata": {},
   "source": [
    "** 使用数组初始化vector对象 **"
   ]
  },
  {
   "cell_type": "markdown",
   "metadata": {},
   "source": [
    "```C++\n",
    "int int_arr[] = {0,1,2,3,4,5};\n",
    "vector<int> ivec(begin(int_arr), end(int_arr));\n",
    "```"
   ]
  },
  {
   "cell_type": "markdown",
   "metadata": {},
   "source": [
    "### 多维数组"
   ]
  },
  {
   "cell_type": "markdown",
   "metadata": {},
   "source": [
    "```C++\n",
    "int ia[3][4] = {\n",
    "    {0, 1, 2, 3},\n",
    "    {4, 5, 6, 7},\n",
    "    {8, 9, 10, 11}\n",
    "};\n",
    "\n",
    "int (&row)[4] = ia[1]; //把row绑定到ia的第二个4元素数组上\n",
    "```"
   ]
  },
  {
   "cell_type": "markdown",
   "metadata": {},
   "source": [
    "> 使用for语句处理多维数组，除了最内层的循环外，其他所有循环的控制变量都应该是引用类型\n",
    "```C++\n",
    "for(auto &row : ia)\n",
    "    for(auto col : row)\n",
    "```"
   ]
  },
  {
   "cell_type": "markdown",
   "metadata": {},
   "source": [
    "```C++   \n",
    "int ia[3][4];\n",
    "\n",
    "for(auto p = ia; p != ia + 3; ++p){\n",
    "    for(auto q = *p; q != *p + 4; ++q)\n",
    "        cout << *q << ' ';\n",
    "    cout <<endl;\n",
    "}\n",
    "\n",
    "//还可以用begin和end\n",
    "for(auto p = begin(ia); p != end(ia); ++p){\n",
    "    for(auto q = begin(*p); q != end(*p); ++q)\n",
    "        cout << *q << ' ';\n",
    "    cout <<endl;\n",
    "}\n",
    "```"
   ]
  },
  {
   "cell_type": "code",
   "execution_count": null,
   "metadata": {
    "collapsed": true
   },
   "outputs": [],
   "source": []
  }
 ],
 "metadata": {
  "anaconda-cloud": {},
  "kernelspec": {
   "display_name": "Python [Root]",
   "language": "python",
   "name": "Python [Root]"
  },
  "language_info": {
   "codemirror_mode": {
    "name": "ipython",
    "version": 3
   },
   "file_extension": ".py",
   "mimetype": "text/x-python",
   "name": "python",
   "nbconvert_exporter": "python",
   "pygments_lexer": "ipython3",
   "version": "3.5.1"
  }
 },
 "nbformat": 4,
 "nbformat_minor": 0
}
