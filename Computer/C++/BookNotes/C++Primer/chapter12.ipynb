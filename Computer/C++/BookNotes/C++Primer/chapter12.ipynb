{
 "cells": [
  {
   "cell_type": "markdown",
   "metadata": {},
   "source": [
    "# 动态内存\n",
    "\n",
    "- [ ] 动态内存与智能指针\n",
    "- [ ] 动态数组\n",
    "- [ ] 使用标准库：文本查询程序"
   ]
  },
  {
   "cell_type": "markdown",
   "metadata": {},
   "source": [
    "## 动态内存与智能指针"
   ]
  },
  {
   "cell_type": "markdown",
   "metadata": {},
   "source": [
    "- 静态内存：保存局部static对象、类static对象、定义在任何函数之外的对象，由编译器自动创建和销毁。栈内存：保存定义在函数之内的非static对象，栈对象仅在定义的程序块运行时才存在\n",
    "- 除了静态内存和栈内存，每个程序还拥有一个内存池。这部分内存被称作自由空间或堆。程序用堆来存储动态分配的对象\n",
    "- 要正确地管理动态内存"
   ]
  },
  {
   "cell_type": "markdown",
   "metadata": {},
   "source": [
    "- 在c++中，动态内存的管理是通过一对运算符来完成的：new，为对象分配空间并放回一个指向该对象的指针，我们可以选择对对象进行初始化\n",
    "- delete：接受一个动态对象的指针，销毁该对象，并释放与之关联的内存"
   ]
  },
  {
   "cell_type": "markdown",
   "metadata": {},
   "source": [
    "- 为了防止忘记释放内存和内存泄漏，更容易的使用动态内存，新标准库提供了两种智能指针类型来管理动态对象\n",
    "- shared_ptr：允许多个指针指向同一个对象;\n",
    "- unique_ptr: 独占所指的对象\n",
    "- weak_ptr： 伴随类，弱引用，指向shared_ptr所管理的对象\n",
    "- 这三种类型都在头文件memory中"
   ]
  },
  {
   "cell_type": "markdown",
   "metadata": {},
   "source": [
    "### shared_ptr类"
   ]
  },
  {
   "cell_type": "markdown",
   "metadata": {},
   "source": [
    "```C++\n",
    "shared_ptr<string> p1;\n",
    "shared_ptr<list<string>> p2;\n",
    "```"
   ]
  },
  {
   "cell_type": "markdown",
   "metadata": {},
   "source": [
    "** make_shared函数 **\n",
    "\n",
    "- 最安全的分配和使用动态内存的方法是调用一个名make_shared的标准库函数\n",
    "- 此函数在动态内存中分配一个对象并初始化它，返回指向此对象的shared_ptr"
   ]
  },
  {
   "cell_type": "markdown",
   "metadata": {},
   "source": [
    "- 当要用make_shared时\n",
    "\n",
    "```C++\n",
    "shared_ptr<int> p3 = make_shared<int>(42); //指向一个值为42的int的shared_ptr\n",
    "shared_ptr<string> p4 = make_shared<string>(10, '9');//指向一个值为“9999999999”的string\n",
    "shared_ptr<int> p5 = make_shared<int>();\n",
    "```"
   ]
  },
  {
   "cell_type": "markdown",
   "metadata": {},
   "source": [
    "- 也可以用auto定义一个对象来保存make_shared的结果"
   ]
  },
  {
   "cell_type": "markdown",
   "metadata": {},
   "source": [
    "** shared_ptr的拷贝和赋值 **\n"
   ]
  },
  {
   "cell_type": "markdown",
   "metadata": {},
   "source": [
    "- 当进行拷贝和赋值时，每个shared_ptr都会记录有多少个其他的shared_ptr指向相同的对象\n",
    "```C++\n",
    "auto p = make_shared<int>(42);\n",
    "auto q(p);\n",
    "```"
   ]
  },
  {
   "cell_type": "markdown",
   "metadata": {},
   "source": [
    "```C++\n",
    "auto r = make_shared<int>(42);\n",
    "r = q;\n",
    "```\n",
    "\n",
    "- 此例中我们分配了一个int，将其指针保存在r中，接下来，我们将新值赋给r，在此情况下，r是唯一指向此int的shared_ptr,再把q赋给r的过程中，此int被自动释放"
   ]
  },
  {
   "cell_type": "markdown",
   "metadata": {},
   "source": [
    "** shared_ptr自动销毁所管理的对象 **\n",
    "\n",
    "- 当指向一个对象的最后一个shared_ptr被销毁时，shared_ptr类自动销毁此对象"
   ]
  },
  {
   "cell_type": "markdown",
   "metadata": {},
   "source": [
    "** shared_ptr还会自动释放相关联的内存 **"
   ]
  },
  {
   "cell_type": "markdown",
   "metadata": {},
   "source": [
    "定义一个返回类型为shared_ptr的函数\n",
    "\n",
    "```C++\n",
    "//factory返回一个shared_ptr,指向一个动态分配的对象\n",
    "shared_ptr<Foo> factory(T arg){\n",
    "    reurn make_shared<Foo>(arg);\n",
    "}\n",
    "```\n",
    "> 当factory返回一个shared_ptr,所以我们可以确保它分配的对象会在恰当的时刻被释放\n",
    "\n",
    "```C++\n",
    "void use_factory(T arg){\n",
    "    shared_ptr<Foo> p = factory(arg);\n",
    "    //使用p\n",
    "}//p离开作用域，它指向的内存会被自动释放掉\n",
    "```\n",
    ">但是如果有其他shared_ptr也指向这块内存，他就不会被释放\n",
    "\n",
    "```C++\n",
    "void use_factory(T arg){\n",
    "    shared_ptr<Foo> p = factory(arg);\n",
    "    //使用p\n",
    "    return p; //当我们返回p时，引用计数进行了递增操作\n",
    "}//p离开作用域，它指向的内存不会被自动释放掉\n",
    "```"
   ]
  },
  {
   "cell_type": "markdown",
   "metadata": {},
   "source": [
    "** 使用动态生存器的资源的类 **\n",
    "\n",
    "使用动态内存的原因：\n",
    "\n",
    "- 程序不知道自己需要多少对象（容器类）\n",
    "- 程序不知道所需对象的准确类型\n",
    "- 程序需要在多个对象间共享数据（本节）"
   ]
  },
  {
   "cell_type": "markdown",
   "metadata": {},
   "source": [
    "```C++\n",
    "vector<string> v1;\n",
    "{\n",
    "    vector<string> v2 = {\"hello\", \"a\", \"an\"};\n",
    "    v1 = v2; \n",
    "}//v2被销毁，其中的元素也被销毁\n",
    "//v1有三个元素，是原来v3中元素的拷贝\n",
    "```\n",
    "\n",
    "- 我们希望定义一个名为Blob的类，保存一组元素，希望Blob对象的不同拷贝之间共享共同的元素。\n",
    "- 如果两个对象共享底层的数据 ，当某个对象被销毁时，我们不能单方面的销毁底层数据\n",
    "\n",
    "```C++\n",
    "Blob<string> b1;\n",
    "{\n",
    "    Blob<string> b2 = {\"hello\", \"a\", \"an\"};\n",
    "    b1 = b2; \n",
    "}//b2被销毁，其中的元素不能销毁\n",
    "//b1指向由b2创建的元素\n",
    "```"
   ]
  },
  {
   "cell_type": "markdown",
   "metadata": {},
   "source": [
    "** 定义strBlob类 **\n",
    "\n",
    "- 我们不能在一个Blob对象里面直接保存vector,为了保证vector中的元素继续存在，我们将vector保存在动态内存中。"
   ]
  },
  {
   "cell_type": "markdown",
   "metadata": {},
   "source": [
    "- 为了实现我们所希望的数据共享，我们将为每个strBlob设置一个shared_ptr来管理动态分配的vector。此shared_ptr的成员将记录有多少个StrBlob共享相同的vector，并在vector的最后一个使用者被销毁时释放vector\n",
    "- 类有一个默认构造函数和一个构造函数"
   ]
  },
  {
   "cell_type": "markdown",
   "metadata": {},
   "source": [
    "```C++\n",
    "class StrBlob{\n",
    "public:\n",
    "\ttypedef vector<string>::size_type size_type;\n",
    "\tStrBlob();\n",
    "\tStrBlob(initializer_list<string> il);\n",
    "\tsize_type size() const {return data->size();}\n",
    "\tbool empty() const {return data->empty();}\n",
    "\t//add and delete\n",
    "\tvoid push_back(const string &t) {date->push_back(t);}\n",
    "\tvoid pop_back();\n",
    "\t//visit\n",
    "\tstring &front;\n",
    "\tstring &back;\n",
    "\n",
    "private:\n",
    "\tshared_ptr<vector<string>> data;\n",
    "\tvoid check(size_type i; const string &msg) const;\n",
    "};\n",
    "```"
   ]
  },
  {
   "cell_type": "markdown",
   "metadata": {},
   "source": [
    "** StrBlob构造函数 **\n",
    "\n",
    "```C++\n",
    "StrBlob::StrBlob():data(make_shared<vector<string>>()){}\n",
    "StrBlob::StrBlob(initializer_list<string> il):data(make_shared<vector<string>>()){}\n",
    "```"
   ]
  },
  {
   "cell_type": "markdown",
   "metadata": {},
   "source": [
    "** 元素访问成员函数 **\n",
    "\n",
    "- 一些操作访问vector的成员函数，必须先检查元素是否存在，定一个一个check的工具函数，检查给定一个索引是否在合法范围内\n",
    "- 另外一个string参数，传递的是异常处理描述的错误内容\n",
    "\n",
    "```C++\n",
    "string& StrBlob::back(){\n",
    "\tcheck(0, \"back on empty StrBlob\");\n",
    "\treturn data->back();\n",
    "}\n",
    "\n",
    "string& StrBlob::front(){\n",
    "\tcheck(0, \"front on empty StrBlob\");\n",
    "\treturn data->front();\n",
    "}\n",
    "\n",
    "string& StrBlob::pop_back(){\n",
    "\tcheck(0, \"pop_back on empty StrBlob\");\n",
    "\tdata->pop_back();\n",
    "}\n",
    "```"
   ]
  },
  {
   "cell_type": "markdown",
   "metadata": {},
   "source": [
    "** StrBlob的拷贝、赋值和销毁 **\n"
   ]
  },
  {
   "cell_type": "markdown",
   "metadata": {},
   "source": [
    ">explicit的作用就是抑制构造函数的隐式转换     \n",
    ">优点：不会自动的进行类型转换，必须清楚的知道类类型   \n",
    ">缺点：必须用构造函数显示创建一个对象，不够方便简单   "
   ]
  },
  {
   "cell_type": "markdown",
   "metadata": {},
   "source": [
    "### 直接管理内存\n",
    "\n",
    "- new\n",
    "- delete\n",
    "> 学得不好的人最好用智能指针来管理内存，否则不要分配动态内存"
   ]
  },
  {
   "cell_type": "markdown",
   "metadata": {},
   "source": [
    "** 使用new动态分配和初始化对象 **\n",
    "\n",
    "- 在自由空间分配内存是无名的，因此new无法为其分配的对象命名，而是返回一个指向该对象的指针：\n",
    "```C++\n",
    "int *p1 = new int;\n",
    "```"
   ]
  },
  {
   "cell_type": "markdown",
   "metadata": {},
   "source": [
    "- 我们可以使用直接初始化方式来初始化一个动态分配的对象，也可以使用传统的构造方式，在新标准下，也可以使用列表初始化（使用花括号）:\n",
    "\n",
    "```C++\n",
    "int *pi = new int(1024);\n",
    "string *ps = new string(10, '9');\n",
    "\n",
    "vector<int> *pv = new vector<int>{0,1,2,3,44,5,6};\n",
    "```"
   ]
  },
  {
   "cell_type": "markdown",
   "metadata": {},
   "source": [
    "- 也可以对动态分配的对象进行值初始化，只需在类型名之后跟一对空括号即可：\n",
    "\n",
    "```C++\n",
    "string *ps1 = new string;\n",
    "string *ps = new string();\n",
    "string *ps = new int;\n",
    "int *pi2 = new int();\n",
    "```"
   ]
  },
  {
   "cell_type": "markdown",
   "metadata": {},
   "source": [
    "- 只有当括号中仅有单一初始化器的时候才可以使用auto：\n",
    "\n",
    "```C++\n",
    "auto p1 = new auto(obj);\n",
    "\n",
    "auto p2 = new auto{a, b, c};//错误\n",
    "```\n",
    "\n",
    "- 根据obj的类型推断初p1的类型"
   ]
  },
  {
   "cell_type": "markdown",
   "metadata": {},
   "source": [
    "** 动态分配的const对象 **\n"
   ]
  },
  {
   "cell_type": "markdown",
   "metadata": {},
   "source": [
    "- 使用new分配const对象是合法的\n",
    "\n",
    "```C++\n",
    "const int *pci = new const int(1024);\n",
    "\n",
    "const string *pcs = new const string;\n",
    "```"
   ]
  },
  {
   "cell_type": "markdown",
   "metadata": {},
   "source": [
    "** 内存耗尽 **"
   ]
  },
  {
   "cell_type": "markdown",
   "metadata": {},
   "source": [
    "- 一旦自由空间被耗尽，new表达式就会失败\n",
    "- 默认情况下，会抛出一个bad_alloc的异常\n",
    "- 我们可以改变使用new的方式来阻止它抛出异常"
   ]
  },
  {
   "cell_type": "markdown",
   "metadata": {},
   "source": [
    "```C++\n",
    "int *p2 = new int;  //如果分配失败，new抛出bad_alloc\n",
    "int *p1 = new (nothrow) int;//如果分配失败，返回一个空指针\n",
    "```"
   ]
  },
  {
   "cell_type": "markdown",
   "metadata": {},
   "source": [
    "** 释放动态内存 **\n",
    "\n",
    "- delete p; p必须指向一个动态分配的对象或者是一个空指针\n",
    "- 为了防止内存耗尽，在动态内存使用完毕后，要归还给系统"
   ]
  },
  {
   "cell_type": "markdown",
   "metadata": {},
   "source": [
    "** 指针值和delete **"
   ]
  },
  {
   "cell_type": "markdown",
   "metadata": {},
   "source": [
    "```C++\n",
    "int i, *pi1 = &i, *pi2 = nullptr;\n",
    "double *pd = new double(33), *pd2 = pd;\n",
    "delete i;  //错误：i不是一个指针\n",
    "delete pi1;  //未定义：pil指向一个局部变量\n",
    "delete pd;   //正确\n",
    "delete pd2;   //未定义：pd2指向的内存被释放了\n",
    "delete pi2;   //正确：释放一个空指针总是没有错误的\n",
    "```"
   ]
  },
  {
   "cell_type": "markdown",
   "metadata": {},
   "source": [
    "** 动态对象的生存期直到被释放时为止 **"
   ]
  },
  {
   "cell_type": "markdown",
   "metadata": {},
   "source": [
    "- 返回指向动态内存的指针（而不是智能指针）的函数给其调用者增加了一个额外负担-调用者必须记得释放内存：\n",
    "\n",
    "```C++\n",
    "Foo* factory(T arg){\n",
    "    return new Foo(arg);\n",
    "} //要掉用这个函数，调用者在调用后必须释放掉它\n",
    "\n",
    "void use_factory(T arg){\n",
    "    Foo *p = factory(arg);\n",
    "    delete p;\n",
    "}//如果没有释放掉它，p是指向factory分配的内存的唯一指针，一旦use_factory返回，程序就没有办法在释放这快内存了\n",
    "```"
   ]
  },
  {
   "cell_type": "markdown",
   "metadata": {},
   "source": [
    ">使用new和delete管理动态内存存在的三个问题：   \n",
    ">1.忘记delete内存，忘记释放动态内存，会导致人门常说的“内存泄漏”问题，因为这种内存永远不会归还自由空间了，查找内存泄漏错误是非常困难的，因为通常应用程序运行很长时间后，内存耗尽时，才能检测到    \n",
    ">2.使用已经释放掉的对象，通过在释放内存后将指针置为空，有时可以检测出这种错误    \n",
    ">3.同一块内存释放两次：两个内置类型的指针指向同一块自由空间分配的内存，在对一个指针进行delete之后，其指向的内存也会被释放，若再对第二个指针进行delete，会造成自由空间破坏"
   ]
  },
  {
   "cell_type": "markdown",
   "metadata": {},
   "source": [
    ">**坚持使用智能指针**"
   ]
  },
  {
   "cell_type": "markdown",
   "metadata": {},
   "source": [
    "** delete之后重置指针值 **"
   ]
  },
  {
   "cell_type": "markdown",
   "metadata": {},
   "source": [
    "- 即使delete了某个内置类型的指针(也就是说释放了对应的内存空间)，虽然指针已经无效，但是其仍然保留这释放空间的对应地址，变成了空悬指针，也就是说我们要保留指针，可以将其置为空指针"
   ]
  },
  {
   "cell_type": "code",
   "execution_count": 1,
   "metadata": {},
   "outputs": [
    {
     "name": "stdout",
     "output_type": "stream",
     "text": [
      "Writing ../../Code/C++PrimerCode/chapter12/7.cpp\n"
     ]
    }
   ],
   "source": [
    "%%writefile ../../Code/C++PrimerCode/chapter12/7.cpp\n",
    "/*\n",
    " * This code is writed by htfeng.\n",
    " *\n",
    " * \"Copyright (c) 2017 by Objectwrite.\"\n",
    " * Date: 2017-09-20\n",
    " * Time: 20:00pm\n",
    " *\n",
    " *  The code is the answer to exercise 7 of the elevnth chapter about the book \"C++ Primer, Fifth Edition\".\n",
    " *\n",
    " * If you have any question,please contact me.\n",
    " *\n",
    " * Email:1054708869@qq.com\n",
    "*/\n",
    "#include <iostream>    \n",
    "#include <string>    \n",
    "#include <vector>  \n",
    "#include<memory>  \n",
    "#include<list>  \n",
    "using namespace std;    \n",
    "  \n",
    "//返回一个动态分配的vector,看第六题的意思是不用只能指针，那么将类型改为vector<int> *就好了  \n",
    "shared_ptr<vector<int>> vector_i()  \n",
    "{  \n",
    "      \n",
    "    shared_ptr<vector<int>> _ptr(new vector<int>);  \n",
    "    return _ptr;  \n",
    "}  \n",
    "  \n",
    "//给vector赋值  \n",
    "void vector_j(shared_ptr<vector<int>> _ptr)  \n",
    "{  \n",
    "    int int_val;  \n",
    "    while (cin>>int_val && int_val != 0)  \n",
    "    {  \n",
    "        _ptr->push_back(int_val);  \n",
    "    }  \n",
    "}  \n",
    "  \n",
    "//打印vector的值  \n",
    "void vector_k(shared_ptr<vector<int>> _ptr)  \n",
    "{  \n",
    "    for (size_t i = 0; i < (*_ptr).size(); ++i)  \n",
    "    {  \n",
    "        cout<<(*_ptr)[i]<<endl;  \n",
    "    }  \n",
    "}  \n",
    "  \n",
    "int main(int argc,char **argv)    \n",
    "{  \n",
    "    shared_ptr<vector<int>> my_ptr = vector_i();  \n",
    "    vector_j(my_ptr);  \n",
    "    vector_k(my_ptr);  \n",
    "    return 0;  \n",
    "}    "
   ]
  },
  {
   "cell_type": "code",
   "execution_count": null,
   "metadata": {
    "collapsed": true
   },
   "outputs": [],
   "source": []
  }
 ],
 "metadata": {
  "kernelspec": {
   "display_name": "Python 3",
   "language": "python",
   "name": "python3"
  },
  "language_info": {
   "codemirror_mode": {
    "name": "ipython",
    "version": 3
   },
   "file_extension": ".py",
   "mimetype": "text/x-python",
   "name": "python",
   "nbconvert_exporter": "python",
   "pygments_lexer": "ipython3",
   "version": "3.6.1"
  }
 },
 "nbformat": 4,
 "nbformat_minor": 2
}
