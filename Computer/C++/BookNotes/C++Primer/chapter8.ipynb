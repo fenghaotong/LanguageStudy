{
 "cells": [
  {
   "cell_type": "markdown",
   "metadata": {},
   "source": [
    "# 第八章 IO库\n",
    "\n",
    "- [X] IO类\n",
    "- [X] 文件输入输出\n",
    "- [X] string流"
   ]
  },
  {
   "cell_type": "markdown",
   "metadata": {
    "collapsed": true
   },
   "source": [
    "## IO类"
   ]
  },
  {
   "cell_type": "markdown",
   "metadata": {},
   "source": [
    "- iostream定义了用于读写流的基本类型\n",
    "- fstream定义了命名文件的类型\n",
    "- sstream定义了读写内存string对象的类型"
   ]
  },
  {
   "cell_type": "markdown",
   "metadata": {},
   "source": [
    "** 类型间的关系 **"
   ]
  },
  {
   "cell_type": "markdown",
   "metadata": {},
   "source": [
    "- 标准库使我们能忽略这些不同类型的流之间的差异，这是通过继承机制实现的。"
   ]
  },
  {
   "cell_type": "markdown",
   "metadata": {},
   "source": [
    "### IO对象无拷贝和赋值"
   ]
  },
  {
   "cell_type": "markdown",
   "metadata": {},
   "source": [
    "### 条件状态"
   ]
  },
  {
   "cell_type": "markdown",
   "metadata": {},
   "source": [
    "- IO操作一个与生俱来的问题是可能发生错误。一些错误是可恢复的，而其他错误则是发生在系统深处，已经超出了应用程序可以修正的范围。"
   ]
  },
  {
   "cell_type": "markdown",
   "metadata": {},
   "source": [
    "** 查询流的状态 **"
   ]
  },
  {
   "cell_type": "markdown",
   "metadata": {},
   "source": [
    "** 管理条件状态 **"
   ]
  },
  {
   "cell_type": "markdown",
   "metadata": {},
   "source": [
    "```C++\n",
    "istream& func(istream &is)\n",
    "{\n",
    "    string mm;\n",
    "    while(is >> mm)\n",
    "        cout<<mm<<endl; \n",
    "    is.clear();//对流进行置位的函数\n",
    "    return is;\n",
    "}\n",
    "```"
   ]
  },
  {
   "cell_type": "markdown",
   "metadata": {},
   "source": [
    "### 管理输出缓冲"
   ]
  },
  {
   "cell_type": "markdown",
   "metadata": {},
   "source": [
    "** 刷新输出缓冲区 **"
   ]
  },
  {
   "cell_type": "markdown",
   "metadata": {},
   "source": [
    "- 使用操作符endl，他完成换行并刷新缓冲区的工作。IO库中还有两个类似的操作符：flush和ends。flush刷新缓冲区，但是不输出任何额外的字符，ends向缓冲区插入一个空子符，然后刷新缓冲区。\n",
    "\n",
    "```C++\n",
    "cout << \"Hi!\" << endl;\n",
    "cout << \"Hi!\" << flush;\n",
    "cout << \"Hi!\" << ends;\n",
    "```"
   ]
  },
  {
   "cell_type": "markdown",
   "metadata": {},
   "source": [
    "** unitbuf **"
   ]
  },
  {
   "cell_type": "markdown",
   "metadata": {},
   "source": [
    "- 如果想在每次输出操作后都刷新缓冲区，我们可以使用unitbuf操作符，它告诉流在接下来的每次写操作之后都进行一次flush操作，而nounitbuf操作符则是重置流，使其恢复使用正确的系统管理的缓冲区刷新机制\n",
    "\n",
    "```C++\n",
    "cout << unitbuf;\n",
    "cout << nounitbuf;\n",
    "```"
   ]
  },
  {
   "cell_type": "markdown",
   "metadata": {},
   "source": [
    "** 关联输入和输出流 **"
   ]
  },
  {
   "cell_type": "markdown",
   "metadata": {},
   "source": [
    "## 文件输入和输出"
   ]
  },
  {
   "cell_type": "markdown",
   "metadata": {},
   "source": [
    "- 头文件fatream给定了三个类型来支持文件IO：ifstream从一个给定文件读取数据，ofstream向一个给定文件写入数据"
   ]
  },
  {
   "cell_type": "markdown",
   "metadata": {},
   "source": [
    "### 使用文件流对象"
   ]
  },
  {
   "cell_type": "markdown",
   "metadata": {},
   "source": [
    "- 使用fstream代替iostream&\n",
    "\n",
    "```C++\n",
    "    ifstream input(argv[1]);\n",
    "    ofstream output(argv[2]);\n",
    "    Sales_data total;\n",
    "    if(read(cin, total)){\n",
    "        Sales_data trans;\n",
    "        while(read(cin, trans)){\n",
    "            if(total.isbn() == trans.isbn()){\n",
    "                total.combine(trans);\n",
    "                print(cout, total) << endl;\n",
    "            }else{\n",
    "                print(cout, total) << endl;\n",
    "                total = trans;\n",
    "            }\n",
    "        }\n",
    "        print(cout, total) << endl;\n",
    "    }else{\n",
    "        cerr << \"NO data?!\" << endl;\n",
    "    }\n",
    "```    "
   ]
  },
  {
   "cell_type": "markdown",
   "metadata": {},
   "source": [
    "** 成员函数的open和close **"
   ]
  },
  {
   "cell_type": "markdown",
   "metadata": {},
   "source": [
    "```C++\n",
    "ifstream in(ifile);\n",
    "ofstream out;\n",
    "out.open(ifile + \".copy\");  //打开指定文件\n",
    "\n",
    "in.close();\n",
    "in.open(ifile + “2”);  //打开另一个文件爱呢\n",
    "```"
   ]
  },
  {
   "cell_type": "code",
   "execution_count": 3,
   "metadata": {},
   "outputs": [
    {
     "name": "stdout",
     "output_type": "stream",
     "text": [
      "Writing ../../Code/C++PrimerCode/chapter8/4.cpp\n"
     ]
    }
   ],
   "source": [
    "%%writefile ../../Code/C++PrimerCode/chapter8/4.cpp\n",
    "/*\n",
    " * This code is writed by htfeng.\n",
    " *\n",
    " * \"Copyright (c) 2017 by Objectwrite.\"\n",
    " * Date: 2017-08-30\n",
    " * Time: 10:00am\n",
    " *\n",
    " *  The code is the answer to exercise 4 of the eighth chapter about the book \"C++ Primer, Fifth Edition\".\n",
    " *\n",
    " * If you have any question,please contact me.\n",
    " *\n",
    " * Email:1054708869@qq.com\n",
    "*/\n",
    "\n",
    "#include<iostream>\n",
    "#include<fstream>\n",
    "#include<sstream>\n",
    "#include<string>\n",
    "\n",
    "#include<vector>\n",
    "using namespace std;\n",
    "\n",
    "int main(int argc, char**argv)\n",
    "{\n",
    "   \n",
    "    string infile = \"1.txt\";\n",
    "    vector<string> vec;\n",
    "    ifstream in(infile);\n",
    "    if (in)\n",
    "    {\n",
    "        string buf;\n",
    "        while (getline(in,buf))\n",
    "        {\n",
    "            vec.push_back(buf);\n",
    "        }\n",
    "    }\n",
    "    else\n",
    "    {\n",
    "        cerr<<\"cannot open this file: \"<<infile<<endl;\n",
    "    }\n",
    "    for (int i = 0;i < vec.size();++i)\n",
    "    {\n",
    "        cout<<vec[i]<<endl;\n",
    "    }\n",
    "\n",
    "    return 0;\n",
    "}"
   ]
  },
  {
   "cell_type": "markdown",
   "metadata": {},
   "source": [
    "### 文件模式"
   ]
  },
  {
   "cell_type": "code",
   "execution_count": 5,
   "metadata": {},
   "outputs": [
    {
     "name": "stdout",
     "output_type": "stream",
     "text": [
      "Overwriting ../../Code/C++PrimerCode/chapter8/7.cpp\n"
     ]
    }
   ],
   "source": [
    "%%writefile ../../Code/C++PrimerCode/chapter8/7.cpp\n",
    "/*\n",
    " * This code is writed by htfeng.\n",
    " *\n",
    " * \"Copyright (c) 2017 by Objectwrite.\"\n",
    " * Date: 2017-08-30\n",
    " * Time: 10:00am\n",
    " *\n",
    " *  The code is the answer to exercise 7 of the eighth chapter about the book \"C++ Primer, Fifth Edition\".\n",
    " *\n",
    " * If you have any question,please contact me.\n",
    " *\n",
    " * Email:1054708869@qq.com\n",
    "*/\n",
    "\n",
    "#include \"Sales_data.h\"\n",
    "\n",
    "int main(int argc, char ** argv){\n",
    "    ifstream input(argv[1]);\n",
    "    ofstream output(argv[2],ofstream::app);\n",
    "    Sales_data total;\n",
    "    if(read(input, total)){\n",
    "        Sales_data trans;\n",
    "        while(read(input, trans)){\n",
    "            if(total.isbn() == trans.isbn()){\n",
    "                total.combine(trans);\n",
    "                print(cout, total) << endl;\n",
    "            }else{\n",
    "                print(cout, total) << endl;\n",
    "                total = trans;\n",
    "            }\n",
    "        }\n",
    "        print(output, total) << endl;\n",
    "    }else{\n",
    "        cerr << \"NO data?!\" << endl;\n",
    "    }\n",
    "    return 0;\n",
    "}"
   ]
  },
  {
   "cell_type": "markdown",
   "metadata": {},
   "source": [
    "## string流"
   ]
  },
  {
   "cell_type": "markdown",
   "metadata": {},
   "source": [
    "- sstream头文件定义了三个类型来支持内存IO，这些类型可以向string写入数据，从string读取数据，就像string是一个IO流一样\n",
    "- istringstream从string读取数据，ostringstream向string写入数据\n",
    "- 而头文件stringstream即可读也可写"
   ]
  },
  {
   "cell_type": "markdown",
   "metadata": {},
   "source": [
    "### 使用istringstream"
   ]
  },
  {
   "cell_type": "markdown",
   "metadata": {},
   "source": [
    "- 当我们的某些工作是对正行文本进行处理，而其他一些工作是处理行内的单个单词时，通常使用istringstream"
   ]
  },
  {
   "cell_type": "code",
   "execution_count": 7,
   "metadata": {},
   "outputs": [
    {
     "name": "stdout",
     "output_type": "stream",
     "text": [
      "Overwriting ../../Code/C++PrimerCode/chapter8/10.cpp\n"
     ]
    }
   ],
   "source": [
    "%%writefile ../../Code/C++PrimerCode/chapter8/10.cpp\n",
    "/*\n",
    " * This code is writed by htfeng.\n",
    " *\n",
    " * \"Copyright (c) 2017 by Objectwrite.\"\n",
    " * Date: 2017-08-30\n",
    " * Time: 10:00am\n",
    " *\n",
    " *  The code is the answer to exercise 10 of the eighth chapter about the book \"C++ Primer, Fifth Edition\".\n",
    " *\n",
    " * If you have any question,please contact me.\n",
    " *\n",
    " * Email:1054708869@qq.com\n",
    "*/\n",
    "#include <iostream>\n",
    "#include <fstream>\n",
    "#include <sstream>\n",
    "#include <vector>\n",
    "#include <string>\n",
    "\n",
    "using namespace::std;\n",
    "\n",
    "int main(int argc,char **argv){\n",
    "\tstring infile = \"1.txt\";\n",
    "\tvector<string> vec;\n",
    "\tifstream in(argv[1]);\n",
    "\n",
    "\tif(in){\n",
    "\t\tstring buf;\n",
    "\t\twhile(getline(in, buf)){\n",
    "\t\t\tvec.push_back(buf);\n",
    "\t\t}\n",
    "\t}else{\n",
    "\t\tcerr << \"cannot open this file: \" << infile << endl;\n",
    "\t}\n",
    "\n",
    "\tfor(int i = 0; i < vec.size(); ++i){\n",
    "\t\tistringstream iss(vec[i]);\n",
    "\t\tstring word;\n",
    "\t\twhile(iss >> word){\n",
    "\t\t\tcout << word << endl;\n",
    "\t\t}\n",
    "\t}\n",
    "\treturn 0;\n",
    "}"
   ]
  },
  {
   "cell_type": "markdown",
   "metadata": {},
   "source": [
    "### 使用ostringstream"
   ]
  },
  {
   "cell_type": "code",
   "execution_count": null,
   "metadata": {
    "collapsed": true
   },
   "outputs": [],
   "source": []
  }
 ],
 "metadata": {
  "kernelspec": {
   "display_name": "Python 3",
   "language": "python",
   "name": "python3"
  },
  "language_info": {
   "codemirror_mode": {
    "name": "ipython",
    "version": 3
   },
   "file_extension": ".py",
   "mimetype": "text/x-python",
   "name": "python",
   "nbconvert_exporter": "python",
   "pygments_lexer": "ipython3",
   "version": "3.6.1"
  }
 },
 "nbformat": 4,
 "nbformat_minor": 2
}
