{
 "cells": [
  {
   "cell_type": "markdown",
   "metadata": {},
   "source": [
    "# 拷贝控制\n",
    "\n",
    "- [ ] 拷贝、赋值与销毁 \n",
    "- [ ] 拷贝控制和资源管理\n",
    "- [ ] 交换操作\n",
    "- [ ] 拷贝控制示例\n",
    "- [ ] 动态内存管理类\n",
    "- [ ] 对象移动"
   ]
  },
  {
   "cell_type": "markdown",
   "metadata": {
    "collapsed": true
   },
   "source": [
    "## 拷贝、赋值与销毁"
   ]
  },
  {
   "cell_type": "markdown",
   "metadata": {},
   "source": [
    "### 拷贝构造函数"
   ]
  },
  {
   "cell_type": "markdown",
   "metadata": {},
   "source": [
    "```C++\n",
    "class Foo{\n",
    "public:\n",
    "    Foo();            //默认构造函数\n",
    "    Foo(const Foo&);  //拷贝构造函数\n",
    "    //\n",
    "}\n",
    "```\n",
    "\n",
    "- 拷贝构造函数的第一个参数必须是引用类型"
   ]
  },
  {
   "cell_type": "markdown",
   "metadata": {},
   "source": [
    "** 合成拷贝构造函数 **"
   ]
  },
  {
   "cell_type": "markdown",
   "metadata": {},
   "source": [
    "- 如果我们没有为一个类定义拷贝构造函数，编译器会为我们定义一个\n",
    "- 合成拷贝构造函数用来阻止我们拷贝该类类型的对象"
   ]
  },
  {
   "cell_type": "markdown",
   "metadata": {},
   "source": [
    "** 拷贝初始化 **"
   ]
  },
  {
   "cell_type": "markdown",
   "metadata": {},
   "source": [
    "```C++\n",
    "string dots(10, '.');              //直接初始化\n",
    "string s(dots);                    //直接初始化\n",
    "string s2 = dots;                  //拷贝初始化\n",
    "string null_book = \"99999999\";     //拷贝初始化\n",
    "string nines = string(100, '9');   //拷贝初始化\n",
    "```"
   ]
  },
  {
   "cell_type": "markdown",
   "metadata": {},
   "source": [
    "** 参数和返回值 **"
   ]
  },
  {
   "cell_type": "markdown",
   "metadata": {},
   "source": [
    "** 拷贝初始化的限制 **"
   ]
  },
  {
   "cell_type": "markdown",
   "metadata": {},
   "source": [
    "- 如果我们使用的初始化值要求通过一个explicit的构造函数来进行类型转换，那么使用拷贝初始化就不是无关紧要的了\n",
    "\n",
    "```C++\n",
    "vector<int> v1(10);    //true\n",
    "vector<int> v2 = 10;  //false\n",
    "void f(vector<int>);   \n",
    "f(10);              //false\n",
    "f(vector<int>(10));   //true\n",
    "```"
   ]
  },
  {
   "cell_type": "markdown",
   "metadata": {},
   "source": [
    "** 编译器可以绕过拷贝构造函数 **"
   ]
  },
  {
   "cell_type": "markdown",
   "metadata": {},
   "source": [
    "- 知识点1：在定义一个类时，我们可以显式或隐式的定义在此类型的对象拷贝、赋值、移动、销毁是做什么，主要通过五种特殊的成员函数来完成这些操作：拷贝构造函数、拷贝复制运算符、移动构造函数、移动复制运算符。析构函数\n",
    "- 知识点2：拷贝和移动构造函数定义了当用同类型的一个对象初始化本对象时做什么。拷贝和移动赋值运算符定义了将一个对象赋予同类型的另一个对象时做什么。析构函数定义了当此类型对象销毁时的操作\n",
    "- 知识点3：若一个类没有显式的定义这五个操作，编译器会自动为其定义缺失的操作，在定义一个类时，拷贝控制操作是非常的重要的\n",
    "- 知识点4：拷贝构造函数：本身是一个构造函数，其参数是一个自身类类型的引用，且任何额外参数皆有默认值\n",
    "- 知识点5：每个成员的类型决定了它的拷贝方式，对于类类型，将调用其拷贝构造函数进行拷贝，对于内置类型，则会直接拷贝，对于数组的拷贝是逐个元素的拷贝，若数组的元素是类类型，则使用拷贝构造函数来拷贝\n",
    "- 知识点6：直接初始化：一对小括号加参数。拷贝初始化：等号右侧对象拷贝到正在创建的对象中，如果需要还需进行类型转换(拷贝初始化没有=号的情况：将一个对象作为实参传递给一个非引用类型的形参时、从一个返回类型非引用类型的函数返回一个对象、用花括号初始化列表初始化一个数组的元素或一个聚合类的成员)\n",
    "- 知识点7：函数的调用中，非引用类型的参数都要进行拷贝初始化。非引用类型的返回值也会被用来初始化调用方的结果"
   ]
  },
  {
   "cell_type": "markdown",
   "metadata": {},
   "source": [
    "### 拷贝赋值运算符"
   ]
  },
  {
   "cell_type": "markdown",
   "metadata": {},
   "source": [
    "** 重载赋值运算符 **"
   ]
  },
  {
   "cell_type": "markdown",
   "metadata": {},
   "source": [
    "- 重载运算符本质上是函数，其名字由operator关键字后接表示要定义的运算符的符号组成，因此赋值运算符就是一个名为operator=的函数"
   ]
  },
  {
   "cell_type": "markdown",
   "metadata": {},
   "source": [
    "```C++\n",
    "class Foo{\n",
    "public:\n",
    "    Foo& operator=(cosnt Foo&); //赋值运算符\n",
    "    //....\n",
    "};\n",
    "```"
   ]
  },
  {
   "cell_type": "markdown",
   "metadata": {},
   "source": [
    "** 合成拷贝赋值运算符 **"
   ]
  },
  {
   "cell_type": "markdown",
   "metadata": {},
   "source": [
    "```C++\n",
    "Sales_data& Sales_data::operator=(const Sales_data &rha){\n",
    "    bookNo = rhs.bookNo;\n",
    "    units_sold = rhs.units_sold;\n",
    "    revenue = rhs.revenue;\n",
    "    return *this;\n",
    "}\n",
    "```"
   ]
  },
  {
   "cell_type": "markdown",
   "metadata": {},
   "source": [
    "- 知识点1：拷贝复制运算符，其实就是一个名为 operator= 的函数(operator后加表示要定义的运算符的符号)，重载运算符，有返回类型和参数，返回类型通常是左侧运算符的引用\n",
    "- 知识点2：若在类内未显式定义，则编译器会自动生成合成拷贝赋值运算符，它主要是将运算符右侧的所有非static成员赋给左侧元算对象对应成员(或是用来禁止该类型对象的赋值)"
   ]
  },
  {
   "cell_type": "markdown",
   "metadata": {},
   "source": [
    "### 析构函数"
   ]
  },
  {
   "cell_type": "markdown",
   "metadata": {},
   "source": [
    "- 析构函数是类的一个成员函数，名字由波浪号按类名构成，他没有返回值，也不接受参数\n",
    "\n",
    "```C++\n",
    "class Foo{\n",
    "public:\n",
    "    ~Foo();  //析构函数\n",
    "    //...\n",
    "};\n",
    "```"
   ]
  },
  {
   "cell_type": "markdown",
   "metadata": {},
   "source": [
    "** 析构函数完成什么工作 **"
   ]
  },
  {
   "cell_type": "markdown",
   "metadata": {},
   "source": [
    "- 构造函数中，成员初始化是在函数体执行之前完成的，且按照他们在类内出现的顺序进行初始化，析构函数中，首先执行函数体，然后销毁成员，成员按照初始化顺序的逆序销毁，所以析构函数可以执行设计者想要的任何收尾工作，再销毁成员\n",
    "- 成员的销毁完全依赖于其本身的类型，类类型需要执行自身的析构函数，而内置类型则什么也不做(无析构函数)"
   ]
  },
  {
   "cell_type": "markdown",
   "metadata": {},
   "source": [
    "** 什么时候会调用析构函数 **"
   ]
  },
  {
   "cell_type": "markdown",
   "metadata": {},
   "source": [
    "调用析构函数的情况：\n",
    "- 1：变量离开作用域时被销毁\n",
    "- 2：当对象被销毁，其成员被销毁\n",
    "- 3：容器被销毁，成员被销毁\n",
    "- 4：动态分配的对象，指针被delete时\n",
    "- 5：临时对象，创建的完整表达式结束时"
   ]
  },
  {
   "cell_type": "markdown",
   "metadata": {},
   "source": [
    "- 由于析构函数自动运行，我们的程序可以按需分配资源，无需担心何时释放这些资源"
   ]
  },
  {
   "cell_type": "markdown",
   "metadata": {},
   "source": [
    "** 合成构造函数 **\n",
    "\n",
    "- 当一个类未定义自己的析构函数时，编译器会为他定义一个合成析构函数\n"
   ]
  },
  {
   "cell_type": "code",
   "execution_count": 1,
   "metadata": {},
   "outputs": [
    {
     "name": "stdout",
     "output_type": "stream",
     "text": [
      "Writing ../../Code/C++PrimerCode/chapter13/13.cpp\n"
     ]
    }
   ],
   "source": [
    "%%writefile ../../Code/C++PrimerCode/chapter13/13.cpp\n",
    "/*\n",
    " * This code is writed by htfeng.\n",
    " *\n",
    " * \"Copyright (c) 2017 by Objectwrite.\"\n",
    " * Date: 2017-09-26\n",
    " * Time: 21：17pm\n",
    " *\n",
    " *  The code is the answer to exercise 13 of the thirteen chapter about the book \"C++ Primer, Fifth Edition\".\n",
    " *\n",
    " * If you have any question,please contact me.\n",
    " *\n",
    " * Email:1054708869@qq.com\n",
    "*/\n",
    "#include<iostream>    \n",
    "#include<string>    \n",
    "#include<fstream>  \n",
    "#include<list>  \n",
    "#include<vector>   \n",
    "#include<map>    \n",
    "#include<set>  \n",
    "#include<cctype>//ctype无法打开，包含tolower()函数和ispunct函数  \n",
    "#include<algorithm>  \n",
    "#include<utility>//保存pair的头文件  \n",
    "#include<memory>  \n",
    "using namespace std;  \n",
    "  \n",
    "class A  \n",
    "{  \n",
    "public:  \n",
    "    A(int m):val(m)//默认构造函数  \n",
    "    {  \n",
    "        cout<<\"默认构造函数\"<<endl;  \n",
    "    }  \n",
    "    A& operator= (const A& a) //拷贝赋值运算符  \n",
    "    {  \n",
    "        val = a.val;  \n",
    "        cout<<\"拷贝复制运算符\"<<endl;  \n",
    "        return *this;  \n",
    "    }  \n",
    "    ~A()//析构函数  \n",
    "    {  \n",
    "        cout<<\"析构函数\"<<endl;  \n",
    "    }  \n",
    "    int val;  \n",
    "  \n",
    "};  \n",
    "  \n",
    "void show1(A& a)  \n",
    "{  \n",
    "    cout<<a.val<<endl;  \n",
    "}  \n",
    "void show2(A a)  \n",
    "{  \n",
    "    cout<<a.val<<endl;  \n",
    "}  \n",
    "int main(int argc, char**argv)    \n",
    "{  \n",
    "    //将A的对象当作引用或者非引用传递  \n",
    "    A a(10);  \n",
    "    A b(5);  \n",
    "    A c(2);  \n",
    "    c = a;  \n",
    "    show1(a);  \n",
    "    show2(b);  \n",
    "    show2(c);  \n",
    "    //存放于容器中  \n",
    "    vector<A> m;  \n",
    "    m.push_back(a);  \n",
    "    //动态分配  \n",
    "    A *d = new A(5);  \n",
    "    show2(*d);  \n",
    "    delete d;  \n",
    "    return 0;  \n",
    "}  "
   ]
  },
  {
   "cell_type": "markdown",
   "metadata": {},
   "source": [
    "### 三/五法则"
   ]
  },
  {
   "cell_type": "markdown",
   "metadata": {},
   "source": [
    "- 三个基本操作可以控制类的拷贝操作：拷贝构造函数、拷贝赋值运算符和析构函数\n",
    "- 新标准下，一个类还可以定义一个移动构造函数和一个移动赋值函数"
   ]
  },
  {
   "cell_type": "markdown",
   "metadata": {},
   "source": [
    "** 需要析构函数的类也需要拷贝和赋值操作 **\n",
    "\n",
    "- 一个类的构造函数中动态分配内存，合成析构函数不会delete一个指针呢数据成员，因此需要定义一个析构函数来释放构造函数分配的内存"
   ]
  },
  {
   "cell_type": "markdown",
   "metadata": {},
   "source": [
    "** 需要拷贝操作的类也需要赋值操作，反之则亦然 **"
   ]
  },
  {
   "cell_type": "code",
   "execution_count": 3,
   "metadata": {},
   "outputs": [
    {
     "name": "stdout",
     "output_type": "stream",
     "text": [
      "Overwriting ../../Code/C++PrimerCode/chapter13/17.cpp\n"
     ]
    }
   ],
   "source": [
    "%%writefile ../../Code/C++PrimerCode/chapter13/17.cpp\n",
    "/*\n",
    " * This code is writed by htfeng.\n",
    " *\n",
    " * \"Copyright (c) 2017 by Objectwrite.\"\n",
    " * Date: 2017-09-26\n",
    " * Time: 21：40pm\n",
    " *\n",
    " *  The code is the answer to exercise 17 of the thirteen chapter about the book \"C++ Primer, Fifth Edition\".\n",
    " *\n",
    " * If you have any question,please contact me.\n",
    " *\n",
    " * Email:1054708869@qq.com\n",
    "*/\n",
    "#include <iostream>\n",
    "#include <string>\n",
    "\n",
    "using namespace std;\n",
    "\n",
    "class numbered {\n",
    "public:\n",
    "    numbered(){\n",
    "    \tstatic int val1 = 10;\n",
    "    \tval = val1 + 10;\n",
    "    \tcout << \"moren\" << endl;\n",
    "    }\n",
    "\n",
    "    // numbered(numbered& a){\n",
    "    // \tval = a.val + 5;\n",
    "    // \tcout << \"kaobei\" << endl;\n",
    "    // }\n",
    "\n",
    "    int val;\n",
    "};\n",
    "\n",
    "void show1(numbered s){\n",
    "\tcout << s.val << endl;\n",
    "}\n",
    "\n",
    "void show2(numbered& s){\n",
    "\tcout << s.val << endl;\n",
    "}\n",
    "\n",
    "int main(int argc, char **argv){\n",
    "\tnumbered a, b = a,c = b;\n",
    "\tshow1(a);\n",
    "\tshow1(b);\n",
    "\tshow1(c);\n",
    "\n",
    "\tshow2(a);\n",
    "\tshow2(b);\n",
    "\tshow2(c);\n",
    "\n",
    "\treturn 0;\n",
    "}"
   ]
  },
  {
   "cell_type": "code",
   "execution_count": null,
   "metadata": {
    "collapsed": true
   },
   "outputs": [],
   "source": []
  }
 ],
 "metadata": {
  "kernelspec": {
   "display_name": "Python 3",
   "language": "python",
   "name": "python3"
  },
  "language_info": {
   "codemirror_mode": {
    "name": "ipython",
    "version": 3
   },
   "file_extension": ".py",
   "mimetype": "text/x-python",
   "name": "python",
   "nbconvert_exporter": "python",
   "pygments_lexer": "ipython3",
   "version": "3.6.1"
  }
 },
 "nbformat": 4,
 "nbformat_minor": 2
}
