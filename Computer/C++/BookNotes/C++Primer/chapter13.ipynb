{
 "cells": [
  {
   "cell_type": "markdown",
   "metadata": {},
   "source": [
    "# 拷贝控制\n",
    "\n",
    "- [X] 拷贝、赋值与销毁 \n",
    "- [X] 拷贝控制和资源管理\n",
    "- [X] 交换操作\n",
    "- [ ] 拷贝控制示例\n",
    "- [ ] 动态内存管理类\n",
    "- [ ] 对象移动"
   ]
  },
  {
   "cell_type": "markdown",
   "metadata": {
    "collapsed": true
   },
   "source": [
    "## 拷贝、赋值与销毁"
   ]
  },
  {
   "cell_type": "markdown",
   "metadata": {},
   "source": [
    "### 拷贝构造函数"
   ]
  },
  {
   "cell_type": "markdown",
   "metadata": {},
   "source": [
    "```C++\n",
    "class Foo{\n",
    "public:\n",
    "    Foo();            //默认构造函数\n",
    "    Foo(const Foo&);  //拷贝构造函数\n",
    "    //\n",
    "}\n",
    "```\n",
    "\n",
    "- 拷贝构造函数的第一个参数必须是引用类型"
   ]
  },
  {
   "cell_type": "markdown",
   "metadata": {},
   "source": [
    "** 合成拷贝构造函数 **"
   ]
  },
  {
   "cell_type": "markdown",
   "metadata": {},
   "source": [
    "- 如果我们没有为一个类定义拷贝构造函数，编译器会为我们定义一个\n",
    "- 合成拷贝构造函数用来阻止我们拷贝该类类型的对象"
   ]
  },
  {
   "cell_type": "markdown",
   "metadata": {},
   "source": [
    "** 拷贝初始化 **"
   ]
  },
  {
   "cell_type": "markdown",
   "metadata": {},
   "source": [
    "```C++\n",
    "string dots(10, '.');              //直接初始化\n",
    "string s(dots);                    //直接初始化\n",
    "string s2 = dots;                  //拷贝初始化\n",
    "string null_book = \"99999999\";     //拷贝初始化\n",
    "string nines = string(100, '9');   //拷贝初始化\n",
    "```"
   ]
  },
  {
   "cell_type": "markdown",
   "metadata": {},
   "source": [
    "** 参数和返回值 **"
   ]
  },
  {
   "cell_type": "markdown",
   "metadata": {},
   "source": [
    "** 拷贝初始化的限制 **"
   ]
  },
  {
   "cell_type": "markdown",
   "metadata": {},
   "source": [
    "- 如果我们使用的初始化值要求通过一个explicit的构造函数来进行类型转换，那么使用拷贝初始化就不是无关紧要的了\n",
    "\n",
    "```C++\n",
    "vector<int> v1(10);    //true\n",
    "vector<int> v2 = 10;  //false\n",
    "void f(vector<int>);   \n",
    "f(10);              //false\n",
    "f(vector<int>(10));   //true\n",
    "```"
   ]
  },
  {
   "cell_type": "markdown",
   "metadata": {},
   "source": [
    "** 编译器可以绕过拷贝构造函数 **"
   ]
  },
  {
   "cell_type": "markdown",
   "metadata": {},
   "source": [
    "- 知识点1：在定义一个类时，我们可以显式或隐式的定义在此类型的对象拷贝、赋值、移动、销毁是做什么，主要通过五种特殊的成员函数来完成这些操作：拷贝构造函数、拷贝复制运算符、移动构造函数、移动复制运算符。析构函数\n",
    "- 知识点2：拷贝和移动构造函数定义了当用同类型的一个对象初始化本对象时做什么。拷贝和移动赋值运算符定义了将一个对象赋予同类型的另一个对象时做什么。析构函数定义了当此类型对象销毁时的操作\n",
    "- 知识点3：若一个类没有显式的定义这五个操作，编译器会自动为其定义缺失的操作，在定义一个类时，拷贝控制操作是非常的重要的\n",
    "- 知识点4：拷贝构造函数：本身是一个构造函数，其参数是一个自身类类型的引用，且任何额外参数皆有默认值\n",
    "- 知识点5：每个成员的类型决定了它的拷贝方式，对于类类型，将调用其拷贝构造函数进行拷贝，对于内置类型，则会直接拷贝，对于数组的拷贝是逐个元素的拷贝，若数组的元素是类类型，则使用拷贝构造函数来拷贝\n",
    "- 知识点6：直接初始化：一对小括号加参数。拷贝初始化：等号右侧对象拷贝到正在创建的对象中，如果需要还需进行类型转换(拷贝初始化没有=号的情况：将一个对象作为实参传递给一个非引用类型的形参时、从一个返回类型非引用类型的函数返回一个对象、用花括号初始化列表初始化一个数组的元素或一个聚合类的成员)\n",
    "- 知识点7：函数的调用中，非引用类型的参数都要进行拷贝初始化。非引用类型的返回值也会被用来初始化调用方的结果"
   ]
  },
  {
   "cell_type": "markdown",
   "metadata": {},
   "source": [
    "### 拷贝赋值运算符"
   ]
  },
  {
   "cell_type": "markdown",
   "metadata": {},
   "source": [
    "** 重载赋值运算符 **"
   ]
  },
  {
   "cell_type": "markdown",
   "metadata": {},
   "source": [
    "- 重载运算符本质上是函数，其名字由operator关键字后接表示要定义的运算符的符号组成，因此赋值运算符就是一个名为operator=的函数"
   ]
  },
  {
   "cell_type": "markdown",
   "metadata": {},
   "source": [
    "```C++\n",
    "class Foo{\n",
    "public:\n",
    "    Foo& operator=(cosnt Foo&); //赋值运算符\n",
    "    //....\n",
    "};\n",
    "```"
   ]
  },
  {
   "cell_type": "markdown",
   "metadata": {},
   "source": [
    "** 合成拷贝赋值运算符 **"
   ]
  },
  {
   "cell_type": "markdown",
   "metadata": {},
   "source": [
    "```C++\n",
    "Sales_data& Sales_data::operator=(const Sales_data &rha){\n",
    "    bookNo = rhs.bookNo;\n",
    "    units_sold = rhs.units_sold;\n",
    "    revenue = rhs.revenue;\n",
    "    return *this;\n",
    "}\n",
    "```"
   ]
  },
  {
   "cell_type": "markdown",
   "metadata": {},
   "source": [
    "- 知识点1：拷贝复制运算符，其实就是一个名为 operator= 的函数(operator后加表示要定义的运算符的符号)，重载运算符，有返回类型和参数，返回类型通常是左侧运算符的引用\n",
    "- 知识点2：若在类内未显式定义，则编译器会自动生成合成拷贝赋值运算符，它主要是将运算符右侧的所有非static成员赋给左侧元算对象对应成员(或是用来禁止该类型对象的赋值)"
   ]
  },
  {
   "cell_type": "markdown",
   "metadata": {},
   "source": [
    "### 析构函数"
   ]
  },
  {
   "cell_type": "markdown",
   "metadata": {},
   "source": [
    "- 析构函数是类的一个成员函数，名字由波浪号按类名构成，他没有返回值，也不接受参数\n",
    "\n",
    "```C++\n",
    "class Foo{\n",
    "public:\n",
    "    ~Foo();  //析构函数\n",
    "    //...\n",
    "};\n",
    "```"
   ]
  },
  {
   "cell_type": "markdown",
   "metadata": {},
   "source": [
    "** 析构函数完成什么工作 **"
   ]
  },
  {
   "cell_type": "markdown",
   "metadata": {},
   "source": [
    "- 构造函数中，成员初始化是在函数体执行之前完成的，且按照他们在类内出现的顺序进行初始化，析构函数中，首先执行函数体，然后销毁成员，成员按照初始化顺序的逆序销毁，所以析构函数可以执行设计者想要的任何收尾工作，再销毁成员\n",
    "- 成员的销毁完全依赖于其本身的类型，类类型需要执行自身的析构函数，而内置类型则什么也不做(无析构函数)"
   ]
  },
  {
   "cell_type": "markdown",
   "metadata": {},
   "source": [
    "** 什么时候会调用析构函数 **"
   ]
  },
  {
   "cell_type": "markdown",
   "metadata": {},
   "source": [
    "调用析构函数的情况：\n",
    "- 1：变量离开作用域时被销毁\n",
    "- 2：当对象被销毁，其成员被销毁\n",
    "- 3：容器被销毁，成员被销毁\n",
    "- 4：动态分配的对象，指针被delete时\n",
    "- 5：临时对象，创建的完整表达式结束时"
   ]
  },
  {
   "cell_type": "markdown",
   "metadata": {},
   "source": [
    "- 由于析构函数自动运行，我们的程序可以按需分配资源，无需担心何时释放这些资源"
   ]
  },
  {
   "cell_type": "markdown",
   "metadata": {},
   "source": [
    "** 合成构造函数 **\n",
    "\n",
    "- 当一个类未定义自己的析构函数时，编译器会为他定义一个合成析构函数\n"
   ]
  },
  {
   "cell_type": "code",
   "execution_count": 1,
   "metadata": {},
   "outputs": [
    {
     "name": "stdout",
     "output_type": "stream",
     "text": [
      "Writing ../../Code/C++PrimerCode/chapter13/13.cpp\n"
     ]
    }
   ],
   "source": [
    "%%writefile ../../Code/C++PrimerCode/chapter13/13.cpp\n",
    "/*\n",
    " * This code is writed by htfeng.\n",
    " *\n",
    " * \"Copyright (c) 2017 by Objectwrite.\"\n",
    " * Date: 2017-09-26\n",
    " * Time: 21：17pm\n",
    " *\n",
    " *  The code is the answer to exercise 13 of the thirteen chapter about the book \"C++ Primer, Fifth Edition\".\n",
    " *\n",
    " * If you have any question,please contact me.\n",
    " *\n",
    " * Email:1054708869@qq.com\n",
    "*/\n",
    "#include<iostream>    \n",
    "#include<string>    \n",
    "#include<fstream>  \n",
    "#include<list>  \n",
    "#include<vector>   \n",
    "#include<map>    \n",
    "#include<set>  \n",
    "#include<cctype>//ctype无法打开，包含tolower()函数和ispunct函数  \n",
    "#include<algorithm>  \n",
    "#include<utility>//保存pair的头文件  \n",
    "#include<memory>  \n",
    "using namespace std;  \n",
    "  \n",
    "class A  \n",
    "{  \n",
    "public:  \n",
    "    A(int m):val(m)//默认构造函数  \n",
    "    {  \n",
    "        cout<<\"默认构造函数\"<<endl;  \n",
    "    }  \n",
    "    A& operator= (const A& a) //拷贝赋值运算符  \n",
    "    {  \n",
    "        val = a.val;  \n",
    "        cout<<\"拷贝复制运算符\"<<endl;  \n",
    "        return *this;  \n",
    "    }  \n",
    "    ~A()//析构函数  \n",
    "    {  \n",
    "        cout<<\"析构函数\"<<endl;  \n",
    "    }  \n",
    "    int val;  \n",
    "  \n",
    "};  \n",
    "  \n",
    "void show1(A& a)  \n",
    "{  \n",
    "    cout<<a.val<<endl;  \n",
    "}  \n",
    "void show2(A a)  \n",
    "{  \n",
    "    cout<<a.val<<endl;  \n",
    "}  \n",
    "int main(int argc, char**argv)    \n",
    "{  \n",
    "    //将A的对象当作引用或者非引用传递  \n",
    "    A a(10);  \n",
    "    A b(5);  \n",
    "    A c(2);  \n",
    "    c = a;  \n",
    "    show1(a);  \n",
    "    show2(b);  \n",
    "    show2(c);  \n",
    "    //存放于容器中  \n",
    "    vector<A> m;  \n",
    "    m.push_back(a);  \n",
    "    //动态分配  \n",
    "    A *d = new A(5);  \n",
    "    show2(*d);  \n",
    "    delete d;  \n",
    "    return 0;  \n",
    "}  "
   ]
  },
  {
   "cell_type": "markdown",
   "metadata": {},
   "source": [
    "### 三/五法则"
   ]
  },
  {
   "cell_type": "markdown",
   "metadata": {},
   "source": [
    "- 三个基本操作可以控制类的拷贝操作：拷贝构造函数、拷贝赋值运算符和析构函数\n",
    "- 新标准下，一个类还可以定义一个移动构造函数和一个移动赋值函数"
   ]
  },
  {
   "cell_type": "markdown",
   "metadata": {},
   "source": [
    "** 需要析构函数的类也需要拷贝和赋值操作 **\n",
    "\n",
    "- 一个类的构造函数中动态分配内存，合成析构函数不会delete一个指针呢数据成员，因此需要定义一个析构函数来释放构造函数分配的内存"
   ]
  },
  {
   "cell_type": "markdown",
   "metadata": {},
   "source": [
    "** 需要拷贝操作的类也需要赋值操作，反之则亦然 **"
   ]
  },
  {
   "cell_type": "code",
   "execution_count": 3,
   "metadata": {},
   "outputs": [
    {
     "name": "stdout",
     "output_type": "stream",
     "text": [
      "Overwriting ../../Code/C++PrimerCode/chapter13/17.cpp\n"
     ]
    }
   ],
   "source": [
    "%%writefile ../../Code/C++PrimerCode/chapter13/17.cpp\n",
    "/*\n",
    " * This code is writed by htfeng.\n",
    " *\n",
    " * \"Copyright (c) 2017 by Objectwrite.\"\n",
    " * Date: 2017-09-26\n",
    " * Time: 21：40pm\n",
    " *\n",
    " *  The code is the answer to exercise 17 of the thirteen chapter about the book \"C++ Primer, Fifth Edition\".\n",
    " *\n",
    " * If you have any question,please contact me.\n",
    " *\n",
    " * Email:1054708869@qq.com\n",
    "*/\n",
    "#include <iostream>\n",
    "#include <string>\n",
    "\n",
    "using namespace std;\n",
    "\n",
    "class numbered {\n",
    "public:\n",
    "    numbered(){\n",
    "    \tstatic int val1 = 10;\n",
    "    \tval = val1 + 10;\n",
    "    \tcout << \"moren\" << endl;\n",
    "    }\n",
    "\n",
    "    // numbered(numbered& a){\n",
    "    // \tval = a.val + 5;\n",
    "    // \tcout << \"kaobei\" << endl;\n",
    "    // }\n",
    "\n",
    "    int val;\n",
    "};\n",
    "\n",
    "void show1(numbered s){\n",
    "\tcout << s.val << endl;\n",
    "}\n",
    "\n",
    "void show2(numbered& s){\n",
    "\tcout << s.val << endl;\n",
    "}\n",
    "\n",
    "int main(int argc, char **argv){\n",
    "\tnumbered a, b = a,c = b;\n",
    "\tshow1(a);\n",
    "\tshow1(b);\n",
    "\tshow1(c);\n",
    "\n",
    "\tshow2(a);\n",
    "\tshow2(b);\n",
    "\tshow2(c);\n",
    "\n",
    "\treturn 0;\n",
    "}"
   ]
  },
  {
   "cell_type": "markdown",
   "metadata": {
    "collapsed": true
   },
   "source": [
    "### 使用=default"
   ]
  },
  {
   "cell_type": "markdown",
   "metadata": {},
   "source": [
    "- 我们可以通过拷贝控制成员定义为=default来显示地要求编译器生成合成的版本\n",
    "\n",
    "```C++\n",
    "class Sales_data{\n",
    "public:\n",
    "    Sales_data() = default;\n",
    "    Sales_data(const Sales_data&) = default;\n",
    "    Sales_data& operator=(const Sales_data &);\n",
    "    ~Sales_data() = default;\n",
    "};\n",
    "\n",
    "Sales_data() Sales_data::operator=(const Sales_data&) = default;\n",
    "```\n",
    "\n"
   ]
  },
  {
   "cell_type": "markdown",
   "metadata": {},
   "source": [
    "- 当我们在类内用=default修饰成员的声明时，合成的函数将隐式的声明为内联的\n",
    "- 我们只能对具有合成版本的成员函数使用=default"
   ]
  },
  {
   "cell_type": "markdown",
   "metadata": {},
   "source": [
    "### 阻止拷贝"
   ]
  },
  {
   "cell_type": "markdown",
   "metadata": {},
   "source": [
    "** 定义删除的函数 **"
   ]
  },
  {
   "cell_type": "markdown",
   "metadata": {},
   "source": [
    "- 在新标准下，我们可以通过将拷贝构造函数和拷贝赋值运算符定义为删除的函数来阻止拷贝\n",
    "- 删除的函数是这样的一种函数，虽然声明了他们，但不能以任何方式使用他们，\n",
    "- 在函数的参数列表后面加上=delete来指出我们希望将它定义为删除的："
   ]
  },
  {
   "cell_type": "markdown",
   "metadata": {},
   "source": [
    "```C++\n",
    "struct NoCopy{\n",
    "    NoCopy() = default;\n",
    "    NoCopy(const NoCopy&) = delete;\n",
    "    NoCopy &operator=(const NoCopy&) = delete;\n",
    "    ~NoCopy() = default;\n",
    "};\n",
    "```"
   ]
  },
  {
   "cell_type": "markdown",
   "metadata": {},
   "source": [
    "- =delete通知编译器，我们不希望定义这些成员\n",
    "- 对任何函数都可以制定=delete"
   ]
  },
  {
   "cell_type": "markdown",
   "metadata": {},
   "source": [
    "** 析构函数不能是删除的成员 **"
   ]
  },
  {
   "cell_type": "markdown",
   "metadata": {},
   "source": [
    "** 合成的拷贝控制成员可能是删除的 **"
   ]
  },
  {
   "cell_type": "markdown",
   "metadata": {},
   "source": [
    "** private拷贝控制 **"
   ]
  },
  {
   "cell_type": "markdown",
   "metadata": {},
   "source": [
    "- 在新标准发布之前，类是通过将其拷贝构造函数和拷贝赋值运算符声明为private的来阻止拷贝\n",
    "\n",
    "```C++\n",
    "class PrivateCopy{\n",
    "    PrivateCopy(const PrivateCopy&);\n",
    "    PrivateCopy &operator=(const PrivateCopy);\n",
    "public:\n",
    "    PrivateCopy = default;\n",
    "    ~PrivateCopy();\n",
    "};\n",
    "```"
   ]
  },
  {
   "cell_type": "markdown",
   "metadata": {},
   "source": [
    "> 希望阻止拷贝的类应该使用=delete来定义它们自己的拷贝构造函数和拷贝赋值运算符，而不应该将它们声明为private"
   ]
  },
  {
   "cell_type": "markdown",
   "metadata": {},
   "source": [
    "- 判断一个类是否需要拷贝控制函数成员，首先判断其是否需要自定义版本的析构函数，如果需要，则拷贝控制成员函数都需要。由于这两个类中的指针为智能指针，可以自动控制内存的释放，所以使用类的合成析构函数即可。另外类默认的拷贝控制成员对于智能指针的拷贝也不需要自定义版本来修改，所以全部定义为 =default 即可"
   ]
  },
  {
   "cell_type": "markdown",
   "metadata": {},
   "source": [
    "## 拷贝控制和资源管理"
   ]
  },
  {
   "cell_type": "markdown",
   "metadata": {},
   "source": [
    "### 行为像值的类"
   ]
  },
  {
   "cell_type": "markdown",
   "metadata": {},
   "source": [
    "- 为了提供类值的行为，对于类管理的资源，每个对象都应该拥有一份自己的拷贝。\n",
    "- 为了实现类值行为，HasPtr需要\n",
    "    - 定义一个拷贝构造函数，完成string的拷贝，而不是拷贝指针\n",
    "    - 定义一个析构函数来释放string\n",
    "    - 定义一个拷贝赋值运算符来释放对象当前的string，并从右侧运算对象拷贝string"
   ]
  },
  {
   "cell_type": "markdown",
   "metadata": {},
   "source": [
    "```C++\n",
    "class HasPtr{\n",
    "public:\n",
    "    HasPtr(const string &s = string()):ps(new string(s)), i(0){}\n",
    "    HasPtr(const HasPtr &p):ps(new string(*p.ps)), i(p.i) {}\n",
    "    HasPtr& operator=(const HasPtr &);\n",
    "    ~HasPtr() {delete ps;}\n",
    "private:\n",
    "    string *ps;\n",
    "    int i;\n",
    "}\n",
    "```"
   ]
  },
  {
   "cell_type": "markdown",
   "metadata": {},
   "source": [
    "- 赋值操作会销毁左侧运算对象的资源\n",
    "- 在本例中，通过先拷贝右侧运算对象，我们可以处理自赋值的情况，并能保证在异常发生时代码也是安全的。在完成拷贝时，我么释放左侧运算对象的资源，并更新指针指向新分配的string"
   ]
  },
  {
   "cell_type": "markdown",
   "metadata": {},
   "source": [
    "```C++\n",
    "HasPtr& HasPtr::operator=(const HasPtr &rhs){\n",
    "    auto newp = new string(*rhs.ps);\n",
    "    delete ps;\n",
    "    ps = newp;\n",
    "    i = rhs.i;\n",
    "    return *this;\n",
    "}\n",
    "```"
   ]
  },
  {
   "cell_type": "markdown",
   "metadata": {},
   "source": [
    "- 知识点1：类值版本，类的构造函数需要可能需要动态分配其成员的副本\n",
    "- 知识点2：类值版本，类的拷贝赋值运算符相当于结合了构造函数和析构函数的操作，首先销毁左侧运算对象的资源，再从右侧运算符对象拷贝资源，注意顺序\n",
    "- 知识点3：由于有上述的顺序存在，所以我们必须保证这样的拷贝赋值运算符是正确的：首先将右侧运算对象拷贝到一个临时的对象中，再销毁左侧的运算对象的现有成员，之后将临时对象中的数据成员拷贝至左侧对象中(防范自赋值的情况发生—首先就销毁了自身的成员，再进行拷贝自身则会访问到已经释放的内存中)"
   ]
  },
  {
   "cell_type": "markdown",
   "metadata": {},
   "source": [
    "```C++\n",
    "class Hasptr1  \n",
    "{  \n",
    "public:  \n",
    "    //构造函数，初始化相关成员  \n",
    "    Hasptr1(const string& s = string()):ps(new string(s)),i(0),use(new size_t(1)){}  \n",
    "  \n",
    "    //拷贝构造函数，将引用计数也拷贝过来，并且递增引用计数  \n",
    "    Hasptr1(const Hasptr1& p):ps(p.ps),i(p.i),use(p.use){++*use;}  \n",
    "  \n",
    "    //拷贝赋值运算符  \n",
    "    Hasptr1& operator= (const Hasptr1& p1)  \n",
    "    {  \n",
    "        ++*p1.use;//首先递增右侧运算符对象的引用计数  \n",
    "        if (--*use == 0)//递减本对象的引用计数，若没有其他用户，则释放本对象的成员  \n",
    "        {  \n",
    "            delete ps;  \n",
    "            delete use;  \n",
    "        }  \n",
    "        ps = p1.ps;//进行拷贝  \n",
    "        use = p1.use;  \n",
    "        i = p1.i;  \n",
    "        return *this;  \n",
    "    }  \n",
    "  \n",
    "    //析构函数  \n",
    "    ~Hasptr1()  \n",
    "    {  \n",
    "        if (*use == 0)//引用计数变为0，说明已经没有对象再需要这块内存，进行释放内存操作  \n",
    "        {  \n",
    "            delete ps;  \n",
    "            delete use;  \n",
    "        }  \n",
    "    }  \n",
    "private:  \n",
    "    //定义为指针，是我们想将该string对象保存在动态内存中  \n",
    "    string *ps;  \n",
    "    size_t *use;//将计数器的引用保存  \n",
    "    int i;  \n",
    "};  \n",
    "```"
   ]
  },
  {
   "cell_type": "markdown",
   "metadata": {},
   "source": [
    "### 定义行为向指针的类"
   ]
  },
  {
   "cell_type": "markdown",
   "metadata": {},
   "source": [
    "- 对于行为类似指针的类，我们需要为其定义拷贝构造函数和拷贝赋值运算符，来拷贝指针成员本身而不是它指向的string\n",
    "- 我们的类仍然需要自己的析构函数来释放接受string参数的构造函数分配的内存\n",
    "- 有时候我们希望直接管理内存，这种情况下，使用引用计数就很有用了"
   ]
  },
  {
   "cell_type": "markdown",
   "metadata": {},
   "source": [
    "** 引用计数 **"
   ]
  },
  {
   "cell_type": "markdown",
   "metadata": {},
   "source": [
    "- 除了初始化对象外，每个构造函数还要创建一个引用计数，用来记录有多少对象与正在创建的对象共享状态，当我们创建一个对象时，只有一个对象共享状态，因此将计数器初始化为1\n",
    "- 拷贝构造函数不分配新的计时器，而是拷贝给定对象的数据成员，包括计数器。\n",
    "- 析构函数递减计数器，指出共享状态下的用户少了一个\n",
    "- 拷贝赋值元算符递增右侧运算对象的计数器，递减左侧运算对象的计数器"
   ]
  },
  {
   "cell_type": "markdown",
   "metadata": {},
   "source": [
    "```C++\n",
    "HasPtr p1(\"Hiya\");\n",
    "HasPtr p2(p1);\n",
    "HasPtr p3(p1);\n",
    "```\n",
    "\n",
    "- 如上，如果每个计数器都保存在每个对象中，当创建p3时我们应该如何正确更新呢？可以递增p1中的计数器并将其拷贝到p3中，但如何更新p2中的计数器呢\n",
    "- 解决此问题的一种方法是将计数器保存在动态内存中"
   ]
  },
  {
   "cell_type": "markdown",
   "metadata": {},
   "source": [
    "** 定义一个使用引用计数的类 **"
   ]
  },
  {
   "cell_type": "markdown",
   "metadata": {},
   "source": [
    "```C++\n",
    "class HasPtr{\n",
    "public:\n",
    "    HasPtr(const string &s = string()):ps(new string(s)), i(0), use(new size_t(1)) {}\n",
    "    HasPtr(const HasPtr &p):ps(p.ps), i(p.i), use(p.use) { ++*use;}\n",
    "    HasPtr& operator=(const HasPtr&);\n",
    "    ~HasPtr();\n",
    "private:\n",
    "    string *ps;\n",
    "    int i;\n",
    "    size_t *use;\n",
    "}\n",
    "```"
   ]
  },
  {
   "cell_type": "markdown",
   "metadata": {},
   "source": [
    "** 类指针的拷贝成员\"篡改“应用计数 **"
   ]
  },
  {
   "cell_type": "markdown",
   "metadata": {},
   "source": [
    "## 交换操作"
   ]
  },
  {
   "cell_type": "markdown",
   "metadata": {},
   "source": [
    "- 如果一个类定义了自己的swap，那么算法将使用类自定义版本。否则，算法将使用标准库定义的swap\n",
    "\n",
    "```C++\n",
    "HasPtr temp = v1;\n",
    "v1 = v2;\n",
    "v2 = temp;\n",
    "```"
   ]
  },
  {
   "cell_type": "markdown",
   "metadata": {},
   "source": [
    "- 上面的代码，将原来v1的string拷贝了两次，第一次是HasPtr的拷贝构造函数将v1拷贝给temp，第二次是temp赋予v2\n",
    "- 但是，理论上，这些内存都是不必要的，我么更希望swap交换指针\n",
    "\n",
    "```C++\n",
    "string *temp = v1.ps;\n",
    "v1.ps = v2.ps;\n",
    "v2.ps = temp;\n",
    "```"
   ]
  },
  {
   "cell_type": "markdown",
   "metadata": {},
   "source": [
    "** 编写我们自己的swap函数 **"
   ]
  },
  {
   "cell_type": "markdown",
   "metadata": {},
   "source": [
    "```C++\n",
    "class HasPtr{\n",
    "    friend void swap(HasPtr&, HasPtr&);\n",
    "};\n",
    "inline void swap(HasPtr &lhs, HsaPtr &rhs){\n",
    "    using std::swap;\n",
    "    swap(lhs.ps, rhs.ps);\n",
    "    swap(lhs.i, rhs.i);\n",
    "}\n",
    "```"
   ]
  },
  {
   "cell_type": "markdown",
   "metadata": {},
   "source": [
    "** swap函数应该调用swap，而不是std::swap **\n",
    "\n",
    "- 在编写自己的swap时，都要用std::swap定义一下"
   ]
  },
  {
   "cell_type": "markdown",
   "metadata": {},
   "source": [
    "** 在赋值运算符中使用swap **"
   ]
  },
  {
   "cell_type": "markdown",
   "metadata": {},
   "source": [
    "- 定义swap的类通常用swap来定义他们的赋值运算符，这些运算符使用了一种名为拷贝并交换的计数\n",
    "\n",
    "```C++\n",
    "HasPtr& HasPtr::operator=(HasPtr rhs){\n",
    "    //交换左侧运算对象和局部变量rhs的内容\n",
    "    swap(*this, rhs);    //rhs现在指向本对象曾经使用的内存\n",
    "    return *this;        //rhs被销毁，从而delete了rhs中的指针\n",
    "}\n",
    "```\n",
    "\n",
    "- 这里赋值运算符，参数并不是一个引用，是以传值的方式传给赋值运算符，rhs是右侧运算对象的一个副本"
   ]
  },
  {
   "cell_type": "code",
   "execution_count": 1,
   "metadata": {},
   "outputs": [
    {
     "name": "stdout",
     "output_type": "stream",
     "text": [
      "Overwriting ../../Code/C++PrimerCode/chapter13/31.cpp\n"
     ]
    }
   ],
   "source": [
    "%%writefile ../../Code/C++PrimerCode/chapter13/31.cpp\n",
    "/*\n",
    " * This code is writed by htfeng.\n",
    " *\n",
    " * \"Copyright (c) 2017 by Objectwrite.\"\n",
    " * Date: 2017-09-26\n",
    " * Time: 23：00pm\n",
    " *\n",
    " *  The code is the answer to exercise 31 of the thirteen chapter about the book \"C++ Primer, Fifth Edition\".\n",
    " *\n",
    " * If you have any question,please contact me.\n",
    " *\n",
    " * Email:1054708869@qq.com\n",
    "*/\n",
    "#include <iostream>\n",
    "#include <string>\n",
    "#include <vector>\n",
    "#include <algorithm>\n",
    "\n",
    "using namespace std;\n",
    "\n",
    "class HasPtr1{\n",
    "\tfriend void swap(HasPtr1&, HasPtr1&);\n",
    "\tfriend bool operator<(const HasPtr1& s1,const HasPtr1& s2);\n",
    "\tfriend void show(vector<HasPtr1>& vec);\n",
    "\n",
    "public:\n",
    "\tHasPtr1(const string& s = string()):ps(new string(s)),i(0),use(new size_t(1)){}\n",
    "\n",
    "\tHasPtr1(const HasPtr1& p):ps(p.ps), i(p.i), use(p.use){++*use;}\n",
    "\n",
    "\tHasPtr1& operator= (const HasPtr1& p1){\n",
    "\t\t++*p1.use;\n",
    "\t\tif(--*use == 0){\n",
    "\t\t\tdelete ps;\n",
    "\t\t\tdelete use;\n",
    "\t\t}\n",
    "\t\tps = p1.ps;\n",
    "\t\ti = p1.i;\n",
    "\t\tuse = p1.use;\n",
    "\n",
    "\t\treturn *this;\n",
    "\t}\n",
    "\n",
    "\t~HasPtr1(){\n",
    "\t\tif(*use == 0){\n",
    "\t\t\tdelete ps;\n",
    "\t\t\tdelete use;\n",
    "\t\t}\n",
    "\t}\n",
    "private:\n",
    "\tstring *ps;\n",
    "\tsize_t *use;\n",
    "\tint i;\n",
    "};\n",
    "\n",
    "inline void swap(HasPtr1& a,HasPtr1& b){\n",
    "\tusing std::swap;\n",
    "\tswap(a.ps, b.ps);\n",
    "\tstd:swap(a.i, b.i);\n",
    "\tcout << \"123\";\n",
    "}\n",
    "\n",
    "bool operator<(const HasPtr1& s1, const HasPtr1& s2){\n",
    "\tcout << \"< is called\" << endl;\n",
    "\treturn *s1.ps < *s2.ps;\n",
    "}\n",
    "\n",
    "void show(vector<HasPtr1>& vec){\n",
    "\tvector<HasPtr1>::iterator it1 = vec.begin();\n",
    "\tfor(it1; it1 != vec.end(); ++it1){\n",
    "\t\tcout << *(it1->ps) << endl;\n",
    "\t}\n",
    "}\n",
    "\n",
    "int main(int argc, char **argv){\n",
    "\tvector<HasPtr1> vec1;\n",
    "\tHasPtr1 a(\"1\");\n",
    "\tHasPtr1 b(\"1111\");\n",
    "\tHasPtr1 c(\"111\");\n",
    "\tvec1.push_back(a);\n",
    "\tvec1.push_back(b);\n",
    "\tvec1.push_back(c);\n",
    "\n",
    "\tvector<HasPtr1>::iterator it1 = vec1.begin();\n",
    "\tsort(vec1.begin(), vec1.end());\n",
    "\tshow(vec1);\n",
    "\n",
    "\treturn 0;\n",
    "}"
   ]
  },
  {
   "cell_type": "markdown",
   "metadata": {
    "collapsed": true
   },
   "source": [
    "## 拷贝控制示例"
   ]
  },
  {
   "cell_type": "code",
   "execution_count": null,
   "metadata": {
    "collapsed": true
   },
   "outputs": [],
   "source": []
  }
 ],
 "metadata": {
  "kernelspec": {
   "display_name": "Python 3",
   "language": "python",
   "name": "python3"
  },
  "language_info": {
   "codemirror_mode": {
    "name": "ipython",
    "version": 3
   },
   "file_extension": ".py",
   "mimetype": "text/x-python",
   "name": "python",
   "nbconvert_exporter": "python",
   "pygments_lexer": "ipython3",
   "version": "3.6.1"
  }
 },
 "nbformat": 4,
 "nbformat_minor": 2
}
