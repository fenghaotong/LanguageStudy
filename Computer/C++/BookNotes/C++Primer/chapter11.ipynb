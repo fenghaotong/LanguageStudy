{
 "cells": [
  {
   "cell_type": "markdown",
   "metadata": {},
   "source": [
    "# 关联容器\n",
    "\n",
    "- [X] 使用关联容器 \n",
    "- [X] 关联容器概述\n",
    "- [X] 关联容器操作\n",
    "- [X] 无序容器"
   ]
  },
  {
   "cell_type": "markdown",
   "metadata": {
    "collapsed": true
   },
   "source": [
    "- 关联容器支持高效的关键字的查询和访问。两个主要的关联容器类型是map和set\n",
    "- map中的元素是一些关键字-值（key-value)对：关键字起到索引的作用，值则表示与索引相关联的数据\n",
    "- set中没每个元素只包含一个关键字：set支持高效的关键字查询"
   ]
  },
  {
   "cell_type": "markdown",
   "metadata": {},
   "source": [
    "- 类型map和multimap定义在头文件map中;set和multiset定义在头文件set中，无序容器则定义在头文件unordered_map和unordered_set中\n",
    "\n",
    "按关键字有序保存元素\n",
    "- map          //关键字数组：保存关键字一对\n",
    "- set          //关键字即值，即只保存关键字的容器\n",
    "- multimap     //关键字可重复出现的map\n",
    "- multiset     //关键字可重复出现的set\n",
    "\n",
    "无序集合\n",
    "\n",
    "- unordered_map          //用哈希函数组织的map \n",
    "- unordered_set          //用哈希函数组织的set\n",
    "- unordered_multimap     //哈希组织的map;关键字可以重复出现\n",
    "- unordered_multiset     //哈希组织的set;关键字可以重复出现"
   ]
  },
  {
   "cell_type": "markdown",
   "metadata": {},
   "source": [
    "## 使用关联容器"
   ]
  },
  {
   "cell_type": "markdown",
   "metadata": {},
   "source": [
    "** 使用map **\n",
    "\n",
    "```C++\n",
    "//读取输入，报告每个单词出现的次数\n",
    "map<string, size_t> word_count;\n",
    "string word;\n",
    "while(cin >> word)\n",
    "    ++word_count[word];\n",
    "for(const auto &w : word_count)\n",
    "    cout << w.first << \" occurs \" << w.second << ((w.second > 1) ? \" times \":\" time \") << endl;\n",
    "```"
   ]
  },
  {
   "cell_type": "markdown",
   "metadata": {},
   "source": [
    "** 使用set **\n",
    "\n",
    "```C++\n",
    "//只统计不在集合中的单词数\n",
    "map<string, size_t> word_count;\n",
    "set<string> exclude = {\"the\", \"hello\", \"is\", \"and\", \"or\"};\n",
    "\n",
    "string word;\n",
    "while(cin >> word)\n",
    "    if(exclude.find(word) == exclude.end())\n",
    "        ++word.count[word];\n",
    "```"
   ]
  },
  {
   "cell_type": "markdown",
   "metadata": {},
   "source": [
    "- #inlude <cctype.h>，ispunct() 函数用来检测一个字符是否为标点符号或特殊字符，其原型为：int ispunct(int c);\n",
    "- 目前在头文件iostream中也可以使用，C++ 5.11已证明。把字符转换成小写字母,非字母字符不做出处理用 法: int tolower(int c);"
   ]
  },
  {
   "cell_type": "markdown",
   "metadata": {},
   "source": [
    "## 关联容器概述\n",
    "\n",
    "- 关联容器的迭代器都是双向的"
   ]
  },
  {
   "cell_type": "markdown",
   "metadata": {},
   "source": [
    "### 定义一个关联容器\n",
    "\n",
    "- 初始化map\n",
    "\n",
    "```C++\n",
    "map<string, string> authors = { {\"Joyce\", \"James\"},\n",
    "                                {\"Austen\", \"Jane\"}};\n",
    "```"
   ]
  },
  {
   "cell_type": "markdown",
   "metadata": {},
   "source": [
    "** 初始化multimap或multiset **\n",
    "\n",
    "```C++\n",
    "vector<int> ivec;\n",
    "for(vector<int>::size_type i = 0; i != 10; ++i){\n",
    "    ivec.push_back(i);\n",
    "    ivec.push_back(i);\n",
    "}\n",
    "\n",
    "set<int> iset(ivec.begin(), ivec.end());\n",
    "multiset<int> miset(ivec.begin(), ivec.end());\n",
    "\n",
    "cout << ivec.size() << endl;     //20\n",
    "cout << iset.size() << endl;     //10\n",
    "cout << miset.size() << endl;   //20\n",
    "```"
   ]
  },
  {
   "cell_type": "code",
   "execution_count": 2,
   "metadata": {},
   "outputs": [
    {
     "name": "stdout",
     "output_type": "stream",
     "text": [
      "Overwriting ../../Code/C++PrimerCode/chapter11/7.cpp\n"
     ]
    }
   ],
   "source": [
    "%%writefile ../../Code/C++PrimerCode/chapter11/7.cpp\n",
    "/*\n",
    " * This code is writed by htfeng.\n",
    " *\n",
    " * \"Copyright (c) 2017 by Objectwrite.\"\n",
    " * Date: 2017-09-17\n",
    " * Time: 16:39pm\n",
    " *\n",
    " *  The code is the answer to exercise 7 of the elevnth chapter about the book \"C++ Primer, Fifth Edition\".\n",
    " *\n",
    " * If you have any question,please contact me.\n",
    " *\n",
    " * Email:1054708869@qq.com\n",
    "*/\n",
    "\n",
    "#include <iostream>\n",
    "#include <string>\n",
    "#include <set>\n",
    "#include <map>\n",
    "#include <unordered_set>\n",
    "#include <unordered_map>\n",
    "#include <vector>\n",
    "\n",
    "using namespace std;\n",
    "\n",
    "int main(int argc, char **argv){\n",
    "\tmap<string, vector<string>> family;\n",
    "\tstring first_name, word;\n",
    "\tvector<string> second_name;\n",
    "\n",
    "\tcout << \"first_name:\";\n",
    "\twhile(cin >> first_name && first_name != \"end\"){\n",
    "\t\tcout << \"second_name:\" << endl;;\n",
    "\t\twhile(cin >> word && word != \"end\"){\n",
    "\t\t\tsecond_name.push_back(word);\n",
    "\t\t}\n",
    "\n",
    "\t\tfor(auto it = second_name.begin(); it != second_name.end(); ++it){\n",
    "\t\t\tfamily[first_name].push_back(*it);\n",
    "\t\t}\n",
    "\t\tcout << \"first_name:\";\n",
    "\t}\n",
    "\n",
    "\tmap<string, vector<string>>::iterator mapi;\n",
    "\tfor(mapi  = family.begin(); mapi != family.end(); ++mapi){\n",
    "\t\tcout << mapi->first << \" \";\n",
    "\n",
    "\t\tvector<string>::iterator it1 = mapi->second.begin();\n",
    "\t\tfor(it1; it1 != mapi->second.end(); ++it1){\n",
    "\t\t\tcout << *it1 << \" \";\n",
    "\t\t}\t\n",
    "\t\tcout << endl;\n",
    "\t}\n",
    "\treturn 0;\n",
    "}"
   ]
  },
  {
   "cell_type": "markdown",
   "metadata": {},
   "source": [
    "### 关键字类型的要求\n"
   ]
  },
  {
   "cell_type": "markdown",
   "metadata": {},
   "source": [
    "** 有序容器的关键字类型 **\n"
   ]
  },
  {
   "cell_type": "markdown",
   "metadata": {},
   "source": [
    "** 使用关键字类型的比较函数 **"
   ]
  },
  {
   "cell_type": "markdown",
   "metadata": {},
   "source": [
    "> 有序容器在定义其关键字时，其关键字的类型必须包含元素比较的方法，如果是一个类类型，且没有包含比较方法，则不合法，可以自行定义比较类型。   \n",
    ">当我们使用decltype作用于某个函数时，它返回函数类型而非指针类型，因此我们需要显示的加上*已表明我们需要返回指针。作用：选择并返回操作数的类型，若为函数，则类型为函数的返回类型"
   ]
  },
  {
   "cell_type": "markdown",
   "metadata": {},
   "source": [
    "### pair类型\n",
    "\n",
    "- 定义在头文件utility中\n",
    "- 一个pair保存两个数据成员\n",
    "- pair是一个用来生成特定类型的模板，当创建一个pair时，我们必须提供两个类型名\n",
    "- pair的数据成员将具有对应的类型，两个类型不要求一样"
   ]
  },
  {
   "cell_type": "markdown",
   "metadata": {},
   "source": [
    "```C++\n",
    "pair<string, string> anon;\n",
    "pair<string, size_t> word_count;\n",
    "pair<string, vector<int>> line;\n",
    "```\n",
    "\n",
    "- pair的默认构造函数对数据成员进行值初始化"
   ]
  },
  {
   "cell_type": "markdown",
   "metadata": {},
   "source": [
    "** 创建pair对象的函数 **\n"
   ]
  },
  {
   "cell_type": "markdown",
   "metadata": {},
   "source": [
    "```C++\n",
    "pair<string, int> \n",
    "process(vector<string> &v){\n",
    "    if(!v.empty())\n",
    "        return {v.back(), v.back().size()};\n",
    "    else\n",
    "        return pair<string, int>();\n",
    "```"
   ]
  },
  {
   "cell_type": "code",
   "execution_count": 3,
   "metadata": {},
   "outputs": [
    {
     "name": "stdout",
     "output_type": "stream",
     "text": [
      "Writing ../../Code/C++PrimerCode/chapter11/14.cpp\n"
     ]
    }
   ],
   "source": [
    "%%writefile ../../Code/C++PrimerCode/chapter11/14.cpp\n",
    "/*\n",
    " * This code is writed by htfeng.\n",
    " *\n",
    " * \"Copyright (c) 2017 by Objectwrite.\"\n",
    " * Date: 2017-09-17\n",
    " * Time: 17:39pm\n",
    " *\n",
    " *  The code is the answer to exercise 14 of the elevnth chapter about the book \"C++ Primer, Fifth Edition\".\n",
    " *\n",
    " * If you have any question,please contact me.\n",
    " *\n",
    " * Email:1054708869@qq.com\n",
    "*/\n",
    "\n",
    "#include <iostream>\n",
    "#include <string>\n",
    "#include <set>\n",
    "#include <map>\n",
    "#include <unordered_set>\n",
    "#include <unordered_map>\n",
    "#include <vector>\n",
    "#include <utility>\n",
    "#include <algorithm>  \n",
    "\n",
    "using namespace std;\n",
    "\n",
    "int main(int argc, char **argv){\n",
    "\tmap<string, vector<string>> family;\n",
    "\tstring first_name, word,  _birthday;\n",
    "\tvector<pair<string, string>> child;\n",
    "\tvector<string> second_name;\n",
    "\n",
    "\tcout << \"first_name:\";\n",
    "\twhile(cin >> first_name && first_name != \"end\"){\n",
    "\t\tcout << \"second_name:\" << endl;;\n",
    "\t\twhile(cin >> word && word != \"end\"){\n",
    "\t\t\tsecond_name.push_back(word);\n",
    "\t\t}\n",
    "\n",
    "\t\tfor(auto it = second_name.begin(); it != second_name.end(); ++it){\n",
    "\t\t\tfamily[first_name].push_back(*it);\n",
    "            \n",
    "            cout<<\"请输入孩子的生日:\";\n",
    "\t\t\twhile (cin>>_birthday && _birthday != \"end\")  \n",
    "            {  \n",
    "                child.push_back(make_pair(*it,_birthday));  \n",
    "            }  \n",
    "\n",
    "\t\t}\n",
    "\t\tcout << \"first_name:\";\n",
    "\t}\n",
    "\n",
    "\tmap<string, vector<string>>::iterator mapi;\n",
    "\tfor(mapi  = family.begin(); mapi != family.end(); ++mapi){\n",
    "\t\tcout << mapi->first << \" \";\n",
    "\n",
    "\t\tvector<string>::iterator it1 = mapi->second.begin();\n",
    "\t\tfor(it1; it1 != mapi->second.end(); ++it1){\n",
    "\t\t\tcout << *it1 << \" \";\n",
    "\t\t}\t\n",
    "\t\tcout << endl;\n",
    "\t}\n",
    "\n",
    "\tvector<pair<string,string>>::iterator it1 = child.begin();  \n",
    "    cout<<\"孩子们的信息：\"<<endl;  \n",
    "    for (it1; it1 != child.end(); ++it1)  \n",
    "    {  \n",
    "        cout<<it1->first<<\" \"<<it1->second<<endl;  \n",
    "  \n",
    "    }  \n",
    "\n",
    "\treturn 0;\n",
    "}"
   ]
  },
  {
   "cell_type": "markdown",
   "metadata": {},
   "source": [
    "## 关联容器操作"
   ]
  },
  {
   "cell_type": "markdown",
   "metadata": {
    "collapsed": true
   },
   "source": [
    "关联容器额外的类型别名\n",
    "\n",
    "- key_type:此容器的关键字类型\n",
    "- mapped_type:每个关键字关联的类型;只适用于map\n",
    "- value_type:对于set，与key_type相同，为`pair<const key_type, mapped_type>`"
   ]
  },
  {
   "cell_type": "markdown",
   "metadata": {},
   "source": [
    "```C++\n",
    "set<string>::value_type v1;  //v1是一个string\n",
    "set<string>::key_type v2;    //v2是一个string\n",
    "map<string, int>::value_type v3;   //v3是一个pair<const string, int>\n",
    "map<string, int>::key_type v4;     //v4是一个string\n",
    "map<string, int>::mapped_type v5;   //v5是一个int\n",
    "```"
   ]
  },
  {
   "cell_type": "markdown",
   "metadata": {},
   "source": [
    "### 关联容器迭代器"
   ]
  },
  {
   "cell_type": "markdown",
   "metadata": {},
   "source": [
    "** set的迭代器是const的 **"
   ]
  },
  {
   "cell_type": "markdown",
   "metadata": {},
   "source": [
    "** 遍历关联容器 **\n",
    "\n",
    "- map和set都支持begin和end操作"
   ]
  },
  {
   "cell_type": "markdown",
   "metadata": {},
   "source": [
    "** 关联容器的算法 **\n",
    "\n",
    "- 关键字是const"
   ]
  },
  {
   "cell_type": "markdown",
   "metadata": {},
   "source": [
    "### 添加元素"
   ]
  },
  {
   "cell_type": "markdown",
   "metadata": {},
   "source": [
    "- 关联容器的insert成员"
   ]
  },
  {
   "cell_type": "markdown",
   "metadata": {},
   "source": [
    "** 向map中添加元素 **\n",
    "\n",
    "- 向map中用insert添加元素，添加的pair对象\n",
    "\n",
    "```C++\n",
    "word_count.insert({word, 1});\n",
    "word_count.insert(pair<stirng, size_t>(word, i));\n",
    "word_count.insert(map<string, size_t>::value(word, 1));\n",
    "```"
   ]
  },
  {
   "cell_type": "markdown",
   "metadata": {},
   "source": [
    "** 检测insert的返回值 **"
   ]
  },
  {
   "cell_type": "markdown",
   "metadata": {},
   "source": [
    "** 展开递增语句 **"
   ]
  },
  {
   "cell_type": "markdown",
   "metadata": {},
   "source": [
    "** 向multimap和multiset添加元素 **\n",
    "\n",
    "- 和map一样使用insert\n",
    "- 添加关键字相同的元素"
   ]
  },
  {
   "cell_type": "markdown",
   "metadata": {},
   "source": [
    "### 删除操作"
   ]
  },
  {
   "cell_type": "markdown",
   "metadata": {},
   "source": [
    "- 关联容器定义了三个版本的erase，接受key_type参数\n",
    "- c.erase(k) 从c中删除每个关键字为k的元素，返回一个size_type值，指出删除的元素数量\n",
    "- c.erase(p) 从c中删除迭代器p指定的元素。p指向c中一个真实元素，不能等于c.end(),返回一个指向p之后元素的迭代器，若p指向c中的尾元素，则返回c.end()\n",
    "- c.erase(b, e) 删除迭代器对b和e所表示的范围中的元素，则返回e"
   ]
  },
  {
   "cell_type": "markdown",
   "metadata": {},
   "source": [
    "### map的下标操作"
   ]
  },
  {
   "cell_type": "markdown",
   "metadata": {},
   "source": [
    "- map和unorder_map容器提供了下标运算符和一个对应的at函数\n",
    "- set类型不支持下表\n",
    "- c[k]   : 若k不在c中，添加一个关键字为k的元素，对其值进行初始化\n",
    "- c.at(k) ： 若k不再c中，则抛出一个out_of_range异常"
   ]
  },
  {
   "cell_type": "markdown",
   "metadata": {},
   "source": [
    "** 使用下表操作的返回值 **"
   ]
  },
  {
   "cell_type": "markdown",
   "metadata": {},
   "source": [
    "### 访问元素"
   ]
  },
  {
   "cell_type": "markdown",
   "metadata": {},
   "source": [
    "- c.find(k)         //返回一个迭代器，指向第一个关键字为k的元素，若k不再容器中，则返回为元素\n",
    "- c.count(k)        //返回关键字等于k的元素的数量，对于不重复关键字的容器，返回值永远是0或者1\n",
    "- c.lower_bound(k)  //返回一个迭代器，指向一个关键字不小于k的元素\n",
    "- c.upper_bound(k)  //返回一个迭代器，指向第一个关键字大于k的元素\n",
    "- c.equal_range(k)  //返回一个迭代器pair，表示关键字等于k的元素的范围，若k不存在，pair的两个成员，均等于c.end()"
   ]
  },
  {
   "cell_type": "markdown",
   "metadata": {},
   "source": [
    "** 对map使用find代替下表操作 **\n",
    "\n"
   ]
  },
  {
   "cell_type": "markdown",
   "metadata": {},
   "source": [
    "** multimap或者multiset中查找元素 **"
   ]
  },
  {
   "cell_type": "markdown",
   "metadata": {},
   "source": [
    "```C++\n",
    "multimap<string, size_type> authors;\n",
    "string search_item(\"Alain de Bottem\");\n",
    "auto entries = authors.count(search_item); //元素的数量\n",
    "auto iter = authors.find(search_item);\n",
    "while(entries) {\n",
    "    cout << iter->second << endl;\n",
    "    ++iter;\n",
    "    --entries;\n",
    "}\n",
    "```"
   ]
  },
  {
   "cell_type": "markdown",
   "metadata": {},
   "source": [
    "** 一种不同的面向迭代器的解决方法 **\n",
    "\n",
    "- 使用lower_bound和upper_bound来解决此问题"
   ]
  },
  {
   "cell_type": "markdown",
   "metadata": {},
   "source": [
    "** equal_range函数 **"
   ]
  },
  {
   "cell_type": "code",
   "execution_count": 2,
   "metadata": {},
   "outputs": [
    {
     "name": "stdout",
     "output_type": "stream",
     "text": [
      "Overwriting ../../Code/C++PrimerCode/chapter11/32.cpp\n"
     ]
    }
   ],
   "source": [
    "%%writefile ../../Code/C++PrimerCode/chapter11/32.cpp\n",
    "/*\n",
    " * This code is writed by htfeng.\n",
    " *\n",
    " * \"Copyright (c) 2017 by Objectwrite.\"\n",
    " * Date: 2017-09-19\n",
    " * Time: 19:22pm\n",
    " *\n",
    " *  The code is the answer to exercise 32 of the elevnth chapter about the book \"C++ Primer, Fifth Edition\".\n",
    " *\n",
    " * If you have any question,please contact me.\n",
    " *\n",
    " * Email:1054708869@qq.com\n",
    "*/\n",
    "#include <iostream>    \n",
    "#include <string>    \n",
    "#include <fstream>  \n",
    "#include <list>  \n",
    "#include <vector>   \n",
    "#include <map>    \n",
    "#include <set>  \n",
    "#include <cctype>//ctype无法打开，包含tolower()函数和ispunct函数  \n",
    "#include <algorithm>  \n",
    "#include <utility>//保存pair的头文件  \n",
    "using namespace std;  \n",
    "  \n",
    "int main(int argc, char**argv)    \n",
    "{   \n",
    "    string author = \"机械先驱\";  \n",
    "    string author1 = \"卡牌大师\";  \n",
    "    multimap<string, string> Library;  \n",
    "    Library.insert(make_pair(author1,\"灭世者的帽子\"));  \n",
    "    Library.insert(make_pair(author,\"法穿杖\"));  \n",
    "    Library.insert(make_pair(author1,\"法穿鞋\"));  \n",
    "    Library.insert(make_pair(author,\"冰杖\"));  \n",
    "    Library.insert(make_pair(author,\"巫妖之祸\"));  \n",
    "    Library.insert(make_pair(author,\"海克斯科技核心\"));  \n",
    "  \n",
    "    auto it1 = Library.find(author); //返回第一个关键字为author的迭代器  \n",
    "    auto it2 = Library.count(author);//返回关键词为author的元素数量  \n",
    "  \n",
    "    while (it2)  \n",
    "    {  \n",
    "        if (it1->second == \"海克斯科技核心\")  \n",
    "        {  \n",
    "            Library.erase(it1);//直接删除此关键字值对，传入参数为指向它的迭代器  \n",
    "            break;//需要,不然下面调用到已经删除的迭代器，会出粗  \n",
    "        }  \n",
    "        ++it1;  \n",
    "        --it2;  \n",
    "    }  \n",
    "    map<string,set<string>> Library2;//排序所用map,set可自动排序  \n",
    "    multimap<string,string>::iterator it3 = Library.begin();  \n",
    "    for (it3; it3 != Library.end(); ++it3)  \n",
    "    {  \n",
    "        /*Library2.insert(make_pair(it3->first,it3->second));*/  \n",
    "        Library2.[it3->first].insert(it3->second);  \n",
    "        cout<<it3->first<<\"的宝贝儿：\"<<it3->second<<endl;  \n",
    "    }  \n",
    "  \n",
    "    map<string,set<string>>::iterator it4 = Library2.begin();  \n",
    "    for (it4;it4 != Library2.end(); ++it4)  \n",
    "    {  \n",
    "        cout<<it4->first<<\"的宝贝儿：\";  \n",
    "        set<string>::iterator it5 = it4->second.begin();  \n",
    "        for(it5; it5 != it4->second.end(); ++it5)  \n",
    "        {  \n",
    "            cout<<*it5<<\",\";  \n",
    "        }  \n",
    "    }  \n",
    "  \n",
    "    return 0;  \n",
    "}   "
   ]
  },
  {
   "cell_type": "markdown",
   "metadata": {},
   "source": [
    "> map和set都会制动按字典顺序排序"
   ]
  },
  {
   "cell_type": "code",
   "execution_count": 4,
   "metadata": {},
   "outputs": [
    {
     "name": "stdout",
     "output_type": "stream",
     "text": [
      "Overwriting ../../Code/C++PrimerCode/chapter11/test.cpp\n"
     ]
    }
   ],
   "source": [
    "%%writefile ../../Code/C++PrimerCode/chapter11/test.cpp\n",
    "#include <iostream>    \n",
    "#include <string>    \n",
    "#include <fstream>  \n",
    "#include <list>  \n",
    "#include <vector>   \n",
    "#include <map>    \n",
    "#include <set>  \n",
    "\n",
    "\n",
    "using namespace std;  \n",
    "\n",
    "int main(int argc,char **argv){\n",
    "\tmap<string, set<string>> family;\n",
    "\tstring first_name, second_name;\n",
    "\n",
    "\tcout << \"first_name:\";\n",
    "\twhile(cin >> first_name && first_name != \"end\"){\n",
    "\t\tcout << \"second_name:\";\n",
    "\t\twhile(cin >> second_name && second_name != \"end\"){\n",
    "\t\t\tfamily[first_name].insert(second_name);\n",
    "\t\t\tcout << \"second_name:\";\n",
    "\t\t}\n",
    "\t\tcout << \"first_name:\";\n",
    "\t}\n",
    "\n",
    "\tmap<string, set<string>>::iterator it1 = family.begin();\n",
    "\n",
    "\tfor(it1; it1 != family.end(); ++it1){\n",
    "\t\tcout << \"name:\" << it1->first << \" \";\n",
    "\t\tset<string>::iterator it2 = it1->second.begin();\n",
    "\t\tfor (it2; it2 != it1->second.end(); ++it2)\n",
    "\t\t{\n",
    "\t\t\t/* code */\n",
    "\t\t\tcout << *it2 << \" \";\n",
    "\t\t}\n",
    "\t\tcout << endl;\n",
    "\t}\n",
    "\treturn 0;\n",
    "}"
   ]
  },
  {
   "cell_type": "markdown",
   "metadata": {},
   "source": [
    "### 一个单词转换的map"
   ]
  },
  {
   "cell_type": "code",
   "execution_count": 6,
   "metadata": {},
   "outputs": [
    {
     "name": "stdout",
     "output_type": "stream",
     "text": [
      "Overwriting ../../Code/C++PrimerCode/chapter11/word_map.cpp\n"
     ]
    }
   ],
   "source": [
    "%%writefile ../../Code/C++PrimerCode/chapter11/word_map.cpp\n",
    "/*\n",
    " * This code is writed by htfeng.\n",
    " *\n",
    " * \"Copyright (c) 2017 by Objectwrite.\"\n",
    " * Date: 2017-09-19\n",
    " * Time: 20:04pm\n",
    " *\n",
    " *  The code is the answer to exercise 32 of the elevnth chapter about the book \"C++ Primer, Fifth Edition\".\n",
    " *\n",
    " * If you have any question,please contact me.\n",
    " *\n",
    " * Email:1054708869@qq.com\n",
    "*/\n",
    "#include <iostream>    \n",
    "#include <string>    \n",
    "#include <fstream>  \n",
    "#include <list>  \n",
    "#include <vector>   \n",
    "#include <map>    \n",
    "#include <set>  \n",
    "#include <sstream>\n",
    " \n",
    "using namespace std;  \n",
    "\n",
    "map<string, string> buildMap(ifstream &map_file){\n",
    "\tmap<string, string> trans_map;\n",
    "\tstring key;\n",
    "\tstring value;\n",
    "\n",
    "\twhile(map_file >>key && getline(map_file, value)){\n",
    "\t\tif(value.size() > 1)\n",
    "\t\t\ttrans_map[key] = value.substr(1);\n",
    "\t\telse\n",
    "\t\t\tthrow runtime_error(\"no file for\" + key);\n",
    "\t}\n",
    "\n",
    "\treturn trans_map;\n",
    "}\n",
    "\n",
    "const string &transform(const string &s, const map<string, string> &m){\n",
    "\tauto map_it = m.find(s);\n",
    "\tif(map_it != m.end())\n",
    "\t\treturn map_it->second;\n",
    "\telse\n",
    "\t\treturn s;\n",
    "}\n",
    "\n",
    "void word_transform(ifstream &map_file, ifstream &input){\n",
    "\tauto trans_map = buildMap(map_file);\n",
    "\n",
    "\tstring text;\n",
    "\twhile(getline(input, text)){\n",
    "\t\tistringstream stream(text);\n",
    "\t\tstring word;\n",
    "\t\tbool firstword = true;\n",
    "\t\twhile(stream >> word){\n",
    "\t\t\tif(firstword)\n",
    "\t\t\t\tfirstword = false;\n",
    "\t\t\telse\n",
    "\t\t\t\tcout << \" \";\n",
    "\t\t\tcout << transform(word, trans_map);\n",
    "\t\t}\n",
    "\t\tcout << endl;\n",
    "\t}\n",
    "}\n",
    "\n",
    "int main(int argc, char **argv){\n",
    "\tifstream map_file(\"word.txt\");\n",
    "\tifstream input(\"input.txt\");\n",
    "\tword_transform(map_file, input);\n",
    "\treturn 0;\n",
    "} "
   ]
  },
  {
   "cell_type": "markdown",
   "metadata": {
    "collapsed": true
   },
   "source": [
    "## 无序容器"
   ]
  },
  {
   "cell_type": "markdown",
   "metadata": {},
   "source": [
    "** 使用无序容器 **"
   ]
  },
  {
   "cell_type": "markdown",
   "metadata": {},
   "source": [
    "** 管理桶 **\n",
    "\n",
    "- 无序容器在存储上组织一组桶，每个桶保存零个或多个元素。"
   ]
  },
  {
   "cell_type": "markdown",
   "metadata": {},
   "source": [
    "** 无序容器对关键字类型的要求 **"
   ]
  },
  {
   "cell_type": "code",
   "execution_count": null,
   "metadata": {
    "collapsed": true
   },
   "outputs": [],
   "source": []
  }
 ],
 "metadata": {
  "kernelspec": {
   "display_name": "Python 3",
   "language": "python",
   "name": "python3"
  },
  "language_info": {
   "codemirror_mode": {
    "name": "ipython",
    "version": 3
   },
   "file_extension": ".py",
   "mimetype": "text/x-python",
   "name": "python",
   "nbconvert_exporter": "python",
   "pygments_lexer": "ipython3",
   "version": "3.6.1"
  }
 },
 "nbformat": 4,
 "nbformat_minor": 2
}
