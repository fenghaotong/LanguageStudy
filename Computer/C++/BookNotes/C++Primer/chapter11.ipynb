{
 "cells": [
  {
   "cell_type": "markdown",
   "metadata": {},
   "source": [
    "# 关联容器\n",
    "\n",
    "- [ ] 使用关联容器 \n",
    "- [ ] 关联容器概述\n",
    "- [ ] 关联容器操作\n",
    "- [ ] 无序容器"
   ]
  },
  {
   "cell_type": "markdown",
   "metadata": {
    "collapsed": true
   },
   "source": [
    "- 关联容器支持高效的关键字的查询和访问。两个主要的关联容器类型是map和set\n",
    "- map中的元素是一些关键字-值（key-value)对：关键字起到索引的作用，值则表示与索引相关联的数据\n",
    "- set中没每个元素只包含一个关键字：set支持高效的关键字查询"
   ]
  },
  {
   "cell_type": "markdown",
   "metadata": {},
   "source": [
    "- 类型map和multimap定义在头文件map中;set和multiset定义在头文件set中，无序容器则定义在头文件unordered_map和unordered_set中\n",
    "\n",
    "按关键字有序保存元素\n",
    "- map          //关键字数组：保存关键字一对\n",
    "- set          //关键字即值，即只保存关键字的容器\n",
    "- multimap     //关键字可重复出现的map\n",
    "- multiset     //关键字可重复出现的set\n",
    "\n",
    "无序集合\n",
    "\n",
    "- unordered_map          //用哈希函数组织的map \n",
    "- unordered_set          //用哈希函数组织的set\n",
    "- unordered_multimap     //哈希组织的map;关键字可以重复出现\n",
    "- unordered_multiset     //哈希组织的set;关键字可以重复出现"
   ]
  },
  {
   "cell_type": "markdown",
   "metadata": {},
   "source": [
    "## 使用关联容器"
   ]
  },
  {
   "cell_type": "markdown",
   "metadata": {},
   "source": [
    "** 使用map **\n",
    "\n",
    "```C++\n",
    "//读取输入，报告每个单词出现的次数\n",
    "map<string, size_t> word_count;\n",
    "string word;\n",
    "while(cin >> word)\n",
    "    ++word_count[word];\n",
    "for(const auto &w : word_count)\n",
    "    cout << w.first << \" occurs \" << w.second << ((w.second > 1) ? \" times \":\" time \") << endl;\n",
    "```"
   ]
  },
  {
   "cell_type": "markdown",
   "metadata": {},
   "source": [
    "** 使用set **\n",
    "\n",
    "```C++\n",
    "//只统计不在集合中的单词数\n",
    "map<string, size_t> word_count;\n",
    "set<string> exclude = {\"the\", \"hello\", \"is\", \"and\", \"or\"};\n",
    "\n",
    "string word;\n",
    "while(cin >> word)\n",
    "    if(exclude.find(word) == exclude.end())\n",
    "        ++word.count[word];\n",
    "```"
   ]
  },
  {
   "cell_type": "markdown",
   "metadata": {},
   "source": [
    "- #inlude <cctype.h>，ispunct() 函数用来检测一个字符是否为标点符号或特殊字符，其原型为：int ispunct(int c);\n",
    "- 目前在头文件iostream中也可以使用，C++ 5.11已证明。把字符转换成小写字母,非字母字符不做出处理用 法: int tolower(int c);"
   ]
  },
  {
   "cell_type": "markdown",
   "metadata": {},
   "source": [
    "## 关联容器概述\n",
    "\n",
    "- 关联容器的迭代器都是双向的"
   ]
  },
  {
   "cell_type": "markdown",
   "metadata": {},
   "source": [
    "### 定义一个关联容器\n",
    "\n",
    "- 初始化map\n",
    "\n",
    "```C++\n",
    "map<string, string> authors = { {\"Joyce\", \"James\"},\n",
    "                                {\"Austen\", \"Jane\"}};\n",
    "```"
   ]
  },
  {
   "cell_type": "markdown",
   "metadata": {},
   "source": [
    "** 初始化multimap或multiset **\n",
    "\n",
    "```C++\n",
    "vector<int> ivec;\n",
    "for(vector<int>::size_type i = 0; i != 10; ++i){\n",
    "    ivec.push_back(i);\n",
    "    ivec.push_back(i);\n",
    "}\n",
    "\n",
    "set<int> iset(ivec.begin(), ivec.end());\n",
    "multiset<int> miset(ivec.begin(), ivec.end());\n",
    "\n",
    "cout << ivec.size() << endl;     //20\n",
    "cout << iset.size() << endl;     //10\n",
    "cout << miset.size() << endl;   //20\n",
    "```"
   ]
  },
  {
   "cell_type": "code",
   "execution_count": 2,
   "metadata": {},
   "outputs": [
    {
     "name": "stdout",
     "output_type": "stream",
     "text": [
      "Overwriting ../../Code/C++PrimerCode/chapter11/7.cpp\n"
     ]
    }
   ],
   "source": [
    "%%writefile ../../Code/C++PrimerCode/chapter11/7.cpp\n",
    "/*\n",
    " * This code is writed by htfeng.\n",
    " *\n",
    " * \"Copyright (c) 2017 by Objectwrite.\"\n",
    " * Date: 2017-09-17\n",
    " * Time: 16:39pm\n",
    " *\n",
    " *  The code is the answer to exercise 7 of the elevnth chapter about the book \"C++ Primer, Fifth Edition\".\n",
    " *\n",
    " * If you have any question,please contact me.\n",
    " *\n",
    " * Email:1054708869@qq.com\n",
    "*/\n",
    "\n",
    "#include <iostream>\n",
    "#include <string>\n",
    "#include <set>\n",
    "#include <map>\n",
    "#include <unordered_set>\n",
    "#include <unordered_map>\n",
    "#include <vector>\n",
    "\n",
    "using namespace std;\n",
    "\n",
    "int main(int argc, char **argv){\n",
    "\tmap<string, vector<string>> family;\n",
    "\tstring first_name, word;\n",
    "\tvector<string> second_name;\n",
    "\n",
    "\tcout << \"first_name:\";\n",
    "\twhile(cin >> first_name && first_name != \"end\"){\n",
    "\t\tcout << \"second_name:\" << endl;;\n",
    "\t\twhile(cin >> word && word != \"end\"){\n",
    "\t\t\tsecond_name.push_back(word);\n",
    "\t\t}\n",
    "\n",
    "\t\tfor(auto it = second_name.begin(); it != second_name.end(); ++it){\n",
    "\t\t\tfamily[first_name].push_back(*it);\n",
    "\t\t}\n",
    "\t\tcout << \"first_name:\";\n",
    "\t}\n",
    "\n",
    "\tmap<string, vector<string>>::iterator mapi;\n",
    "\tfor(mapi  = family.begin(); mapi != family.end(); ++mapi){\n",
    "\t\tcout << mapi->first << \" \";\n",
    "\n",
    "\t\tvector<string>::iterator it1 = mapi->second.begin();\n",
    "\t\tfor(it1; it1 != mapi->second.end(); ++it1){\n",
    "\t\t\tcout << *it1 << \" \";\n",
    "\t\t}\t\n",
    "\t\tcout << endl;\n",
    "\t}\n",
    "\treturn 0;\n",
    "}"
   ]
  },
  {
   "cell_type": "markdown",
   "metadata": {},
   "source": [
    "### 关键字类型的要求\n"
   ]
  },
  {
   "cell_type": "markdown",
   "metadata": {},
   "source": [
    "** 有序容器的关键字类型 **\n"
   ]
  },
  {
   "cell_type": "markdown",
   "metadata": {},
   "source": [
    "** 使用关键字类型的比较函数 **"
   ]
  },
  {
   "cell_type": "markdown",
   "metadata": {},
   "source": [
    "> 有序容器在定义其关键字时，其关键字的类型必须包含元素比较的方法，如果是一个类类型，且没有包含比较方法，则不合法，可以自行定义比较类型。   \n",
    ">当我们使用decltype作用于某个函数时，它返回函数类型而非指针类型，因此我们需要显示的加上*已表明我们需要返回指针。作用：选择并返回操作数的类型，若为函数，则类型为函数的返回类型"
   ]
  },
  {
   "cell_type": "markdown",
   "metadata": {},
   "source": [
    "### pair类型\n",
    "\n",
    "- 定义在头文件utility中\n",
    "- 一个pair保存两个数据成员\n",
    "- pair是一个用来生成特定类型的模板，当创建一个pair时，我们必须提供两个类型名\n",
    "- pair的数据成员将具有对应的类型，两个类型不要求一样"
   ]
  },
  {
   "cell_type": "markdown",
   "metadata": {},
   "source": [
    "```C++\n",
    "pair<string, string> anon;\n",
    "pair<string, size_t> word_count;\n",
    "pair<string, vector<int>> line;\n",
    "```\n",
    "\n",
    "- pair的默认构造函数对数据成员进行值初始化"
   ]
  },
  {
   "cell_type": "markdown",
   "metadata": {},
   "source": [
    "** 创建pair对象的函数 **\n"
   ]
  },
  {
   "cell_type": "markdown",
   "metadata": {},
   "source": [
    "```C++\n",
    "pair<string, int> \n",
    "process(vector<string> &v){\n",
    "    if(!v.empty())\n",
    "        return {v.back(), v.back().size()};\n",
    "    else\n",
    "        return pair<string, int>();\n",
    "```"
   ]
  },
  {
   "cell_type": "code",
   "execution_count": 3,
   "metadata": {},
   "outputs": [
    {
     "name": "stdout",
     "output_type": "stream",
     "text": [
      "Writing ../../Code/C++PrimerCode/chapter11/14.cpp\n"
     ]
    }
   ],
   "source": [
    "%%writefile ../../Code/C++PrimerCode/chapter11/14.cpp\n",
    "/*\n",
    " * This code is writed by htfeng.\n",
    " *\n",
    " * \"Copyright (c) 2017 by Objectwrite.\"\n",
    " * Date: 2017-09-17\n",
    " * Time: 17:39pm\n",
    " *\n",
    " *  The code is the answer to exercise 14 of the elevnth chapter about the book \"C++ Primer, Fifth Edition\".\n",
    " *\n",
    " * If you have any question,please contact me.\n",
    " *\n",
    " * Email:1054708869@qq.com\n",
    "*/\n",
    "\n",
    "#include <iostream>\n",
    "#include <string>\n",
    "#include <set>\n",
    "#include <map>\n",
    "#include <unordered_set>\n",
    "#include <unordered_map>\n",
    "#include <vector>\n",
    "#include <utility>\n",
    "#include <algorithm>  \n",
    "\n",
    "using namespace std;\n",
    "\n",
    "int main(int argc, char **argv){\n",
    "\tmap<string, vector<string>> family;\n",
    "\tstring first_name, word,  _birthday;\n",
    "\tvector<pair<string, string>> child;\n",
    "\tvector<string> second_name;\n",
    "\n",
    "\tcout << \"first_name:\";\n",
    "\twhile(cin >> first_name && first_name != \"end\"){\n",
    "\t\tcout << \"second_name:\" << endl;;\n",
    "\t\twhile(cin >> word && word != \"end\"){\n",
    "\t\t\tsecond_name.push_back(word);\n",
    "\t\t}\n",
    "\n",
    "\t\tfor(auto it = second_name.begin(); it != second_name.end(); ++it){\n",
    "\t\t\tfamily[first_name].push_back(*it);\n",
    "            \n",
    "            cout<<\"请输入孩子的生日:\";\n",
    "\t\t\twhile (cin>>_birthday && _birthday != \"end\")  \n",
    "            {  \n",
    "                child.push_back(make_pair(*it,_birthday));  \n",
    "            }  \n",
    "\n",
    "\t\t}\n",
    "\t\tcout << \"first_name:\";\n",
    "\t}\n",
    "\n",
    "\tmap<string, vector<string>>::iterator mapi;\n",
    "\tfor(mapi  = family.begin(); mapi != family.end(); ++mapi){\n",
    "\t\tcout << mapi->first << \" \";\n",
    "\n",
    "\t\tvector<string>::iterator it1 = mapi->second.begin();\n",
    "\t\tfor(it1; it1 != mapi->second.end(); ++it1){\n",
    "\t\t\tcout << *it1 << \" \";\n",
    "\t\t}\t\n",
    "\t\tcout << endl;\n",
    "\t}\n",
    "\n",
    "\tvector<pair<string,string>>::iterator it1 = child.begin();  \n",
    "    cout<<\"孩子们的信息：\"<<endl;  \n",
    "    for (it1; it1 != child.end(); ++it1)  \n",
    "    {  \n",
    "        cout<<it1->first<<\" \"<<it1->second<<endl;  \n",
    "  \n",
    "    }  \n",
    "\n",
    "\treturn 0;\n",
    "}"
   ]
  },
  {
   "cell_type": "markdown",
   "metadata": {},
   "source": [
    "## 关联容器操作"
   ]
  },
  {
   "cell_type": "code",
   "execution_count": null,
   "metadata": {
    "collapsed": true
   },
   "outputs": [],
   "source": []
  }
 ],
 "metadata": {
  "kernelspec": {
   "display_name": "Python 3",
   "language": "python",
   "name": "python3"
  },
  "language_info": {
   "codemirror_mode": {
    "name": "ipython",
    "version": 3
   },
   "file_extension": ".py",
   "mimetype": "text/x-python",
   "name": "python",
   "nbconvert_exporter": "python",
   "pygments_lexer": "ipython3",
   "version": "3.6.1"
  }
 },
 "nbformat": 4,
 "nbformat_minor": 2
}
