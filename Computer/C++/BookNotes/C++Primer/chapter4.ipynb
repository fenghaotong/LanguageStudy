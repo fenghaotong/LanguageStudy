{
 "cells": [
  {
   "cell_type": "markdown",
   "metadata": {},
   "source": [
    "# 表达式\n",
    "\n",
    "- [X] 基础\n",
    "- [X] 算数运算符\n",
    "- [X] 逻辑和关系运算符\n",
    "- [X] 赋值运算符\n",
    "- [X] 递增和递减运算符\n",
    "- [X] 成员访问运算符\n",
    "- [X] 条件运算符\n",
    "- [X] 位运算符\n",
    "- [X] sizeof运算符\n",
    "- [X] 逗号运算符\n",
    "- [X] 类型转换"
   ]
  },
  {
   "cell_type": "markdown",
   "metadata": {},
   "source": [
    "## 基础"
   ]
  },
  {
   "cell_type": "markdown",
   "metadata": {},
   "source": [
    "- 组合运算符和运算对象\n",
    "- 运算对象转换\n",
    "- 重载运算符\n",
    "- 左值和右值"
   ]
  },
  {
   "cell_type": "markdown",
   "metadata": {},
   "source": [
    "## 算术运算符"
   ]
  },
  {
   "cell_type": "markdown",
   "metadata": {},
   "source": [
    "- 一元运算符（正负号）优先级最高，接下来乘除，最低的是加减法"
   ]
  },
  {
   "cell_type": "markdown",
   "metadata": {},
   "source": [
    "## 逻辑和关系运算符"
   ]
  },
  {
   "cell_type": "markdown",
   "metadata": {},
   "source": [
    "- 对于逻辑与运算符来说，当且仅当左侧对象为真时才对右侧运算对象求值。\n",
    "- 对于逻辑或运算符来说，当且仅当左侧对象为假时才对右侧运算对象求值。"
   ]
  },
  {
   "cell_type": "markdown",
   "metadata": {
    "collapsed": true
   },
   "source": [
    "## 赋值运算符"
   ]
  },
  {
   "cell_type": "markdown",
   "metadata": {},
   "source": [
    "## 递增和递减运算符"
   ]
  },
  {
   "cell_type": "markdown",
   "metadata": {},
   "source": [
    "## 成员访问运算符"
   ]
  },
  {
   "cell_type": "markdown",
   "metadata": {},
   "source": [
    "- ptr->mem等价于（`*ptr`）.mem\n",
    "- 解引用（`*`）运算符的优先级低于点运算符"
   ]
  },
  {
   "cell_type": "markdown",
   "metadata": {},
   "source": [
    "## 条件运算符"
   ]
  },
  {
   "cell_type": "markdown",
   "metadata": {},
   "source": [
    "- `? :`\n",
    "- cond?exprl:expr2;\n",
    "```C++\n",
    "string finalgrade = (grade) ? \"fail\":\"pass\";\n",
    "```"
   ]
  },
  {
   "cell_type": "code",
   "execution_count": 6,
   "metadata": {},
   "outputs": [
    {
     "name": "stdout",
     "output_type": "stream",
     "text": [
      "Overwriting ../../Code/C++PrimerCode/chapter4/if-else.cpp\n"
     ]
    }
   ],
   "source": [
    "%%writefile ../../Code/C++PrimerCode/chapter4/if-else.cpp\n",
    "\n",
    "\n",
    "#include<iostream>\n",
    "#include<string>\n",
    "\n",
    "using namespace::std;\n",
    "        \n",
    "int main(){\n",
    "    string s = \"word\";\n",
    "    string pl = s + (s[s.size() - 1] == 's' ? \" \":\"s\");\n",
    "    cout << pl << endl;\n",
    "    return 0;\n",
    "}"
   ]
  },
  {
   "cell_type": "markdown",
   "metadata": {},
   "source": [
    "## 位运算符"
   ]
  },
  {
   "cell_type": "markdown",
   "metadata": {},
   "source": [
    "||位运算符||\n",
    "|:---:|:---|:---|\n",
    "|运算符|功能|用法|\n",
    "|`~`|位求反|`~`expr|\n",
    "|`<<`|左移|expr`<<`expr|\n",
    "|`>>`|右移|expr`>>`expr|\n",
    "|`&`|位与|expr`&`expr|\n",
    "|`^`|位异或|expr`^`expr|\n",
    "|`竖线`|位或|expr`竖线`expr|\n"
   ]
  },
  {
   "cell_type": "markdown",
   "metadata": {
    "collapsed": true
   },
   "source": [
    "## sizeof运算符"
   ]
  },
  {
   "cell_type": "markdown",
   "metadata": {},
   "source": [
    "- sizeof运算符返回一条表达式或一个类型名字所占的字节数。\n",
    "- 满足结合律。\n",
    "- 所得的值是一个size_t类型的常量表达式。"
   ]
  },
  {
   "cell_type": "code",
   "execution_count": 5,
   "metadata": {},
   "outputs": [
    {
     "name": "stdout",
     "output_type": "stream",
     "text": [
      "Overwriting ../../Code/C++PrimerCode/chapter4/sizeof.cpp\n"
     ]
    }
   ],
   "source": [
    "%%writefile ../../Code/C++PrimerCode/chapter4/sizeof.cpp\n",
    "\n",
    "#include <iostream>\n",
    "\n",
    "using namespace::std;\n",
    "        \n",
    "int main(){\n",
    "    int x[10];\n",
    "    int *p = x;\n",
    "    \n",
    "    cout << sizeof(x) / sizeof(*x) << endl;\n",
    "    cout << sizeof(p) / sizeof(*p) << endl;\n",
    "    \n",
    "    return 0;\n",
    "}"
   ]
  },
  {
   "cell_type": "markdown",
   "metadata": {},
   "source": [
    "## 逗号运算符"
   ]
  },
  {
   "cell_type": "markdown",
   "metadata": {},
   "source": [
    "- 常用在for循环里面"
   ]
  },
  {
   "cell_type": "markdown",
   "metadata": {},
   "source": [
    "## 类型转换"
   ]
  },
  {
   "cell_type": "markdown",
   "metadata": {},
   "source": [
    "- 隐式转换\n",
    "- 算术转换\n",
    "- 其他隐式类型转换\n",
    "- 显示转换"
   ]
  },
  {
   "cell_type": "markdown",
   "metadata": {},
   "source": [
    "### 其他隐式类型转换"
   ]
  },
  {
   "cell_type": "markdown",
   "metadata": {},
   "source": [
    "- 数组转换成指针\n",
    "- 指针的转换"
   ]
  },
  {
   "cell_type": "markdown",
   "metadata": {},
   "source": [
    "### 显示转换"
   ]
  },
  {
   "cell_type": "markdown",
   "metadata": {},
   "source": [
    "- 强制类型转换\n",
    "```C++\n",
    "int i,j;\n",
    "double slope = i / j;\n",
    "```\n",
    "- 命名的强制类型转换\n",
    "```C++\n",
    "double slope = static_cast<double>(j) / i;\n",
    "```\n",
    "> 形式如下：`cast-name<type>(expr);`\n",
    "> cast-name是static_cast、dynamic_cast、const_cast和reinterpret_cast中的一种"
   ]
  },
  {
   "cell_type": "markdown",
   "metadata": {},
   "source": [
    "** static_cast **\n",
    "\n",
    "> 顶层const表示指针本身是个常量   \n",
    "> 底层const表示指针所指的对象是一个常量"
   ]
  },
  {
   "cell_type": "markdown",
   "metadata": {},
   "source": [
    "- 任何具有明确定义的类型转换，只要不包含底层const，都可以使用static_cast."
   ]
  },
  {
   "cell_type": "markdown",
   "metadata": {},
   "source": [
    "** const_cast **"
   ]
  },
  {
   "cell_type": "markdown",
   "metadata": {},
   "source": [
    "- 只能改变运算对象的底层const。（去掉const性质）"
   ]
  },
  {
   "cell_type": "markdown",
   "metadata": {},
   "source": [
    "```C++\n",
    "const char *pc;\n",
    "char *q = const_cast<char*>(pc);\n",
    "```"
   ]
  },
  {
   "cell_type": "markdown",
   "metadata": {},
   "source": [
    "```C++\n",
    "const char *cp;\n",
    "char *q = static_cast<char*>(cp);  //错误：static_cast不能转换掉const性质\n",
    "static_cast<string>(cp);    //正确：字符串字面值转换成string类型\n",
    "const_cast<string>(cp);    //错误：const_cast只能改变常量属性\n",
    "```"
   ]
  },
  {
   "cell_type": "markdown",
   "metadata": {},
   "source": [
    "** reinterpret_cast **"
   ]
  },
  {
   "cell_type": "markdown",
   "metadata": {},
   "source": [
    "- reinterpret_cast通常为运算对象的位模式提供较低层次的重新解释，举个例子，假设有如下的转换\n",
    "```C++\n",
    "int *ip;\n",
    "char *pc = reinterpret_cast<char*>(ip);\n",
    "```\n",
    "> 我们必须牢记pc所指的真实对象是一个int而非字符，如果把pc当成普通的字符指针使用就可能在运行时发生错误。"
   ]
  }
 ],
 "metadata": {
  "kernelspec": {
   "display_name": "Python 3",
   "language": "python",
   "name": "python3"
  },
  "language_info": {
   "codemirror_mode": {
    "name": "ipython",
    "version": 3
   },
   "file_extension": ".py",
   "mimetype": "text/x-python",
   "name": "python",
   "nbconvert_exporter": "python",
   "pygments_lexer": "ipython3",
   "version": "3.6.1"
  }
 },
 "nbformat": 4,
 "nbformat_minor": 1
}
