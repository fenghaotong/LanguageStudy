{
 "cells": [
  {
   "cell_type": "markdown",
   "metadata": {},
   "source": [
    "# 第六章 函数\n",
    "\n",
    "- [] 函数基础\n",
    "- [] 参数传递\n",
    "- [] 返回类型和return语句\n",
    "- [] 函数重载\n",
    "- [] 特殊用途语言特性\n",
    "- [] 函数匹配\n",
    "- [] 函数指针"
   ]
  },
  {
   "cell_type": "markdown",
   "metadata": {},
   "source": [
    "## 函数基础\n",
    "\n",
    "- 一个典型的函数定义包括：返回类型、函数名字、由0个或多个形参组成的列表以及函数体。"
   ]
  },
  {
   "cell_type": "markdown",
   "metadata": {
    "collapsed": true
   },
   "source": [
    "** 编写函数 **"
   ]
  },
  {
   "cell_type": "markdown",
   "metadata": {},
   "source": [
    "** 调用函数 **"
   ]
  },
  {
   "cell_type": "markdown",
   "metadata": {},
   "source": [
    "** 形参和实参 **"
   ]
  },
  {
   "cell_type": "markdown",
   "metadata": {},
   "source": [
    "- 实参是形参的初始值。"
   ]
  },
  {
   "cell_type": "markdown",
   "metadata": {},
   "source": [
    "** 函数的形参列表 **"
   ]
  },
  {
   "cell_type": "markdown",
   "metadata": {},
   "source": [
    "** 函数返回类型**"
   ]
  },
  {
   "cell_type": "code",
   "execution_count": 2,
   "metadata": {
    "collapsed": false
   },
   "outputs": [
    {
     "name": "stdout",
     "output_type": "stream",
     "text": [
      "Overwriting ../../Code/C++PrimerCode/chapter6/4.cpp\n"
     ]
    }
   ],
   "source": [
    "%%writefile ../../Code/C++PrimerCode/chapter6/4.cpp\n",
    "/*\n",
    " * This code is writed by htfeng.\n",
    " * \n",
    " * \"Copyright (c) 2017 by Objectwrite.\"\n",
    " * Date: 2017-08-22\n",
    " * Time: 15:57\n",
    " *\n",
    " *  The code is the answer to exercise 4 of the sixth chapter about the book \"C++ Primer, Fifth Edition\".\n",
    " *\n",
    " * If you have any question,please contact me.\n",
    " * \n",
    " * Email:1054708869@qq.com\n",
    "*/ \n",
    "#pragma GCC diagnostic error \"-std=c++11\"  \n",
    "#include <iostream>\n",
    "#include <string>\n",
    "\n",
    "using namespace::std;\n",
    "\n",
    "int fact(int member){\n",
    "\tif (member < 1){\n",
    "\t\treturn 1;\n",
    "\t}else{\n",
    "\t\treturn member * fact(member - 1);\n",
    "\t}\t\n",
    "}\n",
    "\n",
    "int main(){\n",
    "\tint data;\n",
    "\n",
    "\tcout << \"please input a data(int):\";\n",
    "\tcin >> data;\n",
    "\n",
    "\tcout << fact(data) << endl;\n",
    "\treturn 0;\n",
    "}"
   ]
  },
  {
   "cell_type": "markdown",
   "metadata": {},
   "source": [
    "### 局部对象"
   ]
  },
  {
   "cell_type": "markdown",
   "metadata": {},
   "source": [
    "** 自动对象 **\n",
    "\n",
    "- 函数开始时创建，结束时销毁"
   ]
  },
  {
   "cell_type": "markdown",
   "metadata": {},
   "source": [
    "** 局部静态对象 **\n",
    "\n",
    "- 调用函数对它不造成影响"
   ]
  },
  {
   "cell_type": "markdown",
   "metadata": {},
   "source": [
    "```C++\n",
    "size_t count_calls(){\n",
    "    static size_t ctr = 0;\n",
    "    return ++ctr;\n",
    "}\n",
    "\n",
    "int main(){\n",
    "    for (sizr_t i = 0; i != 10; ++i)\n",
    "        cout << count_calls << endl;\n",
    "    return 0;\n",
    "}\n",
    "```"
   ]
  },
  {
   "cell_type": "markdown",
   "metadata": {},
   "source": [
    "### 函数声明"
   ]
  },
  {
   "cell_type": "code",
   "execution_count": 6,
   "metadata": {
    "collapsed": false
   },
   "outputs": [
    {
     "name": "stdout",
     "output_type": "stream",
     "text": [
      "Overwriting ../../Code/C++PrimerCode/chapter6/chapter6.h\n"
     ]
    }
   ],
   "source": [
    "%%writefile ../../Code/C++PrimerCode/chapter6/chapter6.h\n",
    "/*\n",
    " * This code is writed by htfeng.\n",
    " * \n",
    " * \"Copyright (c) 2017 by Objectwrite.\"\n",
    " * Date: 2017-08-22\n",
    " * Time: 15:57\n",
    " *\n",
    " *  The code is the answer to head file of the sixth chapter about the book \"C++ Primer, Fifth Edition\".\n",
    " *\n",
    " * If you have any question,please contact me.\n",
    " * \n",
    " * Email:1054708869@qq.com\n",
    "*/ \n",
    "#include <iostream>  \n",
    "#include <string>  \n",
    "#include <vector>  \n",
    "\n",
    "using namespace std;  \n",
    "\n",
    "int fact(int mumber);  \n",
    "int fun(); "
   ]
  },
  {
   "cell_type": "markdown",
   "metadata": {},
   "source": [
    "## 函数传递"
   ]
  },
  {
   "cell_type": "markdown",
   "metadata": {},
   "source": [
    "### 指针形参"
   ]
  },
  {
   "cell_type": "code",
   "execution_count": 8,
   "metadata": {
    "collapsed": false
   },
   "outputs": [
    {
     "name": "stdout",
     "output_type": "stream",
     "text": [
      "Overwriting ../../Code/C++PrimerCode/chapter6/10.cpp\n"
     ]
    }
   ],
   "source": [
    "%%writefile ../../Code/C++PrimerCode/chapter6/10.cpp\n",
    "/*\n",
    " * This code is writed by htfeng.\n",
    " * \n",
    " * \"Copyright (c) 2017 by Objectwrite.\"\n",
    " * Date: 2017-08-22\n",
    " * Time: 15:57\n",
    " *\n",
    " *  The code is the answer to exercise 10 of the sixth chapter about the book \"C++ Primer, Fifth Edition\".\n",
    " *\n",
    " * If you have any question,please contact me.\n",
    " * \n",
    " * Email:1054708869@qq.com\n",
    "*/ \n",
    "#pragma GCC diagnostic error \"-std=c++11\"  \n",
    "#include <iostream>\n",
    "#include <string>\n",
    "#include \"chapter6.h\"\n",
    "\n",
    "using namespace::std;\n",
    "\n",
    "int main(){\n",
    "\tint a ,b;\n",
    "\n",
    "\tcout << \"please input two int data:\";\n",
    "\tcin >> a >> b;\n",
    "\tcout << \"before\" << endl;\n",
    "\tcout << \"a = \" << a << \"b = \" << b << endl;\n",
    "\n",
    "\tswit(a,b);\n",
    "\n",
    "\tcout << \"a = \" << a << \"b = \" << b << endl;\n",
    "\treturn 0;\n",
    "}\n",
    "\n",
    "int swit(int &i, int &j){\n",
    "\tint a;\n",
    "\ta = i;\n",
    "\ti = j;\n",
    "\tj = a;\n",
    "\treturn 0;\n",
    "}"
   ]
  },
  {
   "cell_type": "markdown",
   "metadata": {},
   "source": [
    "### 传引用的参数"
   ]
  },
  {
   "cell_type": "markdown",
   "metadata": {},
   "source": [
    "** 使用引用避免拷贝 **\n",
    "\n",
    "- 比较两个string对象的长度，这两个对象可能比较长时，应该避免直接拷贝他们\n",
    "\n",
    "```C++\n",
    "bool isShorter(const string &s1, const string &s2){\n",
    "    return s1.size() < s2.size();\n",
    "}\n",
    "```"
   ]
  },
  {
   "cell_type": "markdown",
   "metadata": {},
   "source": [
    "** 使用引用形参返回额外信息 **\n",
    "\n",
    "- 定义一个函数，find_char的函数，他返回在string对象中某个指定字符第一次出现的位置，同时也希望函数能返回字符出现的次数。"
   ]
  },
  {
   "cell_type": "markdown",
   "metadata": {},
   "source": [
    "```C++\n",
    "string::size_type find_char(const string &s, char c, string::size_type &occurs){\n",
    "    auto ret = s.size();\n",
    "    occurs = 0;\n",
    "    for(decltype(ret) i = 0; i != s.size(); ++i){\n",
    "        if(s[i] == c){\n",
    "            if (ret == s.size()\n",
    "                ret = i;\n",
    "            ++occurs\n",
    "        }\n",
    "    }\n",
    "    return ret;\n",
    "}\n",
    "```\n",
    "\n",
    "> string::size_type: 所有存放string类的size（）函数返回值的变量，都应该是string::size_type类型的"
   ]
  },
  {
   "cell_type": "markdown",
   "metadata": {},
   "source": [
    "### const形参和实参"
   ]
  },
  {
   "cell_type": "markdown",
   "metadata": {},
   "source": [
    "** 指针或引用形参与const **"
   ]
  },
  {
   "cell_type": "markdown",
   "metadata": {},
   "source": [
    "** 尽量使用常量引用 **"
   ]
  },
  {
   "cell_type": "code",
   "execution_count": 9,
   "metadata": {
    "collapsed": false
   },
   "outputs": [
    {
     "name": "stdout",
     "output_type": "stream",
     "text": [
      "Writing ../../Code/C++PrimerCode/chapter6/17.cpp\n"
     ]
    }
   ],
   "source": [
    "%%writefile ../../Code/C++PrimerCode/chapter6/17.cpp\n",
    "/*\n",
    " * This code is writed by htfeng.\n",
    " * \n",
    " * \"Copyright (c) 2017 by Objectwrite.\"\n",
    " * Date: 2017-08-22\n",
    " * Time: 15:57\n",
    " *\n",
    " *  The code is the answer to exercise 17 of the sixth chapter about the book \"C++ Primer, Fifth Edition\".\n",
    " *\n",
    " * If you have any question,please contact me.\n",
    " * \n",
    " * Email:1054708869@qq.com\n",
    "*/ \n",
    "#pragma GCC diagnostic error \"-std=c++11\"  \n",
    "#include <iostream>\n",
    "#include <string>\n",
    "#include \"chapter6.h\"\n"
   ]
  },
  {
   "cell_type": "markdown",
   "metadata": {},
   "source": [
    "### 数组形参"
   ]
  },
  {
   "cell_type": "code",
   "execution_count": null,
   "metadata": {
    "collapsed": true
   },
   "outputs": [],
   "source": []
  }
 ],
 "metadata": {
  "kernelspec": {
   "display_name": "Python [Root]",
   "language": "python",
   "name": "Python [Root]"
  },
  "language_info": {
   "codemirror_mode": {
    "name": "ipython",
    "version": 3
   },
   "file_extension": ".py",
   "mimetype": "text/x-python",
   "name": "python",
   "nbconvert_exporter": "python",
   "pygments_lexer": "ipython3",
   "version": "3.5.1"
  }
 },
 "nbformat": 4,
 "nbformat_minor": 0
}
