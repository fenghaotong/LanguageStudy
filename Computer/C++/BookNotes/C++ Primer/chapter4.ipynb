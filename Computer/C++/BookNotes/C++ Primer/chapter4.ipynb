{
 "cells": [
  {
   "cell_type": "markdown",
   "metadata": {},
   "source": [
    "# 表达式\n",
    "\n",
    "- [X] 基础\n",
    "- [X] 算数运算符\n",
    "- [X] 逻辑和关系运算符\n",
    "- [X] 赋值运算符\n",
    "- [X] 递增和递减运算符\n",
    "- [X] 成员访问运算符\n",
    "- [X] 条件运算符\n",
    "- [X] 位运算符\n",
    "- [] sizeof运算符\n",
    "- [] 逗号运算符\n",
    "- [] 类型转换"
   ]
  },
  {
   "cell_type": "markdown",
   "metadata": {},
   "source": [
    "## 基础"
   ]
  },
  {
   "cell_type": "markdown",
   "metadata": {},
   "source": [
    "- 组合运算符和运算对象\n",
    "- 运算对象转换\n",
    "- 重载运算符\n",
    "- 左值和右值"
   ]
  },
  {
   "cell_type": "markdown",
   "metadata": {},
   "source": [
    "## 算术运算符"
   ]
  },
  {
   "cell_type": "markdown",
   "metadata": {},
   "source": [
    "- 一元运算符（正负号）优先级最高，接下来乘除，最低的是加减法"
   ]
  },
  {
   "cell_type": "markdown",
   "metadata": {},
   "source": [
    "## 逻辑和关系运算符"
   ]
  },
  {
   "cell_type": "markdown",
   "metadata": {},
   "source": [
    "- 对于逻辑与运算符来说，当且仅当左侧对象为真时才对右侧运算对象求值。\n",
    "- 对于逻辑或运算符来说，当且仅当左侧对象为假时才对右侧运算对象求值。"
   ]
  },
  {
   "cell_type": "markdown",
   "metadata": {
    "collapsed": true
   },
   "source": [
    "## 赋值运算符"
   ]
  },
  {
   "cell_type": "markdown",
   "metadata": {},
   "source": [
    "## 递增和递减运算符"
   ]
  },
  {
   "cell_type": "markdown",
   "metadata": {},
   "source": [
    "## 成员访问运算符"
   ]
  },
  {
   "cell_type": "markdown",
   "metadata": {},
   "source": [
    "- ptr->mem等价于（`*ptr`）.mem\n",
    "- 解引用（`*`）运算符的优先级低于点运算符"
   ]
  },
  {
   "cell_type": "markdown",
   "metadata": {},
   "source": [
    "## 条件运算符"
   ]
  },
  {
   "cell_type": "markdown",
   "metadata": {},
   "source": [
    "- `? :`\n",
    "- cond?exprl:expr2;\n",
    "```C++\n",
    "string finalgrade = (grade) ? \"fail\":\"pass\";\n",
    "```"
   ]
  },
  {
   "cell_type": "code",
   "execution_count": 6,
   "metadata": {
    "collapsed": false
   },
   "outputs": [
    {
     "name": "stdout",
     "output_type": "stream",
     "text": [
      "Overwriting ../../Code/C++PrimerCode/chapter4/if-else.cpp\n"
     ]
    }
   ],
   "source": [
    "%%writefile ../../Code/C++PrimerCode/chapter4/if-else.cpp\n",
    "\n",
    "\n",
    "#include<iostream>\n",
    "#include<string>\n",
    "\n",
    "using namespace::std;\n",
    "        \n",
    "int main(){\n",
    "    string s = \"word\";\n",
    "    string pl = s + (s[s.size() - 1] == 's' ? \" \":\"s\");\n",
    "    cout << pl << endl;\n",
    "    return 0;\n",
    "}"
   ]
  },
  {
   "cell_type": "markdown",
   "metadata": {},
   "source": [
    "## 位运算符"
   ]
  },
  {
   "cell_type": "markdown",
   "metadata": {},
   "source": [
    "||位运算符||\n",
    "|:---:|:---|:---|\n",
    "|运算符|功能|用法|\n",
    "|`~`|位求反|`~`expr|\n",
    "|`<<`|左移|expr`<<`expr|\n",
    "|`>>`|右移|expr`>>`expr|\n",
    "|`&`|位与|expr`&`expr|\n",
    "|`^`|位异或|expr`^`expr|\n",
    "|`竖线`|位或|expr`竖线`expr|\n"
   ]
  },
  {
   "cell_type": "code",
   "execution_count": null,
   "metadata": {
    "collapsed": true
   },
   "outputs": [],
   "source": []
  }
 ],
 "metadata": {
  "kernelspec": {
   "display_name": "Python [Root]",
   "language": "python",
   "name": "Python [Root]"
  },
  "language_info": {
   "codemirror_mode": {
    "name": "ipython",
    "version": 3
   },
   "file_extension": ".py",
   "mimetype": "text/x-python",
   "name": "python",
   "nbconvert_exporter": "python",
   "pygments_lexer": "ipython3",
   "version": "3.5.1"
  }
 },
 "nbformat": 4,
 "nbformat_minor": 0
}
