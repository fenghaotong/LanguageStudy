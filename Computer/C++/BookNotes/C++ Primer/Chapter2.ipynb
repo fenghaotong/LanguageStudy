{
 "cells": [
  {
   "cell_type": "markdown",
   "metadata": {},
   "source": [
    "# Chapter2变量和基本类型\n",
    "\n",
    "- [X] 基本内置类型\n",
    "- [X] 变量\n",
    "- [X] 复合类型\n",
    "- [X] const限定符\n",
    "- [X] 处理类型\n",
    "- [X] 自定义数据结构"
   ]
  },
  {
   "cell_type": "markdown",
   "metadata": {
    "collapsed": true
   },
   "source": [
    "### 自定义数据结构"
   ]
  },
  {
   "cell_type": "code",
   "execution_count": 9,
   "metadata": {
    "collapsed": false
   },
   "outputs": [
    {
     "name": "stdout",
     "output_type": "stream",
     "text": [
      "Overwriting ../../Code/C++PrimerCode/chapter1/Sales_data.h\n"
     ]
    }
   ],
   "source": [
    "%%writefile ../../Code/C++PrimerCode/chapter1/Sales_data.h\n",
    "\n",
    "struct Sales_data{\n",
    "    std::string bookNo;\n",
    "    unsigned units_sold;\n",
    "    double revenue;\n",
    "}; "
   ]
  },
  {
   "cell_type": "markdown",
   "metadata": {},
   "source": [
    "> 最好不要把对象的定义和类的定义放在一起"
   ]
  },
  {
   "cell_type": "markdown",
   "metadata": {},
   "source": [
    "### 使用Sales_data类"
   ]
  },
  {
   "cell_type": "code",
   "execution_count": 7,
   "metadata": {
    "collapsed": false
   },
   "outputs": [
    {
     "name": "stdout",
     "output_type": "stream",
     "text": [
      "Overwriting ../../Code/C++PrimerCode/chapter1/add_data.cpp\n"
     ]
    }
   ],
   "source": [
    "%%writefile ../../Code/C++PrimerCode/chapter1/add_data.cpp\n",
    "\n",
    "#include<iostream>\n",
    "#include<string>\n",
    "#include \"Sales_data.h\"\n",
    "\n",
    "int main(){\n",
    "    Sales_data data1,data2;\n",
    "\tdouble price = 0.0;\n",
    "\n",
    "\tstd::cin >> data1.bookNo >> data1.units_sold >> price;\n",
    "\tdata1.revenue = data1.units_sold * price;\n",
    "\tstd::cin >> data2.bookNo >> data2.units_sold >> price;\n",
    "\tdata2.revenue = data2.units_sold * price;\n",
    "\t\n",
    "\tif(data1.bookNo == data2.bookNo){\n",
    "\t\tunsigned totalCnt = data1.units_sold + data2.units_sold;\n",
    "\t\tdouble totalRevenue = data1.revenue + data2.units_sold;\n",
    "\t\tstd::cout << data1.bookNo << \" \" << totalCnt << \" \" << totalRevenue << \" \";\n",
    "\t\tif(totalCnt != 0)\n",
    "\t\t\tstd::cout << totalRevenue/totalCnt << std::endl;\n",
    "\t\telse\n",
    "\t\t\tstd::cout << \"(no sales)\" << std::endl;\n",
    "\t\treturn 0;\n",
    "\t}else{\n",
    "\t\tstd::cerr << \"Data must refer to the same ISBN\" << std::endl;\n",
    "\t\treturn -1;\n",
    "\t}\n",
    "\treturn 0;\n",
    "}"
   ]
  },
  {
   "cell_type": "markdown",
   "metadata": {},
   "source": [
    "- 头文件通常包含那些被定义一次的实体，如类、const和constexpr变量"
   ]
  },
  {
   "cell_type": "markdown",
   "metadata": {},
   "source": [
    "### 预处理器概述\n",
    "\n",
    "确保头文件多次包含仍能安全工作的常用技术是预处理器。\n",
    "\n",
    "```C++\n",
    "#include\n",
    "```"
   ]
  },
  {
   "cell_type": "markdown",
   "metadata": {},
   "source": [
    "预处理变量的两种状态：\n",
    "- 已定义\n",
    "- 未定义"
   ]
  },
  {
   "cell_type": "markdown",
   "metadata": {},
   "source": [
    "```C++\n",
    "#define // 指令一个名字设定为预处理变量\n",
    "#ifdef // 当且仅当变量已定义时为真\n",
    "#ifndef // 当且仅当变量未定义时为真\n",
    "#endif  // 一旦检查结果为真，则执行后续操作直到此为止\n",
    "```\n"
   ]
  },
  {
   "cell_type": "code",
   "execution_count": 10,
   "metadata": {
    "collapsed": false
   },
   "outputs": [
    {
     "name": "stdout",
     "output_type": "stream",
     "text": [
      "Overwriting ../../Code/C++PrimerCode/chapter1/Sales_data.h\n"
     ]
    }
   ],
   "source": [
    "%%writefile ../../Code/C++PrimerCode/chapter1/Sales_data.h\n",
    "\n",
    "#ifndef SALES_DATA_H\n",
    "#define SALES_DATA_H\n",
    "struct Sales_data{\n",
    "    std::string bookNo;\n",
    "    unsigned units_sold;\n",
    "    double revenue;\n",
    "}; \n",
    "#endif"
   ]
  },
  {
   "cell_type": "code",
   "execution_count": null,
   "metadata": {
    "collapsed": true
   },
   "outputs": [],
   "source": []
  }
 ],
 "metadata": {
  "anaconda-cloud": {},
  "kernelspec": {
   "display_name": "Python [Root]",
   "language": "python",
   "name": "Python [Root]"
  },
  "language_info": {
   "codemirror_mode": {
    "name": "ipython",
    "version": 3
   },
   "file_extension": ".py",
   "mimetype": "text/x-python",
   "name": "python",
   "nbconvert_exporter": "python",
   "pygments_lexer": "ipython3",
   "version": "3.5.1"
  }
 },
 "nbformat": 4,
 "nbformat_minor": 0
}
