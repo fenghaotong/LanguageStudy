{
 "cells": [
  {
   "cell_type": "markdown",
   "metadata": {},
   "source": [
    "# chapter3字符串、向量和数组\n",
    "\n",
    "- [] 命名空间的using声明\n",
    "- [] 标准库类型string\n",
    "- [] 标准库类型vector\n",
    "- [] 迭代器\n",
    "- [] 数组\n",
    "- [] 多维数组"
   ]
  },
  {
   "cell_type": "markdown",
   "metadata": {
    "collapsed": true
   },
   "source": [
    "## 命名空间的using声明"
   ]
  },
  {
   "cell_type": "markdown",
   "metadata": {},
   "source": [
    "using声明的形式：\n",
    "\n",
    "```C++\n",
    "using namespace::name\n",
    "```"
   ]
  },
  {
   "cell_type": "markdown",
   "metadata": {},
   "source": [
    "## 标准库类型string\n",
    "\n",
    "```C++\n",
    "#include<string>\n",
    "using std::string\n",
    "```"
   ]
  },
  {
   "cell_type": "markdown",
   "metadata": {},
   "source": [
    "### 定义和初始化string对象 "
   ]
  },
  {
   "cell_type": "markdown",
   "metadata": {},
   "source": [
    "初始化string对象的方式  \n",
    "\n",
    "|||  \n",
    "|:----:|:------|     \n",
    "|string s1|默认初始化，s1是一个空串|\n",
    "|string s2(s1)|s2是s1的副本|\n",
    "|string s2 = s1|等价于s2（s1），s2是s1的副本|\n",
    "|string s3(\"value\")|s3是字面值“value”的副本，除了字面值最后的那个空字符外|\n",
    "|string s3 = \"value\"|等价于s3（\"value\"），s3是字面值\"value\"的副本|\n",
    "|string s4(n,'c')|把s4的初始化为由连续n和字符c组成的串|"
   ]
  },
  {
   "cell_type": "markdown",
   "metadata": {},
   "source": [
    "** 直接初始化和拷贝初始化 **\n",
    "\n",
    "- 使用等号初始化一个变量：拷贝初始化\n",
    "- 不使用等号初始化：直接初始化"
   ]
  },
  {
   "cell_type": "markdown",
   "metadata": {},
   "source": [
    "### string对象上的操作 "
   ]
  },
  {
   "cell_type": "markdown",
   "metadata": {},
   "source": [
    "** 读写string对象 **\n",
    "\n",
    "- string对象会自动忽略开头的空白（即空格符、换行符、制表符等）并从第一个真正的字符开始读起，直到遇到下一处空白为止"
   ]
  },
  {
   "cell_type": "markdown",
   "metadata": {},
   "source": [
    "** 读取未知数量的string对象 **"
   ]
  },
  {
   "cell_type": "markdown",
   "metadata": {},
   "source": [
    "** 使用getline读取一整行 **\n",
    "\n",
    "- getling函数的参数是一个输入流和一个string对象"
   ]
  },
  {
   "cell_type": "code",
   "execution_count": 3,
   "metadata": {
    "collapsed": false
   },
   "outputs": [
    {
     "name": "stdout",
     "output_type": "stream",
     "text": [
      "Overwriting ../../Code/C++PrimerCode/chapter3/getline.cpp\n"
     ]
    }
   ],
   "source": [
    "%%writefile ../../Code/C++PrimerCode/chapter3/getline.cpp\n",
    "\n",
    "\n",
    "#include<iostream>\n",
    "#include<string>\n",
    "using namespace::std;\n",
    "\n",
    "int main(){\n",
    "    string line;\n",
    "    \n",
    "    while(getline(cin, line))\n",
    "        cout << line << endl;\n",
    "    \n",
    "    return 0;\n",
    "}"
   ]
  },
  {
   "cell_type": "markdown",
   "metadata": {},
   "source": [
    "** string的empty和size操作 **\n",
    "\n",
    "- empty函数根据string对象是否为空返回一个对应的布尔值"
   ]
  },
  {
   "cell_type": "code",
   "execution_count": 4,
   "metadata": {
    "collapsed": false
   },
   "outputs": [
    {
     "name": "stdout",
     "output_type": "stream",
     "text": [
      "Overwriting ../../Code/C++PrimerCode/chapter3/getline.cpp\n"
     ]
    }
   ],
   "source": [
    "%%writefile ../../Code/C++PrimerCode/chapter3/getline.cpp\n",
    "\n",
    "\n",
    "#include<iostream>\n",
    "#include<string>\n",
    "using namespace::std;\n",
    "\n",
    "int main(){\n",
    "    string line;\n",
    "    \n",
    "    while(getline(cin, line))\n",
    "        if(!line.empty())\n",
    "            cout << line << endl;\n",
    "    \n",
    "    return 0;\n",
    "}"
   ]
  },
  {
   "cell_type": "markdown",
   "metadata": {},
   "source": [
    "- size函数返回string对象的长度"
   ]
  },
  {
   "cell_type": "code",
   "execution_count": 5,
   "metadata": {
    "collapsed": false
   },
   "outputs": [
    {
     "name": "stdout",
     "output_type": "stream",
     "text": [
      "Overwriting ../../Code/C++PrimerCode/chapter3/getline.cpp\n"
     ]
    }
   ],
   "source": [
    "%%writefile ../../Code/C++PrimerCode/chapter3/getline.cpp\n",
    "\n",
    "\n",
    "#include<iostream>\n",
    "#include<string>\n",
    "using namespace::std;\n",
    "\n",
    "int main(){\n",
    "    string line;\n",
    "    \n",
    "    while(getline(cin, line))\n",
    "        if(line.size() > 80)\n",
    "            cout << line << endl;\n",
    "    \n",
    "    return 0;\n",
    "}"
   ]
  },
  {
   "cell_type": "markdown",
   "metadata": {},
   "source": [
    "** string::size_type **"
   ]
  },
  {
   "cell_type": "code",
   "execution_count": 7,
   "metadata": {
    "collapsed": false
   },
   "outputs": [
    {
     "name": "stdout",
     "output_type": "stream",
     "text": [
      "Overwriting ../../Code/C++PrimerCode/chapter3/size_type.cpp\n"
     ]
    }
   ],
   "source": [
    "%%writefile ../../Code/C++PrimerCode/chapter3/size_type.cpp\n",
    "\n",
    "#include <string>\n",
    "using std::string;\n",
    "\n",
    "#include <cctype>\n",
    "using std::isupper; using std::toupper;\n",
    "using std::islower; using std::tolower;\n",
    "using std::isalpha; using std::isspace;\n",
    "\n",
    "#include <iostream>\n",
    "using std::cout; using std::endl;\n",
    "\n",
    "void main()\n",
    "{\n",
    "\tstring s(\"Hello World!!!\");\n",
    "\t// punct_cnt has the same type that s.size returns\n",
    "\tdecltype(s.size()) punct_cnt = 0;\n",
    "\t// count the number of punctuation characters in s\n",
    "\tfor (auto c : s)         // for every char in s\n",
    "\tif (ispunct(c))      // if the character is punctuation\n",
    "\t\t++punct_cnt;     // increment the punctuation counter\n",
    "\n",
    "\tcout << punct_cnt\n",
    "\t\t<< \" punctuation characters in \" << s << endl;\n",
    "\n",
    "\t// convert s to uppercase\n",
    "\tstring orig = s;\n",
    "\tfor (auto &c : s)   // for every char in s (note: c is a reference)\n",
    "\t\t// c is a reference, so this assignment changes the char in s\n",
    "\t\tc = toupper(c);\n",
    "\tcout << s << endl;\n",
    "\n",
    "\t// convert first word in s to uppercase\n",
    "\ts = orig;  // restore s to original case\n",
    "\tdecltype(s.size()) index = 0;\n",
    "\n",
    "\t// process characters in s until we run out of characters \n",
    "\t// or we hit a whitespace\n",
    "\twhile (index != s.size() && !isspace(s[index])) {\n",
    "\n",
    "\t\t// s[index] returns a reference so we can change \n",
    "\t\t// the underlying character\n",
    "\t\ts[index] = toupper(s[index]);\n",
    "\n",
    "\t\t// increment the index to look at the next character \n",
    "\t\t// on the next iteration\n",
    "\t\t++index;\n",
    "\t}\n",
    "\tcout << s << endl;\n",
    "}"
   ]
  },
  {
   "cell_type": "markdown",
   "metadata": {},
   "source": [
    "** 比较string对象 **"
   ]
  },
  {
   "cell_type": "code",
   "execution_count": null,
   "metadata": {
    "collapsed": true
   },
   "outputs": [],
   "source": []
  }
 ],
 "metadata": {
  "kernelspec": {
   "display_name": "Python [Root]",
   "language": "python",
   "name": "Python [Root]"
  },
  "language_info": {
   "codemirror_mode": {
    "name": "ipython",
    "version": 3
   },
   "file_extension": ".py",
   "mimetype": "text/x-python",
   "name": "python",
   "nbconvert_exporter": "python",
   "pygments_lexer": "ipython3",
   "version": "3.5.1"
  }
 },
 "nbformat": 4,
 "nbformat_minor": 0
}
