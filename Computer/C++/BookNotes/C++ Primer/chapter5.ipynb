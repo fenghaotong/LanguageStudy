{
 "cells": [
  {
   "cell_type": "markdown",
   "metadata": {},
   "source": [
    "# 语句\n",
    "\n",
    "- [X] 简单语句\n",
    "- [X] 语句作用域\n",
    "- [] 条件语句\n",
    "- [] 迭代语句\n",
    "- [] 跳转语句\n",
    "- [] try语句块和异常处理"
   ]
  },
  {
   "cell_type": "markdown",
   "metadata": {},
   "source": [
    "## 简单语句"
   ]
  },
  {
   "cell_type": "markdown",
   "metadata": {},
   "source": [
    "- 空语句（`;`）\n",
    "- 别漏写分号，也别多写分号\n",
    "- 复合语句（块）"
   ]
  },
  {
   "cell_type": "markdown",
   "metadata": {},
   "source": [
    "## 语句作用域"
   ]
  },
  {
   "cell_type": "markdown",
   "metadata": {},
   "source": [
    "## 条件语句"
   ]
  },
  {
   "cell_type": "markdown",
   "metadata": {},
   "source": [
    "### if语句"
   ]
  },
  {
   "cell_type": "markdown",
   "metadata": {},
   "source": [
    "```C++\n",
    "if(grade < 60)\n",
    "    lettergrade = scores[0];\n",
    "else{\n",
    "    lettergrade = scores[(grade-50)/10];\n",
    "    if(grade != 100)\n",
    "        if(grade % 10 > 7)\n",
    "            lettergrade += '+';\n",
    "        else if (grade % 10 < 3)\n",
    "            lettergrade += '-';\n",
    "}\n",
    "```"
   ]
  },
  {
   "cell_type": "markdown",
   "metadata": {},
   "source": [
    "```C++\n",
    "(grade < 60) ? scores[0] : scores[[grade-50)/10];\n",
    "```"
   ]
  },
  {
   "cell_type": "markdown",
   "metadata": {},
   "source": [
    "### switch语句"
   ]
  },
  {
   "cell_type": "markdown",
   "metadata": {
    "collapsed": true
   },
   "source": [
    "```C++\n",
    "unsigned aCnt = 0, eCnt = 0,iCnt = 0, oCnt = 0,uCnt = 0;\n",
    "char ch;\n",
    "\n",
    "while(cin >> ch){\n",
    "    switch(ch){\n",
    "        case 'a':\n",
    "            aCnt++;\n",
    "            break;\n",
    "        case 'e':\n",
    "            eCnt++;\n",
    "            break;\n",
    "        case 'a':\n",
    "            iCnt++;\n",
    "            break;\n",
    "        case 'a':\n",
    "            oCnt++;\n",
    "            break;\n",
    "        case 'a':\n",
    "            uCnt++;\n",
    "            break;\n",
    "    }\n",
    "}\n",
    "```"
   ]
  },
  {
   "cell_type": "markdown",
   "metadata": {},
   "source": [
    "> case必须是整型常量表达式"
   ]
  },
  {
   "cell_type": "markdown",
   "metadata": {},
   "source": [
    "** switch内部的控制流 **"
   ]
  },
  {
   "cell_type": "markdown",
   "metadata": {},
   "source": [
    "```C++\n",
    "switch(ch){   //计算这几个字母一共出现的次数\n",
    "    case 'a'：\n",
    "    case 'e'：\n",
    "    case 'i'：\n",
    "    case 'o'：\n",
    "    case 'u'：\n",
    "        ++vowelCnt;\n",
    "        break;\n",
    "}\n",
    "```"
   ]
  },
  {
   "cell_type": "markdown",
   "metadata": {},
   "source": [
    "```C++\n",
    "switch(ch){   //计算这几个字母一共出现的次数\n",
    "    case 'a'：\n",
    "    case 'e'：\n",
    "    case 'i'：\n",
    "    case 'o'：\n",
    "    case 'u'：\n",
    "        ++vowelCnt;\n",
    "        break;\n",
    "    default:\n",
    "        ++otherCnt;\n",
    "        break;\n",
    "}\n",
    "```"
   ]
  },
  {
   "cell_type": "markdown",
   "metadata": {},
   "source": [
    "** switch内部的变量定义 **"
   ]
  },
  {
   "cell_type": "markdown",
   "metadata": {},
   "source": [
    "## 迭代语句"
   ]
  },
  {
   "cell_type": "markdown",
   "metadata": {},
   "source": [
    "### while语句"
   ]
  },
  {
   "cell_type": "code",
   "execution_count": 6,
   "metadata": {
    "collapsed": false
   },
   "outputs": [
    {
     "name": "stdout",
     "output_type": "stream",
     "text": [
      "Overwriting ../../Code/C++PrimerCode/chapter5/while.cpp\n"
     ]
    }
   ],
   "source": [
    "%%writefile ../../Code/C++PrimerCode/chapter5/while.cpp\n",
    "#pragma GCC diagnostic error \"-std=c++11\"  \n",
    "#include<iostream>\n",
    "#include<string>\n",
    "#include <vector>\n",
    "\n",
    "using namespace::std;\n",
    "        \n",
    "int main(){\n",
    "    vector<int> v;\n",
    "    int i;\n",
    "    \n",
    "    while(cin >> i){\n",
    "        v.push_back(i);\n",
    "    }\n",
    "    \n",
    "    auto beg = v.begin();\n",
    "    while(beg != v.end() && *beg >= 0)\n",
    "        ++beg;\n",
    "    \n",
    "    if(beg != v.end())\n",
    "        cout << *beg << endl;\n",
    "    else\n",
    "        cout << \"no\" << endl;\n",
    "    \n",
    "    return 0;\n",
    "}"
   ]
  },
  {
   "cell_type": "code",
   "execution_count": 54,
   "metadata": {
    "collapsed": false
   },
   "outputs": [
    {
     "name": "stdout",
     "output_type": "stream",
     "text": [
      "Overwriting ../../Code/C++PrimerCode/chapter5/while_cnt.cpp\n"
     ]
    }
   ],
   "source": [
    "%%writefile ../../Code/C++PrimerCode/chapter5/while_cnt.cpp\n",
    "#pragma GCC diagnostic error \"-std=c++11\"  \n",
    "#include<iostream>\n",
    "#include<string>\n",
    "#include <vector>\n",
    "\n",
    "using namespace::std;\n",
    "        \n",
    "int main(){\n",
    "    vector<string> v;\n",
    "    string ch;\n",
    "    \n",
    "    while(cin >> ch && ch != \"exit\")\n",
    "        v.push_back(ch);\n",
    "    \n",
    "    auto beg_before = v.begin();\n",
    "    auto beg = ++beg_before;\n",
    "    int cnt = 0;\n",
    "    while(beg != v.end()){\n",
    "        if(*beg == *beg_before){\n",
    "            ++cnt;\n",
    "            beg_before = beg;\n",
    "            cout << cnt << endl;\n",
    "            cout << *beg << endl;\n",
    "        }else{\n",
    "            cnt = 1;\n",
    "            beg_before = beg;\n",
    "            cout << *beg << endl;\n",
    "        }\n",
    "        ++beg;\n",
    "    }\n",
    "    return 0;\n",
    "}"
   ]
  },
  {
   "cell_type": "code",
   "execution_count": null,
   "metadata": {
    "collapsed": true
   },
   "outputs": [],
   "source": []
  }
 ],
 "metadata": {
  "kernelspec": {
   "display_name": "Python [Root]",
   "language": "python",
   "name": "Python [Root]"
  },
  "language_info": {
   "codemirror_mode": {
    "name": "ipython",
    "version": 3
   },
   "file_extension": ".py",
   "mimetype": "text/x-python",
   "name": "python",
   "nbconvert_exporter": "python",
   "pygments_lexer": "ipython3",
   "version": "3.5.1"
  }
 },
 "nbformat": 4,
 "nbformat_minor": 0
}
