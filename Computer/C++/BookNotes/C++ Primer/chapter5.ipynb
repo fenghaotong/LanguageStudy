{
 "cells": [
  {
   "cell_type": "markdown",
   "metadata": {},
   "source": [
    "# 语句\n",
    "\n",
    "- [X] 简单语句\n",
    "- [X] 语句作用域\n",
    "- [X] 条件语句\n",
    "- [X] 迭代语句\n",
    "- [X] 跳转语句\n",
    "- [X] try语句块和异常处理"
   ]
  },
  {
   "cell_type": "markdown",
   "metadata": {},
   "source": [
    "## 简单语句"
   ]
  },
  {
   "cell_type": "markdown",
   "metadata": {},
   "source": [
    "- 空语句（`;`）\n",
    "- 别漏写分号，也别多写分号\n",
    "- 复合语句（块）"
   ]
  },
  {
   "cell_type": "markdown",
   "metadata": {},
   "source": [
    "## 语句作用域"
   ]
  },
  {
   "cell_type": "markdown",
   "metadata": {},
   "source": [
    "## 条件语句"
   ]
  },
  {
   "cell_type": "markdown",
   "metadata": {},
   "source": [
    "### if语句"
   ]
  },
  {
   "cell_type": "markdown",
   "metadata": {},
   "source": [
    "```C++\n",
    "if(grade < 60)\n",
    "    lettergrade = scores[0];\n",
    "else{\n",
    "    lettergrade = scores[(grade-50)/10];\n",
    "    if(grade != 100)\n",
    "        if(grade % 10 > 7)\n",
    "            lettergrade += '+';\n",
    "        else if (grade % 10 < 3)\n",
    "            lettergrade += '-';\n",
    "}\n",
    "```"
   ]
  },
  {
   "cell_type": "markdown",
   "metadata": {},
   "source": [
    "```C++\n",
    "(grade < 60) ? scores[0] : scores[[grade-50)/10];\n",
    "```"
   ]
  },
  {
   "cell_type": "markdown",
   "metadata": {},
   "source": [
    "### switch语句"
   ]
  },
  {
   "cell_type": "markdown",
   "metadata": {
    "collapsed": true
   },
   "source": [
    "```C++\n",
    "unsigned aCnt = 0, eCnt = 0,iCnt = 0, oCnt = 0,uCnt = 0;\n",
    "char ch;\n",
    "\n",
    "while(cin >> ch){\n",
    "    switch(ch){\n",
    "        case 'a':\n",
    "            aCnt++;\n",
    "            break;\n",
    "        case 'e':\n",
    "            eCnt++;\n",
    "            break;\n",
    "        case 'a':\n",
    "            iCnt++;\n",
    "            break;\n",
    "        case 'a':\n",
    "            oCnt++;\n",
    "            break;\n",
    "        case 'a':\n",
    "            uCnt++;\n",
    "            break;\n",
    "    }\n",
    "}\n",
    "```"
   ]
  },
  {
   "cell_type": "markdown",
   "metadata": {},
   "source": [
    "> case必须是整型常量表达式"
   ]
  },
  {
   "cell_type": "markdown",
   "metadata": {},
   "source": [
    "** switch内部的控制流 **"
   ]
  },
  {
   "cell_type": "markdown",
   "metadata": {},
   "source": [
    "```C++\n",
    "switch(ch){   //计算这几个字母一共出现的次数\n",
    "    case 'a'：\n",
    "    case 'e'：\n",
    "    case 'i'：\n",
    "    case 'o'：\n",
    "    case 'u'：\n",
    "        ++vowelCnt;\n",
    "        break;\n",
    "}\n",
    "```"
   ]
  },
  {
   "cell_type": "markdown",
   "metadata": {},
   "source": [
    "```C++\n",
    "switch(ch){   //计算这几个字母一共出现的次数\n",
    "    case 'a'：\n",
    "    case 'e'：\n",
    "    case 'i'：\n",
    "    case 'o'：\n",
    "    case 'u'：\n",
    "        ++vowelCnt;\n",
    "        break;\n",
    "    default:\n",
    "        ++otherCnt;\n",
    "        break;\n",
    "}\n",
    "```"
   ]
  },
  {
   "cell_type": "markdown",
   "metadata": {},
   "source": [
    "** switch内部的变量定义 **"
   ]
  },
  {
   "cell_type": "markdown",
   "metadata": {},
   "source": [
    "## 迭代语句"
   ]
  },
  {
   "cell_type": "markdown",
   "metadata": {},
   "source": [
    "### while语句"
   ]
  },
  {
   "cell_type": "code",
   "execution_count": 6,
   "metadata": {
    "collapsed": false
   },
   "outputs": [
    {
     "name": "stdout",
     "output_type": "stream",
     "text": [
      "Overwriting ../../Code/C++PrimerCode/chapter5/while.cpp\n"
     ]
    }
   ],
   "source": [
    "%%writefile ../../Code/C++PrimerCode/chapter5/while.cpp\n",
    "#pragma GCC diagnostic error \"-std=c++11\"  \n",
    "#include<iostream>\n",
    "#include<string>\n",
    "#include <vector>\n",
    "\n",
    "using namespace::std;\n",
    "        \n",
    "int main(){\n",
    "    vector<int> v;\n",
    "    int i;\n",
    "    \n",
    "    while(cin >> i){\n",
    "        v.push_back(i);\n",
    "    }\n",
    "    \n",
    "    auto beg = v.begin();\n",
    "    while(beg != v.end() && *beg >= 0)\n",
    "        ++beg;\n",
    "    \n",
    "    if(beg != v.end())\n",
    "        cout << *beg << endl;\n",
    "    else\n",
    "        cout << \"no\" << endl;\n",
    "    \n",
    "    return 0;\n",
    "}"
   ]
  },
  {
   "cell_type": "code",
   "execution_count": 54,
   "metadata": {
    "collapsed": false
   },
   "outputs": [
    {
     "name": "stdout",
     "output_type": "stream",
     "text": [
      "Overwriting ../../Code/C++PrimerCode/chapter5/while_cnt.cpp\n"
     ]
    }
   ],
   "source": [
    "%%writefile ../../Code/C++PrimerCode/chapter5/while_cnt.cpp\n",
    "#pragma GCC diagnostic error \"-std=c++11\"  \n",
    "#include<iostream>\n",
    "#include<string>\n",
    "#include <vector>\n",
    "\n",
    "using namespace::std;\n",
    "        \n",
    "int main(){\n",
    "    vector<string> v;\n",
    "    string ch;\n",
    "    \n",
    "    while(cin >> ch && ch != \"exit\")\n",
    "        v.push_back(ch);\n",
    "    \n",
    "    auto beg_before = v.begin();\n",
    "    auto beg = ++beg_before;\n",
    "    int cnt = 0;\n",
    "    while(beg != v.end()){\n",
    "        if(*beg == *beg_before){\n",
    "            ++cnt;\n",
    "            beg_before = beg;\n",
    "            cout << cnt << endl;\n",
    "            cout << *beg << endl;\n",
    "        }else{\n",
    "            cnt = 1;\n",
    "            beg_before = beg;\n",
    "            cout << *beg << endl;\n",
    "        }\n",
    "        ++beg;\n",
    "    }\n",
    "    return 0;\n",
    "}"
   ]
  },
  {
   "cell_type": "markdown",
   "metadata": {
    "collapsed": true
   },
   "source": [
    "### 传统的for语句"
   ]
  },
  {
   "cell_type": "markdown",
   "metadata": {},
   "source": [
    "```C++\n",
    "for (init-statement; condition; expression)\n",
    "    statement;\n",
    "```"
   ]
  },
  {
   "cell_type": "code",
   "execution_count": 2,
   "metadata": {
    "collapsed": false
   },
   "outputs": [
    {
     "name": "stdout",
     "output_type": "stream",
     "text": [
      "Overwriting ../../Code/C++PrimerCode/chapter5/17.cpp\n"
     ]
    }
   ],
   "source": [
    "%%writefile ../../Code/C++PrimerCode/chapter5/17.cpp\n",
    "\n",
    "\n",
    "#pragma GCC diagnostic error \"-std=c++11\"  \n",
    "#include <iostream>\n",
    "#include <vector>\n",
    "\n",
    "using namespace::std;\n",
    "\n",
    "int main(){\n",
    "\tvector<int> data1,data2;\n",
    "\tint a;\n",
    "\tint b;\n",
    "\n",
    "\tcout << \"input data1:\" << endl;\n",
    "\twhile(cin >> a && a != 00)\n",
    "\t\tdata1.push_back(a);\n",
    "\n",
    "\tcout << \"input data2:\" << endl;\n",
    "\twhile(cin >> b && b != 00)\n",
    "\t\tdata2.push_back(b);\n",
    "\n",
    "\tint small_size = data1.size() < data2.size() ? data1.size() : data2.size();\n",
    "\tint i;\n",
    "\n",
    "\tfor(i = 0; i < small_size; i++){\n",
    "\t\tif(data1[i] != data2[i]){\n",
    "\t\t\tcout << \"flase\" << endl;\n",
    "\t\t}\n",
    "\t}\n",
    "\tif(i == small_size)\n",
    "\t\tcout << \"True\" << endl;\n",
    "\treturn 0;\n",
    "}"
   ]
  },
  {
   "cell_type": "markdown",
   "metadata": {},
   "source": [
    "### 范围for语句"
   ]
  },
  {
   "cell_type": "markdown",
   "metadata": {},
   "source": [
    "- c++11的新标准\n",
    "```C++\n",
    "for (declaration : expression)\n",
    "    statement;\n",
    "```"
   ]
  },
  {
   "cell_type": "markdown",
   "metadata": {},
   "source": [
    "```C++\n",
    "//新语法\n",
    "vector<int> v = {0,1,2,3,4,5}\n",
    "for (auto &r : v)\n",
    "    r *= 2;    //将v中的每个元素值翻倍\n",
    "\n",
    "//传统语法\n",
    "for(auto beg = v.begin(), end = v.end(); beg != end; ++beg)\n",
    "    auto &r = *beg; //r必须是引用类型，才能对元素执行写操作\n",
    "    r *= 2;\n",
    "```"
   ]
  },
  {
   "cell_type": "markdown",
   "metadata": {},
   "source": [
    "### do while语句"
   ]
  },
  {
   "cell_type": "code",
   "execution_count": 8,
   "metadata": {
    "collapsed": false
   },
   "outputs": [
    {
     "name": "stdout",
     "output_type": "stream",
     "text": [
      "Overwriting ../../Code/C++PrimerCode/chapter5/dowhile.cpp\n"
     ]
    }
   ],
   "source": [
    "%%writefile ../../Code/C++PrimerCode/chapter5/dowhile.cpp\n",
    "/*\n",
    " * This file contains code from \"C++ Primer, Fifth Edition\", by htfeng.\n",
    " * \n",
    " * \"Copyright (c) 2017 by Objectwrite.\"\n",
    " * Date: 2017-08-20\n",
    " * Time: 11:20\n",
    " *\n",
    " * The purpose of this code is to test \"do...while\".\n",
    " *\n",
    " * If you have any question,please contact me.\n",
    " * \n",
    " * Email:1054708869@qq.com\n",
    "*/ \n",
    "#pragma GCC diagnostic error \"-std=c++11\"  \n",
    "#include <iostream>\n",
    "#include <vector>\n",
    "#include <string>\n",
    "\n",
    "using namespace::std;\n",
    "\n",
    "int main(){\n",
    "\tstring rsp;\n",
    "\tdo{\n",
    "\t\tint val1 = 0, val2 = 0;\n",
    "\n",
    "\t\tcout << \"please input two values:\";\n",
    "\t\tcin >>  val1 >> val2;\n",
    "\t\tcout << \"The sum of \" << val1 << \" and \" << val2 \n",
    "\t\t\t << \" = \" << val1 +val2 << \"\\n\\n\" \n",
    "\t\t\t << \"More?Enter yes or no:\";\n",
    "\t\tcin >> rsp;\n",
    "\t}while(!rsp.empty() && rsp[0] != 'n');\n",
    "\treturn 0;\n",
    "}"
   ]
  },
  {
   "cell_type": "code",
   "execution_count": 12,
   "metadata": {
    "collapsed": false
   },
   "outputs": [
    {
     "name": "stdout",
     "output_type": "stream",
     "text": [
      "Overwriting ../../Code/C++PrimerCode/chapter5/19.cpp\n"
     ]
    }
   ],
   "source": [
    "%%writefile ../../Code/C++PrimerCode/chapter5/19.cpp\n",
    "/*\n",
    " * This code is writed by htfeng.\n",
    " * \n",
    " * \"Copyright (c) 2017 by Objectwrite.\"\n",
    " * Date: 2017-08-20\n",
    " * Time: 11:20\n",
    " *\n",
    " * The code is the answer  to exercise 19 of the fifth chapter about the book \"C++ Primer, Fifth Edition\".\n",
    " *\n",
    " * If you have any question,please contact me.\n",
    " * \n",
    " * Email:1054708869@qq.com\n",
    "*/ \n",
    "#pragma GCC diagnostic error \"-std=c++11\"  \n",
    "#include <iostream>\n",
    "#include <vector>\n",
    "#include <string>\n",
    "\n",
    "using namespace::std;\n",
    "\n",
    "int main(){\n",
    "\tdo{\n",
    "\t\tstring str1, str2;\n",
    "\t\tcout << \"please input two string:\";\n",
    "\t\tcin >> str1 >> str2;\n",
    "\t\tcout << (str1.size() < str2.size() ? str1 : str2) << endl;\n",
    "\t}while(cin);\n",
    "\treturn 0;\n",
    "}"
   ]
  },
  {
   "cell_type": "markdown",
   "metadata": {},
   "source": [
    "## 跳转语句"
   ]
  },
  {
   "cell_type": "markdown",
   "metadata": {},
   "source": [
    "### break语句\n",
    "\n",
    "- 负责终止离他最近的while、do while、for 或者switch语句\n",
    "- 并从这些语之后的第一条语句开始继续执行"
   ]
  },
  {
   "cell_type": "markdown",
   "metadata": {},
   "source": [
    "```C++\n",
    "string buf;\n",
    "while (cin >> buf && !buf.empty()){\n",
    "    switch(buf[0]){\n",
    "    case '-':\n",
    "        for(auto it = buf.begin() + 1; it != buf.end(); ++it){\n",
    "            if(*it == ' ')\n",
    "                break; //跳出for循环\n",
    "        }\n",
    "        break;  //跳出switch循环\n",
    "    case '+':\n",
    "        //....\n",
    "    }\n",
    "}\n",
    "```"
   ]
  },
  {
   "cell_type": "code",
   "execution_count": 15,
   "metadata": {
    "collapsed": false
   },
   "outputs": [
    {
     "name": "stdout",
     "output_type": "stream",
     "text": [
      "Overwriting ../../Code/C++PrimerCode/chapter5/20.cpp\n"
     ]
    }
   ],
   "source": [
    "%%writefile ../../Code/C++PrimerCode/chapter5/20.cpp\n",
    "/*\n",
    " * This code is writed by htfeng.\n",
    " * \n",
    " * \"Copyright (c) 2017 by Objectwrite.\"\n",
    " * Date: 2017-08-20\n",
    " * Time: 14:40\n",
    " *\n",
    " * The code is the answer to exercise 20 of the fifth chapter about the book \"C++ Primer, Fifth Edition\".\n",
    " *\n",
    " * If you have any question,please contact me.\n",
    " * \n",
    " * Email:1054708869@qq.com\n",
    "*/ \n",
    "#pragma GCC diagnostic error \"-std=c++11\"  \n",
    "#include <iostream>\n",
    "#include <string>\n",
    "#include <vector>\n",
    "\n",
    "using namespace::std;\n",
    "\n",
    "int main(){\n",
    "\tvector<string> my_str;\n",
    "\tstring a;\n",
    "\twhile(cin >> a && a != \"exit\")\n",
    "\t\tmy_str.push_back(a);\n",
    "\n",
    "\n",
    "\tauto str_before = my_str.begin();\n",
    "\tauto str = my_str.begin() + 1;\n",
    "\tint i = 1;\n",
    "\n",
    "\n",
    "\twhile(str != my_str.end()){\n",
    "\t\tif(*str != *str_before){\n",
    "\t\t\tstr_before = str;\n",
    "\t\t\t++str;\n",
    "\t\t}else{\n",
    "\t\t\t++i;\n",
    "\t\t\tif(i == 2)\n",
    "\t\t\t\tcout << *str << endl;\n",
    "\t\t\t\tbreak;\n",
    "\t\t}\n",
    "\t}\n",
    "\tif(str == my_str.end()){\n",
    "\t\tcout << \"no word repeat\" << endl;\n",
    "\t}\n",
    "\t\n",
    "\treturn 0;\n",
    "}\n"
   ]
  },
  {
   "cell_type": "markdown",
   "metadata": {},
   "source": [
    "### continue语句\n",
    "\n",
    "- 只能出现在for、while和do while循环的内部\n",
    "- 跳出这一次的迭代，进入下一次的迭代"
   ]
  },
  {
   "cell_type": "markdown",
   "metadata": {},
   "source": [
    "### goto语句"
   ]
  },
  {
   "cell_type": "markdown",
   "metadata": {},
   "source": [
    "## try语句块和异常处理"
   ]
  },
  {
   "cell_type": "markdown",
   "metadata": {},
   "source": [
    "在C++语言中，异常处理包括：\n",
    "- throw表达式，异常检测部分使用throw表达式来表示它遇到了无法处理的问题，我们说throw引发了异常\n",
    "- try语句块，异常处理部分使用try语句块处理异常。try语句块中的代码抛出的异常通常会被某个catch子句处理。因为catch子句处理异常，所以它们被称作异常处理代码\n",
    "- 一套异常类，用于在throw表达式和相关的catch子句之间传递异常的具体信息。"
   ]
  },
  {
   "cell_type": "markdown",
   "metadata": {},
   "source": [
    "### throw表达式"
   ]
  },
  {
   "cell_type": "markdown",
   "metadata": {},
   "source": [
    "### try语句块"
   ]
  },
  {
   "cell_type": "code",
   "execution_count": 1,
   "metadata": {
    "collapsed": false
   },
   "outputs": [
    {
     "name": "stdout",
     "output_type": "stream",
     "text": [
      "Overwriting ../../Code/C++PrimerCode/chapter5/error.cpp\n"
     ]
    }
   ],
   "source": [
    "%%writefile ../../Code/C++PrimerCode/chapter5/error.cpp\n",
    "/*\n",
    " * This code is writed by htfeng.\n",
    " * \n",
    " * \"Copyright (c) 2017 by Objectwrite.\"\n",
    " * Date: 2017-08-20\n",
    " * Time: 15:40\n",
    " *\n",
    " * The purpose of this code is to test \"try...catch\".\n",
    " *\n",
    " * If you have any question,please contact me.\n",
    " * \n",
    " * Email:1054708869@qq.com\n",
    "*/ \n",
    "#pragma GCC diagnostic error \"-std=c++11\"  \n",
    "#include <iostream>\n",
    "#include <stdexcept>\n",
    "#include <string>\n",
    "\n",
    "\n",
    "using namespace::std;\n",
    "\n",
    "int main(){\n",
    "\tSales_item item1,item2;\n",
    "\n",
    "\twhile(cin >> item1 >> item2){\n",
    "\t\ttry{\n",
    "\t\t\tif (item1.isbn() != item2.isbn())\n",
    "\t\t\t\tthrow runtime_error(\"Data must refer to same ISBN\");\n",
    "\t\t\tcout << item1 + item2 << endl;\n",
    "\t\t}catch(runtime_error err){\n",
    "\t\t\tcout << err.what()\n",
    "\t\t\t\t << \"\\nTry again?Enter y or n:\" << endl;\n",
    "\t\t\tchar c;\n",
    "\t\t\tcin >> c;\n",
    "\t\t\tif(!cin || c == 'n')\n",
    "\t\t\t\tbreak;\n",
    "\t\t}\n",
    "\t}\n",
    "}"
   ]
  },
  {
   "cell_type": "markdown",
   "metadata": {},
   "source": [
    "\n",
    "### 标准异常"
   ]
  },
  {
   "cell_type": "markdown",
   "metadata": {},
   "source": [
    "- c++标准定义了一组类，用于报告标准库函数遇到的问题，这些异常类也可以在用户编写的程序中使用，它们分别定义在4个头文件中：\n",
    "    - exception头文件定义了最通用的异常类exception。它只报告异常的发生，不提供任何额外信息。\n",
    "    - stdexcept头文件定义了几种常用的异常类\n",
    "    - new头文件定义了bad_alloc异常类型\n",
    "    - type_info头文件定义了bad_cast异常类型。"
   ]
  },
  {
   "cell_type": "markdown",
   "metadata": {},
   "source": [
    "||`<stdexcept>`定义的异常类|\n",
    "|:---:|:---|\n",
    "|exception|最常见的问题|\n",
    "|runtime_error|只有在运行时才能检测出的问题|\n",
    "|range_error|运行时出错：生成的结果超出了有意义的值域范围|\n",
    "|overflow_error|运行时错误：计算上溢|\n",
    "|underflow_error|运行时错误：计算下溢|\n",
    "|logic_error|程序逻辑错误|\n",
    "|domain_error|逻辑错误：参数对应的的结果值不存在|\n",
    "|invalid_argument|逻辑错误：无效参数|\n",
    "|length_error|逻辑错误：试图创建一个超出该类型最大长度的对象|\n",
    "|out_of_range|逻辑错误：使用一个超出有效范围的值|"
   ]
  },
  {
   "cell_type": "code",
   "execution_count": 3,
   "metadata": {
    "collapsed": false
   },
   "outputs": [
    {
     "name": "stdout",
     "output_type": "stream",
     "text": [
      "Overwriting ../../Code/C++PrimerCode/chapter5/23.cpp\n"
     ]
    }
   ],
   "source": [
    "%%writefile ../../Code/C++PrimerCode/chapter5/23.cpp\n",
    "/*\n",
    " * This code is writed by htfeng.\n",
    " * \n",
    " * \"Copyright (c) 2017 by Objectwrite.\"\n",
    " * Date: 2017-08-20\n",
    " * Time: 15:40\n",
    " *\n",
    " *  The code is the answer to exercise 23 of the fifth chapter about the book \"C++ Primer, Fifth Edition\".\n",
    " *\n",
    " * If you have any question,please contact me.\n",
    " * \n",
    " * Email:1054708869@qq.com\n",
    "*/ \n",
    "#pragma GCC diagnostic error \"-std=c++11\"  \n",
    "#include <iostream>\n",
    "#include <stdexcept>\n",
    "#include <string>\n",
    "\n",
    "using namespace::std;\n",
    "\n",
    "int main(){\n",
    "\n",
    "\tint a,b,c;\n",
    "\n",
    "\twhile(1){\n",
    "\n",
    "\t\tcin >> a;\n",
    "\t\tcin >> b;\n",
    "\n",
    "\t\ttry{\n",
    "\t\t\tif(b == 0)\n",
    "\t\t\t\tthrow runtime_error(\"Data b input error\");\n",
    "\t\t\tc = a/b;\n",
    "\n",
    "\t\t}catch(runtime_error err){\n",
    "\t\t\tcout << \"\\nerror!Try again? Enter y or n:\" <<endl;\n",
    "\t\t\tchar i;\n",
    "\t\t\tcin >> i;\n",
    "\t\t\tif (!cin || i == 'n')\n",
    "\t\t\t\tbreak;\n",
    "\t\t}\n",
    "\t}\n",
    "\n",
    "\tcout << c << endl;\n",
    "\t\n",
    "    return 0;\n",
    "}"
   ]
  },
  {
   "cell_type": "code",
   "execution_count": null,
   "metadata": {
    "collapsed": true
   },
   "outputs": [],
   "source": []
  }
 ],
 "metadata": {
  "kernelspec": {
   "display_name": "Python [Root]",
   "language": "python",
   "name": "Python [Root]"
  },
  "language_info": {
   "codemirror_mode": {
    "name": "ipython",
    "version": 3
   },
   "file_extension": ".py",
   "mimetype": "text/x-python",
   "name": "python",
   "nbconvert_exporter": "python",
   "pygments_lexer": "ipython3",
   "version": "3.5.1"
  }
 },
 "nbformat": 4,
 "nbformat_minor": 0
}
