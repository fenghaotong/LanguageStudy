{
 "cells": [
  {
   "cell_type": "markdown",
   "metadata": {},
   "source": [
    "# 机器学习计划"
   ]
  },
  {
   "cell_type": "markdown",
   "metadata": {},
   "source": [
    "## 基础"
   ]
  },
  {
   "cell_type": "markdown",
   "metadata": {},
   "source": [
    "- [ ] [概率](Notes/BasicKnowledge/ProbabilityTheory/README.md)\n",
    "- [ ] [统计学](Notes/BasicKnowledge/Statistics/README.md)\n",
    "- [ ] [线性代数](Notes/BasicKnowledge/LinearAlgebra/README.md)\n",
    "- [ ] [C++](../C++/README.md)\n",
    "- [ ] [Python](../Python/README.md)"
   ]
  },
  {
   "cell_type": "markdown",
   "metadata": {},
   "source": [
    "## 主题"
   ]
  },
  {
   "cell_type": "markdown",
   "metadata": {},
   "source": [
    "- [ ] [DataMining](Notes/DataMining/README.md)\n",
    "- [ ] [MachineLearninginAction](Notes/MachineLearninginAction/README.md)\n",
    "- [ ] [斯坦福公开课](Notes/斯坦福公开课/README.md)\n",
    "- [ ] [公开课作业](https://www.coursera.org/learn/machine-learning)\n",
    "- [ ] [机器学习周志华](Notes/机器学习周志华/README.md)\n",
    "- [ ] [Spark/Hadoop](Spark/Hadoop)"
   ]
  },
  {
   "cell_type": "markdown",
   "metadata": {},
   "source": [
    "## 资料"
   ]
  },
  {
   "cell_type": "markdown",
   "metadata": {},
   "source": [
    "- http://blog.csdn.net/zhongwen7710/article/details/45331915\n",
    "- http://www.360doc.com/content/16/0301/13/17753496_538519867.shtml"
   ]
  },
  {
   "cell_type": "code",
   "execution_count": null,
   "metadata": {
    "collapsed": true
   },
   "outputs": [],
   "source": []
  }
 ],
 "metadata": {
  "kernelspec": {
   "display_name": "Python [Root]",
   "language": "python",
   "name": "Python [Root]"
  },
  "language_info": {
   "codemirror_mode": {
    "name": "ipython",
    "version": 3
   },
   "file_extension": ".py",
   "mimetype": "text/x-python",
   "name": "python",
   "nbconvert_exporter": "python",
   "pygments_lexer": "ipython3",
   "version": "3.5.1"
  }
 },
 "nbformat": 4,
 "nbformat_minor": 0
}
