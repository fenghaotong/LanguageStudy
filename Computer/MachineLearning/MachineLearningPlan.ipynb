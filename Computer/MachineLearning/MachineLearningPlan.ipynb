{
 "cells": [
  {
   "cell_type": "markdown",
   "metadata": {},
   "source": [
    "# 机器学习计划\n",
    "\n",
    "- 这是每天的自学计划\n",
    "- c++大概三小时左右\n",
    "- 机器学习大概三小时左右"
   ]
  },
  {
   "cell_type": "markdown",
   "metadata": {},
   "source": [
    "## 基础"
   ]
  },
  {
   "cell_type": "markdown",
   "metadata": {},
   "source": [
    "- [X] [概率](Notes/BasicKnowledge/ProbabilityTheory/README.md)(结束时间2017.9.2)\n",
    "- [X] [统计学](Notes/BasicKnowledge/Statistics/README.md)（2017.9.2-2017.9.12）\n",
    "- [ ] [线性代数](Notes/BasicKnowledge/LinearAlgebra/README.md)（2017.9.12-2017.9.30）\n",
    "- [ ] [C++](../C++/README.md)（-2017.10.30）\n",
    "- [ ] [Python](../Python/README.md)(2017.9.1-)\n",
    "- [ ] [C++实战](../C++/README.md)(2017.9.1-)"
   ]
  },
  {
   "cell_type": "markdown",
   "metadata": {},
   "source": [
    "## 主题"
   ]
  },
  {
   "cell_type": "markdown",
   "metadata": {},
   "source": [
    "- [ ] [DataMining](Notes/DataMining/README.md)（2017.9.30-2017.10.30）\n",
    "- [ ] [MachineLearninginAction](Notes/MachineLearninginAction/README.md)(2017.10.30-2017.11.30)\n",
    "- [ ] [斯坦福公开课](Notes/斯坦福公开课/README.md)(2017.11.30-2017.12.30)\n",
    "- [ ] [公开课作业](https://www.coursera.org/learn/machine-learning)(2017.11.30-2017.12.30)\n",
    "- [ ] [机器学习周志华](Notes/机器学习周志华/README.md)(2017.12.30-2018.1.30)\n",
    "- [ ] [Spark/Hadoop](Spark/Hadoop)(2018.1.30-)\n",
    "- [ ] [深度学习第一阶段](http://course.fast.ai/lessons/lesson1.html)(2018.1.30-2018.2.30)\n",
    "- [ ] [深度学习第二阶段](http://study.163.com/my#/smarts)(2018.2.30-2018.3.30)"
   ]
  },
  {
   "cell_type": "markdown",
   "metadata": {},
   "source": [
    "## 资料"
   ]
  },
  {
   "cell_type": "markdown",
   "metadata": {},
   "source": [
    "- http://blog.csdn.net/zhongwen7710/article/details/45331915\n",
    "- http://www.360doc.com/content/16/0301/13/17753496_538519867.shtml"
   ]
  },
  {
   "cell_type": "code",
   "execution_count": null,
   "metadata": {
    "collapsed": true
   },
   "outputs": [],
   "source": []
  }
 ],
 "metadata": {
  "kernelspec": {
   "display_name": "Python 3",
   "language": "python",
   "name": "python3"
  },
  "language_info": {
   "codemirror_mode": {
    "name": "ipython",
    "version": 3
   },
   "file_extension": ".py",
   "mimetype": "text/x-python",
   "name": "python",
   "nbconvert_exporter": "python",
   "pygments_lexer": "ipython3",
   "version": "3.6.1"
  }
 },
 "nbformat": 4,
 "nbformat_minor": 1
}
